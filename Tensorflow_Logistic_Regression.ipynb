{
  "nbformat": 4,
  "nbformat_minor": 0,
  "metadata": {
    "colab": {
      "name": "Tensorflow_Logistic_Regression.ipynb",
      "provenance": [],
      "mount_file_id": "1RGSY5tMmp8ZKUrPTrf_OtDsm2JBpGkqf",
      "authorship_tag": "ABX9TyOnX9IyvOJIzOADD0AkFWXp",
      "include_colab_link": true
    },
    "kernelspec": {
      "name": "python3",
      "display_name": "Python 3"
    }
  },
  "cells": [
    {
      "cell_type": "markdown",
      "metadata": {
        "id": "view-in-github",
        "colab_type": "text"
      },
      "source": [
        "<a href=\"https://colab.research.google.com/github/HIsu1231/AI_INOVATION_SQUARE/blob/master/Tensorflow_Logistic_Regression.ipynb\" target=\"_parent\"><img src=\"https://colab.research.google.com/assets/colab-badge.svg\" alt=\"Open In Colab\"/></a>"
      ]
    },
    {
      "cell_type": "code",
      "metadata": {
        "colab": {
          "base_uri": "https://localhost:8080/"
        },
        "id": "U8aaJW5YsZvJ",
        "outputId": "58921b0f-0bc1-446f-99eb-33ab7cccd348"
      },
      "source": [
        "!pip uninstall tensorflow"
      ],
      "execution_count": 1,
      "outputs": [
        {
          "output_type": "stream",
          "text": [
            "Uninstalling tensorflow-2.3.0:\n",
            "  Would remove:\n",
            "    /usr/local/bin/estimator_ckpt_converter\n",
            "    /usr/local/bin/saved_model_cli\n",
            "    /usr/local/bin/tensorboard\n",
            "    /usr/local/bin/tf_upgrade_v2\n",
            "    /usr/local/bin/tflite_convert\n",
            "    /usr/local/bin/toco\n",
            "    /usr/local/bin/toco_from_protos\n",
            "    /usr/local/lib/python3.6/dist-packages/tensorflow-2.3.0.dist-info/*\n",
            "    /usr/local/lib/python3.6/dist-packages/tensorflow/*\n",
            "Proceed (y/n)? y\n",
            "  Successfully uninstalled tensorflow-2.3.0\n"
          ],
          "name": "stdout"
        }
      ]
    },
    {
      "cell_type": "code",
      "metadata": {
        "colab": {
          "base_uri": "https://localhost:8080/"
        },
        "id": "bbyIwPmBscEZ",
        "outputId": "ec104c78-50c1-4eae-90df-fc44926e1629"
      },
      "source": [
        "!pip install tensorflow==1.15"
      ],
      "execution_count": 3,
      "outputs": [
        {
          "output_type": "stream",
          "text": [
            "Collecting tensorflow==1.15\n",
            "\u001b[?25l  Downloading https://files.pythonhosted.org/packages/3f/98/5a99af92fb911d7a88a0005ad55005f35b4c1ba8d75fba02df726cd936e6/tensorflow-1.15.0-cp36-cp36m-manylinux2010_x86_64.whl (412.3MB)\n",
            "\u001b[K     |████████████████████████████████| 412.3MB 28kB/s \n",
            "\u001b[?25hRequirement already satisfied: absl-py>=0.7.0 in /usr/local/lib/python3.6/dist-packages (from tensorflow==1.15) (0.10.0)\n",
            "Requirement already satisfied: protobuf>=3.6.1 in /usr/local/lib/python3.6/dist-packages (from tensorflow==1.15) (3.12.4)\n",
            "Requirement already satisfied: astor>=0.6.0 in /usr/local/lib/python3.6/dist-packages (from tensorflow==1.15) (0.8.1)\n",
            "Requirement already satisfied: opt-einsum>=2.3.2 in /usr/local/lib/python3.6/dist-packages (from tensorflow==1.15) (3.3.0)\n",
            "Requirement already satisfied: keras-preprocessing>=1.0.5 in /usr/local/lib/python3.6/dist-packages (from tensorflow==1.15) (1.1.2)\n",
            "Collecting tensorboard<1.16.0,>=1.15.0\n",
            "\u001b[?25l  Downloading https://files.pythonhosted.org/packages/1e/e9/d3d747a97f7188f48aa5eda486907f3b345cd409f0a0850468ba867db246/tensorboard-1.15.0-py3-none-any.whl (3.8MB)\n",
            "\u001b[K     |████████████████████████████████| 3.8MB 31.9MB/s \n",
            "\u001b[?25hCollecting keras-applications>=1.0.8\n",
            "\u001b[?25l  Downloading https://files.pythonhosted.org/packages/71/e3/19762fdfc62877ae9102edf6342d71b28fbfd9dea3d2f96a882ce099b03f/Keras_Applications-1.0.8-py3-none-any.whl (50kB)\n",
            "\u001b[K     |████████████████████████████████| 51kB 5.2MB/s \n",
            "\u001b[?25hRequirement already satisfied: termcolor>=1.1.0 in /usr/local/lib/python3.6/dist-packages (from tensorflow==1.15) (1.1.0)\n",
            "Requirement already satisfied: google-pasta>=0.1.6 in /usr/local/lib/python3.6/dist-packages (from tensorflow==1.15) (0.2.0)\n",
            "Requirement already satisfied: numpy<2.0,>=1.16.0 in /usr/local/lib/python3.6/dist-packages (from tensorflow==1.15) (1.18.5)\n",
            "Requirement already satisfied: six>=1.10.0 in /usr/local/lib/python3.6/dist-packages (from tensorflow==1.15) (1.15.0)\n",
            "Requirement already satisfied: grpcio>=1.8.6 in /usr/local/lib/python3.6/dist-packages (from tensorflow==1.15) (1.34.0)\n",
            "Requirement already satisfied: wheel>=0.26 in /usr/local/lib/python3.6/dist-packages (from tensorflow==1.15) (0.36.1)\n",
            "Collecting tensorflow-estimator==1.15.1\n",
            "\u001b[?25l  Downloading https://files.pythonhosted.org/packages/de/62/2ee9cd74c9fa2fa450877847ba560b260f5d0fb70ee0595203082dafcc9d/tensorflow_estimator-1.15.1-py2.py3-none-any.whl (503kB)\n",
            "\u001b[K     |████████████████████████████████| 512kB 41.7MB/s \n",
            "\u001b[?25hCollecting gast==0.2.2\n",
            "  Downloading https://files.pythonhosted.org/packages/4e/35/11749bf99b2d4e3cceb4d55ca22590b0d7c2c62b9de38ac4a4a7f4687421/gast-0.2.2.tar.gz\n",
            "Requirement already satisfied: wrapt>=1.11.1 in /usr/local/lib/python3.6/dist-packages (from tensorflow==1.15) (1.12.1)\n",
            "Requirement already satisfied: setuptools in /usr/local/lib/python3.6/dist-packages (from protobuf>=3.6.1->tensorflow==1.15) (50.3.2)\n",
            "Requirement already satisfied: werkzeug>=0.11.15 in /usr/local/lib/python3.6/dist-packages (from tensorboard<1.16.0,>=1.15.0->tensorflow==1.15) (1.0.1)\n",
            "Requirement already satisfied: markdown>=2.6.8 in /usr/local/lib/python3.6/dist-packages (from tensorboard<1.16.0,>=1.15.0->tensorflow==1.15) (3.3.3)\n",
            "Requirement already satisfied: h5py in /usr/local/lib/python3.6/dist-packages (from keras-applications>=1.0.8->tensorflow==1.15) (2.10.0)\n",
            "Requirement already satisfied: importlib-metadata; python_version < \"3.8\" in /usr/local/lib/python3.6/dist-packages (from markdown>=2.6.8->tensorboard<1.16.0,>=1.15.0->tensorflow==1.15) (3.1.1)\n",
            "Requirement already satisfied: zipp>=0.5 in /usr/local/lib/python3.6/dist-packages (from importlib-metadata; python_version < \"3.8\"->markdown>=2.6.8->tensorboard<1.16.0,>=1.15.0->tensorflow==1.15) (3.4.0)\n",
            "Building wheels for collected packages: gast\n",
            "  Building wheel for gast (setup.py) ... \u001b[?25l\u001b[?25hdone\n",
            "  Created wheel for gast: filename=gast-0.2.2-cp36-none-any.whl size=7542 sha256=62a0637c59db7c3493bf256d2de8b59dfab41152e0bc8c47fef74ebfa22445e0\n",
            "  Stored in directory: /root/.cache/pip/wheels/5c/2e/7e/a1d4d4fcebe6c381f378ce7743a3ced3699feb89bcfbdadadd\n",
            "Successfully built gast\n",
            "\u001b[31mERROR: tensorflow-probability 0.11.0 has requirement gast>=0.3.2, but you'll have gast 0.2.2 which is incompatible.\u001b[0m\n",
            "Installing collected packages: tensorboard, keras-applications, tensorflow-estimator, gast, tensorflow\n",
            "  Found existing installation: tensorboard 2.3.0\n",
            "    Uninstalling tensorboard-2.3.0:\n",
            "      Successfully uninstalled tensorboard-2.3.0\n",
            "  Found existing installation: tensorflow-estimator 2.3.0\n",
            "    Uninstalling tensorflow-estimator-2.3.0:\n",
            "      Successfully uninstalled tensorflow-estimator-2.3.0\n",
            "  Found existing installation: gast 0.3.3\n",
            "    Uninstalling gast-0.3.3:\n",
            "      Successfully uninstalled gast-0.3.3\n",
            "Successfully installed gast-0.2.2 keras-applications-1.0.8 tensorboard-1.15.0 tensorflow-1.15.0 tensorflow-estimator-1.15.1\n"
          ],
          "name": "stdout"
        }
      ]
    },
    {
      "cell_type": "code",
      "metadata": {
        "colab": {
          "base_uri": "https://localhost:8080/",
          "height": 35
        },
        "id": "BLeqYWp3viIU",
        "outputId": "afb8aafc-b7b2-40f1-8b11-ab30acd6d0c0"
      },
      "source": [
        "tf.__version__"
      ],
      "execution_count": 16,
      "outputs": [
        {
          "output_type": "execute_result",
          "data": {
            "application/vnd.google.colaboratory.intrinsic+json": {
              "type": "string"
            },
            "text/plain": [
              "'1.15.0'"
            ]
          },
          "metadata": {
            "tags": []
          },
          "execution_count": 16
        }
      ]
    },
    {
      "cell_type": "code",
      "metadata": {
        "id": "qWrORqizshoP"
      },
      "source": [
        "import numpy as np\r\n",
        "import tensorflow as tf"
      ],
      "execution_count": 4,
      "outputs": []
    },
    {
      "cell_type": "code",
      "metadata": {
        "colab": {
          "base_uri": "https://localhost:8080/"
        },
        "id": "PF3sEBIlsoCO",
        "outputId": "369d1978-c633-4e9b-ee90-5b297f3be598"
      },
      "source": [
        "loaded_data = np.loadtxt('./drive/MyDrive/AI_INOVATION_SQUARE/data/(200309)diabetes.csv', delimiter=',')\r\n",
        "\r\n",
        "x_data = loaded_data[:, 0:-1]\r\n",
        "t_data = loaded_data[:, [-1]]\r\n",
        "\r\n",
        "print(\"loaded_data.shape = \", loaded_data.shape)\r\n",
        "print(\"x_data.shape = \", x_data.shape, \", t_data.shape = \", t_data.shape)"
      ],
      "execution_count": 6,
      "outputs": [
        {
          "output_type": "stream",
          "text": [
            "loaded_data.shape =  (759, 9)\n",
            "x_data.shape =  (759, 8) , t_data.shape =  (759, 1)\n"
          ],
          "name": "stdout"
        }
      ]
    },
    {
      "cell_type": "code",
      "metadata": {
        "id": "uOzfyapos-Ai"
      },
      "source": [
        "X = tf.placeholder(tf.float32, [None,8])\r\n",
        "T = tf.placeholder(tf.float32, [None,1])\r\n",
        "\r\n",
        "W = tf.Variable(tf.random_normal([8,1]))\r\n",
        "b = tf.Variable(tf.random_normal([1]))"
      ],
      "execution_count": 7,
      "outputs": []
    },
    {
      "cell_type": "code",
      "metadata": {
        "id": "XQZGk7c7tPvn"
      },
      "source": [
        "z = tf.matmul(X,W) + b\r\n",
        "\r\n",
        "y = tf.sigmoid(z)\r\n",
        "\r\n",
        "#손실함수 cross_entropy\r\n",
        "loss = -tf.reduce_mean( T * tf.log(y) + (1-T)*tf.log(1-y)) "
      ],
      "execution_count": 9,
      "outputs": []
    },
    {
      "cell_type": "code",
      "metadata": {
        "id": "0Izw2-TitcVf"
      },
      "source": [
        "learning_rate = 0.01\r\n",
        "\r\n",
        "optimizer = tf.train.GradientDescentOptimizer(learning_rate)\r\n",
        "\r\n",
        "train = optimizer.minimize(loss)"
      ],
      "execution_count": 10,
      "outputs": []
    },
    {
      "cell_type": "code",
      "metadata": {
        "id": "VR75W93gtmgw"
      },
      "source": [
        "#tf.cast 함수: 조건에 맞게 bolean 형태(0 or 1)로 캐스팅, 조건이 없으면 dtype에 맞게 캐스팅\r\n",
        "\r\n",
        "predicted = tf.cast(y > 0.5, dtype=tf.float32)\r\n",
        "\r\n",
        "accuracy = tf.reduce_mean(tf.cast(tf.equal(predicted, T), dtype=tf.float32))"
      ],
      "execution_count": 12,
      "outputs": []
    },
    {
      "cell_type": "code",
      "metadata": {
        "colab": {
          "base_uri": "https://localhost:8080/"
        },
        "id": "YkevW4oRuqr5",
        "outputId": "04005c96-c304-4ecb-e423-3499f3dafa47"
      },
      "source": [
        "with tf.Session() as sess:\r\n",
        "\r\n",
        "    sess.run(tf.global_variables_initializer())\r\n",
        "\r\n",
        "    for step in range(20001):\r\n",
        "        \r\n",
        "        loss_val, _ = sess.run([loss, train], feed_dict={X: x_data, T: t_data})\r\n",
        "\r\n",
        "        if step % 500 == 0:\r\n",
        "            print(\"step = \", step, \", loss_val = \", loss_val)\r\n",
        "\r\n",
        "    y_val, predicted_val, accuracy_val = sess.run([y, predicted, accuracy], feed_dict={X: x_data, T:t_data})\r\n",
        "\r\n",
        "    print(\"\\ny_val.shape = \", y_val.shape, \", predicted_val = \", predicted_val.shape)\r\n",
        "    print(\"\\nAccuracy = \", accuracy_val)"
      ],
      "execution_count": 18,
      "outputs": [
        {
          "output_type": "stream",
          "text": [
            "step =  0 , loss_val =  0.7629379\n",
            "step =  500 , loss_val =  0.59790254\n",
            "step =  1000 , loss_val =  0.57390225\n",
            "step =  1500 , loss_val =  0.55589193\n",
            "step =  2000 , loss_val =  0.5417059\n",
            "step =  2500 , loss_val =  0.5304172\n",
            "step =  3000 , loss_val =  0.52134204\n",
            "step =  3500 , loss_val =  0.51397276\n",
            "step =  4000 , loss_val =  0.5079316\n",
            "step =  4500 , loss_val =  0.5029354\n",
            "step =  5000 , loss_val =  0.49877033\n",
            "step =  5500 , loss_val =  0.49527287\n",
            "step =  6000 , loss_val =  0.49231684\n",
            "step =  6500 , loss_val =  0.48980352\n",
            "step =  7000 , loss_val =  0.48765534\n",
            "step =  7500 , loss_val =  0.48581034\n",
            "step =  8000 , loss_val =  0.48421863\n",
            "step =  8500 , loss_val =  0.48283988\n",
            "step =  9000 , loss_val =  0.4816412\n",
            "step =  9500 , loss_val =  0.4805953\n",
            "step =  10000 , loss_val =  0.47967997\n",
            "step =  10500 , loss_val =  0.47887632\n",
            "step =  11000 , loss_val =  0.47816887\n",
            "step =  11500 , loss_val =  0.4775445\n",
            "step =  12000 , loss_val =  0.4769918\n",
            "step =  12500 , loss_val =  0.47650155\n",
            "step =  13000 , loss_val =  0.47606567\n",
            "step =  13500 , loss_val =  0.47567722\n",
            "step =  14000 , loss_val =  0.47533038\n",
            "step =  14500 , loss_val =  0.4750201\n",
            "step =  15000 , loss_val =  0.47474182\n",
            "step =  15500 , loss_val =  0.47449192\n",
            "step =  16000 , loss_val =  0.474267\n",
            "step =  16500 , loss_val =  0.47406417\n",
            "step =  17000 , loss_val =  0.47388107\n",
            "step =  17500 , loss_val =  0.4737153\n",
            "step =  18000 , loss_val =  0.4735651\n",
            "step =  18500 , loss_val =  0.47342876\n",
            "step =  19000 , loss_val =  0.47330475\n",
            "step =  19500 , loss_val =  0.47319177\n",
            "step =  20000 , loss_val =  0.47308868\n",
            "\n",
            "y_val.shape =  (759, 1) , predicted_val =  (759, 1)\n",
            "\n",
            "Accuracy =  0.7720685\n"
          ],
          "name": "stdout"
        }
      ]
    },
    {
      "cell_type": "code",
      "metadata": {
        "id": "sNLv2PA7vYOu"
      },
      "source": [
        ""
      ],
      "execution_count": null,
      "outputs": []
    }
  ]
}