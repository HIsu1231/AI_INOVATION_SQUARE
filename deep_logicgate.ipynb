{
 "cells": [
  {
   "cell_type": "code",
   "execution_count": 1,
   "metadata": {},
   "outputs": [],
   "source": [
    "import numpy as np\n",
    "\n",
    "\n",
    "# 수치미분 함수\n",
    "def numerical_derivative(f, x):\n",
    "    delta_x = 1e-4 # 0.0001\n",
    "    grad = np.zeros_like(x)\n",
    "    \n",
    "    it = np.nditer(x, flags=['multi_index'], op_flags=['readwrite'])\n",
    "    \n",
    "    while not it.finished:\n",
    "        idx = it.multi_index        \n",
    "        tmp_val = x[idx]\n",
    "        x[idx] = float(tmp_val) + delta_x\n",
    "        fx1 = f(x) # f(x+delta_x)\n",
    "        \n",
    "        x[idx] = tmp_val - delta_x \n",
    "        fx2 = f(x) # f(x-delta_x)\n",
    "        grad[idx] = (fx1 - fx2) / (2*delta_x)\n",
    "        \n",
    "        x[idx] = tmp_val \n",
    "        it.iternext()   \n",
    "        \n",
    "    return grad\n",
    "\n",
    "# 활성화함수 sigmoid\n",
    "def sigmoid(x):\n",
    "    \n",
    "    return 1 / (1 + np.exp(-x))"
   ]
  },
  {
   "cell_type": "markdown",
   "metadata": {},
   "source": [
    "### #4"
   ]
  },
  {
   "cell_type": "code",
   "execution_count": null,
   "metadata": {},
   "outputs": [],
   "source": [
    "xdata = np.array([[0,0],[0,1],[1,0],[1,1]])\n",
    "and_tdata = np.array([0,0,0,1]).reshape(4,1)\n",
    "or_tdata = np.array([0,1,1,1]).reshape(4,1)\n",
    "nand_tdata = np.array([1,1,1,0]).reshape(4,1)\n",
    "xor_tdata = np.array([0,1,1,0]).reshape(4,1)\n",
    "\n",
    "test_data = np.array([[0,0],[0,1],[1,0],[1,1]])"
   ]
  },
  {
   "cell_type": "code",
   "execution_count": null,
   "metadata": {},
   "outputs": [],
   "source": [
    "class LogicGate2:\n",
    "    \n",
    "    def __init__(self,xdata,tdata,input_nodes,hidden_nodes1,hidden_nodes2,output_nodes,learning_rate,iteration_count):\n",
    "        \n",
    "        self.xdata = xdata\n",
    "        self.tdata = tdata\n",
    "        \n",
    "        self.input_nodes = input_nodes\n",
    "        self.hidden_nodes1 = hidden_nodes1\n",
    "        self.hidden_nodes2 = hidden_nodes2\n",
    "        self.output_nodes = output_nodes\n",
    "        \n",
    "        self.learning_rate = learning_rate\n",
    "        self.iteration_count = iteration_count\n",
    "        \n",
    "    def feed_forward(self):\n",
    "        \n",
    "        delta = 1e-7\n",
    "        \n",
    "        z2 = np.dot(self.xdata,self.W2) + self.b2\n",
    "        a2 = sigmoid(z2)\n",
    "        \n",
    "        z3 = np.dot(a2,self.W3) + self.b3\n",
    "        a3 = sigmoid(z3)\n",
    "        \n",
    "        z4 = np.dot(a3,self.W4) + self.b4\n",
    "        y = a4 = sigmoid(z4)\n",
    "        \n",
    "        return -np.sum(self.tdata*np.log(y+delta) + (1-self.tdata)*np.log((1-y)+delta))\n",
    "    \n",
    "    def predict(self,testdata):\n",
    "        \n",
    "        delta = 1e-7\n",
    "        \n",
    "        z2 = np.dot(testdata,self.W2) + self.b2\n",
    "        a2 = sigmoid(z2)\n",
    "        \n",
    "        z3 = np.dot(a2,self.W3) + self.b3\n",
    "        a3 = sigmoid(z3)\n",
    "        \n",
    "        z4 = np.dot(a3,self.W4) + self.b4\n",
    "        y =  sigmoid(z4)\n",
    "        \n",
    "        if (y >= 0.5):\n",
    "            result = 1\n",
    "        else:\n",
    "            result = 0\n",
    "            \n",
    "        return y, result\n",
    "    \n",
    "    def accuracy(self,test_xdata,test_tdata):\n",
    "        \n",
    "        matched_list = []\n",
    "        unmatched_list = []\n",
    "        \n",
    "        for i in range(len(test_xdata)):\n",
    "            \n",
    "            (real_val,logical_val) = self.predict(test_xdata[i])\n",
    "            if(logical_val == test_tdata[i]):\n",
    "                matched_list.append(i)\n",
    "            else:\n",
    "                unmatched_list.append(i)\n",
    "                \n",
    "        print(\"accuracy ret = \",len(matched_list)/len(test_xdata))\n",
    "        \n",
    "    \n",
    "    def train(self):\n",
    "        \n",
    "        self.W2 = np.random.rand(input_nodes,hidden_nodes1)\n",
    "        self.b2 = np.random.rand(hidden_nodes1)\n",
    "        \n",
    "        self.W3 = np.random.rand(hidden_nodes1,hidden_nodes2)\n",
    "        self.b3 = np.random.rand(hidden_nodes2)\n",
    "        \n",
    "        self.W4 = np.random.rand(hidden_nodes2,output_nodes)\n",
    "        self.b4 = np.random.rand(output_nodes)\n",
    "        \n",
    "        f = lambda x : self.feed_forward()\n",
    "        \n",
    "        for step in range(self.iteration_count):\n",
    "            \n",
    "            self.W2 -= self.learning_rate * numerical_derivative(f,self.W2)\n",
    "            self.b2 -= self.learning_rate * numerical_derivative(f,self.b2)\n",
    "            \n",
    "            self.W3 -= self.learning_rate * numerical_derivative(f,self.W3)\n",
    "            self.b3 -= self.learning_rate * numerical_derivative(f,self.b3)\n",
    "            \n",
    "            self.W4 -= self.learning_rate * numerical_derivative(f,self.W4)\n",
    "            self.b4 -= self.learning_rate * numerical_derivative(f,self.b4)\n",
    "            \n",
    "            if (step%(int)(self.iteration_count*0.1)==0):\n",
    "                print(\"step = \",step,\" loss value = \",self.feed_forward())"
   ]
  },
  {
   "cell_type": "markdown",
   "metadata": {},
   "source": [
    "AND 게이트"
   ]
  },
  {
   "cell_type": "code",
   "execution_count": null,
   "metadata": {},
   "outputs": [],
   "source": [
    "input_nodes = 2\n",
    "hidden_nodes1 = 4\n",
    "hidden_nodes2 = 2\n",
    "output_nodes = 1\n",
    "lr = 1e-1\n",
    "cnt = 10001\n",
    "\n",
    "AND_obj = LogicGate2(xdata,and_tdata,input_nodes,hidden_nodes1,hidden_nodes2,output_nodes,lr,cnt)\n",
    "\n",
    "AND_obj.train()"
   ]
  },
  {
   "cell_type": "code",
   "execution_count": null,
   "metadata": {},
   "outputs": [],
   "source": [
    "for data in test_data:\n",
    "    (real_val, logical_val) = AND_obj.predict(data)\n",
    "    print(\"real_val = \",real_val,\"logical_val = \",logical_val)"
   ]
  },
  {
   "cell_type": "code",
   "execution_count": null,
   "metadata": {},
   "outputs": [],
   "source": [
    "AND_obj.accuracy(test_data,and_tdata)"
   ]
  },
  {
   "cell_type": "markdown",
   "metadata": {},
   "source": [
    "OR 게이트"
   ]
  },
  {
   "cell_type": "code",
   "execution_count": null,
   "metadata": {},
   "outputs": [],
   "source": [
    "input_nodes = 2\n",
    "hidden_nodes1 = 4\n",
    "hidden_nodes2 = 2\n",
    "output_nodes = 1\n",
    "lr = 1e-1\n",
    "cnt = 10001\n",
    "\n",
    "OR_obj = LogicGate2(xdata,or_tdata,input_nodes,hidden_nodes1,hidden_nodes2,output_nodes,lr,cnt)\n",
    "\n",
    "OR_obj.train()"
   ]
  },
  {
   "cell_type": "code",
   "execution_count": null,
   "metadata": {},
   "outputs": [],
   "source": [
    "for data in test_data:\n",
    "    (real_val, logical_val) = OR_obj.predict(data)\n",
    "    print(\"real_val = \",real_val,\"logical_val = \",logical_val)"
   ]
  },
  {
   "cell_type": "code",
   "execution_count": null,
   "metadata": {},
   "outputs": [],
   "source": [
    "OR_obj.accuracy(test_data,or_tdata)"
   ]
  },
  {
   "cell_type": "code",
   "execution_count": null,
   "metadata": {},
   "outputs": [],
   "source": [
    "input_nodes = 2\n",
    "hidden_nodes1 = 4\n",
    "hidden_nodes2 = 2\n",
    "output_nodes = 1\n",
    "lr = 1e-1\n",
    "cnt = 10001\n",
    "\n",
    "NAND_obj = LogicGate2(xdata,nand_tdata,input_nodes,hidden_nodes1,hidden_nodes2,output_nodes,lr,cnt)\n",
    "\n",
    "NAND_obj.train()"
   ]
  },
  {
   "cell_type": "code",
   "execution_count": null,
   "metadata": {},
   "outputs": [],
   "source": [
    "for data in test_data:\n",
    "    (real_val, logical_val) = NAND_obj.predict(data)\n",
    "    print(\"real_val = \",real_val,\"logical_val = \",logical_val)"
   ]
  },
  {
   "cell_type": "code",
   "execution_count": null,
   "metadata": {},
   "outputs": [],
   "source": [
    "NAND_obj.accuracy(test_data,nand_tdata)"
   ]
  },
  {
   "cell_type": "code",
   "execution_count": null,
   "metadata": {},
   "outputs": [],
   "source": [
    "input_nodes = 2\n",
    "hidden_nodes1 = 4\n",
    "hidden_nodes2 = 2\n",
    "output_nodes = 1\n",
    "lr = 1e-1\n",
    "cnt = 10001\n",
    "\n",
    "XOR_obj = LogicGate2(xdata,xor_tdata,input_nodes,hidden_nodes1,hidden_nodes2,output_nodes,lr,cnt)\n",
    "\n",
    "XOR_obj.train()"
   ]
  },
  {
   "cell_type": "code",
   "execution_count": null,
   "metadata": {},
   "outputs": [],
   "source": [
    "for data in test_data:\n",
    "    (real_val, logical_val) = XOR_obj.predict(data)\n",
    "    print(\"real_val = \",real_val,\"logical_val = \",logical_val)"
   ]
  },
  {
   "cell_type": "code",
   "execution_count": null,
   "metadata": {},
   "outputs": [],
   "source": [
    "XOR_obj.accuracy(test_data,xor_tdata)"
   ]
  },
  {
   "cell_type": "markdown",
   "metadata": {},
   "source": [
    "### #5"
   ]
  },
  {
   "cell_type": "code",
   "execution_count": 2,
   "metadata": {},
   "outputs": [],
   "source": [
    "class Diabetes:\n",
    "    def __init__(self,xdata,tdata,i_node,h_node,o_node,lr,iter_count):\n",
    "        \n",
    "        self.xdata = xdata\n",
    "        self.tdata = tdata\n",
    "        \n",
    "        self.i_node = i_node\n",
    "        self.h_node = h_node\n",
    "        self.o_node = o_node\n",
    "        \n",
    "        self.lr = lr\n",
    "        self.iter_count = iter_count\n",
    "        \n",
    "    def feed_forward(self):\n",
    "        \n",
    "        delta = 1e-7\n",
    "        \n",
    "        z2 = np.dot(self.xdata,self.W2) + self.b2\n",
    "        a2 = sigmoid(z2)\n",
    "        \n",
    "        z3 = np.dot(a2,self.W3) + self.b3\n",
    "        y = a3 = sigmoid(z3)\n",
    "        \n",
    "        return -np.sum(self.tdata * np.log(y+delta) + (1-self.tdata)*np.log((1-y)+delta))\n",
    "    \n",
    "    def predict(self,testdata):\n",
    "        \n",
    "        delta = 1e-7\n",
    "        \n",
    "        z2 = np.dot(testdata,self.W2) + self.b2\n",
    "        a2 = sigmoid(z2)\n",
    "        \n",
    "        z3 = np.dot(a2,self.W3) + self.b3\n",
    "        y = a3 = sigmoid(z3)\n",
    "        \n",
    "        if y >= 0.5:\n",
    "            result = 1\n",
    "        else:\n",
    "            result = 0\n",
    "        \n",
    "        return y, result\n",
    "    \n",
    "    def accuracy(self,test_xdata,test_tdata):\n",
    "        \n",
    "        matched_list = []\n",
    "        unmatched_list = []\n",
    "\n",
    "        for i in range(len(test_xdata)):\n",
    "            (real_val,logical_val) = self.predict(test_xdata[i])\n",
    "            if logical_val == test_tdata[i]:\n",
    "                matched_list.append(i)\n",
    "            else:\n",
    "                unmatched_list.append(i)\n",
    "                \n",
    "        print(\"accuracy ret = \",len(matched_list)/len(test_xdata))\n",
    "        \n",
    "    def train(self):\n",
    "        \n",
    "        self.W2 = np.random.rand(i_node,h_node)\n",
    "        self.b2 = np.random.rand(h_node)\n",
    "        \n",
    "        self.W3 = np.random.rand(h_node,o_node)\n",
    "        self.b3 = np.random.rand(o_node)\n",
    "        \n",
    "        f = lambda x : self.feed_forward()\n",
    "        \n",
    "        for step in range(self.iter_count):\n",
    "            \n",
    "            self.W2 -= self.lr * numerical_derivative(f,self.W2)\n",
    "            self.b2 -= self.lr * numerical_derivative(f,self.b2)\n",
    "            \n",
    "            self.W3 -= self.lr * numerical_derivative(f,self.W3)\n",
    "            self.b3 -= self.lr * numerical_derivative(f,self.b3)\n",
    "            \n",
    "            if step % (int)(self.iter_count*0.1)== 0:\n",
    "                print(\"Step = \",step, \"loss value = \",self.feed_forward())        "
   ]
  },
  {
   "cell_type": "code",
   "execution_count": 3,
   "metadata": {},
   "outputs": [
    {
     "name": "stdout",
     "output_type": "stream",
     "text": [
      "x_data.shape =  (759, 8) , t_data.shape =  (759, 1)\n"
     ]
    }
   ],
   "source": [
    "loaded_data = np.loadtxt(\"./../(200309)diabetes.csv\",delimiter=',',dtype=np.float32)\n",
    "\n",
    "x_data = loaded_data[:,:-1]\n",
    "t_data = loaded_data[:,[-1]]\n",
    "\n",
    "print(\"x_data.shape = \",x_data.shape,\", t_data.shape = \",t_data.shape)"
   ]
  },
  {
   "cell_type": "code",
   "execution_count": 4,
   "metadata": {},
   "outputs": [],
   "source": [
    "i_node = x_data.shape[1]\n",
    "h_node = 10\n",
    "o_node = 1\n",
    "\n",
    "lr = 1e-3\n",
    "iter_count = 10001\n",
    "\n",
    "obj = Diabetes(x_data,t_data,i_node,h_node,o_node,lr,iter_count)"
   ]
  },
  {
   "cell_type": "code",
   "execution_count": 5,
   "metadata": {},
   "outputs": [
    {
     "name": "stdout",
     "output_type": "stream",
     "text": [
      "Step =  0 loss value =  628.4516546649423\n",
      "Step =  1000 loss value =  350.8096142408152\n",
      "Step =  2000 loss value =  343.93662947221924\n",
      "Step =  3000 loss value =  332.1920342985878\n",
      "Step =  4000 loss value =  324.9294757506607\n",
      "Step =  5000 loss value =  321.25693240172615\n",
      "Step =  6000 loss value =  318.5761250823447\n",
      "Step =  7000 loss value =  316.24758937868916\n",
      "Step =  8000 loss value =  313.83847565110335\n",
      "Step =  9000 loss value =  310.94950557600316\n",
      "Step =  10000 loss value =  307.6012518137935\n"
     ]
    }
   ],
   "source": [
    "obj.train()"
   ]
  },
  {
   "cell_type": "code",
   "execution_count": null,
   "metadata": {},
   "outputs": [],
   "source": []
  }
 ],
 "metadata": {
  "kernelspec": {
   "display_name": "Python 3",
   "language": "python",
   "name": "python3"
  },
  "language_info": {
   "codemirror_mode": {
    "name": "ipython",
    "version": 3
   },
   "file_extension": ".py",
   "mimetype": "text/x-python",
   "name": "python",
   "nbconvert_exporter": "python",
   "pygments_lexer": "ipython3",
   "version": "3.6.9"
  }
 },
 "nbformat": 4,
 "nbformat_minor": 2
}
