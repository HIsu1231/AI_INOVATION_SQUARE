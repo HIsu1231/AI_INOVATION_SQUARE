{
  "nbformat": 4,
  "nbformat_minor": 0,
  "metadata": {
    "colab": {
      "name": "CNN_2conv/1flattern_3.ipynb",
      "provenance": [],
      "authorship_tag": "ABX9TyO66gncjxJgwvWAIcIs/Tku",
      "include_colab_link": true
    },
    "kernelspec": {
      "name": "python3",
      "display_name": "Python 3"
    },
    "accelerator": "GPU"
  },
  "cells": [
    {
      "cell_type": "markdown",
      "metadata": {
        "id": "view-in-github",
        "colab_type": "text"
      },
      "source": [
        "<a href=\"https://colab.research.google.com/github/HIsu1231/AI_INOVATION_SQUARE/blob/master/CNN_2conv_1flattern_3.ipynb\" target=\"_parent\"><img src=\"https://colab.research.google.com/assets/colab-badge.svg\" alt=\"Open In Colab\"/></a>"
      ]
    },
    {
      "cell_type": "code",
      "metadata": {
        "colab": {
          "base_uri": "https://localhost:8080/"
        },
        "id": "JPigfLXjVNik",
        "outputId": "afcd4c27-23ca-43b1-a0ab-c064278b89ac"
      },
      "source": [
        "%tensorflow_version 1.x"
      ],
      "execution_count": 1,
      "outputs": [
        {
          "output_type": "stream",
          "text": [
            "TensorFlow 1.x selected.\n"
          ],
          "name": "stdout"
        }
      ]
    },
    {
      "cell_type": "code",
      "metadata": {
        "colab": {
          "base_uri": "https://localhost:8080/"
        },
        "id": "mA0pcQrtVQId",
        "outputId": "5936ebdd-abaf-430a-940f-d0dcd0406133"
      },
      "source": [
        "import tensorflow as tf\r\n",
        "from tensorflow.examples.tutorials.mnist import input_data\r\n",
        "import numpy as np\r\n",
        "from datetime import datetime\r\n",
        "\r\n",
        "mnist = input_data.read_data_sets('MNIST/data', one_hot=True)"
      ],
      "execution_count": 2,
      "outputs": [
        {
          "output_type": "stream",
          "text": [
            "WARNING:tensorflow:From <ipython-input-2-1a48d9c9b3ee>:6: read_data_sets (from tensorflow.contrib.learn.python.learn.datasets.mnist) is deprecated and will be removed in a future version.\n",
            "Instructions for updating:\n",
            "Please use alternatives such as official/mnist/dataset.py from tensorflow/models.\n",
            "WARNING:tensorflow:From /tensorflow-1.15.2/python3.6/tensorflow_core/contrib/learn/python/learn/datasets/mnist.py:260: maybe_download (from tensorflow.contrib.learn.python.learn.datasets.base) is deprecated and will be removed in a future version.\n",
            "Instructions for updating:\n",
            "Please write your own downloading logic.\n",
            "WARNING:tensorflow:From /tensorflow-1.15.2/python3.6/tensorflow_core/contrib/learn/python/learn/datasets/base.py:252: _internal_retry.<locals>.wrap.<locals>.wrapped_fn (from tensorflow.contrib.learn.python.learn.datasets.base) is deprecated and will be removed in a future version.\n",
            "Instructions for updating:\n",
            "Please use urllib or similar directly.\n",
            "Successfully downloaded train-images-idx3-ubyte.gz 9912422 bytes.\n",
            "WARNING:tensorflow:From /tensorflow-1.15.2/python3.6/tensorflow_core/contrib/learn/python/learn/datasets/mnist.py:262: extract_images (from tensorflow.contrib.learn.python.learn.datasets.mnist) is deprecated and will be removed in a future version.\n",
            "Instructions for updating:\n",
            "Please use tf.data to implement this functionality.\n",
            "Extracting MNIST/data/train-images-idx3-ubyte.gz\n",
            "Successfully downloaded train-labels-idx1-ubyte.gz 28881 bytes.\n",
            "WARNING:tensorflow:From /tensorflow-1.15.2/python3.6/tensorflow_core/contrib/learn/python/learn/datasets/mnist.py:267: extract_labels (from tensorflow.contrib.learn.python.learn.datasets.mnist) is deprecated and will be removed in a future version.\n",
            "Instructions for updating:\n",
            "Please use tf.data to implement this functionality.\n",
            "Extracting MNIST/data/train-labels-idx1-ubyte.gz\n",
            "WARNING:tensorflow:From /tensorflow-1.15.2/python3.6/tensorflow_core/contrib/learn/python/learn/datasets/mnist.py:110: dense_to_one_hot (from tensorflow.contrib.learn.python.learn.datasets.mnist) is deprecated and will be removed in a future version.\n",
            "Instructions for updating:\n",
            "Please use tf.one_hot on tensors.\n",
            "Successfully downloaded t10k-images-idx3-ubyte.gz 1648877 bytes.\n",
            "Extracting MNIST/data/t10k-images-idx3-ubyte.gz\n",
            "Successfully downloaded t10k-labels-idx1-ubyte.gz 4542 bytes.\n",
            "Extracting MNIST/data/t10k-labels-idx1-ubyte.gz\n",
            "WARNING:tensorflow:From /tensorflow-1.15.2/python3.6/tensorflow_core/contrib/learn/python/learn/datasets/mnist.py:290: DataSet.__init__ (from tensorflow.contrib.learn.python.learn.datasets.mnist) is deprecated and will be removed in a future version.\n",
            "Instructions for updating:\n",
            "Please use alternatives such as official/mnist/dataset.py from tensorflow/models.\n"
          ],
          "name": "stdout"
        }
      ]
    },
    {
      "cell_type": "code",
      "metadata": {
        "id": "9YpkQLyYVWs4"
      },
      "source": [
        "i_nodes = mnist.train.images.shape[1]\r\n",
        "o_nodes = mnist.train.labels.shape[1]\r\n",
        "\r\n",
        "#hyper_parameter\r\n",
        "learning_rate = 0.001\r\n",
        "epochs = 30\r\n",
        "batch_size = 100"
      ],
      "execution_count": 3,
      "outputs": []
    },
    {
      "cell_type": "code",
      "metadata": {
        "id": "IKMBJ9s4V3dq"
      },
      "source": [
        "X = tf.placeholder(tf.float32, [None,i_nodes])\r\n",
        "T = tf.placeholder(tf.float32, [None,o_nodes])\r\n",
        "\r\n",
        "#28X28X1\r\n",
        "A1 = tf.reshape(X, [-1, 28,28,1])"
      ],
      "execution_count": 4,
      "outputs": []
    },
    {
      "cell_type": "code",
      "metadata": {
        "id": "yDuNPp1AWCzw"
      },
      "source": [
        "#3X3X64 Filter\r\n",
        "W2 = tf.Variable(tf.random_normal([3,3,1,64], stddev=0.01))\r\n",
        "b2 = tf.Variable(tf.random_normal([64]))\r\n",
        "\r\n",
        "#28X28X64\r\n",
        "C2 = tf.nn.conv2d(A1, W2, strides=[1,1,1,1], padding='SAME')\r\n",
        "\r\n",
        "Z2 = tf.nn.relu(C2+b2)\r\n",
        "\r\n",
        "#14X14X64\r\n",
        "A2 = tf.nn.max_pool(Z2, ksize=[1,2,2,1], strides=[1,2,2,1], padding='SAME')"
      ],
      "execution_count": 5,
      "outputs": []
    },
    {
      "cell_type": "code",
      "metadata": {
        "id": "aUeg2ys1Wf3k"
      },
      "source": [
        "#4X4X128 Filter\r\n",
        "W3 = tf.Variable(tf.random_normal([4,4,64,128], stddev=0.01))\r\n",
        "b3 = tf.Variable(tf.random_normal([128]))\r\n",
        "\r\n",
        "#14X14X128\r\n",
        "C3 = tf.nn.conv2d(A2, W3, strides=[1,1,1,1], padding='SAME')\r\n",
        "\r\n",
        "Z3 = tf.nn.relu(C3+b3)\r\n",
        "\r\n",
        "#7X7X128\r\n",
        "A3 = tf.nn.max_pool(Z3, ksize=[1,2,2,1], strides=[1,2,2,1], padding='SAME')"
      ],
      "execution_count": 6,
      "outputs": []
    },
    {
      "cell_type": "code",
      "metadata": {
        "id": "jAZnTFonW-BO"
      },
      "source": [
        "A3_flat = tf.reshape(A3, [-1, 7*7*128])\r\n",
        "\r\n",
        "W4 = tf.Variable(tf.random_normal([7*7*128, 10], stddev=0.01))\r\n",
        "b4 = tf.Variable(tf.random_normal([10]))\r\n",
        "\r\n",
        "Z4 = tf.matmul(A3_flat, W4) + b4\r\n",
        "\r\n",
        "y = tf.nn.softmax(Z4)"
      ],
      "execution_count": 7,
      "outputs": []
    },
    {
      "cell_type": "code",
      "metadata": {
        "id": "RiMghgP_XP7f"
      },
      "source": [
        "loss = tf.reduce_mean(tf.nn.softmax_cross_entropy_with_logits_v2(labels=T, logits=Z4))\r\n",
        "\r\n",
        "optimizer = tf.train.AdamOptimizer(learning_rate)\r\n",
        "\r\n",
        "train = optimizer.minimize(loss)"
      ],
      "execution_count": 8,
      "outputs": []
    },
    {
      "cell_type": "code",
      "metadata": {
        "id": "0P2cFpOeXf0E"
      },
      "source": [
        "predicted_val = tf.argmax(y,1)\r\n",
        "\r\n",
        "accuracy_index = tf.cast(tf.equal(tf.argmax(y,1),tf.argmax(T,1)), dtype=tf.float32)\r\n",
        "\r\n",
        "accuracy = tf.reduce_mean(accuracy_index)"
      ],
      "execution_count": 9,
      "outputs": []
    },
    {
      "cell_type": "code",
      "metadata": {
        "colab": {
          "base_uri": "https://localhost:8080/"
        },
        "id": "BAwqCwP3Xy8u",
        "outputId": "0372b2a7-e8b3-4cff-ffdb-5f9edd0ead8f"
      },
      "source": [
        "index_label_prediction_list = []\r\n",
        "\r\n",
        "with tf.Session() as sess:\r\n",
        "\r\n",
        "    sess.run(tf.global_variables_initializer())\r\n",
        "    \r\n",
        "    start_time = datetime.now()\r\n",
        "\r\n",
        "    for i in range(epochs):\r\n",
        "\r\n",
        "        total_batch = int(mnist.train.num_examples / batch_size)\r\n",
        "\r\n",
        "        for step in range(total_batch):\r\n",
        "\r\n",
        "            batch_x_data, batch_t_data = mnist.train.next_batch(batch_size)\r\n",
        "\r\n",
        "            loss_val, _ = sess.run([loss, train], feed_dict={X: batch_x_data, T: batch_t_data})\r\n",
        "\r\n",
        "            if step % 100 == 0:\r\n",
        "\r\n",
        "                print(\"epochs = \", i+1, \", step = \", step, \", loss value = \", loss_val)\r\n",
        "\r\n",
        "    end_time = datetime.now()\r\n",
        "    print(\"\\nElasped time = \", end_time - start_time)\r\n",
        "\r\n",
        "    test_x_data = mnist.test.images\r\n",
        "    test_t_data = mnist.test.labels\r\n",
        "\r\n",
        "    accuracy_val, index_label, predicted_list = sess.run([accuracy, accuracy_index, predicted_val], feed_dict={X: test_x_data, T: test_t_data})\r\n",
        "\r\n",
        "    print(\"\\nAccuracy = \", accuracy_val)\r\n",
        "\r\n",
        "    temp_list = []\r\n",
        "\r\n",
        "    for i in range(len(index_label)):\r\n",
        "\r\n",
        "        if index_label[i] == 0:\r\n",
        "\r\n",
        "            temp_list.append(i)\r\n",
        "            temp_list.append(np.argmax(test_t_data[i]))\r\n",
        "            temp_list.append(predicted_list[i])\r\n",
        "\r\n",
        "            index_label_prediction_list.append(temp_list)\r\n",
        "\r\n",
        "            temp_list = []"
      ],
      "execution_count": 10,
      "outputs": [
        {
          "output_type": "stream",
          "text": [
            "epochs =  1 , step =  0 , loss value =  3.5603693\n",
            "epochs =  1 , step =  100 , loss value =  1.8976587\n",
            "epochs =  1 , step =  200 , loss value =  0.45383033\n",
            "epochs =  1 , step =  300 , loss value =  0.19803056\n",
            "epochs =  1 , step =  400 , loss value =  0.2711844\n",
            "epochs =  1 , step =  500 , loss value =  0.22356509\n",
            "epochs =  2 , step =  0 , loss value =  0.2596472\n",
            "epochs =  2 , step =  100 , loss value =  0.14632912\n",
            "epochs =  2 , step =  200 , loss value =  0.19213538\n",
            "epochs =  2 , step =  300 , loss value =  0.20028742\n",
            "epochs =  2 , step =  400 , loss value =  0.019901676\n",
            "epochs =  2 , step =  500 , loss value =  0.12609844\n",
            "epochs =  3 , step =  0 , loss value =  0.14061242\n",
            "epochs =  3 , step =  100 , loss value =  0.13024142\n",
            "epochs =  3 , step =  200 , loss value =  0.15563302\n",
            "epochs =  3 , step =  300 , loss value =  0.07867752\n",
            "epochs =  3 , step =  400 , loss value =  0.031180907\n",
            "epochs =  3 , step =  500 , loss value =  0.15544647\n",
            "epochs =  4 , step =  0 , loss value =  0.1271182\n",
            "epochs =  4 , step =  100 , loss value =  0.2220923\n",
            "epochs =  4 , step =  200 , loss value =  0.120367765\n",
            "epochs =  4 , step =  300 , loss value =  0.09673109\n",
            "epochs =  4 , step =  400 , loss value =  0.10981543\n",
            "epochs =  4 , step =  500 , loss value =  0.051722936\n",
            "epochs =  5 , step =  0 , loss value =  0.067872465\n",
            "epochs =  5 , step =  100 , loss value =  0.17117369\n",
            "epochs =  5 , step =  200 , loss value =  0.045579977\n",
            "epochs =  5 , step =  300 , loss value =  0.061341427\n",
            "epochs =  5 , step =  400 , loss value =  0.02358255\n",
            "epochs =  5 , step =  500 , loss value =  0.0869502\n",
            "epochs =  6 , step =  0 , loss value =  0.06699473\n",
            "epochs =  6 , step =  100 , loss value =  0.09530228\n",
            "epochs =  6 , step =  200 , loss value =  0.05584727\n",
            "epochs =  6 , step =  300 , loss value =  0.12922752\n",
            "epochs =  6 , step =  400 , loss value =  0.05191406\n",
            "epochs =  6 , step =  500 , loss value =  0.07945332\n",
            "epochs =  7 , step =  0 , loss value =  0.084346935\n",
            "epochs =  7 , step =  100 , loss value =  0.0749919\n",
            "epochs =  7 , step =  200 , loss value =  0.018848175\n",
            "epochs =  7 , step =  300 , loss value =  0.022337103\n",
            "epochs =  7 , step =  400 , loss value =  0.026198385\n",
            "epochs =  7 , step =  500 , loss value =  0.08075879\n",
            "epochs =  8 , step =  0 , loss value =  0.041370932\n",
            "epochs =  8 , step =  100 , loss value =  0.022017393\n",
            "epochs =  8 , step =  200 , loss value =  0.06265232\n",
            "epochs =  8 , step =  300 , loss value =  0.015945977\n",
            "epochs =  8 , step =  400 , loss value =  0.18206657\n",
            "epochs =  8 , step =  500 , loss value =  0.03525765\n",
            "epochs =  9 , step =  0 , loss value =  0.012585732\n",
            "epochs =  9 , step =  100 , loss value =  0.023975303\n",
            "epochs =  9 , step =  200 , loss value =  0.032760285\n",
            "epochs =  9 , step =  300 , loss value =  0.062233757\n",
            "epochs =  9 , step =  400 , loss value =  0.04444425\n",
            "epochs =  9 , step =  500 , loss value =  0.053925496\n",
            "epochs =  10 , step =  0 , loss value =  0.04233341\n",
            "epochs =  10 , step =  100 , loss value =  0.050022487\n",
            "epochs =  10 , step =  200 , loss value =  0.0348876\n",
            "epochs =  10 , step =  300 , loss value =  0.0937362\n",
            "epochs =  10 , step =  400 , loss value =  0.027754603\n",
            "epochs =  10 , step =  500 , loss value =  0.01915975\n",
            "epochs =  11 , step =  0 , loss value =  0.0100827385\n",
            "epochs =  11 , step =  100 , loss value =  0.09062724\n",
            "epochs =  11 , step =  200 , loss value =  0.012455156\n",
            "epochs =  11 , step =  300 , loss value =  0.062689334\n",
            "epochs =  11 , step =  400 , loss value =  0.04934011\n",
            "epochs =  11 , step =  500 , loss value =  0.034835663\n",
            "epochs =  12 , step =  0 , loss value =  0.041814007\n",
            "epochs =  12 , step =  100 , loss value =  0.063079506\n",
            "epochs =  12 , step =  200 , loss value =  0.020861961\n",
            "epochs =  12 , step =  300 , loss value =  0.026136084\n",
            "epochs =  12 , step =  400 , loss value =  0.10566575\n",
            "epochs =  12 , step =  500 , loss value =  0.06390628\n",
            "epochs =  13 , step =  0 , loss value =  0.07865249\n",
            "epochs =  13 , step =  100 , loss value =  0.019120367\n",
            "epochs =  13 , step =  200 , loss value =  0.059333388\n",
            "epochs =  13 , step =  300 , loss value =  0.01368078\n",
            "epochs =  13 , step =  400 , loss value =  0.06651951\n",
            "epochs =  13 , step =  500 , loss value =  0.018136391\n",
            "epochs =  14 , step =  0 , loss value =  0.0058940286\n",
            "epochs =  14 , step =  100 , loss value =  0.024144938\n",
            "epochs =  14 , step =  200 , loss value =  0.01871391\n",
            "epochs =  14 , step =  300 , loss value =  0.0054581286\n",
            "epochs =  14 , step =  400 , loss value =  0.06941971\n",
            "epochs =  14 , step =  500 , loss value =  0.06536612\n",
            "epochs =  15 , step =  0 , loss value =  0.06707932\n",
            "epochs =  15 , step =  100 , loss value =  0.0403661\n",
            "epochs =  15 , step =  200 , loss value =  0.014065525\n",
            "epochs =  15 , step =  300 , loss value =  0.04356873\n",
            "epochs =  15 , step =  400 , loss value =  0.090911515\n",
            "epochs =  15 , step =  500 , loss value =  0.016558722\n",
            "epochs =  16 , step =  0 , loss value =  0.080182135\n",
            "epochs =  16 , step =  100 , loss value =  0.09455949\n",
            "epochs =  16 , step =  200 , loss value =  0.03862198\n",
            "epochs =  16 , step =  300 , loss value =  0.035511862\n",
            "epochs =  16 , step =  400 , loss value =  0.06745422\n",
            "epochs =  16 , step =  500 , loss value =  0.018715147\n",
            "epochs =  17 , step =  0 , loss value =  0.023773499\n",
            "epochs =  17 , step =  100 , loss value =  0.034511175\n",
            "epochs =  17 , step =  200 , loss value =  0.006771009\n",
            "epochs =  17 , step =  300 , loss value =  0.083103016\n",
            "epochs =  17 , step =  400 , loss value =  0.11361387\n",
            "epochs =  17 , step =  500 , loss value =  0.034610756\n",
            "epochs =  18 , step =  0 , loss value =  0.014324974\n",
            "epochs =  18 , step =  100 , loss value =  0.00960724\n",
            "epochs =  18 , step =  200 , loss value =  0.012744621\n",
            "epochs =  18 , step =  300 , loss value =  0.09714094\n",
            "epochs =  18 , step =  400 , loss value =  0.055844713\n",
            "epochs =  18 , step =  500 , loss value =  0.021331245\n",
            "epochs =  19 , step =  0 , loss value =  0.06878769\n",
            "epochs =  19 , step =  100 , loss value =  0.05780438\n",
            "epochs =  19 , step =  200 , loss value =  0.043624673\n",
            "epochs =  19 , step =  300 , loss value =  0.01087565\n",
            "epochs =  19 , step =  400 , loss value =  0.005405331\n",
            "epochs =  19 , step =  500 , loss value =  0.034407463\n",
            "epochs =  20 , step =  0 , loss value =  0.006733111\n",
            "epochs =  20 , step =  100 , loss value =  0.03490176\n",
            "epochs =  20 , step =  200 , loss value =  0.032393623\n",
            "epochs =  20 , step =  300 , loss value =  0.01801522\n",
            "epochs =  20 , step =  400 , loss value =  0.019448642\n",
            "epochs =  20 , step =  500 , loss value =  0.010127509\n",
            "epochs =  21 , step =  0 , loss value =  0.08946447\n",
            "epochs =  21 , step =  100 , loss value =  0.014676297\n",
            "epochs =  21 , step =  200 , loss value =  0.024516134\n",
            "epochs =  21 , step =  300 , loss value =  0.011187288\n",
            "epochs =  21 , step =  400 , loss value =  0.0036627562\n",
            "epochs =  21 , step =  500 , loss value =  0.031717304\n",
            "epochs =  22 , step =  0 , loss value =  0.01696942\n",
            "epochs =  22 , step =  100 , loss value =  0.036008295\n",
            "epochs =  22 , step =  200 , loss value =  0.08446789\n",
            "epochs =  22 , step =  300 , loss value =  0.03978289\n",
            "epochs =  22 , step =  400 , loss value =  0.03028064\n",
            "epochs =  22 , step =  500 , loss value =  0.029550899\n",
            "epochs =  23 , step =  0 , loss value =  0.07523815\n",
            "epochs =  23 , step =  100 , loss value =  0.021923391\n",
            "epochs =  23 , step =  200 , loss value =  0.009695358\n",
            "epochs =  23 , step =  300 , loss value =  0.0020460794\n",
            "epochs =  23 , step =  400 , loss value =  0.06418003\n",
            "epochs =  23 , step =  500 , loss value =  0.07874485\n",
            "epochs =  24 , step =  0 , loss value =  0.03664476\n",
            "epochs =  24 , step =  100 , loss value =  0.052889224\n",
            "epochs =  24 , step =  200 , loss value =  0.041456617\n",
            "epochs =  24 , step =  300 , loss value =  0.03231164\n",
            "epochs =  24 , step =  400 , loss value =  0.012836044\n",
            "epochs =  24 , step =  500 , loss value =  0.012235501\n",
            "epochs =  25 , step =  0 , loss value =  0.026406959\n",
            "epochs =  25 , step =  100 , loss value =  0.006340058\n",
            "epochs =  25 , step =  200 , loss value =  0.030499699\n",
            "epochs =  25 , step =  300 , loss value =  0.022358922\n",
            "epochs =  25 , step =  400 , loss value =  0.07747331\n",
            "epochs =  25 , step =  500 , loss value =  0.012652475\n",
            "epochs =  26 , step =  0 , loss value =  0.03623633\n",
            "epochs =  26 , step =  100 , loss value =  0.050128523\n",
            "epochs =  26 , step =  200 , loss value =  0.017948698\n",
            "epochs =  26 , step =  300 , loss value =  0.018434264\n",
            "epochs =  26 , step =  400 , loss value =  0.041477405\n",
            "epochs =  26 , step =  500 , loss value =  0.045491476\n",
            "epochs =  27 , step =  0 , loss value =  0.013329581\n",
            "epochs =  27 , step =  100 , loss value =  0.020079428\n",
            "epochs =  27 , step =  200 , loss value =  0.0058998396\n",
            "epochs =  27 , step =  300 , loss value =  0.0015300737\n",
            "epochs =  27 , step =  400 , loss value =  0.019078733\n",
            "epochs =  27 , step =  500 , loss value =  0.027258147\n",
            "epochs =  28 , step =  0 , loss value =  0.0028964253\n",
            "epochs =  28 , step =  100 , loss value =  0.02456569\n",
            "epochs =  28 , step =  200 , loss value =  0.015920326\n",
            "epochs =  28 , step =  300 , loss value =  0.0037367968\n",
            "epochs =  28 , step =  400 , loss value =  0.0023387116\n",
            "epochs =  28 , step =  500 , loss value =  0.012943737\n",
            "epochs =  29 , step =  0 , loss value =  0.011584369\n",
            "epochs =  29 , step =  100 , loss value =  0.0018758567\n",
            "epochs =  29 , step =  200 , loss value =  0.022073492\n",
            "epochs =  29 , step =  300 , loss value =  0.0688368\n",
            "epochs =  29 , step =  400 , loss value =  0.050769676\n",
            "epochs =  29 , step =  500 , loss value =  0.011021173\n",
            "epochs =  30 , step =  0 , loss value =  0.0019097604\n",
            "epochs =  30 , step =  100 , loss value =  0.06214033\n",
            "epochs =  30 , step =  200 , loss value =  0.0062701833\n",
            "epochs =  30 , step =  300 , loss value =  0.009110632\n",
            "epochs =  30 , step =  400 , loss value =  0.009495675\n",
            "epochs =  30 , step =  500 , loss value =  0.020632261\n",
            "\n",
            "Elasped time =  0:02:07.725001\n",
            "\n",
            "Accuracy =  0.9846\n"
          ],
          "name": "stdout"
        }
      ]
    },
    {
      "cell_type": "code",
      "metadata": {
        "id": "-UTtbI2ziS5M",
        "colab": {
          "base_uri": "https://localhost:8080/"
        },
        "outputId": "d3bedc93-1dd2-4fc0-e610-2220db1e929b"
      },
      "source": [
        "print(index_label_prediction_list)"
      ],
      "execution_count": 11,
      "outputs": [
        {
          "output_type": "stream",
          "text": [
            "[[18, 3, 5], [151, 9, 8], [217, 6, 5], [259, 6, 0], [340, 5, 3], [358, 7, 4], [366, 6, 0], [445, 6, 0], [495, 8, 0], [582, 8, 2], [646, 2, 4], [659, 2, 1], [674, 5, 3], [684, 7, 3], [726, 7, 4], [846, 7, 9], [883, 3, 5], [947, 8, 9], [965, 6, 0], [1014, 6, 0], [1033, 8, 1], [1039, 7, 2], [1156, 7, 8], [1181, 6, 1], [1182, 6, 5], [1226, 7, 2], [1232, 9, 4], [1247, 9, 5], [1260, 7, 1], [1272, 5, 8], [1319, 8, 0], [1393, 5, 3], [1522, 7, 9], [1527, 1, 5], [1621, 0, 6], [1709, 9, 5], [1722, 2, 7], [1790, 2, 7], [1878, 8, 3], [1901, 9, 4], [1911, 5, 0], [1955, 8, 2], [1982, 6, 8], [2035, 5, 3], [2043, 4, 8], [2053, 4, 9], [2070, 7, 9], [2118, 6, 0], [2130, 4, 9], [2135, 6, 1], [2185, 0, 8], [2186, 2, 0], [2189, 9, 1], [2293, 9, 4], [2329, 0, 2], [2343, 1, 7], [2387, 9, 1], [2414, 9, 4], [2462, 2, 0], [2488, 2, 4], [2597, 5, 3], [2654, 6, 1], [2730, 7, 4], [2851, 7, 9], [2896, 8, 0], [2927, 3, 2], [2939, 9, 5], [2952, 3, 5], [2995, 6, 8], [3030, 6, 0], [3060, 9, 7], [3062, 8, 3], [3073, 1, 2], [3189, 7, 2], [3206, 8, 3], [3239, 2, 3], [3289, 8, 9], [3336, 5, 9], [3503, 9, 1], [3520, 6, 4], [3534, 4, 8], [3558, 5, 0], [3597, 9, 3], [3662, 8, 0], [3702, 5, 3], [3727, 8, 9], [3751, 7, 2], [3767, 7, 2], [3806, 5, 8], [3808, 7, 8], [3818, 0, 4], [3850, 9, 4], [3853, 6, 8], [3906, 1, 3], [3976, 7, 1], [4075, 8, 0], [4078, 9, 2], [4238, 7, 3], [4265, 4, 9], [4306, 3, 7], [4400, 7, 4], [4507, 1, 3], [4536, 6, 5], [4690, 7, 2], [4699, 6, 1], [4731, 8, 3], [4740, 3, 5], [4783, 4, 9], [4807, 8, 0], [4823, 9, 4], [4838, 6, 5], [4860, 4, 9], [4956, 8, 4], [4990, 3, 2], [4997, 2, 3], [5278, 8, 9], [5288, 8, 9], [5634, 2, 8], [5654, 7, 9], [5937, 5, 3], [5955, 3, 8], [5973, 3, 8], [5997, 5, 9], [6011, 3, 5], [6505, 9, 0], [6555, 8, 9], [6558, 6, 5], [6560, 9, 5], [6572, 1, 7], [6576, 7, 1], [6597, 0, 9], [6651, 0, 8], [7121, 8, 9], [7434, 4, 8], [7850, 5, 8], [7905, 3, 2], [8059, 2, 1], [8316, 7, 2], [8325, 0, 6], [8326, 6, 4], [8408, 8, 2], [9009, 7, 2], [9540, 1, 8], [9634, 0, 2], [9679, 6, 4], [9692, 9, 7], [9729, 5, 6], [9749, 5, 6], [9770, 5, 0], [9777, 5, 0], [9811, 2, 8], [9888, 6, 0], [9890, 9, 4], [9982, 5, 3]]\n"
          ],
          "name": "stdout"
        }
      ]
    },
    {
      "cell_type": "code",
      "metadata": {
        "id": "hnYYpvm8slhF"
      },
      "source": [
        ""
      ],
      "execution_count": 11,
      "outputs": []
    }
  ]
}