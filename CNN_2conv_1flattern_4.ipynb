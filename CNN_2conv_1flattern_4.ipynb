{
  "nbformat": 4,
  "nbformat_minor": 0,
  "metadata": {
    "colab": {
      "name": "CNN_2conv/1flattern_4.ipynb",
      "provenance": [],
      "authorship_tag": "ABX9TyPp/rZ9WRWpl5/+JUXWxfDE",
      "include_colab_link": true
    },
    "kernelspec": {
      "name": "python3",
      "display_name": "Python 3"
    },
    "accelerator": "GPU"
  },
  "cells": [
    {
      "cell_type": "markdown",
      "metadata": {
        "id": "view-in-github",
        "colab_type": "text"
      },
      "source": [
        "<a href=\"https://colab.research.google.com/github/HIsu1231/AI_INOVATION_SQUARE/blob/master/CNN_2conv_1flattern_4.ipynb\" target=\"_parent\"><img src=\"https://colab.research.google.com/assets/colab-badge.svg\" alt=\"Open In Colab\"/></a>"
      ]
    },
    {
      "cell_type": "code",
      "metadata": {
        "colab": {
          "base_uri": "https://localhost:8080/"
        },
        "id": "3FDr0Y89buIb",
        "outputId": "758cdb9a-10af-413f-a0cc-af4703e05ebc"
      },
      "source": [
        "%tensorflow_version 1.x"
      ],
      "execution_count": 2,
      "outputs": [
        {
          "output_type": "stream",
          "text": [
            "TensorFlow 1.x selected.\n"
          ],
          "name": "stdout"
        }
      ]
    },
    {
      "cell_type": "code",
      "metadata": {
        "colab": {
          "base_uri": "https://localhost:8080/"
        },
        "id": "JClPoVXqcjUx",
        "outputId": "6cc1ffa7-1738-4e20-ab63-37f355d9cae9"
      },
      "source": [
        "import tensorflow as tf\r\n",
        "from tensorflow.examples.tutorials.mnist import input_data\r\n",
        "import numpy as np\r\n",
        "from datetime import datetime\r\n",
        "\r\n",
        "mnist = input_data.read_data_sets('MNIST/data', one_hot=True)"
      ],
      "execution_count": 3,
      "outputs": [
        {
          "output_type": "stream",
          "text": [
            "WARNING:tensorflow:From <ipython-input-3-1a48d9c9b3ee>:6: read_data_sets (from tensorflow.contrib.learn.python.learn.datasets.mnist) is deprecated and will be removed in a future version.\n",
            "Instructions for updating:\n",
            "Please use alternatives such as official/mnist/dataset.py from tensorflow/models.\n",
            "WARNING:tensorflow:From /tensorflow-1.15.2/python3.6/tensorflow_core/contrib/learn/python/learn/datasets/mnist.py:260: maybe_download (from tensorflow.contrib.learn.python.learn.datasets.base) is deprecated and will be removed in a future version.\n",
            "Instructions for updating:\n",
            "Please write your own downloading logic.\n",
            "WARNING:tensorflow:From /tensorflow-1.15.2/python3.6/tensorflow_core/contrib/learn/python/learn/datasets/base.py:252: _internal_retry.<locals>.wrap.<locals>.wrapped_fn (from tensorflow.contrib.learn.python.learn.datasets.base) is deprecated and will be removed in a future version.\n",
            "Instructions for updating:\n",
            "Please use urllib or similar directly.\n",
            "Successfully downloaded train-images-idx3-ubyte.gz 9912422 bytes.\n",
            "WARNING:tensorflow:From /tensorflow-1.15.2/python3.6/tensorflow_core/contrib/learn/python/learn/datasets/mnist.py:262: extract_images (from tensorflow.contrib.learn.python.learn.datasets.mnist) is deprecated and will be removed in a future version.\n",
            "Instructions for updating:\n",
            "Please use tf.data to implement this functionality.\n",
            "Extracting MNIST/data/train-images-idx3-ubyte.gz\n",
            "Successfully downloaded train-labels-idx1-ubyte.gz 28881 bytes.\n",
            "WARNING:tensorflow:From /tensorflow-1.15.2/python3.6/tensorflow_core/contrib/learn/python/learn/datasets/mnist.py:267: extract_labels (from tensorflow.contrib.learn.python.learn.datasets.mnist) is deprecated and will be removed in a future version.\n",
            "Instructions for updating:\n",
            "Please use tf.data to implement this functionality.\n",
            "Extracting MNIST/data/train-labels-idx1-ubyte.gz\n",
            "WARNING:tensorflow:From /tensorflow-1.15.2/python3.6/tensorflow_core/contrib/learn/python/learn/datasets/mnist.py:110: dense_to_one_hot (from tensorflow.contrib.learn.python.learn.datasets.mnist) is deprecated and will be removed in a future version.\n",
            "Instructions for updating:\n",
            "Please use tf.one_hot on tensors.\n",
            "Successfully downloaded t10k-images-idx3-ubyte.gz 1648877 bytes.\n",
            "Extracting MNIST/data/t10k-images-idx3-ubyte.gz\n",
            "Successfully downloaded t10k-labels-idx1-ubyte.gz 4542 bytes.\n",
            "Extracting MNIST/data/t10k-labels-idx1-ubyte.gz\n",
            "WARNING:tensorflow:From /tensorflow-1.15.2/python3.6/tensorflow_core/contrib/learn/python/learn/datasets/mnist.py:290: DataSet.__init__ (from tensorflow.contrib.learn.python.learn.datasets.mnist) is deprecated and will be removed in a future version.\n",
            "Instructions for updating:\n",
            "Please use alternatives such as official/mnist/dataset.py from tensorflow/models.\n"
          ],
          "name": "stdout"
        }
      ]
    },
    {
      "cell_type": "code",
      "metadata": {
        "id": "u94sFqmFc1JM"
      },
      "source": [
        "i_nodes = mnist.train.images.shape[1]\r\n",
        "o_nodes = mnist.train.labels.shape[1]\r\n",
        "\r\n",
        "#hyper_parameter\r\n",
        "learning_rate = 0.001\r\n",
        "epochs = 20\r\n",
        "batch_size = 100"
      ],
      "execution_count": 4,
      "outputs": []
    },
    {
      "cell_type": "code",
      "metadata": {
        "id": "UjDBiAYkdAmD"
      },
      "source": [
        " X = tf.placeholder(tf.float32, [None, i_nodes])\r\n",
        " T = tf.placeholder(tf.float32, [None,o_nodes])\r\n",
        "\r\n",
        "#28X28X1\r\n",
        " A1 = tf.reshape(X, [-1,28,28,1])"
      ],
      "execution_count": 5,
      "outputs": []
    },
    {
      "cell_type": "code",
      "metadata": {
        "id": "WxKKUYx5dOH2"
      },
      "source": [
        "#3X3X32 filter\r\n",
        "W2 = tf.Variable(tf.random_normal([3,3,1,32], stddev=0.01))\r\n",
        "b2 = tf.Variable(tf.random_normal([32]))\r\n",
        "\r\n",
        "#28X28X32\r\n",
        "C2 = tf.nn.conv2d(A1, W2, strides=[1,1,1,1], padding='SAME')\r\n",
        "\r\n",
        "Z2 = tf.nn.relu(C2+b2)\r\n",
        "\r\n",
        "#10X10X32\r\n",
        "A2 = tf.nn.max_pool(Z2, ksize=[1,3,3,1], strides=[1,3,3,1], padding='SAME')"
      ],
      "execution_count": 6,
      "outputs": []
    },
    {
      "cell_type": "code",
      "metadata": {
        "id": "K4tnnrBLedKM"
      },
      "source": [
        "#4X4X64 Filter\r\n",
        "W3 = tf.Variable(tf.random_normal([4,4,32,64], stddev=0.01))\r\n",
        "b3 = tf.Variable(tf.random_normal([64]))\r\n",
        "\r\n",
        "#10X10X64\r\n",
        "C3 = tf.nn.conv2d(A2, W3, strides=[1,1,1,1], padding='SAME')\r\n",
        "\r\n",
        "Z3 = tf.nn.relu(C3+b3)\r\n",
        "\r\n",
        "#4X4X64\r\n",
        "A3 = tf.nn.max_pool(Z3, ksize=[1,3,3,1], strides=[1,3,3,1], padding='SAME')"
      ],
      "execution_count": 7,
      "outputs": []
    },
    {
      "cell_type": "code",
      "metadata": {
        "id": "QBgrweSCfFF7"
      },
      "source": [
        "A3_flat = tf.reshape(A3, [-1, 4*4*64])\r\n",
        "\r\n",
        "W4 = tf.Variable(tf.random_normal([4*4*64,10], stddev=0.01))\r\n",
        "b4 = tf.Variable(tf.random_normal([10]))\r\n",
        "\r\n",
        "Z4 = tf.matmul(A3_flat,W4) + b4\r\n",
        "\r\n",
        "y = tf.nn.softmax(Z4)"
      ],
      "execution_count": 8,
      "outputs": []
    },
    {
      "cell_type": "code",
      "metadata": {
        "id": "warmQ6S1fa5k"
      },
      "source": [
        "loss = tf.reduce_mean(tf.nn.softmax_cross_entropy_with_logits_v2(labels=T, logits=Z4))\r\n",
        "\r\n",
        "optimizer = tf.train.AdamOptimizer(learning_rate)\r\n",
        "\r\n",
        "train = optimizer.minimize(loss)"
      ],
      "execution_count": 9,
      "outputs": []
    },
    {
      "cell_type": "code",
      "metadata": {
        "id": "L_UpKfMrfpsz"
      },
      "source": [
        "predicted_val = tf.argmax(y,1)\r\n",
        "\r\n",
        "accuracy_index = tf.cast(tf.equal(tf.argmax(y,1), tf.argmax(T,1)),dtype=tf.float32)\r\n",
        "\r\n",
        "accuracy = tf.reduce_mean(accuracy_index)"
      ],
      "execution_count": 10,
      "outputs": []
    },
    {
      "cell_type": "code",
      "metadata": {
        "colab": {
          "base_uri": "https://localhost:8080/"
        },
        "id": "H6E6M-mpf3PK",
        "outputId": "0a0e4c27-3aa9-4ebc-98fc-1b66a3faa651"
      },
      "source": [
        "index_label_prediction_list = []\r\n",
        "\r\n",
        "with tf.Session() as sess:\r\n",
        "\r\n",
        "    sess.run(tf.global_variables_initializer())\r\n",
        "\r\n",
        "    start_time = datetime.now()\r\n",
        "\r\n",
        "    for i in range(epochs):\r\n",
        "\r\n",
        "        total_batch = int(mnist.train.num_examples / batch_size)\r\n",
        "\r\n",
        "        for step in range(total_batch):\r\n",
        "\r\n",
        "            batch_x_data, batch_t_data = mnist.train.next_batch(batch_size)\r\n",
        "\r\n",
        "            loss_val, _ = sess.run([loss, train], feed_dict={X: batch_x_data, T: batch_t_data})\r\n",
        "\r\n",
        "            if step % 100 == 0:\r\n",
        "                \r\n",
        "                print(\"epochs = \", i+1, \", step = \", step, \", loss value = \", loss_val)\r\n",
        "\r\n",
        "    end_time = datetime.now()\r\n",
        "    print(\"\\nElapsed time = \", end_time - start_time)\r\n",
        "\r\n",
        "    test_x_data = mnist.test.images\r\n",
        "    test_t_data = mnist.test.labels\r\n",
        "\r\n",
        "    accuracy_val, index_label, predicted_list = sess.run([accuracy, accuracy_index, predicted_val], feed_dict={X:test_x_data, T:test_t_data})\r\n",
        "\r\n",
        "    print(\"\\nAccuracy = \", accuracy_val)\r\n",
        "\r\n",
        "    temp_list = []\r\n",
        "\r\n",
        "    for i in range(len(index_label)):\r\n",
        "\r\n",
        "        if index_label[i] == 0:\r\n",
        "\r\n",
        "            temp_list.append(i)\r\n",
        "            temp_list.append(np.argmax(test_t_data[i]))\r\n",
        "            temp_list.append(predicted_list[i])\r\n",
        "\r\n",
        "            index_label_prediction_list.append(temp_list)\r\n",
        "            \r\n",
        "            temp_list = []"
      ],
      "execution_count": 12,
      "outputs": [
        {
          "output_type": "stream",
          "text": [
            "epochs =  1 , step =  0 , loss value =  2.4941947\n",
            "epochs =  1 , step =  100 , loss value =  2.3346207\n",
            "epochs =  1 , step =  200 , loss value =  1.1647869\n",
            "epochs =  1 , step =  300 , loss value =  0.41520318\n",
            "epochs =  1 , step =  400 , loss value =  0.2358522\n",
            "epochs =  1 , step =  500 , loss value =  0.17523746\n",
            "epochs =  2 , step =  0 , loss value =  0.33585036\n",
            "epochs =  2 , step =  100 , loss value =  0.1483211\n",
            "epochs =  2 , step =  200 , loss value =  0.22410528\n",
            "epochs =  2 , step =  300 , loss value =  0.16860738\n",
            "epochs =  2 , step =  400 , loss value =  0.12539262\n",
            "epochs =  2 , step =  500 , loss value =  0.07564123\n",
            "epochs =  3 , step =  0 , loss value =  0.09187245\n",
            "epochs =  3 , step =  100 , loss value =  0.09156503\n",
            "epochs =  3 , step =  200 , loss value =  0.3634276\n",
            "epochs =  3 , step =  300 , loss value =  0.1010558\n",
            "epochs =  3 , step =  400 , loss value =  0.15240386\n",
            "epochs =  3 , step =  500 , loss value =  0.14016691\n",
            "epochs =  4 , step =  0 , loss value =  0.09723133\n",
            "epochs =  4 , step =  100 , loss value =  0.04469138\n",
            "epochs =  4 , step =  200 , loss value =  0.079471916\n",
            "epochs =  4 , step =  300 , loss value =  0.108359985\n",
            "epochs =  4 , step =  400 , loss value =  0.14866306\n",
            "epochs =  4 , step =  500 , loss value =  0.09573634\n",
            "epochs =  5 , step =  0 , loss value =  0.09510682\n",
            "epochs =  5 , step =  100 , loss value =  0.057051443\n",
            "epochs =  5 , step =  200 , loss value =  0.094964154\n",
            "epochs =  5 , step =  300 , loss value =  0.1691907\n",
            "epochs =  5 , step =  400 , loss value =  0.087819144\n",
            "epochs =  5 , step =  500 , loss value =  0.07729732\n",
            "epochs =  6 , step =  0 , loss value =  0.10519651\n",
            "epochs =  6 , step =  100 , loss value =  0.06491049\n",
            "epochs =  6 , step =  200 , loss value =  0.14349705\n",
            "epochs =  6 , step =  300 , loss value =  0.14169945\n",
            "epochs =  6 , step =  400 , loss value =  0.022710236\n",
            "epochs =  6 , step =  500 , loss value =  0.11539388\n",
            "epochs =  7 , step =  0 , loss value =  0.11025199\n",
            "epochs =  7 , step =  100 , loss value =  0.025872434\n",
            "epochs =  7 , step =  200 , loss value =  0.035645615\n",
            "epochs =  7 , step =  300 , loss value =  0.01737702\n",
            "epochs =  7 , step =  400 , loss value =  0.10210262\n",
            "epochs =  7 , step =  500 , loss value =  0.046052504\n",
            "epochs =  8 , step =  0 , loss value =  0.06298849\n",
            "epochs =  8 , step =  100 , loss value =  0.009817206\n",
            "epochs =  8 , step =  200 , loss value =  0.06816759\n",
            "epochs =  8 , step =  300 , loss value =  0.12537031\n",
            "epochs =  8 , step =  400 , loss value =  0.06894409\n",
            "epochs =  8 , step =  500 , loss value =  0.04059247\n",
            "epochs =  9 , step =  0 , loss value =  0.06223829\n",
            "epochs =  9 , step =  100 , loss value =  0.01773073\n",
            "epochs =  9 , step =  200 , loss value =  0.105535574\n",
            "epochs =  9 , step =  300 , loss value =  0.117269136\n",
            "epochs =  9 , step =  400 , loss value =  0.04686122\n",
            "epochs =  9 , step =  500 , loss value =  0.04484819\n",
            "epochs =  10 , step =  0 , loss value =  0.05122484\n",
            "epochs =  10 , step =  100 , loss value =  0.060262028\n",
            "epochs =  10 , step =  200 , loss value =  0.043315314\n",
            "epochs =  10 , step =  300 , loss value =  0.075592436\n",
            "epochs =  10 , step =  400 , loss value =  0.022751397\n",
            "epochs =  10 , step =  500 , loss value =  0.067041606\n",
            "epochs =  11 , step =  0 , loss value =  0.016699947\n",
            "epochs =  11 , step =  100 , loss value =  0.031680014\n",
            "epochs =  11 , step =  200 , loss value =  0.03459122\n",
            "epochs =  11 , step =  300 , loss value =  0.03545396\n",
            "epochs =  11 , step =  400 , loss value =  0.047732912\n",
            "epochs =  11 , step =  500 , loss value =  0.16151734\n",
            "epochs =  12 , step =  0 , loss value =  0.09183348\n",
            "epochs =  12 , step =  100 , loss value =  0.053369783\n",
            "epochs =  12 , step =  200 , loss value =  0.043900285\n",
            "epochs =  12 , step =  300 , loss value =  0.07136894\n",
            "epochs =  12 , step =  400 , loss value =  0.09729147\n",
            "epochs =  12 , step =  500 , loss value =  0.040065642\n",
            "epochs =  13 , step =  0 , loss value =  0.039658062\n",
            "epochs =  13 , step =  100 , loss value =  0.044814743\n",
            "epochs =  13 , step =  200 , loss value =  0.051018916\n",
            "epochs =  13 , step =  300 , loss value =  0.04608811\n",
            "epochs =  13 , step =  400 , loss value =  0.05137002\n",
            "epochs =  13 , step =  500 , loss value =  0.06720371\n",
            "epochs =  14 , step =  0 , loss value =  0.033683844\n",
            "epochs =  14 , step =  100 , loss value =  0.066302955\n",
            "epochs =  14 , step =  200 , loss value =  0.030883413\n",
            "epochs =  14 , step =  300 , loss value =  0.006994349\n",
            "epochs =  14 , step =  400 , loss value =  0.01172799\n",
            "epochs =  14 , step =  500 , loss value =  0.029044924\n",
            "epochs =  15 , step =  0 , loss value =  0.05520579\n",
            "epochs =  15 , step =  100 , loss value =  0.07034108\n",
            "epochs =  15 , step =  200 , loss value =  0.027867801\n",
            "epochs =  15 , step =  300 , loss value =  0.002883962\n",
            "epochs =  15 , step =  400 , loss value =  0.035953782\n",
            "epochs =  15 , step =  500 , loss value =  0.0134986555\n",
            "epochs =  16 , step =  0 , loss value =  0.03535426\n",
            "epochs =  16 , step =  100 , loss value =  0.056846034\n",
            "epochs =  16 , step =  200 , loss value =  0.046257477\n",
            "epochs =  16 , step =  300 , loss value =  0.024122948\n",
            "epochs =  16 , step =  400 , loss value =  0.037676025\n",
            "epochs =  16 , step =  500 , loss value =  0.0729667\n",
            "epochs =  17 , step =  0 , loss value =  0.0077362885\n",
            "epochs =  17 , step =  100 , loss value =  0.01809544\n",
            "epochs =  17 , step =  200 , loss value =  0.030103706\n",
            "epochs =  17 , step =  300 , loss value =  0.023096917\n",
            "epochs =  17 , step =  400 , loss value =  0.01005856\n",
            "epochs =  17 , step =  500 , loss value =  0.020390775\n",
            "epochs =  18 , step =  0 , loss value =  0.043994732\n",
            "epochs =  18 , step =  100 , loss value =  0.00938589\n",
            "epochs =  18 , step =  200 , loss value =  0.13371098\n",
            "epochs =  18 , step =  300 , loss value =  0.008961612\n",
            "epochs =  18 , step =  400 , loss value =  0.06240797\n",
            "epochs =  18 , step =  500 , loss value =  0.0073739435\n",
            "epochs =  19 , step =  0 , loss value =  0.041389022\n",
            "epochs =  19 , step =  100 , loss value =  0.01929909\n",
            "epochs =  19 , step =  200 , loss value =  0.009340367\n",
            "epochs =  19 , step =  300 , loss value =  0.013520048\n",
            "epochs =  19 , step =  400 , loss value =  0.013357317\n",
            "epochs =  19 , step =  500 , loss value =  0.1007046\n",
            "epochs =  20 , step =  0 , loss value =  0.013916129\n",
            "epochs =  20 , step =  100 , loss value =  0.03039017\n",
            "epochs =  20 , step =  200 , loss value =  0.005817812\n",
            "epochs =  20 , step =  300 , loss value =  0.013725047\n",
            "epochs =  20 , step =  400 , loss value =  0.026528344\n",
            "epochs =  20 , step =  500 , loss value =  0.109858796\n",
            "\n",
            "Elapsed time =  0:00:48.951167\n",
            "\n",
            "Accuracy =  0.9825\n"
          ],
          "name": "stdout"
        }
      ]
    },
    {
      "cell_type": "code",
      "metadata": {
        "colab": {
          "base_uri": "https://localhost:8080/"
        },
        "id": "FMC_EPPK7BeM",
        "outputId": "2ded4a5c-31b2-4161-c1ab-cebdb95b1469"
      },
      "source": [
        "print(index_label_prediction_list)"
      ],
      "execution_count": 13,
      "outputs": [
        {
          "output_type": "stream",
          "text": [
            "[[18, 3, 8], [151, 9, 8], [241, 9, 8], [259, 6, 0], [320, 9, 8], [340, 5, 3], [444, 2, 8], [445, 6, 0], [582, 8, 2], [625, 6, 4], [684, 7, 3], [689, 7, 4], [720, 5, 8], [726, 7, 4], [813, 9, 8], [846, 7, 9], [894, 3, 8], [926, 2, 8], [938, 3, 5], [947, 8, 9], [1014, 6, 0], [1039, 7, 2], [1182, 6, 8], [1226, 7, 2], [1232, 9, 4], [1247, 9, 5], [1260, 7, 1], [1299, 5, 7], [1326, 7, 2], [1328, 7, 4], [1356, 2, 8], [1522, 7, 9], [1527, 1, 4], [1553, 9, 8], [1611, 3, 8], [1621, 0, 6], [1681, 3, 7], [1709, 9, 5], [1721, 7, 9], [1737, 5, 2], [1773, 1, 6], [1790, 2, 8], [1800, 6, 4], [1894, 9, 8], [1901, 9, 4], [1913, 3, 8], [1941, 7, 8], [2018, 1, 8], [2024, 7, 9], [2035, 5, 3], [2043, 4, 8], [2052, 8, 4], [2098, 2, 0], [2130, 4, 9], [2135, 6, 1], [2189, 9, 8], [2224, 5, 8], [2280, 3, 5], [2291, 5, 8], [2293, 9, 4], [2387, 9, 1], [2408, 3, 5], [2462, 2, 0], [2488, 2, 4], [2534, 3, 5], [2578, 7, 2], [2597, 5, 3], [2654, 6, 1], [2730, 7, 4], [2770, 3, 8], [2836, 4, 7], [2939, 9, 5], [2995, 6, 8], [3005, 9, 8], [3030, 6, 8], [3073, 1, 2], [3300, 3, 2], [3333, 7, 9], [3422, 6, 0], [3451, 7, 9], [3503, 9, 1], [3520, 6, 4], [3534, 4, 8], [3558, 5, 0], [3565, 5, 8], [3591, 5, 8], [3730, 7, 9], [3751, 7, 2], [3780, 4, 6], [3806, 5, 8], [3808, 7, 8], [3817, 2, 4], [3838, 7, 4], [3853, 6, 8], [3869, 9, 4], [3941, 4, 6], [3976, 7, 1], [4007, 7, 9], [4027, 7, 9], [4078, 9, 8], [4176, 2, 7], [4256, 3, 0], [4317, 3, 9], [4443, 3, 2], [4497, 8, 7], [4498, 7, 8], [4507, 1, 2], [4511, 9, 4], [4536, 6, 5], [4571, 6, 8], [4578, 7, 9], [4615, 2, 4], [4740, 3, 4], [4761, 9, 8], [4807, 8, 0], [4823, 9, 4], [4833, 3, 2], [4860, 4, 9], [4861, 7, 8], [4888, 5, 8], [5600, 7, 9], [5642, 1, 8], [5649, 7, 9], [5654, 7, 2], [5709, 7, 9], [5955, 3, 8], [5973, 3, 8], [5985, 5, 8], [5997, 5, 8], [6023, 3, 9], [6042, 5, 8], [6046, 3, 8], [6421, 3, 2], [6505, 9, 0], [6555, 8, 9], [6576, 7, 1], [6608, 9, 5], [6651, 0, 8], [6783, 1, 6], [7268, 7, 4], [7580, 9, 4], [7842, 5, 8], [7847, 1, 8], [7849, 3, 4], [7850, 5, 8], [7856, 1, 8], [7905, 3, 2], [7915, 7, 8], [7918, 5, 8], [8091, 2, 8], [8246, 3, 5], [8325, 0, 6], [8408, 8, 5], [8485, 3, 8], [8508, 3, 0], [8527, 4, 9], [8597, 3, 8], [9009, 7, 2], [9015, 7, 2], [9019, 7, 2], [9024, 7, 2], [9505, 7, 2], [9530, 9, 8], [9587, 9, 4], [9634, 0, 8], [9679, 6, 2], [9729, 5, 6], [9749, 5, 6], [9768, 2, 0], [9770, 5, 0], [9779, 2, 8], [9781, 7, 9], [9888, 6, 0], [9904, 2, 8], [9941, 5, 8]]\n"
          ],
          "name": "stdout"
        }
      ]
    },
    {
      "cell_type": "code",
      "metadata": {
        "id": "vt1sR8V07P0T"
      },
      "source": [
        ""
      ],
      "execution_count": null,
      "outputs": []
    }
  ]
}