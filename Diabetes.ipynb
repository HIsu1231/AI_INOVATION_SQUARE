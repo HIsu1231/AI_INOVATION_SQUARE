{
 "cells": [
  {
   "cell_type": "markdown",
   "metadata": {},
   "source": [
    "DataGeneration class"
   ]
  },
  {
   "cell_type": "code",
   "execution_count": 27,
   "metadata": {},
   "outputs": [],
   "source": [
    "import numpy as np\n",
    "import matplotlib.pyplot as plt"
   ]
  },
  {
   "cell_type": "code",
   "execution_count": null,
   "metadata": {},
   "outputs": [],
   "source": [
    "class DataGeneration:\n",
    "    \n",
    "    def __init__(self,name, file_path, seperation_rate):\n",
    "        \n",
    "        self.name = name\n",
    "        self.file_path = file_path\n",
    "        self.seperation_rate = seperation_rate\n",
    "        \n",
    "    def generate(self):\n",
    "        \n",
    "        try:\n",
    "            loaded_data = np.loadtxt(self.file_path,delimiter=',',dtype=np.float32)\n",
    "            \n",
    "        except Exception as err:\n",
    "            print(\"[DataGeneration::generate()]\", str(err))\n",
    "            raise Exception(str(err))\n",
    "        \n",
    "        print(\"[Data Generation] loaded_data.shape = \",loaded_data.shape)\n",
    "        \n",
    "        total_data_num = len(loaded_data)\n",
    "        test_data_num = int(len(loaded_data)*self.seperation_rate)\n",
    "        \n",
    "        np.random.shuffle(loaded_data)\n",
    "        \n",
    "        test_data = loaded_data[0:test_data_num]\n",
    "        training_data = loaded_data[test_data_num: ]\n",
    "        \n",
    "        return training_data, test_data"
   ]
  },
  {
   "cell_type": "markdown",
   "metadata": {},
   "source": [
    "분리비율 30%"
   ]
  },
  {
   "cell_type": "code",
   "execution_count": null,
   "metadata": {},
   "outputs": [],
   "source": [
    "seperation_rate = 0.3\n",
    "\n",
    "try:\n",
    "    data_obj1 = DataGeneration(\"Diabetes\",\"./../(200309)diabetes.csv\",seperation_rate)\n",
    "    \n",
    "    (generated_training_data, generated_test_data) = data_obj1.generate()\n",
    "    \n",
    "    print(\"generated_training_data.shape = \", generated_training_data.shape)\n",
    "    print(\"generated_test_data.shape = \",generated_test_data.shape)\n",
    "    \n",
    "except Exception as err:\n",
    "    print(\"Exception Occur!!!\")\n",
    "    print(str(err))"
   ]
  },
  {
   "cell_type": "markdown",
   "metadata": {},
   "source": [
    "분리비율 50%"
   ]
  },
  {
   "cell_type": "code",
   "execution_count": null,
   "metadata": {},
   "outputs": [],
   "source": [
    "seperation_rate = 0.5\n",
    "\n",
    "try:\n",
    "    data_obj2 = DataGeneration(\"Diabetes\",\"./../(200309)diabetes.csv\",seperation_rate)\n",
    "    \n",
    "    (generated_training_data, generated_test_data) = data_obj2.generate()\n",
    "    \n",
    "    print(\"generated_training_data.shape = \",generated_training_data.shape)\n",
    "    print(\"generated_test_data.shape = \",generated_test_data.shape)\n",
    "except Exception as err:\n",
    "    print(\"Exception Occur!!\")\n",
    "    print(str(err))"
   ]
  },
  {
   "cell_type": "markdown",
   "metadata": {},
   "source": [
    "### DIabetes 완성본"
   ]
  },
  {
   "cell_type": "code",
   "execution_count": 2,
   "metadata": {},
   "outputs": [],
   "source": [
    "# 수치미분 함수\n",
    "\n",
    "def numerical_derivative(f, x):\n",
    "    delta_x = 1e-4 # 0.0001\n",
    "    grad = np.zeros_like(x)\n",
    "    \n",
    "    it = np.nditer(x, flags=['multi_index'], op_flags=['readwrite'])\n",
    "    \n",
    "    while not it.finished:\n",
    "        idx = it.multi_index        \n",
    "        tmp_val = x[idx]\n",
    "        x[idx] = float(tmp_val) + delta_x\n",
    "        fx1 = f(x) # f(x+delta_x)\n",
    "        \n",
    "        x[idx] = tmp_val - delta_x \n",
    "        fx2 = f(x) # f(x-delta_x)\n",
    "        grad[idx] = (fx1 - fx2) / (2*delta_x)\n",
    "        \n",
    "        x[idx] = tmp_val \n",
    "        it.iternext()   \n",
    "        \n",
    "    return grad\n",
    "\n",
    "# sigmoid 함수\n",
    "\n",
    "def sigmoid(x):\n",
    "    return 1 / (1+np.exp(-x))"
   ]
  },
  {
   "cell_type": "code",
   "execution_count": 39,
   "metadata": {},
   "outputs": [],
   "source": [
    "class Diabetes:\n",
    "    \n",
    "    def __init__(self,i_node,h_node,o_node,lr):\n",
    "        \n",
    "        \n",
    "        self.W2 = np.random.rand(i_node,h_node)\n",
    "        self.b2 = np.random.rand(h_node)\n",
    "        \n",
    "        self.W3 = np.random.rand(h_node,o_node)\n",
    "        self.b3 = np.random.rand(o_node)\n",
    "        \n",
    "        self.learning_rate = lr\n",
    "        \n",
    "    def feed_forward(self):\n",
    "        \n",
    "        delta = 1e-7\n",
    "        \n",
    "        z2 = np.dot(self.input_data,self.W2) + self.b2\n",
    "        a2 = sigmoid(z2)\n",
    "        \n",
    "        z3 = np.dot(a2,self.W3) + self.b3\n",
    "        y = a3 = sigmoid(z3)\n",
    "        \n",
    "        return -np.sum(self.target_data*np.log(y+delta) + (1-self.target_data)*np.log((1-y)+delta))\n",
    "    \n",
    "    def predict(self,testdata):\n",
    "        \n",
    "        delta = 1e-7\n",
    "        \n",
    "        z2 = np.dot(testdata,self.W2) + self.b2\n",
    "        a2 = sigmoid(z2)\n",
    "        \n",
    "        z3 = np.dot(a2,self.W3) + self.b3\n",
    "        y = a3 = sigmoid(z3)\n",
    "        \n",
    "        if y >= 0.5:\n",
    "            result = 1\n",
    "        else:\n",
    "            result = 0\n",
    "        \n",
    "        return y, result\n",
    "    \n",
    "    def accuracy(self,test_xdata,test_tdata):\n",
    "        \n",
    "        matched_list = []\n",
    "        unmatched_list = []\n",
    "        \n",
    "        for i in range(len(test_xdata)):\n",
    "            (real_val, logistic_val) = self.predict(test_xdata[i])\n",
    "            if logistic_val == test_tdata[i]:\n",
    "                matched_list.append(i)\n",
    "            else:\n",
    "                unmatched_list.append(i)\n",
    "        \n",
    "        accuracy_ret =  len(matched_list)/len(test_xdata)\n",
    "        \n",
    "        print(\"accuracy ret = \",accuracy_ret)\n",
    "        \n",
    "        return unmatched_list, accuracy_ret\n",
    "        \n",
    "        \n",
    "    def train(self, input_data, target_data):\n",
    "        \n",
    "        self.input_data = input_data\n",
    "        self.target_data = target_data\n",
    "        \n",
    "        f = lambda x : self.feed_forward()\n",
    "        \n",
    "        self.W2 -= self.learning_rate * numerical_derivative(f, self.W2)\n",
    "    \n",
    "        self.b2 -= self.learning_rate * numerical_derivative(f, self.b2)\n",
    "        \n",
    "        self.W3 -= self.learning_rate * numerical_derivative(f, self.W3)\n",
    "    \n",
    "        self.b3 -= self.learning_rate * numerical_derivative(f, self.b3)"
   ]
  },
  {
   "cell_type": "code",
   "execution_count": 40,
   "metadata": {},
   "outputs": [],
   "source": [
    "class DataGeneration:\n",
    "    \n",
    "    def __init__(self,name, file_path, seperation_rate):\n",
    "        self.name = name\n",
    "        self.file_path = file_path\n",
    "        self.seperation_rate = seperation_rate\n",
    "    \n",
    "    def generate(self):\n",
    "        \n",
    "        loaded_data = np.loadtxt(self.file_path,delimiter=',',dtype=np.float32)\n",
    "        \n",
    "        total_data_num = len(loaded_data)\n",
    "        test_data_num = int(len(loaded_data)*self.seperation_rate)\n",
    "        \n",
    "        np.random.shuffle(loaded_data)\n",
    "        \n",
    "        generated_test_data = loaded_data[ :test_data_num]\n",
    "        generated_training_data = loaded_data[test_data_num: ]\n",
    "        \n",
    "        return generated_training_data, generated_test_data        "
   ]
  },
  {
   "cell_type": "markdown",
   "metadata": {},
   "source": [
    "test_data 30% / training_data 70%"
   ]
  },
  {
   "cell_type": "code",
   "execution_count": 41,
   "metadata": {},
   "outputs": [
    {
     "name": "stdout",
     "output_type": "stream",
     "text": [
      "test_data.shape =  (151, 9) ,training_data.shape =  (608, 9)\n"
     ]
    }
   ],
   "source": [
    "data_obj = DataGeneration(\"Diabetes\", \"./../(200309)diabetes.csv\",0.2)\n",
    "(training_data,test_data,) = data_obj.generate()\n",
    "\n",
    "print(\"test_data.shape = \",test_data.shape,\",training_data.shape = \",training_data.shape)"
   ]
  },
  {
   "cell_type": "code",
   "execution_count": 42,
   "metadata": {},
   "outputs": [
    {
     "name": "stdout",
     "output_type": "stream",
     "text": [
      "Step =  1 loss value =  0.09116056324116702\n",
      "Step =  2 loss value =  0.10025506347604048\n",
      "Step =  3 loss value =  0.10788620784578433\n",
      "Step =  4 loss value =  0.08160170871371356\n",
      "Step =  5 loss value =  0.05877249553163827\n",
      "Step =  6 loss value =  0.04635252219448827\n",
      "Step =  7 loss value =  0.05132771940759112\n",
      "Step =  8 loss value =  0.07428395557309622\n",
      "Step =  9 loss value =  0.08505203555434064\n",
      "Step =  10 loss value =  0.08540154472265796\n",
      "Step =  11 loss value =  0.08580536722125003\n",
      "Step =  12 loss value =  0.085150253954433\n",
      "Step =  13 loss value =  0.0837048142903033\n",
      "Step =  14 loss value =  0.08214802819671024\n",
      "Step =  15 loss value =  0.08456760499735778\n",
      "Step =  16 loss value =  0.11741524947218927\n",
      "Step =  17 loss value =  0.10144276091767498\n",
      "Step =  18 loss value =  0.0875341457317902\n",
      "Step =  19 loss value =  0.08153492784503591\n",
      "Step =  20 loss value =  0.07826951859973355\n"
     ]
    }
   ],
   "source": [
    "i_node = training_data.shape[1] - 1\n",
    "h_node = 10\n",
    "o_node = 1\n",
    "\n",
    "lr = 1e-2\n",
    "epochs = 20\n",
    "\n",
    "loss_val_list = []\n",
    "accuracy_val_list = []\n",
    "validataion_accuracy_val_list = []\n",
    "\n",
    "Diabetes_obj1 = Diabetes(i_node,h_node,o_node,lr)\n",
    "\n",
    "for step in range(epochs):\n",
    "    \n",
    "    for i in range(len(training_data)):\n",
    "        \n",
    "        input_data = training_data[i:, 0:-1]\n",
    "        target_data = training_data[i:, [-1]]\n",
    "        \n",
    "        Diabetes_obj1.train(input_data,target_data)\n",
    "        \n",
    "    cur_loss_val = Diabetes_obj1.feed_forward()\n",
    "    loss_val_list.append(cur_loss_val)\n",
    "    \n",
    "    print(\"Step = \",step +1, \"loss value = \",Diabetes_obj1.feed_forward())"
   ]
  },
  {
   "cell_type": "code",
   "execution_count": 43,
   "metadata": {},
   "outputs": [
    {
     "name": "stdout",
     "output_type": "stream",
     "text": [
      "accuracy ret =  0.7350993377483444\n",
      "Test Data Accuracy =  0.735\n"
     ]
    }
   ],
   "source": [
    "test_input_data = test_data[:,:-1]\n",
    "test_target_data = test_data[:,[-1]]\n",
    "\n",
    "(false_list, accuracy_ret) = Diabetes_obj1.accuracy(test_input_data,test_target_data)\n",
    "print(\"Test Data Accuracy = \",np.round(accuracy_ret,3))"
   ]
  },
  {
   "cell_type": "code",
   "execution_count": 44,
   "metadata": {},
   "outputs": [
    {
     "data": {
      "image/png": "[encoded data removed]",
      "text/plain": [
       "<Figure size 432x288 with 1 Axes>"
      ]
     },
     "metadata": {
      "needs_background": "light"
     },
     "output_type": "display_data"
    }
   ],
   "source": [
    "plt.title(\"Loss Value Trend\")\n",
    "plt.xlabel('epochs')\n",
    "plt.ylabel('loss')\n",
    "plt.grid()\n",
    "plt.plot(loss_val_list)\n",
    "plt.show()"
   ]
  },
  {
   "cell_type": "markdown",
   "metadata": {},
   "source": [
    "test_data 20% training_data 80%"
   ]
  },
  {
   "cell_type": "code",
   "execution_count": 46,
   "metadata": {},
   "outputs": [
    {
     "name": "stdout",
     "output_type": "stream",
     "text": [
      "training_data.shape =  (608, 9) test_data.shape =  (151, 9)\n"
     ]
    }
   ],
   "source": [
    "Diabetes_obj2_data = DataGeneration(\"Diabetes\",\"./../(200309)diabetes.csv\",0.2)\n",
    "\n",
    "(training_data,test_data) = Diabetes_obj2_data.generate()\n",
    "\n",
    "print(\"training_data.shape = \",training_data.shape, \"test_data.shape = \",test_data.shape)"
   ]
  },
  {
   "cell_type": "code",
   "execution_count": 47,
   "metadata": {},
   "outputs": [
    {
     "name": "stdout",
     "output_type": "stream",
     "text": [
      "step =  1 0.1186599724748191\n",
      "step =  2 0.1242734731417994\n",
      "step =  3 0.13002830158724138\n",
      "step =  4 0.1359198668178661\n",
      "step =  5 0.14194303927625507\n",
      "step =  6 0.14809216338084405\n",
      "step =  7 0.15436107462189522\n",
      "step =  8 0.16074312117238146\n",
      "step =  9 0.1672311899016856\n",
      "step =  10 0.17381773660855313\n",
      "step =  11 0.18049482021928354\n",
      "step =  12 0.1872541406298454\n",
      "step =  13 0.19408707980823725\n",
      "step =  14 0.20098474571757627\n",
      "step =  15 0.20793801857281946\n",
      "step =  16 0.21493759890585173\n",
      "step =  17 0.2219740568861551\n",
      "step =  18 0.22903788232791783\n",
      "step =  19 0.23611953480972703\n",
      "step =  20 0.24320949333982717\n"
     ]
    }
   ],
   "source": [
    "i_node = training_data.shape[1]-1\n",
    "h_node = 10\n",
    "o_node = 1\n",
    "\n",
    "lr = 1e-4\n",
    "epochs = 20\n",
    "\n",
    "loss_val_list = []\n",
    "\n",
    "Diabetes_obj2 = Diabetes(i_node,h_node,o_node,lr)\n",
    "\n",
    "for step in range(epochs):\n",
    "    \n",
    "    for i in range(len(training_data)):\n",
    "        \n",
    "        input_data = training_data[i,:-1]\n",
    "        target_data = training_data[i,[-1]]\n",
    "        \n",
    "        Diabetes_obj2.train(input_data,target_data)\n",
    "        \n",
    "    print(\"step = \",step+1, Diabetes_obj2.feed_forward())\n",
    "    cur_val = Diabetes_obj2.feed_forward()\n",
    "    loss_val_list.append(cur_val)       "
   ]
  },
  {
   "cell_type": "code",
   "execution_count": 48,
   "metadata": {},
   "outputs": [
    {
     "name": "stdout",
     "output_type": "stream",
     "text": [
      "accuracy ret =  0.6357615894039735\n"
     ]
    }
   ],
   "source": [
    "test_input_data = test_data[:,:-1]\n",
    "test_target_data = test_data[:,[-1]]\n",
    "\n",
    "(f,accuracy_ret)=Diabetes_obj2.accuracy(test_input_data,test_target_data)"
   ]
  },
  {
   "cell_type": "code",
   "execution_count": 49,
   "metadata": {},
   "outputs": [
    {
     "data": {
      "image/png": "[encoded data removed]",
      "text/plain": [
       "<Figure size 432x288 with 1 Axes>"
      ]
     },
     "metadata": {
      "needs_background": "light"
     },
     "output_type": "display_data"
    }
   ],
   "source": [
    "plt.title(\"Loss Value Trend\")\n",
    "plt.xlabel('epochs')\n",
    "plt.ylabel('loss')\n",
    "plt.grid()\n",
    "plt.plot(loss_val_list)\n",
    "plt.show()"
   ]
  },
  {
   "cell_type": "code",
   "execution_count": null,
   "metadata": {},
   "outputs": [],
   "source": []
  }
 ],
 "metadata": {
  "kernelspec": {
   "display_name": "Python 3",
   "language": "python",
   "name": "python3"
  },
  "language_info": {
   "codemirror_mode": {
    "name": "ipython",
    "version": 3
   },
   "file_extension": ".py",
   "mimetype": "text/x-python",
   "name": "python",
   "nbconvert_exporter": "python",
   "pygments_lexer": "ipython3",
   "version": "3.6.9"
  }
 },
 "nbformat": 4,
 "nbformat_minor": 2
}
