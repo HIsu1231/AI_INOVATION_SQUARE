{
  "nbformat": 4,
  "nbformat_minor": 0,
  "metadata": {
    "colab": {
      "name": "new_softmax.ipynb",
      "provenance": [],
      "authorship_tag": "ABX9TyPHRhtPn8Fs/gU3OcXQaCoj",
      "include_colab_link": true
    },
    "kernelspec": {
      "name": "python3",
      "display_name": "Python 3"
    }
  },
  "cells": [
    {
      "cell_type": "markdown",
      "metadata": {
        "id": "view-in-github",
        "colab_type": "text"
      },
      "source": [
        "<a href=\"https://colab.research.google.com/github/HIsu1231/AI_INOVATION_SQUARE/blob/master/new_softmax.ipynb\" target=\"_parent\"><img src=\"https://colab.research.google.com/assets/colab-badge.svg\" alt=\"Open In Colab\"/></a>"
      ]
    },
    {
      "cell_type": "code",
      "metadata": {
        "id": "SZqGvzDD5uaF"
      },
      "source": [
        "import numpy as np"
      ],
      "execution_count": 1,
      "outputs": []
    },
    {
      "cell_type": "code",
      "metadata": {
        "id": "3jWEobWq68ZR"
      },
      "source": [
        "def softmax(z): #지수함수 특성상 값이 급격하게 증가하면 오버플로우 발생 가능\n",
        "                #오버플로우 발생 방지를 위해 입력값 중 최대값을\n",
        "                #모든 값에 동일하게 뺀 값으로 계산함\n",
        "\n",
        "  c = np.max(z)\n",
        "\n",
        "  numerator = np.exp(z-c)\n",
        "  denominator = np.sum(np.exp(z-c))\n",
        "\n",
        "  y = numerator / denominator \n",
        "\n",
        "  return y"
      ],
      "execution_count": 2,
      "outputs": []
    },
    {
      "cell_type": "code",
      "metadata": {
        "id": "ox9itmKl7jGr"
      },
      "source": [
        "A = np.array([0.7, 0.8, 0.01])\n",
        "\n",
        "B = np.array([0.3, 2.9, 4.0])\n",
        "\n",
        "C = np.array([110, 100, 90])\n",
        "\n",
        "D = np.array([1000, 1100, 900])"
      ],
      "execution_count": 3,
      "outputs": []
    },
    {
      "cell_type": "code",
      "metadata": {
        "id": "9Ry9feCV7vLv",
        "outputId": "a12505b6-9ea7-45d3-b65f-094c694a02af",
        "colab": {
          "base_uri": "https://localhost:8080/"
        }
      },
      "source": [
        "print(softmax(A))\n",
        "print(softmax(B))\n",
        "print(softmax(C))\n",
        "print(softmax(D))"
      ],
      "execution_count": 4,
      "outputs": [
        {
          "output_type": "stream",
          "text": [
            "[0.38361989 0.42396555 0.19241456]\n",
            "[0.01821127 0.24519181 0.73659691]\n",
            "[9.99954600e-01 4.53978686e-05 2.06106005e-09]\n",
            "[3.72007598e-44 1.00000000e+00 1.38389653e-87]\n"
          ],
          "name": "stdout"
        }
      ]
    },
    {
      "cell_type": "code",
      "metadata": {
        "id": "XP5E7Us570kj",
        "outputId": "0906fb1d-69e0-4eb5-c736-ed17daee4e09",
        "colab": {
          "base_uri": "https://localhost:8080/"
        }
      },
      "source": [
        "print(np.sum(softmax(A)))\n",
        "print(np.sum(softmax(B)))\n",
        "print(np.sum(softmax(C)))\n",
        "print(np.sum(softmax(D)))"
      ],
      "execution_count": 6,
      "outputs": [
        {
          "output_type": "stream",
          "text": [
            "1.0\n",
            "1.0\n",
            "1.0\n",
            "1.0\n"
          ],
          "name": "stdout"
        }
      ]
    },
    {
      "cell_type": "code",
      "metadata": {
        "id": "CwQdvl8j76oa"
      },
      "source": [
        ""
      ],
      "execution_count": null,
      "outputs": []
    }
  ]
}