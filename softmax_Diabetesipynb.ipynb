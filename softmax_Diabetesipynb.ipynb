{
  "nbformat": 4,
  "nbformat_minor": 0,
  "metadata": {
    "colab": {
      "name": "softmax_Diabetesipynb",
      "provenance": [],
      "mount_file_id": "1qWrCjV64iaZbaI2fGufn9bgRRxhbrIOp",
      "authorship_tag": "ABX9TyNO4YTSW4Ai/IpA4IWQ8ALO",
      "include_colab_link": true
    },
    "kernelspec": {
      "name": "python3",
      "display_name": "Python 3"
    }
  },
  "cells": [
    {
      "cell_type": "markdown",
      "metadata": {
        "id": "view-in-github",
        "colab_type": "text"
      },
      "source": [
        "<a href=\"https://colab.research.google.com/github/HIsu1231/AI_INOVATION_SQUARE/blob/master/softmax_Diabetesipynb.ipynb\" target=\"_parent\"><img src=\"https://colab.research.google.com/assets/colab-badge.svg\" alt=\"Open In Colab\"/></a>"
      ]
    },
    {
      "cell_type": "code",
      "metadata": {
        "id": "lLF8BnTn8Qiw"
      },
      "source": [
        "import numpy as np\n",
        "from datetime import datetime\n",
        "import matplotlib.pyplot as plt\n",
        "\n",
        "np.random.seed(0)"
      ],
      "execution_count": 7,
      "outputs": []
    },
    {
      "cell_type": "code",
      "metadata": {
        "id": "h6nCvAvYAqEW"
      },
      "source": [
        "# 수치미분 함수\n",
        "\n",
        "def numerical_derivative(f, x):\n",
        "    delta_x = 1e-4 # 0.0001\n",
        "    grad = np.zeros_like(x)\n",
        "    \n",
        "    it = np.nditer(x, flags=['multi_index'], op_flags=['readwrite'])\n",
        "    \n",
        "    while not it.finished:\n",
        "        idx = it.multi_index        \n",
        "        tmp_val = x[idx]\n",
        "        x[idx] = float(tmp_val) + delta_x\n",
        "        fx1 = f(x) # f(x+delta_x)\n",
        "        \n",
        "        x[idx] = tmp_val - delta_x \n",
        "        fx2 = f(x) # f(x-delta_x)\n",
        "        grad[idx] = (fx1 - fx2) / (2*delta_x)\n",
        "        \n",
        "        x[idx] = tmp_val \n",
        "        it.iternext()   \n",
        "        \n",
        "    return grad\n",
        "\n",
        "# sigmoid 함수\n",
        "\n",
        "def sigmoid(x):\n",
        "    return 1 / (1+np.exp(-x))\n",
        "\n",
        "#softmax 함수\n",
        "\n",
        "def softmax(z):\n",
        "\n",
        "  c = np.max(z)\n",
        "\n",
        "  numerator = np.exp(z-c)\n",
        "  denominator = np.sum(np.exp(z-c))\n",
        "\n",
        "  y = numerator / denominator\n",
        "  \n",
        "  return y"
      ],
      "execution_count": 9,
      "outputs": []
    },
    {
      "cell_type": "code",
      "metadata": {
        "id": "WBIHtSN_B8Uc"
      },
      "source": [
        "class DataGeneration:\n",
        "\n",
        "  def __init__(self, file_path, seperation_rate, target_position = -1):\n",
        "\n",
        "    self.file_path = file_path\n",
        "\n",
        "    self.seperation_rate = seperation_rate\n",
        "\n",
        "    if target_position == -1 or target_position == 0:\n",
        "      self.target_position = target_position\n",
        "    else:\n",
        "      err_str = \"target position must be -1 or 0\"\n",
        "      raise Exception(err_str)\n",
        "\n",
        "  def __display_target_distribution(self, data, str_of_kind = 'original data'):\n",
        "\n",
        "    print(\"==================================================================\")\n",
        "\n",
        "    target_data = data[:,self.target_position]\n",
        "\n",
        "    unique, counts = np.unique(target_data,return_counts=True)\n",
        "\n",
        "    for i in range(len(unique)):\n",
        "      print(\"[DataGeneration] unique number of \",str_of_kind,\" = \",unique[i],\",counts = \",counts[i])\n",
        "\n",
        "    for i in range(len(unique)):\n",
        "      print(\"[DataGeneration] unique number of \",str_of_kind,\" = \",\", ratio = \",np.round(100*counts[i]/len(target_data),2),'%')\n",
        "\n",
        "    print(\"==================================================================\")\n",
        "\n",
        "  def generate(self):\n",
        "    \n",
        "    try:\n",
        "      loaded_data = np.loadtxt(self.file_path, delimiter=',',dtype=np.float32)\n",
        "    \n",
        "    except Exception as err:\n",
        "      print(\"[DataGeneration::generate()]\",str(err))\n",
        "      raise Exception(str(err))\n",
        "\n",
        "    print(\"[DataGeneration] loaded data.shape = \",loaded_data.shape)\n",
        "\n",
        "    self.__display_target_distribution(loaded_data,'original data')\n",
        "\n",
        "    total_data_num = len(loaded_data)\n",
        "    test_data_num = int(total_data_num * self.seperation_rate)\n",
        "\n",
        "    np.random.shuffle(loaded_data)\n",
        "\n",
        "    test_data = loaded_data[0:test_data_num]\n",
        "    training_data = loaded_data[test_data_num: ]\n",
        "\n",
        "    self.__display_target_distribution(training_data,'training data')\n",
        "    self.__display_target_distribution(test_data,'test data')\n",
        "    \n",
        "    return training_data, test_data"
      ],
      "execution_count": 13,
      "outputs": []
    },
    {
      "cell_type": "code",
      "metadata": {
        "id": "4uBjFnkW9CBs"
      },
      "source": [
        "class Diabetes:\n",
        "\n",
        "  def __init__(self, i_nodes, h_nodes, o_nodes, lr):\n",
        "\n",
        "    self.W2 = np.random.randn(i_nodes,h_nodes) / np.sqrt(i_nodes/2)\n",
        "    self.b2 = np.random.rand(h_nodes)\n",
        "\n",
        "    self.W3 = np.random.randn(h_nodes,o_nodes) / np.sqrt(h_nodes/2)\n",
        "    self.b3 = np.random.rand(o_nodes)\n",
        "\n",
        "    self.lr = lr\n",
        "\n",
        "  def feed_forward(self):\n",
        "\n",
        "    delta = 1e-7\n",
        "\n",
        "    z2 = np.dot(self.input_data,self.W2) + self.b2\n",
        "    a2 = sigmoid(z2)\n",
        "\n",
        "    z3 = np.dot(a2, self.W3) + self.b3\n",
        "    y = a3 = softmax(z3)\n",
        "\n",
        "    return -np.sum(self.target_data*np.log(y+delta) + (1-self.target_data)*np.log((1-y)+delta))\n",
        "\n",
        "  def loss_val(self):\n",
        "\n",
        "    delta = 1e-7\n",
        "\n",
        "    z2 = np.dot(self.input_data,self.W2) + self.b2\n",
        "    a2 = sigmoid(z2)\n",
        "\n",
        "    z3 = np.dot(a2, self.W3) + self.b3\n",
        "    y = a3 = softmax(z3)\n",
        "\n",
        "    return -np.sum(self.target_data*np.log(y+delta) + (1-self.target_data)*np.log((1-y)+delta))\n",
        "\n",
        "  def predict(self,input_data):\n",
        "\n",
        "    z2 = np.dot(input_data,self.W2) + self.b2\n",
        "    a2 = sigmoid(z2)\n",
        "\n",
        "    z3 = np.dot(a2,self.W3) + self.b3\n",
        "    y = a3 = softmax(z3)\n",
        "\n",
        "    predicted_num = np.argmax(y)\n",
        "\n",
        "    return predicted_num\n",
        "\n",
        "  def accuracy(self,input_data, target_data):\n",
        "\n",
        "    matched_list = []\n",
        "    unmatched_list = []\n",
        "\n",
        "    for i in range(len(input_data)):\n",
        "      \n",
        "      predicted_num = self.predict(input_data[i])\n",
        "\n",
        "      if target_data[i] == predicted_num:\n",
        "        matched_list.append(i)\n",
        "      else:\n",
        "        unmatched_list.append(i)\n",
        "\n",
        "    accuracy_result = len(matched_list)/len(input_data)\n",
        "\n",
        "    return unmatched_list, accuracy_result\n",
        "\n",
        "  def train(self,input_data,target_data):\n",
        "\n",
        "    self.input_data = input_data\n",
        "    self.target_data = target_data\n",
        "\n",
        "    f = lambda x : self.feed_forward()\n",
        "\n",
        "    self.W2 -= self.lr * numerical_derivative(f,self.W2)\n",
        "    self.b2 -= self.lr * numerical_derivative(f,self.b2)\n",
        "\n",
        "    self.W3 -= self.lr * numerical_derivative(f,self.W3)\n",
        "    self.b3 -= self.lr * numerical_derivative(f,self.b3)"
      ],
      "execution_count": 14,
      "outputs": []
    },
    {
      "cell_type": "code",
      "metadata": {
        "id": "T6a1RkBWGRfu",
        "outputId": "76c5229d-9115-42c0-d7df-a817c947752f",
        "colab": {
          "base_uri": "https://localhost:8080/"
        }
      },
      "source": [
        "test_seperation_rate = 0.3\n",
        "\n",
        "data_obj = DataGeneration('./drive/My Drive/AI_INOVATION_SQUARE/data/(200309)diabetes.csv',test_seperation_rate)\n",
        "\n",
        "(training_data, test_data) = data_obj.generate()\n",
        "\n",
        "print(\"=================================================\")\n",
        "print(\"training data shape = \",training_data.shape)\n",
        "print(\"test data.shape = \",test_data.shape)\n",
        "print(\"=================================================\")"
      ],
      "execution_count": 15,
      "outputs": [
        {
          "output_type": "stream",
          "text": [
            "[DataGeneration] loaded data.shape =  (759, 9)\n",
            "==================================================================\n",
            "[DataGeneration] unique number of  original data  =  0.0 ,counts =  263\n",
            "[DataGeneration] unique number of  original data  =  1.0 ,counts =  496\n",
            "[DataGeneration] unique number of  original data  =  , ratio =  34.65 %\n",
            "[DataGeneration] unique number of  original data  =  , ratio =  65.35 %\n",
            "==================================================================\n",
            "==================================================================\n",
            "[DataGeneration] unique number of  training data  =  0.0 ,counts =  180\n",
            "[DataGeneration] unique number of  training data  =  1.0 ,counts =  352\n",
            "[DataGeneration] unique number of  training data  =  , ratio =  33.83 %\n",
            "[DataGeneration] unique number of  training data  =  , ratio =  66.17 %\n",
            "==================================================================\n",
            "==================================================================\n",
            "[DataGeneration] unique number of  test data  =  0.0 ,counts =  83\n",
            "[DataGeneration] unique number of  test data  =  1.0 ,counts =  144\n",
            "[DataGeneration] unique number of  test data  =  , ratio =  36.56 %\n",
            "[DataGeneration] unique number of  test data  =  , ratio =  63.44 %\n",
            "==================================================================\n",
            "=================================================\n",
            "training data shape =  (532, 9)\n",
            "test data.shape =  (227, 9)\n",
            "=================================================\n"
          ],
          "name": "stdout"
        }
      ]
    },
    {
      "cell_type": "code",
      "metadata": {
        "id": "jMKAlJyAGk1P",
        "outputId": "a8a0ddbf-76f7-44b6-ee3b-b1b71e40a3c9",
        "colab": {
          "base_uri": "https://localhost:8080/"
        }
      },
      "source": [
        "i_nodes = training_data.shape[1] - 1\n",
        "h_nodes = 10\n",
        "o_nodes = 2\n",
        "\n",
        "lr = 1e-2\n",
        "epochs = 20\n",
        "\n",
        "loss_val_list= []\n",
        "\n",
        "obj1 = Diabetes(i_nodes,h_nodes,o_nodes,lr)\n",
        "\n",
        "print(\"Neural Network Learning using Numerical Derivative...\")\n",
        "\n",
        "start_time = datetime.now()\n",
        "\n",
        "for step in range(epochs):\n",
        "  for i in range(len(training_data)):\n",
        "    input_data = training_data[i,0:-1]\n",
        "    \n",
        "    target_data = np.zeros(o_nodes) + 0.01\n",
        "    target_data[int(training_data[i,-1])] = 0.99\n",
        "\n",
        "    obj1.train(input_data,target_data)\n",
        "\n",
        "  cur_loss_val = obj1.loss_val()\n",
        "  loss_val_list.append(cur_loss_val)\n",
        "\n",
        "  print(\"step = \",step,\", loss value = \",cur_loss_val)\n",
        "\n",
        "end_time = datetime.now()\n",
        "\n",
        "print(\"\")\n",
        "print(\"Elapsed tiem => \",end_time - start_time)"
      ],
      "execution_count": 18,
      "outputs": [
        {
          "output_type": "stream",
          "text": [
            "Neural Network Learning using Numerical Derivative...\n",
            "step =  0 , loss value =  1.7572321835122322\n",
            "step =  1 , loss value =  1.7425673405369575\n",
            "step =  2 , loss value =  1.7069595493855463\n",
            "step =  3 , loss value =  1.6534415535876281\n",
            "step =  4 , loss value =  1.5905716208377565\n",
            "step =  5 , loss value =  1.5272929751510915\n",
            "step =  6 , loss value =  1.4695158603828347\n",
            "step =  7 , loss value =  1.419827090692638\n",
            "step =  8 , loss value =  1.3785942848321167\n",
            "step =  9 , loss value =  1.3450657919494682\n",
            "step =  10 , loss value =  1.3180809836042855\n",
            "step =  11 , loss value =  1.2964414980771597\n",
            "step =  12 , loss value =  1.2790722485867767\n",
            "step =  13 , loss value =  1.2650717354713112\n",
            "step =  14 , loss value =  1.2537110227060821\n",
            "step =  15 , loss value =  1.2444125749365267\n",
            "step =  16 , loss value =  1.236723913318142\n",
            "step =  17 , loss value =  1.23029254915845\n",
            "step =  18 , loss value =  1.2248445001751689\n",
            "step =  19 , loss value =  1.2201668063579383\n",
            "\n",
            "Elapsed tiem =>  0:01:42.425724\n"
          ],
          "name": "stdout"
        }
      ]
    },
    {
      "cell_type": "code",
      "metadata": {
        "id": "cOMlsNARKMgl",
        "outputId": "790d8562-b006-44b1-c229-220bc85724c5",
        "colab": {
          "base_uri": "https://localhost:8080/",
          "height": 295
        }
      },
      "source": [
        "plt.title('Loss Value Trend')\n",
        "plt.xlabel('epochs')\n",
        "plt.ylabel('Loss')\n",
        "plt.grid()\n",
        "plt.plot(loss_val_list)\n",
        "\n",
        "plt.show()"
      ],
      "execution_count": 19,
      "outputs": [
        {
          "output_type": "display_data",
          "data": {
            "image/png": "[encoded data removed]",
            "text/plain": [
              "<Figure size 432x288 with 1 Axes>"
            ]
          },
          "metadata": {
            "tags": [],
            "needs_background": "light"
          }
        }
      ]
    },
    {
      "cell_type": "code",
      "metadata": {
        "id": "ZXf97YdnKoE5",
        "outputId": "65245268-80ff-49f2-de6a-c655f36cab9f",
        "colab": {
          "base_uri": "https://localhost:8080/"
        }
      },
      "source": [
        "test_input_data = test_data[:,0:-1]\n",
        "test_target_data = test_data[:,-1]\n",
        "\n",
        "(false_list, accuracy_ret) = obj1.accuracy(test_input_data, test_target_data)\n",
        "\n",
        "print(\"Test Data Accuracy = \", np.round(accuracy_ret, 3))"
      ],
      "execution_count": 20,
      "outputs": [
        {
          "output_type": "stream",
          "text": [
            "Test Data Accuracy =  0.797\n"
          ],
          "name": "stdout"
        }
      ]
    },
    {
      "cell_type": "code",
      "metadata": {
        "id": "i0iFUurYK4v7"
      },
      "source": [
        ""
      ],
      "execution_count": null,
      "outputs": []
    }
  ]
}