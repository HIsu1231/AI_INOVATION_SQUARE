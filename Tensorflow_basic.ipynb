{
  "nbformat": 4,
  "nbformat_minor": 0,
  "metadata": {
    "colab": {
      "name": "Tensorflow_basic.ipynb",
      "provenance": [],
      "authorship_tag": "ABX9TyOvOWPHT3WDJphBmtXWxpbg",
      "include_colab_link": true
    },
    "kernelspec": {
      "name": "python3",
      "display_name": "Python 3"
    }
  },
  "cells": [
    {
      "cell_type": "markdown",
      "metadata": {
        "id": "view-in-github",
        "colab_type": "text"
      },
      "source": [
        "<a href=\"https://colab.research.google.com/github/HIsu1231/AI_INOVATION_SQUARE/blob/master/Tensorflow_basic.ipynb\" target=\"_parent\"><img src=\"https://colab.research.google.com/assets/colab-badge.svg\" alt=\"Open In Colab\"/></a>"
      ]
    },
    {
      "cell_type": "code",
      "metadata": {
        "colab": {
          "base_uri": "https://localhost:8080/"
        },
        "id": "TrOhz-mv5772",
        "outputId": "50c4175c-3199-4a5b-b500-5a0f70025039"
      },
      "source": [
        "!pip uninstall tensorflow"
      ],
      "execution_count": 1,
      "outputs": [
        {
          "output_type": "stream",
          "text": [
            "Uninstalling tensorflow-1.15.0:\n",
            "  Would remove:\n",
            "    /usr/local/bin/estimator_ckpt_converter\n",
            "    /usr/local/bin/freeze_graph\n",
            "    /usr/local/bin/saved_model_cli\n",
            "    /usr/local/bin/tensorboard\n",
            "    /usr/local/bin/tf_upgrade_v2\n",
            "    /usr/local/bin/tflite_convert\n",
            "    /usr/local/bin/toco\n",
            "    /usr/local/bin/toco_from_protos\n",
            "    /usr/local/lib/python3.6/dist-packages/tensorflow-1.15.0.dist-info/*\n",
            "    /usr/local/lib/python3.6/dist-packages/tensorflow/*\n",
            "    /usr/local/lib/python3.6/dist-packages/tensorflow_core/*\n",
            "Proceed (y/n)? y\n",
            "  Successfully uninstalled tensorflow-1.15.0\n"
          ],
          "name": "stdout"
        }
      ]
    },
    {
      "cell_type": "code",
      "metadata": {
        "colab": {
          "base_uri": "https://localhost:8080/"
        },
        "id": "wdtmhR446F01",
        "outputId": "8577cd22-2936-4ee4-a787-50e56fc27d20"
      },
      "source": [
        "!pip install tensorflow==1.15"
      ],
      "execution_count": 2,
      "outputs": [
        {
          "output_type": "stream",
          "text": [
            "Collecting tensorflow==1.15\n",
            "  Using cached https://files.pythonhosted.org/packages/3f/98/5a99af92fb911d7a88a0005ad55005f35b4c1ba8d75fba02df726cd936e6/tensorflow-1.15.0-cp36-cp36m-manylinux2010_x86_64.whl\n",
            "Requirement already satisfied: six>=1.10.0 in /usr/local/lib/python3.6/dist-packages (from tensorflow==1.15) (1.15.0)\n",
            "Requirement already satisfied: google-pasta>=0.1.6 in /usr/local/lib/python3.6/dist-packages (from tensorflow==1.15) (0.2.0)\n",
            "Requirement already satisfied: keras-applications>=1.0.8 in /usr/local/lib/python3.6/dist-packages (from tensorflow==1.15) (1.0.8)\n",
            "Requirement already satisfied: absl-py>=0.7.0 in /usr/local/lib/python3.6/dist-packages (from tensorflow==1.15) (0.10.0)\n",
            "Requirement already satisfied: keras-preprocessing>=1.0.5 in /usr/local/lib/python3.6/dist-packages (from tensorflow==1.15) (1.1.2)\n",
            "Requirement already satisfied: protobuf>=3.6.1 in /usr/local/lib/python3.6/dist-packages (from tensorflow==1.15) (3.12.4)\n",
            "Requirement already satisfied: grpcio>=1.8.6 in /usr/local/lib/python3.6/dist-packages (from tensorflow==1.15) (1.34.0)\n",
            "Requirement already satisfied: tensorflow-estimator==1.15.1 in /usr/local/lib/python3.6/dist-packages (from tensorflow==1.15) (1.15.1)\n",
            "Requirement already satisfied: numpy<2.0,>=1.16.0 in /usr/local/lib/python3.6/dist-packages (from tensorflow==1.15) (1.18.5)\n",
            "Requirement already satisfied: gast==0.2.2 in /usr/local/lib/python3.6/dist-packages (from tensorflow==1.15) (0.2.2)\n",
            "Requirement already satisfied: termcolor>=1.1.0 in /usr/local/lib/python3.6/dist-packages (from tensorflow==1.15) (1.1.0)\n",
            "Requirement already satisfied: wrapt>=1.11.1 in /usr/local/lib/python3.6/dist-packages (from tensorflow==1.15) (1.12.1)\n",
            "Requirement already satisfied: astor>=0.6.0 in /usr/local/lib/python3.6/dist-packages (from tensorflow==1.15) (0.8.1)\n",
            "Requirement already satisfied: tensorboard<1.16.0,>=1.15.0 in /usr/local/lib/python3.6/dist-packages (from tensorflow==1.15) (1.15.0)\n",
            "Requirement already satisfied: opt-einsum>=2.3.2 in /usr/local/lib/python3.6/dist-packages (from tensorflow==1.15) (3.3.0)\n",
            "Requirement already satisfied: wheel>=0.26 in /usr/local/lib/python3.6/dist-packages (from tensorflow==1.15) (0.36.1)\n",
            "Requirement already satisfied: h5py in /usr/local/lib/python3.6/dist-packages (from keras-applications>=1.0.8->tensorflow==1.15) (2.10.0)\n",
            "Requirement already satisfied: setuptools in /usr/local/lib/python3.6/dist-packages (from protobuf>=3.6.1->tensorflow==1.15) (50.3.2)\n",
            "Requirement already satisfied: markdown>=2.6.8 in /usr/local/lib/python3.6/dist-packages (from tensorboard<1.16.0,>=1.15.0->tensorflow==1.15) (3.3.3)\n",
            "Requirement already satisfied: werkzeug>=0.11.15 in /usr/local/lib/python3.6/dist-packages (from tensorboard<1.16.0,>=1.15.0->tensorflow==1.15) (1.0.1)\n",
            "Requirement already satisfied: importlib-metadata; python_version < \"3.8\" in /usr/local/lib/python3.6/dist-packages (from markdown>=2.6.8->tensorboard<1.16.0,>=1.15.0->tensorflow==1.15) (3.1.1)\n",
            "Requirement already satisfied: zipp>=0.5 in /usr/local/lib/python3.6/dist-packages (from importlib-metadata; python_version < \"3.8\"->markdown>=2.6.8->tensorboard<1.16.0,>=1.15.0->tensorflow==1.15) (3.4.0)\n",
            "Installing collected packages: tensorflow\n",
            "Successfully installed tensorflow-1.15.0\n"
          ],
          "name": "stdout"
        }
      ]
    },
    {
      "cell_type": "code",
      "metadata": {
        "id": "6jrQd90Z66fd"
      },
      "source": [
        "import tensorflow as tf"
      ],
      "execution_count": 3,
      "outputs": []
    },
    {
      "cell_type": "markdown",
      "metadata": {
        "id": "x2F8KTEA7NLH"
      },
      "source": [
        "###tf.constant() (상수 값 저장 노드 생성)"
      ]
    },
    {
      "cell_type": "code",
      "metadata": {
        "colab": {
          "base_uri": "https://localhost:8080/"
        },
        "id": "u4tBunK22PaO",
        "outputId": "9a360199-9579-478a-fd43-7ea71666aeca"
      },
      "source": [
        "#상수 노드 정의\r\n",
        "a = tf.constant(1.0, name='a')  #name속성: 시각화 툴인 텐서보드에서 name 지정\r\n",
        "b = tf.constant(2.0, name='b')\r\n",
        "c = tf.constant([[1.0, 2.0], [3.0, 4.0]])\r\n",
        "\r\n",
        "print(a)\r\n",
        "print(b)\r\n",
        "print(c)"
      ],
      "execution_count": 5,
      "outputs": [
        {
          "output_type": "stream",
          "text": [
            "Tensor(\"a:0\", shape=(), dtype=float32)\n",
            "Tensor(\"b:0\", shape=(), dtype=float32)\n",
            "Tensor(\"Const:0\", shape=(2, 2), dtype=float32)\n"
          ],
          "name": "stdout"
        }
      ]
    },
    {
      "cell_type": "code",
      "metadata": {
        "id": "d1Wi2Pgv2lMY",
        "colab": {
          "base_uri": "https://localhost:8080/"
        },
        "outputId": "b83eddab-614e-426e-874a-02c2322ccc4e"
      },
      "source": [
        "sess = tf.Session()\r\n",
        "\r\n",
        "print(sess.run([a,b]))\r\n",
        "print(sess.run(c))\r\n",
        "print(sess.run([a+b]))\r\n",
        "print(sess.run(c+1.0)) #broadcast 수행\r\n",
        "\r\n",
        "sess.close()"
      ],
      "execution_count": 6,
      "outputs": [
        {
          "output_type": "stream",
          "text": [
            "[1.0, 2.0]\n",
            "[[1. 2.]\n",
            " [3. 4.]]\n",
            "[3.0]\n",
            "[[2. 3.]\n",
            " [4. 5.]]\n"
          ],
          "name": "stdout"
        }
      ]
    },
    {
      "cell_type": "markdown",
      "metadata": {
        "id": "pobPF__S7QH5"
      },
      "source": [
        "###tf.placeholder() (임의의 값 입력 받는 노드 생성)\r\n"
      ]
    },
    {
      "cell_type": "code",
      "metadata": {
        "colab": {
          "base_uri": "https://localhost:8080/"
        },
        "id": "HbDCp3Ps5fiz",
        "outputId": "7b9c2aa4-9d61-477d-cf51-20715f32b068"
      },
      "source": [
        "a = tf.placeholder(tf.float32)\r\n",
        "b = tf.placeholder(tf.float32)\r\n",
        "c = a+ b\r\n",
        "\r\n",
        "sess = tf.Session()\r\n",
        "\r\n",
        "#feed_dict를 이용해서 플레이스 홀더 노드에 실제 대입되는 값 선언\r\n",
        "print(sess.run(c, feed_dict={a: 1.0, b: 3.0}))\r\n",
        "print(sess.run(c, feed_dict={a: [1.0, 2.0], b: [3.0, 4.0]}))\r\n",
        "\r\n",
        "d = 100 *c\r\n",
        "\r\n",
        "print(sess.run(d, feed_dict={a: 1.0, b: 3.0}))\r\n",
        "print(sess.run(d, feed_dict={a: [1.0, 2.0], b: [3.0, 4.0]}))\r\n",
        "\r\n",
        "sess.close()"
      ],
      "execution_count": 7,
      "outputs": [
        {
          "output_type": "stream",
          "text": [
            "4.0\n",
            "[4. 6.]\n",
            "400.0\n",
            "[400. 600.]\n"
          ],
          "name": "stdout"
        }
      ]
    },
    {
      "cell_type": "markdown",
      "metadata": {
        "id": "hbLB3Yim8Ywa"
      },
      "source": [
        "###tf.Variable() (계속 업데이트되는 변수 노드 정의)"
      ]
    },
    {
      "cell_type": "code",
      "metadata": {
        "colab": {
          "base_uri": "https://localhost:8080/"
        },
        "id": "3mKtpm1N8US-",
        "outputId": "748ce357-5aaf-40cb-f4cc-1f8884cfa590"
      },
      "source": [
        "W1 = tf.Variable(tf.random_normal([1])) #W1 = np.random.rand(1)\r\n",
        "b1 = tf.Variable(tf.random_normal([1])) #b1 = np.random.rand(1)\r\n",
        "\r\n",
        "W2 = tf.Variable(tf.random_normal([1,2])) #W2 = np.random.rand(1,2)\r\n",
        "b2 = tf.Variable(tf.random_normal([1,2])) #b2 = np.random.rand(1,2)\r\n",
        "\r\n",
        "sess = tf.Session()\r\n",
        "\r\n",
        "#변수 노드 값 초기화를 위해 반드시 tf.global_variables_initailizer() 실행\r\n",
        "sess.run(tf.global_variables_initializer())\r\n",
        "\r\n",
        "for step in range(3):\r\n",
        "\r\n",
        "    W1 = W1 - step\r\n",
        "    b1 = b1 - step\r\n",
        "\r\n",
        "    W2 = W2 - step\r\n",
        "    b2 = b2 - step\r\n",
        "\r\n",
        "    print(\"step = \", step, \", W1 = \", sess.run(W1), \", b1 = \", sess.run(b1))\r\n",
        "    print(\"step = \", step, \", W2 = \", sess.run(W2), \", b2 = \", sess.run(b2))\r\n",
        "\r\n",
        "sess.close()"
      ],
      "execution_count": 13,
      "outputs": [
        {
          "output_type": "stream",
          "text": [
            "step =  0 , W1 =  [0.3050711] , b1 =  [-1.5795183]\n",
            "step =  0 , W2 =  [[-0.3138876  2.1473322]] , b2 =  [[0.27844968 1.7906536 ]]\n",
            "step =  1 , W1 =  [-0.6949289] , b1 =  [-2.5795183]\n",
            "step =  1 , W2 =  [[-1.3138876  1.1473322]] , b2 =  [[-0.72155035  0.7906536 ]]\n",
            "step =  2 , W1 =  [-2.694929] , b1 =  [-4.5795183]\n",
            "step =  2 , W2 =  [[-3.3138876 -0.8526678]] , b2 =  [[-2.7215502 -1.2093464]]\n"
          ],
          "name": "stdout"
        }
      ]
    },
    {
      "cell_type": "code",
      "metadata": {
        "id": "nzThJOSt9eN9"
      },
      "source": [
        ""
      ],
      "execution_count": null,
      "outputs": []
    }
  ]
}