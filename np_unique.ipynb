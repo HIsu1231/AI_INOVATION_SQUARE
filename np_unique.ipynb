{
  "nbformat": 4,
  "nbformat_minor": 0,
  "metadata": {
    "colab": {
      "name": "np.unique.ipynb",
      "provenance": [],
      "collapsed_sections": [],
      "mount_file_id": "1CS7HVd6T_vf7YJhLX4NEgZFpuEpcW7uN",
      "authorship_tag": "ABX9TyP+jZLnaZQTwHvFbEEBzIDz",
      "include_colab_link": true
    },
    "kernelspec": {
      "name": "python3",
      "display_name": "Python 3"
    },
    "accelerator": "GPU"
  },
  "cells": [
    {
      "cell_type": "markdown",
      "metadata": {
        "id": "view-in-github",
        "colab_type": "text"
      },
      "source": [
        "<a href=\"https://colab.research.google.com/github/HIsu1231/AI_INOVATION_SQUARE/blob/master/np_unique.ipynb\" target=\"_parent\"><img src=\"https://colab.research.google.com/assets/colab-badge.svg\" alt=\"Open In Colab\"/></a>"
      ]
    },
    {
      "cell_type": "markdown",
      "metadata": {
        "id": "WwjVR9UvjsRI"
      },
      "source": [
        "### training data의 정답 분포 확인(unique 사용)"
      ]
    },
    {
      "cell_type": "code",
      "metadata": {
        "id": "YCyOyNbejEDO"
      },
      "source": [
        "import numpy as np"
      ],
      "execution_count": null,
      "outputs": []
    },
    {
      "cell_type": "code",
      "metadata": {
        "id": "kV6osBVsjqG5",
        "outputId": "7c6ff430-2620-417f-902c-7b98ea2b8e55",
        "colab": {
          "base_uri": "https://localhost:8080/",
          "height": 70
        }
      },
      "source": [
        "A = np.array([5,2,6,2,7,5,6,8,2,9])\n",
        "\n",
        "unique, counts = np.unique(A, return_counts = True)\n",
        "\n",
        "print(type(unique),type(counts))\n",
        "print(unique)\n",
        "print(counts)"
      ],
      "execution_count": null,
      "outputs": [
        {
          "output_type": "stream",
          "text": [
            "<class 'numpy.ndarray'> <class 'numpy.ndarray'>\n",
            "[2 5 6 7 8 9]\n",
            "[3 2 2 1 1 1]\n"
          ],
          "name": "stdout"
        }
      ]
    },
    {
      "cell_type": "code",
      "metadata": {
        "id": "j08jl4HRobpO",
        "outputId": "8246cdac-7db5-45ff-f806-527cc84267b4",
        "colab": {
          "base_uri": "https://localhost:8080/",
          "height": 35
        }
      },
      "source": [
        "pwd"
      ],
      "execution_count": null,
      "outputs": [
        {
          "output_type": "execute_result",
          "data": {
            "application/vnd.google.colaboratory.intrinsic+json": {
              "type": "string"
            },
            "text/plain": [
              "'/content'"
            ]
          },
          "metadata": {
            "tags": []
          },
          "execution_count": 4
        }
      ]
    },
    {
      "cell_type": "markdown",
      "metadata": {
        "id": "hpBc_6LkqzFS"
      },
      "source": [
        "Diabetes target distribution"
      ]
    },
    {
      "cell_type": "code",
      "metadata": {
        "id": "XJwMzKIgon5L",
        "outputId": "e06d6a82-9e68-4ea1-e02c-d6ddb2346c19",
        "colab": {
          "base_uri": "https://localhost:8080/",
          "height": 158
        }
      },
      "source": [
        "try:\n",
        "\n",
        "    loaded_data = np.loadtxt(\"./drive/My Drive/AI이노베이션스퀘어/연습/(200309)diabetes.csv\",delimiter=',',dtype=np.float32)\n",
        "\n",
        "    input_data = loaded_data[:,:-1]\n",
        "    target_data = loaded_data[:,[-1]]\n",
        "\n",
        "    print(\"input_data.shape = \",input_data.shape,\", target_data.shape = \",target_data.shape)\n",
        "\n",
        "    unique, counts = np.unique(target_data, return_counts = True)\n",
        "\n",
        "    print(type(unique),type(counts))\n",
        "    print(unique)\n",
        "    print(counts)\n",
        "\n",
        "    for i in range(len(unique)):\n",
        "      print(\"unique number = \",unique[i], \", count = \",counts[i])\n",
        "      \n",
        "    for i in range(len(unique)):\n",
        "      print(\"unique number = \",unique[i], \", ratio = \", np.round(100*counts[i]/loaded_data.shape[0],2),'%')\n",
        "\n",
        "except Exception as err:\n",
        "    print(str(err))"
      ],
      "execution_count": null,
      "outputs": [
        {
          "output_type": "stream",
          "text": [
            "input_data.shape =  (759, 8) , target_data.shape =  (759, 1)\n",
            "<class 'numpy.ndarray'> <class 'numpy.ndarray'>\n",
            "[0. 1.]\n",
            "[263 496]\n",
            "unique number =  0.0 , count =  263\n",
            "unique number =  1.0 , count =  496\n",
            "unique number =  0.0 , ratio =  34.65 %\n",
            "unique number =  1.0 , ratio =  65.35 %\n"
          ],
          "name": "stdout"
        }
      ]
    },
    {
      "cell_type": "markdown",
      "metadata": {
        "id": "i-H5BdNwFydk"
      },
      "source": [
        "ThoracicSurgery target distribution"
      ]
    },
    {
      "cell_type": "code",
      "metadata": {
        "id": "7iuAk-KvpFl0",
        "outputId": "ba1e4c57-bdb8-4584-ac9c-b5e62c9aa594",
        "colab": {
          "base_uri": "https://localhost:8080/",
          "height": 122
        }
      },
      "source": [
        "try: \n",
        "    loaded_data = np.loadtxt(\"./drive/My Drive/AI이노베이션스퀘어/연습/(200309)ThoracicSurgery.csv\",delimiter=',',dtype=np.float32)\n",
        "\n",
        "    input_data = loaded_data[:, :-1]\n",
        "    target_data = loaded_data[:, [-1]]\n",
        "\n",
        "    print(\"input_data.shape = \", input_data.shape, \", target_data.shape = \", target_data.shape)\n",
        "\n",
        "    unique, counts = np.unique(target_data, return_counts=True)\n",
        "\n",
        "    print(type(unique),type(counts))\n",
        "    \n",
        "    for i in range(len(unique)):\n",
        "      print(\"unique number = \", unique[i],\", count = \", counts[i])\n",
        "    \n",
        "    for i in range(len(unique)):\n",
        "      print(\"unique number = \", unique[i], \", ratio = \", np.round(100*counts[i]/loaded_data.shape[0],2),'%')\n",
        "    \n",
        "except Exception as err:\n",
        "  print(str(err))"
      ],
      "execution_count": null,
      "outputs": [
        {
          "output_type": "stream",
          "text": [
            "input_data.shape =  (470, 17) , target_data.shape =  (470, 1)\n",
            "<class 'numpy.ndarray'> <class 'numpy.ndarray'>\n",
            "unique number =  0.0 , count =  400\n",
            "unique number =  1.0 , count =  70\n",
            "unique number =  0.0 , ratio =  85.11 %\n",
            "unique number =  1.0 , ratio =  14.89 %\n"
          ],
          "name": "stdout"
        }
      ]
    },
    {
      "cell_type": "markdown",
      "metadata": {
        "id": "SHqDd5YeF234"
      },
      "source": [
        "Wine target distribution"
      ]
    },
    {
      "cell_type": "code",
      "metadata": {
        "id": "gqFqfAGDFOSy",
        "outputId": "a4cf2034-04b4-4106-bf10-352c936f4510",
        "colab": {
          "base_uri": "https://localhost:8080/",
          "height": 122
        }
      },
      "source": [
        "try:\n",
        "\n",
        "    loaded_data = np.loadtxt(\"./drive/My Drive/AI이노베이션스퀘어/연습/(200309)wine.csv\",delimiter=',',dtype=np.float32)\n",
        "\n",
        "    input_data = loaded_data[:,:-1]\n",
        "    target_data = loaded_data[:,[-1]]\n",
        "\n",
        "    print(\"input_data.shape = \",input_data.shape, \", target_data.shape = \",target_data.shape)\n",
        "\n",
        "    unique, counts = np.unique(target_data, return_counts=True)\n",
        "\n",
        "    print(type(unique),type(counts))\n",
        "\n",
        "    for i in range(len(unique)):\n",
        "        print(\"unique number = \",unique[i],\", count = \",counts[i])\n",
        "      \n",
        "    for i in range(len(unique)):\n",
        "        print(\"unique number = \",unique[i],\", ratio = \",np.round(100*counts[i]/target_data.shape[0],2),\"%\")\n",
        "\n",
        "except Exception as err:\n",
        "  print(str(err))        "
      ],
      "execution_count": null,
      "outputs": [
        {
          "output_type": "stream",
          "text": [
            "input_data.shape =  (6497, 12) , target_data.shape =  (6497, 1)\n",
            "<class 'numpy.ndarray'> <class 'numpy.ndarray'>\n",
            "unique number =  0.0 , count =  4898\n",
            "unique number =  1.0 , count =  1599\n",
            "unique number =  0.0 , ratio =  75.39 %\n",
            "unique number =  1.0 , ratio =  24.61 %\n"
          ],
          "name": "stdout"
        }
      ]
    },
    {
      "cell_type": "code",
      "metadata": {
        "id": "ztdTQgXqHAkW"
      },
      "source": [
        ""
      ],
      "execution_count": 18,
      "outputs": []
    },
    {
      "cell_type": "code",
      "metadata": {
        "id": "unlDCS9RPGbX"
      },
      "source": [
        ""
      ],
      "execution_count": null,
      "outputs": []
    }
  ]
}