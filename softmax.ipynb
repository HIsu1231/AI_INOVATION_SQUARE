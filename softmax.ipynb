{
  "nbformat": 4,
  "nbformat_minor": 0,
  "metadata": {
    "colab": {
      "name": "softmax.ipynb",
      "provenance": [],
      "authorship_tag": "ABX9TyOrnVDmMhSuYJaT+2elXuEx",
      "include_colab_link": true
    },
    "kernelspec": {
      "name": "python3",
      "display_name": "Python 3"
    }
  },
  "cells": [
    {
      "cell_type": "markdown",
      "metadata": {
        "id": "view-in-github",
        "colab_type": "text"
      },
      "source": [
        "<a href=\"https://colab.research.google.com/github/HIsu1231/AI_INOVATION_SQUARE/blob/master/softmax.ipynb\" target=\"_parent\"><img src=\"https://colab.research.google.com/assets/colab-badge.svg\" alt=\"Open In Colab\"/></a>"
      ]
    },
    {
      "cell_type": "code",
      "metadata": {
        "id": "jczZMErQb5sS"
      },
      "source": [
        "import numpy as np"
      ],
      "execution_count": 1,
      "outputs": []
    },
    {
      "cell_type": "markdown",
      "metadata": {
        "id": "kKXsybsh2L3I"
      },
      "source": [
        ""
      ]
    },
    {
      "cell_type": "markdown",
      "metadata": {
        "id": "UtK_Jwkt2LzK"
      },
      "source": [
        ""
      ]
    },
    {
      "cell_type": "code",
      "metadata": {
        "id": "fvFRlzYOeMur"
      },
      "source": [
        "def softmax(a):\n",
        "\n",
        "  numerator = np.exp(a)\n",
        "  print(\"numerator = \",numerator)\n",
        "  denominator = np.sum(np.exp(a))\n",
        "  print(\"denominator = \",denominator)\n",
        "\n",
        "  y = numerator / denominator\n",
        "\n",
        "  return y "
      ],
      "execution_count": 7,
      "outputs": []
    },
    {
      "cell_type": "code",
      "metadata": {
        "id": "TVxEd96Y1gUu"
      },
      "source": [
        "A = np.array([0.7, 0.8, 0.01])\n",
        "\n",
        "B = np.array([0.3, 2.9, 4.0])\n",
        "\n",
        "C = np.array([110, 100, 90])\n",
        "\n",
        "D = np.array([1000, 1100, 900])"
      ],
      "execution_count": 8,
      "outputs": []
    },
    {
      "cell_type": "code",
      "metadata": {
        "id": "F0w9Wyg21qGk",
        "outputId": "50c4bdf0-36f5-4de5-a4b1-d02ba45be426",
        "colab": {
          "base_uri": "https://localhost:8080/"
        }
      },
      "source": [
        "print(softmax(A))"
      ],
      "execution_count": 9,
      "outputs": [
        {
          "output_type": "stream",
          "text": [
            "numerator =  [2.01375271 2.22554093 1.01005017]\n",
            "denominator =  5.249343803047113\n",
            "[0.38361989 0.42396555 0.19241456]\n"
          ],
          "name": "stdout"
        }
      ]
    },
    {
      "cell_type": "code",
      "metadata": {
        "id": "T3DVnXYe4VfY",
        "outputId": "70aec502-608f-4409-c80b-d56ea56ffd30",
        "colab": {
          "base_uri": "https://localhost:8080/"
        }
      },
      "source": [
        "print(softmax(B))"
      ],
      "execution_count": 10,
      "outputs": [
        {
          "output_type": "stream",
          "text": [
            "numerator =  [ 1.34985881 18.17414537 54.59815003]\n",
            "denominator =  74.1221542101633\n",
            "[0.01821127 0.24519181 0.73659691]\n"
          ],
          "name": "stdout"
        }
      ]
    },
    {
      "cell_type": "code",
      "metadata": {
        "id": "uBnqD_-G4kCB",
        "outputId": "1f90ee67-cfc6-421d-e957-8522d2c8b6c4",
        "colab": {
          "base_uri": "https://localhost:8080/"
        }
      },
      "source": [
        "print(softmax(C))"
      ],
      "execution_count": 11,
      "outputs": [
        {
          "output_type": "stream",
          "text": [
            "numerator =  [5.92097203e+47 2.68811714e+43 1.22040329e+39]\n",
            "denominator =  5.921240851582884e+47\n",
            "[9.99954600e-01 4.53978686e-05 2.06106005e-09]\n"
          ],
          "name": "stdout"
        }
      ]
    },
    {
      "cell_type": "code",
      "metadata": {
        "id": "OlloHmT34lE_",
        "outputId": "0681d5e1-fd81-4591-d0a8-b097d3be1a9f",
        "colab": {
          "base_uri": "https://localhost:8080/"
        }
      },
      "source": [
        "print(softmax(D)) #오버플로우발생\n",
        "                  #지수 함수 특성 상 값이 급격하게 커지면 오버플로우 발생 가능"
      ],
      "execution_count": 13,
      "outputs": [
        {
          "output_type": "stream",
          "text": [
            "numerator =  [inf inf inf]\n",
            "denominator =  inf\n",
            "[nan nan nan]\n"
          ],
          "name": "stdout"
        },
        {
          "output_type": "stream",
          "text": [
            "/usr/local/lib/python3.6/dist-packages/ipykernel_launcher.py:3: RuntimeWarning: overflow encountered in exp\n",
            "  This is separate from the ipykernel package so we can avoid doing imports until\n",
            "/usr/local/lib/python3.6/dist-packages/ipykernel_launcher.py:5: RuntimeWarning: overflow encountered in exp\n",
            "  \"\"\"\n",
            "/usr/local/lib/python3.6/dist-packages/ipykernel_launcher.py:8: RuntimeWarning: invalid value encountered in true_divide\n",
            "  \n"
          ],
          "name": "stderr"
        }
      ]
    },
    {
      "cell_type": "code",
      "metadata": {
        "id": "BrgnJRf84mKa"
      },
      "source": [
        ""
      ],
      "execution_count": null,
      "outputs": []
    }
  ]
}