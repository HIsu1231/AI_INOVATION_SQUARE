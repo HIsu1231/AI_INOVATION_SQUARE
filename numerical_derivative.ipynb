{
  "nbformat": 4,
  "nbformat_minor": 0,
  "metadata": {
    "kernelspec": {
      "display_name": "Python 3",
      "language": "python",
      "name": "python3"
    },
    "language_info": {
      "codemirror_mode": {
        "name": "ipython",
        "version": 3
      },
      "file_extension": ".py",
      "mimetype": "text/x-python",
      "name": "python",
      "nbconvert_exporter": "python",
      "pygments_lexer": "ipython3",
      "version": "3.6.9"
    },
    "colab": {
      "name": "numerical_derivative.ipynb",
      "provenance": [],
      "include_colab_link": true
    }
  },
  "cells": [
    {
      "cell_type": "markdown",
      "metadata": {
        "id": "view-in-github",
        "colab_type": "text"
      },
      "source": [
        "<a href=\"https://colab.research.google.com/github/HIsu1231/AI_INOVATION_SQUARE/blob/master/numerical_derivative.ipynb\" target=\"_parent\"><img src=\"https://colab.research.google.com/assets/colab-badge.svg\" alt=\"Open In Colab\"/></a>"
      ]
    },
    {
      "cell_type": "code",
      "metadata": {
        "id": "xzmC436ZRiHL"
      },
      "source": [
        "import numpy as np"
      ],
      "execution_count": null,
      "outputs": []
    },
    {
      "cell_type": "markdown",
      "metadata": {
        "id": "qwRU1boBRiHQ"
      },
      "source": [
        "# f(x) = x^2"
      ]
    },
    {
      "cell_type": "code",
      "metadata": {
        "id": "OHuZyXOQRiHR"
      },
      "source": [
        "def func1(x):\n",
        "    return x**2"
      ],
      "execution_count": null,
      "outputs": []
    },
    {
      "cell_type": "code",
      "metadata": {
        "id": "IJZTm8YKRiHX"
      },
      "source": [
        "f = lambda x: func1(x)"
      ],
      "execution_count": null,
      "outputs": []
    },
    {
      "cell_type": "code",
      "metadata": {
        "id": "EnI3nIVQRiHb"
      },
      "source": [
        "#수치미분 함수 1차 버전\n",
        "def numerical_derivative(f,x):\n",
        "    \n",
        "    delta_x = 1e-4\n",
        "    \n",
        "    return  ( f(x+delta_x) - f(x-delta_x) ) / (2*delta_x)"
      ],
      "execution_count": null,
      "outputs": []
    },
    {
      "cell_type": "code",
      "metadata": {
        "id": "bRuZAccZRiHe",
        "outputId": "8f6342bd-ba25-4ff9-b3bf-595f11c72e08"
      },
      "source": [
        "ret = numerical_derivative(f,3.0)\n",
        "print(ret)"
      ],
      "execution_count": null,
      "outputs": [
        {
          "output_type": "stream",
          "text": [
            "6.000000000012662\n"
          ],
          "name": "stdout"
        }
      ]
    },
    {
      "cell_type": "markdown",
      "metadata": {
        "id": "iY9LRLYXRiHi"
      },
      "source": [
        "f(x) = 3xe^x"
      ]
    },
    {
      "cell_type": "code",
      "metadata": {
        "id": "oFKiL8LpRiHi"
      },
      "source": [
        "def func2(x):\n",
        "    return 3*x*np.exp(x)"
      ],
      "execution_count": null,
      "outputs": []
    },
    {
      "cell_type": "code",
      "metadata": {
        "id": "eFw8KagrRiHl"
      },
      "source": [
        "f = lambda x: func2(x)"
      ],
      "execution_count": null,
      "outputs": []
    },
    {
      "cell_type": "code",
      "metadata": {
        "id": "uMj15Pq0RiHq"
      },
      "source": [
        "def numerical_derivative(f,x):\n",
        "    \n",
        "    delta_x = 1e-4\n",
        "\n",
        "    return ( f(x+delta_x) - f(x-delta_x) ) / (2*delta_x)"
      ],
      "execution_count": null,
      "outputs": []
    },
    {
      "cell_type": "code",
      "metadata": {
        "id": "NCzRUZa0RiHt",
        "outputId": "143c09e4-46bf-4321-8883-d2af54fbd6f4"
      },
      "source": [
        "ret = numerical_derivative(f,2.0)\n",
        "print(ret)"
      ],
      "execution_count": null,
      "outputs": [
        {
          "output_type": "stream",
          "text": [
            "66.50150507518049\n"
          ],
          "name": "stdout"
        }
      ]
    },
    {
      "cell_type": "markdown",
      "metadata": {
        "id": "MtJK2oFDRiHx"
      },
      "source": [
        "수치미분 최종 버전 - numerical derivative"
      ]
    },
    {
      "cell_type": "code",
      "metadata": {
        "id": "LeNagcMjRiHx"
      },
      "source": [
        "def numerical_derivative(f,x):\n",
        "    delta_x = 1e-4\n",
        "    grad = np.zeros_like(x)\n",
        "    \n",
        "    it = np.nditer(x, flags = ['multi_index'], op_flags = ['readwrite'])\n",
        "    \n",
        "    while not it.finished:\n",
        "        idx = it.multi_index\n",
        "        \n",
        "        tmp_val = x[idx]\n",
        "        x[idx] = float(tmp_val) + delta_x\n",
        "        fx1 = f(x)   #f(x+delta_x)\n",
        "        \n",
        "        x[idx] = tmp_val - delta_x\n",
        "        fx2 = f(x)\n",
        "        grad[idx] = (fx1 - fx2) / (2*delta_x)\n",
        "        \n",
        "        x[idx] = tmp_val\n",
        "        it.iterntext()\n",
        "    \n",
        "    return grad "
      ],
      "execution_count": null,
      "outputs": []
    },
    {
      "cell_type": "markdown",
      "metadata": {
        "id": "HzMRWRr4RiH0"
      },
      "source": [
        "예제 5 "
      ]
    },
    {
      "cell_type": "code",
      "metadata": {
        "id": "siXkUR0ORiH1"
      },
      "source": [
        "def numerical_derivative(f,x):\n",
        "    delta_x = 1e-4\n",
        "    grad = np.zeros_like(x)\n",
        "    \n",
        "    print(\"debug 1. initial input variable = \", x)\n",
        "    print(\"debug 2. initial grad = \", grad)\n",
        "    print(\"=========================================\")\n",
        "    \n",
        " \n",
        "\n",
        "        \n",
        "        print(\"debug 3. idx = \", idx, \"x[idx] = \", x[idx])\n",
        "        \n",
        "        tmp_val = W[0]\n",
        "        W[0] = float(tmp_val) + delta_x\n",
        "        fx1 = f(W)\n",
        "        \n",
        "        W[0] = tmp_val - delta_x\n",
        "        fx2 = f(W)\n",
        "        grad[idx] = (fx1 - fx2) / (2*delta_x)\n",
        "        \n",
        "        print(\"debug 4. grad[idx] = \", grad[idx])\n",
        "        print(\"debug 5. grad = \", grad)\n",
        "        print(\"======================================\")\n",
        "        \n",
        "        W[idx] = tmp_val\n",
        "        it.iternext()\n",
        "        \n",
        "    return grad"
      ],
      "execution_count": null,
      "outputs": []
    },
    {
      "cell_type": "code",
      "metadata": {
        "id": "6XrWlUiRRiH4"
      },
      "source": [
        "def func1(x):\n",
        "    return x**2"
      ],
      "execution_count": null,
      "outputs": []
    },
    {
      "cell_type": "code",
      "metadata": {
        "id": "SBEtLNy6RiH8"
      },
      "source": [
        "f = lambda x : func1(x)"
      ],
      "execution_count": null,
      "outputs": []
    },
    {
      "cell_type": "code",
      "metadata": {
        "id": "3DZqtX8vRiIA",
        "outputId": "b5d31854-6024-4a4f-8fc7-7ecce1ca2acc"
      },
      "source": [
        "ret = numerical_derivative(f,3)\n",
        "\n",
        "print(\"type(ret) = \", type(ret), \", ret_val = \", ret)"
      ],
      "execution_count": null,
      "outputs": [
        {
          "output_type": "stream",
          "text": [
            "debug 1. initial input variable =  3\n",
            "debug 2. initial grad =  0\n",
            "=========================================\n"
          ],
          "name": "stdout"
        },
        {
          "output_type": "error",
          "ename": "TypeError",
          "evalue": "Iterator operand is flagged as writeable, but is an object which cannot be written back to via WRITEBACKIFCOPY",
          "traceback": [
            "\u001b[1;31m---------------------------------------------------------------------------\u001b[0m",
            "\u001b[1;31mTypeError\u001b[0m                                 Traceback (most recent call last)",
            "\u001b[1;32m<ipython-input-35-ad644972b935>\u001b[0m in \u001b[0;36m<module>\u001b[1;34m\u001b[0m\n\u001b[1;32m----> 1\u001b[1;33m \u001b[0mret\u001b[0m \u001b[1;33m=\u001b[0m \u001b[0mnumerical_derivative\u001b[0m\u001b[1;33m(\u001b[0m\u001b[0mf\u001b[0m\u001b[1;33m,\u001b[0m\u001b[1;36m3\u001b[0m\u001b[1;33m)\u001b[0m\u001b[1;33m\u001b[0m\u001b[1;33m\u001b[0m\u001b[0m\n\u001b[0m\u001b[0;32m      2\u001b[0m \u001b[1;33m\u001b[0m\u001b[0m\n\u001b[0;32m      3\u001b[0m \u001b[0mprint\u001b[0m\u001b[1;33m(\u001b[0m\u001b[1;34m\"type(ret) = \"\u001b[0m\u001b[1;33m,\u001b[0m \u001b[0mtype\u001b[0m\u001b[1;33m(\u001b[0m\u001b[0mret\u001b[0m\u001b[1;33m)\u001b[0m\u001b[1;33m,\u001b[0m \u001b[1;34m\", ret_val = \"\u001b[0m\u001b[1;33m,\u001b[0m \u001b[0mret\u001b[0m\u001b[1;33m)\u001b[0m\u001b[1;33m\u001b[0m\u001b[1;33m\u001b[0m\u001b[0m\n",
            "\u001b[1;32m<ipython-input-30-3f15d1c9e9d1>\u001b[0m in \u001b[0;36mnumerical_derivative\u001b[1;34m(f, x)\u001b[0m\n\u001b[0;32m      7\u001b[0m     \u001b[0mprint\u001b[0m\u001b[1;33m(\u001b[0m\u001b[1;34m\"=========================================\"\u001b[0m\u001b[1;33m)\u001b[0m\u001b[1;33m\u001b[0m\u001b[1;33m\u001b[0m\u001b[0m\n\u001b[0;32m      8\u001b[0m \u001b[1;33m\u001b[0m\u001b[0m\n\u001b[1;32m----> 9\u001b[1;33m     \u001b[0mit\u001b[0m \u001b[1;33m=\u001b[0m \u001b[0mnp\u001b[0m\u001b[1;33m.\u001b[0m\u001b[0mnditer\u001b[0m\u001b[1;33m(\u001b[0m\u001b[0mx\u001b[0m\u001b[1;33m,\u001b[0m \u001b[0mflags\u001b[0m \u001b[1;33m=\u001b[0m \u001b[1;33m[\u001b[0m\u001b[1;34m'multi_index'\u001b[0m\u001b[1;33m]\u001b[0m\u001b[1;33m,\u001b[0m \u001b[0mop_flags\u001b[0m \u001b[1;33m=\u001b[0m \u001b[1;33m[\u001b[0m\u001b[1;34m'readwrite'\u001b[0m\u001b[1;33m]\u001b[0m\u001b[1;33m)\u001b[0m\u001b[1;33m\u001b[0m\u001b[1;33m\u001b[0m\u001b[0m\n\u001b[0m\u001b[0;32m     10\u001b[0m \u001b[1;33m\u001b[0m\u001b[0m\n\u001b[0;32m     11\u001b[0m     \u001b[1;32mwhile\u001b[0m \u001b[1;32mnot\u001b[0m \u001b[0mit\u001b[0m\u001b[1;33m.\u001b[0m\u001b[0mfinished\u001b[0m\u001b[1;33m:\u001b[0m\u001b[1;33m\u001b[0m\u001b[1;33m\u001b[0m\u001b[0m\n",
            "\u001b[1;31mTypeError\u001b[0m: Iterator operand is flagged as writeable, but is an object which cannot be written back to via WRITEBACKIFCOPY"
          ]
        }
      ]
    },
    {
      "cell_type": "markdown",
      "metadata": {
        "id": "OdD_cVdZRiIE"
      },
      "source": [
        "f(x,y) = 2x + 3xy + y^3   => f'(1.0, 2.0)"
      ]
    },
    {
      "cell_type": "code",
      "metadata": {
        "id": "dzDJRuvZRiIF"
      },
      "source": [
        "def numerical_derivative(f,x):\n",
        "    \n",
        "    delta_x = 1e-4\n",
        "    grad = np.zeros_like(x)\n",
        "    \n",
        "    it = np.nditer(x, flags=['multi_index'], op_flags=['readwrite'])\n",
        "    \n",
        "    while not it.finished:\n",
        "        idx = it.multi_index\n",
        "        \n",
        "        tmp_val = x[idx]\n",
        "        x[idx] = (tmp_val) + delta_x\n",
        "        fx1 = f(x)\n",
        "        \n",
        "        x[idx] = tmp_val - delta_x\n",
        "        fx2 = f(x)\n",
        "        grad[idx] = (fx1 - fx2) / (2*delta_x)\n",
        "        \n",
        "        x[idx] = tmp_val\n",
        "        it.iternext()\n",
        "        \n",
        "    return grad"
      ],
      "execution_count": null,
      "outputs": []
    },
    {
      "cell_type": "code",
      "metadata": {
        "id": "cqlzZBKfRiII",
        "outputId": "7f3dc310-c1a3-4d8b-85c6-0d3b22ef5702"
      },
      "source": [
        "def func2(W):\n",
        "    x = W[0]\n",
        "    y = W[1]\n",
        "    \n",
        "    return (2*x + 3*x*y + np.power(y,3))\n",
        "\n",
        "f = lambda W: func2(W)\n",
        "\n",
        "W = np.array([1.0, 2.0])\n",
        "\n",
        "numerical_derivative(f,W)"
      ],
      "execution_count": null,
      "outputs": [
        {
          "output_type": "execute_result",
          "data": {
            "text/plain": [
              "array([ 8.        , 15.00000001])"
            ]
          },
          "metadata": {
            "tags": []
          },
          "execution_count": 25
        }
      ]
    },
    {
      "cell_type": "code",
      "metadata": {
        "id": "4MzqxW6WRiIL"
      },
      "source": [
        ""
      ],
      "execution_count": null,
      "outputs": []
    },
    {
      "cell_type": "code",
      "metadata": {
        "id": "S0c2G2p-RiIO"
      },
      "source": [
        ""
      ],
      "execution_count": null,
      "outputs": []
    }
  ]
}