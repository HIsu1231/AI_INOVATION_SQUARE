{
  "nbformat": 4,
  "nbformat_minor": 0,
  "metadata": {
    "colab": {
      "name": "CNN_3conv/1flatten_4.ipynb",
      "provenance": [],
      "mount_file_id": "1Bt1fHUeErO6Cm_LEMbjSu9jULXEQ4RZ4",
      "authorship_tag": "ABX9TyOBmdLSIXDZgehFRWuB6UXR",
      "include_colab_link": true
    },
    "kernelspec": {
      "name": "python3",
      "display_name": "Python 3"
    },
    "accelerator": "GPU"
  },
  "cells": [
    {
      "cell_type": "markdown",
      "metadata": {
        "id": "view-in-github",
        "colab_type": "text"
      },
      "source": [
        "<a href=\"https://colab.research.google.com/github/HIsu1231/AI_INOVATION_SQUARE/blob/master/CNN_3conv_1flatten_4.ipynb\" target=\"_parent\"><img src=\"https://colab.research.google.com/assets/colab-badge.svg\" alt=\"Open In Colab\"/></a>"
      ]
    },
    {
      "cell_type": "code",
      "metadata": {
        "colab": {
          "base_uri": "https://localhost:8080/"
        },
        "id": "qnrWOzYIg1he",
        "outputId": "645eb6b2-3668-4bfc-b04f-8807369ac02b"
      },
      "source": [
        "%tensorflow_version 1.x"
      ],
      "execution_count": 1,
      "outputs": [
        {
          "output_type": "stream",
          "text": [
            "TensorFlow 1.x selected.\n"
          ],
          "name": "stdout"
        }
      ]
    },
    {
      "cell_type": "code",
      "metadata": {
        "colab": {
          "base_uri": "https://localhost:8080/"
        },
        "id": "nOMeBC2-g6f5",
        "outputId": "414bbfb8-db2b-4c0a-e1d2-b6eb75821f2f"
      },
      "source": [
        "import tensorflow as tf\r\n",
        "from tensorflow.examples.tutorials.mnist import input_data\r\n",
        "import numpy as np\r\n",
        "from datetime import datetime\r\n",
        "\r\n",
        "mnist = input_data.read_data_sets('MNIST/data', one_hot=True)"
      ],
      "execution_count": 2,
      "outputs": [
        {
          "output_type": "stream",
          "text": [
            "WARNING:tensorflow:From <ipython-input-2-1a48d9c9b3ee>:6: read_data_sets (from tensorflow.contrib.learn.python.learn.datasets.mnist) is deprecated and will be removed in a future version.\n",
            "Instructions for updating:\n",
            "Please use alternatives such as official/mnist/dataset.py from tensorflow/models.\n",
            "WARNING:tensorflow:From /tensorflow-1.15.2/python3.6/tensorflow_core/contrib/learn/python/learn/datasets/mnist.py:260: maybe_download (from tensorflow.contrib.learn.python.learn.datasets.base) is deprecated and will be removed in a future version.\n",
            "Instructions for updating:\n",
            "Please write your own downloading logic.\n",
            "WARNING:tensorflow:From /tensorflow-1.15.2/python3.6/tensorflow_core/contrib/learn/python/learn/datasets/base.py:252: _internal_retry.<locals>.wrap.<locals>.wrapped_fn (from tensorflow.contrib.learn.python.learn.datasets.base) is deprecated and will be removed in a future version.\n",
            "Instructions for updating:\n",
            "Please use urllib or similar directly.\n",
            "Successfully downloaded train-images-idx3-ubyte.gz 9912422 bytes.\n",
            "WARNING:tensorflow:From /tensorflow-1.15.2/python3.6/tensorflow_core/contrib/learn/python/learn/datasets/mnist.py:262: extract_images (from tensorflow.contrib.learn.python.learn.datasets.mnist) is deprecated and will be removed in a future version.\n",
            "Instructions for updating:\n",
            "Please use tf.data to implement this functionality.\n",
            "Extracting MNIST/data/train-images-idx3-ubyte.gz\n",
            "Successfully downloaded train-labels-idx1-ubyte.gz 28881 bytes.\n",
            "WARNING:tensorflow:From /tensorflow-1.15.2/python3.6/tensorflow_core/contrib/learn/python/learn/datasets/mnist.py:267: extract_labels (from tensorflow.contrib.learn.python.learn.datasets.mnist) is deprecated and will be removed in a future version.\n",
            "Instructions for updating:\n",
            "Please use tf.data to implement this functionality.\n",
            "Extracting MNIST/data/train-labels-idx1-ubyte.gz\n",
            "WARNING:tensorflow:From /tensorflow-1.15.2/python3.6/tensorflow_core/contrib/learn/python/learn/datasets/mnist.py:110: dense_to_one_hot (from tensorflow.contrib.learn.python.learn.datasets.mnist) is deprecated and will be removed in a future version.\n",
            "Instructions for updating:\n",
            "Please use tf.one_hot on tensors.\n",
            "Successfully downloaded t10k-images-idx3-ubyte.gz 1648877 bytes.\n",
            "Extracting MNIST/data/t10k-images-idx3-ubyte.gz\n",
            "Successfully downloaded t10k-labels-idx1-ubyte.gz 4542 bytes.\n",
            "Extracting MNIST/data/t10k-labels-idx1-ubyte.gz\n",
            "WARNING:tensorflow:From /tensorflow-1.15.2/python3.6/tensorflow_core/contrib/learn/python/learn/datasets/mnist.py:290: DataSet.__init__ (from tensorflow.contrib.learn.python.learn.datasets.mnist) is deprecated and will be removed in a future version.\n",
            "Instructions for updating:\n",
            "Please use alternatives such as official/mnist/dataset.py from tensorflow/models.\n"
          ],
          "name": "stdout"
        }
      ]
    },
    {
      "cell_type": "code",
      "metadata": {
        "id": "l9W3QGAphFEk"
      },
      "source": [
        "i_nodes = mnist.train.images.shape[1]\r\n",
        "o_nodes = mnist.train.labels.shape[1]\r\n",
        "\r\n",
        "#hyper_parameter\r\n",
        "learning_rate = 0.001\r\n",
        "epochs = 30\r\n",
        "batch_size = 100"
      ],
      "execution_count": 3,
      "outputs": []
    },
    {
      "cell_type": "code",
      "metadata": {
        "id": "tQJAecbehhKY"
      },
      "source": [
        "X = tf.placeholder(tf.float32, [None,i_nodes])\r\n",
        "T = tf.placeholder(tf.float32, [None,o_nodes])\r\n",
        "\r\n",
        "#28X28X1\r\n",
        "A1 = tf.reshape(X, [-1,28,28,1])"
      ],
      "execution_count": 4,
      "outputs": []
    },
    {
      "cell_type": "code",
      "metadata": {
        "id": "sFwwvw25htDO"
      },
      "source": [
        "#5X5X32\r\n",
        "W2 = tf.Variable(tf.random_normal([5,5,1,32], stddev=0.01))\r\n",
        "b2 = tf.Variable(tf.random_normal([32]))\r\n",
        "\r\n",
        "#28X28X32\r\n",
        "C2 = tf.nn.conv2d(A1, W2, strides=[1,1,1,1], padding='SAME')\r\n",
        "\r\n",
        "Z2 = tf.nn.relu(C2+b2)\r\n",
        "\r\n",
        "#14X14X32\r\n",
        "A2 = tf.nn.max_pool(Z2, ksize=[1,2,2,1], strides=[1,2,2,1], padding='SAME')"
      ],
      "execution_count": 5,
      "outputs": []
    },
    {
      "cell_type": "code",
      "metadata": {
        "id": "o94Ow5t0iU9M"
      },
      "source": [
        "#5X5X64 Filter\r\n",
        "W3 = tf.Variable(tf.random_normal([5,5,32,64], stddev=0.01))\r\n",
        "b3 = tf.Variable(tf.random_normal([64]))\r\n",
        "\r\n",
        "#14X14X64\r\n",
        "C3 = tf.nn.conv2d(A2, W3, strides=[1,1,1,1], padding='SAME')\r\n",
        "\r\n",
        "Z3 = tf.nn.relu(C3+b3)\r\n",
        "\r\n",
        "#7X7X64\r\n",
        "A3 = tf.nn.max_pool(Z3, ksize=[1,2,2,1], strides=[1,2,2,1], padding='SAME')"
      ],
      "execution_count": 6,
      "outputs": []
    },
    {
      "cell_type": "code",
      "metadata": {
        "id": "IVSKwTiWkdHm"
      },
      "source": [
        "#5X5X128 Filter\r\n",
        "W4 = tf.Variable(tf.random_normal([5,5,64,128], stddev=0.01))\r\n",
        "b4 = tf.Variable(tf.random_normal([128]))\r\n",
        "\r\n",
        "#7X7X128\r\n",
        "C4 = tf.nn.conv2d(A3, W4, strides=[1,1,1,1], padding='SAME')\r\n",
        "\r\n",
        "Z4 = tf.nn.relu(C4+b4)\r\n",
        "\r\n",
        "#4X4X128\r\n",
        "A4 = tf.nn.max_pool(Z4, ksize=[1,2,2,1], strides=[1,2,2,1], padding='SAME')"
      ],
      "execution_count": 7,
      "outputs": []
    },
    {
      "cell_type": "code",
      "metadata": {
        "id": "9vQ3048tlALV"
      },
      "source": [
        "A4_flat = tf.reshape(A4, [-1, 4*4*128])\r\n",
        "\r\n",
        "W5 = tf.Variable(tf.random_normal([4*4*128, 10], stddev=0.01))\r\n",
        "b5 = tf.Variable(tf.random_normal([10]))\r\n",
        "\r\n",
        "Z5 = tf.matmul(A4_flat, W5) + b5\r\n",
        "\r\n",
        "y = tf.nn.softmax(Z5)"
      ],
      "execution_count": 8,
      "outputs": []
    },
    {
      "cell_type": "code",
      "metadata": {
        "id": "Qigdt4AIlP53"
      },
      "source": [
        "loss = tf.reduce_mean(tf.nn.softmax_cross_entropy_with_logits_v2(labels=T, logits=Z5))\r\n",
        "\r\n",
        "optimizer = tf.train.AdamOptimizer(learning_rate)\r\n",
        "\r\n",
        "train = optimizer.minimize(loss)"
      ],
      "execution_count": 9,
      "outputs": []
    },
    {
      "cell_type": "code",
      "metadata": {
        "id": "O9VNUv4QlbKI"
      },
      "source": [
        "predicted_val = tf.argmax(y,1)\r\n",
        "\r\n",
        "accuracy_index = tf.cast(tf.equal(tf.argmax(y,1), tf.argmax(T,1)),dtype=tf.float32)\r\n",
        "\r\n",
        "accuracy = tf.reduce_mean(accuracy_index)"
      ],
      "execution_count": 10,
      "outputs": []
    },
    {
      "cell_type": "code",
      "metadata": {
        "colab": {
          "base_uri": "https://localhost:8080/"
        },
        "id": "lGSeH1UTlv2y",
        "outputId": "489df449-3fac-4013-e8b7-1b4b686ebd09"
      },
      "source": [
        "index_label_prediction_list = []\r\n",
        "\r\n",
        "with tf.Session() as sess:\r\n",
        "\r\n",
        "    sess.run(tf.global_variables_initializer())\r\n",
        "\r\n",
        "    start_time = datetime.now()\r\n",
        "\r\n",
        "    for i in range(epochs):\r\n",
        "\r\n",
        "        total_batch = int(mnist.train.num_examples / batch_size)\r\n",
        "\r\n",
        "        for step in range(total_batch):\r\n",
        "\r\n",
        "            batch_x_data, batch_t_data = mnist.train.next_batch(batch_size)\r\n",
        "\r\n",
        "            loss_val, _ = sess.run([loss, train], feed_dict={X: batch_x_data, T: batch_t_data})\r\n",
        "\r\n",
        "            if step % 100 == 0:\r\n",
        "\r\n",
        "                print(\"epochs = \", i+1, \", stpe = \", step, \", loss value = \", loss_val)\r\n",
        "    \r\n",
        "    end_time = datetime.now()\r\n",
        "\r\n",
        "    print(\"\\nElapsed time = \", end_time - start_time)\r\n",
        "\r\n",
        "    test_x_data = mnist.test.images\r\n",
        "    test_t_data = mnist.test.labels\r\n",
        "\r\n",
        "    accuracy_val, index_label, predicted_list = sess.run([accuracy, accuracy_index, predicted_val], feed_dict={X: test_x_data, T:test_t_data})\r\n",
        "\r\n",
        "    print(\"\\nAccuracy = \",accuracy_val)\r\n",
        "\r\n",
        "    temp_list = []\r\n",
        "\r\n",
        "    for i in range(len(index_label)):\r\n",
        "\r\n",
        "        if index_label[i] == 0:\r\n",
        "\r\n",
        "            temp_list.append(i)\r\n",
        "            temp_list.append(np.argmax(test_t_data[i]))\r\n",
        "            temp_list.append(predicted_list[i])\r\n",
        "\r\n",
        "            index_label_prediction_list.append(temp_list)\r\n",
        "\r\n",
        "            temp_list = []"
      ],
      "execution_count": 11,
      "outputs": [
        {
          "output_type": "stream",
          "text": [
            "epochs =  1 , stpe =  0 , loss value =  2.921029\n",
            "epochs =  1 , stpe =  100 , loss value =  2.193867\n",
            "epochs =  1 , stpe =  200 , loss value =  0.5950856\n",
            "epochs =  1 , stpe =  300 , loss value =  0.25666398\n",
            "epochs =  1 , stpe =  400 , loss value =  0.19872814\n",
            "epochs =  1 , stpe =  500 , loss value =  0.1685784\n",
            "epochs =  2 , stpe =  0 , loss value =  0.14089356\n",
            "epochs =  2 , stpe =  100 , loss value =  0.08687982\n",
            "epochs =  2 , stpe =  200 , loss value =  0.12333159\n",
            "epochs =  2 , stpe =  300 , loss value =  0.08402706\n",
            "epochs =  2 , stpe =  400 , loss value =  0.113067634\n",
            "epochs =  2 , stpe =  500 , loss value =  0.104879454\n",
            "epochs =  3 , stpe =  0 , loss value =  0.06510847\n",
            "epochs =  3 , stpe =  100 , loss value =  0.09453373\n",
            "epochs =  3 , stpe =  200 , loss value =  0.07414311\n",
            "epochs =  3 , stpe =  300 , loss value =  0.07008763\n",
            "epochs =  3 , stpe =  400 , loss value =  0.09669713\n",
            "epochs =  3 , stpe =  500 , loss value =  0.048823148\n",
            "epochs =  4 , stpe =  0 , loss value =  0.022244018\n",
            "epochs =  4 , stpe =  100 , loss value =  0.085142605\n",
            "epochs =  4 , stpe =  200 , loss value =  0.013892226\n",
            "epochs =  4 , stpe =  300 , loss value =  0.029048102\n",
            "epochs =  4 , stpe =  400 , loss value =  0.109219\n",
            "epochs =  4 , stpe =  500 , loss value =  0.0129081495\n",
            "epochs =  5 , stpe =  0 , loss value =  0.034449056\n",
            "epochs =  5 , stpe =  100 , loss value =  0.023623206\n",
            "epochs =  5 , stpe =  200 , loss value =  0.072822176\n",
            "epochs =  5 , stpe =  300 , loss value =  0.03157528\n",
            "epochs =  5 , stpe =  400 , loss value =  0.0146309845\n",
            "epochs =  5 , stpe =  500 , loss value =  0.008507018\n",
            "epochs =  6 , stpe =  0 , loss value =  0.00895584\n",
            "epochs =  6 , stpe =  100 , loss value =  0.019418962\n",
            "epochs =  6 , stpe =  200 , loss value =  0.03947073\n",
            "epochs =  6 , stpe =  300 , loss value =  0.0155750355\n",
            "epochs =  6 , stpe =  400 , loss value =  0.062239885\n",
            "epochs =  6 , stpe =  500 , loss value =  0.013595991\n",
            "epochs =  7 , stpe =  0 , loss value =  0.04725707\n",
            "epochs =  7 , stpe =  100 , loss value =  0.012391482\n",
            "epochs =  7 , stpe =  200 , loss value =  0.017909566\n",
            "epochs =  7 , stpe =  300 , loss value =  0.009611796\n",
            "epochs =  7 , stpe =  400 , loss value =  0.009747459\n",
            "epochs =  7 , stpe =  500 , loss value =  0.010678279\n",
            "epochs =  8 , stpe =  0 , loss value =  0.013959077\n",
            "epochs =  8 , stpe =  100 , loss value =  0.016612452\n",
            "epochs =  8 , stpe =  200 , loss value =  0.012124739\n",
            "epochs =  8 , stpe =  300 , loss value =  0.004985913\n",
            "epochs =  8 , stpe =  400 , loss value =  0.0026667148\n",
            "epochs =  8 , stpe =  500 , loss value =  0.04291999\n",
            "epochs =  9 , stpe =  0 , loss value =  0.00082801026\n",
            "epochs =  9 , stpe =  100 , loss value =  0.014172678\n",
            "epochs =  9 , stpe =  200 , loss value =  0.016002323\n",
            "epochs =  9 , stpe =  300 , loss value =  0.00327975\n",
            "epochs =  9 , stpe =  400 , loss value =  0.05408173\n",
            "epochs =  9 , stpe =  500 , loss value =  0.0017175764\n",
            "epochs =  10 , stpe =  0 , loss value =  0.045428395\n",
            "epochs =  10 , stpe =  100 , loss value =  0.0017797367\n",
            "epochs =  10 , stpe =  200 , loss value =  0.0026244936\n",
            "epochs =  10 , stpe =  300 , loss value =  0.012841514\n",
            "epochs =  10 , stpe =  400 , loss value =  0.060118042\n",
            "epochs =  10 , stpe =  500 , loss value =  0.011426041\n",
            "epochs =  11 , stpe =  0 , loss value =  0.00058686844\n",
            "epochs =  11 , stpe =  100 , loss value =  0.0026002377\n",
            "epochs =  11 , stpe =  200 , loss value =  0.007988977\n",
            "epochs =  11 , stpe =  300 , loss value =  0.009150084\n",
            "epochs =  11 , stpe =  400 , loss value =  0.029259888\n",
            "epochs =  11 , stpe =  500 , loss value =  0.0035396176\n",
            "epochs =  12 , stpe =  0 , loss value =  0.008463041\n",
            "epochs =  12 , stpe =  100 , loss value =  0.00045582067\n",
            "epochs =  12 , stpe =  200 , loss value =  0.017647928\n",
            "epochs =  12 , stpe =  300 , loss value =  0.015545845\n",
            "epochs =  12 , stpe =  400 , loss value =  0.015927603\n",
            "epochs =  12 , stpe =  500 , loss value =  0.059240427\n",
            "epochs =  13 , stpe =  0 , loss value =  0.00070099207\n",
            "epochs =  13 , stpe =  100 , loss value =  0.0069928505\n",
            "epochs =  13 , stpe =  200 , loss value =  0.0009486449\n",
            "epochs =  13 , stpe =  300 , loss value =  0.00013789734\n",
            "epochs =  13 , stpe =  400 , loss value =  0.0062596523\n",
            "epochs =  13 , stpe =  500 , loss value =  0.008648392\n",
            "epochs =  14 , stpe =  0 , loss value =  0.0004462166\n",
            "epochs =  14 , stpe =  100 , loss value =  0.0027055035\n",
            "epochs =  14 , stpe =  200 , loss value =  0.009280687\n",
            "epochs =  14 , stpe =  300 , loss value =  0.045138534\n",
            "epochs =  14 , stpe =  400 , loss value =  0.04073462\n",
            "epochs =  14 , stpe =  500 , loss value =  0.07856487\n",
            "epochs =  15 , stpe =  0 , loss value =  0.0014734312\n",
            "epochs =  15 , stpe =  100 , loss value =  0.0042668376\n",
            "epochs =  15 , stpe =  200 , loss value =  0.0012106838\n",
            "epochs =  15 , stpe =  300 , loss value =  0.002771364\n",
            "epochs =  15 , stpe =  400 , loss value =  0.056587916\n",
            "epochs =  15 , stpe =  500 , loss value =  0.05006094\n",
            "epochs =  16 , stpe =  0 , loss value =  0.005520431\n",
            "epochs =  16 , stpe =  100 , loss value =  0.00047942647\n",
            "epochs =  16 , stpe =  200 , loss value =  0.02163716\n",
            "epochs =  16 , stpe =  300 , loss value =  0.018906966\n",
            "epochs =  16 , stpe =  400 , loss value =  0.04405516\n",
            "epochs =  16 , stpe =  500 , loss value =  0.010894942\n",
            "epochs =  17 , stpe =  0 , loss value =  0.0069608344\n",
            "epochs =  17 , stpe =  100 , loss value =  0.0012877947\n",
            "epochs =  17 , stpe =  200 , loss value =  0.000289539\n",
            "epochs =  17 , stpe =  300 , loss value =  0.0148022035\n",
            "epochs =  17 , stpe =  400 , loss value =  0.03598135\n",
            "epochs =  17 , stpe =  500 , loss value =  0.0094587\n",
            "epochs =  18 , stpe =  0 , loss value =  0.025437681\n",
            "epochs =  18 , stpe =  100 , loss value =  0.03209193\n",
            "epochs =  18 , stpe =  200 , loss value =  0.00033314378\n",
            "epochs =  18 , stpe =  300 , loss value =  0.0005372334\n",
            "epochs =  18 , stpe =  400 , loss value =  0.0009453007\n",
            "epochs =  18 , stpe =  500 , loss value =  0.007918615\n",
            "epochs =  19 , stpe =  0 , loss value =  0.018528456\n",
            "epochs =  19 , stpe =  100 , loss value =  0.002066208\n",
            "epochs =  19 , stpe =  200 , loss value =  0.0017032266\n",
            "epochs =  19 , stpe =  300 , loss value =  4.2093303e-05\n",
            "epochs =  19 , stpe =  400 , loss value =  0.0018432917\n",
            "epochs =  19 , stpe =  500 , loss value =  0.0027302715\n",
            "epochs =  20 , stpe =  0 , loss value =  0.01926134\n",
            "epochs =  20 , stpe =  100 , loss value =  0.002374922\n",
            "epochs =  20 , stpe =  200 , loss value =  0.00011292666\n",
            "epochs =  20 , stpe =  300 , loss value =  0.0003189246\n",
            "epochs =  20 , stpe =  400 , loss value =  0.01891566\n",
            "epochs =  20 , stpe =  500 , loss value =  0.006532152\n",
            "epochs =  21 , stpe =  0 , loss value =  0.002192977\n",
            "epochs =  21 , stpe =  100 , loss value =  0.00061693916\n",
            "epochs =  21 , stpe =  200 , loss value =  0.0014140592\n",
            "epochs =  21 , stpe =  300 , loss value =  0.00019563716\n",
            "epochs =  21 , stpe =  400 , loss value =  0.031928852\n",
            "epochs =  21 , stpe =  500 , loss value =  0.0011622217\n",
            "epochs =  22 , stpe =  0 , loss value =  0.00015286494\n",
            "epochs =  22 , stpe =  100 , loss value =  0.0001108094\n",
            "epochs =  22 , stpe =  200 , loss value =  0.001667896\n",
            "epochs =  22 , stpe =  300 , loss value =  0.0012848333\n",
            "epochs =  22 , stpe =  400 , loss value =  0.0019633798\n",
            "epochs =  22 , stpe =  500 , loss value =  0.0053873896\n",
            "epochs =  23 , stpe =  0 , loss value =  0.0032277522\n",
            "epochs =  23 , stpe =  100 , loss value =  0.00040826763\n",
            "epochs =  23 , stpe =  200 , loss value =  0.0031715203\n",
            "epochs =  23 , stpe =  300 , loss value =  0.00012084476\n",
            "epochs =  23 , stpe =  400 , loss value =  0.00043876577\n",
            "epochs =  23 , stpe =  500 , loss value =  0.0030123098\n",
            "epochs =  24 , stpe =  0 , loss value =  0.00017699879\n",
            "epochs =  24 , stpe =  100 , loss value =  0.0017321137\n",
            "epochs =  24 , stpe =  200 , loss value =  0.00037007956\n",
            "epochs =  24 , stpe =  300 , loss value =  3.42575e-05\n",
            "epochs =  24 , stpe =  400 , loss value =  3.5962937e-06\n",
            "epochs =  24 , stpe =  500 , loss value =  0.0030300268\n",
            "epochs =  25 , stpe =  0 , loss value =  8.605004e-06\n",
            "epochs =  25 , stpe =  100 , loss value =  2.3644257e-05\n",
            "epochs =  25 , stpe =  200 , loss value =  0.022562541\n",
            "epochs =  25 , stpe =  300 , loss value =  0.00017745588\n",
            "epochs =  25 , stpe =  400 , loss value =  0.0009545708\n",
            "epochs =  25 , stpe =  500 , loss value =  0.0023089906\n",
            "epochs =  26 , stpe =  0 , loss value =  0.017297126\n",
            "epochs =  26 , stpe =  100 , loss value =  3.8448336e-05\n",
            "epochs =  26 , stpe =  200 , loss value =  0.0015113084\n",
            "epochs =  26 , stpe =  300 , loss value =  0.0002211874\n",
            "epochs =  26 , stpe =  400 , loss value =  1.3053776e-05\n",
            "epochs =  26 , stpe =  500 , loss value =  0.0020581002\n",
            "epochs =  27 , stpe =  0 , loss value =  0.027158884\n",
            "epochs =  27 , stpe =  100 , loss value =  5.9256854e-06\n",
            "epochs =  27 , stpe =  200 , loss value =  0.00361727\n",
            "epochs =  27 , stpe =  300 , loss value =  0.00021570172\n",
            "epochs =  27 , stpe =  400 , loss value =  1.9024666e-05\n",
            "epochs =  27 , stpe =  500 , loss value =  0.00018199203\n",
            "epochs =  28 , stpe =  0 , loss value =  1.1686148e-05\n",
            "epochs =  28 , stpe =  100 , loss value =  1.9927254e-05\n",
            "epochs =  28 , stpe =  200 , loss value =  0.00021023495\n",
            "epochs =  28 , stpe =  300 , loss value =  2.777559e-07\n",
            "epochs =  28 , stpe =  400 , loss value =  6.10814e-05\n",
            "epochs =  28 , stpe =  500 , loss value =  0.0025907147\n",
            "epochs =  29 , stpe =  0 , loss value =  2.6410424e-05\n",
            "epochs =  29 , stpe =  100 , loss value =  0.013143879\n",
            "epochs =  29 , stpe =  200 , loss value =  0.0004975223\n",
            "epochs =  29 , stpe =  300 , loss value =  0.000540023\n",
            "epochs =  29 , stpe =  400 , loss value =  0.00040073667\n",
            "epochs =  29 , stpe =  500 , loss value =  7.875845e-05\n",
            "epochs =  30 , stpe =  0 , loss value =  2.002162e-05\n",
            "epochs =  30 , stpe =  100 , loss value =  0.0012827324\n",
            "epochs =  30 , stpe =  200 , loss value =  3.51982e-06\n",
            "epochs =  30 , stpe =  300 , loss value =  0.00016953073\n",
            "epochs =  30 , stpe =  400 , loss value =  1.4764578e-05\n",
            "epochs =  30 , stpe =  500 , loss value =  7.613926e-05\n",
            "\n",
            "Elapsed time =  0:01:44.292041\n",
            "\n",
            "Accuracy =  0.9926\n"
          ],
          "name": "stdout"
        }
      ]
    },
    {
      "cell_type": "code",
      "metadata": {
        "colab": {
          "base_uri": "https://localhost:8080/"
        },
        "id": "MQyLXp4GnHzQ",
        "outputId": "0e3e828b-8ac6-467f-a032-0a46bba8862e"
      },
      "source": [
        "print(index_label_prediction_list)"
      ],
      "execution_count": 12,
      "outputs": [
        {
          "output_type": "stream",
          "text": [
            "[[115, 4, 9], [247, 4, 6], [340, 5, 3], [381, 3, 7], [445, 6, 0], [449, 3, 5], [462, 6, 8], [495, 8, 0], [582, 8, 2], [619, 1, 8], [659, 2, 1], [720, 5, 8], [947, 8, 9], [1014, 6, 8], [1039, 7, 1], [1182, 6, 5], [1226, 7, 2], [1232, 9, 4], [1242, 4, 9], [1393, 5, 1], [1530, 8, 7], [1549, 4, 6], [1553, 9, 3], [1737, 5, 1], [2035, 5, 3], [2130, 4, 9], [2135, 6, 1], [2293, 9, 0], [2369, 5, 3], [2387, 9, 1], [2447, 4, 9], [2597, 5, 3], [2713, 0, 8], [2836, 4, 9], [2927, 3, 2], [2953, 3, 5], [2995, 6, 8], [3073, 1, 2], [3225, 7, 9], [3422, 6, 0], [3520, 6, 4], [3558, 5, 0], [3727, 8, 9], [3808, 7, 8], [3926, 9, 3], [4176, 2, 7], [4199, 7, 9], [4201, 1, 7], [4360, 5, 3], [4507, 1, 9], [4571, 6, 0], [4761, 9, 8], [5457, 1, 8], [5654, 7, 2], [5676, 4, 7], [5937, 5, 3], [6571, 9, 7], [6576, 7, 1], [6597, 0, 7], [6783, 1, 6], [7565, 7, 4], [8061, 4, 9], [8071, 4, 9], [8246, 3, 9], [8408, 8, 5], [8520, 4, 9], [9015, 7, 2], [9530, 9, 8], [9634, 0, 2], [9642, 9, 7], [9664, 2, 7], [9692, 9, 7], [9729, 5, 6], [9792, 4, 9]]\n"
          ],
          "name": "stdout"
        }
      ]
    },
    {
      "cell_type": "code",
      "metadata": {
        "id": "6UXwfFeMpNlB"
      },
      "source": [
        "import os\r\n",
        "import matplotlib.pyplot as plt\r\n",
        "%matplotlib inline"
      ],
      "execution_count": 13,
      "outputs": []
    },
    {
      "cell_type": "code",
      "metadata": {
        "colab": {
          "base_uri": "https://localhost:8080/"
        },
        "id": "BYzCIRVkpp0k",
        "outputId": "badc7b1d-3fad-475e-a52c-6333d4cee499"
      },
      "source": [
        "now = datetime.now()\r\n",
        "\r\n",
        "print(now)\r\n",
        "print(now.month)"
      ],
      "execution_count": 14,
      "outputs": [
        {
          "output_type": "stream",
          "text": [
            "2020-12-22 13:50:30.478446\n",
            "12\n"
          ],
          "name": "stdout"
        }
      ]
    },
    {
      "cell_type": "code",
      "metadata": {
        "colab": {
          "base_uri": "https://localhost:8080/",
          "height": 439
        },
        "id": "wAATv9z-pTYc",
        "outputId": "a6a0e4c0-13d2-41b0-f3c7-d01e0b7678be"
      },
      "source": [
        "save_count = 0\r\n",
        "\r\n",
        "example_name = 'CNN_Example_5_1_'\r\n",
        "\r\n",
        "#현재 디렉토리 저장\r\n",
        "cur_dir = os.getcwd()\r\n",
        "\r\n",
        "#image 저장 할 디렉토리 생성. 현재 시간으로 생성\r\n",
        "now = datetime.now()\r\n",
        "\r\n",
        "save_dir_name  = example_name + str(now.year) + '-' + str(now.month) + '-' + str(now.day)\r\n",
        "\r\n",
        "colab_default_dir = './drive/MyDrive/AI_INOVATION_SQUARE/prac'\r\n",
        "\r\n",
        "os.chdir(colab_default_dir)\r\n",
        "os.mkdir(save_dir_name)\r\n",
        "\r\n",
        "os.chdir(save_dir_name)\r\n",
        "\r\n",
        "start_time = datetime.now()\r\n",
        "\r\n",
        "for list_data in index_label_prediction_list:\r\n",
        "\r\n",
        "    index_int = list_data[0]\r\n",
        "    label_int = list_data[1]\r\n",
        "    prediction_int = list_data[2]\r\n",
        "\r\n",
        "    #인덱스 문자열\r\n",
        "    index_str = str(index_int)\r\n",
        "\r\n",
        "    #정답 문자열\r\n",
        "    label_str = str(label_int)\r\n",
        "\r\n",
        "    #예측값 문자열\r\n",
        "    prediction_str = str(prediction_int)\r\n",
        "\r\n",
        "    #인덱스, 정답, 예측값(오답)을 나타내는 문자열\r\n",
        "    index_label_prediction_str = 'index = ' + index_str + ', label = ' + label_str + ', prediction = ' + prediction_str\r\n",
        "\r\n",
        "    #저장 파일 이름 생성, str(index_int).png\r\n",
        "    save_image_name = str(index_int) + '.png'\r\n",
        "    plt.title(index_label_prediction_str)\r\n",
        "\r\n",
        "    img = test_x_data[index_int].reshape(28,28)\r\n",
        "    plt.imshow(img, cmap='gray')\r\n",
        "\r\n",
        "    plt.savefig(save_image_name) #파일 저장\r\n",
        "\r\n",
        "    save_count += 1\r\n",
        "\r\n",
        "    if save_count % 10 == 0 :\r\n",
        "\r\n",
        "        print(save_count, \"image is saved now\")\r\n",
        "\r\n",
        "end_time = datetime.now()\r\n",
        "\r\n",
        "print(\"Elapsed save time => \", end_time - start_time)\r\n",
        "print(\"Total \", save_count, \" data is saved\")\r\n",
        "\r\n",
        "#원래의 dir로 복귀\r\n",
        "os.chdir(cur_dir)"
      ],
      "execution_count": 15,
      "outputs": [
        {
          "output_type": "stream",
          "text": [
            "10 image is saved now\n",
            "20 image is saved now\n",
            "30 image is saved now\n",
            "40 image is saved now\n",
            "50 image is saved now\n",
            "60 image is saved now\n",
            "70 image is saved now\n",
            "Elapsed save time =>  0:00:19.133995\n",
            "Total  74  data is saved\n"
          ],
          "name": "stdout"
        },
        {
          "output_type": "display_data",
          "data": {
            "image/png": "[encoded data removed]",
            "text/plain": [
              "<Figure size 432x288 with 1 Axes>"
            ]
          },
          "metadata": {
            "tags": [],
            "needs_background": "light"
          }
        }
      ]
    },
    {
      "cell_type": "code",
      "metadata": {
        "id": "Zf4QgbR4soje"
      },
      "source": [
        ""
      ],
      "execution_count": 15,
      "outputs": []
    }
  ]
}