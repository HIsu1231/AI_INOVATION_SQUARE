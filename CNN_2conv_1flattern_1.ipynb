{
  "nbformat": 4,
  "nbformat_minor": 0,
  "metadata": {
    "colab": {
      "name": "CNN_2conv/1flattern_1.ipynb",
      "provenance": [],
      "collapsed_sections": [],
      "authorship_tag": "ABX9TyNjFLD84o/RC2UEgf0qYlJl",
      "include_colab_link": true
    },
    "kernelspec": {
      "name": "python3",
      "display_name": "Python 3"
    },
    "accelerator": "GPU"
  },
  "cells": [
    {
      "cell_type": "markdown",
      "metadata": {
        "id": "view-in-github",
        "colab_type": "text"
      },
      "source": [
        "<a href=\"https://colab.research.google.com/github/HIsu1231/AI_INOVATION_SQUARE/blob/master/CNN_2conv_1flattern_1.ipynb\" target=\"_parent\"><img src=\"https://colab.research.google.com/assets/colab-badge.svg\" alt=\"Open In Colab\"/></a>"
      ]
    },
    {
      "cell_type": "code",
      "metadata": {
        "id": "ag0MM3Qnj14M",
        "colab": {
          "base_uri": "https://localhost:8080/"
        },
        "outputId": "fbb2c6a8-664a-4c67-8372-389b7afe3dcd"
      },
      "source": [
        "%tensorflow_version 1.x"
      ],
      "execution_count": 1,
      "outputs": [
        {
          "output_type": "stream",
          "text": [
            "TensorFlow 1.x selected.\n"
          ],
          "name": "stdout"
        }
      ]
    },
    {
      "cell_type": "code",
      "metadata": {
        "colab": {
          "base_uri": "https://localhost:8080/"
        },
        "id": "2vsrsHNZSUl-",
        "outputId": "92798d74-8721-4184-89ba-fbf70c4b5471"
      },
      "source": [
        "import tensorflow as tf\r\n",
        "from tensorflow.examples.tutorials.mnist import input_data\r\n",
        "import numpy as np\r\n",
        "from datetime import datetime\r\n",
        "\r\n",
        "mnist = input_data.read_data_sets(\"MNIST_data/\", one_hot=True)"
      ],
      "execution_count": 2,
      "outputs": [
        {
          "output_type": "stream",
          "text": [
            "WARNING:tensorflow:From <ipython-input-2-d52d511b2fc7>:6: read_data_sets (from tensorflow.contrib.learn.python.learn.datasets.mnist) is deprecated and will be removed in a future version.\n",
            "Instructions for updating:\n",
            "Please use alternatives such as official/mnist/dataset.py from tensorflow/models.\n",
            "WARNING:tensorflow:From /tensorflow-1.15.2/python3.6/tensorflow_core/contrib/learn/python/learn/datasets/mnist.py:260: maybe_download (from tensorflow.contrib.learn.python.learn.datasets.base) is deprecated and will be removed in a future version.\n",
            "Instructions for updating:\n",
            "Please write your own downloading logic.\n",
            "WARNING:tensorflow:From /tensorflow-1.15.2/python3.6/tensorflow_core/contrib/learn/python/learn/datasets/base.py:252: _internal_retry.<locals>.wrap.<locals>.wrapped_fn (from tensorflow.contrib.learn.python.learn.datasets.base) is deprecated and will be removed in a future version.\n",
            "Instructions for updating:\n",
            "Please use urllib or similar directly.\n",
            "Successfully downloaded train-images-idx3-ubyte.gz 9912422 bytes.\n",
            "WARNING:tensorflow:From /tensorflow-1.15.2/python3.6/tensorflow_core/contrib/learn/python/learn/datasets/mnist.py:262: extract_images (from tensorflow.contrib.learn.python.learn.datasets.mnist) is deprecated and will be removed in a future version.\n",
            "Instructions for updating:\n",
            "Please use tf.data to implement this functionality.\n",
            "Extracting MNIST_data/train-images-idx3-ubyte.gz\n",
            "Successfully downloaded train-labels-idx1-ubyte.gz 28881 bytes.\n",
            "WARNING:tensorflow:From /tensorflow-1.15.2/python3.6/tensorflow_core/contrib/learn/python/learn/datasets/mnist.py:267: extract_labels (from tensorflow.contrib.learn.python.learn.datasets.mnist) is deprecated and will be removed in a future version.\n",
            "Instructions for updating:\n",
            "Please use tf.data to implement this functionality.\n",
            "Extracting MNIST_data/train-labels-idx1-ubyte.gz\n",
            "WARNING:tensorflow:From /tensorflow-1.15.2/python3.6/tensorflow_core/contrib/learn/python/learn/datasets/mnist.py:110: dense_to_one_hot (from tensorflow.contrib.learn.python.learn.datasets.mnist) is deprecated and will be removed in a future version.\n",
            "Instructions for updating:\n",
            "Please use tf.one_hot on tensors.\n",
            "Successfully downloaded t10k-images-idx3-ubyte.gz 1648877 bytes.\n",
            "Extracting MNIST_data/t10k-images-idx3-ubyte.gz\n",
            "Successfully downloaded t10k-labels-idx1-ubyte.gz 4542 bytes.\n",
            "Extracting MNIST_data/t10k-labels-idx1-ubyte.gz\n",
            "WARNING:tensorflow:From /tensorflow-1.15.2/python3.6/tensorflow_core/contrib/learn/python/learn/datasets/mnist.py:290: DataSet.__init__ (from tensorflow.contrib.learn.python.learn.datasets.mnist) is deprecated and will be removed in a future version.\n",
            "Instructions for updating:\n",
            "Please use alternatives such as official/mnist/dataset.py from tensorflow/models.\n"
          ],
          "name": "stdout"
        }
      ]
    },
    {
      "cell_type": "code",
      "metadata": {
        "id": "YTCte_0h5dHs"
      },
      "source": [
        "i_nodes = mnist.train.images.shape[1]\r\n",
        "o_nodes = mnist.train.labels.shape[1]\r\n",
        "\r\n",
        "#hyper_parameter\r\n",
        "learning_rate = 0.001\r\n",
        "epochs = 30\r\n",
        "batch_size = 100"
      ],
      "execution_count": 3,
      "outputs": []
    },
    {
      "cell_type": "code",
      "metadata": {
        "id": "_kYnCgRwDkc_"
      },
      "source": [
        "X = tf.placeholder(tf.float32, [None,i_nodes])\r\n",
        "T = tf.placeholder(tf.float32, [None,o_nodes])\r\n",
        "\r\n",
        "#28X28X1\r\n",
        "A1 = tf.reshape(X, [-1,28,28,1])"
      ],
      "execution_count": 4,
      "outputs": []
    },
    {
      "cell_type": "code",
      "metadata": {
        "id": "5hbC7X87EAOV"
      },
      "source": [
        "#3X3X32 Filter\r\n",
        "W2 = tf.Variable(tf.random_normal([3,3,1,32], stddev=0.01))\r\n",
        "b2 = tf.Variable(tf.random_normal([32]))\r\n",
        "\r\n",
        "#28X28X32\r\n",
        "C2 = tf.nn.conv2d(A1, W2, strides=[1,1,1,1], padding='SAME')\r\n",
        "\r\n",
        "Z2 = tf.nn.relu(C2+b2)\r\n",
        "\r\n",
        "#14X14X32\r\n",
        "A2 = tf.nn.max_pool(Z2, ksize=[1,2,2,1], strides=[1,2,2,1], padding='SAME')"
      ],
      "execution_count": 5,
      "outputs": []
    },
    {
      "cell_type": "code",
      "metadata": {
        "id": "6kqrKMbIEpYg"
      },
      "source": [
        "#4X4X32 Filter\r\n",
        "W3 = tf.Variable(tf.random_normal([4,4,32,32], stddev=0.01))\r\n",
        "b3 = tf.Variable(tf.random_normal([32]))\r\n",
        "\r\n",
        "#14X14X32\r\n",
        "C3 = tf.nn.conv2d(A2, W3, strides=[1,1,1,1], padding='SAME' )\r\n",
        "\r\n",
        "Z3 = tf.nn.relu(C3+b2)\r\n",
        "\r\n",
        "#7X7X32\r\n",
        "A3 = tf.nn.max_pool(Z3, strides=[1,2,2,1], ksize=[1,2,2,1], padding='SAME')"
      ],
      "execution_count": 6,
      "outputs": []
    },
    {
      "cell_type": "code",
      "metadata": {
        "id": "96MmLTPhFZO8"
      },
      "source": [
        "A3_flat = tf.reshape(A3, [-1, 7*7*32])\r\n",
        "\r\n",
        "W4 = tf.Variable(tf.random_normal([7*7*32,10], stddev=0.01))\r\n",
        "b4 = tf.Variable(tf.random_normal([10]))\r\n",
        "\r\n",
        "Z4 = tf.matmul(A3_flat,W4) + b4\r\n",
        "\r\n",
        "y = tf.nn.softmax(Z4)"
      ],
      "execution_count": 7,
      "outputs": []
    },
    {
      "cell_type": "code",
      "metadata": {
        "id": "Jv5ksCQuF0c0"
      },
      "source": [
        "loss = tf.reduce_mean(tf.nn.softmax_cross_entropy_with_logits_v2(labels=T, logits=Z4))\r\n",
        "\r\n",
        "optimizer = tf.train.AdamOptimizer(learning_rate)\r\n",
        "\r\n",
        "train = optimizer.minimize(loss)"
      ],
      "execution_count": 8,
      "outputs": []
    },
    {
      "cell_type": "code",
      "metadata": {
        "id": "GAFpTiReGNBY"
      },
      "source": [
        "predicted = tf.argmax(y,1) #예상 값 저장\r\n",
        "\r\n",
        "predicted_val = tf.equal(tf.argmax(y,1), tf.argmax(T,1))  #예상 값과 정답 값 비교 (True or False)\r\n",
        "\r\n",
        "accuracy_index = tf.cast(predicted_val, dtype=tf.float32) #비교 값 0 or 1로 표현\r\n",
        "\r\n",
        "accuracy = tf.reduce_mean(accuracy_index) #정확도 저장"
      ],
      "execution_count": 9,
      "outputs": []
    },
    {
      "cell_type": "code",
      "metadata": {
        "colab": {
          "base_uri": "https://localhost:8080/"
        },
        "id": "7HPlNzU-G3jW",
        "outputId": "9487391b-2239-42e8-faed-a51a8494e5ae"
      },
      "source": [
        "index_label_prediction_list = []\r\n",
        "\r\n",
        "with tf.Session() as sess:\r\n",
        "\r\n",
        "    sess.run(tf.global_variables_initializer())\r\n",
        "\r\n",
        "    start_time = datetime.now()\r\n",
        "\r\n",
        "    for i in range(epochs):\r\n",
        "\r\n",
        "        total_batch = int(mnist.train.num_examples / batch_size)\r\n",
        "\r\n",
        "        for step in range(total_batch):\r\n",
        "\r\n",
        "            batch_x_data, batch_t_data = mnist.train.next_batch(batch_size)\r\n",
        "            \r\n",
        "            loss_val, _ = sess.run([loss, train], feed_dict={X: batch_x_data, T: batch_t_data})\r\n",
        "\r\n",
        "            if step % 100 == 0:\r\n",
        "                \r\n",
        "                print(\"epochs = \", i+1, \", step = \", step, \", loss value = \", loss_val)\r\n",
        "\r\n",
        "    end_time = datetime.now()\r\n",
        "    print(\"\\nElapsed time = \", end_time - start_time)\r\n",
        "\r\n",
        "    test_x_data = mnist.test.images\r\n",
        "    test_t_data = mnist.test.labels\r\n",
        "\r\n",
        "    accuracy_val, predicted_list, index_label = sess.run([accuracy, predicted, accuracy_index], feed_dict={X: test_x_data, T:test_t_data})\r\n",
        "\r\n",
        "    print(\"\\nAccuracy = \", accuracy_val)\r\n",
        "\r\n",
        "    temp_list = []\r\n",
        "\r\n",
        "    for i in range(len(index_label)):\r\n",
        "\r\n",
        "        if index_label[i] == 0:\r\n",
        "\r\n",
        "            temp_list.append(i)\r\n",
        "            temp_list.append(np.argmax(test_t_data[i]))\r\n",
        "            temp_list.append(predicted_list[i])\r\n",
        "\r\n",
        "            index_label_prediction_list.append(temp_list)\r\n",
        "\r\n",
        "            temp_list = []"
      ],
      "execution_count": 10,
      "outputs": [
        {
          "output_type": "stream",
          "text": [
            "epochs =  1 , step =  0 , loss value =  3.1709595\n",
            "epochs =  1 , step =  100 , loss value =  2.206867\n",
            "epochs =  1 , step =  200 , loss value =  0.72372544\n",
            "epochs =  1 , step =  300 , loss value =  0.7999708\n",
            "epochs =  1 , step =  400 , loss value =  0.31184942\n",
            "epochs =  1 , step =  500 , loss value =  0.28974634\n",
            "epochs =  2 , step =  0 , loss value =  0.28498986\n",
            "epochs =  2 , step =  100 , loss value =  0.2169173\n",
            "epochs =  2 , step =  200 , loss value =  0.12694752\n",
            "epochs =  2 , step =  300 , loss value =  0.11027664\n",
            "epochs =  2 , step =  400 , loss value =  0.06429188\n",
            "epochs =  2 , step =  500 , loss value =  0.13086596\n",
            "epochs =  3 , step =  0 , loss value =  0.061361242\n",
            "epochs =  3 , step =  100 , loss value =  0.09440998\n",
            "epochs =  3 , step =  200 , loss value =  0.17575577\n",
            "epochs =  3 , step =  300 , loss value =  0.25332138\n",
            "epochs =  3 , step =  400 , loss value =  0.12109498\n",
            "epochs =  3 , step =  500 , loss value =  0.09954424\n",
            "epochs =  4 , step =  0 , loss value =  0.043999616\n",
            "epochs =  4 , step =  100 , loss value =  0.058311723\n",
            "epochs =  4 , step =  200 , loss value =  0.19721656\n",
            "epochs =  4 , step =  300 , loss value =  0.19597435\n",
            "epochs =  4 , step =  400 , loss value =  0.018037966\n",
            "epochs =  4 , step =  500 , loss value =  0.079956785\n",
            "epochs =  5 , step =  0 , loss value =  0.11484082\n",
            "epochs =  5 , step =  100 , loss value =  0.12987724\n",
            "epochs =  5 , step =  200 , loss value =  0.18301065\n",
            "epochs =  5 , step =  300 , loss value =  0.11177318\n",
            "epochs =  5 , step =  400 , loss value =  0.10215862\n",
            "epochs =  5 , step =  500 , loss value =  0.13946307\n",
            "epochs =  6 , step =  0 , loss value =  0.06328218\n",
            "epochs =  6 , step =  100 , loss value =  0.14684829\n",
            "epochs =  6 , step =  200 , loss value =  0.096582815\n",
            "epochs =  6 , step =  300 , loss value =  0.09092207\n",
            "epochs =  6 , step =  400 , loss value =  0.111583196\n",
            "epochs =  6 , step =  500 , loss value =  0.04786936\n",
            "epochs =  7 , step =  0 , loss value =  0.038138192\n",
            "epochs =  7 , step =  100 , loss value =  0.010198799\n",
            "epochs =  7 , step =  200 , loss value =  0.08446624\n",
            "epochs =  7 , step =  300 , loss value =  0.08681654\n",
            "epochs =  7 , step =  400 , loss value =  0.051497027\n",
            "epochs =  7 , step =  500 , loss value =  0.052510295\n",
            "epochs =  8 , step =  0 , loss value =  0.008902921\n",
            "epochs =  8 , step =  100 , loss value =  0.044172615\n",
            "epochs =  8 , step =  200 , loss value =  0.14077964\n",
            "epochs =  8 , step =  300 , loss value =  0.16055177\n",
            "epochs =  8 , step =  400 , loss value =  0.044120487\n",
            "epochs =  8 , step =  500 , loss value =  0.09877478\n",
            "epochs =  9 , step =  0 , loss value =  0.083779804\n",
            "epochs =  9 , step =  100 , loss value =  0.06453162\n",
            "epochs =  9 , step =  200 , loss value =  0.109364145\n",
            "epochs =  9 , step =  300 , loss value =  0.070953585\n",
            "epochs =  9 , step =  400 , loss value =  0.04195826\n",
            "epochs =  9 , step =  500 , loss value =  0.14784774\n",
            "epochs =  10 , step =  0 , loss value =  0.06816779\n",
            "epochs =  10 , step =  100 , loss value =  0.04050014\n",
            "epochs =  10 , step =  200 , loss value =  0.009616267\n",
            "epochs =  10 , step =  300 , loss value =  0.019778032\n",
            "epochs =  10 , step =  400 , loss value =  0.013117007\n",
            "epochs =  10 , step =  500 , loss value =  0.042272486\n",
            "epochs =  11 , step =  0 , loss value =  0.031253718\n",
            "epochs =  11 , step =  100 , loss value =  0.036495533\n",
            "epochs =  11 , step =  200 , loss value =  0.022941085\n",
            "epochs =  11 , step =  300 , loss value =  0.092437804\n",
            "epochs =  11 , step =  400 , loss value =  0.039253365\n",
            "epochs =  11 , step =  500 , loss value =  0.018231507\n",
            "epochs =  12 , step =  0 , loss value =  0.021497171\n",
            "epochs =  12 , step =  100 , loss value =  0.08666394\n",
            "epochs =  12 , step =  200 , loss value =  0.044995822\n",
            "epochs =  12 , step =  300 , loss value =  0.014263315\n",
            "epochs =  12 , step =  400 , loss value =  0.04025081\n",
            "epochs =  12 , step =  500 , loss value =  0.058598436\n",
            "epochs =  13 , step =  0 , loss value =  0.06622825\n",
            "epochs =  13 , step =  100 , loss value =  0.028497458\n",
            "epochs =  13 , step =  200 , loss value =  0.03833296\n",
            "epochs =  13 , step =  300 , loss value =  0.076501414\n",
            "epochs =  13 , step =  400 , loss value =  0.071983665\n",
            "epochs =  13 , step =  500 , loss value =  0.01394435\n",
            "epochs =  14 , step =  0 , loss value =  0.01921256\n",
            "epochs =  14 , step =  100 , loss value =  0.074517295\n",
            "epochs =  14 , step =  200 , loss value =  0.015178671\n",
            "epochs =  14 , step =  300 , loss value =  0.04240841\n",
            "epochs =  14 , step =  400 , loss value =  0.009359458\n",
            "epochs =  14 , step =  500 , loss value =  0.017541964\n",
            "epochs =  15 , step =  0 , loss value =  0.004810686\n",
            "epochs =  15 , step =  100 , loss value =  0.098810606\n",
            "epochs =  15 , step =  200 , loss value =  0.022661705\n",
            "epochs =  15 , step =  300 , loss value =  0.090756506\n",
            "epochs =  15 , step =  400 , loss value =  0.015510963\n",
            "epochs =  15 , step =  500 , loss value =  0.06560888\n",
            "epochs =  16 , step =  0 , loss value =  0.024561157\n",
            "epochs =  16 , step =  100 , loss value =  0.016252114\n",
            "epochs =  16 , step =  200 , loss value =  0.05931978\n",
            "epochs =  16 , step =  300 , loss value =  0.0032695704\n",
            "epochs =  16 , step =  400 , loss value =  0.08786703\n",
            "epochs =  16 , step =  500 , loss value =  0.020120533\n",
            "epochs =  17 , step =  0 , loss value =  0.02381023\n",
            "epochs =  17 , step =  100 , loss value =  0.005571706\n",
            "epochs =  17 , step =  200 , loss value =  0.024885204\n",
            "epochs =  17 , step =  300 , loss value =  0.009999088\n",
            "epochs =  17 , step =  400 , loss value =  0.023160925\n",
            "epochs =  17 , step =  500 , loss value =  0.008236997\n",
            "epochs =  18 , step =  0 , loss value =  0.030983513\n",
            "epochs =  18 , step =  100 , loss value =  0.02347931\n",
            "epochs =  18 , step =  200 , loss value =  0.10187642\n",
            "epochs =  18 , step =  300 , loss value =  0.017959489\n",
            "epochs =  18 , step =  400 , loss value =  0.016547473\n",
            "epochs =  18 , step =  500 , loss value =  0.11869699\n",
            "epochs =  19 , step =  0 , loss value =  0.027701786\n",
            "epochs =  19 , step =  100 , loss value =  0.054097623\n",
            "epochs =  19 , step =  200 , loss value =  0.03747575\n",
            "epochs =  19 , step =  300 , loss value =  0.04800479\n",
            "epochs =  19 , step =  400 , loss value =  0.007919659\n",
            "epochs =  19 , step =  500 , loss value =  0.0738716\n",
            "epochs =  20 , step =  0 , loss value =  0.0072231703\n",
            "epochs =  20 , step =  100 , loss value =  0.014732418\n",
            "epochs =  20 , step =  200 , loss value =  0.027107019\n",
            "epochs =  20 , step =  300 , loss value =  0.08101593\n",
            "epochs =  20 , step =  400 , loss value =  0.006003705\n",
            "epochs =  20 , step =  500 , loss value =  0.021126509\n",
            "epochs =  21 , step =  0 , loss value =  0.0106580425\n",
            "epochs =  21 , step =  100 , loss value =  0.016216272\n",
            "epochs =  21 , step =  200 , loss value =  0.022405861\n",
            "epochs =  21 , step =  300 , loss value =  0.03748574\n",
            "epochs =  21 , step =  400 , loss value =  0.019198343\n",
            "epochs =  21 , step =  500 , loss value =  0.010159178\n",
            "epochs =  22 , step =  0 , loss value =  0.0039452915\n",
            "epochs =  22 , step =  100 , loss value =  0.007948845\n",
            "epochs =  22 , step =  200 , loss value =  0.002846901\n",
            "epochs =  22 , step =  300 , loss value =  0.010860396\n",
            "epochs =  22 , step =  400 , loss value =  0.0484627\n",
            "epochs =  22 , step =  500 , loss value =  0.18171765\n",
            "epochs =  23 , step =  0 , loss value =  0.0749789\n",
            "epochs =  23 , step =  100 , loss value =  0.0072755134\n",
            "epochs =  23 , step =  200 , loss value =  0.011896285\n",
            "epochs =  23 , step =  300 , loss value =  0.041227616\n",
            "epochs =  23 , step =  400 , loss value =  0.079009\n",
            "epochs =  23 , step =  500 , loss value =  0.03388872\n",
            "epochs =  24 , step =  0 , loss value =  0.018396838\n",
            "epochs =  24 , step =  100 , loss value =  0.018612038\n",
            "epochs =  24 , step =  200 , loss value =  0.04716151\n",
            "epochs =  24 , step =  300 , loss value =  0.018429793\n",
            "epochs =  24 , step =  400 , loss value =  0.032241534\n",
            "epochs =  24 , step =  500 , loss value =  0.02484689\n",
            "epochs =  25 , step =  0 , loss value =  0.005188981\n",
            "epochs =  25 , step =  100 , loss value =  0.00708791\n",
            "epochs =  25 , step =  200 , loss value =  0.01662948\n",
            "epochs =  25 , step =  300 , loss value =  0.06744383\n",
            "epochs =  25 , step =  400 , loss value =  0.01782034\n",
            "epochs =  25 , step =  500 , loss value =  0.027748227\n",
            "epochs =  26 , step =  0 , loss value =  0.01220007\n",
            "epochs =  26 , step =  100 , loss value =  0.08256814\n",
            "epochs =  26 , step =  200 , loss value =  0.0042525055\n",
            "epochs =  26 , step =  300 , loss value =  0.0051078945\n",
            "epochs =  26 , step =  400 , loss value =  0.015818257\n",
            "epochs =  26 , step =  500 , loss value =  0.024753861\n",
            "epochs =  27 , step =  0 , loss value =  0.013050313\n",
            "epochs =  27 , step =  100 , loss value =  0.005889518\n",
            "epochs =  27 , step =  200 , loss value =  0.04595088\n",
            "epochs =  27 , step =  300 , loss value =  0.04169885\n",
            "epochs =  27 , step =  400 , loss value =  0.08845284\n",
            "epochs =  27 , step =  500 , loss value =  0.030981258\n",
            "epochs =  28 , step =  0 , loss value =  0.017202048\n",
            "epochs =  28 , step =  100 , loss value =  0.012559796\n",
            "epochs =  28 , step =  200 , loss value =  0.00754394\n",
            "epochs =  28 , step =  300 , loss value =  0.021853745\n",
            "epochs =  28 , step =  400 , loss value =  0.036667228\n",
            "epochs =  28 , step =  500 , loss value =  0.109018564\n",
            "epochs =  29 , step =  0 , loss value =  0.014369682\n",
            "epochs =  29 , step =  100 , loss value =  0.03344182\n",
            "epochs =  29 , step =  200 , loss value =  0.008867561\n",
            "epochs =  29 , step =  300 , loss value =  0.009849102\n",
            "epochs =  29 , step =  400 , loss value =  0.017712208\n",
            "epochs =  29 , step =  500 , loss value =  0.055935998\n",
            "epochs =  30 , step =  0 , loss value =  0.018831616\n",
            "epochs =  30 , step =  100 , loss value =  0.007535761\n",
            "epochs =  30 , step =  200 , loss value =  0.02126225\n",
            "epochs =  30 , step =  300 , loss value =  0.015912447\n",
            "epochs =  30 , step =  400 , loss value =  0.032908317\n",
            "epochs =  30 , step =  500 , loss value =  0.08193323\n",
            "\n",
            "Elapsed time =  0:01:02.301211\n",
            "\n",
            "Accuracy =  0.9865\n"
          ],
          "name": "stdout"
        }
      ]
    },
    {
      "cell_type": "code",
      "metadata": {
        "id": "4820F0HdUcNT",
        "colab": {
          "base_uri": "https://localhost:8080/"
        },
        "outputId": "0d8733e4-6ba2-48d8-cc70-dcbd3ac681f3"
      },
      "source": [
        "print(index_label_prediction_list)"
      ],
      "execution_count": 11,
      "outputs": [
        {
          "output_type": "stream",
          "text": [
            "[[115, 4, 9], [151, 9, 8], [318, 2, 8], [340, 5, 3], [445, 6, 0], [449, 3, 5], [582, 8, 2], [619, 1, 8], [659, 2, 1], [726, 7, 9], [740, 4, 9], [839, 8, 3], [846, 7, 9], [870, 6, 5], [900, 1, 3], [938, 3, 5], [969, 4, 8], [1014, 6, 5], [1039, 7, 2], [1112, 4, 6], [1128, 3, 7], [1226, 7, 2], [1232, 9, 4], [1242, 4, 9], [1247, 9, 5], [1260, 7, 1], [1319, 8, 0], [1393, 5, 3], [1522, 7, 9], [1621, 0, 6], [1709, 9, 5], [1737, 5, 2], [1754, 7, 2], [1790, 2, 7], [1871, 2, 3], [1878, 8, 3], [1883, 7, 9], [1901, 9, 4], [2018, 1, 2], [2035, 5, 3], [2040, 5, 6], [2043, 4, 8], [2053, 4, 9], [2070, 7, 9], [2118, 6, 0], [2129, 9, 8], [2130, 4, 9], [2135, 6, 1], [2182, 1, 3], [2189, 9, 1], [2195, 7, 2], [2293, 9, 4], [2329, 0, 2], [2387, 9, 1], [2414, 9, 4], [2447, 4, 9], [2507, 7, 3], [2514, 4, 9], [2597, 5, 3], [2654, 6, 1], [2778, 4, 2], [2896, 8, 0], [2930, 5, 1], [2953, 3, 5], [2979, 9, 0], [3030, 6, 0], [3073, 1, 2], [3109, 7, 1], [3336, 5, 7], [3388, 4, 9], [3503, 9, 1], [3520, 6, 4], [3751, 7, 2], [3808, 7, 8], [3838, 7, 8], [3906, 1, 3], [4027, 7, 1], [4048, 0, 9], [4078, 9, 3], [4176, 2, 7], [4205, 2, 8], [4224, 9, 7], [4350, 2, 8], [4500, 9, 1], [4571, 6, 8], [4639, 8, 9], [4731, 8, 3], [4740, 3, 5], [4751, 4, 6], [4761, 9, 8], [4783, 4, 9], [4807, 8, 0], [4823, 9, 6], [4879, 8, 6], [4911, 4, 9], [4997, 2, 8], [5068, 4, 7], [5127, 2, 7], [5457, 1, 8], [5634, 2, 8], [5749, 8, 2], [5937, 5, 3], [5955, 3, 8], [5973, 3, 8], [5981, 5, 9], [5982, 5, 3], [5985, 5, 8], [5997, 5, 8], [6042, 5, 8], [6555, 8, 9], [6576, 7, 1], [6597, 0, 9], [6651, 0, 8], [7354, 0, 6], [7434, 4, 8], [7545, 8, 3], [8059, 2, 1], [8325, 0, 6], [8408, 8, 5], [8520, 4, 9], [8527, 4, 9], [9009, 7, 2], [9015, 7, 2], [9530, 9, 8], [9540, 1, 8], [9587, 9, 4], [9634, 0, 8], [9638, 9, 7], [9669, 4, 7], [9679, 6, 2], [9698, 6, 5], [9729, 5, 6], [9770, 5, 0], [9779, 2, 8], [9904, 2, 8]]\n"
          ],
          "name": "stdout"
        }
      ]
    },
    {
      "cell_type": "code",
      "metadata": {
        "id": "eSAr-xy3UfwF"
      },
      "source": [
        ""
      ],
      "execution_count": 11,
      "outputs": []
    }
  ]
}