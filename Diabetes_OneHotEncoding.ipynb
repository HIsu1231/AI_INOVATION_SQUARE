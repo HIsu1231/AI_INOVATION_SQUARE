{
  "nbformat": 4,
  "nbformat_minor": 0,
  "metadata": {
    "colab": {
      "name": "Diabetes_OneHotEncoding.ipynb",
      "provenance": [],
      "mount_file_id": "13U-ZcrpKObN61tTJG7kxtdMzHSOSDBYo",
      "authorship_tag": "ABX9TyNmA+OFC9zSwTttlHmZlVFh",
      "include_colab_link": true
    },
    "kernelspec": {
      "name": "python3",
      "display_name": "Python 3"
    }
  },
  "cells": [
    {
      "cell_type": "markdown",
      "metadata": {
        "id": "view-in-github",
        "colab_type": "text"
      },
      "source": [
        "<a href=\"https://colab.research.google.com/github/HIsu1231/AI_INOVATION_SQUARE/blob/master/Diabetes_OneHotEncoding.ipynb\" target=\"_parent\"><img src=\"https://colab.research.google.com/assets/colab-badge.svg\" alt=\"Open In Colab\"/></a>"
      ]
    },
    {
      "cell_type": "code",
      "metadata": {
        "id": "2W4tTXqw-oD8"
      },
      "source": [
        "import numpy as np\n",
        "from datetime import datetime\n",
        "import matplotlib.pyplot as plt"
      ],
      "execution_count": null,
      "outputs": []
    },
    {
      "cell_type": "code",
      "metadata": {
        "id": "9z42NlkMEoZg"
      },
      "source": [
        "# 수치미분 함수\n",
        "\n",
        "def numerical_derivative(f, x):\n",
        "    delta_x = 1e-4 # 0.0001\n",
        "    grad = np.zeros_like(x)\n",
        "    \n",
        "    it = np.nditer(x, flags=['multi_index'], op_flags=['readwrite'])\n",
        "    \n",
        "    while not it.finished:\n",
        "        idx = it.multi_index        \n",
        "        tmp_val = x[idx]\n",
        "        x[idx] = float(tmp_val) + delta_x\n",
        "        fx1 = f(x) # f(x+delta_x)\n",
        "        \n",
        "        x[idx] = tmp_val - delta_x \n",
        "        fx2 = f(x) # f(x-delta_x)\n",
        "        grad[idx] = (fx1 - fx2) / (2*delta_x)\n",
        "        \n",
        "        x[idx] = tmp_val \n",
        "        it.iternext()   \n",
        "        \n",
        "    return grad\n",
        "\n",
        "# sigmoid 함수\n",
        "\n",
        "def sigmoid(x):\n",
        "    return 1 / (1+np.exp(-x))"
      ],
      "execution_count": null,
      "outputs": []
    },
    {
      "cell_type": "code",
      "metadata": {
        "id": "tLux9EKT-v_-"
      },
      "source": [
        "class DataGeneration:\n",
        "\n",
        "  def __init__(self, name, file_path, seperation_rate, target_position=-1):\n",
        "\n",
        "    self.name = name\n",
        "    \n",
        "    self.file_path = file_path\n",
        "\n",
        "    self.seperation_rate= seperation_rate\n",
        "\n",
        "    if target_position == -1 or target_position == 0:\n",
        "      self.target_position = target_position\n",
        "    else:\n",
        "      str_err = 'target_position must be -1 or 0'\n",
        "      raise Exception(str_err)\n",
        "\n",
        "    print(name,\"data generation start!\") \n",
        "\n",
        "  def __display_target_distribution(self, data, kind_of_data='original data'):\n",
        "\n",
        "    target_data = data[:,self.target_position]\n",
        "\n",
        "    unique, counts = np.unique(target_data, return_counts = True)\n",
        "\n",
        "    print(\"=======================================================================================\")\n",
        "\n",
        "    for i in range(len(unique)):\n",
        "      print(\"[DataGeneration] unique number of\",kind_of_data,\"=\", unique[i], \",count = \",counts[i])\n",
        "\n",
        "    for i in range(len(unique)):\n",
        "      print(\"[DataGeneration] unique number of\",kind_of_data,\"=\",unique[i], \",ratio = \",np.round(100*counts[i]/len(target_data),2),'%')\n",
        "\n",
        "    print(\"========================================================================================\")\n",
        "\n",
        "  def generate(self):\n",
        "\n",
        "    try:\n",
        "      loaded_data = np.loadtxt(self.file_path, delimiter=',',dtype=np.float32)\n",
        "\n",
        "    except Exception as err:\n",
        "      print('[DataGeneration::generate()]',str(err))\n",
        "      raise Exception(str(err))\n",
        "\n",
        "    total_data_num = len(loaded_data)\n",
        "    test_data_num = int(total_data_num * self.seperation_rate)\n",
        "\n",
        "    np.random.shuffle(loaded_data)\n",
        "\n",
        "    test_data = loaded_data[ 0:test_data_num]\n",
        "    training_data = loaded_data[ test_data_num: ]\n",
        "\n",
        "    self.__display_target_distribution(training_data, 'training_data')\n",
        "    self.__display_target_distribution(test_data, 'test_data')\n",
        "\n",
        "    return test_data, training_data"
      ],
      "execution_count": null,
      "outputs": []
    },
    {
      "cell_type": "code",
      "metadata": {
        "id": "gaga-XoFBZte"
      },
      "source": [
        "class Diabetes():\n",
        "\n",
        "  def __init__(self,name, i_nodes, h_nodes, o_nodes, learning_rate):\n",
        "\n",
        "    self.W2 = np.random.rand(i_nodes,h_nodes)\n",
        "    self.b2 = np.random.rand(h_nodes)\n",
        "\n",
        "    self.W3 = np.random.rand(h_nodes,o_nodes)\n",
        "    self.b3 = np.random.rand(o_nodes)\n",
        "\n",
        "    self.learning_rate = learning_rate\n",
        "\n",
        "    print(name,\"object is created!\")\n",
        "\n",
        "  def feed_forward(self):\n",
        "\n",
        "    delta = 1e-7\n",
        "\n",
        "    z2 = np.dot(self.input_data, self.W2) + self.b2\n",
        "    a2 = sigmoid(z2)\n",
        "\n",
        "    z3 = np.dot(a2, self.W3) + self.b3\n",
        "    y = a3 = sigmoid(z3) \n",
        "\n",
        "    return -np.sum(self.target_data*np.log(y+delta) + (1-self.target_data)*np.log((1-y)+delta))\n",
        "\n",
        "  def loss_val(self):\n",
        "\n",
        "    delta = 1e-7\n",
        "\n",
        "    z2 = np.dot(self.input_data, self.W2) + self.b2\n",
        "    a2 = sigmoid(z2)\n",
        "\n",
        "    z3 = np.dot(a2, self.W3) + self.b3\n",
        "    y = a3 = sigmoid(z3)\n",
        "\n",
        "    return -np.sum(self.target_data*np.log(y+delta) + (1-self.target_data)*np.log((1-y)+delta))\n",
        "\n",
        "  def predict(self,input_data):\n",
        "\n",
        "    z2 = np.dot(input_data, self.W2) + self.b2\n",
        "    a2 = sigmoid(z2)\n",
        "\n",
        "    z3 = np.dot(a2, self.W3) + self.b3\n",
        "    y = a3 = sigmoid(z3)\n",
        "\n",
        "    predicted_num = np.argmax(y)\n",
        "\n",
        "    return predicted_num\n",
        "\n",
        "  def accuracy(self,input_data,target_data):\n",
        "\n",
        "    matched_list = []\n",
        "    unmatched_list = []\n",
        "\n",
        "    for i in range(len(input_data)):\n",
        "\n",
        "      label = int(target_data[i])\n",
        "\n",
        "      predicted_num = self.predict(input_data[i])\n",
        "\n",
        "      if predicted_num == label:\n",
        "        matched_list.append(i)\n",
        "      else:\n",
        "        unmatched_list.append(i)\n",
        "\n",
        "    accuracy_result = len(matched_list)/len(input_data)\n",
        "\n",
        "    return unmatched_list, accuracy_result\n",
        "\n",
        "  def train(self, input_data, target_data):\n",
        "    \n",
        "    f = lambda x : self.feed_forward()\n",
        "\n",
        "    self.input_data = input_data\n",
        "    self.target_data = target_data\n",
        "\n",
        "    self.W2 -= self.learning_rate * numerical_derivative(f, self.W2)\n",
        "    self.b2 -= self.learning_rate * numerical_derivative(f, self.b2)\n",
        "\n",
        "    self.W3 -= self.learning_rate * numerical_derivative(f, self.W3)\n",
        "    self.b3 -= self.learning_rate * numerical_derivative(f, self.b3)"
      ],
      "execution_count": null,
      "outputs": []
    },
    {
      "cell_type": "code",
      "metadata": {
        "id": "9Ctx7FS1EmI-",
        "outputId": "23c55aa3-d8b5-4dc9-d054-886cfd442f6f",
        "colab": {
          "base_uri": "https://localhost:8080/"
        }
      },
      "source": [
        "test_seperation_rate = 0.3\n",
        "\n",
        "data_obj1 = DataGeneration('Diabetes','drive/My Drive/AI_INOVATION_SQUARE/prac/(200309)diabetes.csv',test_seperation_rate)\n",
        "\n",
        "(training_data,test_data) = data_obj1.generate()\n",
        "\n",
        "print(\"=====================================================\")\n",
        "print(\"training data.shape = \",training_data.shape)\n",
        "print(\"test data.shape = \",test_data.shape)\n",
        "print(\"=====================================================\")"
      ],
      "execution_count": null,
      "outputs": [
        {
          "output_type": "stream",
          "text": [
            "Diabetes data generation start!\n",
            "=======================================================================================\n",
            "[DataGeneration] unique number of training_data = 0.0 ,count =  180\n",
            "[DataGeneration] unique number of training_data = 1.0 ,count =  352\n",
            "[DataGeneration] unique number of training_data = 0.0 ,ratio =  33.83 %\n",
            "[DataGeneration] unique number of training_data = 1.0 ,ratio =  66.17 %\n",
            "========================================================================================\n",
            "=======================================================================================\n",
            "[DataGeneration] unique number of test_data = 0.0 ,count =  83\n",
            "[DataGeneration] unique number of test_data = 1.0 ,count =  144\n",
            "[DataGeneration] unique number of test_data = 0.0 ,ratio =  36.56 %\n",
            "[DataGeneration] unique number of test_data = 1.0 ,ratio =  63.44 %\n",
            "========================================================================================\n",
            "=====================================================\n",
            "training data.shape =  (227, 9)\n",
            "test data.shape =  (532, 9)\n",
            "=====================================================\n"
          ],
          "name": "stdout"
        }
      ]
    },
    {
      "cell_type": "code",
      "metadata": {
        "id": "8aVW9dOMFOBI",
        "outputId": "9fde5efc-02a0-4be2-d59d-03744bae1af9",
        "colab": {
          "base_uri": "https://localhost:8080/"
        }
      },
      "source": [
        "#hyper_paramter\n",
        "i_nodes = training_data.shape[1]-1\n",
        "h_nodes = 30\n",
        "o_nodes = 2\n",
        "lr=1e-2\n",
        "epochs = 20\n",
        "\n",
        "loss_val_list = []\n",
        "\n",
        "obj1 = Diabetes('Diabetes',i_nodes,h_nodes,o_nodes,lr)\n",
        "\n",
        "print(\"Neural Network Learning using Numerical Derivative...\")\n",
        "\n",
        "start_time= datetime.now()\n",
        "\n",
        "for step in range(epochs):\n",
        "  for i in range(len(training_data)):\n",
        "    input_data = training_data[i,0:-1]\n",
        "\n",
        "    target_data = np.zeros(o_nodes) + 0.01\n",
        "    target_data[int(training_data[i,-1])] = 0.99\n",
        "\n",
        "    obj1.train(input_data,target_data)\n",
        "  \n",
        "  cur_loss_val = obj1.loss_val()\n",
        "  loss_val_list.append(cur_loss_val)\n",
        "\n",
        "  print(\"step = \",step,\", current loss value = \",cur_loss_val)\n",
        "\n",
        "end_time = datetime.now()\n",
        "\n",
        "print(\"\")\n",
        "print(\"Elapsed time =>\",end_time - start_time)"
      ],
      "execution_count": null,
      "outputs": [
        {
          "output_type": "stream",
          "text": [
            "Diabetes object is created!\n",
            "Neural Network Learning using Numerical Derivative...\n",
            "step =  0 , current loss value =  0.8906855543369553\n",
            "step =  1 , current loss value =  0.9411611374681328\n",
            "step =  2 , current loss value =  0.8652654797973749\n",
            "step =  3 , current loss value =  0.7913810356519624\n",
            "step =  4 , current loss value =  0.726144793014809\n",
            "step =  5 , current loss value =  0.668713818195945\n",
            "step =  6 , current loss value =  0.6181847740998516\n",
            "step =  7 , current loss value =  0.5737511052919824\n",
            "step =  8 , current loss value =  0.5346841623070474\n",
            "step =  9 , current loss value =  0.5003218786015455\n",
            "step =  10 , current loss value =  0.4700642677813519\n",
            "step =  11 , current loss value =  0.4433718661076985\n",
            "step =  12 , current loss value =  0.41976457035275205\n",
            "step =  13 , current loss value =  0.3988196096111263\n",
            "step =  14 , current loss value =  0.3801683143402142\n",
            "step =  15 , current loss value =  0.36349186626159513\n",
            "step =  16 , current loss value =  0.34851641688015733\n",
            "step =  17 , current loss value =  0.3350079733221041\n",
            "step =  18 , current loss value =  0.3227673709901807\n",
            "step =  19 , current loss value =  0.3116255493599012\n",
            "\n",
            "Elapsed time => 0:02:04.683151\n"
          ],
          "name": "stdout"
        }
      ]
    },
    {
      "cell_type": "code",
      "metadata": {
        "id": "4dnb-b-rLOic",
        "outputId": "f94d7281-d291-4485-f5eb-28f64e88eb39",
        "colab": {
          "base_uri": "https://localhost:8080/"
        }
      },
      "source": [
        "test_input_data = test_data[ :, 0:-1 ]\n",
        "test_target_data = test_data[ :, -1 ]\n",
        "\n",
        "(false_list, accuracy_ret) = obj1.accuracy(test_input_data, test_target_data) \n",
        "\n",
        "print('Test Data Accuracy = ', np.round(accuracy_ret, 3))"
      ],
      "execution_count": null,
      "outputs": [
        {
          "output_type": "stream",
          "text": [
            "Test Data Accuracy =  0.724\n"
          ],
          "name": "stdout"
        }
      ]
    },
    {
      "cell_type": "code",
      "metadata": {
        "id": "F4TuRB5-RXAv"
      },
      "source": [
        ""
      ],
      "execution_count": null,
      "outputs": []
    }
  ]
}