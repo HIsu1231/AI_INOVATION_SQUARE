{
  "nbformat": 4,
  "nbformat_minor": 0,
  "metadata": {
    "kernelspec": {
      "display_name": "Python 3",
      "language": "python",
      "name": "python3"
    },
    "language_info": {
      "codemirror_mode": {
        "name": "ipython",
        "version": 3
      },
      "file_extension": ".py",
      "mimetype": "text/x-python",
      "name": "python",
      "nbconvert_exporter": "python",
      "pygments_lexer": "ipython3",
      "version": "3.6.9"
    },
    "colab": {
      "name": "LinearRegression.ipynb",
      "provenance": [],
      "include_colab_link": true
    }
  },
  "cells": [
    {
      "cell_type": "markdown",
      "metadata": {
        "id": "view-in-github",
        "colab_type": "text"
      },
      "source": [
        "<a href=\"https://colab.research.google.com/github/HIsu1231/AI_INOVATION_SQUARE/blob/master/LinearRegression.ipynb\" target=\"_parent\"><img src=\"https://colab.research.google.com/assets/colab-badge.svg\" alt=\"Open In Colab\"/></a>"
      ]
    },
    {
      "cell_type": "markdown",
      "metadata": {
        "id": "A26DQ7FIdG3j"
      },
      "source": [
        "#1"
      ]
    },
    {
      "cell_type": "code",
      "metadata": {
        "id": "vIpvihPWdG3l"
      },
      "source": [
        "import numpy as np\n",
        "np.random.seed(0)\n",
        "import matplotlib.pyplot as plt"
      ],
      "execution_count": null,
      "outputs": []
    },
    {
      "cell_type": "code",
      "metadata": {
        "id": "EaeqpZEudG3p"
      },
      "source": [
        "x_data = np.array([1.0,2.0,3.0,4.0,5.0]).reshape(5,1)\n",
        "t_data = np.array([2.0,3.0,4.0,5.0,6.0]).reshape(5,1)\n",
        "n = len(x_data)"
      ],
      "execution_count": null,
      "outputs": []
    },
    {
      "cell_type": "code",
      "metadata": {
        "id": "ndSv7FpOdG3t"
      },
      "source": [
        "W = np.random.rand(1,1)\n",
        "b = np.random.rand(1)"
      ],
      "execution_count": null,
      "outputs": []
    },
    {
      "cell_type": "code",
      "metadata": {
        "id": "yyD4im2SdG3w"
      },
      "source": [
        "def numerical_derivative(f,x):\n",
        "    delta_x = 1e-4\n",
        "    grad = np.zeros_like(x)\n",
        "    \n",
        "    it = np.nditer(x, flags = ['multi_index'], op_flags = ['readwrite'])\n",
        "    \n",
        "    while not it.finished:\n",
        "        idx = it.multi_index\n",
        "        \n",
        "        tmp_val = x[idx]\n",
        "        x[idx] = float(tmp_val) + delta_x\n",
        "        fx1 = f(x)   #f(x+delta_x)\n",
        "        \n",
        "        x[idx] = tmp_val - delta_x\n",
        "        fx2 = f(x)\n",
        "        grad[idx] = (fx1 - fx2) / (2*delta_x)\n",
        "        \n",
        "        x[idx] = tmp_val\n",
        "        it.iternext()\n",
        "    \n",
        "    return grad "
      ],
      "execution_count": null,
      "outputs": []
    },
    {
      "cell_type": "code",
      "metadata": {
        "id": "KtOozBTCdG3z"
      },
      "source": [
        "def loss_func(x,t):\n",
        "    y = np.dot(x,W) + b\n",
        "    return (np.sum((t-y)**2))/n"
      ],
      "execution_count": null,
      "outputs": []
    },
    {
      "cell_type": "code",
      "metadata": {
        "id": "9PZHcU-odG37"
      },
      "source": [
        "def predict(x):\n",
        "    y = np.dot(x,W) + b\n",
        "    return y"
      ],
      "execution_count": null,
      "outputs": []
    },
    {
      "cell_type": "code",
      "metadata": {
        "id": "Qib0WJP7dG3_"
      },
      "source": [
        "learning_rate = 1e-2\n",
        "\n",
        "f = lambda x: loss_func(x_data, t_data)\n",
        "\n",
        "print(\"initial loss value = \", loss_func(x_data, t_data), \"initial W = \", W, \"\\n\", \", b =\",b)\n",
        "\n",
        "for step in range(10001):\n",
        "    W -= learning_rate * numerical_derivative(f,W)\n",
        "    \n",
        "    b -= learning_rate * numerical_derivative(f,b)\n",
        "    \n",
        "    if (step%1000 == 0):\n",
        "        print(\"step = \", step, \"loss value = \", loss_func(x_data,t_data), \"W = \",W,\" b = \",b)"
      ],
      "execution_count": null,
      "outputs": []
    },
    {
      "cell_type": "code",
      "metadata": {
        "id": "S7Y7Uz6-dG4E"
      },
      "source": [
        "predict(np.array([43]))"
      ],
      "execution_count": null,
      "outputs": []
    },
    {
      "cell_type": "markdown",
      "metadata": {
        "id": "vH2cPACBdG4L"
      },
      "source": [
        "#2"
      ]
    },
    {
      "cell_type": "code",
      "metadata": {
        "id": "I404QQoAdG4M"
      },
      "source": [
        "def numerical_derivative(f,x):\n",
        "    delta_x = 1e-4\n",
        "    grad = np.zeros_like(x)\n",
        "    \n",
        "    it = np.nditer(x, flags = ['multi_index'], op_flags = ['readwrite'])\n",
        "    \n",
        "    while not it.finished:\n",
        "        idx = it.multi_index\n",
        "        \n",
        "        tmp_val = x[idx]\n",
        "        x[idx] = float(tmp_val) + delta_x\n",
        "        fx1 = f(x)   #f(x+delta_x)\n",
        "        \n",
        "        x[idx] = tmp_val - delta_x\n",
        "        fx2 = f(x)\n",
        "        grad[idx] = (fx1 - fx2) / (2*delta_x)\n",
        "        \n",
        "        x[idx] = tmp_val\n",
        "        it.iternext()\n",
        "    \n",
        "    return grad "
      ],
      "execution_count": null,
      "outputs": []
    },
    {
      "cell_type": "code",
      "metadata": {
        "id": "oRUbJ8l0dG4S"
      },
      "source": [
        "loaded_data = np.loadtxt('./../(200221)data-01.csv', delimiter=',', dtype=np.float32)\n",
        "\n",
        "x_data = loaded_data[:, 0:-1]\n",
        "t_data = loaded_data[:,[-1]]\n",
        "\n",
        "W = np.random.rand(3,1)\n",
        "b = np.random.rand(1)"
      ],
      "execution_count": null,
      "outputs": []
    },
    {
      "cell_type": "code",
      "metadata": {
        "id": "OTR2KDI8dG4V"
      },
      "source": [
        "def loss_func(x,t):\n",
        "    y = np.dot(x,W)+b\n",
        "    return (np.sum((t-y)**2))/(len(x))"
      ],
      "execution_count": null,
      "outputs": []
    },
    {
      "cell_type": "code",
      "metadata": {
        "id": "cTST16undG4Z"
      },
      "source": [
        "def predict(x):\n",
        "    y = np.dot(x,W) + b\n",
        "    return y"
      ],
      "execution_count": null,
      "outputs": []
    },
    {
      "cell_type": "code",
      "metadata": {
        "id": "Axm2vJ6YdG4c"
      },
      "source": [
        "learning_rate = 1e-5\n",
        "\n",
        "f = lambda x: loss_func(x_data,t_data)\n",
        "\n",
        "for step in range(40001):\n",
        "    \n",
        "    W -= learning_rate*numerical_derivative(f,W)\n",
        "    b -= learning_rate*numerical_derivative(f,b)\n",
        "    \n",
        "    if (step%400 == 0):\n",
        "        print(\"step = \", step, \"loss value = \",loss_func(x_data,t_data), \"W = \",W, \"b = \",b)"
      ],
      "execution_count": null,
      "outputs": []
    },
    {
      "cell_type": "markdown",
      "metadata": {
        "id": "zcc7F-ZndG4g"
      },
      "source": [
        "#3, #4"
      ]
    },
    {
      "cell_type": "code",
      "metadata": {
        "id": "zK8OVD7KdG4g"
      },
      "source": [
        "def numerical_derivative(f,x):\n",
        "    delta_x = 1e-4\n",
        "    grad = np.zeros_like(x)\n",
        "    \n",
        "    it = np.nditer(x, flags = ['multi_index'], op_flags = ['readwrite'])\n",
        "    \n",
        "    while not it.finished:\n",
        "        idx = it.multi_index\n",
        "        \n",
        "        tmp_val = x[idx]\n",
        "        x[idx] = float(tmp_val) + delta_x\n",
        "        fx1 = f(x)   #f(x+delta_x)\n",
        "        \n",
        "        x[idx] = tmp_val - delta_x\n",
        "        fx2 = f(x)\n",
        "        grad[idx] = (fx1 - fx2) / (2*delta_x)\n",
        "        \n",
        "        x[idx] = tmp_val\n",
        "        it.iternext()\n",
        "    \n",
        "    return grad "
      ],
      "execution_count": null,
      "outputs": []
    },
    {
      "cell_type": "code",
      "metadata": {
        "id": "tJUFzmyfdG4m"
      },
      "source": [
        "loaded_data = np.loadtxt(\"./../(200302)sps.csv\", delimiter=',', dtype=np.float32)\n",
        "\n",
        "x_data = loaded_data[:, 1:]\n",
        "t_data = loaded_data[:, [0]]\n",
        "\n",
        "print(\"x_data.shape = \",x_data.shape, \", t_data.shape = \", t_data.shape)\n",
        "\n",
        "W = np.random.rand(len(x_data[1]),1)\n",
        "b = np.random.rand(1)\n",
        "\n",
        "print(\"W.shape = \", W.shape, \", b.shape = \", b.shape)"
      ],
      "execution_count": null,
      "outputs": []
    },
    {
      "cell_type": "code",
      "metadata": {
        "id": "7GgGmojMdG4q"
      },
      "source": [
        "def loss_func(x,t):\n",
        "    y = np.dot(x,W) + b\n",
        "    return np.sum((t-y)**2)/len(x)"
      ],
      "execution_count": null,
      "outputs": []
    },
    {
      "cell_type": "code",
      "metadata": {
        "id": "rmsd6AtxdG4t"
      },
      "source": [
        "def predict(x):\n",
        "    return np.dot(x,W) + b  "
      ],
      "execution_count": null,
      "outputs": []
    },
    {
      "cell_type": "code",
      "metadata": {
        "id": "BhrHDYYFdG4x"
      },
      "source": [
        "learning_rate = 1e-5\n",
        "\n",
        "f = lambda x: loss_func(x_data,t_data)\n",
        "\n",
        "loss_val_list = []\n",
        "\n",
        "for step in range(40001):\n",
        "    W -= learning_rate*numerical_derivative(f,W)\n",
        "    b -= learning_rate*numerical_derivative(f,b)\n",
        "    \n",
        "    if (step % 1000 == 0):\n",
        "        print(\"step = \", step, \", loss value = \", loss_func(x_data,t_data))\n",
        "        loss_val_list.append(loss_func(x_data, t_data))"
      ],
      "execution_count": null,
      "outputs": []
    },
    {
      "cell_type": "code",
      "metadata": {
        "id": "-SD718rPdG4z"
      },
      "source": [
        "test_data = np.array([[4,4,4,4],[-3,0,9,-1],[-7,-9,-2,8],\n",
        "                      [1,-2,3,-2],[19,-12,0,-76],[2001,-1,109,31],[-1,102,-200,1000]])"
      ],
      "execution_count": null,
      "outputs": []
    },
    {
      "cell_type": "code",
      "metadata": {
        "id": "9M3Glzt7dG42"
      },
      "source": [
        "for i in test_data:\n",
        "    print(\"predicted value = \",predict(i),\"\\n\")"
      ],
      "execution_count": null,
      "outputs": []
    },
    {
      "cell_type": "code",
      "metadata": {
        "id": "xanGtEuVdG45"
      },
      "source": [
        "plt.title('Loss Value Trend')\n",
        "plt.xlabel('epochs ( X 1000)')\n",
        "plt.ylabel('loss value')\n",
        "plt.grid()\n",
        "\n",
        "plt.plot(loss_val_list)\n",
        "plt.show()"
      ],
      "execution_count": null,
      "outputs": []
    },
    {
      "cell_type": "markdown",
      "metadata": {
        "id": "CHQEly1MdG48"
      },
      "source": [
        "#5, #6"
      ]
    },
    {
      "cell_type": "code",
      "metadata": {
        "id": "fIQOYrindG49"
      },
      "source": [
        "# 수치미분\n",
        "\n",
        "def numerical_derivative(f, x):\n",
        "    delta_x = 1e-4 # 0.0001\n",
        "    grad = np.zeros_like(x)\n",
        "    \n",
        "    it = np.nditer(x, flags=['multi_index'], op_flags=['readwrite'])\n",
        "    \n",
        "    while not it.finished:\n",
        "        idx = it.multi_index        \n",
        "        tmp_val = x[idx]\n",
        "        x[idx] = float(tmp_val) + delta_x\n",
        "        fx1 = f(x) # f(x+delta_x)\n",
        "        \n",
        "        x[idx] = tmp_val - delta_x \n",
        "        fx2 = f(x) # f(x-delta_x)\n",
        "        grad[idx] = (fx1 - fx2) / (2*delta_x)\n",
        "        \n",
        "        x[idx] = tmp_val \n",
        "        it.iternext()   \n",
        "        \n",
        "    return grad"
      ],
      "execution_count": null,
      "outputs": []
    },
    {
      "cell_type": "code",
      "metadata": {
        "id": "wUY8qGSrdG5A"
      },
      "source": [
        "class LinearRegressionTest:\n",
        "    \n",
        "    def __init__(self):\n",
        "        print(\"LinearRegressionTest Object is created\")\n",
        "        \n",
        "    def get_W_b(self):\n",
        "        return self.W, self.b\n",
        "    \n",
        "    def loss_func(self, xdata, tdata):\n",
        "        y = np.dot(xdata, self.W) + self.b\n",
        "        return np.sum((y-tdata)**2)/len(xdata)\n",
        "    \n",
        "    def predict(self,test_data):\n",
        "        return np.dot(test_data,self.w) + self.b\n",
        "    \n",
        "    def train(self, xdata, tdata, learning_rate, iteration_count):\n",
        "        self.W = np.random.rand(xdata.shape[-1],1)\n",
        "        self.b= np.random.rand(1)\n",
        "        \n",
        "        f = lambda x: self.loss_func(xdata,tdata)\n",
        "        \n",
        "        for step in range(iteration_count):\n",
        "            \n",
        "            self.W -= learning_rate * numerical_derivative(f,self.W)\n",
        "            self.b -= learning_rate * numerical_derivative(f,self.b)\n",
        "            \n",
        "            if(step%int(iteration_count*0.05) == 0):\n",
        "                print(\"step = \", step, \"loss value = \", self.loss_func(xdata,tdata))"
      ],
      "execution_count": null,
      "outputs": []
    },
    {
      "cell_type": "code",
      "metadata": {
        "id": "Yr6VPfdZdG5E"
      },
      "source": [
        "try:\n",
        "    \n",
        "    loaded_data = np.loadtxt(\"통합문서1.xlsx\", delimiter=',', dtype=np.float32)\n",
        "    \n",
        "    x_data = loaded_data[:,1:]\n",
        "    t_data = loaded_data[:,[0]]\n",
        "    \n",
        "except FileNotFoundError as err:\n",
        "        print(str(err))\n",
        "except Exception as err:\n",
        "        print(str(err))"
      ],
      "execution_count": null,
      "outputs": []
    },
    {
      "cell_type": "code",
      "metadata": {
        "id": "rKukuLIAdG5I"
      },
      "source": [
        "obj1 = LinearRegressionTest()\n",
        "\n",
        "obj1.train(x_data, t_data, 1e-3, 20001)"
      ],
      "execution_count": null,
      "outputs": []
    },
    {
      "cell_type": "markdown",
      "metadata": {
        "id": "csPQuThDdG5M"
      },
      "source": [
        "#5"
      ]
    },
    {
      "cell_type": "code",
      "metadata": {
        "id": "akd5aok6dG5N",
        "outputId": "c48dd60c-7de3-4ae1-ed56-138e9fc57abf"
      },
      "source": [
        "try:\n",
        "    training_data = np.loadtxt(\"./../../통합 문서1.xlsx\", delimiter = ',', dtype = np.float32)\n",
        "    x_data = training_data[:, 1:]\n",
        "    t_data = training_data[:, [0]]\n",
        "    \n",
        "except FileNotFoundError as err:\n",
        "        print(str(err))\n",
        "except Exception as err:\n",
        "        print(str(err))"
      ],
      "execution_count": null,
      "outputs": [
        {
          "output_type": "stream",
          "text": [
            "'cp949' codec can't decode byte 0xe1 in position 16: illegal multibyte sequence\n"
          ],
          "name": "stdout"
        }
      ]
    },
    {
      "cell_type": "code",
      "metadata": {
        "id": "bsUVw4sOdG5R"
      },
      "source": [
        "class LinearRegressionTest:\n",
        "    \n",
        "    def __init__(self, xdata, tdata, learning_rate, iteration_count):\n",
        "        print(\"The object is created\")\n",
        "        \n",
        "        self.xdata = xdata\n",
        "        self.tdata = tdata\n",
        "        \n",
        "        self.learning_rate = learning_rate\n",
        "        self.iteration_count = iteration_count\n",
        "        \n",
        "        self.W = np.random.rand(self.xdata.shape[1],1)\n",
        "        self.b = np.random.rand(1)\n",
        "        \n",
        "    def get_W_b(self):\n",
        "        return self.W, self.b\n",
        "    \n",
        "    def loss_val(self):\n",
        "        y = np.dot(self.xdata,self.W) + self.b\n",
        "        return np.sum((y-self.tdata)**2)/len(self.xdata)\n",
        "    \n",
        "    \n",
        "    def predict(self,test_data):\n",
        "        y = np.dot(test_data,self.W) +sefl.b\n",
        "        return y\n",
        "    \n",
        "    def train(self):\n",
        "        \n",
        "        f = lambda x: self.loss_val()\n",
        "        \n",
        "        for step in range(self.iteration_count):\n",
        "            self.W -= self.learning_rate * numerical_derivative(f, self.W)\n",
        "            self.b -= self.learning_rate * numerical_derivative(f, self.b)\n",
        "            \n",
        "            if(step % int(self.iteration_count*0.5)==0):\n",
        "                print(\"step = \",step,\"loss value = \",self.loss_val(),\"W = \",self.W, \"b = \",self.b)        \n",
        "    "
      ],
      "execution_count": null,
      "outputs": []
    },
    {
      "cell_type": "code",
      "metadata": {
        "id": "fO_L9kuSdG5T"
      },
      "source": [
        "obj = LinearRegressionTest(x_data, t_data, 1e-5, 100001)"
      ],
      "execution_count": null,
      "outputs": []
    },
    {
      "cell_type": "code",
      "metadata": {
        "id": "NMlyi6OLdG5V"
      },
      "source": [
        "obj.train()"
      ],
      "execution_count": null,
      "outputs": []
    },
    {
      "cell_type": "code",
      "metadata": {
        "id": "Ro_ZVyqcdG5Y",
        "outputId": "8c3e52de-5c59-4aad-ebb9-1faf44d41c43"
      },
      "source": [
        "training_data = np.loadtxt(\"./../(200302)sps.csv\", delimiter=',',dtype=np.float)\n",
        "x_data = training_data[:, 1:]\n",
        "t_data = training_data[:,[0]]\n",
        "\n",
        "print(\"x_data.shape = \",x_data.shape, \"t_data = \", t_data.shape)"
      ],
      "execution_count": null,
      "outputs": [
        {
          "output_type": "stream",
          "text": [
            "x_data.shape =  (50, 4) t_data =  (50, 1)\n"
          ],
          "name": "stdout"
        }
      ]
    },
    {
      "cell_type": "code",
      "metadata": {
        "id": "IKgZqfS-dG5d"
      },
      "source": [
        "class LinearRegressionTest:\n",
        "    def __init__(self):\n",
        "        print(\"The object is created!\")\n",
        "        \n",
        "    def get_W_b(self,W,b):\n",
        "        return self.W, self.b\n",
        "    \n",
        "    def loss_func(self,xdata,tdata):\n",
        "        y = np.dot(xdata,self.W) + self.b\n",
        "        return np.sum((y-tdata)**2)/len(xdata)\n",
        "    \n",
        "    def predict(self,test_data):\n",
        "        y = np.dot(test_data, self.W) + self.b\n",
        "        return y\n",
        "    \n",
        "    def train(self, xdata, tdata, learning_rate, iteration_count):\n",
        "        self.W = np.random.rand(len(xdata[1]),1)\n",
        "        self.b = np.random.rand(1)\n",
        "        \n",
        "        self.loss_val_list = []\n",
        "\n",
        "        f = lambda x:self.loss_func(xdata,tdata)\n",
        "        \n",
        "        for i in range(iteration_count):\n",
        "            self.W -= learning_rate*numerical_derivative(f,self.W)\n",
        "            self.b -= learning_rate*numerical_derivative(f,self.b)\n",
        "            if(i%int(iteration_count*0.05) == 0):\n",
        "                print(\"Step = \", i,\"loss value = \",self.loss_func(xdata,tdata))\n",
        "                self.loss_val_list.append(self.loss_func(xdata,tdata))\n",
        "                \n",
        "    def loss_val(self):\n",
        "        plt.plot(self.loss_val_list)\n",
        "        plt.show()"
      ],
      "execution_count": null,
      "outputs": []
    },
    {
      "cell_type": "code",
      "metadata": {
        "id": "v_Yp1ixGdG5g",
        "outputId": "9decbb49-576e-4d4f-d7aa-c55528b3c019"
      },
      "source": [
        "obj = LinearRegressionTest()"
      ],
      "execution_count": null,
      "outputs": [
        {
          "output_type": "stream",
          "text": [
            "The object is created!\n"
          ],
          "name": "stdout"
        }
      ]
    },
    {
      "cell_type": "code",
      "metadata": {
        "id": "UxfLpmzudG5j",
        "outputId": "718d94b3-304e-47fa-af5b-e3ca8034450a"
      },
      "source": [
        "obj.train(x_data, t_data, 1e-5, 100001)"
      ],
      "execution_count": null,
      "outputs": [
        {
          "output_type": "stream",
          "text": [
            "Step =  0 loss value =  54.42912610053548\n",
            "Step =  5000 loss value =  7.721656195712311\n",
            "Step =  10000 loss value =  1.8144866606531187\n",
            "Step =  15000 loss value =  0.5763503797973036\n",
            "Step =  20000 loss value =  0.29381125692903204\n",
            "Step =  25000 loss value =  0.21567337461375974\n",
            "Step =  30000 loss value =  0.18336620373479626\n",
            "Step =  35000 loss value =  0.16261039642816036\n",
            "Step =  40000 loss value =  0.14577235549550743\n",
            "Step =  45000 loss value =  0.13103170300022607\n",
            "Step =  50000 loss value =  0.11786100471676289\n",
            "Step =  55000 loss value =  0.10603197896787817\n",
            "Step =  60000 loss value =  0.09539417015368819\n",
            "Step =  65000 loss value =  0.08582451696713013\n",
            "Step =  70000 loss value =  0.07721506581925079\n",
            "Step =  75000 loss value =  0.0694693141841163\n",
            "Step =  80000 loss value =  0.06250058022439309\n",
            "Step =  85000 loss value =  0.0562309091131882\n",
            "Step =  90000 loss value =  0.05059017311276983\n",
            "Step =  95000 loss value =  0.04551528088118113\n",
            "Step =  100000 loss value =  0.0409494703748297\n"
          ],
          "name": "stdout"
        }
      ]
    },
    {
      "cell_type": "code",
      "metadata": {
        "id": "ujC_gxHldG5l",
        "outputId": "a6f10b31-49a8-4d61-b51c-f9b5c4a2dc22"
      },
      "source": [
        "obj.loss_val()"
      ],
      "execution_count": null,
      "outputs": [
        {
          "output_type": "display_data",
          "data": {
            "image/png": "[encoded data removed]",
            "text/plain": [
              "<Figure size 432x288 with 1 Axes>"
            ]
          },
          "metadata": {
            "tags": [],
            "needs_background": "light"
          }
        }
      ]
    },
    {
      "cell_type": "code",
      "metadata": {
        "id": "1VlzNZrWdG5n"
      },
      "source": [
        ""
      ],
      "execution_count": null,
      "outputs": []
    }
  ]
}