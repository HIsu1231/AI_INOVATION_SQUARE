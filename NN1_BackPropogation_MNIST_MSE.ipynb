{
  "nbformat": 4,
  "nbformat_minor": 0,
  "metadata": {
    "colab": {
      "name": "NN1_BackPropogation_MNIST_MSE.ipynb",
      "provenance": [],
      "mount_file_id": "1ArcLocLBHRne1s829k4goSUvWrOtoRCz",
      "authorship_tag": "ABX9TyP5Sgi+diSwQXEM4rGOV49U",
      "include_colab_link": true
    },
    "kernelspec": {
      "name": "python3",
      "display_name": "Python 3"
    }
  },
  "cells": [
    {
      "cell_type": "markdown",
      "metadata": {
        "id": "view-in-github",
        "colab_type": "text"
      },
      "source": [
        "<a href=\"https://colab.research.google.com/github/HIsu1231/AI_INOVATION_SQUARE/blob/master/NN1_BackPropogation_MNIST_MSE.ipynb\" target=\"_parent\"><img src=\"https://colab.research.google.com/assets/colab-badge.svg\" alt=\"Open In Colab\"/></a>"
      ]
    },
    {
      "cell_type": "code",
      "metadata": {
        "id": "9W72kgg04J7G"
      },
      "source": [
        "import numpy as np\n",
        "import matplotlib.pyplot as plt\n",
        "from datetime import datetime"
      ],
      "execution_count": 1,
      "outputs": []
    },
    {
      "cell_type": "code",
      "metadata": {
        "id": "Be-CzVzy4a6b"
      },
      "source": [
        "def sigmoid(z):\n",
        "\n",
        "  return 1 / (1+np.exp(-z))"
      ],
      "execution_count": 2,
      "outputs": []
    },
    {
      "cell_type": "code",
      "metadata": {
        "id": "k0BU8h-B9vu4"
      },
      "source": [
        "class NeuralNetwork():\n",
        "\n",
        "  def __init__(self, input_nodes, hidden_nodes, output_nodes, learning_rate):\n",
        "\n",
        "    self.W2 = np.random.randn(input_nodes, hidden_nodes) / np.sqrt(input_nodes / 2)\n",
        "    self.b2 = np.random.rand(hidden_nodes)\n",
        "\n",
        "    self.W3 = np.random.randn(hidden_nodes, output_nodes) / np.sqrt(hidden_nodes / 2)\n",
        "    self.b3 = np.random.rand(output_nodes)\n",
        "\n",
        "    self.learning_rate = learning_rate\n",
        "\n",
        "  def feed_forward(self):\n",
        "\n",
        "    self.z1 = self.input_data\n",
        "    self.a1 = self.input_data\n",
        "\n",
        "    self.z2 = np.dot(self.a1, self.W2) + self.b2\n",
        "    self.a2 = sigmoid(self.z2)\n",
        "\n",
        "    self.z3 = np.dot(self.a2, self.W3) + self.b3\n",
        "    self.a3 = sigmoid(self.z3)\n",
        "\n",
        "    return (np.sum((self.target_data - self.a3)**2)) / (len(self.input_data))\n",
        "\n",
        "  def loss_val(self):\n",
        "\n",
        "    self.z1 = self.input_data\n",
        "    self.a1 = self.input_data\n",
        "\n",
        "    self.z2 = np.dot(self.a1, self.W2) + self.b2\n",
        "    self.a2 = sigmoid(self.z2)\n",
        "\n",
        "    self.z3 = np.dot(self.a2, self.W3) + self.b3\n",
        "    self.a3 = sigmoid(self.z3)\n",
        "\n",
        "    return (np.sum((self.target_data - self.a3)**2)) / len(self.input_data)\n",
        "\n",
        "\n",
        "  def accuracy(self, test_input_data, test_target_data):\n",
        "\n",
        "    matched_list = []\n",
        "    unmatched_list = []\n",
        "\n",
        "    for i in range(len(test_input_data)):\n",
        "\n",
        "      label = test_target_data[i]\n",
        "\n",
        "      data = test_input_data[i] / 255.0 * 0.99 + 0.01\n",
        "      predicted_num = self.predict(np.array(data, ndmin = 2))\n",
        "\n",
        "      if predicted_num == label:\n",
        "        matched_list.append(i)\n",
        "      \n",
        "      else:\n",
        "        unmatched_list.append(i)\n",
        "\n",
        "    accuracy_val = len(matched_list) / len(test_input_data)\n",
        "\n",
        "    return accuracy_val, unmatched_list\n",
        "\n",
        "  def train(self, input_data, target_data):\n",
        "\n",
        "    self.input_data = input_data\n",
        "    self.target_data = target_data\n",
        "\n",
        "    loss_val = self.feed_forward()\n",
        "\n",
        "    loss_3 = (self.a3 - self.target_data) * self.a3 * (1 - self.a3)\n",
        "    loss_2 = np.dot(loss_3, self.W3.T) * self.a2 * (1 - self.a2)\n",
        "\n",
        "    self.W3 = self.W3 - self.learning_rate * np.dot(self.a2.T, loss_3)\n",
        "    self.b3 = self.b3 - self.learning_rate * loss_3\n",
        "\n",
        "    self.W2 = self.W2 - self.learning_rate * np.dot(self.a1.T, loss_2)\n",
        "    self.b2 = self.b2 - self.learning_rate * loss_2\n",
        "\n",
        "  def predict(self,input_data):\n",
        "\n",
        "    z2 = np.dot(input_data, self.W2) + self.b2\n",
        "    a2 = sigmoid(z2)\n",
        "\n",
        "    z3 = np.dot(a2, self.W3) + self.b3\n",
        "    a3 = sigmoid(z3)\n",
        "\n",
        "    predicted_num = np.argmax(a3)\n",
        "\n",
        "    return predicted_num"
      ],
      "execution_count": 46,
      "outputs": []
    },
    {
      "cell_type": "code",
      "metadata": {
        "colab": {
          "base_uri": "https://localhost:8080/"
        },
        "id": "gg3SALw_DccO",
        "outputId": "1a280135-2b98-48cd-b138-efaf5be5c847"
      },
      "source": [
        "training_data = np.loadtxt(\"./drive/MyDrive/AI_INOVATION_SQUARE/data/mnist_train.csv\",delimiter=',',dtype=np.float32)\n",
        "\n",
        "print(\"training_data.shape = \",training_data.shape)"
      ],
      "execution_count": 44,
      "outputs": [
        {
          "output_type": "stream",
          "text": [
            "training_data.shape =  (60000, 785)\n"
          ],
          "name": "stdout"
        }
      ]
    },
    {
      "cell_type": "code",
      "metadata": {
        "colab": {
          "base_uri": "https://localhost:8080/"
        },
        "id": "Rx8G4B23EQBe",
        "outputId": "7b84450b-7b82-4880-a55d-c1144dced567"
      },
      "source": [
        "#hyper_parameter\n",
        "\n",
        "i_nodes = training_data.shape[1] - 1\n",
        "h_nodes = 100\n",
        "o_nodes = 10\n",
        "lr = 0.1\n",
        "epochs = 1\n",
        "\n",
        "loss_val_list = []\n",
        "\n",
        "nn = NeuralNetwork(i_nodes, h_nodes, o_nodes, lr)\n",
        "\n",
        "start_time = datetime.now()\n",
        "\n",
        "for i in range(epochs):\n",
        "  for step in range(len(training_data)):\n",
        "\n",
        "    input_data = training_data[step, 1: ] / 255.0 * 0.99 + 0.01\n",
        "\n",
        "    target_data = np.zeros(o_nodes) + 0.01\n",
        "    target_data[int(training_data[step,0])] = 0.99\n",
        "\n",
        "    nn.train(np.array(input_data, ndmin=2), np.array(target_data, ndmin=2))\n",
        "\n",
        "    if step % 1000 == 0:\n",
        "      print(\"step = \",step, \", current loss value = \", nn.loss_val())\n",
        "\n",
        "    loss_val_list.append(nn.loss_val())\n",
        "\n",
        "end_time = datetime.now()\n",
        "print(\"\\n Elapsed time ->\",end_time - start_time)"
      ],
      "execution_count": 48,
      "outputs": [
        {
          "output_type": "stream",
          "text": [
            "step =  0 , current loss value =  1.907299356521198\n",
            "step =  1000 , current loss value =  0.22088243350884895\n",
            "step =  2000 , current loss value =  0.34287635389869775\n",
            "step =  3000 , current loss value =  0.5789150565062239\n",
            "step =  4000 , current loss value =  0.10700763741879821\n",
            "step =  5000 , current loss value =  0.05853018082461123\n",
            "step =  6000 , current loss value =  0.0034877113705317838\n",
            "step =  7000 , current loss value =  0.3962260316515088\n",
            "step =  8000 , current loss value =  0.000485429937557924\n",
            "step =  9000 , current loss value =  0.03175027154517459\n",
            "step =  10000 , current loss value =  0.0005129615778677009\n",
            "step =  11000 , current loss value =  0.0029057569117688963\n",
            "step =  12000 , current loss value =  0.03061637012513992\n",
            "step =  13000 , current loss value =  0.03619215136148084\n",
            "step =  14000 , current loss value =  0.0036160842069004294\n",
            "step =  15000 , current loss value =  0.012265218861832312\n",
            "step =  16000 , current loss value =  0.0004379022467191108\n",
            "step =  17000 , current loss value =  0.022908008730986786\n",
            "step =  18000 , current loss value =  0.06433617705225618\n",
            "step =  19000 , current loss value =  0.0410466644021226\n",
            "step =  20000 , current loss value =  0.0004953337488637571\n",
            "step =  21000 , current loss value =  0.07439910782962027\n",
            "step =  22000 , current loss value =  0.0812005716571415\n",
            "step =  23000 , current loss value =  0.0006186800773239096\n",
            "step =  24000 , current loss value =  0.001989095635811114\n",
            "step =  25000 , current loss value =  0.13352186075045908\n",
            "step =  26000 , current loss value =  0.002223497405744069\n",
            "step =  27000 , current loss value =  0.06034771421849129\n",
            "step =  28000 , current loss value =  0.000789872861521743\n",
            "step =  29000 , current loss value =  0.005590276057727019\n",
            "step =  30000 , current loss value =  0.0005916202092293043\n",
            "step =  31000 , current loss value =  1.1860965628045237\n",
            "step =  32000 , current loss value =  0.0008706619807017996\n",
            "step =  33000 , current loss value =  0.17522991197488433\n",
            "step =  34000 , current loss value =  0.018634521425894487\n",
            "step =  35000 , current loss value =  0.0006086296757136929\n",
            "step =  36000 , current loss value =  0.043319452673974454\n",
            "step =  37000 , current loss value =  0.0008503882019542416\n",
            "step =  38000 , current loss value =  0.02313674475767164\n",
            "step =  39000 , current loss value =  0.1373766944204458\n",
            "step =  40000 , current loss value =  0.0006090531969463116\n",
            "step =  41000 , current loss value =  0.0034203559264129506\n",
            "step =  42000 , current loss value =  0.00046056755607541276\n",
            "step =  43000 , current loss value =  0.07564319629825556\n",
            "step =  44000 , current loss value =  0.0008952551943941291\n",
            "step =  45000 , current loss value =  0.0027015831623288526\n",
            "step =  46000 , current loss value =  0.048902429538400335\n",
            "step =  47000 , current loss value =  0.0006390892474775537\n",
            "step =  48000 , current loss value =  0.014160868157154897\n",
            "step =  49000 , current loss value =  0.0005091826691684591\n",
            "step =  50000 , current loss value =  0.00656019589438728\n",
            "step =  51000 , current loss value =  0.0024049585862171013\n",
            "step =  52000 , current loss value =  0.011675334773155945\n",
            "step =  53000 , current loss value =  0.0030697183866265076\n",
            "step =  54000 , current loss value =  0.005008798964920701\n",
            "step =  55000 , current loss value =  0.0014779500460972402\n",
            "step =  56000 , current loss value =  0.0007051090465589245\n",
            "step =  57000 , current loss value =  0.0007685691515784657\n",
            "step =  58000 , current loss value =  0.028463692052154196\n",
            "step =  59000 , current loss value =  0.0022034030098104047\n",
            "\n",
            " Elapsed time -> 0:00:44.910540\n"
          ],
          "name": "stdout"
        }
      ]
    },
    {
      "cell_type": "code",
      "metadata": {
        "colab": {
          "base_uri": "https://localhost:8080/"
        },
        "id": "HBb6r4h3FMLx",
        "outputId": "6cf2aceb-d132-4ae0-a177-7a2349d99828"
      },
      "source": [
        "test_data = np.loadtxt(\"./drive/MyDrive/AI_INOVATION_SQUARE/data/mnist_test.csv\", delimiter=',', dtype=np.float32)\n",
        "\n",
        "print(\"test_data.shape = \",test_data.shape)"
      ],
      "execution_count": 50,
      "outputs": [
        {
          "output_type": "stream",
          "text": [
            "test_data.shape =  (10000, 785)\n"
          ],
          "name": "stdout"
        }
      ]
    },
    {
      "cell_type": "code",
      "metadata": {
        "colab": {
          "base_uri": "https://localhost:8080/"
        },
        "id": "Dzmc5GbDFxxx",
        "outputId": "8e3af83d-a501-41e5-f137-cc558709c3b9"
      },
      "source": [
        "test_input_data = test_data[:, 1: ]\n",
        "test_target_data = test_data[:, 0]\n",
        "\n",
        "(acc_ret, false_list) = nn.accuracy(test_input_data, test_target_data)\n",
        "\n",
        "print(\"Accuracy ret = \",np.round(100*acc_ret,3),'%') "
      ],
      "execution_count": 53,
      "outputs": [
        {
          "output_type": "stream",
          "text": [
            "Accuracy ret =  93.37 %\n"
          ],
          "name": "stdout"
        }
      ]
    },
    {
      "cell_type": "code",
      "metadata": {
        "colab": {
          "base_uri": "https://localhost:8080/",
          "height": 295
        },
        "id": "qNl8ZzRdGNnX",
        "outputId": "63846657-13af-4cb4-d45a-51fae7cccfda"
      },
      "source": [
        "Y_DATA_LIST = []\n",
        "\n",
        "for i in range (0, len(loss_val_list), 500):\n",
        "  Y_DATA_LIST.append(loss_val_list[i])\n",
        "\n",
        "plt.title('MNIST Loss Value Trend')\n",
        "plt.xlabel('data index ( X 500)')\n",
        "plt.ylabel('loss value')\n",
        "plt.grid()\n",
        "plt.plot(Y_DATA_LIST, color='b')\n",
        "plt.show()"
      ],
      "execution_count": 54,
      "outputs": [
        {
          "output_type": "display_data",
          "data": {
            "image/png": "[encoded data removed]",
            "text/plain": [
              "<Figure size 432x288 with 1 Axes>"
            ]
          },
          "metadata": {
            "tags": [],
            "needs_background": "light"
          }
        }
      ]
    },
    {
      "cell_type": "code",
      "metadata": {
        "colab": {
          "base_uri": "https://localhost:8080/"
        },
        "id": "GxVHR5Q7GvJ4",
        "outputId": "780669f1-74c8-4729-88c0-14d08ae5a822"
      },
      "source": [
        "max_loss = np.max(loss_val_list)\n",
        "max_loss_index = np.argmax(loss_val_list)\n",
        "\n",
        "min_loss = np.min(loss_val_list)\n",
        "min_loss_index = np.argmin(loss_val_list)\n",
        "\n",
        "print(\"max_loss = \", max_loss, \", max_loss_index = \",max_loss_index,\", min_loss = \",min_loss,\", min_loss_index = \",min_loss_index)"
      ],
      "execution_count": 55,
      "outputs": [
        {
          "output_type": "stream",
          "text": [
            "max_loss =  2.325591283389188 , max_loss_index =  29434 , min_loss =  0.0002732282483359007 , min_loss_index =  5473\n"
          ],
          "name": "stdout"
        }
      ]
    },
    {
      "cell_type": "code",
      "metadata": {
        "colab": {
          "base_uri": "https://localhost:8080/",
          "height": 282
        },
        "id": "oMS6mlQeHaYc",
        "outputId": "968e1ac4-13d3-45e4-c03b-d13bb73617ef"
      },
      "source": [
        "img = training_data[max_loss_index, 1: ].reshape(28,28)\n",
        "\n",
        "plt.imshow(img, cmap='gray')\n",
        "plt.show()\n",
        "\n",
        "print(\"label = \",training_data[max_loss_index,0])"
      ],
      "execution_count": 56,
      "outputs": [
        {
          "output_type": "display_data",
          "data": {
            "image/png": "[encoded data removed]",
            "text/plain": [
              "<Figure size 432x288 with 1 Axes>"
            ]
          },
          "metadata": {
            "tags": [],
            "needs_background": "light"
          }
        },
        {
          "output_type": "stream",
          "text": [
            "label =  1.0\n"
          ],
          "name": "stdout"
        }
      ]
    },
    {
      "cell_type": "code",
      "metadata": {
        "colab": {
          "base_uri": "https://localhost:8080/",
          "height": 282
        },
        "id": "NJH3dmLZHnmz",
        "outputId": "cb3dfe42-8c00-49f2-9194-83f54c8b9324"
      },
      "source": [
        "img = training_data[min_loss_index,1: ].reshape(28,28)\n",
        "\n",
        "plt.imshow(img ,cmap='gray')\n",
        "plt.show()\n",
        "\n",
        "print(\"label = \",training_data[min_loss_index,0])"
      ],
      "execution_count": 57,
      "outputs": [
        {
          "output_type": "display_data",
          "data": {
            "image/png": "[encoded data removed]",
            "text/plain": [
              "<Figure size 432x288 with 1 Axes>"
            ]
          },
          "metadata": {
            "tags": [],
            "needs_background": "light"
          }
        },
        {
          "output_type": "stream",
          "text": [
            "label =  7.0\n"
          ],
          "name": "stdout"
        }
      ]
    }
  ]
}