{
  "nbformat": 4,
  "nbformat_minor": 0,
  "metadata": {
    "colab": {
      "name": "CNN_3conv/1flatten_5.ipynb",
      "provenance": [],
      "mount_file_id": "1mSiNNzg3Oc0PSp13E79mhfdkdNTXxQSM",
      "authorship_tag": "ABX9TyPusGBHV/ctcQ1v4hs0ofJF",
      "include_colab_link": true
    },
    "kernelspec": {
      "name": "python3",
      "display_name": "Python 3"
    },
    "accelerator": "GPU"
  },
  "cells": [
    {
      "cell_type": "markdown",
      "metadata": {
        "id": "view-in-github",
        "colab_type": "text"
      },
      "source": [
        "<a href=\"https://colab.research.google.com/github/HIsu1231/AI_INOVATION_SQUARE/blob/master/CNN_3conv_1flatten_5.ipynb\" target=\"_parent\"><img src=\"https://colab.research.google.com/assets/colab-badge.svg\" alt=\"Open In Colab\"/></a>"
      ]
    },
    {
      "cell_type": "code",
      "metadata": {
        "colab": {
          "base_uri": "https://localhost:8080/"
        },
        "id": "EaijzSV9ydXk",
        "outputId": "cf25152c-a7bb-4d33-91e0-7eb3974f394a"
      },
      "source": [
        "%tensorflow_version 1.5"
      ],
      "execution_count": 1,
      "outputs": [
        {
          "output_type": "stream",
          "text": [
            "`%tensorflow_version` only switches the major version: 1.x or 2.x.\n",
            "You set: `1.5`. This will be interpreted as: `1.x`.\n",
            "\n",
            "\n",
            "TensorFlow 1.x selected.\n"
          ],
          "name": "stdout"
        }
      ]
    },
    {
      "cell_type": "code",
      "metadata": {
        "colab": {
          "base_uri": "https://localhost:8080/"
        },
        "id": "QFW07DDz1YSp",
        "outputId": "a67be441-1d82-4d40-9c57-8da8c5cb5a9b"
      },
      "source": [
        "import tensorflow as tf\r\n",
        "from tensorflow.examples.tutorials.mnist import input_data\r\n",
        "import numpy as np\r\n",
        "from datetime import datetime\r\n",
        "\r\n",
        "mnist = input_data.read_data_sets('MNIST/data', one_hot=True)"
      ],
      "execution_count": 2,
      "outputs": [
        {
          "output_type": "stream",
          "text": [
            "WARNING:tensorflow:From <ipython-input-2-deaf451c4599>:7: read_data_sets (from tensorflow.contrib.learn.python.learn.datasets.mnist) is deprecated and will be removed in a future version.\n",
            "Instructions for updating:\n",
            "Please use alternatives such as official/mnist/dataset.py from tensorflow/models.\n",
            "WARNING:tensorflow:From /tensorflow-1.15.2/python3.6/tensorflow_core/contrib/learn/python/learn/datasets/mnist.py:260: maybe_download (from tensorflow.contrib.learn.python.learn.datasets.base) is deprecated and will be removed in a future version.\n",
            "Instructions for updating:\n",
            "Please write your own downloading logic.\n",
            "WARNING:tensorflow:From /tensorflow-1.15.2/python3.6/tensorflow_core/contrib/learn/python/learn/datasets/base.py:252: _internal_retry.<locals>.wrap.<locals>.wrapped_fn (from tensorflow.contrib.learn.python.learn.datasets.base) is deprecated and will be removed in a future version.\n",
            "Instructions for updating:\n",
            "Please use urllib or similar directly.\n",
            "Successfully downloaded train-images-idx3-ubyte.gz 9912422 bytes.\n",
            "WARNING:tensorflow:From /tensorflow-1.15.2/python3.6/tensorflow_core/contrib/learn/python/learn/datasets/mnist.py:262: extract_images (from tensorflow.contrib.learn.python.learn.datasets.mnist) is deprecated and will be removed in a future version.\n",
            "Instructions for updating:\n",
            "Please use tf.data to implement this functionality.\n",
            "Extracting MNIST/data/train-images-idx3-ubyte.gz\n",
            "Successfully downloaded train-labels-idx1-ubyte.gz 28881 bytes.\n",
            "WARNING:tensorflow:From /tensorflow-1.15.2/python3.6/tensorflow_core/contrib/learn/python/learn/datasets/mnist.py:267: extract_labels (from tensorflow.contrib.learn.python.learn.datasets.mnist) is deprecated and will be removed in a future version.\n",
            "Instructions for updating:\n",
            "Please use tf.data to implement this functionality.\n",
            "Extracting MNIST/data/train-labels-idx1-ubyte.gz\n",
            "WARNING:tensorflow:From /tensorflow-1.15.2/python3.6/tensorflow_core/contrib/learn/python/learn/datasets/mnist.py:110: dense_to_one_hot (from tensorflow.contrib.learn.python.learn.datasets.mnist) is deprecated and will be removed in a future version.\n",
            "Instructions for updating:\n",
            "Please use tf.one_hot on tensors.\n",
            "Successfully downloaded t10k-images-idx3-ubyte.gz 1648877 bytes.\n",
            "Extracting MNIST/data/t10k-images-idx3-ubyte.gz\n",
            "Successfully downloaded t10k-labels-idx1-ubyte.gz 4542 bytes.\n",
            "Extracting MNIST/data/t10k-labels-idx1-ubyte.gz\n",
            "WARNING:tensorflow:From /tensorflow-1.15.2/python3.6/tensorflow_core/contrib/learn/python/learn/datasets/mnist.py:290: DataSet.__init__ (from tensorflow.contrib.learn.python.learn.datasets.mnist) is deprecated and will be removed in a future version.\n",
            "Instructions for updating:\n",
            "Please use alternatives such as official/mnist/dataset.py from tensorflow/models.\n"
          ],
          "name": "stdout"
        }
      ]
    },
    {
      "cell_type": "code",
      "metadata": {
        "id": "Azl6_beK5mDQ"
      },
      "source": [
        "i_nodes = mnist.train.images.shape[1]\r\n",
        "o_nodes = mnist.train.labels.shape[1]\r\n",
        "\r\n",
        "#hyper_parameter\r\n",
        "learning_rate = 0.001\r\n",
        "epochs = 30\r\n",
        "batch_size = 100"
      ],
      "execution_count": 3,
      "outputs": []
    },
    {
      "cell_type": "code",
      "metadata": {
        "id": "VXEEM94p1uuW"
      },
      "source": [
        "X = tf.placeholder(tf.float32, [None,i_nodes])\r\n",
        "T = tf.placeholder(tf.float32, [None,o_nodes])\r\n",
        "\r\n",
        "#28X28X1\r\n",
        "A1 = tf.reshape(X, [-1,28,28,1])"
      ],
      "execution_count": 4,
      "outputs": []
    },
    {
      "cell_type": "code",
      "metadata": {
        "id": "Y9DL2g4h2B3K"
      },
      "source": [
        "#5X5X32 filter\r\n",
        "W2 = tf.Variable(tf.random_normal([5,5,1,32], stddev=0.01))\r\n",
        "b2 = tf.Variable(tf.random_normal([32]))\r\n",
        "\r\n",
        "#28X28X32\r\n",
        "C2 = tf.nn.conv2d(A1, W2, strides=[1,1,1,1], padding='SAME')\r\n",
        "\r\n",
        "Z2 = tf.nn.relu(C2)\r\n",
        "\r\n",
        "#14X14X32\r\n",
        "A2 = tf.nn.max_pool(Z2, ksize=[1,2,2,1], strides=[1,2,2,1], padding='SAME')"
      ],
      "execution_count": 5,
      "outputs": []
    },
    {
      "cell_type": "code",
      "metadata": {
        "id": "0Yr8Nubl2mKY"
      },
      "source": [
        "#5X5X64 filter\r\n",
        "W3 = tf.Variable(tf.random_normal([5,5,32,64], stddev=0.01))\r\n",
        "b3 = tf.Variable(tf.random_normal([64]))\r\n",
        "\r\n",
        "#14X14X64\r\n",
        "C3 = tf.nn.conv2d(A2, W3, strides=[1,1,1,1], padding='SAME')\r\n",
        "\r\n",
        "Z3 = tf.nn.relu(C3)\r\n",
        "\r\n",
        "#7X7X64\r\n",
        "A3 = tf.nn.max_pool(Z3, ksize=[1,2,2,1], strides=[1,2,2,1], padding='SAME')"
      ],
      "execution_count": 6,
      "outputs": []
    },
    {
      "cell_type": "code",
      "metadata": {
        "id": "sGtx29KO3WTp"
      },
      "source": [
        "#5X5X128 filter\r\n",
        "W4 = tf.Variable(tf.random_normal([5,5,64,128], stddev=0.01))\r\n",
        "b4 = tf.Variable(tf.random_normal([128]))\r\n",
        "\r\n",
        "#7X7X128\r\n",
        "C4 = tf.nn.conv2d(A3, W4, strides=[1,1,1,1], padding='SAME')\r\n",
        "\r\n",
        "Z4 = tf.nn.relu(C4)\r\n",
        "\r\n",
        "#4X4X128\r\n",
        "A4 = tf.nn.max_pool(Z4, ksize=[1,2,2,1], strides=[1,2,2,1], padding='SAME')"
      ],
      "execution_count": 7,
      "outputs": []
    },
    {
      "cell_type": "code",
      "metadata": {
        "id": "mQpKWi0z37cR"
      },
      "source": [
        "A4_flat = tf.reshape(A4,[-1,4*4*128])\r\n",
        "\r\n",
        "W5 = tf.Variable(tf.random_normal([4*4*128,10],stddev=0.01))\r\n",
        "b5 = tf.Variable(tf.random_normal([10]))\r\n",
        "\r\n",
        "Z5 = tf.matmul(A4_flat,W5) + b5\r\n",
        "\r\n",
        "y = tf.nn.softmax(Z5)"
      ],
      "execution_count": 8,
      "outputs": []
    },
    {
      "cell_type": "code",
      "metadata": {
        "id": "Z4rXyPXy5Uev"
      },
      "source": [
        "loss = tf.reduce_mean(tf.nn.softmax_cross_entropy_with_logits_v2(labels=T, logits=Z5))\r\n",
        "\r\n",
        "optimizer = tf.train.AdamOptimizer(learning_rate)\r\n",
        "\r\n",
        "train = optimizer.minimize(loss)"
      ],
      "execution_count": 9,
      "outputs": []
    },
    {
      "cell_type": "code",
      "metadata": {
        "id": "iBUdZFmx5inq"
      },
      "source": [
        "predicted_val = tf.argmax(y,1)\r\n",
        "\r\n",
        "accuracy_index = tf.cast(tf.equal(tf.argmax(y,1), tf.argmax(T,1)), dtype=tf.float32)\r\n",
        "\r\n",
        "accuracy = tf.reduce_mean(accuracy_index)"
      ],
      "execution_count": 10,
      "outputs": []
    },
    {
      "cell_type": "code",
      "metadata": {
        "colab": {
          "base_uri": "https://localhost:8080/"
        },
        "id": "LXeYRpJr-biX",
        "outputId": "f94bb5a1-e130-4005-a506-8f2f0c6d05f6"
      },
      "source": [
        "index_label_prediction = []\r\n",
        "\r\n",
        "with tf.Session() as sess:\r\n",
        "\r\n",
        "    sess.run(tf.global_variables_initializer())\r\n",
        "\r\n",
        "    start_time = datetime.now()\r\n",
        "\r\n",
        "    for i in range(epochs):\r\n",
        "\r\n",
        "        total_batch = int(mnist.train.num_examples / batch_size)\r\n",
        "\r\n",
        "        for step in range(total_batch):\r\n",
        "\r\n",
        "            batch_x_data, batch_t_data = mnist.train.next_batch(batch_size)\r\n",
        "\r\n",
        "            loss_val, _ = sess.run([loss, train], feed_dict={X: batch_x_data, T:batch_t_data})\r\n",
        "\r\n",
        "            if step % 100 == 0:\r\n",
        "\r\n",
        "                print(\"epochs = \", i+1, \", step = \", step, \", loss value = \", loss_val)\r\n",
        "\r\n",
        "    end_time = datetime.now()\r\n",
        "\r\n",
        "    test_x_data = mnist.test.images\r\n",
        "    test_t_data = mnist.test.labels\r\n",
        "\r\n",
        "    accuracy_val, index_label, predicted_list = sess.run([accuracy, accuracy_index, predicted_val], feed_dict={X: test_x_data, T: test_t_data})\r\n",
        "\r\n",
        "    print(\"\\nAccuracy = \", accuracy_val)\r\n",
        "\r\n",
        "    temp_list = []\r\n",
        "\r\n",
        "    for i in range(len(index_label)):\r\n",
        "\r\n",
        "        if index_label[i] == 0:\r\n",
        "\r\n",
        "            temp_list.append(i)\r\n",
        "            temp_list.append(np.argmax(test_t_data[i]))\r\n",
        "            temp_list.append(predicted_list[i])\r\n",
        "\r\n",
        "            index_label_prediction.append(temp_list)\r\n",
        "\r\n",
        "            temp_list = []"
      ],
      "execution_count": 13,
      "outputs": [
        {
          "output_type": "stream",
          "text": [
            "epochs =  1 , step =  0 , loss value =  2.385889\n",
            "epochs =  1 , step =  100 , loss value =  0.31642243\n",
            "epochs =  1 , step =  200 , loss value =  0.12674229\n",
            "epochs =  1 , step =  300 , loss value =  0.07337233\n",
            "epochs =  1 , step =  400 , loss value =  0.13577962\n",
            "epochs =  1 , step =  500 , loss value =  0.14520022\n",
            "epochs =  2 , step =  0 , loss value =  0.036701158\n",
            "epochs =  2 , step =  100 , loss value =  0.06858744\n",
            "epochs =  2 , step =  200 , loss value =  0.105095826\n",
            "epochs =  2 , step =  300 , loss value =  0.12274025\n",
            "epochs =  2 , step =  400 , loss value =  0.025388129\n",
            "epochs =  2 , step =  500 , loss value =  0.04521773\n",
            "epochs =  3 , step =  0 , loss value =  0.036111955\n",
            "epochs =  3 , step =  100 , loss value =  0.012175619\n",
            "epochs =  3 , step =  200 , loss value =  0.021188283\n",
            "epochs =  3 , step =  300 , loss value =  0.04304514\n",
            "epochs =  3 , step =  400 , loss value =  0.012377163\n",
            "epochs =  3 , step =  500 , loss value =  0.0029420555\n",
            "epochs =  4 , step =  0 , loss value =  0.04808606\n",
            "epochs =  4 , step =  100 , loss value =  0.010665999\n",
            "epochs =  4 , step =  200 , loss value =  0.028430277\n",
            "epochs =  4 , step =  300 , loss value =  0.0030804805\n",
            "epochs =  4 , step =  400 , loss value =  0.03559085\n",
            "epochs =  4 , step =  500 , loss value =  0.015249639\n",
            "epochs =  5 , step =  0 , loss value =  0.0023229823\n",
            "epochs =  5 , step =  100 , loss value =  0.01654589\n",
            "epochs =  5 , step =  200 , loss value =  0.004881615\n",
            "epochs =  5 , step =  300 , loss value =  0.03673989\n",
            "epochs =  5 , step =  400 , loss value =  0.0046454147\n",
            "epochs =  5 , step =  500 , loss value =  0.006003583\n",
            "epochs =  6 , step =  0 , loss value =  0.003951694\n",
            "epochs =  6 , step =  100 , loss value =  0.0012662199\n",
            "epochs =  6 , step =  200 , loss value =  0.0019009039\n",
            "epochs =  6 , step =  300 , loss value =  0.0568669\n",
            "epochs =  6 , step =  400 , loss value =  0.006425097\n",
            "epochs =  6 , step =  500 , loss value =  0.00294906\n",
            "epochs =  7 , step =  0 , loss value =  0.0040609413\n",
            "epochs =  7 , step =  100 , loss value =  0.00090464606\n",
            "epochs =  7 , step =  200 , loss value =  0.012481718\n",
            "epochs =  7 , step =  300 , loss value =  0.08078501\n",
            "epochs =  7 , step =  400 , loss value =  0.003253202\n",
            "epochs =  7 , step =  500 , loss value =  0.0018162632\n",
            "epochs =  8 , step =  0 , loss value =  0.0025775095\n",
            "epochs =  8 , step =  100 , loss value =  0.008610554\n",
            "epochs =  8 , step =  200 , loss value =  0.001036534\n",
            "epochs =  8 , step =  300 , loss value =  0.0014013895\n",
            "epochs =  8 , step =  400 , loss value =  0.002113211\n",
            "epochs =  8 , step =  500 , loss value =  0.0010466932\n",
            "epochs =  9 , step =  0 , loss value =  0.0025994226\n",
            "epochs =  9 , step =  100 , loss value =  0.0045443545\n",
            "epochs =  9 , step =  200 , loss value =  0.0033998322\n",
            "epochs =  9 , step =  300 , loss value =  0.005881154\n",
            "epochs =  9 , step =  400 , loss value =  0.006552503\n",
            "epochs =  9 , step =  500 , loss value =  0.0031376474\n",
            "epochs =  10 , step =  0 , loss value =  0.000806655\n",
            "epochs =  10 , step =  100 , loss value =  0.041397586\n",
            "epochs =  10 , step =  200 , loss value =  0.03772656\n",
            "epochs =  10 , step =  300 , loss value =  0.0010081504\n",
            "epochs =  10 , step =  400 , loss value =  0.0009233318\n",
            "epochs =  10 , step =  500 , loss value =  0.14681709\n",
            "epochs =  11 , step =  0 , loss value =  0.0007570379\n",
            "epochs =  11 , step =  100 , loss value =  0.007531818\n",
            "epochs =  11 , step =  200 , loss value =  0.011785427\n",
            "epochs =  11 , step =  300 , loss value =  0.097888835\n",
            "epochs =  11 , step =  400 , loss value =  0.004509302\n",
            "epochs =  11 , step =  500 , loss value =  0.0022426986\n",
            "epochs =  12 , step =  0 , loss value =  0.0015659732\n",
            "epochs =  12 , step =  100 , loss value =  0.020826748\n",
            "epochs =  12 , step =  200 , loss value =  0.00024371406\n",
            "epochs =  12 , step =  300 , loss value =  0.0009812108\n",
            "epochs =  12 , step =  400 , loss value =  0.00018754421\n",
            "epochs =  12 , step =  500 , loss value =  0.0001604567\n",
            "epochs =  13 , step =  0 , loss value =  0.008939212\n",
            "epochs =  13 , step =  100 , loss value =  0.00011073339\n",
            "epochs =  13 , step =  200 , loss value =  0.0010490381\n",
            "epochs =  13 , step =  300 , loss value =  5.475976e-05\n",
            "epochs =  13 , step =  400 , loss value =  0.0056770053\n",
            "epochs =  13 , step =  500 , loss value =  0.030632418\n",
            "epochs =  14 , step =  0 , loss value =  0.00044898182\n",
            "epochs =  14 , step =  100 , loss value =  0.013311925\n",
            "epochs =  14 , step =  200 , loss value =  0.000108865155\n",
            "epochs =  14 , step =  300 , loss value =  0.0028634302\n",
            "epochs =  14 , step =  400 , loss value =  0.009599262\n",
            "epochs =  14 , step =  500 , loss value =  9.0038724e-05\n",
            "epochs =  15 , step =  0 , loss value =  0.004686858\n",
            "epochs =  15 , step =  100 , loss value =  0.0014892758\n",
            "epochs =  15 , step =  200 , loss value =  0.000111174544\n",
            "epochs =  15 , step =  300 , loss value =  0.0012680693\n",
            "epochs =  15 , step =  400 , loss value =  0.013833417\n",
            "epochs =  15 , step =  500 , loss value =  0.029038267\n",
            "epochs =  16 , step =  0 , loss value =  0.00010508599\n",
            "epochs =  16 , step =  100 , loss value =  0.00012504774\n",
            "epochs =  16 , step =  200 , loss value =  0.032952227\n",
            "epochs =  16 , step =  300 , loss value =  0.00041577022\n",
            "epochs =  16 , step =  400 , loss value =  0.00035713773\n",
            "epochs =  16 , step =  500 , loss value =  0.008960374\n",
            "epochs =  17 , step =  0 , loss value =  3.736064e-05\n",
            "epochs =  17 , step =  100 , loss value =  1.7601144e-05\n",
            "epochs =  17 , step =  200 , loss value =  0.0022361903\n",
            "epochs =  17 , step =  300 , loss value =  4.6276466e-05\n",
            "epochs =  17 , step =  400 , loss value =  0.0026413647\n",
            "epochs =  17 , step =  500 , loss value =  0.0038973521\n",
            "epochs =  18 , step =  0 , loss value =  0.0022756183\n",
            "epochs =  18 , step =  100 , loss value =  0.0019728134\n",
            "epochs =  18 , step =  200 , loss value =  0.0002480101\n",
            "epochs =  18 , step =  300 , loss value =  0.00023206003\n",
            "epochs =  18 , step =  400 , loss value =  0.009409771\n",
            "epochs =  18 , step =  500 , loss value =  0.00040723654\n",
            "epochs =  19 , step =  0 , loss value =  0.0010264352\n",
            "epochs =  19 , step =  100 , loss value =  0.00021029814\n",
            "epochs =  19 , step =  200 , loss value =  0.000521504\n",
            "epochs =  19 , step =  300 , loss value =  0.0039667026\n",
            "epochs =  19 , step =  400 , loss value =  0.010003536\n",
            "epochs =  19 , step =  500 , loss value =  0.00010230393\n",
            "epochs =  20 , step =  0 , loss value =  0.020560045\n",
            "epochs =  20 , step =  100 , loss value =  3.9325223e-06\n",
            "epochs =  20 , step =  200 , loss value =  1.5859005e-05\n",
            "epochs =  20 , step =  300 , loss value =  2.5762478e-05\n",
            "epochs =  20 , step =  400 , loss value =  0.0020800363\n",
            "epochs =  20 , step =  500 , loss value =  0.00020043158\n",
            "epochs =  21 , step =  0 , loss value =  5.282129e-05\n",
            "epochs =  21 , step =  100 , loss value =  0.00010092953\n",
            "epochs =  21 , step =  200 , loss value =  0.00092051394\n",
            "epochs =  21 , step =  300 , loss value =  6.3358806e-05\n",
            "epochs =  21 , step =  400 , loss value =  7.2713265e-05\n",
            "epochs =  21 , step =  500 , loss value =  0.00034473714\n",
            "epochs =  22 , step =  0 , loss value =  3.5977762e-05\n",
            "epochs =  22 , step =  100 , loss value =  1.3098122e-05\n",
            "epochs =  22 , step =  200 , loss value =  6.2491774e-05\n",
            "epochs =  22 , step =  300 , loss value =  0.0008657556\n",
            "epochs =  22 , step =  400 , loss value =  0.0007455357\n",
            "epochs =  22 , step =  500 , loss value =  0.066851035\n",
            "epochs =  23 , step =  0 , loss value =  0.03378022\n",
            "epochs =  23 , step =  100 , loss value =  1.1403509e-05\n",
            "epochs =  23 , step =  200 , loss value =  8.179752e-05\n",
            "epochs =  23 , step =  300 , loss value =  0.0013952355\n",
            "epochs =  23 , step =  400 , loss value =  0.0021497838\n",
            "epochs =  23 , step =  500 , loss value =  1.0522292e-05\n",
            "epochs =  24 , step =  0 , loss value =  0.00012133316\n",
            "epochs =  24 , step =  100 , loss value =  0.004023581\n",
            "epochs =  24 , step =  200 , loss value =  0.0016859308\n",
            "epochs =  24 , step =  300 , loss value =  3.1154766e-05\n",
            "epochs =  24 , step =  400 , loss value =  0.028505785\n",
            "epochs =  24 , step =  500 , loss value =  3.4884106e-05\n",
            "epochs =  25 , step =  0 , loss value =  7.027193e-05\n",
            "epochs =  25 , step =  100 , loss value =  2.9672818e-05\n",
            "epochs =  25 , step =  200 , loss value =  0.091394156\n",
            "epochs =  25 , step =  300 , loss value =  0.0025973513\n",
            "epochs =  25 , step =  400 , loss value =  0.004736566\n",
            "epochs =  25 , step =  500 , loss value =  0.00034095976\n",
            "epochs =  26 , step =  0 , loss value =  4.6004414e-05\n",
            "epochs =  26 , step =  100 , loss value =  0.002314876\n",
            "epochs =  26 , step =  200 , loss value =  0.00036947924\n",
            "epochs =  26 , step =  300 , loss value =  0.00021432608\n",
            "epochs =  26 , step =  400 , loss value =  2.855896e-05\n",
            "epochs =  26 , step =  500 , loss value =  0.000113721704\n",
            "epochs =  27 , step =  0 , loss value =  1.959751e-06\n",
            "epochs =  27 , step =  100 , loss value =  4.6287736e-05\n",
            "epochs =  27 , step =  200 , loss value =  0.00015052821\n",
            "epochs =  27 , step =  300 , loss value =  1.4311753e-05\n",
            "epochs =  27 , step =  400 , loss value =  3.3759658e-05\n",
            "epochs =  27 , step =  500 , loss value =  0.00049246894\n",
            "epochs =  28 , step =  0 , loss value =  5.65918e-06\n",
            "epochs =  28 , step =  100 , loss value =  3.4451347e-07\n",
            "epochs =  28 , step =  200 , loss value =  2.366744e-05\n",
            "epochs =  28 , step =  300 , loss value =  2.0121768e-06\n",
            "epochs =  28 , step =  400 , loss value =  1.8000549e-07\n",
            "epochs =  28 , step =  500 , loss value =  7.877641e-05\n",
            "epochs =  29 , step =  0 , loss value =  3.2864646e-05\n",
            "epochs =  29 , step =  100 , loss value =  1.2635542e-06\n",
            "epochs =  29 , step =  200 , loss value =  9.0239774e-07\n",
            "epochs =  29 , step =  300 , loss value =  6.9855514e-07\n",
            "epochs =  29 , step =  400 , loss value =  1.7642928e-07\n",
            "epochs =  29 , step =  500 , loss value =  7.912963e-05\n",
            "epochs =  30 , step =  0 , loss value =  4.6133175e-07\n",
            "epochs =  30 , step =  100 , loss value =  1.808245e-06\n",
            "epochs =  30 , step =  200 , loss value =  2.6950179e-06\n",
            "epochs =  30 , step =  300 , loss value =  2.3113103e-05\n",
            "epochs =  30 , step =  400 , loss value =  1.528706e-05\n",
            "epochs =  30 , step =  500 , loss value =  8.125867e-06\n",
            "\n",
            "Accuracy =  0.9945\n"
          ],
          "name": "stdout"
        }
      ]
    },
    {
      "cell_type": "code",
      "metadata": {
        "colab": {
          "base_uri": "https://localhost:8080/"
        },
        "id": "sxaEAmJuA38x",
        "outputId": "2df19643-cb47-4c9b-fb26-0a8efc97b9f4"
      },
      "source": [
        "print(index_label_prediction)"
      ],
      "execution_count": 14,
      "outputs": [
        {
          "output_type": "stream",
          "text": [
            "[[247, 4, 2], [340, 5, 3], [449, 3, 5], [582, 8, 2], [659, 2, 1], [740, 4, 9], [938, 3, 5], [947, 8, 9], [1014, 6, 9], [1039, 7, 1], [1112, 4, 6], [1226, 7, 2], [1232, 9, 4], [1247, 9, 5], [1260, 7, 1], [1393, 5, 3], [1901, 9, 4], [2035, 5, 3], [2070, 7, 9], [2130, 4, 9], [2135, 6, 1], [2293, 9, 2], [2369, 5, 3], [2414, 9, 4], [2597, 5, 3], [2654, 6, 1], [2896, 8, 0], [2939, 9, 5], [2953, 3, 5], [3225, 7, 9], [3422, 6, 0], [3520, 6, 4], [3558, 5, 0], [3853, 6, 0], [3985, 9, 4], [4078, 9, 8], [4199, 7, 9], [4360, 5, 3], [4504, 2, 7], [4761, 9, 8], [4823, 9, 4], [5201, 4, 9], [5654, 7, 2], [5937, 5, 3], [5997, 5, 9], [6576, 7, 1], [6597, 0, 7], [6755, 8, 9], [7216, 0, 6], [8408, 8, 5], [9015, 7, 2], [9540, 1, 8], [9664, 2, 7], [9692, 9, 7], [9729, 5, 6]]\n"
          ],
          "name": "stdout"
        }
      ]
    },
    {
      "cell_type": "code",
      "metadata": {
        "colab": {
          "base_uri": "https://localhost:8080/",
          "height": 422
        },
        "id": "d4l7YuCOA53Q",
        "outputId": "6c4c2f6a-5e26-4dc8-b5e3-400ff952aa22"
      },
      "source": [
        "import os\r\n",
        "import matplotlib.pyplot as plt\r\n",
        "%matplotlib inline\r\n",
        "\r\n",
        "save_count = 0\r\n",
        "\r\n",
        "example_name = 'CNN_Example_5_2'\r\n",
        "\r\n",
        "#현재 디렉토리 저장\r\n",
        "cur_dir = os.getcwd()\r\n",
        "\r\n",
        "now = datetime.now()\r\n",
        "\r\n",
        "save_dir_name = example_name + str(now.year) + '-' + str(now.month) + '-' + str(now.day) + '_' + str(now.hour)  + str(now.minute) + str(now.second)\r\n",
        "\r\n",
        "colab_default_dir = './drive/MyDrive/AI_INOVATION_SQUARE/prac'\r\n",
        "\r\n",
        "try:\r\n",
        "    os.chdir(colab_default_dir)\r\n",
        "    os.mkdir(save_dir_name)\r\n",
        "\r\n",
        "    os.chdir(save_dir_name)\r\n",
        "\r\n",
        "    start_time = datetime.now()\r\n",
        "\r\n",
        "    for list_data in index_label_prediction:\r\n",
        "\r\n",
        "        index_int = list_data[0]\r\n",
        "        label_int = list_data[1]\r\n",
        "        prediction_int = list_data[2]\r\n",
        "\r\n",
        "        index_str = str(index_int)\r\n",
        "        label_str = str(label_int)\r\n",
        "        prediction_str = str(prediction_int)\r\n",
        "\r\n",
        "        #인덱스, 정답, 오답을 나타내는 문자열\r\n",
        "        index_label_prediction_str = 'index = ' + index_str + ', label = ' + label_str + ', prediction = ' + prediction_str \r\n",
        "\r\n",
        "        #저장 파일 이름 생성, index_str.png\r\n",
        "        save_image_name = index_str + '.png'\r\n",
        "        plt.title(index_label_prediction_str)\r\n",
        "\r\n",
        "        img = test_x_data[index_int].reshape(28,28)\r\n",
        "        plt.imshow(img, cmap='gray')\r\n",
        "\r\n",
        "        plt.savefig(save_image_name) #파일 저장\r\n",
        "\r\n",
        "        save_count += 1\r\n",
        "\r\n",
        "        if save_count % 10 == 0:\r\n",
        "\r\n",
        "            print(save_count, \"image is saved now\")\r\n",
        "\r\n",
        "    end_time = datetime.now()\r\n",
        "\r\n",
        "    print(\"\\nElapsed time = \", end_time - start_time)\r\n",
        "    print(\"Total \", save_count, \"data is saved\")\r\n",
        "\r\n",
        "    os.chdir(cur_dir)\r\n",
        "\r\n",
        "except Exception as err:\r\n",
        "\r\n",
        "  os.chdir(cur_dir)\r\n",
        "  print(str(err))\r\n"
      ],
      "execution_count": 19,
      "outputs": [
        {
          "output_type": "stream",
          "text": [
            "10 image is saved now\n",
            "20 image is saved now\n",
            "30 image is saved now\n",
            "40 image is saved now\n",
            "50 image is saved now\n",
            "\n",
            "Elapsed time =  0:00:11.173275\n",
            "Total  55 data is saved\n"
          ],
          "name": "stdout"
        },
        {
          "output_type": "display_data",
          "data": {
            "image/png": "[encoded data removed]",
            "text/plain": [
              "<Figure size 432x288 with 1 Axes>"
            ]
          },
          "metadata": {
            "tags": [],
            "needs_background": "light"
          }
        }
      ]
    },
    {
      "cell_type": "code",
      "metadata": {
        "id": "fidXhaZEEkD2"
      },
      "source": [
        ""
      ],
      "execution_count": null,
      "outputs": []
    }
  ]
}