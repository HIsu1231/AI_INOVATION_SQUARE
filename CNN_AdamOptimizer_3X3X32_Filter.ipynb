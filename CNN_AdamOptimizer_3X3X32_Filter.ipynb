{
  "nbformat": 4,
  "nbformat_minor": 0,
  "metadata": {
    "colab": {
      "name": "CNN_AdamOptimizer_3X3X32_Filter.ipynb",
      "provenance": [],
      "mount_file_id": "1S9E4VYOrNJrsKsTJ84BSMfERq-UsvIkM",
      "authorship_tag": "ABX9TyPNbOE0TYLmlRPkeSTLlAK2",
      "include_colab_link": true
    },
    "kernelspec": {
      "name": "python3",
      "display_name": "Python 3"
    }
  },
  "cells": [
    {
      "cell_type": "markdown",
      "metadata": {
        "id": "view-in-github",
        "colab_type": "text"
      },
      "source": [
        "<a href=\"https://colab.research.google.com/github/HIsu1231/AI_INOVATION_SQUARE/blob/master/CNN_AdamOptimizer_3X3X32_Filter.ipynb\" target=\"_parent\"><img src=\"https://colab.research.google.com/assets/colab-badge.svg\" alt=\"Open In Colab\"/></a>"
      ]
    },
    {
      "cell_type": "code",
      "metadata": {
        "colab": {
          "base_uri": "https://localhost:8080/"
        },
        "id": "WR-eai-G2Oul",
        "outputId": "1e3f82fa-086b-41b2-f03e-f66d6ba0a80f"
      },
      "source": [
        "!pip uninstall tensorflow"
      ],
      "execution_count": 1,
      "outputs": [
        {
          "output_type": "stream",
          "text": [
            "Uninstalling tensorflow-2.4.0:\n",
            "  Would remove:\n",
            "    /usr/local/bin/estimator_ckpt_converter\n",
            "    /usr/local/bin/import_pb_to_tensorboard\n",
            "    /usr/local/bin/saved_model_cli\n",
            "    /usr/local/bin/tensorboard\n",
            "    /usr/local/bin/tf_upgrade_v2\n",
            "    /usr/local/bin/tflite_convert\n",
            "    /usr/local/bin/toco\n",
            "    /usr/local/bin/toco_from_protos\n",
            "    /usr/local/lib/python3.6/dist-packages/tensorflow-2.4.0.dist-info/*\n",
            "    /usr/local/lib/python3.6/dist-packages/tensorflow/*\n",
            "Proceed (y/n)? y\n",
            "  Successfully uninstalled tensorflow-2.4.0\n"
          ],
          "name": "stdout"
        }
      ]
    },
    {
      "cell_type": "code",
      "metadata": {
        "colab": {
          "base_uri": "https://localhost:8080/"
        },
        "id": "lc7k7JdZ2bmr",
        "outputId": "4ae08d76-f5ce-4481-a6fc-eee9cf090215"
      },
      "source": [
        "!pip install tensorflow==1.15"
      ],
      "execution_count": 2,
      "outputs": [
        {
          "output_type": "stream",
          "text": [
            "Collecting tensorflow==1.15\n",
            "\u001b[?25l  Downloading https://files.pythonhosted.org/packages/3f/98/5a99af92fb911d7a88a0005ad55005f35b4c1ba8d75fba02df726cd936e6/tensorflow-1.15.0-cp36-cp36m-manylinux2010_x86_64.whl (412.3MB)\n",
            "\u001b[K     |████████████████████████████████| 412.3MB 42kB/s \n",
            "\u001b[?25hRequirement already satisfied: wrapt>=1.11.1 in /usr/local/lib/python3.6/dist-packages (from tensorflow==1.15) (1.12.1)\n",
            "Collecting gast==0.2.2\n",
            "  Downloading https://files.pythonhosted.org/packages/4e/35/11749bf99b2d4e3cceb4d55ca22590b0d7c2c62b9de38ac4a4a7f4687421/gast-0.2.2.tar.gz\n",
            "Requirement already satisfied: wheel>=0.26 in /usr/local/lib/python3.6/dist-packages (from tensorflow==1.15) (0.36.2)\n",
            "Requirement already satisfied: astor>=0.6.0 in /usr/local/lib/python3.6/dist-packages (from tensorflow==1.15) (0.8.1)\n",
            "Requirement already satisfied: google-pasta>=0.1.6 in /usr/local/lib/python3.6/dist-packages (from tensorflow==1.15) (0.2.0)\n",
            "Collecting tensorflow-estimator==1.15.1\n",
            "\u001b[?25l  Downloading https://files.pythonhosted.org/packages/de/62/2ee9cd74c9fa2fa450877847ba560b260f5d0fb70ee0595203082dafcc9d/tensorflow_estimator-1.15.1-py2.py3-none-any.whl (503kB)\n",
            "\u001b[K     |████████████████████████████████| 512kB 37.1MB/s \n",
            "\u001b[?25hCollecting keras-applications>=1.0.8\n",
            "\u001b[?25l  Downloading https://files.pythonhosted.org/packages/71/e3/19762fdfc62877ae9102edf6342d71b28fbfd9dea3d2f96a882ce099b03f/Keras_Applications-1.0.8-py3-none-any.whl (50kB)\n",
            "\u001b[K     |████████████████████████████████| 51kB 5.1MB/s \n",
            "\u001b[?25hRequirement already satisfied: numpy<2.0,>=1.16.0 in /usr/local/lib/python3.6/dist-packages (from tensorflow==1.15) (1.19.4)\n",
            "Collecting tensorboard<1.16.0,>=1.15.0\n",
            "\u001b[?25l  Downloading https://files.pythonhosted.org/packages/1e/e9/d3d747a97f7188f48aa5eda486907f3b345cd409f0a0850468ba867db246/tensorboard-1.15.0-py3-none-any.whl (3.8MB)\n",
            "\u001b[K     |████████████████████████████████| 3.8MB 45.2MB/s \n",
            "\u001b[?25hRequirement already satisfied: absl-py>=0.7.0 in /usr/local/lib/python3.6/dist-packages (from tensorflow==1.15) (0.10.0)\n",
            "Requirement already satisfied: protobuf>=3.6.1 in /usr/local/lib/python3.6/dist-packages (from tensorflow==1.15) (3.12.4)\n",
            "Requirement already satisfied: opt-einsum>=2.3.2 in /usr/local/lib/python3.6/dist-packages (from tensorflow==1.15) (3.3.0)\n",
            "Requirement already satisfied: keras-preprocessing>=1.0.5 in /usr/local/lib/python3.6/dist-packages (from tensorflow==1.15) (1.1.2)\n",
            "Requirement already satisfied: grpcio>=1.8.6 in /usr/local/lib/python3.6/dist-packages (from tensorflow==1.15) (1.32.0)\n",
            "Requirement already satisfied: six>=1.10.0 in /usr/local/lib/python3.6/dist-packages (from tensorflow==1.15) (1.15.0)\n",
            "Requirement already satisfied: termcolor>=1.1.0 in /usr/local/lib/python3.6/dist-packages (from tensorflow==1.15) (1.1.0)\n",
            "Requirement already satisfied: h5py in /usr/local/lib/python3.6/dist-packages (from keras-applications>=1.0.8->tensorflow==1.15) (2.10.0)\n",
            "Requirement already satisfied: markdown>=2.6.8 in /usr/local/lib/python3.6/dist-packages (from tensorboard<1.16.0,>=1.15.0->tensorflow==1.15) (3.3.3)\n",
            "Requirement already satisfied: werkzeug>=0.11.15 in /usr/local/lib/python3.6/dist-packages (from tensorboard<1.16.0,>=1.15.0->tensorflow==1.15) (1.0.1)\n",
            "Requirement already satisfied: setuptools>=41.0.0 in /usr/local/lib/python3.6/dist-packages (from tensorboard<1.16.0,>=1.15.0->tensorflow==1.15) (50.3.2)\n",
            "Requirement already satisfied: importlib-metadata; python_version < \"3.8\" in /usr/local/lib/python3.6/dist-packages (from markdown>=2.6.8->tensorboard<1.16.0,>=1.15.0->tensorflow==1.15) (3.3.0)\n",
            "Requirement already satisfied: typing-extensions>=3.6.4; python_version < \"3.8\" in /usr/local/lib/python3.6/dist-packages (from importlib-metadata; python_version < \"3.8\"->markdown>=2.6.8->tensorboard<1.16.0,>=1.15.0->tensorflow==1.15) (3.7.4.3)\n",
            "Requirement already satisfied: zipp>=0.5 in /usr/local/lib/python3.6/dist-packages (from importlib-metadata; python_version < \"3.8\"->markdown>=2.6.8->tensorboard<1.16.0,>=1.15.0->tensorflow==1.15) (3.4.0)\n",
            "Building wheels for collected packages: gast\n",
            "  Building wheel for gast (setup.py) ... \u001b[?25l\u001b[?25hdone\n",
            "  Created wheel for gast: filename=gast-0.2.2-cp36-none-any.whl size=7540 sha256=8ea53d5a62d8ad1644627734e18eefa3fed5fd8efd83538385e1f8783a786296\n",
            "  Stored in directory: /root/.cache/pip/wheels/5c/2e/7e/a1d4d4fcebe6c381f378ce7743a3ced3699feb89bcfbdadadd\n",
            "Successfully built gast\n",
            "\u001b[31mERROR: tensorflow-probability 0.11.0 has requirement gast>=0.3.2, but you'll have gast 0.2.2 which is incompatible.\u001b[0m\n",
            "Installing collected packages: gast, tensorflow-estimator, keras-applications, tensorboard, tensorflow\n",
            "  Found existing installation: gast 0.3.3\n",
            "    Uninstalling gast-0.3.3:\n",
            "      Successfully uninstalled gast-0.3.3\n",
            "  Found existing installation: tensorflow-estimator 2.4.0\n",
            "    Uninstalling tensorflow-estimator-2.4.0:\n",
            "      Successfully uninstalled tensorflow-estimator-2.4.0\n",
            "  Found existing installation: tensorboard 2.4.0\n",
            "    Uninstalling tensorboard-2.4.0:\n",
            "      Successfully uninstalled tensorboard-2.4.0\n",
            "Successfully installed gast-0.2.2 keras-applications-1.0.8 tensorboard-1.15.0 tensorflow-1.15.0 tensorflow-estimator-1.15.1\n"
          ],
          "name": "stdout"
        }
      ]
    },
    {
      "cell_type": "code",
      "metadata": {
        "colab": {
          "base_uri": "https://localhost:8080/"
        },
        "id": "L-ly9IIH2e6T",
        "outputId": "12cc4c5c-25ef-4340-a27d-7ee397a6fd26"
      },
      "source": [
        "import tensorflow as tf\r\n",
        "from tensorflow.examples.tutorials.mnist import input_data\r\n",
        "import numpy as np\r\n",
        "from datetime import datetime\r\n",
        "\r\n",
        "mnist = input_data.read_data_sets(\"MNIST_data/\", one_hot=True)\r\n",
        "\r\n",
        "print(\"\")\r\n",
        "print(\"train.num = \", mnist.train.num_examples,\r\n",
        "      \", test.num = \", mnist.test.num_examples,\r\n",
        "      \", validation.num = \", mnist.validation.num_examples)"
      ],
      "execution_count": 12,
      "outputs": [
        {
          "output_type": "stream",
          "text": [
            "Extracting MNIST_data/train-images-idx3-ubyte.gz\n",
            "Extracting MNIST_data/train-labels-idx1-ubyte.gz\n",
            "Extracting MNIST_data/t10k-images-idx3-ubyte.gz\n",
            "Extracting MNIST_data/t10k-labels-idx1-ubyte.gz\n",
            "\n",
            "train.num =  55000 , test.num =  10000 , validation.num =  5000\n"
          ],
          "name": "stdout"
        }
      ]
    },
    {
      "cell_type": "code",
      "metadata": {
        "id": "oOwDKp3W-7qf"
      },
      "source": [
        "#hyper_parameter\r\n",
        "\r\n",
        "learning_rate = 0.001\r\n",
        "epochs = 30\r\n",
        "batch_size = 100\r\n",
        "\r\n",
        "i_nodes = mnist.train.images.shape[1]\r\n",
        "o_nodes = mnist.train.labels.shape[1]\r\n",
        "\r\n",
        "X = tf.placeholder(tf.float32, [None,i_nodes])\r\n",
        "T = tf.placeholder(tf.float32, [None,o_nodes])\r\n",
        "\r\n",
        "A1 = tf.reshape(X, [-1,28,28,1]) #image 28 X 28 X 1(color)"
      ],
      "execution_count": 14,
      "outputs": []
    },
    {
      "cell_type": "code",
      "metadata": {
        "id": "9hrpiIQ_BYLN"
      },
      "source": [
        "#컨볼루션층1, 3X3X32 필터\r\n",
        "W2 = tf.Variable(tf.random_normal([3,3,1,32], stddev=0.01))\r\n",
        "b2 = tf.Variable(tf.random_normal([32]))\r\n",
        "\r\n",
        "#28 X 28 X 32\r\n",
        "C2 = tf.nn.conv2d(A1, W2, strides=[1,1,1,1], padding='SAME')\r\n",
        "\r\n",
        "Z2 = tf.nn.relu(C2+b2)\r\n",
        "\r\n",
        "#14 X 14 X 32\r\n",
        "A2 = tf.nn.max_pool(Z2, ksize=[1,2,2,1], strides=[1,2,2,1], padding='SAME')\r\n",
        "\r\n",
        "A2_flat = tf.reshape(A2, [-1, 14*14*32])"
      ],
      "execution_count": 17,
      "outputs": []
    },
    {
      "cell_type": "code",
      "metadata": {
        "id": "bIJBXMOiCaPT"
      },
      "source": [
        "W3 = tf.Variable(tf.random_normal([14*14*32, 10], stddev=0.01))\r\n",
        "b3 = tf.Variable(tf.random_normal([10]))\r\n",
        "\r\n",
        "Z3 = tf.matmul(A2_flat,W3) + b3\r\n",
        "\r\n",
        "y = tf.nn.softmax(Z3)"
      ],
      "execution_count": 19,
      "outputs": []
    },
    {
      "cell_type": "code",
      "metadata": {
        "id": "cpan9wA4C9Xs"
      },
      "source": [
        "loss = tf.reduce_mean(tf.nn.softmax_cross_entropy_with_logits_v2(logits=Z3, labels=T))\r\n",
        "\r\n",
        "optimizer = tf.train.AdamOptimizer(learning_rate)\r\n",
        "\r\n",
        "train = optimizer.minimize(loss)"
      ],
      "execution_count": 20,
      "outputs": []
    },
    {
      "cell_type": "code",
      "metadata": {
        "id": "FXDUq5oRDQCQ"
      },
      "source": [
        "predicted_val = tf.cast(tf.equal(tf.argmax(y,1), tf.argmax(T,1)), dtype=tf.float32)\r\n",
        "\r\n",
        "accuracy = tf.reduce_mean(predicted_val)"
      ],
      "execution_count": 22,
      "outputs": []
    },
    {
      "cell_type": "code",
      "metadata": {
        "colab": {
          "base_uri": "https://localhost:8080/"
        },
        "id": "llQCKt7ZDifD",
        "outputId": "cd07a214-d66b-42c6-9647-d0ebb6aac37f"
      },
      "source": [
        "with tf.Session() as sess:\r\n",
        "\r\n",
        "    sess.run(tf.global_variables_initializer())\r\n",
        "\r\n",
        "    start_time = datetime.now()\r\n",
        "\r\n",
        "    for i in range(epochs):\r\n",
        "\r\n",
        "        total_batch = int(mnist.train.num_examples / batch_size)\r\n",
        "\r\n",
        "        for step in range(total_batch):\r\n",
        "\r\n",
        "            batch_x_data, batch_t_data = mnist.train.next_batch(batch_size)\r\n",
        "\r\n",
        "            loss_val, _ = sess.run([loss, train], feed_dict={X: batch_x_data, T: batch_t_data})\r\n",
        "\r\n",
        "            if step % 100 == 0:\r\n",
        "                print(\"epochs = \", i, \", step = \", step, \", loss value = \", loss_val)\r\n",
        "\r\n",
        "    end_time = datetime.now()\r\n",
        "\r\n",
        "    print(\"\\nElapsed time = \", end_time - start_time)\r\n",
        "\r\n",
        "    test_x_data = mnist.test.images\r\n",
        "    test_t_data = mnist.test.labels\r\n",
        "\r\n",
        "    accuracy_val = sess.run(accuracy, feed_dict={X: test_x_data, T: test_t_data})\r\n",
        "\r\n",
        "    print(\"\\nAccuracy = \", accuracy_val)\r\n"
      ],
      "execution_count": 23,
      "outputs": [
        {
          "output_type": "stream",
          "text": [
            "epochs =  0 , step =  0 , loss value =  2.8650248\n",
            "epochs =  0 , step =  100 , loss value =  1.815392\n",
            "epochs =  0 , step =  200 , loss value =  0.6366283\n",
            "epochs =  0 , step =  300 , loss value =  0.61862963\n",
            "epochs =  0 , step =  400 , loss value =  0.44295457\n",
            "epochs =  0 , step =  500 , loss value =  0.3816613\n",
            "epochs =  1 , step =  0 , loss value =  0.36100745\n",
            "epochs =  1 , step =  100 , loss value =  0.36947384\n",
            "epochs =  1 , step =  200 , loss value =  0.54065627\n",
            "epochs =  1 , step =  300 , loss value =  0.40521434\n",
            "epochs =  1 , step =  400 , loss value =  0.37382385\n",
            "epochs =  1 , step =  500 , loss value =  0.49307024\n",
            "epochs =  2 , step =  0 , loss value =  0.30342677\n",
            "epochs =  2 , step =  100 , loss value =  0.45113605\n",
            "epochs =  2 , step =  200 , loss value =  0.30152798\n",
            "epochs =  2 , step =  300 , loss value =  0.4167991\n",
            "epochs =  2 , step =  400 , loss value =  0.28647086\n",
            "epochs =  2 , step =  500 , loss value =  0.4403656\n",
            "epochs =  3 , step =  0 , loss value =  0.30358836\n",
            "epochs =  3 , step =  100 , loss value =  0.25446534\n",
            "epochs =  3 , step =  200 , loss value =  0.39890537\n",
            "epochs =  3 , step =  300 , loss value =  0.18787661\n",
            "epochs =  3 , step =  400 , loss value =  0.57036406\n",
            "epochs =  3 , step =  500 , loss value =  0.6614589\n",
            "epochs =  4 , step =  0 , loss value =  0.30564612\n",
            "epochs =  4 , step =  100 , loss value =  0.47559556\n",
            "epochs =  4 , step =  200 , loss value =  0.24411161\n",
            "epochs =  4 , step =  300 , loss value =  0.30878118\n",
            "epochs =  4 , step =  400 , loss value =  0.36160168\n",
            "epochs =  4 , step =  500 , loss value =  0.1321197\n",
            "epochs =  5 , step =  0 , loss value =  0.2813536\n",
            "epochs =  5 , step =  100 , loss value =  0.3127373\n",
            "epochs =  5 , step =  200 , loss value =  0.28341812\n",
            "epochs =  5 , step =  300 , loss value =  0.21646\n",
            "epochs =  5 , step =  400 , loss value =  0.21328263\n",
            "epochs =  5 , step =  500 , loss value =  0.054055534\n",
            "epochs =  6 , step =  0 , loss value =  0.22566332\n",
            "epochs =  6 , step =  100 , loss value =  0.17401886\n",
            "epochs =  6 , step =  200 , loss value =  0.20463476\n",
            "epochs =  6 , step =  300 , loss value =  0.33789012\n",
            "epochs =  6 , step =  400 , loss value =  0.27328196\n",
            "epochs =  6 , step =  500 , loss value =  0.17062567\n",
            "epochs =  7 , step =  0 , loss value =  0.17002676\n",
            "epochs =  7 , step =  100 , loss value =  0.19490826\n",
            "epochs =  7 , step =  200 , loss value =  0.15698972\n",
            "epochs =  7 , step =  300 , loss value =  0.16711107\n",
            "epochs =  7 , step =  400 , loss value =  0.09721047\n",
            "epochs =  7 , step =  500 , loss value =  0.055905186\n",
            "epochs =  8 , step =  0 , loss value =  0.23465282\n",
            "epochs =  8 , step =  100 , loss value =  0.085434675\n",
            "epochs =  8 , step =  200 , loss value =  0.119792834\n",
            "epochs =  8 , step =  300 , loss value =  0.11329836\n",
            "epochs =  8 , step =  400 , loss value =  0.050851822\n",
            "epochs =  8 , step =  500 , loss value =  0.14903308\n",
            "epochs =  9 , step =  0 , loss value =  0.084865436\n",
            "epochs =  9 , step =  100 , loss value =  0.21427514\n",
            "epochs =  9 , step =  200 , loss value =  0.13160864\n",
            "epochs =  9 , step =  300 , loss value =  0.086526364\n",
            "epochs =  9 , step =  400 , loss value =  0.10736919\n",
            "epochs =  9 , step =  500 , loss value =  0.137708\n",
            "epochs =  10 , step =  0 , loss value =  0.071199924\n",
            "epochs =  10 , step =  100 , loss value =  0.16450861\n",
            "epochs =  10 , step =  200 , loss value =  0.21539314\n",
            "epochs =  10 , step =  300 , loss value =  0.20586729\n",
            "epochs =  10 , step =  400 , loss value =  0.1340755\n",
            "epochs =  10 , step =  500 , loss value =  0.18965147\n",
            "epochs =  11 , step =  0 , loss value =  0.08658434\n",
            "epochs =  11 , step =  100 , loss value =  0.11376191\n",
            "epochs =  11 , step =  200 , loss value =  0.12265108\n",
            "epochs =  11 , step =  300 , loss value =  0.07619172\n",
            "epochs =  11 , step =  400 , loss value =  0.115902804\n",
            "epochs =  11 , step =  500 , loss value =  0.07969618\n",
            "epochs =  12 , step =  0 , loss value =  0.03625824\n",
            "epochs =  12 , step =  100 , loss value =  0.13285176\n",
            "epochs =  12 , step =  200 , loss value =  0.0747918\n",
            "epochs =  12 , step =  300 , loss value =  0.09450098\n",
            "epochs =  12 , step =  400 , loss value =  0.022688026\n",
            "epochs =  12 , step =  500 , loss value =  0.037281968\n",
            "epochs =  13 , step =  0 , loss value =  0.11826838\n",
            "epochs =  13 , step =  100 , loss value =  0.15857546\n",
            "epochs =  13 , step =  200 , loss value =  0.22009619\n",
            "epochs =  13 , step =  300 , loss value =  0.07914479\n",
            "epochs =  13 , step =  400 , loss value =  0.048814222\n",
            "epochs =  13 , step =  500 , loss value =  0.07692264\n",
            "epochs =  14 , step =  0 , loss value =  0.15099491\n",
            "epochs =  14 , step =  100 , loss value =  0.100491196\n",
            "epochs =  14 , step =  200 , loss value =  0.08288509\n",
            "epochs =  14 , step =  300 , loss value =  0.07945251\n",
            "epochs =  14 , step =  400 , loss value =  0.14197107\n",
            "epochs =  14 , step =  500 , loss value =  0.12261781\n",
            "epochs =  15 , step =  0 , loss value =  0.05095444\n",
            "epochs =  15 , step =  100 , loss value =  0.048464593\n",
            "epochs =  15 , step =  200 , loss value =  0.054369096\n",
            "epochs =  15 , step =  300 , loss value =  0.08932386\n",
            "epochs =  15 , step =  400 , loss value =  0.09466156\n",
            "epochs =  15 , step =  500 , loss value =  0.047436986\n",
            "epochs =  16 , step =  0 , loss value =  0.021259325\n",
            "epochs =  16 , step =  100 , loss value =  0.13698836\n",
            "epochs =  16 , step =  200 , loss value =  0.08578742\n",
            "epochs =  16 , step =  300 , loss value =  0.04487789\n",
            "epochs =  16 , step =  400 , loss value =  0.037242215\n",
            "epochs =  16 , step =  500 , loss value =  0.042329613\n",
            "epochs =  17 , step =  0 , loss value =  0.02351756\n",
            "epochs =  17 , step =  100 , loss value =  0.13314164\n",
            "epochs =  17 , step =  200 , loss value =  0.07311665\n",
            "epochs =  17 , step =  300 , loss value =  0.095202595\n",
            "epochs =  17 , step =  400 , loss value =  0.01404435\n",
            "epochs =  17 , step =  500 , loss value =  0.023970641\n",
            "epochs =  18 , step =  0 , loss value =  0.029459355\n",
            "epochs =  18 , step =  100 , loss value =  0.05382087\n",
            "epochs =  18 , step =  200 , loss value =  0.02742207\n",
            "epochs =  18 , step =  300 , loss value =  0.026033929\n",
            "epochs =  18 , step =  400 , loss value =  0.06905837\n",
            "epochs =  18 , step =  500 , loss value =  0.05061027\n",
            "epochs =  19 , step =  0 , loss value =  0.06951557\n",
            "epochs =  19 , step =  100 , loss value =  0.0790528\n",
            "epochs =  19 , step =  200 , loss value =  0.06925133\n",
            "epochs =  19 , step =  300 , loss value =  0.0647217\n",
            "epochs =  19 , step =  400 , loss value =  0.06651401\n",
            "epochs =  19 , step =  500 , loss value =  0.1231204\n",
            "epochs =  20 , step =  0 , loss value =  0.10149807\n",
            "epochs =  20 , step =  100 , loss value =  0.12326083\n",
            "epochs =  20 , step =  200 , loss value =  0.047087196\n",
            "epochs =  20 , step =  300 , loss value =  0.049759887\n",
            "epochs =  20 , step =  400 , loss value =  0.014857271\n",
            "epochs =  20 , step =  500 , loss value =  0.06573949\n",
            "epochs =  21 , step =  0 , loss value =  0.035082918\n",
            "epochs =  21 , step =  100 , loss value =  0.0133158695\n",
            "epochs =  21 , step =  200 , loss value =  0.04448099\n",
            "epochs =  21 , step =  300 , loss value =  0.039742183\n",
            "epochs =  21 , step =  400 , loss value =  0.0147058675\n",
            "epochs =  21 , step =  500 , loss value =  0.14042501\n",
            "epochs =  22 , step =  0 , loss value =  0.0756957\n",
            "epochs =  22 , step =  100 , loss value =  0.02489455\n",
            "epochs =  22 , step =  200 , loss value =  0.02469531\n",
            "epochs =  22 , step =  300 , loss value =  0.061215844\n",
            "epochs =  22 , step =  400 , loss value =  0.010079213\n",
            "epochs =  22 , step =  500 , loss value =  0.039469935\n",
            "epochs =  23 , step =  0 , loss value =  0.073913306\n",
            "epochs =  23 , step =  100 , loss value =  0.013093025\n",
            "epochs =  23 , step =  200 , loss value =  0.034307018\n",
            "epochs =  23 , step =  300 , loss value =  0.013524768\n",
            "epochs =  23 , step =  400 , loss value =  0.041772276\n",
            "epochs =  23 , step =  500 , loss value =  0.014347523\n",
            "epochs =  24 , step =  0 , loss value =  0.013051155\n",
            "epochs =  24 , step =  100 , loss value =  0.015238352\n",
            "epochs =  24 , step =  200 , loss value =  0.04389366\n",
            "epochs =  24 , step =  300 , loss value =  0.030865388\n",
            "epochs =  24 , step =  400 , loss value =  0.06922048\n",
            "epochs =  24 , step =  500 , loss value =  0.05418076\n",
            "epochs =  25 , step =  0 , loss value =  0.0182654\n",
            "epochs =  25 , step =  100 , loss value =  0.04007878\n",
            "epochs =  25 , step =  200 , loss value =  0.023039622\n",
            "epochs =  25 , step =  300 , loss value =  0.02120664\n",
            "epochs =  25 , step =  400 , loss value =  0.020309312\n",
            "epochs =  25 , step =  500 , loss value =  0.020428162\n",
            "epochs =  26 , step =  0 , loss value =  0.11981905\n",
            "epochs =  26 , step =  100 , loss value =  0.06493751\n",
            "epochs =  26 , step =  200 , loss value =  0.01731342\n",
            "epochs =  26 , step =  300 , loss value =  0.023069853\n",
            "epochs =  26 , step =  400 , loss value =  0.035375867\n",
            "epochs =  26 , step =  500 , loss value =  0.050182752\n",
            "epochs =  27 , step =  0 , loss value =  0.028264182\n",
            "epochs =  27 , step =  100 , loss value =  0.017409356\n",
            "epochs =  27 , step =  200 , loss value =  0.0041143782\n",
            "epochs =  27 , step =  300 , loss value =  0.0037456728\n",
            "epochs =  27 , step =  400 , loss value =  0.021504886\n",
            "epochs =  27 , step =  500 , loss value =  0.05189435\n",
            "epochs =  28 , step =  0 , loss value =  0.033140816\n",
            "epochs =  28 , step =  100 , loss value =  0.01444608\n",
            "epochs =  28 , step =  200 , loss value =  0.019070908\n",
            "epochs =  28 , step =  300 , loss value =  0.012784188\n",
            "epochs =  28 , step =  400 , loss value =  0.009446807\n",
            "epochs =  28 , step =  500 , loss value =  0.049858898\n",
            "epochs =  29 , step =  0 , loss value =  0.010965425\n",
            "epochs =  29 , step =  100 , loss value =  0.015449134\n",
            "epochs =  29 , step =  200 , loss value =  0.054870404\n",
            "epochs =  29 , step =  300 , loss value =  0.007254722\n",
            "epochs =  29 , step =  400 , loss value =  0.01366732\n",
            "epochs =  29 , step =  500 , loss value =  0.011959575\n",
            "\n",
            "Elapsed time =  0:09:56.337922\n",
            "\n",
            "Accuracy =  0.9782\n"
          ],
          "name": "stdout"
        }
      ]
    },
    {
      "cell_type": "code",
      "metadata": {
        "id": "4ocLm-OYEfPE"
      },
      "source": [
        ""
      ],
      "execution_count": null,
      "outputs": []
    }
  ]
}