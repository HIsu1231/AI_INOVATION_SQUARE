{
  "nbformat": 4,
  "nbformat_minor": 0,
  "metadata": {
    "colab": {
      "name": "Kaggle_Titanic_2.ipynb",
      "provenance": [],
      "mount_file_id": "1YykfBKVBzCNjR4PYURmLxx0VamAXgp1w",
      "authorship_tag": "ABX9TyMQkYbSgCWtUGlqMEIO9W+A",
      "include_colab_link": true
    },
    "kernelspec": {
      "name": "python3",
      "display_name": "Python 3"
    }
  },
  "cells": [
    {
      "cell_type": "markdown",
      "metadata": {
        "id": "view-in-github",
        "colab_type": "text"
      },
      "source": [
        "<a href=\"https://colab.research.google.com/github/HIsu1231/AI_INOVATION_SQUARE/blob/master/Kaggle_Titanic_2.ipynb\" target=\"_parent\"><img src=\"https://colab.research.google.com/assets/colab-badge.svg\" alt=\"Open In Colab\"/></a>"
      ]
    },
    {
      "cell_type": "code",
      "metadata": {
        "id": "JmFEinfTPtbW"
      },
      "source": [
        "import pandas as pd\r\n",
        "import numpy as np\r\n",
        "import matplotlib.pyplot as plt\r\n",
        "from datetime import datetime"
      ],
      "execution_count": 27,
      "outputs": []
    },
    {
      "cell_type": "code",
      "metadata": {
        "id": "gVmd9NCcP66z"
      },
      "source": [
        "train_df = pd.read_csv('./drive/MyDrive/AI_INOVATION_SQUARE/data/titanic_data/train.csv')\r\n",
        "test_df = pd.read_csv('./drive/MyDrive/AI_INOVATION_SQUARE/data/titanic_data/test.csv')\r\n",
        "test_sub_df = pd.read_csv('./drive/MyDrive/AI_INOVATION_SQUARE/data/titanic_data/gender_submission.csv')"
      ],
      "execution_count": 28,
      "outputs": []
    },
    {
      "cell_type": "markdown",
      "metadata": {
        "id": "laFu3r5LQRKA"
      },
      "source": [
        "###DataFrame 확인"
      ]
    },
    {
      "cell_type": "code",
      "metadata": {
        "colab": {
          "base_uri": "https://localhost:8080/",
          "height": 484
        },
        "id": "AmG3C2679LQi",
        "outputId": "301cc18e-4b43-4742-ca7a-e0d36ef8428e"
      },
      "source": [
        "train_df.head()"
      ],
      "execution_count": 29,
      "outputs": [
        {
          "output_type": "execute_result",
          "data": {
            "text/html": [
              "<div>\n",
              "<style scoped>\n",
              "    .dataframe tbody tr th:only-of-type {\n",
              "        vertical-align: middle;\n",
              "    }\n",
              "\n",
              "    .dataframe tbody tr th {\n",
              "        vertical-align: top;\n",
              "    }\n",
              "\n",
              "    .dataframe thead th {\n",
              "        text-align: right;\n",
              "    }\n",
              "</style>\n",
              "<table border=\"1\" class=\"dataframe\">\n",
              "  <thead>\n",
              "    <tr style=\"text-align: right;\">\n",
              "      <th></th>\n",
              "      <th>PassengerId</th>\n",
              "      <th>Survived</th>\n",
              "      <th>Pclass</th>\n",
              "      <th>Name</th>\n",
              "      <th>Sex</th>\n",
              "      <th>Age</th>\n",
              "      <th>SibSp</th>\n",
              "      <th>Parch</th>\n",
              "      <th>Ticket</th>\n",
              "      <th>Fare</th>\n",
              "      <th>Cabin</th>\n",
              "      <th>Embarked</th>\n",
              "    </tr>\n",
              "  </thead>\n",
              "  <tbody>\n",
              "    <tr>\n",
              "      <th>0</th>\n",
              "      <td>1</td>\n",
              "      <td>0</td>\n",
              "      <td>3</td>\n",
              "      <td>Braund, Mr. Owen Harris</td>\n",
              "      <td>male</td>\n",
              "      <td>22.0</td>\n",
              "      <td>1</td>\n",
              "      <td>0</td>\n",
              "      <td>A/5 21171</td>\n",
              "      <td>7.2500</td>\n",
              "      <td>NaN</td>\n",
              "      <td>S</td>\n",
              "    </tr>\n",
              "    <tr>\n",
              "      <th>1</th>\n",
              "      <td>2</td>\n",
              "      <td>1</td>\n",
              "      <td>1</td>\n",
              "      <td>Cumings, Mrs. John Bradley (Florence Briggs Th...</td>\n",
              "      <td>female</td>\n",
              "      <td>38.0</td>\n",
              "      <td>1</td>\n",
              "      <td>0</td>\n",
              "      <td>PC 17599</td>\n",
              "      <td>71.2833</td>\n",
              "      <td>C85</td>\n",
              "      <td>C</td>\n",
              "    </tr>\n",
              "    <tr>\n",
              "      <th>2</th>\n",
              "      <td>3</td>\n",
              "      <td>1</td>\n",
              "      <td>3</td>\n",
              "      <td>Heikkinen, Miss. Laina</td>\n",
              "      <td>female</td>\n",
              "      <td>26.0</td>\n",
              "      <td>0</td>\n",
              "      <td>0</td>\n",
              "      <td>STON/O2. 3101282</td>\n",
              "      <td>7.9250</td>\n",
              "      <td>NaN</td>\n",
              "      <td>S</td>\n",
              "    </tr>\n",
              "    <tr>\n",
              "      <th>3</th>\n",
              "      <td>4</td>\n",
              "      <td>1</td>\n",
              "      <td>1</td>\n",
              "      <td>Futrelle, Mrs. Jacques Heath (Lily May Peel)</td>\n",
              "      <td>female</td>\n",
              "      <td>35.0</td>\n",
              "      <td>1</td>\n",
              "      <td>0</td>\n",
              "      <td>113803</td>\n",
              "      <td>53.1000</td>\n",
              "      <td>C123</td>\n",
              "      <td>S</td>\n",
              "    </tr>\n",
              "    <tr>\n",
              "      <th>4</th>\n",
              "      <td>5</td>\n",
              "      <td>0</td>\n",
              "      <td>3</td>\n",
              "      <td>Allen, Mr. William Henry</td>\n",
              "      <td>male</td>\n",
              "      <td>35.0</td>\n",
              "      <td>0</td>\n",
              "      <td>0</td>\n",
              "      <td>373450</td>\n",
              "      <td>8.0500</td>\n",
              "      <td>NaN</td>\n",
              "      <td>S</td>\n",
              "    </tr>\n",
              "  </tbody>\n",
              "</table>\n",
              "</div>"
            ],
            "text/plain": [
              "   PassengerId  Survived  Pclass  ...     Fare Cabin  Embarked\n",
              "0            1         0       3  ...   7.2500   NaN         S\n",
              "1            2         1       1  ...  71.2833   C85         C\n",
              "2            3         1       3  ...   7.9250   NaN         S\n",
              "3            4         1       1  ...  53.1000  C123         S\n",
              "4            5         0       3  ...   8.0500   NaN         S\n",
              "\n",
              "[5 rows x 12 columns]"
            ]
          },
          "metadata": {
            "tags": []
          },
          "execution_count": 29
        }
      ]
    },
    {
      "cell_type": "code",
      "metadata": {
        "colab": {
          "base_uri": "https://localhost:8080/",
          "height": 434
        },
        "id": "Fr3pgR_b9OgO",
        "outputId": "6f41c219-93b3-4a75-f5f0-cc65e5bd1ffb"
      },
      "source": [
        "test_df.head()"
      ],
      "execution_count": 30,
      "outputs": [
        {
          "output_type": "execute_result",
          "data": {
            "text/html": [
              "<div>\n",
              "<style scoped>\n",
              "    .dataframe tbody tr th:only-of-type {\n",
              "        vertical-align: middle;\n",
              "    }\n",
              "\n",
              "    .dataframe tbody tr th {\n",
              "        vertical-align: top;\n",
              "    }\n",
              "\n",
              "    .dataframe thead th {\n",
              "        text-align: right;\n",
              "    }\n",
              "</style>\n",
              "<table border=\"1\" class=\"dataframe\">\n",
              "  <thead>\n",
              "    <tr style=\"text-align: right;\">\n",
              "      <th></th>\n",
              "      <th>PassengerId</th>\n",
              "      <th>Pclass</th>\n",
              "      <th>Name</th>\n",
              "      <th>Sex</th>\n",
              "      <th>Age</th>\n",
              "      <th>SibSp</th>\n",
              "      <th>Parch</th>\n",
              "      <th>Ticket</th>\n",
              "      <th>Fare</th>\n",
              "      <th>Cabin</th>\n",
              "      <th>Embarked</th>\n",
              "    </tr>\n",
              "  </thead>\n",
              "  <tbody>\n",
              "    <tr>\n",
              "      <th>0</th>\n",
              "      <td>892</td>\n",
              "      <td>3</td>\n",
              "      <td>Kelly, Mr. James</td>\n",
              "      <td>male</td>\n",
              "      <td>34.5</td>\n",
              "      <td>0</td>\n",
              "      <td>0</td>\n",
              "      <td>330911</td>\n",
              "      <td>7.8292</td>\n",
              "      <td>NaN</td>\n",
              "      <td>Q</td>\n",
              "    </tr>\n",
              "    <tr>\n",
              "      <th>1</th>\n",
              "      <td>893</td>\n",
              "      <td>3</td>\n",
              "      <td>Wilkes, Mrs. James (Ellen Needs)</td>\n",
              "      <td>female</td>\n",
              "      <td>47.0</td>\n",
              "      <td>1</td>\n",
              "      <td>0</td>\n",
              "      <td>363272</td>\n",
              "      <td>7.0000</td>\n",
              "      <td>NaN</td>\n",
              "      <td>S</td>\n",
              "    </tr>\n",
              "    <tr>\n",
              "      <th>2</th>\n",
              "      <td>894</td>\n",
              "      <td>2</td>\n",
              "      <td>Myles, Mr. Thomas Francis</td>\n",
              "      <td>male</td>\n",
              "      <td>62.0</td>\n",
              "      <td>0</td>\n",
              "      <td>0</td>\n",
              "      <td>240276</td>\n",
              "      <td>9.6875</td>\n",
              "      <td>NaN</td>\n",
              "      <td>Q</td>\n",
              "    </tr>\n",
              "    <tr>\n",
              "      <th>3</th>\n",
              "      <td>895</td>\n",
              "      <td>3</td>\n",
              "      <td>Wirz, Mr. Albert</td>\n",
              "      <td>male</td>\n",
              "      <td>27.0</td>\n",
              "      <td>0</td>\n",
              "      <td>0</td>\n",
              "      <td>315154</td>\n",
              "      <td>8.6625</td>\n",
              "      <td>NaN</td>\n",
              "      <td>S</td>\n",
              "    </tr>\n",
              "    <tr>\n",
              "      <th>4</th>\n",
              "      <td>896</td>\n",
              "      <td>3</td>\n",
              "      <td>Hirvonen, Mrs. Alexander (Helga E Lindqvist)</td>\n",
              "      <td>female</td>\n",
              "      <td>22.0</td>\n",
              "      <td>1</td>\n",
              "      <td>1</td>\n",
              "      <td>3101298</td>\n",
              "      <td>12.2875</td>\n",
              "      <td>NaN</td>\n",
              "      <td>S</td>\n",
              "    </tr>\n",
              "  </tbody>\n",
              "</table>\n",
              "</div>"
            ],
            "text/plain": [
              "   PassengerId  Pclass  ... Cabin Embarked\n",
              "0          892       3  ...   NaN        Q\n",
              "1          893       3  ...   NaN        S\n",
              "2          894       2  ...   NaN        Q\n",
              "3          895       3  ...   NaN        S\n",
              "4          896       3  ...   NaN        S\n",
              "\n",
              "[5 rows x 11 columns]"
            ]
          },
          "metadata": {
            "tags": []
          },
          "execution_count": 30
        }
      ]
    },
    {
      "cell_type": "code",
      "metadata": {
        "colab": {
          "base_uri": "https://localhost:8080/",
          "height": 196
        },
        "id": "yFcqZ9qJ9nPb",
        "outputId": "65a215ec-1263-4574-a1ed-ec03a75d1314"
      },
      "source": [
        "test_sub_df.head()"
      ],
      "execution_count": 31,
      "outputs": [
        {
          "output_type": "execute_result",
          "data": {
            "text/html": [
              "<div>\n",
              "<style scoped>\n",
              "    .dataframe tbody tr th:only-of-type {\n",
              "        vertical-align: middle;\n",
              "    }\n",
              "\n",
              "    .dataframe tbody tr th {\n",
              "        vertical-align: top;\n",
              "    }\n",
              "\n",
              "    .dataframe thead th {\n",
              "        text-align: right;\n",
              "    }\n",
              "</style>\n",
              "<table border=\"1\" class=\"dataframe\">\n",
              "  <thead>\n",
              "    <tr style=\"text-align: right;\">\n",
              "      <th></th>\n",
              "      <th>PassengerId</th>\n",
              "      <th>Survived</th>\n",
              "    </tr>\n",
              "  </thead>\n",
              "  <tbody>\n",
              "    <tr>\n",
              "      <th>0</th>\n",
              "      <td>892</td>\n",
              "      <td>0</td>\n",
              "    </tr>\n",
              "    <tr>\n",
              "      <th>1</th>\n",
              "      <td>893</td>\n",
              "      <td>1</td>\n",
              "    </tr>\n",
              "    <tr>\n",
              "      <th>2</th>\n",
              "      <td>894</td>\n",
              "      <td>0</td>\n",
              "    </tr>\n",
              "    <tr>\n",
              "      <th>3</th>\n",
              "      <td>895</td>\n",
              "      <td>0</td>\n",
              "    </tr>\n",
              "    <tr>\n",
              "      <th>4</th>\n",
              "      <td>896</td>\n",
              "      <td>1</td>\n",
              "    </tr>\n",
              "  </tbody>\n",
              "</table>\n",
              "</div>"
            ],
            "text/plain": [
              "   PassengerId  Survived\n",
              "0          892         0\n",
              "1          893         1\n",
              "2          894         0\n",
              "3          895         0\n",
              "4          896         1"
            ]
          },
          "metadata": {
            "tags": []
          },
          "execution_count": 31
        }
      ]
    },
    {
      "cell_type": "markdown",
      "metadata": {
        "id": "B6WnnbFuQXib"
      },
      "source": [
        "###test 데이터에 정답 데이터(test_sub_df) 합치기"
      ]
    },
    {
      "cell_type": "code",
      "metadata": {
        "colab": {
          "base_uri": "https://localhost:8080/",
          "height": 196
        },
        "id": "67Xwc8Xg9RiN",
        "outputId": "93e5cc4f-d629-484a-f1bf-ada5a4618d16"
      },
      "source": [
        "test_df['Survived'] = test_sub_df['Survived']\r\n",
        "\r\n",
        "test_df = test_df[['PassengerId', 'Survived', 'Pclass', 'Name', 'Sex' ,'Age', 'SibSp', 'Parch', 'Ticket', 'Fare', 'Embarked']]\r\n",
        "\r\n",
        "test_df.head()"
      ],
      "execution_count": 32,
      "outputs": [
        {
          "output_type": "execute_result",
          "data": {
            "text/html": [
              "<div>\n",
              "<style scoped>\n",
              "    .dataframe tbody tr th:only-of-type {\n",
              "        vertical-align: middle;\n",
              "    }\n",
              "\n",
              "    .dataframe tbody tr th {\n",
              "        vertical-align: top;\n",
              "    }\n",
              "\n",
              "    .dataframe thead th {\n",
              "        text-align: right;\n",
              "    }\n",
              "</style>\n",
              "<table border=\"1\" class=\"dataframe\">\n",
              "  <thead>\n",
              "    <tr style=\"text-align: right;\">\n",
              "      <th></th>\n",
              "      <th>PassengerId</th>\n",
              "      <th>Survived</th>\n",
              "      <th>Pclass</th>\n",
              "      <th>Name</th>\n",
              "      <th>Sex</th>\n",
              "      <th>Age</th>\n",
              "      <th>SibSp</th>\n",
              "      <th>Parch</th>\n",
              "      <th>Ticket</th>\n",
              "      <th>Fare</th>\n",
              "      <th>Embarked</th>\n",
              "    </tr>\n",
              "  </thead>\n",
              "  <tbody>\n",
              "    <tr>\n",
              "      <th>0</th>\n",
              "      <td>892</td>\n",
              "      <td>0</td>\n",
              "      <td>3</td>\n",
              "      <td>Kelly, Mr. James</td>\n",
              "      <td>male</td>\n",
              "      <td>34.5</td>\n",
              "      <td>0</td>\n",
              "      <td>0</td>\n",
              "      <td>330911</td>\n",
              "      <td>7.8292</td>\n",
              "      <td>Q</td>\n",
              "    </tr>\n",
              "    <tr>\n",
              "      <th>1</th>\n",
              "      <td>893</td>\n",
              "      <td>1</td>\n",
              "      <td>3</td>\n",
              "      <td>Wilkes, Mrs. James (Ellen Needs)</td>\n",
              "      <td>female</td>\n",
              "      <td>47.0</td>\n",
              "      <td>1</td>\n",
              "      <td>0</td>\n",
              "      <td>363272</td>\n",
              "      <td>7.0000</td>\n",
              "      <td>S</td>\n",
              "    </tr>\n",
              "    <tr>\n",
              "      <th>2</th>\n",
              "      <td>894</td>\n",
              "      <td>0</td>\n",
              "      <td>2</td>\n",
              "      <td>Myles, Mr. Thomas Francis</td>\n",
              "      <td>male</td>\n",
              "      <td>62.0</td>\n",
              "      <td>0</td>\n",
              "      <td>0</td>\n",
              "      <td>240276</td>\n",
              "      <td>9.6875</td>\n",
              "      <td>Q</td>\n",
              "    </tr>\n",
              "    <tr>\n",
              "      <th>3</th>\n",
              "      <td>895</td>\n",
              "      <td>0</td>\n",
              "      <td>3</td>\n",
              "      <td>Wirz, Mr. Albert</td>\n",
              "      <td>male</td>\n",
              "      <td>27.0</td>\n",
              "      <td>0</td>\n",
              "      <td>0</td>\n",
              "      <td>315154</td>\n",
              "      <td>8.6625</td>\n",
              "      <td>S</td>\n",
              "    </tr>\n",
              "    <tr>\n",
              "      <th>4</th>\n",
              "      <td>896</td>\n",
              "      <td>1</td>\n",
              "      <td>3</td>\n",
              "      <td>Hirvonen, Mrs. Alexander (Helga E Lindqvist)</td>\n",
              "      <td>female</td>\n",
              "      <td>22.0</td>\n",
              "      <td>1</td>\n",
              "      <td>1</td>\n",
              "      <td>3101298</td>\n",
              "      <td>12.2875</td>\n",
              "      <td>S</td>\n",
              "    </tr>\n",
              "  </tbody>\n",
              "</table>\n",
              "</div>"
            ],
            "text/plain": [
              "   PassengerId  Survived  Pclass  ...   Ticket     Fare  Embarked\n",
              "0          892         0       3  ...   330911   7.8292         Q\n",
              "1          893         1       3  ...   363272   7.0000         S\n",
              "2          894         0       2  ...   240276   9.6875         Q\n",
              "3          895         0       3  ...   315154   8.6625         S\n",
              "4          896         1       3  ...  3101298  12.2875         S\n",
              "\n",
              "[5 rows x 11 columns]"
            ]
          },
          "metadata": {
            "tags": []
          },
          "execution_count": 32
        }
      ]
    },
    {
      "cell_type": "markdown",
      "metadata": {
        "id": "AO_CD-1-Q3gc"
      },
      "source": [
        "###train 데이터 missing data 처리(dropna())\r\n",
        "\r\n"
      ]
    },
    {
      "cell_type": "code",
      "metadata": {
        "colab": {
          "base_uri": "https://localhost:8080/"
        },
        "id": "WPBcNRJq9vY0",
        "outputId": "cc0f44f2-c810-4bd3-c4d7-9f85c6590638"
      },
      "source": [
        "train_df.isnull().sum()"
      ],
      "execution_count": 33,
      "outputs": [
        {
          "output_type": "execute_result",
          "data": {
            "text/plain": [
              "PassengerId      0\n",
              "Survived         0\n",
              "Pclass           0\n",
              "Name             0\n",
              "Sex              0\n",
              "Age            177\n",
              "SibSp            0\n",
              "Parch            0\n",
              "Ticket           0\n",
              "Fare             0\n",
              "Cabin          687\n",
              "Embarked         2\n",
              "dtype: int64"
            ]
          },
          "metadata": {
            "tags": []
          },
          "execution_count": 33
        }
      ]
    },
    {
      "cell_type": "code",
      "metadata": {
        "id": "ldobN8CvExKp"
      },
      "source": [
        "train_df['Cabin'].fillna('NNN', inplace=True)\r\n",
        "train_df['Embarked'].fillna('NNN', inplace=True)"
      ],
      "execution_count": 34,
      "outputs": []
    },
    {
      "cell_type": "code",
      "metadata": {
        "colab": {
          "base_uri": "https://localhost:8080/"
        },
        "id": "Dznk_xVB9_--",
        "outputId": "933a2d2a-2f85-4a6e-d9d8-8c586bf8376c"
      },
      "source": [
        "train_df = train_df.dropna()\r\n",
        "\r\n",
        "train_df.isnull().sum()"
      ],
      "execution_count": 35,
      "outputs": [
        {
          "output_type": "execute_result",
          "data": {
            "text/plain": [
              "PassengerId    0\n",
              "Survived       0\n",
              "Pclass         0\n",
              "Name           0\n",
              "Sex            0\n",
              "Age            0\n",
              "SibSp          0\n",
              "Parch          0\n",
              "Ticket         0\n",
              "Fare           0\n",
              "Cabin          0\n",
              "Embarked       0\n",
              "dtype: int64"
            ]
          },
          "metadata": {
            "tags": []
          },
          "execution_count": 35
        }
      ]
    },
    {
      "cell_type": "code",
      "metadata": {
        "colab": {
          "base_uri": "https://localhost:8080/"
        },
        "id": "hbnXD_i1FC50",
        "outputId": "7d5f3614-fde3-4eac-fed0-a2850ed469af"
      },
      "source": [
        "len(train_df)"
      ],
      "execution_count": 36,
      "outputs": [
        {
          "output_type": "execute_result",
          "data": {
            "text/plain": [
              "714"
            ]
          },
          "metadata": {
            "tags": []
          },
          "execution_count": 36
        }
      ]
    },
    {
      "cell_type": "markdown",
      "metadata": {
        "id": "VDAnFYi2TTTv"
      },
      "source": [
        "###test 데이터 missing data 처리(dropna())"
      ]
    },
    {
      "cell_type": "code",
      "metadata": {
        "colab": {
          "base_uri": "https://localhost:8080/"
        },
        "id": "wltaBv2L-IFM",
        "outputId": "bf27992f-b760-41f9-a465-c7ba0ba21b26"
      },
      "source": [
        "test_df.isnull().sum()"
      ],
      "execution_count": 37,
      "outputs": [
        {
          "output_type": "execute_result",
          "data": {
            "text/plain": [
              "PassengerId     0\n",
              "Survived        0\n",
              "Pclass          0\n",
              "Name            0\n",
              "Sex             0\n",
              "Age            86\n",
              "SibSp           0\n",
              "Parch           0\n",
              "Ticket          0\n",
              "Fare            1\n",
              "Embarked        0\n",
              "dtype: int64"
            ]
          },
          "metadata": {
            "tags": []
          },
          "execution_count": 37
        }
      ]
    },
    {
      "cell_type": "code",
      "metadata": {
        "colab": {
          "base_uri": "https://localhost:8080/"
        },
        "id": "RH-kfaZ6-H1d",
        "outputId": "bc5dc3e8-443b-481a-f2c4-d4a1b1166328"
      },
      "source": [
        "test_df = test_df.dropna()\r\n",
        "\r\n",
        "test_df.isnull().sum()"
      ],
      "execution_count": 38,
      "outputs": [
        {
          "output_type": "execute_result",
          "data": {
            "text/plain": [
              "PassengerId    0\n",
              "Survived       0\n",
              "Pclass         0\n",
              "Name           0\n",
              "Sex            0\n",
              "Age            0\n",
              "SibSp          0\n",
              "Parch          0\n",
              "Ticket         0\n",
              "Fare           0\n",
              "Embarked       0\n",
              "dtype: int64"
            ]
          },
          "metadata": {
            "tags": []
          },
          "execution_count": 38
        }
      ]
    },
    {
      "cell_type": "code",
      "metadata": {
        "colab": {
          "base_uri": "https://localhost:8080/"
        },
        "id": "A0V1x1aJFJgI",
        "outputId": "0a51cc6e-f078-463f-a347-a28a14c497ec"
      },
      "source": [
        "len(test_df)"
      ],
      "execution_count": 39,
      "outputs": [
        {
          "output_type": "execute_result",
          "data": {
            "text/plain": [
              "331"
            ]
          },
          "metadata": {
            "tags": []
          },
          "execution_count": 39
        }
      ]
    },
    {
      "cell_type": "markdown",
      "metadata": {
        "id": "LzlyyxE2Thif"
      },
      "source": [
        "###딥러닝을 위한 matrix 변환"
      ]
    },
    {
      "cell_type": "code",
      "metadata": {
        "colab": {
          "base_uri": "https://localhost:8080/"
        },
        "id": "vaqGqtmu-PUu",
        "outputId": "112e4dc8-4df7-40f3-e6ab-c73661b978a8"
      },
      "source": [
        "train_csv_data = train_df.values\r\n",
        "test_csv_data = test_df.values\r\n",
        "\r\n",
        "print(type(train_csv_data), train_csv_data.shape)\r\n",
        "print(type(test_csv_data), test_csv_data.shape)"
      ],
      "execution_count": 40,
      "outputs": [
        {
          "output_type": "stream",
          "text": [
            "<class 'numpy.ndarray'> (714, 12)\n",
            "<class 'numpy.ndarray'> (331, 11)\n"
          ],
          "name": "stdout"
        }
      ]
    },
    {
      "cell_type": "markdown",
      "metadata": {
        "id": "933xeqMQTwhJ"
      },
      "source": [
        "###Data Conversion (문자 -> 숫자)"
      ]
    },
    {
      "cell_type": "code",
      "metadata": {
        "id": "1e0ebch4Tsco"
      },
      "source": [
        "#male -> 1, female -> 0\r\n",
        "\r\n",
        "for i in range(len(train_csv_data)):\r\n",
        "    \r\n",
        "    if train_csv_data[i,4] == 'male':\r\n",
        "        train_csv_data[i,4] = 1\r\n",
        "    \r\n",
        "    else:\r\n",
        "        train_csv_data[i,4] = 0\r\n",
        "\r\n",
        "for i in range(len(test_csv_data)):\r\n",
        "\r\n",
        "    if test_csv_data[i,4] == 'male':\r\n",
        "        test_csv_data[i,4] = 1\r\n",
        "    \r\n",
        "    else:\r\n",
        "        test_csv_data[i,4] = 0"
      ],
      "execution_count": 41,
      "outputs": []
    },
    {
      "cell_type": "code",
      "metadata": {
        "id": "CkrAFEzFURAb"
      },
      "source": [
        "#S -> 1, C -> 2, Q -> 3\r\n",
        "\r\n",
        "for i in range(len(train_csv_data)):\r\n",
        "\r\n",
        "    if train_csv_data[i,-1] == 'S':\r\n",
        "        train_csv_data[i,-1] = 1\r\n",
        "    \r\n",
        "    elif train_csv_data[i,-1] == 'C':\r\n",
        "        train_csv_data[i,-1] = 2\r\n",
        "    \r\n",
        "    elif train_csv_data[i,-1] == 'Q':\r\n",
        "        train_csv_data[i,-1] = 3\r\n",
        "\r\n",
        "for i in range(len(test_csv_data)):\r\n",
        "\r\n",
        "    if test_csv_data[i,-1] == 'S':\r\n",
        "        test_csv_data[i,-1] = 1\r\n",
        "    \r\n",
        "    elif test_csv_data[i,-1] == 'C':\r\n",
        "        test_csv_data[i,-1] = 2\r\n",
        "    \r\n",
        "    elif test_csv_data[i,-1] == 'Q':\r\n",
        "        test_csv_data[i,-1] = 3"
      ],
      "execution_count": 42,
      "outputs": []
    },
    {
      "cell_type": "markdown",
      "metadata": {
        "id": "jFhxi8lmU8Oe"
      },
      "source": [
        "###training data 생성"
      ]
    },
    {
      "cell_type": "code",
      "metadata": {
        "colab": {
          "base_uri": "https://localhost:8080/",
          "height": 196
        },
        "id": "-XRhHoGVAF1n",
        "outputId": "4d0bfbc0-0a6e-4ccf-8c3e-1b9f6f745f25"
      },
      "source": [
        "train_df.head()"
      ],
      "execution_count": 43,
      "outputs": [
        {
          "output_type": "execute_result",
          "data": {
            "text/html": [
              "<div>\n",
              "<style scoped>\n",
              "    .dataframe tbody tr th:only-of-type {\n",
              "        vertical-align: middle;\n",
              "    }\n",
              "\n",
              "    .dataframe tbody tr th {\n",
              "        vertical-align: top;\n",
              "    }\n",
              "\n",
              "    .dataframe thead th {\n",
              "        text-align: right;\n",
              "    }\n",
              "</style>\n",
              "<table border=\"1\" class=\"dataframe\">\n",
              "  <thead>\n",
              "    <tr style=\"text-align: right;\">\n",
              "      <th></th>\n",
              "      <th>PassengerId</th>\n",
              "      <th>Survived</th>\n",
              "      <th>Pclass</th>\n",
              "      <th>Name</th>\n",
              "      <th>Sex</th>\n",
              "      <th>Age</th>\n",
              "      <th>SibSp</th>\n",
              "      <th>Parch</th>\n",
              "      <th>Ticket</th>\n",
              "      <th>Fare</th>\n",
              "      <th>Cabin</th>\n",
              "      <th>Embarked</th>\n",
              "    </tr>\n",
              "  </thead>\n",
              "  <tbody>\n",
              "    <tr>\n",
              "      <th>0</th>\n",
              "      <td>1</td>\n",
              "      <td>0</td>\n",
              "      <td>3</td>\n",
              "      <td>Braund, Mr. Owen Harris</td>\n",
              "      <td>male</td>\n",
              "      <td>22.0</td>\n",
              "      <td>1</td>\n",
              "      <td>0</td>\n",
              "      <td>A/5 21171</td>\n",
              "      <td>7.2500</td>\n",
              "      <td>NNN</td>\n",
              "      <td>S</td>\n",
              "    </tr>\n",
              "    <tr>\n",
              "      <th>1</th>\n",
              "      <td>2</td>\n",
              "      <td>1</td>\n",
              "      <td>1</td>\n",
              "      <td>Cumings, Mrs. John Bradley (Florence Briggs Th...</td>\n",
              "      <td>female</td>\n",
              "      <td>38.0</td>\n",
              "      <td>1</td>\n",
              "      <td>0</td>\n",
              "      <td>PC 17599</td>\n",
              "      <td>71.2833</td>\n",
              "      <td>C85</td>\n",
              "      <td>C</td>\n",
              "    </tr>\n",
              "    <tr>\n",
              "      <th>2</th>\n",
              "      <td>3</td>\n",
              "      <td>1</td>\n",
              "      <td>3</td>\n",
              "      <td>Heikkinen, Miss. Laina</td>\n",
              "      <td>female</td>\n",
              "      <td>26.0</td>\n",
              "      <td>0</td>\n",
              "      <td>0</td>\n",
              "      <td>STON/O2. 3101282</td>\n",
              "      <td>7.9250</td>\n",
              "      <td>NNN</td>\n",
              "      <td>S</td>\n",
              "    </tr>\n",
              "    <tr>\n",
              "      <th>3</th>\n",
              "      <td>4</td>\n",
              "      <td>1</td>\n",
              "      <td>1</td>\n",
              "      <td>Futrelle, Mrs. Jacques Heath (Lily May Peel)</td>\n",
              "      <td>female</td>\n",
              "      <td>35.0</td>\n",
              "      <td>1</td>\n",
              "      <td>0</td>\n",
              "      <td>113803</td>\n",
              "      <td>53.1000</td>\n",
              "      <td>C123</td>\n",
              "      <td>S</td>\n",
              "    </tr>\n",
              "    <tr>\n",
              "      <th>4</th>\n",
              "      <td>5</td>\n",
              "      <td>0</td>\n",
              "      <td>3</td>\n",
              "      <td>Allen, Mr. William Henry</td>\n",
              "      <td>male</td>\n",
              "      <td>35.0</td>\n",
              "      <td>0</td>\n",
              "      <td>0</td>\n",
              "      <td>373450</td>\n",
              "      <td>8.0500</td>\n",
              "      <td>NNN</td>\n",
              "      <td>S</td>\n",
              "    </tr>\n",
              "  </tbody>\n",
              "</table>\n",
              "</div>"
            ],
            "text/plain": [
              "   PassengerId  Survived  Pclass  ...     Fare Cabin  Embarked\n",
              "0            1         0       3  ...   7.2500   NNN         S\n",
              "1            2         1       1  ...  71.2833   C85         C\n",
              "2            3         1       3  ...   7.9250   NNN         S\n",
              "3            4         1       1  ...  53.1000  C123         S\n",
              "4            5         0       3  ...   8.0500   NNN         S\n",
              "\n",
              "[5 rows x 12 columns]"
            ]
          },
          "metadata": {
            "tags": []
          },
          "execution_count": 43
        }
      ]
    },
    {
      "cell_type": "code",
      "metadata": {
        "colab": {
          "base_uri": "https://localhost:8080/"
        },
        "id": "ntWcNydqABS-",
        "outputId": "664049ea-b71d-4c6e-d64a-08230fd7fcda"
      },
      "source": [
        "training_input_data = train_csv_data[:, [2, 4,5,6,7,9]].astype('float32')\r\n",
        "training_target_data = train_csv_data[:,1:2].astype('float32')\r\n",
        "\r\n",
        "print(\"training_input_data.shpae = \", training_input_data.shape , \", training_target_data.shape = \", training_target_data.shape)\r\n",
        "\r\n",
        "print(training_input_data[1])\r\n",
        "print(training_target_data[1])"
      ],
      "execution_count": 44,
      "outputs": [
        {
          "output_type": "stream",
          "text": [
            "training_input_data.shpae =  (714, 6) , training_target_data.shape =  (714, 1)\n",
            "[ 1.      0.     38.      1.      0.     71.2833]\n",
            "[1.]\n"
          ],
          "name": "stdout"
        }
      ]
    },
    {
      "cell_type": "markdown",
      "metadata": {
        "id": "OcHpKnVFVcIW"
      },
      "source": [
        "###test data 생성"
      ]
    },
    {
      "cell_type": "code",
      "metadata": {
        "colab": {
          "base_uri": "https://localhost:8080/",
          "height": 196
        },
        "id": "MlaTxxYTEIBd",
        "outputId": "435224c7-1d60-4f2a-a5ad-b8bdd19ad950"
      },
      "source": [
        "test_df.head()"
      ],
      "execution_count": 45,
      "outputs": [
        {
          "output_type": "execute_result",
          "data": {
            "text/html": [
              "<div>\n",
              "<style scoped>\n",
              "    .dataframe tbody tr th:only-of-type {\n",
              "        vertical-align: middle;\n",
              "    }\n",
              "\n",
              "    .dataframe tbody tr th {\n",
              "        vertical-align: top;\n",
              "    }\n",
              "\n",
              "    .dataframe thead th {\n",
              "        text-align: right;\n",
              "    }\n",
              "</style>\n",
              "<table border=\"1\" class=\"dataframe\">\n",
              "  <thead>\n",
              "    <tr style=\"text-align: right;\">\n",
              "      <th></th>\n",
              "      <th>PassengerId</th>\n",
              "      <th>Survived</th>\n",
              "      <th>Pclass</th>\n",
              "      <th>Name</th>\n",
              "      <th>Sex</th>\n",
              "      <th>Age</th>\n",
              "      <th>SibSp</th>\n",
              "      <th>Parch</th>\n",
              "      <th>Ticket</th>\n",
              "      <th>Fare</th>\n",
              "      <th>Embarked</th>\n",
              "    </tr>\n",
              "  </thead>\n",
              "  <tbody>\n",
              "    <tr>\n",
              "      <th>0</th>\n",
              "      <td>892</td>\n",
              "      <td>0</td>\n",
              "      <td>3</td>\n",
              "      <td>Kelly, Mr. James</td>\n",
              "      <td>male</td>\n",
              "      <td>34.5</td>\n",
              "      <td>0</td>\n",
              "      <td>0</td>\n",
              "      <td>330911</td>\n",
              "      <td>7.8292</td>\n",
              "      <td>Q</td>\n",
              "    </tr>\n",
              "    <tr>\n",
              "      <th>1</th>\n",
              "      <td>893</td>\n",
              "      <td>1</td>\n",
              "      <td>3</td>\n",
              "      <td>Wilkes, Mrs. James (Ellen Needs)</td>\n",
              "      <td>female</td>\n",
              "      <td>47.0</td>\n",
              "      <td>1</td>\n",
              "      <td>0</td>\n",
              "      <td>363272</td>\n",
              "      <td>7.0000</td>\n",
              "      <td>S</td>\n",
              "    </tr>\n",
              "    <tr>\n",
              "      <th>2</th>\n",
              "      <td>894</td>\n",
              "      <td>0</td>\n",
              "      <td>2</td>\n",
              "      <td>Myles, Mr. Thomas Francis</td>\n",
              "      <td>male</td>\n",
              "      <td>62.0</td>\n",
              "      <td>0</td>\n",
              "      <td>0</td>\n",
              "      <td>240276</td>\n",
              "      <td>9.6875</td>\n",
              "      <td>Q</td>\n",
              "    </tr>\n",
              "    <tr>\n",
              "      <th>3</th>\n",
              "      <td>895</td>\n",
              "      <td>0</td>\n",
              "      <td>3</td>\n",
              "      <td>Wirz, Mr. Albert</td>\n",
              "      <td>male</td>\n",
              "      <td>27.0</td>\n",
              "      <td>0</td>\n",
              "      <td>0</td>\n",
              "      <td>315154</td>\n",
              "      <td>8.6625</td>\n",
              "      <td>S</td>\n",
              "    </tr>\n",
              "    <tr>\n",
              "      <th>4</th>\n",
              "      <td>896</td>\n",
              "      <td>1</td>\n",
              "      <td>3</td>\n",
              "      <td>Hirvonen, Mrs. Alexander (Helga E Lindqvist)</td>\n",
              "      <td>female</td>\n",
              "      <td>22.0</td>\n",
              "      <td>1</td>\n",
              "      <td>1</td>\n",
              "      <td>3101298</td>\n",
              "      <td>12.2875</td>\n",
              "      <td>S</td>\n",
              "    </tr>\n",
              "  </tbody>\n",
              "</table>\n",
              "</div>"
            ],
            "text/plain": [
              "   PassengerId  Survived  Pclass  ...   Ticket     Fare  Embarked\n",
              "0          892         0       3  ...   330911   7.8292         Q\n",
              "1          893         1       3  ...   363272   7.0000         S\n",
              "2          894         0       2  ...   240276   9.6875         Q\n",
              "3          895         0       3  ...   315154   8.6625         S\n",
              "4          896         1       3  ...  3101298  12.2875         S\n",
              "\n",
              "[5 rows x 11 columns]"
            ]
          },
          "metadata": {
            "tags": []
          },
          "execution_count": 45
        }
      ]
    },
    {
      "cell_type": "code",
      "metadata": {
        "colab": {
          "base_uri": "https://localhost:8080/"
        },
        "id": "XeF-H9AqDZu_",
        "outputId": "b0e1fb9b-c707-47a6-c6c9-8367cf19adfd"
      },
      "source": [
        "test_input_data = test_csv_data[:, [2,4,5,6,7,9]].astype('float32')\r\n",
        "test_target_data = test_csv_data[:,1:2].astype('float32')\r\n",
        "\r\n",
        "print(\"test_input_data.shape = \", test_input_data.shape, \", test_target_data.shape = \", test_target_data.shape)\r\n",
        "\r\n",
        "print(test_input_data[1])\r\n",
        "print(test_target_data[1])"
      ],
      "execution_count": 46,
      "outputs": [
        {
          "output_type": "stream",
          "text": [
            "test_input_data.shape =  (331, 6) , test_target_data.shape =  (331, 1)\n",
            "[ 3.  0. 47.  1.  0.  7.]\n",
            "[1.]\n"
          ],
          "name": "stdout"
        }
      ]
    },
    {
      "cell_type": "markdown",
      "metadata": {
        "id": "PL6qzF8hWHnT"
      },
      "source": [
        "###오차역전파를 사용하여 구현"
      ]
    },
    {
      "cell_type": "code",
      "metadata": {
        "id": "2fsYpMx57NUP"
      },
      "source": [
        "def sigmoid(x):\r\n",
        "    return 1 / (1 + np.exp(-x))"
      ],
      "execution_count": 47,
      "outputs": []
    },
    {
      "cell_type": "code",
      "metadata": {
        "id": "i3xU3B8cF6Be"
      },
      "source": [
        "class Kaggle_Titanic():\r\n",
        "\r\n",
        "  def __init__(self, input_nodes, hidden_nodes, output_nodes, learning_rate):\r\n",
        "\r\n",
        "      self.W2 = np.random.randn(input_nodes, hidden_nodes) / np.sqrt(input_nodes / 2)\r\n",
        "      self.b2 = np.random.rand(hidden_nodes)\r\n",
        "\r\n",
        "      self.W3 = np.random.randn(hidden_nodes, output_nodes) / np.sqrt(hidden_nodes / 2)\r\n",
        "      self.b3 = np.random.rand(output_nodes)\r\n",
        "\r\n",
        "      self.learning_rate = learning_rate\r\n",
        "\r\n",
        "  def feed_forward(self):\r\n",
        "\r\n",
        "      delta = 1e-7\r\n",
        "\r\n",
        "      self.z1 = self.input_data\r\n",
        "      self.a1 = self.input_data\r\n",
        "\r\n",
        "      self.z2 = np.dot(self.a1, self.W2) + self.b2\r\n",
        "      self.a2 = sigmoid(self.z2)\r\n",
        "\r\n",
        "      self.z3 = np.dot(self.a2, self.W3) + self.b3\r\n",
        "      y = self.a3 = sigmoid(self.z3)\r\n",
        "\r\n",
        "      return -np.sum(self.target_data * np.log(y+delta) + (1 - self.target_data) * np.log((1 - y) + delta))\r\n",
        "\r\n",
        "  def loss_val(self):\r\n",
        "\r\n",
        "      delta = 1e-7\r\n",
        "\r\n",
        "      self.z1 = self.input_data\r\n",
        "      self.a1 = self.input_data\r\n",
        "\r\n",
        "      self.z2 = np.dot(self.a1, self.W2) + self.b2\r\n",
        "      self.a2 = sigmoid(self.z2)\r\n",
        "\r\n",
        "      self.z3 = np.dot(self.a2, self.W3) + self.b3\r\n",
        "      y = self.a3 = sigmoid(self.z3)\r\n",
        "\r\n",
        "      return -np.sum(self.target_data * np.log(y+delta) + (1 - self.target_data) * np.log((1 - y) + delta))\r\n",
        "\r\n",
        "  def accuracy(self, test_input_data, test_target_data):\r\n",
        "\r\n",
        "      matched_list = []\r\n",
        "\r\n",
        "      temp_list = []\r\n",
        "      index_label_prediction_list = []\r\n",
        "\r\n",
        "      for i in range(len(test_input_data)):\r\n",
        "\r\n",
        "          (real_val, predicted_num) = self.predict(np.array(test_input_data[i], dtype = np.float32, ndmin =2))\r\n",
        "\r\n",
        "          if predicted_num == test_target_data[i]:\r\n",
        "              matched_list.append(i)\r\n",
        "          \r\n",
        "          else:\r\n",
        "              temp_list.append(i)\r\n",
        "              temp_list.append(test_target_data[i])\r\n",
        "              temp_list.append(predicted_num)\r\n",
        "\r\n",
        "              index_label_prediction_list.append(temp_list)\r\n",
        "\r\n",
        "              temp_list = []\r\n",
        "\r\n",
        "      accuracy_val = len(matched_list) / len(test_input_data)\r\n",
        "\r\n",
        "      return accuracy_val, index_label_prediction_list\r\n",
        "\r\n",
        "  def train(self, input_data, target_data):\r\n",
        "\r\n",
        "        self.input_data = input_data\r\n",
        "        self.target_data = target_data\r\n",
        "\r\n",
        "        loss_val = self.feed_forward()\r\n",
        "\r\n",
        "        loss_3 = (self.a3 - self.target_data) * self.a3 * (1 - self.a3)\r\n",
        "        loss_2 = np.dot(loss_3, self.W3.T) * self.a2 * (1 - self.a2)\r\n",
        "\r\n",
        "        self.W3 = self.W3 - self.learning_rate * np.dot(self.a2.T, loss_3)\r\n",
        "        self.b3 = self.b3 - self.learning_rate * loss_3\r\n",
        "\r\n",
        "        self.W2 = self.W2 - self.learning_rate * np.dot(self.a1.T, loss_2)\r\n",
        "        self.b2 = self.b2 - self.learning_rate * loss_2\r\n",
        "\r\n",
        "  def predict(self, input_data):\r\n",
        "\r\n",
        "        z2 = np.dot(input_data, self.W2) + self.b2\r\n",
        "        a2 = sigmoid(z2)\r\n",
        "\r\n",
        "        z3 = np.dot(a2, self.W3) + self.b3\r\n",
        "        y = a3 = sigmoid(z3)\r\n",
        "\r\n",
        "        if y >= 0.5:\r\n",
        "            predicted_num = 1\r\n",
        "        \r\n",
        "        else:\r\n",
        "            predicted_num = 0\r\n",
        "\r\n",
        "        return y, predicted_num        "
      ],
      "execution_count": 48,
      "outputs": []
    },
    {
      "cell_type": "code",
      "metadata": {
        "colab": {
          "base_uri": "https://localhost:8080/"
        },
        "id": "mBlW8F12JpHL",
        "outputId": "2de5d96a-9514-4afb-9e20-1387de7198b2"
      },
      "source": [
        "#hyper_parameter\r\n",
        "\r\n",
        "i_nodes = training_input_data.shape[1]\r\n",
        "h_nodes = 50\r\n",
        "o_nodes = 1\r\n",
        "lr = 1e-4\r\n",
        "epochs = 200\r\n",
        "\r\n",
        "loss_val_list = []\r\n",
        "\r\n",
        "train_acc_list = []\r\n",
        "val_acc_list = []\r\n",
        "\r\n",
        "titanic_obj = Kaggle_Titanic(i_nodes, h_nodes, o_nodes, lr)\r\n",
        "\r\n",
        "start_time = datetime.now()\r\n",
        "\r\n",
        "for i in range(epochs):\r\n",
        "    for step in range(len(training_input_data)):\r\n",
        "\r\n",
        "        input_data = training_input_data[step]\r\n",
        "        target_data = training_target_data[step]\r\n",
        "\r\n",
        "        titanic_obj.train(np.array(input_data, dtype = np.float32, ndmin = 2), np.array(target_data, dtype = np.float32, ndmin = 2))\r\n",
        "\r\n",
        "    cur_loss_val = titanic_obj.loss_val()\r\n",
        "    print(\"epochs = \", i+1, \", loss value = \", cur_loss_val)\r\n",
        "\r\n",
        "    loss_val_list.append(cur_loss_val)\r\n",
        "    \r\n",
        "    (train_accuracy, index_label_prediction_list) = titanic_obj.accuracy(training_input_data, training_target_data)\r\n",
        "    (val_accuracy, index_label_prediction_list) = titanic_obj.accuracy(test_input_data, test_target_data)\r\n",
        "\r\n",
        "    train_acc_list.append(train_accuracy)\r\n",
        "    val_acc_list.append(val_accuracy)\r\n",
        "\r\n",
        "end_time = datetime.now()\r\n",
        "print(\"\\nElapsed time = \", end_time - start_time)"
      ],
      "execution_count": 49,
      "outputs": [
        {
          "output_type": "stream",
          "text": [
            "epochs =  1 , loss value =  0.9548404003892745\n",
            "epochs =  2 , loss value =  0.8839704705805469\n",
            "epochs =  3 , loss value =  0.8180236486745011\n",
            "epochs =  4 , loss value =  0.760527049304103\n",
            "epochs =  5 , loss value =  0.7128571217224677\n",
            "epochs =  6 , loss value =  0.6739579785969457\n",
            "epochs =  7 , loss value =  0.6419493090837397\n",
            "epochs =  8 , loss value =  0.6151559539407394\n",
            "epochs =  9 , loss value =  0.5923413727853036\n",
            "epochs =  10 , loss value =  0.5726343937898055\n",
            "epochs =  11 , loss value =  0.5554156683690614\n",
            "epochs =  12 , loss value =  0.5402324316580817\n",
            "epochs =  13 , loss value =  0.5267433177953452\n",
            "epochs =  14 , loss value =  0.5146836389448431\n",
            "epochs =  15 , loss value =  0.5038432609813259\n",
            "epochs =  16 , loss value =  0.4940521073885803\n",
            "epochs =  17 , loss value =  0.4851703484341656\n",
            "epochs =  18 , loss value =  0.4770815443823203\n",
            "epochs =  19 , loss value =  0.4696877087622282\n",
            "epochs =  20 , loss value =  0.46290565889351915\n",
            "epochs =  21 , loss value =  0.45666425537348293\n",
            "epochs =  22 , loss value =  0.45090227246679865\n",
            "epochs =  23 , loss value =  0.44556672739782255\n",
            "epochs =  24 , loss value =  0.44061155079009834\n",
            "epochs =  25 , loss value =  0.43599651560426694\n",
            "epochs =  26 , loss value =  0.4316863652260677\n",
            "epochs =  27 , loss value =  0.4276500971875305\n",
            "epochs =  28 , loss value =  0.4238603699937141\n",
            "epochs =  29 , loss value =  0.4202930083069072\n",
            "epochs =  30 , loss value =  0.4169265873535645\n",
            "epochs =  31 , loss value =  0.41374208155342757\n",
            "epochs =  32 , loss value =  0.4107225654894263\n",
            "epochs =  33 , loss value =  0.40785295775676483\n",
            "epochs =  34 , loss value =  0.4051198001582963\n",
            "epochs =  35 , loss value =  0.4025110662777081\n",
            "epochs =  36 , loss value =  0.40001599473013405\n",
            "epochs =  37 , loss value =  0.39762494339581245\n",
            "epochs =  38 , loss value =  0.3953292617104819\n",
            "epochs =  39 , loss value =  0.3931211786467792\n",
            "epochs =  40 , loss value =  0.3909937044155438\n",
            "epochs =  41 , loss value =  0.38894054419193275\n",
            "epochs =  42 , loss value =  0.38695602237280263\n",
            "epochs =  43 , loss value =  0.38503501603281376\n",
            "epochs =  44 , loss value =  0.3831728963884134\n",
            "epochs =  45 , loss value =  0.38136547721149366\n",
            "epochs =  46 , loss value =  0.3796089692609683\n",
            "epochs =  47 , loss value =  0.37789993991992815\n",
            "epochs =  48 , loss value =  0.37623527733655576\n",
            "epochs =  49 , loss value =  0.37461215846705853\n",
            "epochs =  50 , loss value =  0.37302802050783795\n",
            "epochs =  51 , loss value =  0.3714805352820385\n",
            "epochs =  52 , loss value =  0.3699675862131241\n",
            "epochs =  53 , loss value =  0.36848724757603496\n",
            "epochs =  54 , loss value =  0.3670377657656638\n",
            "epochs =  55 , loss value =  0.3656175423636175\n",
            "epochs =  56 , loss value =  0.3642251188183425\n",
            "epochs =  57 , loss value =  0.3628591625813164\n",
            "epochs =  58 , loss value =  0.361518454564021\n",
            "epochs =  59 , loss value =  0.36020187779756946\n",
            "epochs =  60 , loss value =  0.35890840719009526\n",
            "epochs =  61 , loss value =  0.35763710028716544\n",
            "epochs =  62 , loss value =  0.35638708894843674\n",
            "epochs =  63 , loss value =  0.35515757186021846\n",
            "epochs =  64 , loss value =  0.35394780780917706\n",
            "epochs =  65 , loss value =  0.3527571096474762\n",
            "epochs =  66 , loss value =  0.35158483888453185\n",
            "epochs =  67 , loss value =  0.35043040084532495\n",
            "epochs =  68 , loss value =  0.34929324033997033\n",
            "epochs =  69 , loss value =  0.3481728377938719\n",
            "epochs =  70 , loss value =  0.3470687057923064\n",
            "epochs =  71 , loss value =  0.34598038599755926\n",
            "epochs =  72 , loss value =  0.34490744640069687\n",
            "epochs =  73 , loss value =  0.34384947887377465\n",
            "epochs =  74 , loss value =  0.3428060969915492\n",
            "epochs =  75 , loss value =  0.3417769340947781\n",
            "epochs =  76 , loss value =  0.34076164156982197\n",
            "epochs =  77 , loss value =  0.3397598873216526\n",
            "epochs =  78 , loss value =  0.33877135441945483\n",
            "epochs =  79 , loss value =  0.33779573989594286\n",
            "epochs =  80 , loss value =  0.3368327536832004\n",
            "epochs =  81 , loss value =  0.33588211766943865\n",
            "epochs =  82 , loss value =  0.33494356486251287\n",
            "epochs =  83 , loss value =  0.33401683864738035\n",
            "epochs =  84 , loss value =  0.33310169212592106\n",
            "epochs =  85 , loss value =  0.33219788752873275\n",
            "epochs =  86 , loss value =  0.33130519568959693\n",
            "epochs =  87 , loss value =  0.3304233955743179\n",
            "epochs =  88 , loss value =  0.3295522738566217\n",
            "epochs =  89 , loss value =  0.3286916245346577\n",
            "epochs =  90 , loss value =  0.3278412485824699\n",
            "epochs =  91 , loss value =  0.32700095363155796\n",
            "epochs =  92 , loss value =  0.3261705536783182\n",
            "epochs =  93 , loss value =  0.32534986881378497\n",
            "epochs =  94 , loss value =  0.3245387249726386\n",
            "epochs =  95 , loss value =  0.3237369536989495\n",
            "epochs =  96 , loss value =  0.32294439192654034\n",
            "epochs =  97 , loss value =  0.3221608817722772\n",
            "epochs =  98 , loss value =  0.3213862703408578\n",
            "epochs =  99 , loss value =  0.3206204095400069\n",
            "epochs =  100 , loss value =  0.31986315590517506\n",
            "epochs =  101 , loss value =  0.3191143704330345\n",
            "epochs =  102 , loss value =  0.3183739184232115\n",
            "epochs =  103 , loss value =  0.3176416693277969\n",
            "epochs =  104 , loss value =  0.3169174966082464\n",
            "epochs =  105 , loss value =  0.31620127759933353\n",
            "epochs =  106 , loss value =  0.31549289337983644\n",
            "epochs =  107 , loss value =  0.31479222864963385\n",
            "epochs =  108 , loss value =  0.3140991716128904\n",
            "epochs =  109 , loss value =  0.3134136138669678\n",
            "epochs =  110 , loss value =  0.3127354502966863\n",
            "epochs =  111 , loss value =  0.31206457897353035\n",
            "epochs =  112 , loss value =  0.3114009010593715\n",
            "epochs =  113 , loss value =  0.3107443207142544\n",
            "epochs =  114 , loss value =  0.3100947450077962\n",
            "epochs =  115 , loss value =  0.3094520838337527\n",
            "epochs =  116 , loss value =  0.3088162498273093\n",
            "epochs =  117 , loss value =  0.3081871582847086\n",
            "epochs =  118 , loss value =  0.3075647270848312\n",
            "epochs =  119 , loss value =  0.3069488766124437\n",
            "epochs =  120 , loss value =  0.30633952968284095\n",
            "epochs =  121 , loss value =  0.3057366114677167\n",
            "epochs =  122 , loss value =  0.30514004942212564\n",
            "epochs =  123 , loss value =  0.3045497732124872\n",
            "epochs =  124 , loss value =  0.3039657146456307\n",
            "epochs =  125 , loss value =  0.3033878075989156\n",
            "epochs =  126 , loss value =  0.302815987951507\n",
            "epochs =  127 , loss value =  0.30225019351688354\n",
            "epochs =  128 , loss value =  0.3016903639766511\n",
            "epochs =  129 , loss value =  0.301136440815711\n",
            "epochs =  130 , loss value =  0.3005883672587916\n",
            "epochs =  131 , loss value =  0.30004608820827455\n",
            "epochs =  132 , loss value =  0.299509550183197\n",
            "epochs =  133 , loss value =  0.2989787012592253\n",
            "epochs =  134 , loss value =  0.2984534910093182\n",
            "epochs =  135 , loss value =  0.2979338704447515\n",
            "epochs =  136 , loss value =  0.29741979195609125\n",
            "epochs =  137 , loss value =  0.2969112092537128\n",
            "epochs =  138 , loss value =  0.29640807730741864\n",
            "epochs =  139 , loss value =  0.2959103522847375\n",
            "epochs =  140 , loss value =  0.2954179914875357\n",
            "epochs =  141 , loss value =  0.2949309532866135\n",
            "epochs =  142 , loss value =  0.2944491970540617\n",
            "epochs =  143 , loss value =  0.29397268309323465\n",
            "epochs =  144 , loss value =  0.29350137256630027\n",
            "epochs =  145 , loss value =  0.29303522741945554\n",
            "epochs =  146 , loss value =  0.2925742103059617\n",
            "epochs =  147 , loss value =  0.29211828450728944\n",
            "epochs =  148 , loss value =  0.2916674138527411\n",
            "epochs =  149 , loss value =  0.29122156263796783\n",
            "epochs =  150 , loss value =  0.29078069554289643\n",
            "epochs =  151 , loss value =  0.29034477754958726\n",
            "epochs =  152 , loss value =  0.2899137738606018\n",
            "epochs =  153 , loss value =  0.28948764981844194\n",
            "epochs =  154 , loss value =  0.2890663708266474\n",
            "epochs =  155 , loss value =  0.2886499022730978\n",
            "epochs =  156 , loss value =  0.2882382094560647\n",
            "epochs =  157 , loss value =  0.28783125751350086\n",
            "epochs =  158 , loss value =  0.28742901135603816\n",
            "epochs =  159 , loss value =  0.28703143560410455\n",
            "epochs =  160 , loss value =  0.28663849452951873\n",
            "epochs =  161 , loss value =  0.2862501520018852\n",
            "epochs =  162 , loss value =  0.2858663714400482\n",
            "epochs =  163 , loss value =  0.2854871157688065\n",
            "epochs =  164 , loss value =  0.2851123473810551\n",
            "epochs =  165 , loss value =  0.2847420281054501\n",
            "epochs =  166 , loss value =  0.2843761191796567\n",
            "epochs =  167 , loss value =  0.2840145812291915\n",
            "epochs =  168 , loss value =  0.2836573742518143\n",
            "epochs =  169 , loss value =  0.2833044576074049\n",
            "epochs =  170 , loss value =  0.28295579001319765\n",
            "epochs =  171 , loss value =  0.28261132954422624\n",
            "epochs =  172 , loss value =  0.28227103363879696\n",
            "epochs =  173 , loss value =  0.2819348591087731\n",
            "epochs =  174 , loss value =  0.28160276215442875\n",
            "epochs =  175 , loss value =  0.2812746983836252\n",
            "epochs =  176 , loss value =  0.2809506228350052\n",
            "epochs =  177 , loss value =  0.28063049000493345\n",
            "epochs =  178 , loss value =  0.28031425387785613\n",
            "epochs =  179 , loss value =  0.28000186795976517\n",
            "epochs =  180 , loss value =  0.27969328531445425\n",
            "epochs =  181 , loss value =  0.2793884586022119\n",
            "epochs =  182 , loss value =  0.27908734012064745\n",
            "epochs =  183 , loss value =  0.27878988184729986\n",
            "epochs =  184 , loss value =  0.278496035483714\n",
            "epochs =  185 , loss value =  0.27820575250065566\n",
            "epochs =  186 , loss value =  0.2779189841841571\n",
            "epochs =  187 , loss value =  0.27763568168207353\n",
            "epochs =  188 , loss value =  0.27735579605086175\n",
            "epochs =  189 , loss value =  0.2770792783022835\n",
            "epochs =  190 , loss value =  0.27680607944975083\n",
            "epochs =  191 , loss value =  0.2765361505540416\n",
            "epochs =  192 , loss value =  0.2762694427681197\n",
            "epochs =  193 , loss value =  0.2760059073807903\n",
            "epochs =  194 , loss value =  0.2757454958589453\n",
            "epochs =  195 , loss value =  0.2754881598881357\n",
            "epochs =  196 , loss value =  0.2752338514112214\n",
            "epochs =  197 , loss value =  0.27498252266483136\n",
            "epochs =  198 , loss value =  0.2747341262133792\n",
            "epochs =  199 , loss value =  0.27448861498035226\n",
            "epochs =  200 , loss value =  0.27424594227658045\n",
            "\n",
            "Elapsed time =  0:00:15.895522\n"
          ],
          "name": "stdout"
        }
      ]
    },
    {
      "cell_type": "code",
      "metadata": {
        "colab": {
          "base_uri": "https://localhost:8080/",
          "height": 295
        },
        "id": "E4X-C3OxMZp5",
        "outputId": "b112df05-eb09-42d5-b0bc-d6abccc6a410"
      },
      "source": [
        "plt.title('Loss Value Trend')\r\n",
        "plt.xlabel('epochs')\r\n",
        "plt.ylabel('Loss Value')\r\n",
        "plt.grid()\r\n",
        "plt.plot(loss_val_list)\r\n",
        "plt.show()"
      ],
      "execution_count": 50,
      "outputs": [
        {
          "output_type": "display_data",
          "data": {
            "image/png": "[encoded data removed]",
            "text/plain": [
              "<Figure size 432x288 with 1 Axes>"
            ]
          },
          "metadata": {
            "tags": [],
            "needs_background": "light"
          }
        }
      ]
    },
    {
      "cell_type": "code",
      "metadata": {
        "colab": {
          "base_uri": "https://localhost:8080/",
          "height": 295
        },
        "id": "fh6bOSuKM4Wr",
        "outputId": "1cf0a2d4-035c-40f6-fc83-56693d1c9d1a"
      },
      "source": [
        "plt.title('Training / Validation Accuracy')\r\n",
        "plt.xlabel('epochs')\r\n",
        "plt.ylabel('Accuracy')\r\n",
        "plt.grid()\r\n",
        "plt.plot(train_acc_list)\r\n",
        "plt.plot(val_acc_list)\r\n",
        "plt.legend(['training accuracy', 'validation accuracy'])\r\n",
        "plt.show()"
      ],
      "execution_count": 51,
      "outputs": [
        {
          "output_type": "display_data",
          "data": {
            "image/png": "[encoded data removed]",
            "text/plain": [
              "<Figure size 432x288 with 1 Axes>"
            ]
          },
          "metadata": {
            "tags": [],
            "needs_background": "light"
          }
        }
      ]
    },
    {
      "cell_type": "code",
      "metadata": {
        "colab": {
          "base_uri": "https://localhost:8080/"
        },
        "id": "WCHgNfa7NJPA",
        "outputId": "165dd91d-e052-4070-f5b1-b367121232b0"
      },
      "source": [
        "(accuracy_val, index_label_prediction_list) = titanic_obj.accuracy(test_input_data, test_target_data)\r\n",
        "print(\"Accuracy = \", 100 * np.round(accuracy_val,3), '%')"
      ],
      "execution_count": 52,
      "outputs": [
        {
          "output_type": "stream",
          "text": [
            "Accuracy =  63.4 %\n"
          ],
          "name": "stdout"
        }
      ]
    },
    {
      "cell_type": "code",
      "metadata": {
        "colab": {
          "base_uri": "https://localhost:8080/"
        },
        "id": "oS-eCS96Neh7",
        "outputId": "47dd7fef-87b9-4012-d151-af2aaaa56f46"
      },
      "source": [
        "dicaprio = np.array([3., 1., 19., 0., 0., 5.]).reshape(1,6)\r\n",
        "winslet = np.array([1., 0., 17., 1., 2., 100.]).reshape(1,6)\r\n",
        "\r\n",
        "(d_probability, alive_or_dead) = titanic_obj.predict(dicaprio)\r\n",
        "\r\n",
        "print(d_probability, alive_or_dead)\r\n",
        "\r\n",
        "(w_probability, alive_or_dead) = titanic_obj.predict(winslet)\r\n",
        "\r\n",
        "print(w_probability, alive_or_dead)"
      ],
      "execution_count": 53,
      "outputs": [
        {
          "output_type": "stream",
          "text": [
            "[[0.24457657]] 0\n",
            "[[0.65323017]] 1\n"
          ],
          "name": "stdout"
        }
      ]
    },
    {
      "cell_type": "code",
      "metadata": {
        "id": "sAEycLr3PoDd"
      },
      "source": [
        ""
      ],
      "execution_count": null,
      "outputs": []
    }
  ]
}