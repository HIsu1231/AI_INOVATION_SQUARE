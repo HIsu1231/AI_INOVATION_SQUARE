{
  "nbformat": 4,
  "nbformat_minor": 0,
  "metadata": {
    "colab": {
      "name": "Datageneration_unique",
      "provenance": [],
      "mount_file_id": "1Up6ogKHx_986QfOa6DT1PIvlKmIHLT93",
      "authorship_tag": "ABX9TyOucLfeL5IJpJevNX7AFeTx",
      "include_colab_link": true
    },
    "kernelspec": {
      "name": "python3",
      "display_name": "Python 3"
    }
  },
  "cells": [
    {
      "cell_type": "markdown",
      "metadata": {
        "id": "view-in-github",
        "colab_type": "text"
      },
      "source": [
        "<a href=\"https://colab.research.google.com/github/HIsu1231/AI_INOVATION_SQUARE/blob/master/Datageneration_unique.ipynb\" target=\"_parent\"><img src=\"https://colab.research.google.com/assets/colab-badge.svg\" alt=\"Open In Colab\"/></a>"
      ]
    },
    {
      "cell_type": "code",
      "metadata": {
        "id": "SP0HuBq_QHl1"
      },
      "source": [
        "import numpy as np\n",
        "import matplotlib.pyplot as plt"
      ],
      "execution_count": 2,
      "outputs": []
    },
    {
      "cell_type": "code",
      "metadata": {
        "id": "GlaV5lMpQ8df"
      },
      "source": [
        "class DataGeneration:\n",
        "    \n",
        "    #target_position = -1 : 마지막 열이 정답데이터 / target_position = 0 : 첫번째 열이 정답데이터\n",
        "    def __init__(self,file_path, seperation_rate, target_position = -1):\n",
        "\n",
        "      self.file_path = file_path\n",
        "\n",
        "      self.seperation_rate = seperation_rate\n",
        "\n",
        "      if (target_position == 0 or target_position == -1):\n",
        "        self.target_position = target_position\n",
        "      else:\n",
        "        err_str = 'target_position must be -1 or 0'\n",
        "        raise Exception(err_str)\n",
        "\n",
        "    #str_of_kind : 'original data' or 'training data' or 'test data'\n",
        "    def __display_target_distribution(self,data,str_or_kind='original data'):\n",
        "\n",
        "      target_data = data[:,[self.target_position]]\n",
        "\n",
        "      unique, counts = np.unique(target_data, return_counts=True)\n",
        "\n",
        "      print(\"===========================================================================================\") \n",
        "      for i in range(len(unique)):\n",
        "        print(\"[DataGeneration] unique number of \" + str_or_kind + '=', unique[i], \"count = \",counts[i])\n",
        "      \n",
        "      for i in range(len(unique)):\n",
        "        print(\"[DataGeneration] unique number of \" + str_or_kind + '=', unique[i], \"ratio = \", np.round(100*counts[i]/target_data.shape[0],2),'%')\n",
        "      print(\"===========================================================================================\")\n",
        "    def generate(self):\n",
        "\n",
        "      try:\n",
        "        loaded_data = np.loadtxt(self.file_path, delimiter=',', dtype=np.float32)\n",
        "      except Exception as err:\n",
        "          print('[DataGeneration::generate()]', str(err))\n",
        "          raise Exception(str(err))\n",
        "\n",
        "      print(\"[DataGeneration] loaded_data.shape = \", loaded_data.shape)\n",
        "\n",
        "      self.__display_target_distribution(loaded_data, 'original data')\n",
        "\n",
        "      total_data_num = len(loaded_data)\n",
        "      test_data_num = int(len(loaded_data) * self.seperation_rate)\n",
        "\n",
        "      np.random.shuffle(loaded_data)\n",
        "\n",
        "      test_data = loaded_data[0:test_data_num]\n",
        "      training_data = loaded_data[test_data_num: ]\n",
        "\n",
        "      self.__display_target_distribution(test_data,'test data')\n",
        "\n",
        "      self.__display_target_distribution(training_data,'training data')\n",
        "      \n",
        "      return training_data, test_data\n"
      ],
      "execution_count": 20,
      "outputs": []
    },
    {
      "cell_type": "code",
      "metadata": {
        "id": "k_2mwYmf84WH",
        "outputId": "86167d27-eca7-4f86-ac65-fc5ff67d277c",
        "colab": {
          "base_uri": "https://localhost:8080/",
          "height": 35
        }
      },
      "source": [
        "pwd"
      ],
      "execution_count": 21,
      "outputs": [
        {
          "output_type": "execute_result",
          "data": {
            "application/vnd.google.colaboratory.intrinsic+json": {
              "type": "string"
            },
            "text/plain": [
              "'/content'"
            ]
          },
          "metadata": {
            "tags": []
          },
          "execution_count": 21
        }
      ]
    },
    {
      "cell_type": "code",
      "metadata": {
        "id": "czguPOY29EW7",
        "outputId": "16bb5c07-829b-4645-a1e7-e3cd9f289b9a",
        "colab": {
          "base_uri": "https://localhost:8080/",
          "height": 386
        }
      },
      "source": [
        "seperation_rate = 0.3\n",
        "target_position = -1\n",
        "\n",
        "try:\n",
        "  data_obj1 = DataGeneration('./drive/My Drive/AI이노베이션스퀘어/연습/(200309)diabetes.csv',seperation_rate,target_position)\n",
        "  \n",
        "  (training_data, test_data) = data_obj1.generate()\n",
        "\n",
        "  print(\"training_data.shape = \", training_data.shape)\n",
        "  print(\"test_data.shape = \", test_data.shape)\n",
        "\n",
        "except Exception as err:\n",
        "  print(\"Exception occur!\")\n",
        "  print(str(err))"
      ],
      "execution_count": 22,
      "outputs": [
        {
          "output_type": "stream",
          "text": [
            "[DataGeneration] loaded_data.shape =  (759, 9)\n",
            "===========================================================================================\n",
            "[DataGeneration] unique number of original data= 0.0 count =  263\n",
            "[DataGeneration] unique number of original data= 1.0 count =  496\n",
            "[DataGeneration] unique number of original data= 0.0 ratio =  34.65 %\n",
            "[DataGeneration] unique number of original data= 1.0 ratio =  65.35 %\n",
            "===========================================================================================\n",
            "===========================================================================================\n",
            "[DataGeneration] unique number of test data= 0.0 count =  81\n",
            "[DataGeneration] unique number of test data= 1.0 count =  146\n",
            "[DataGeneration] unique number of test data= 0.0 ratio =  35.68 %\n",
            "[DataGeneration] unique number of test data= 1.0 ratio =  64.32 %\n",
            "===========================================================================================\n",
            "===========================================================================================\n",
            "[DataGeneration] unique number of training data= 0.0 count =  182\n",
            "[DataGeneration] unique number of training data= 1.0 count =  350\n",
            "[DataGeneration] unique number of training data= 0.0 ratio =  34.21 %\n",
            "[DataGeneration] unique number of training data= 1.0 ratio =  65.79 %\n",
            "===========================================================================================\n",
            "training_data.shape =  (532, 9)\n",
            "test_data.shape =  (227, 9)\n"
          ],
          "name": "stdout"
        }
      ]
    },
    {
      "cell_type": "code",
      "metadata": {
        "id": "N8Xa3kNDIPh1"
      },
      "source": [
        ""
      ],
      "execution_count": null,
      "outputs": []
    }
  ]
}