{
  "nbformat": 4,
  "nbformat_minor": 0,
  "metadata": {
    "colab": {
      "name": "CNN_3conv/1flatten_1.ipynb",
      "provenance": [],
      "authorship_tag": "ABX9TyPLveEA03YyhvNRVxJlmoCp",
      "include_colab_link": true
    },
    "kernelspec": {
      "name": "python3",
      "display_name": "Python 3"
    },
    "accelerator": "GPU"
  },
  "cells": [
    {
      "cell_type": "markdown",
      "metadata": {
        "id": "view-in-github",
        "colab_type": "text"
      },
      "source": [
        "<a href=\"https://colab.research.google.com/github/HIsu1231/AI_INOVATION_SQUARE/blob/master/CNN_3conv_1flatten_1.ipynb\" target=\"_parent\"><img src=\"https://colab.research.google.com/assets/colab-badge.svg\" alt=\"Open In Colab\"/></a>"
      ]
    },
    {
      "cell_type": "code",
      "metadata": {
        "colab": {
          "base_uri": "https://localhost:8080/"
        },
        "id": "rHWRyM3rRWJJ",
        "outputId": "a500535c-d1ec-4a5f-ecbd-65ea6c089ef5"
      },
      "source": [
        "%tensorflow_version 1.x"
      ],
      "execution_count": 1,
      "outputs": [
        {
          "output_type": "stream",
          "text": [
            "TensorFlow 1.x selected.\n"
          ],
          "name": "stdout"
        }
      ]
    },
    {
      "cell_type": "code",
      "metadata": {
        "colab": {
          "base_uri": "https://localhost:8080/"
        },
        "id": "3ZFvvj_2RZ7O",
        "outputId": "b1df01fa-b038-437e-d753-a3e12b0c1c01"
      },
      "source": [
        "import tensorflow as tf\r\n",
        "from tensorflow.examples.tutorials.mnist import input_data\r\n",
        "import numpy as np\r\n",
        "from datetime import datetime\r\n",
        "\r\n",
        "mnist = input_data.read_data_sets('MNIST/data', one_hot=True)"
      ],
      "execution_count": 2,
      "outputs": [
        {
          "output_type": "stream",
          "text": [
            "WARNING:tensorflow:From <ipython-input-2-1a48d9c9b3ee>:6: read_data_sets (from tensorflow.contrib.learn.python.learn.datasets.mnist) is deprecated and will be removed in a future version.\n",
            "Instructions for updating:\n",
            "Please use alternatives such as official/mnist/dataset.py from tensorflow/models.\n",
            "WARNING:tensorflow:From /tensorflow-1.15.2/python3.6/tensorflow_core/contrib/learn/python/learn/datasets/mnist.py:260: maybe_download (from tensorflow.contrib.learn.python.learn.datasets.base) is deprecated and will be removed in a future version.\n",
            "Instructions for updating:\n",
            "Please write your own downloading logic.\n",
            "WARNING:tensorflow:From /tensorflow-1.15.2/python3.6/tensorflow_core/contrib/learn/python/learn/datasets/mnist.py:262: extract_images (from tensorflow.contrib.learn.python.learn.datasets.mnist) is deprecated and will be removed in a future version.\n",
            "Instructions for updating:\n",
            "Please use tf.data to implement this functionality.\n",
            "Extracting MNIST/data/train-images-idx3-ubyte.gz\n",
            "WARNING:tensorflow:From /tensorflow-1.15.2/python3.6/tensorflow_core/contrib/learn/python/learn/datasets/mnist.py:267: extract_labels (from tensorflow.contrib.learn.python.learn.datasets.mnist) is deprecated and will be removed in a future version.\n",
            "Instructions for updating:\n",
            "Please use tf.data to implement this functionality.\n",
            "Extracting MNIST/data/train-labels-idx1-ubyte.gz\n",
            "WARNING:tensorflow:From /tensorflow-1.15.2/python3.6/tensorflow_core/contrib/learn/python/learn/datasets/mnist.py:110: dense_to_one_hot (from tensorflow.contrib.learn.python.learn.datasets.mnist) is deprecated and will be removed in a future version.\n",
            "Instructions for updating:\n",
            "Please use tf.one_hot on tensors.\n",
            "Extracting MNIST/data/t10k-images-idx3-ubyte.gz\n",
            "Extracting MNIST/data/t10k-labels-idx1-ubyte.gz\n",
            "WARNING:tensorflow:From /tensorflow-1.15.2/python3.6/tensorflow_core/contrib/learn/python/learn/datasets/mnist.py:290: DataSet.__init__ (from tensorflow.contrib.learn.python.learn.datasets.mnist) is deprecated and will be removed in a future version.\n",
            "Instructions for updating:\n",
            "Please use alternatives such as official/mnist/dataset.py from tensorflow/models.\n"
          ],
          "name": "stdout"
        }
      ]
    },
    {
      "cell_type": "code",
      "metadata": {
        "id": "9L7hTyBjR0GA"
      },
      "source": [
        "i_nodes = mnist.train.images.shape[1]\r\n",
        "o_nodes = mnist.train.labels.shape[1]\r\n",
        "\r\n",
        "#hyper_parameter\r\n",
        "learning_rate = 0.001\r\n",
        "epochs = 30\r\n",
        "batch_size = 100"
      ],
      "execution_count": 12,
      "outputs": []
    },
    {
      "cell_type": "code",
      "metadata": {
        "id": "KmPOeRxrSQor"
      },
      "source": [
        "X = tf.placeholder(tf.float32, [None, i_nodes])\r\n",
        "T = tf.placeholder(tf.float32, [None,o_nodes])\r\n",
        "\r\n",
        "#28X28X1\r\n",
        "A1 = tf.reshape(X,[-1,28,28,1])"
      ],
      "execution_count": 13,
      "outputs": []
    },
    {
      "cell_type": "code",
      "metadata": {
        "id": "vtbQLp7mSY5R"
      },
      "source": [
        "#3X3X32 Filter\r\n",
        "W2 = tf.Variable(tf.random_normal([3,3,1,32], stddev=0.01))\r\n",
        "b2 = tf.Variable(tf.random_normal([32]))\r\n",
        "\r\n",
        "#28X28X32\r\n",
        "C2 = tf.nn.conv2d(A1, W2, strides=[1,1,1,1], padding='SAME')\r\n",
        "\r\n",
        "Z2 = tf.nn.relu(C2+b2)\r\n",
        "#14X14X32\r\n",
        "A2 = tf.nn.max_pool(Z2, ksize=[1,2,2,1], strides=[1,2,2,1], padding='SAME')"
      ],
      "execution_count": 14,
      "outputs": []
    },
    {
      "cell_type": "code",
      "metadata": {
        "id": "yqUle-ZhTKkj"
      },
      "source": [
        "#3X3X64 Filter\r\n",
        "W3 = tf.Variable(tf.random_normal([3,3,32,64], stddev=0.01))\r\n",
        "b3 = tf.Variable(tf.random_normal([64]))\r\n",
        "\r\n",
        "#14X14X64\r\n",
        "C3 = tf.nn.conv2d(A2, W3, strides=[1,1,1,1], padding='SAME')\r\n",
        "\r\n",
        "Z3 = tf.nn.relu(C3+b3)\r\n",
        "\r\n",
        "#7X7X64\r\n",
        "A3 = tf.nn.max_pool(Z3, ksize=[1,2,2,1], strides=[1,2,2,1], padding='SAME')"
      ],
      "execution_count": 15,
      "outputs": []
    },
    {
      "cell_type": "code",
      "metadata": {
        "id": "YoiSMRx3Tv7a"
      },
      "source": [
        "#3X3X128 Filter\r\n",
        "W4 = tf.Variable(tf.random_normal([3,3,64,128], stddev=0.01))\r\n",
        "b4 = tf.Variable(tf.random_normal([128]))\r\n",
        "\r\n",
        "#7X7X128\r\n",
        "C4 = tf.nn.conv2d(A3, W4, strides=[1,1,1,1], padding='SAME')\r\n",
        "\r\n",
        "Z4 = tf.nn.relu(C4+b4)\r\n",
        "\r\n",
        "#4X4X128\r\n",
        "A4 = tf.nn.max_pool(Z4, ksize=[1,2,2,1], strides=[1,2,2,1], padding='SAME') "
      ],
      "execution_count": 16,
      "outputs": []
    },
    {
      "cell_type": "code",
      "metadata": {
        "id": "aqnNCHe_kJ7s"
      },
      "source": [
        "A4_flat = tf.reshape(A4,[-1,4*4*128])\r\n",
        "\r\n",
        "W5 = tf.Variable(tf.random_normal([4*4*128, 10], stddev=0.01))\r\n",
        "b5 = tf.Variable(tf.random_normal([10]))\r\n",
        "\r\n",
        "Z5 = tf.matmul(A4_flat, W5) + b5\r\n",
        "\r\n",
        "y = tf.nn.softmax(Z5)"
      ],
      "execution_count": 17,
      "outputs": []
    },
    {
      "cell_type": "code",
      "metadata": {
        "id": "7G-QtSckkjje"
      },
      "source": [
        "loss = tf.reduce_mean(tf.nn.softmax_cross_entropy_with_logits_v2(labels=T, logits=Z5))\r\n",
        "\r\n",
        "optimizer = tf.train.AdamOptimizer(learning_rate)\r\n",
        "\r\n",
        "train = optimizer.minimize(loss)"
      ],
      "execution_count": 18,
      "outputs": []
    },
    {
      "cell_type": "code",
      "metadata": {
        "id": "SwwKW4INk4L3"
      },
      "source": [
        "predicted_val = tf.argmax(y,1)\r\n",
        "\r\n",
        "accuracy_index = tf.cast(tf.equal(tf.argmax(y,1), tf.argmax(T,1)), dtype=tf.float32)\r\n",
        "\r\n",
        "accuracy = tf.reduce_mean(accuracy_index)"
      ],
      "execution_count": 19,
      "outputs": []
    },
    {
      "cell_type": "code",
      "metadata": {
        "colab": {
          "base_uri": "https://localhost:8080/"
        },
        "id": "BZlxPRf1lGA_",
        "outputId": "b123359d-aba9-45e4-95e9-482983f069a6"
      },
      "source": [
        "index_label_prediction_list = []\r\n",
        "\r\n",
        "with tf.Session() as sess:\r\n",
        "\r\n",
        "  sess.run(tf.global_variables_initializer())\r\n",
        "\r\n",
        "  start_time = datetime.now()\r\n",
        "\r\n",
        "  \r\n",
        "  for i in range(epochs):\r\n",
        "\r\n",
        "      total_batch = int( mnist.train.num_examples / batch_size)\r\n",
        "\r\n",
        "      for step in range(total_batch):\r\n",
        "\r\n",
        "         batch_x_data, batch_t_data = mnist.train.next_batch(batch_size)\r\n",
        "\r\n",
        "         loss_val, _ = sess.run([loss, train], feed_dict={X:batch_x_data, T:batch_t_data})\r\n",
        "\r\n",
        "         if step % 100 == 0:\r\n",
        "\r\n",
        "              print(\"epochs = \", i, \", step = \", step, \", loss value = \", loss_val)\r\n",
        "\r\n",
        "  end_time = datetime.now()\r\n",
        "  \r\n",
        "  print(\"\\nElapsed time = \", end_time - start_time)\r\n",
        "\r\n",
        "  test_x_data = mnist.test.images\r\n",
        "  test_t_data = mnist.test.labels\r\n",
        "\r\n",
        "  accuracy_val, index_label, predicted_list = sess.run([accuracy, accuracy_index, predicted_val], feed_dict={X: test_x_data, T: test_t_data})\r\n",
        "\r\n",
        "  print(\"\\nAccuracy = \", accuracy_val)\r\n",
        "\r\n",
        "  temp_list = []\r\n",
        "\r\n",
        "  for i in range(len(index_label)):\r\n",
        "\r\n",
        "      if index_label[i] == 0:\r\n",
        "\r\n",
        "          temp_list.append(i)\r\n",
        "          temp_list.append(np.argmax(test_t_data[i]))\r\n",
        "          temp_list.append(predicted_list[i])\r\n",
        "\r\n",
        "          index_label_prediction_list.append(temp_list)\r\n",
        "\r\n",
        "          temp_list = []"
      ],
      "execution_count": 22,
      "outputs": [
        {
          "output_type": "stream",
          "text": [
            "epochs =  0 , step =  0 , loss value =  3.1495337\n",
            "epochs =  0 , step =  100 , loss value =  2.3079255\n",
            "epochs =  0 , step =  200 , loss value =  2.2976012\n",
            "epochs =  0 , step =  300 , loss value =  0.93066984\n",
            "epochs =  0 , step =  400 , loss value =  0.4829504\n",
            "epochs =  0 , step =  500 , loss value =  0.20003136\n",
            "epochs =  1 , step =  0 , loss value =  0.14897022\n",
            "epochs =  1 , step =  100 , loss value =  0.08579691\n",
            "epochs =  1 , step =  200 , loss value =  0.07864423\n",
            "epochs =  1 , step =  300 , loss value =  0.17412047\n",
            "epochs =  1 , step =  400 , loss value =  0.042315315\n",
            "epochs =  1 , step =  500 , loss value =  0.05896474\n",
            "epochs =  2 , step =  0 , loss value =  0.0502512\n",
            "epochs =  2 , step =  100 , loss value =  0.08338928\n",
            "epochs =  2 , step =  200 , loss value =  0.052878212\n",
            "epochs =  2 , step =  300 , loss value =  0.058541685\n",
            "epochs =  2 , step =  400 , loss value =  0.035661742\n",
            "epochs =  2 , step =  500 , loss value =  0.029986685\n",
            "epochs =  3 , step =  0 , loss value =  0.08634342\n",
            "epochs =  3 , step =  100 , loss value =  0.020115381\n",
            "epochs =  3 , step =  200 , loss value =  0.082218654\n",
            "epochs =  3 , step =  300 , loss value =  0.04503489\n",
            "epochs =  3 , step =  400 , loss value =  0.0949819\n",
            "epochs =  3 , step =  500 , loss value =  0.052355796\n",
            "epochs =  4 , step =  0 , loss value =  0.07513347\n",
            "epochs =  4 , step =  100 , loss value =  0.01514795\n",
            "epochs =  4 , step =  200 , loss value =  0.020158334\n",
            "epochs =  4 , step =  300 , loss value =  0.05917966\n",
            "epochs =  4 , step =  400 , loss value =  0.0761627\n",
            "epochs =  4 , step =  500 , loss value =  0.15807858\n",
            "epochs =  5 , step =  0 , loss value =  0.07122227\n",
            "epochs =  5 , step =  100 , loss value =  0.046952438\n",
            "epochs =  5 , step =  200 , loss value =  0.021661112\n",
            "epochs =  5 , step =  300 , loss value =  0.031191818\n",
            "epochs =  5 , step =  400 , loss value =  0.06243484\n",
            "epochs =  5 , step =  500 , loss value =  0.031644806\n",
            "epochs =  6 , step =  0 , loss value =  0.02033828\n",
            "epochs =  6 , step =  100 , loss value =  0.011164863\n",
            "epochs =  6 , step =  200 , loss value =  0.014620283\n",
            "epochs =  6 , step =  300 , loss value =  0.07192478\n",
            "epochs =  6 , step =  400 , loss value =  0.05403422\n",
            "epochs =  6 , step =  500 , loss value =  0.09166114\n",
            "epochs =  7 , step =  0 , loss value =  0.026280878\n",
            "epochs =  7 , step =  100 , loss value =  0.013494631\n",
            "epochs =  7 , step =  200 , loss value =  0.031856164\n",
            "epochs =  7 , step =  300 , loss value =  0.043895755\n",
            "epochs =  7 , step =  400 , loss value =  0.013185603\n",
            "epochs =  7 , step =  500 , loss value =  0.0022832642\n",
            "epochs =  8 , step =  0 , loss value =  0.015318854\n",
            "epochs =  8 , step =  100 , loss value =  0.034675222\n",
            "epochs =  8 , step =  200 , loss value =  0.10911822\n",
            "epochs =  8 , step =  300 , loss value =  0.08491761\n",
            "epochs =  8 , step =  400 , loss value =  0.043473125\n",
            "epochs =  8 , step =  500 , loss value =  0.01222806\n",
            "epochs =  9 , step =  0 , loss value =  0.011844757\n",
            "epochs =  9 , step =  100 , loss value =  0.063891165\n",
            "epochs =  9 , step =  200 , loss value =  0.01635272\n",
            "epochs =  9 , step =  300 , loss value =  0.032066654\n",
            "epochs =  9 , step =  400 , loss value =  0.0023257816\n",
            "epochs =  9 , step =  500 , loss value =  0.018300496\n",
            "epochs =  10 , step =  0 , loss value =  0.05186668\n",
            "epochs =  10 , step =  100 , loss value =  0.036902025\n",
            "epochs =  10 , step =  200 , loss value =  0.010129633\n",
            "epochs =  10 , step =  300 , loss value =  0.007080333\n",
            "epochs =  10 , step =  400 , loss value =  0.01450689\n",
            "epochs =  10 , step =  500 , loss value =  0.0010910836\n",
            "epochs =  11 , step =  0 , loss value =  0.0055320878\n",
            "epochs =  11 , step =  100 , loss value =  0.017230492\n",
            "epochs =  11 , step =  200 , loss value =  0.01028977\n",
            "epochs =  11 , step =  300 , loss value =  0.002389846\n",
            "epochs =  11 , step =  400 , loss value =  0.043173574\n",
            "epochs =  11 , step =  500 , loss value =  0.003418802\n",
            "epochs =  12 , step =  0 , loss value =  0.0031201288\n",
            "epochs =  12 , step =  100 , loss value =  0.009294671\n",
            "epochs =  12 , step =  200 , loss value =  0.035363413\n",
            "epochs =  12 , step =  300 , loss value =  0.027588293\n",
            "epochs =  12 , step =  400 , loss value =  0.025102377\n",
            "epochs =  12 , step =  500 , loss value =  0.004282525\n",
            "epochs =  13 , step =  0 , loss value =  0.0011970542\n",
            "epochs =  13 , step =  100 , loss value =  0.034152333\n",
            "epochs =  13 , step =  200 , loss value =  0.0021584115\n",
            "epochs =  13 , step =  300 , loss value =  0.02982127\n",
            "epochs =  13 , step =  400 , loss value =  0.01482678\n",
            "epochs =  13 , step =  500 , loss value =  0.0050473767\n",
            "epochs =  14 , step =  0 , loss value =  0.03307102\n",
            "epochs =  14 , step =  100 , loss value =  0.014169075\n",
            "epochs =  14 , step =  200 , loss value =  0.010171074\n",
            "epochs =  14 , step =  300 , loss value =  0.0038038788\n",
            "epochs =  14 , step =  400 , loss value =  0.0022486015\n",
            "epochs =  14 , step =  500 , loss value =  0.008441462\n",
            "epochs =  15 , step =  0 , loss value =  0.0025279755\n",
            "epochs =  15 , step =  100 , loss value =  0.017528735\n",
            "epochs =  15 , step =  200 , loss value =  0.0035203183\n",
            "epochs =  15 , step =  300 , loss value =  0.003620055\n",
            "epochs =  15 , step =  400 , loss value =  0.008323307\n",
            "epochs =  15 , step =  500 , loss value =  0.0015531197\n",
            "epochs =  16 , step =  0 , loss value =  0.0037573515\n",
            "epochs =  16 , step =  100 , loss value =  0.0064176517\n",
            "epochs =  16 , step =  200 , loss value =  0.007703738\n",
            "epochs =  16 , step =  300 , loss value =  0.030923458\n",
            "epochs =  16 , step =  400 , loss value =  0.0022198292\n",
            "epochs =  16 , step =  500 , loss value =  0.0016706821\n",
            "epochs =  17 , step =  0 , loss value =  0.0005751564\n",
            "epochs =  17 , step =  100 , loss value =  0.023228858\n",
            "epochs =  17 , step =  200 , loss value =  0.15795103\n",
            "epochs =  17 , step =  300 , loss value =  0.00531719\n",
            "epochs =  17 , step =  400 , loss value =  0.004479725\n",
            "epochs =  17 , step =  500 , loss value =  0.0599308\n",
            "epochs =  18 , step =  0 , loss value =  0.02833078\n",
            "epochs =  18 , step =  100 , loss value =  0.0021379823\n",
            "epochs =  18 , step =  200 , loss value =  0.0003948127\n",
            "epochs =  18 , step =  300 , loss value =  0.0016237177\n",
            "epochs =  18 , step =  400 , loss value =  0.00199487\n",
            "epochs =  18 , step =  500 , loss value =  0.0011818559\n",
            "epochs =  19 , step =  0 , loss value =  0.00041559024\n",
            "epochs =  19 , step =  100 , loss value =  0.032090914\n",
            "epochs =  19 , step =  200 , loss value =  0.0007745049\n",
            "epochs =  19 , step =  300 , loss value =  0.044574402\n",
            "epochs =  19 , step =  400 , loss value =  0.03286081\n",
            "epochs =  19 , step =  500 , loss value =  0.023597674\n",
            "epochs =  20 , step =  0 , loss value =  0.009078343\n",
            "epochs =  20 , step =  100 , loss value =  0.00059341884\n",
            "epochs =  20 , step =  200 , loss value =  0.008565795\n",
            "epochs =  20 , step =  300 , loss value =  0.0021260127\n",
            "epochs =  20 , step =  400 , loss value =  0.048205584\n",
            "epochs =  20 , step =  500 , loss value =  0.040394038\n",
            "epochs =  21 , step =  0 , loss value =  0.024074944\n",
            "epochs =  21 , step =  100 , loss value =  0.00057824166\n",
            "epochs =  21 , step =  200 , loss value =  0.0026182702\n",
            "epochs =  21 , step =  300 , loss value =  0.00041104085\n",
            "epochs =  21 , step =  400 , loss value =  0.044289123\n",
            "epochs =  21 , step =  500 , loss value =  0.011360749\n",
            "epochs =  22 , step =  0 , loss value =  0.0011696904\n",
            "epochs =  22 , step =  100 , loss value =  0.0018680904\n",
            "epochs =  22 , step =  200 , loss value =  0.00030608874\n",
            "epochs =  22 , step =  300 , loss value =  0.00013834302\n",
            "epochs =  22 , step =  400 , loss value =  0.0025732531\n",
            "epochs =  22 , step =  500 , loss value =  0.00082230044\n",
            "epochs =  23 , step =  0 , loss value =  0.0064569013\n",
            "epochs =  23 , step =  100 , loss value =  0.00034255863\n",
            "epochs =  23 , step =  200 , loss value =  0.0032836618\n",
            "epochs =  23 , step =  300 , loss value =  0.019059228\n",
            "epochs =  23 , step =  400 , loss value =  0.10957169\n",
            "epochs =  23 , step =  500 , loss value =  0.008368661\n",
            "epochs =  24 , step =  0 , loss value =  0.00040478038\n",
            "epochs =  24 , step =  100 , loss value =  0.0012091149\n",
            "epochs =  24 , step =  200 , loss value =  0.0011615051\n",
            "epochs =  24 , step =  300 , loss value =  0.0010218942\n",
            "epochs =  24 , step =  400 , loss value =  0.00025358365\n",
            "epochs =  24 , step =  500 , loss value =  0.052708913\n",
            "epochs =  25 , step =  0 , loss value =  0.0036119625\n",
            "epochs =  25 , step =  100 , loss value =  0.0009734689\n",
            "epochs =  25 , step =  200 , loss value =  0.0037365332\n",
            "epochs =  25 , step =  300 , loss value =  0.030768657\n",
            "epochs =  25 , step =  400 , loss value =  0.03052214\n",
            "epochs =  25 , step =  500 , loss value =  0.0021110238\n",
            "epochs =  26 , step =  0 , loss value =  0.0025657755\n",
            "epochs =  26 , step =  100 , loss value =  0.018169273\n",
            "epochs =  26 , step =  200 , loss value =  1.9112083e-05\n",
            "epochs =  26 , step =  300 , loss value =  0.004317615\n",
            "epochs =  26 , step =  400 , loss value =  0.0030402916\n",
            "epochs =  26 , step =  500 , loss value =  0.0013015958\n",
            "epochs =  27 , step =  0 , loss value =  5.1704355e-05\n",
            "epochs =  27 , step =  100 , loss value =  0.00040522567\n",
            "epochs =  27 , step =  200 , loss value =  0.00021937507\n",
            "epochs =  27 , step =  300 , loss value =  7.7560835e-05\n",
            "epochs =  27 , step =  400 , loss value =  0.00029993855\n",
            "epochs =  27 , step =  500 , loss value =  0.0008690548\n",
            "epochs =  28 , step =  0 , loss value =  7.001034e-05\n",
            "epochs =  28 , step =  100 , loss value =  0.02500808\n",
            "epochs =  28 , step =  200 , loss value =  0.00021118257\n",
            "epochs =  28 , step =  300 , loss value =  2.3781835e-05\n",
            "epochs =  28 , step =  400 , loss value =  0.0021836804\n",
            "epochs =  28 , step =  500 , loss value =  0.0006736035\n",
            "epochs =  29 , step =  0 , loss value =  0.0009411469\n",
            "epochs =  29 , step =  100 , loss value =  0.0004378264\n",
            "epochs =  29 , step =  200 , loss value =  0.0019306211\n",
            "epochs =  29 , step =  300 , loss value =  0.001563803\n",
            "epochs =  29 , step =  400 , loss value =  0.00023875068\n",
            "epochs =  29 , step =  500 , loss value =  0.027975347\n",
            "\n",
            "Elapsed time =  0:01:37.334499\n",
            "\n",
            "Accuracy =  0.9895\n"
          ],
          "name": "stdout"
        }
      ]
    }
  ]
}