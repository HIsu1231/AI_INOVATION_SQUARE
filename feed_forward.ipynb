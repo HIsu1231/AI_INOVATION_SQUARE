{
 "cells": [
  {
   "cell_type": "code",
   "execution_count": 1,
   "metadata": {},
   "outputs": [],
   "source": [
    "import numpy as np\n",
    "\n",
    "\n",
    "# 수치미분 함수\n",
    "def numerical_derivative(f, x):\n",
    "    delta_x = 1e-4 # 0.0001\n",
    "    grad = np.zeros_like(x)\n",
    "    \n",
    "    it = np.nditer(x, flags=['multi_index'], op_flags=['readwrite'])\n",
    "    \n",
    "    while not it.finished:\n",
    "        idx = it.multi_index        \n",
    "        tmp_val = x[idx]\n",
    "        x[idx] = float(tmp_val) + delta_x\n",
    "        fx1 = f(x) # f(x+delta_x)\n",
    "        \n",
    "        x[idx] = tmp_val - delta_x \n",
    "        fx2 = f(x) # f(x-delta_x)\n",
    "        grad[idx] = (fx1 - fx2) / (2*delta_x)\n",
    "        \n",
    "        x[idx] = tmp_val \n",
    "        it.iternext()   \n",
    "        \n",
    "    return grad\n",
    "\n",
    "# 활성화함수 sigmoid\n",
    "def sigmoid(x):\n",
    "    \n",
    "    return 1 / (1 + np.exp(-x))"
   ]
  },
  {
   "cell_type": "markdown",
   "metadata": {},
   "source": [
    "#1"
   ]
  },
  {
   "cell_type": "code",
   "execution_count": 2,
   "metadata": {},
   "outputs": [],
   "source": [
    "input_data = np.array([1,2])\n",
    "target_data = np.array([1])"
   ]
  },
  {
   "cell_type": "code",
   "execution_count": 3,
   "metadata": {},
   "outputs": [],
   "source": [
    "input_nodes = 2\n",
    "hidden_nodes = 3\n",
    "output_nodes = 1"
   ]
  },
  {
   "cell_type": "code",
   "execution_count": 4,
   "metadata": {},
   "outputs": [],
   "source": [
    "W2 = np.random.rand(input_nodes,hidden_nodes)\n",
    "b2 = np.random.rand(hidden_nodes)\n",
    "\n",
    "W3 = np.random.rand(hidden_nodes,output_nodes)\n",
    "b3 = np.random.rand(output_nodes)"
   ]
  },
  {
   "cell_type": "code",
   "execution_count": 5,
   "metadata": {},
   "outputs": [],
   "source": [
    "def feed_forward(xdata):\n",
    "    \n",
    "    delta = 1e-7\n",
    "    \n",
    "    Z2 = np.dot(xdata,W2) + b2\n",
    "    \n",
    "    print(\"[feed_forward function]\")\n",
    "    print(\"Z2 = \",Z2)\n",
    "    \n",
    "    A2 = sigmoid(Z2)\n",
    "    \n",
    "    print(\"A2 = \",A2)\n",
    "\n",
    "    Z3 = np.dot(A2,W3) + b3\n",
    "    \n",
    "    print(\"[feed_forward function]\")\n",
    "    print(\"Z3 = \",Z3)\n",
    "    \n",
    "    y = A3 = sigmoid(Z3)\n",
    "    \n",
    "    print(\"y(A3)= \",y)\n",
    "    \n",
    "    loss = -np.sum(target_data*np.log(y+delta) + (1-target_data)*np.log((1-y)+delta))\n",
    "    \n",
    "    print(\"current loss val = \",loss)\n",
    "    \n",
    "    print(\"[feed_forward function]\")\n",
    "    \n",
    "    return loss"
   ]
  },
  {
   "cell_type": "code",
   "execution_count": 6,
   "metadata": {},
   "outputs": [
    {
     "name": "stdout",
     "output_type": "stream",
     "text": [
      "[feed_forward function]\n",
      "Z2 =  [2.11933883 2.25218003 1.79034429]\n",
      "A2 =  [0.89276865 0.90483841 0.85696948]\n",
      "[feed_forward function]\n",
      "Z3 =  [1.8210623]\n",
      "y(A3)=  [0.86069355]\n",
      "current loss val =  0.15001664950340723\n",
      "[feed_forward function]\n"
     ]
    }
   ],
   "source": [
    "loss_val = feed_forward(input_data)"
   ]
  },
  {
   "cell_type": "code",
   "execution_count": 7,
   "metadata": {},
   "outputs": [
    {
     "name": "stdout",
     "output_type": "stream",
     "text": [
      "\n",
      "========================================\n",
      "initial W2 =  [[0.3026436  0.95180879 0.1304653 ]\n",
      " [0.46026683 0.42681909 0.37324685]]\n",
      "initial b2 =  [0.89616156 0.44673305 0.91338529]\n",
      "initial W3 =  [[0.4831098 ]\n",
      " [0.00615696]\n",
      " [0.90150494]]\n",
      "initial b3 =  [0.61162374]\n",
      "=========================================\n",
      "\n",
      "[feed_forward function]\n",
      "Z2 =  [2.11943883 2.25218003 1.79034429]\n",
      "A2 =  [0.89277822 0.90483841 0.85696948]\n",
      "[feed_forward function]\n",
      "Z3 =  [1.82106693]\n",
      "y(A3)=  [0.8606941]\n",
      "current loss val =  0.15001600524540823\n",
      "[feed_forward function]\n",
      "[feed_forward function]\n",
      "Z2 =  [2.11923883 2.25218003 1.79034429]\n",
      "A2 =  [0.89275908 0.90483841 0.85696948]\n",
      "[feed_forward function]\n",
      "Z3 =  [1.82105768]\n",
      "y(A3)=  [0.86069299]\n",
      "current loss val =  0.1500172938145818\n",
      "[feed_forward function]\n",
      "[feed_forward function]\n",
      "Z2 =  [2.11933883 2.25228003 1.79034429]\n",
      "A2 =  [0.89276865 0.90484702 0.85696948]\n",
      "[feed_forward function]\n",
      "Z3 =  [1.82106236]\n",
      "y(A3)=  [0.86069355]\n",
      "current loss val =  0.1500166421183735\n",
      "[feed_forward function]\n",
      "[feed_forward function]\n",
      "Z2 =  [2.11933883 2.25208003 1.79034429]\n",
      "A2 =  [0.89276865 0.9048298  0.85696948]\n",
      "[feed_forward function]\n",
      "Z3 =  [1.82106225]\n",
      "y(A3)=  [0.86069354]\n",
      "current loss val =  0.15001665688903928\n",
      "[feed_forward function]\n",
      "[feed_forward function]\n",
      "Z2 =  [2.11933883 2.25218003 1.79044429]\n",
      "A2 =  [0.89276865 0.90483841 0.85698174]\n",
      "[feed_forward function]\n",
      "Z3 =  [1.82107335]\n",
      "y(A3)=  [0.86069487]\n",
      "current loss val =  0.15001511022989247\n",
      "[feed_forward function]\n",
      "[feed_forward function]\n",
      "Z2 =  [2.11933883 2.25218003 1.79024429]\n",
      "A2 =  [0.89276865 0.90483841 0.85695722]\n",
      "[feed_forward function]\n",
      "Z3 =  [1.82105125]\n",
      "y(A3)=  [0.86069222]\n",
      "current loss val =  0.15001818890146124\n",
      "[feed_forward function]\n",
      "[feed_forward function]\n",
      "Z2 =  [2.11953883 2.25218003 1.79034429]\n",
      "A2 =  [0.8927878  0.90483841 0.85696948]\n",
      "[feed_forward function]\n",
      "Z3 =  [1.82107155]\n",
      "y(A3)=  [0.86069466]\n",
      "current loss val =  0.1500153610405817\n",
      "[feed_forward function]\n",
      "[feed_forward function]\n",
      "Z2 =  [2.11913883 2.25218003 1.79034429]\n",
      "A2 =  [0.8927495  0.90483841 0.85696948]\n",
      "[feed_forward function]\n",
      "Z3 =  [1.82105305]\n",
      "y(A3)=  [0.86069244]\n",
      "current loss val =  0.1500179381789353\n",
      "[feed_forward function]\n",
      "[feed_forward function]\n",
      "Z2 =  [2.11933883 2.25238003 1.79034429]\n",
      "A2 =  [0.89276865 0.90485563 0.85696948]\n",
      "[feed_forward function]\n",
      "Z3 =  [1.82106241]\n",
      "y(A3)=  [0.86069356]\n",
      "current loss val =  0.15001663473393823\n",
      "[feed_forward function]\n",
      "[feed_forward function]\n",
      "Z2 =  [2.11933883 2.25198003 1.79034429]\n",
      "A2 =  [0.89276865 0.90482119 0.85696948]\n",
      "[feed_forward function]\n",
      "Z3 =  [1.8210622]\n",
      "y(A3)=  [0.86069353]\n",
      "current loss val =  0.15001666427526952\n",
      "[feed_forward function]\n",
      "[feed_forward function]\n",
      "Z2 =  [2.11933883 2.25218003 1.79054429]\n",
      "A2 =  [0.89276865 0.90483841 0.856994  ]\n",
      "[feed_forward function]\n",
      "Z3 =  [1.8210844]\n",
      "y(A3)=  [0.8606962]\n",
      "current loss val =  0.15001357108090968\n",
      "[feed_forward function]\n",
      "[feed_forward function]\n",
      "Z2 =  [2.11933883 2.25218003 1.79014429]\n",
      "A2 =  [0.89276865 0.90483841 0.85694497]\n",
      "[feed_forward function]\n",
      "Z3 =  [1.8210402]\n",
      "y(A3)=  [0.8606909]\n",
      "current loss val =  0.150019728424062\n",
      "[feed_forward function]\n",
      "[feed_forward function]\n",
      "Z2 =  [2.12266025 2.25221696 1.79804097]\n",
      "A2 =  [0.8930862  0.90484159 0.8579103 ]\n",
      "[feed_forward function]\n",
      "Z3 =  [1.82206388]\n",
      "y(A3)=  [0.86081359]\n",
      "current loss val =  0.14987718285742785\n",
      "[feed_forward function]\n",
      "[feed_forward function]\n",
      "Z2 =  [2.12246025 2.25221696 1.79804097]\n",
      "A2 =  [0.89306711 0.90484159 0.8579103 ]\n",
      "[feed_forward function]\n",
      "Z3 =  [1.82205466]\n",
      "y(A3)=  [0.86081249]\n",
      "current loss val =  0.1498784670661528\n",
      "[feed_forward function]\n",
      "[feed_forward function]\n",
      "Z2 =  [2.12256025 2.25231696 1.79804097]\n",
      "A2 =  [0.89307666 0.9048502  0.8579103 ]\n",
      "[feed_forward function]\n",
      "Z3 =  [1.82205932]\n",
      "y(A3)=  [0.86081305]\n",
      "current loss val =  0.1498778175567974\n",
      "[feed_forward function]\n",
      "[feed_forward function]\n",
      "Z2 =  [2.12256025 2.25211696 1.79804097]\n",
      "A2 =  [0.89307666 0.90483298 0.8579103 ]\n",
      "[feed_forward function]\n",
      "Z3 =  [1.82205922]\n",
      "y(A3)=  [0.86081303]\n",
      "current loss val =  0.1498778323143519\n",
      "[feed_forward function]\n",
      "[feed_forward function]\n",
      "Z2 =  [2.12256025 2.25221696 1.79814097]\n",
      "A2 =  [0.89307666 0.90484159 0.85792249]\n",
      "[feed_forward function]\n",
      "Z3 =  [1.82207026]\n",
      "y(A3)=  [0.86081436]\n",
      "current loss val =  0.14987629542111633\n",
      "[feed_forward function]\n",
      "[feed_forward function]\n",
      "Z2 =  [2.12256025 2.25221696 1.79794097]\n",
      "A2 =  [0.89307666 0.90484159 0.85789811]\n",
      "[feed_forward function]\n",
      "Z3 =  [1.82204828]\n",
      "y(A3)=  [0.86081172]\n",
      "current loss val =  0.14987935457339474\n",
      "[feed_forward function]\n",
      "[feed_forward function]\n",
      "Z2 =  [2.12320235 2.25222434 1.79957054]\n",
      "A2 =  [0.89313796 0.90484223 0.85809665]\n",
      "[feed_forward function]\n",
      "Z3 =  [1.8223462]\n",
      "y(A3)=  [0.86084741]\n",
      "current loss val =  0.14983789284279797\n",
      "[feed_forward function]\n",
      "[feed_forward function]\n",
      "Z2 =  [2.12320235 2.25222434 1.79957054]\n",
      "A2 =  [0.89313796 0.90484223 0.85809665]\n",
      "[feed_forward function]\n",
      "Z3 =  [1.82216758]\n",
      "y(A3)=  [0.86082602]\n",
      "current loss val =  0.1498627512422079\n",
      "[feed_forward function]\n",
      "[feed_forward function]\n",
      "Z2 =  [2.12320235 2.25222434 1.79957054]\n",
      "A2 =  [0.89313796 0.90484223 0.85809665]\n",
      "[feed_forward function]\n",
      "Z3 =  [1.82234737]\n",
      "y(A3)=  [0.86084755]\n",
      "current loss val =  0.14983772997489805\n",
      "[feed_forward function]\n",
      "[feed_forward function]\n",
      "Z2 =  [2.12320235 2.25222434 1.79957054]\n",
      "A2 =  [0.89313796 0.90484223 0.85809665]\n",
      "[feed_forward function]\n",
      "Z3 =  [1.8221664]\n",
      "y(A3)=  [0.86082588]\n",
      "current loss val =  0.1498629141353179\n",
      "[feed_forward function]\n",
      "[feed_forward function]\n",
      "Z2 =  [2.12320235 2.25222434 1.79957054]\n",
      "A2 =  [0.89313796 0.90484223 0.85809665]\n",
      "[feed_forward function]\n",
      "Z3 =  [1.8223427]\n",
      "y(A3)=  [0.86084699]\n",
      "current loss val =  0.14983838045230408\n",
      "[feed_forward function]\n",
      "[feed_forward function]\n",
      "Z2 =  [2.12320235 2.25222434 1.79957054]\n",
      "A2 =  [0.89313796 0.90484223 0.85809665]\n",
      "[feed_forward function]\n",
      "Z3 =  [1.82217108]\n",
      "y(A3)=  [0.86082644]\n",
      "current loss val =  0.1498622635591879\n",
      "[feed_forward function]\n",
      "[feed_forward function]\n",
      "Z2 =  [2.12320235 2.25222434 1.79957054]\n",
      "A2 =  [0.89313796 0.90484223 0.85809665]\n",
      "[feed_forward function]\n",
      "Z3 =  [1.85509873]\n",
      "y(A3)=  [0.86472464]\n",
      "current loss val =  0.14534404023995717\n",
      "[feed_forward function]\n",
      "[feed_forward function]\n",
      "Z2 =  [2.12320235 2.25222434 1.79957054]\n",
      "A2 =  [0.89313796 0.90484223 0.85809665]\n",
      "[feed_forward function]\n",
      "Z3 =  [1.85489873]\n",
      "y(A3)=  [0.86470124]\n",
      "current loss val =  0.14537109764809636\n",
      "[feed_forward function]\n",
      "\n",
      "=========================================\n",
      "updated W2 =  [[0.30328789 0.95181618 0.13200464]\n",
      " [0.4615554  0.42683386 0.37632552]]\n",
      "updated b2 =  [0.89680366 0.44674043 0.91491487]\n",
      "updated W3 =  [[0.495539  ]\n",
      " [0.01874904]\n",
      " [0.91344649]]\n",
      "updated b3 =  [0.62515245]\n"
     ]
    }
   ],
   "source": [
    "learning_rate = 1e-1\n",
    "\n",
    "f = lambda x: feed_forward(input_data)\n",
    "print(\"\\n========================================\")\n",
    "print(\"initial W2 = \",W2)\n",
    "print(\"initial b2 = \",b2)\n",
    "print(\"initial W3 = \",W3)\n",
    "print(\"initial b3 = \",b3)\n",
    "print(\"=========================================\\n\")\n",
    "\n",
    "W2 -= learning_rate * numerical_derivative(f,W2)\n",
    "b2 -= learning_rate * numerical_derivative(f,b2)\n",
    "\n",
    "W3 -= learning_rate * numerical_derivative(f,W3)\n",
    "b3 -= learning_rate * numerical_derivative(f,b3)\n",
    "\n",
    "print(\"\\n=========================================\")\n",
    "print(\"updated W2 = \",W2)\n",
    "print(\"updated b2 = \",b2)\n",
    "print(\"updated W3 = \",W3)\n",
    "print(\"updated b3 = \",b3 )"
   ]
  },
  {
   "cell_type": "markdown",
   "metadata": {},
   "source": [
    "### #2"
   ]
  },
  {
   "cell_type": "code",
   "execution_count": 8,
   "metadata": {},
   "outputs": [],
   "source": [
    "def feed_forward(xdata,tdata):\n",
    "    \n",
    "    delta = 1e-7\n",
    "    \n",
    "    z2 = np.dot(xdata, W2) + b2\n",
    "    a2 = sigmoid(z2)\n",
    "    \n",
    "    z3 = np.dot(a2,W3) + b3\n",
    "    y = a3 = sigmoid(z3)\n",
    "    \n",
    "    return -np.sum(tdata*np.log(y+delta) + (1-tdata)*np.log((1-y)+delta))"
   ]
  },
  {
   "cell_type": "code",
   "execution_count": 9,
   "metadata": {},
   "outputs": [],
   "source": [
    "def predict(xdata):\n",
    "    \n",
    "    z2 = np.dot(xdata,W2) + b2\n",
    "    a2 = sigmoid(z2)\n",
    "    \n",
    "    z3 = np.dot(a2,W3) + b3\n",
    "    y = a3 = sigmoid(z3)\n",
    "    \n",
    "    if y >= 0.5:\n",
    "        result = 1\n",
    "    else:\n",
    "        result = 0\n",
    "        \n",
    "    return y, result"
   ]
  },
  {
   "cell_type": "code",
   "execution_count": 10,
   "metadata": {},
   "outputs": [],
   "source": [
    "\n",
    "xdata = np.array([[0,0],[0,1],[1,0],[1,1]])\n",
    "and_tdata = np.array([0,0,0,1]).reshape(4,1)\n",
    "or_tdata = np.array([0,1,1,1]).reshape(4,1)\n",
    "nand_tdata = np.array([1,1,1,0]).reshape(4,1)\n",
    "xor_tdata = np.array([0,1,1,0]).reshape(4,1)\n",
    "\n",
    "test_data = np.array([[0,0],[0,1],[1,0],[1,1]])"
   ]
  },
  {
   "cell_type": "markdown",
   "metadata": {},
   "source": [
    "AND게이트"
   ]
  },
  {
   "cell_type": "code",
   "execution_count": 11,
   "metadata": {},
   "outputs": [
    {
     "name": "stdout",
     "output_type": "stream",
     "text": [
      "step =  0 loss value =  6.790225360701037\n",
      "step =  1000 loss value =  0.03845734129648172\n",
      "step =  2000 loss value =  0.013621697776283654\n",
      "step =  3000 loss value =  0.007858997683305887\n",
      "step =  4000 loss value =  0.0054121455070076565\n",
      "step =  5000 loss value =  0.004083760628659569\n",
      "step =  6000 loss value =  0.0032579538155328306\n",
      "step =  7000 loss value =  0.002698370823109389\n",
      "step =  8000 loss value =  0.0022958425596321793\n",
      "step =  9000 loss value =  0.001993303392841064\n",
      "step =  10000 loss value =  0.001758148079765669\n"
     ]
    }
   ],
   "source": [
    "input_nodes = 2\n",
    "hidden_nodes = 10\n",
    "output_nodes = 1 \n",
    "\n",
    "W2 = np.random.rand(input_nodes,hidden_nodes)\n",
    "b2 = np.random.rand(hidden_nodes)\n",
    "\n",
    "W3 = np.random.rand(hidden_nodes,output_nodes)\n",
    "b3 = np.random.rand(output_nodes)\n",
    "\n",
    "learning_rate = 1e-1\n",
    "\n",
    "f = lambda x: feed_forward(xdata, and_tdata)\n",
    "\n",
    "for step in range(10001):\n",
    "    \n",
    "    W2 -= learning_rate * numerical_derivative(f,W2)\n",
    "    b2 -= learning_rate * numerical_derivative(f,b2)\n",
    "    \n",
    "    W3 -= learning_rate * numerical_derivative(f,W3)\n",
    "    b3 -= learning_rate * numerical_derivative(f,b3)\n",
    "    \n",
    "    if (step%1000==0):\n",
    "        print(\"step = \",step,\"loss value = \",feed_forward(xdata, and_tdata))"
   ]
  },
  {
   "cell_type": "code",
   "execution_count": 12,
   "metadata": {},
   "outputs": [
    {
     "name": "stdout",
     "output_type": "stream",
     "text": [
      "real_val =  [1.00715826e-07] logical_val =  0\n",
      "real_val =  [0.00045294] logical_val =  0\n",
      "real_val =  [0.00046305] logical_val =  0\n",
      "real_val =  [0.99915811] logical_val =  1\n"
     ]
    }
   ],
   "source": [
    "#AND prediction\n",
    "for data in test_data:\n",
    "    (real_val, logical_val) = predict(data)\n",
    "    print(\"real_val = \",real_val, \"logical_val = \",logical_val)"
   ]
  },
  {
   "cell_type": "markdown",
   "metadata": {},
   "source": [
    "OR게이트    "
   ]
  },
  {
   "cell_type": "code",
   "execution_count": 13,
   "metadata": {},
   "outputs": [
    {
     "name": "stdout",
     "output_type": "stream",
     "text": [
      "step =  0 loss value =  3.204577991762359\n",
      "step =  1000 loss value =  0.027700891260279747\n",
      "step =  2000 loss value =  0.010353981256916257\n",
      "step =  3000 loss value =  0.006108691189599765\n",
      "step =  4000 loss value =  0.004261315940685154\n",
      "step =  5000 loss value =  0.0032432860937014686\n",
      "step =  6000 loss value =  0.002603831299436214\n",
      "step =  7000 loss value =  0.0021671609921726964\n",
      "step =  8000 loss value =  0.0018511357391134819\n",
      "step =  9000 loss value =  0.0016124364604522005\n",
      "step =  10000 loss value =  0.001426135684590666\n"
     ]
    }
   ],
   "source": [
    "input_nodes = 2\n",
    "hidden_nodes = 10\n",
    "output_nodes = 1\n",
    "\n",
    "W2 = np.random.rand(input_nodes,hidden_nodes)\n",
    "b2 = np.random.rand(hidden_nodes)\n",
    "\n",
    "W3 = np.random.rand(hidden_nodes,output_nodes)\n",
    "b3 = np.random.rand(output_nodes)\n",
    "\n",
    "learning_rate = 1e-1\n",
    "\n",
    "f = lambda x : feed_forward(xdata, or_tdata)\n",
    "\n",
    "for step in range(10001):\n",
    "    \n",
    "    W2 -= learning_rate * numerical_derivative(f,W2)\n",
    "    b2 -= learning_rate * numerical_derivative(f,b2)\n",
    "    \n",
    "    W3 -= learning_rate * numerical_derivative(f,W3)\n",
    "    b3 -= learning_rate * numerical_derivative(f,b3)\n",
    "    \n",
    "    if(step%1000 == 0):\n",
    "        print(\"step = \",step,\"loss value = \",feed_forward(xdata,or_tdata))"
   ]
  },
  {
   "cell_type": "code",
   "execution_count": 14,
   "metadata": {},
   "outputs": [
    {
     "name": "stdout",
     "output_type": "stream",
     "text": [
      "real_val =  [0.00079161] logical_val =  0\n",
      "real_val =  [0.99966392] logical_val =  1\n",
      "real_val =  [0.99970324] logical_val =  1\n",
      "real_val =  [0.99999832] logical_val =  1\n"
     ]
    }
   ],
   "source": [
    "#Or prediction\n",
    "\n",
    "for data in test_data:\n",
    "    (real_val, logical_val) = predict(data)\n",
    "    print(\"real_val = \",real_val, \"logical_val = \",logical_val)"
   ]
  },
  {
   "cell_type": "markdown",
   "metadata": {},
   "source": [
    "NAND 게이트"
   ]
  },
  {
   "cell_type": "code",
   "execution_count": 15,
   "metadata": {},
   "outputs": [
    {
     "name": "stdout",
     "output_type": "stream",
     "text": [
      "step =  0 loss value =  3.9844736421221603\n",
      "step =  1000 loss value =  0.03966709270390309\n",
      "step =  2000 loss value =  0.014355985359420013\n",
      "step =  3000 loss value =  0.008378544228453112\n",
      "step =  4000 loss value =  0.005811016367808196\n",
      "step =  5000 loss value =  0.004406067470512849\n",
      "step =  6000 loss value =  0.0035276118525853777\n",
      "step =  7000 loss value =  0.002929712902932139\n",
      "step =  8000 loss value =  0.0024981054886575073\n",
      "step =  9000 loss value =  0.0021727748552487196\n",
      "step =  10000 loss value =  0.001919294890647496\n"
     ]
    }
   ],
   "source": [
    "input_nodes = 2\n",
    "hidden_nodes = 10\n",
    "output_nodes = 1\n",
    "\n",
    "W2 = np.random.rand(input_nodes,hidden_nodes)\n",
    "b2 = np.random.rand(hidden_nodes)\n",
    "\n",
    "W3 = np.random.rand(hidden_nodes,output_nodes)\n",
    "b3 = np.random.rand(output_nodes)\n",
    "\n",
    "learning_rate = 1e-1\n",
    "\n",
    "f = lambda x: feed_forward(xdata,nand_tdata)\n",
    "\n",
    "for step in range(10001):\n",
    "    \n",
    "    W2 -= learning_rate * numerical_derivative(f,W2)\n",
    "    b2 -= learning_rate * numerical_derivative(f,b2)\n",
    "    \n",
    "    W3 -= learning_rate * numerical_derivative(f,W3)\n",
    "    b3 -= learning_rate * numerical_derivative(f,b3)\n",
    "    \n",
    "    if (step%1000 == 0):\n",
    "        print(\"step = \",step,\"loss value = \",feed_forward(xdata,nand_tdata))"
   ]
  },
  {
   "cell_type": "code",
   "execution_count": 16,
   "metadata": {},
   "outputs": [
    {
     "name": "stdout",
     "output_type": "stream",
     "text": [
      "real_val =  [0.99999975] logical_val =  1\n",
      "real_val =  [0.99952209] logical_val =  1\n",
      "real_val =  [0.99949326] logical_val =  1\n",
      "real_val =  [0.00093412] logical_val =  0\n"
     ]
    }
   ],
   "source": [
    "#nand prediction\n",
    "\n",
    "for data in test_data:\n",
    "    (real_val, logical_val) = predict(data)\n",
    "    print(\"real_val = \",real_val,\"logical_val = \",logical_val)"
   ]
  },
  {
   "cell_type": "markdown",
   "metadata": {},
   "source": [
    "XOR 게이트"
   ]
  },
  {
   "cell_type": "code",
   "execution_count": 17,
   "metadata": {},
   "outputs": [
    {
     "name": "stdout",
     "output_type": "stream",
     "text": [
      "step =  0 loss value =  5.785165740473264\n",
      "step =  1000 loss value =  0.7835124274935059\n",
      "step =  2000 loss value =  0.09013839233488034\n",
      "step =  3000 loss value =  0.03757004830444026\n",
      "step =  4000 loss value =  0.022347446897824624\n",
      "step =  5000 loss value =  0.015505964333514716\n",
      "step =  6000 loss value =  0.011712860930704633\n",
      "step =  7000 loss value =  0.009334137733060192\n",
      "step =  8000 loss value =  0.007716540300820626\n",
      "step =  9000 loss value =  0.0065516842320713815\n",
      "step =  10000 loss value =  0.005676330595955671\n"
     ]
    }
   ],
   "source": [
    "input_nodes = 2\n",
    "hidden_nodes = 10\n",
    "output_nodes = 1\n",
    "\n",
    "W2 = np.random.rand(input_nodes,hidden_nodes)\n",
    "b2 = np.random.rand(hidden_nodes)\n",
    "\n",
    "W3 = np.random.rand(hidden_nodes,output_nodes)\n",
    "b3 = np.random.rand(output_nodes)\n",
    "\n",
    "learning_rate = 1e-1\n",
    "\n",
    "f = lambda x : feed_forward(xdata,xor_tdata)\n",
    "\n",
    "for step in range(10001):\n",
    "    \n",
    "    W2 -= learning_rate * numerical_derivative(f,W2)\n",
    "    b2 -= learning_rate * numerical_derivative(f,b2)\n",
    "    \n",
    "    W3 -= learning_rate * numerical_derivative(f,W3)\n",
    "    b3 -= learning_rate * numerical_derivative(f,b3)\n",
    "    \n",
    "    if(step%1000 == 0):\n",
    "        print(\"step = \",step,\"loss value = \",feed_forward(xdata,xor_tdata))\n"
   ]
  },
  {
   "cell_type": "code",
   "execution_count": 19,
   "metadata": {},
   "outputs": [
    {
     "name": "stdout",
     "output_type": "stream",
     "text": [
      "real_val =  [0.00070345] logical_val =  0\n",
      "real_val =  [0.99838059] logical_val =  1\n",
      "real_val =  [0.99858691] logical_val =  1\n",
      "real_val =  [0.00193635] logical_val =  0\n"
     ]
    }
   ],
   "source": [
    "#Xor prediction\n",
    "\n",
    "for data in test_data:\n",
    "    (real_val, logical_val) = predict(data)\n",
    "    print(\"real_val = \",real_val,\"logical_val = \",logical_val)"
   ]
  },
  {
   "cell_type": "markdown",
   "metadata": {},
   "source": [
    "### #3"
   ]
  },
  {
   "cell_type": "code",
   "execution_count": 47,
   "metadata": {},
   "outputs": [],
   "source": [
    "class LogicGate:\n",
    "    \n",
    "    def __init__(self,xdata,tdata,input_nodes,hidden_nodes,output_nodes,learning_rate,iteration_count):\n",
    "        \n",
    "        self.xdata = xdata\n",
    "        self.tdata = tdata\n",
    "        \n",
    "        self.learning_rate = learning_rate\n",
    "        self.iteration_count = iteration_count\n",
    "        \n",
    "        self.input_nodes = input_nodes\n",
    "        self.hidden_nodes = hidden_nodes\n",
    "        self.output_nodes = output_nodes\n",
    "        \n",
    "    def feed_forward(self):\n",
    "        \n",
    "        delta = 1e-7\n",
    "        \n",
    "        z2 = np.dot(self.xdata,self.W2) + self.b2\n",
    "        a2 = sigmoid(z2)\n",
    "        \n",
    "        z3 = np.dot(a2,self.W3) + self.b3\n",
    "        y = a3 = sigmoid(z3)\n",
    "        \n",
    "        return -np.sum(self.tdata*np.log(y+delta) + (1-self.tdata)*np.log((1-y)+delta))\n",
    "    \n",
    "    def predict(self,testdata):\n",
    "        \n",
    "        delta = 1e-7\n",
    "        \n",
    "        z2 = np.dot(testdata,self.W2) + self.b2\n",
    "        a2 = sigmoid(z2)\n",
    "        \n",
    "        z3 = np.dot(a2,self.W3) + self.b3\n",
    "        y = a3 = sigmoid(z3)\n",
    "        \n",
    "        if y >= 0.5:\n",
    "            result = 1\n",
    "        else:\n",
    "            result = 0\n",
    "        \n",
    "        return y, result\n",
    "    \n",
    "    def train(self):\n",
    "        \n",
    "        self.W2 = np.random.rand(self.input_nodes,self.hidden_nodes)\n",
    "        self.b2 = np.random.rand(self.hidden_nodes)\n",
    "        \n",
    "        self.W3 = np.random.rand(self.hidden_nodes,self.output_nodes)\n",
    "        self.b3 = np.random.rand(self.output_nodes)\n",
    "        \n",
    "        f = lambda x : self.feed_forward()\n",
    "        \n",
    "        for i in range(self.iteration_count):\n",
    "            \n",
    "            self.W2 -= self.learning_rate * numerical_derivative(f,self.W2)\n",
    "            self.b2 -= self.learning_rate * numerical_derivative(f,self.b2)\n",
    "            \n",
    "            self.W3 -= self.learning_rate * numerical_derivative(f,self.W3)\n",
    "            self.b3 -= self.learning_rate * numerical_derivative(f,self.b3)\n",
    "            \n",
    "            if (i%(int)(self.iteration_count*0.1)==0):\n",
    "                print(\"step = \",i,\"loss value = \",self.feed_forward())\n",
    "        \n",
    "    def accuracy(self,test_xdata,test_tdata):\n",
    "            \n",
    "        matched_list = []\n",
    "        unmatched_list = []\n",
    "            \n",
    "        for i in range(len(test_xdata)):\n",
    "            (real_val,logical_val) = self.predict(test_xdata[i])\n",
    "            if logical_val == test_tdata[i]:\n",
    "                matched_list.append(i)\n",
    "            else:\n",
    "                unmatched_list.append(i)\n",
    "                    \n",
    "        print(\"accuracy ret = \",len(matched_list)/len(test_xdata))"
   ]
  },
  {
   "cell_type": "markdown",
   "metadata": {},
   "source": [
    "AND 게이트"
   ]
  },
  {
   "cell_type": "code",
   "execution_count": 48,
   "metadata": {},
   "outputs": [
    {
     "name": "stdout",
     "output_type": "stream",
     "text": [
      "step =  0 loss value =  6.61295670970601\n",
      "step =  1000 loss value =  0.041346577639647344\n",
      "step =  2000 loss value =  0.014745244704680168\n",
      "step =  3000 loss value =  0.008532883255569897\n",
      "step =  4000 loss value =  0.005886174577890492\n",
      "step =  5000 loss value =  0.004446268519636025\n",
      "step =  6000 loss value =  0.0035498373602163465\n",
      "step =  7000 loss value =  0.002941751487717161\n",
      "step =  8000 loss value =  0.0025039755394820297\n",
      "step =  9000 loss value =  0.0021747305786435755\n",
      "step =  10000 loss value =  0.0019186822737528165\n"
     ]
    }
   ],
   "source": [
    "AND_obj = LogicGate(xdata,and_tdata,2,10,1,1e-1,10001)\n",
    "\n",
    "AND_obj.train()"
   ]
  },
  {
   "cell_type": "code",
   "execution_count": 49,
   "metadata": {},
   "outputs": [
    {
     "name": "stdout",
     "output_type": "stream",
     "text": [
      "real_val =  [1.5585418e-07] logical_val =  0\n",
      "real_val =  [0.00049989] logical_val =  0\n",
      "real_val =  [0.00046999] logical_val =  0\n",
      "real_val =  [0.99905164] logical_val =  1\n"
     ]
    }
   ],
   "source": [
    "for data in test_data:\n",
    "    (real_val, logical_val) = AND_obj.predict(data)\n",
    "    print(\"real_val = \",real_val,\"logical_val = \",logical_val)"
   ]
  },
  {
   "cell_type": "code",
   "execution_count": 51,
   "metadata": {},
   "outputs": [
    {
     "name": "stdout",
     "output_type": "stream",
     "text": [
      "accuracy ret =  1.0\n"
     ]
    }
   ],
   "source": [
    "AND_obj.accuracy(test_data,and_tdata)"
   ]
  },
  {
   "cell_type": "markdown",
   "metadata": {},
   "source": [
    "OR 게이트"
   ]
  },
  {
   "cell_type": "code",
   "execution_count": 52,
   "metadata": {},
   "outputs": [
    {
     "name": "stdout",
     "output_type": "stream",
     "text": [
      "step =  0 loss value =  3.5458421175403916\n",
      "step =  1000 loss value =  0.029925495614455597\n",
      "step =  2000 loss value =  0.010759467908821865\n",
      "step =  3000 loss value =  0.006243190510082243\n",
      "step =  4000 loss value =  0.004311459264124471\n",
      "step =  5000 loss value =  0.0032584215551215074\n",
      "step =  6000 loss value =  0.002602099652851482\n",
      "step =  7000 loss value =  0.00215658739921979\n",
      "step =  8000 loss value =  0.0018357162681457478\n",
      "step =  9000 loss value =  0.0015943287654065523\n",
      "step =  10000 loss value =  0.0014065736491983194\n"
     ]
    }
   ],
   "source": [
    "OR_obj = LogicGate(xdata,or_tdata,2,10,1,1e-1,10001)\n",
    "\n",
    "OR_obj.train()"
   ]
  },
  {
   "cell_type": "code",
   "execution_count": 53,
   "metadata": {},
   "outputs": [
    {
     "name": "stdout",
     "output_type": "stream",
     "text": [
      "real_val =  [0.00082919] logical_val =  0\n",
      "real_val =  [0.99973706] logical_val =  1\n",
      "real_val =  [0.9996859] logical_val =  1\n",
      "real_val =  [0.99999969] logical_val =  1\n"
     ]
    }
   ],
   "source": [
    "for data in test_data:\n",
    "    (real_val,logical_val) = OR_obj.predict(data)\n",
    "    print(\"real_val = \",real_val,\"logical_val = \",logical_val)"
   ]
  },
  {
   "cell_type": "code",
   "execution_count": 54,
   "metadata": {},
   "outputs": [
    {
     "name": "stdout",
     "output_type": "stream",
     "text": [
      "accuracy ret =  1.0\n"
     ]
    }
   ],
   "source": [
    "OR_obj.accuracy(test_data,or_tdata)"
   ]
  },
  {
   "cell_type": "markdown",
   "metadata": {},
   "source": [
    "NAND 게이트"
   ]
  },
  {
   "cell_type": "code",
   "execution_count": 55,
   "metadata": {},
   "outputs": [
    {
     "name": "stdout",
     "output_type": "stream",
     "text": [
      "step =  0 loss value =  3.7984588148499396\n",
      "step =  1000 loss value =  0.04015549273315766\n",
      "step =  2000 loss value =  0.014459610923467165\n",
      "step =  3000 loss value =  0.008382477256052567\n",
      "step =  4000 loss value =  0.00578423040378174\n",
      "step =  5000 loss value =  0.00436873322176875\n",
      "step =  6000 loss value =  0.003486982998684198\n",
      "step =  7000 loss value =  0.0028887238916191355\n",
      "step =  8000 loss value =  0.002458007337931142\n",
      "step =  9000 loss value =  0.0021340929320491503\n",
      "step =  10000 loss value =  0.0018822209798885262\n"
     ]
    }
   ],
   "source": [
    "NAND_obj = LogicGate(xdata,nand_tdata,2,10,1,1e-1,10001)\n",
    "\n",
    "NAND_obj.train()"
   ]
  },
  {
   "cell_type": "code",
   "execution_count": 56,
   "metadata": {},
   "outputs": [
    {
     "name": "stdout",
     "output_type": "stream",
     "text": [
      "real_val =  [0.99999994] logical_val =  1\n",
      "real_val =  [0.99953426] logical_val =  1\n",
      "real_val =  [0.99953497] logical_val =  1\n",
      "real_val =  [0.00095113] logical_val =  0\n"
     ]
    }
   ],
   "source": [
    "for data in test_data:\n",
    "    (real_val, logical_val) = NAND_obj.predict(data)\n",
    "    print(\"real_val = \",real_val,\"logical_val = \",logical_val)"
   ]
  },
  {
   "cell_type": "code",
   "execution_count": 57,
   "metadata": {},
   "outputs": [
    {
     "name": "stdout",
     "output_type": "stream",
     "text": [
      "accuracy ret =  1.0\n"
     ]
    }
   ],
   "source": [
    "NAND_obj.accuracy(test_data,nand_tdata)"
   ]
  },
  {
   "cell_type": "code",
   "execution_count": 59,
   "metadata": {},
   "outputs": [
    {
     "name": "stdout",
     "output_type": "stream",
     "text": [
      "step =  0 loss value =  5.51963363973122\n",
      "step =  1000 loss value =  0.5348737505590575\n",
      "step =  2000 loss value =  0.06953172660831294\n",
      "step =  3000 loss value =  0.031159374626638536\n",
      "step =  4000 loss value =  0.019200930599191108\n",
      "step =  5000 loss value =  0.013611188741152754\n",
      "step =  6000 loss value =  0.010432917843498047\n",
      "step =  7000 loss value =  0.008403815916116445\n",
      "step =  8000 loss value =  0.007005252887543264\n",
      "step =  9000 loss value =  0.005987397585120826\n",
      "step =  10000 loss value =  0.005215904303011607\n"
     ]
    }
   ],
   "source": [
    "XOR_obj = LogicGate(xdata,xor_tdata,2,10,1,1e-1,10001)\n",
    "\n",
    "XOR_obj.train()"
   ]
  },
  {
   "cell_type": "code",
   "execution_count": 60,
   "metadata": {},
   "outputs": [
    {
     "name": "stdout",
     "output_type": "stream",
     "text": [
      "rela_val =  [0.00051707] logical_val =  0\n",
      "rela_val =  [0.99868455] logical_val =  1\n",
      "rela_val =  [0.99851642] logical_val =  1\n",
      "rela_val =  [0.00189629] logical_val =  0\n"
     ]
    }
   ],
   "source": [
    "for data in test_data:\n",
    "    (real_val,logical_val) = XOR_obj.predict(data)\n",
    "    print(\"rela_val = \",real_val,\"logical_val = \",logical_val)"
   ]
  },
  {
   "cell_type": "code",
   "execution_count": 61,
   "metadata": {},
   "outputs": [
    {
     "name": "stdout",
     "output_type": "stream",
     "text": [
      "accuracy ret =  1.0\n"
     ]
    }
   ],
   "source": [
    "XOR_obj.accuracy(test_data,xor_tdata)"
   ]
  }
 ],
 "metadata": {
  "kernelspec": {
   "display_name": "Python 3",
   "language": "python",
   "name": "python3"
  },
  "language_info": {
   "codemirror_mode": {
    "name": "ipython",
    "version": 3
   },
   "file_extension": ".py",
   "mimetype": "text/x-python",
   "name": "python",
   "nbconvert_exporter": "python",
   "pygments_lexer": "ipython3",
   "version": "3.6.9"
  }
 },
 "nbformat": 4,
 "nbformat_minor": 2
}
