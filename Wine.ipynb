{
 "cells": [
  {
   "cell_type": "code",
   "execution_count": 2,
   "metadata": {},
   "outputs": [],
   "source": [
    "import numpy as np\n",
    "import matplotlib.pyplot as plt\n",
    "from datetime import datetime\n",
    "\n",
    "np.random.seed(0)"
   ]
  },
  {
   "cell_type": "code",
   "execution_count": 3,
   "metadata": {},
   "outputs": [],
   "source": [
    "# 수치미분 함수\n",
    "\n",
    "def numerical_derivative(f, x):\n",
    "    delta_x = 1e-4 # 0.0001\n",
    "    grad = np.zeros_like(x)\n",
    "    \n",
    "    it = np.nditer(x, flags=['multi_index'], op_flags=['readwrite'])\n",
    "    \n",
    "    while not it.finished:\n",
    "        idx = it.multi_index        \n",
    "        tmp_val = x[idx]\n",
    "        x[idx] = float(tmp_val) + delta_x\n",
    "        fx1 = f(x) # f(x+delta_x)\n",
    "        \n",
    "        x[idx] = tmp_val - delta_x \n",
    "        fx2 = f(x) # f(x-delta_x)\n",
    "        grad[idx] = (fx1 - fx2) / (2*delta_x)\n",
    "        \n",
    "        x[idx] = tmp_val \n",
    "        it.iternext()   \n",
    "        \n",
    "    return grad\n",
    "\n",
    "# sigmoid 함수\n",
    "\n",
    "def sigmoid(x):\n",
    "    return 1 / (1+np.exp(-x))"
   ]
  },
  {
   "cell_type": "markdown",
   "metadata": {},
   "source": [
    "### Wine 클래스 (은닉층 1개)"
   ]
  },
  {
   "cell_type": "code",
   "execution_count": 3,
   "metadata": {},
   "outputs": [],
   "source": [
    "class Wine:\n",
    "    \n",
    "    def __init__(self, name, i_node, h_node, o_node, lr):\n",
    "        \n",
    "        self.name = name\n",
    "        \n",
    "        self.W2 = np.random.rand(i_node,h_node)\n",
    "        self.b2 = np.random.rand(h_node)\n",
    "        \n",
    "        self.W3 = np.random.rand(h_node,o_node)\n",
    "        self.b3 = np.random.rand(o_node)\n",
    "        \n",
    "        self.lr = lr\n",
    "        \n",
    "        print(self.name, \" is created\")\n",
    "\n",
    "        \n",
    "    def feed_forward(self):\n",
    "        \n",
    "        delta = 1e-7\n",
    "        \n",
    "        z2 = np.dot(self.input_data,self.W2) + self.b2\n",
    "        a2 =  sigmoid(z2)\n",
    "    \n",
    "        z3 = np.dot(a2, self.W3) + self.b3\n",
    "        y = a3 = sigmoid(z3)\n",
    "        \n",
    "        return -np.sum(self.target_data*np.log(y+delta)) + (1-self.target_data)*np.log((1-y)+delta)\n",
    "    \n",
    "    def predict(self, input_data):\n",
    "        \n",
    "        z2 = np.dot(input_data, self.W2) + self.b2\n",
    "        a2 = sigmoid(z2)\n",
    "        \n",
    "        z3 = np.dot(a2, self.W3) + self.b3\n",
    "        y = a3 = sigmoid(z3)\n",
    "        \n",
    "        if y >= 0.5:\n",
    "            result = 1\n",
    "        else:\n",
    "            result = 0\n",
    "        \n",
    "        return y, result\n",
    "    \n",
    "    def accuracy(self, input_data, target_data):\n",
    "        \n",
    "        matched_list = []\n",
    "        unmatched_list = []\n",
    "        \n",
    "        for i in range(len(input_data)):\n",
    "            (real_val, logical_val) = self.predict(input_data[i])\n",
    "            if logical_val == target_data[i]:\n",
    "                matched_list.append(i)\n",
    "            else:\n",
    "                unmatched_list.append(i)\n",
    "                \n",
    "        accuracy_ret = len(matched_list)/len(input_data)\n",
    "        \n",
    "        print(\"Accuracy => \",accuracy_ret)\n",
    "        \n",
    "        return matched_list, unmatched_list\n",
    "\n",
    "    \n",
    "    def train(self, input_data, target_data):\n",
    "        \n",
    "        self.input_data = input_data\n",
    "        self.target_data = target_data\n",
    "        \n",
    "        f = lambda x : self.feed_forward()\n",
    "        \n",
    "        self.W2 -= self.lr * numerical_derivative(f, self.W2)\n",
    "        self.b2 -= self.lr * numerical_derivative(f, self.b2)\n",
    "        \n",
    "        self.W3 -= self.lr * numerical_derivative(f, self.W3)\n",
    "        self.b3 -= self.lr * numerical_derivative(f, self.b3) "
   ]
  },
  {
   "cell_type": "markdown",
   "metadata": {},
   "source": [
    "### DataGeneration"
   ]
  },
  {
   "cell_type": "code",
   "execution_count": 4,
   "metadata": {},
   "outputs": [],
   "source": [
    "class DataGeneration:\n",
    "    \n",
    "    def __init__(self,name,file_path,seperation_rate):\n",
    "        \n",
    "        self.name = name\n",
    "        self.file_path = file_path\n",
    "        self.seperation_rate = seperation_rate\n",
    "        \n",
    "    def generation(self):\n",
    "        \n",
    "        try:\n",
    "            \n",
    "            loaded_data = np.loadtxt(self.file_path, delimiter=',', dtype=np.float32)\n",
    "            \n",
    "        except Exception as err:\n",
    "            \n",
    "            print(\"[DataGeneration::genearte()]\", str(err))\n",
    "            raise Exception(str(err))\n",
    "            \n",
    "        print(\"[DataGeneration] loaded_data.shape = \", loaded_data.shape)\n",
    "        \n",
    "        total_data_num = len(loaded_data)\n",
    "        test_data_num = int(len(loaded_data) * self.seperation_rate)\n",
    "\n",
    "        np.random.shuffle(loaded_data)\n",
    "        \n",
    "        test_data = loaded_data[0: test_data_num]\n",
    "        \n",
    "        training_data = loaded_data[test_data_num: ]\n",
    "\n",
    "        return training_data, test_data"
   ]
  },
  {
   "cell_type": "code",
   "execution_count": 5,
   "metadata": {},
   "outputs": [
    {
     "name": "stdout",
     "output_type": "stream",
     "text": [
      "[DataGeneration] loaded_data.shape =  (6497, 13)\n"
     ]
    }
   ],
   "source": [
    "seperation_rate = 0.3\n",
    "\n",
    "data_obj = DataGeneration('Wine', './(200309)Wine.csv',seperation_rate)\n",
    "\n",
    "(training_data,test_data) = data_obj.generation()"
   ]
  },
  {
   "cell_type": "code",
   "execution_count": 6,
   "metadata": {},
   "outputs": [
    {
     "name": "stdout",
     "output_type": "stream",
     "text": [
      "Wine  is created\n",
      "Neural Network Learning using Numerical Derivative...\n",
      "epochs =  0 loss value =  [-6.29702124]\n",
      "epochs =  1 loss value =  [-8.34981163]\n",
      "epochs =  2 loss value =  [-10.39992795]\n",
      "epochs =  3 loss value =  [-12.41257433]\n",
      "epochs =  4 loss value =  [-14.19115077]\n",
      "epochs =  5 loss value =  [-15.26908829]\n",
      "epochs =  6 loss value =  [-15.69183325]\n",
      "epochs =  7 loss value =  [-15.85744595]\n",
      "epochs =  8 loss value =  [-15.93623191]\n",
      "epochs =  9 loss value =  [-15.98032178]\n",
      "epochs =  10 loss value =  [-16.00795018]\n",
      "epochs =  11 loss value =  [-16.02669331]\n",
      "epochs =  12 loss value =  [-16.04016381]\n",
      "epochs =  13 loss value =  [-16.05027474]\n",
      "epochs =  14 loss value =  [-16.05812429]\n",
      "epochs =  15 loss value =  [-16.06438411]\n",
      "epochs =  16 loss value =  [-16.06948644]\n",
      "epochs =  17 loss value =  [-16.07372125]\n",
      "epochs =  18 loss value =  [-16.07728998]\n",
      "epochs =  19 loss value =  [-16.08033663]\n",
      "\n",
      "Elapsed time => 0:09:35.362469\n"
     ]
    }
   ],
   "source": [
    "i_nodes = training_data.shape[1] - 1\n",
    "h_nodes = 5\n",
    "o_nodes = 1\n",
    "lr = 1e-4\n",
    "epochs = 20\n",
    "\n",
    "loss_val_list = []\n",
    "\n",
    "obj = Wine(\"Wine\", i_nodes, h_nodes, o_nodes, lr)\n",
    "\n",
    "print(\"Neural Network Learning using Numerical Derivative...\")\n",
    "\n",
    "start_time = datetime.now()\n",
    "\n",
    "for step in range(epochs):\n",
    "    \n",
    "    for i in range(len(training_data)):\n",
    "        \n",
    "        input_data = training_data[i,0:-1]\n",
    "        target_data = training_data[i,[-1]]\n",
    "        \n",
    "        obj.train(input_data, target_data)\n",
    "        \n",
    "    cur_loss_val = obj.feed_forward()\n",
    "    print(\"epochs = \", step, \"loss value = \", cur_loss_val)\n",
    "    loss_val_list.append(cur_loss_val)\n",
    "    \n",
    "end_time = datetime.now()\n",
    "\n",
    "print(\"\")\n",
    "print(\"Elapsed time =>\",end_time-start_time)"
   ]
  },
  {
   "cell_type": "code",
   "execution_count": 7,
   "metadata": {},
   "outputs": [
    {
     "data": {
      "image/png": "[encoded data removed]",
      "text/plain": [
       "<Figure size 432x288 with 1 Axes>"
      ]
     },
     "metadata": {
      "needs_background": "light"
     },
     "output_type": "display_data"
    }
   ],
   "source": [
    "plt.title('Loss Value Trend')\n",
    "plt.grid()\n",
    "plt.plot(loss_val_list)\n",
    "\n",
    "plt.show()"
   ]
  },
  {
   "cell_type": "code",
   "execution_count": 8,
   "metadata": {},
   "outputs": [
    {
     "name": "stdout",
     "output_type": "stream",
     "text": [
      "Accuracy =>  0.2452539763981529\n"
     ]
    }
   ],
   "source": [
    "test_input_data = test_data[:,0:-1]\n",
    "test_target_data = test_data[:,-1]\n",
    "\n",
    "(true_list, false_list) = obj.accuracy(test_input_data, test_target_data)"
   ]
  },
  {
   "cell_type": "markdown",
   "metadata": {},
   "source": [
    "### 은닉층 2개"
   ]
  },
  {
   "cell_type": "code",
   "execution_count": 10,
   "metadata": {},
   "outputs": [],
   "source": [
    "class Wine:\n",
    "    \n",
    "    def __init__(self,name,i_node,h1_node,h2_node,o_node,lr):\n",
    "        \n",
    "        self.name = name\n",
    "        \n",
    "        self.W2 = np.random.rand(i_node,h1_node)\n",
    "        self.b2 = np.random.rand(h1_node)\n",
    "        \n",
    "        self.W3 = np.random.rand(h1_node,h2_node)\n",
    "        self.b3 = np.random.rand(h2_node)\n",
    "        \n",
    "        self.W4 = np.random.rand(h2_node,o_node)\n",
    "        self.b4 = np.random.rand(o_node)\n",
    "        \n",
    "        self.lr = lr\n",
    "        \n",
    "        print(self.name,\" object is created!\")\n",
    "        \n",
    "    def feed_forward(self):\n",
    "        \n",
    "        delta = 1e-7\n",
    "        \n",
    "        z2 = np.dot(self.input_data,self.W2) + self.b2\n",
    "        a2 = sigmoid(z2)\n",
    "        \n",
    "        z3 = np.dot(a2,self.W3) + self.b3\n",
    "        a3 = sigmoid(z3)\n",
    "        \n",
    "        z4 = np.dot(a3,self.W4) + self.b4\n",
    "        y = a4 = sigmoid(z4)\n",
    "        \n",
    "        return np.sum(self.target_data*np.log(y+delta) + (1-self.target_data)*np.log((1-y)+delta))\n",
    "    \n",
    "    def predict(self,input_data):\n",
    "        \n",
    "        delta = 1e-7\n",
    "        \n",
    "        z2 = np.dot(self.input_data,self.W2) + self.b2\n",
    "        a2 = sigmoid(z2)\n",
    "        \n",
    "        z3 = np.dot(a2,self.W3) + self.b3\n",
    "        a3 = sigmoid(z3)\n",
    "        \n",
    "        z4 = np.dot(a3,self.W4) + self.b4\n",
    "        y = a4 = sigmoid(z4)\n",
    "        \n",
    "        if y >= 0.5:\n",
    "            result = 1\n",
    "        else:\n",
    "            result = 0\n",
    "            \n",
    "        return y, result\n",
    "    \n",
    "    def accuracy(self,input_data,target_data):\n",
    "        \n",
    "        matched_list = []\n",
    "        unmatched_list = []\n",
    "        \n",
    "        for i in range(len(input_data)):\n",
    "            \n",
    "            (real_val, logical_val) = self.predict(input_data[i])\n",
    "            \n",
    "            if real_val == target_data[i]:\n",
    "                mathced_list.append(i)\n",
    "            else:\n",
    "                unmatched_list.appedn(i)\n",
    "                \n",
    "        accuracy_ret = len(matched_list)/len(input_data)\n",
    "        \n",
    "        return accuracy_ret\n",
    "    \n",
    "    def train(self,input_data,target_data):\n",
    "        \n",
    "        self.input_data = input_data\n",
    "        self.target_data = target_data\n",
    "        \n",
    "        f = lambda x : self.feed_forward()\n",
    "        \n",
    "        self.W2 -= self.lr * numerical_derivative(f,self.W2)\n",
    "        self.b2 -= self.lr * numerical_derivative(f,self.b2)\n",
    "        \n",
    "        self.W3 -= self.lr * numerical_derivative(f,self.W3)\n",
    "        self.b3 -= self.lr * numerical_derivative(f,self.b3)\n",
    "        \n",
    "        self.W4 -= self.lr * numerical_derivative(f,self.W4)\n",
    "        self.b4 -= self.lr * numerical_derivative(f,self.b4)"
   ]
  },
  {
   "cell_type": "code",
   "execution_count": 11,
   "metadata": {},
   "outputs": [],
   "source": [
    "class Generator:\n",
    "    \n",
    "    def __init__(self,file_path,seperation_rate):\n",
    "        \n",
    "        self.file_path = file_path\n",
    "        self.seperation_rate = seperation_rate\n",
    "        \n",
    "    def generate(self):\n",
    "        \n",
    "        try:\n",
    "            loaded_data = np.loadtxt(self.file_path, delimiter=',', dtype=np.float32)\n",
    "        except Exception as err:\n",
    "            \n",
    "            print(\"[DataGeneration::genearte()]\", str(err))\n",
    "            raise Exception(str(err))\n",
    "            \n",
    "        np.random.shuffle(loaded_data)\n",
    "        \n",
    "        total_data_num = len(loaded_data)\n",
    "        test_data_num = int(total_data_num * self.seperation_rate)\n",
    "        \n",
    "        test_data = loaded_data[ :test_data_num]\n",
    "        training_data = loaded_data[test_data_num: ]\n",
    "        \n",
    "        return training_data, test_data   "
   ]
  },
  {
   "cell_type": "code",
   "execution_count": 12,
   "metadata": {},
   "outputs": [
    {
     "name": "stdout",
     "output_type": "stream",
     "text": [
      "(4548, 13)\n",
      "(1949, 13)\n"
     ]
    }
   ],
   "source": [
    "seperation_rate = 0.3\n",
    "\n",
    "data_obj = Generator('./(200309)Wine.csv',seperation_rate)\n",
    "\n",
    "(training_data,test_data) = data_obj.generate()\n",
    "\n",
    "print(training_data.shape)\n",
    "print(test_data.shape)"
   ]
  },
  {
   "cell_type": "code",
   "execution_count": null,
   "metadata": {},
   "outputs": [
    {
     "name": "stdout",
     "output_type": "stream",
     "text": [
      "wine  object is created!\n",
      "step =  0 loss value =  -55268.39750015729\n",
      "step =  1 loss value =  -55268.67368418726\n"
     ]
    }
   ],
   "source": [
    "i_node = training_data.shape[1]-1\n",
    "h1_node = 2\n",
    "h2_node = 3\n",
    "o_node = 1\n",
    "lr = 1e-4\n",
    "epochs = 20\n",
    "\n",
    "loss_val_list = []\n",
    "\n",
    "obj = Wine(\"wine\",i_node, h1_node, h2_node, o_node, lr)\n",
    "\n",
    "start_time = datetime.now()\n",
    "\n",
    "for step in range(epochs):\n",
    "    for i in range(len(training_data)):\n",
    "        input_data = training_data[:,:-1]\n",
    "        target_data = training_data[:,[-1]]\n",
    "        obj.train(input_data,target_data)\n",
    "        \n",
    "    cur_loss_val = obj.feed_forward()\n",
    "    print(\"step = \",step, \"loss value = \",cur_loss_val)\n",
    "    \n",
    "    loss_val_list.append(cur_loss_val)\n",
    "    \n",
    "end_time = datetime.now()\n",
    "\n",
    "print(\"Elapsed time =>\", end_time-start_time )"
   ]
  },
  {
   "cell_type": "code",
   "execution_count": null,
   "metadata": {},
   "outputs": [],
   "source": []
  },
  {
   "cell_type": "code",
   "execution_count": null,
   "metadata": {},
   "outputs": [],
   "source": []
  }
 ],
 "metadata": {
  "kernelspec": {
   "display_name": "Python 3",
   "language": "python",
   "name": "python3"
  },
  "language_info": {
   "codemirror_mode": {
    "name": "ipython",
    "version": 3
   },
   "file_extension": ".py",
   "mimetype": "text/x-python",
   "name": "python",
   "nbconvert_exporter": "python",
   "pygments_lexer": "ipython3",
   "version": "3.6.9"
  }
 },
 "nbformat": 4,
 "nbformat_minor": 2
}
