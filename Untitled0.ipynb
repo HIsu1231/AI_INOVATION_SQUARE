{
  "nbformat": 4,
  "nbformat_minor": 0,
  "metadata": {
    "colab": {
      "name": "Untitled0.ipynb",
      "provenance": [],
      "mount_file_id": "1iPRoNhoRl5IPpV6uIUj6FUOg8l1DsqXh",
      "authorship_tag": "ABX9TyMnrnXryMCWRGJhSYja2mVu",
      "include_colab_link": true
    },
    "kernelspec": {
      "name": "python3",
      "display_name": "Python 3"
    }
  },
  "cells": [
    {
      "cell_type": "markdown",
      "metadata": {
        "id": "view-in-github",
        "colab_type": "text"
      },
      "source": [
        "<a href=\"https://colab.research.google.com/github/HIsu1231/AI_INOVATION_SQUARE/blob/master/Untitled0.ipynb\" target=\"_parent\"><img src=\"https://colab.research.google.com/assets/colab-badge.svg\" alt=\"Open In Colab\"/></a>"
      ]
    },
    {
      "cell_type": "code",
      "metadata": {
        "id": "iUPdYDpDXbNQ",
        "outputId": "21cd561b-d5a4-4075-ac8f-3afa8a17d04a",
        "colab": {
          "base_uri": "https://localhost:8080/",
          "height": 35
        }
      },
      "source": [
        "pwd"
      ],
      "execution_count": null,
      "outputs": [
        {
          "output_type": "execute_result",
          "data": {
            "application/vnd.google.colaboratory.intrinsic+json": {
              "type": "string"
            },
            "text/plain": [
              "'/content'"
            ]
          },
          "metadata": {
            "tags": []
          },
          "execution_count": 1
        }
      ]
    },
    {
      "cell_type": "code",
      "metadata": {
        "id": "S4rwqRuIXcNI",
        "outputId": "846188f1-52ae-432e-aaba-ba542d5f3239",
        "colab": {
          "base_uri": "https://localhost:8080/",
          "height": 52
        }
      },
      "source": [
        "ls-ltr"
      ],
      "execution_count": null,
      "outputs": [
        {
          "output_type": "stream",
          "text": [
            "total 4\n",
            "drwxr-xr-x 1 root root 4096 Oct 14 16:31 \u001b[0m\u001b[01;34msample_data\u001b[0m/\n"
          ],
          "name": "stdout"
        }
      ]
    },
    {
      "cell_type": "code",
      "metadata": {
        "id": "1lRR4HVhXp72",
        "outputId": "05b70664-ea79-4124-d361-e5fef4d669be",
        "colab": {
          "base_uri": "https://localhost:8080/",
          "height": 34
        }
      },
      "source": [
        "!git clone https://github.com/HIsu1231/AI_INOVATION_SQUARE.git"
      ],
      "execution_count": null,
      "outputs": [
        {
          "output_type": "stream",
          "text": [
            "fatal: destination path 'AI_INOVATION_SQUARE' already exists and is not an empty directory.\n"
          ],
          "name": "stdout"
        }
      ]
    },
    {
      "cell_type": "code",
      "metadata": {
        "id": "jU4Y0ehrXwlH",
        "outputId": "e2be2c9a-33ec-46e8-aca4-f932e1ba645f",
        "colab": {
          "base_uri": "https://localhost:8080/",
          "height": 87
        }
      },
      "source": [
        "ls -ltr"
      ],
      "execution_count": null,
      "outputs": [
        {
          "output_type": "stream",
          "text": [
            "total 12\n",
            "drwxr-xr-x 1 root root 4096 Oct 14 16:31 \u001b[0m\u001b[01;34msample_data\u001b[0m/\n",
            "drwxr-xr-x 3 root root 4096 Oct 26 14:45 \u001b[01;34mAI_INOVATION_SQUARE\u001b[0m/\n",
            "drwx------ 4 root root 4096 Oct 26 14:46 \u001b[01;34mdrive\u001b[0m/\n"
          ],
          "name": "stdout"
        }
      ]
    },
    {
      "cell_type": "code",
      "metadata": {
        "id": "LHjCibmhXy1h",
        "outputId": "26a7a6f2-a2e0-41f2-8c3f-a019287e81d0",
        "colab": {
          "base_uri": "https://localhost:8080/",
          "height": 34
        }
      },
      "source": [
        "cd drive/My Drive"
      ],
      "execution_count": null,
      "outputs": [
        {
          "output_type": "stream",
          "text": [
            "/content/drive/My Drive\n"
          ],
          "name": "stdout"
        }
      ]
    },
    {
      "cell_type": "code",
      "metadata": {
        "id": "itfqM6Ywcjgb",
        "outputId": "6cec9a09-b62e-43d1-fe7a-3a227361f309",
        "colab": {
          "base_uri": "https://localhost:8080/",
          "height": 34
        }
      },
      "source": [
        "cd AI_INOVATION_SQUARE/prac"
      ],
      "execution_count": null,
      "outputs": [
        {
          "output_type": "stream",
          "text": [
            "/content/drive/My Drive/AI_INOVATION_SQUARE/prac\n"
          ],
          "name": "stdout"
        }
      ]
    },
    {
      "cell_type": "code",
      "metadata": {
        "id": "OIoFzcVRcooJ",
        "outputId": "a783b5ee-8208-4fb6-ac99-02e4a7110a4a",
        "colab": {
          "base_uri": "https://localhost:8080/",
          "height": 122
        }
      },
      "source": [
        "!git clone https://github.com/HIsu1231/AI_INOVATION_SQUARE.git"
      ],
      "execution_count": null,
      "outputs": [
        {
          "output_type": "stream",
          "text": [
            "Cloning into 'AI_INOVATION_SQUARE'...\n",
            "remote: Enumerating objects: 55, done.\u001b[K\n",
            "remote: Counting objects: 100% (55/55), done.\u001b[K\n",
            "remote: Compressing objects: 100% (50/50), done.\u001b[K\n",
            "remote: Total 55 (delta 27), reused 21 (delta 5), pack-reused 0\u001b[K\n",
            "Unpacking objects: 100% (55/55), done.\n"
          ],
          "name": "stdout"
        }
      ]
    },
    {
      "cell_type": "code",
      "metadata": {
        "id": "5cOMk9lmcqiU",
        "outputId": "3f7e9bb9-f500-4a01-d86f-c7de8aa87a2a",
        "colab": {
          "base_uri": "https://localhost:8080/",
          "height": 316
        }
      },
      "source": [
        "ls -ltr"
      ],
      "execution_count": null,
      "outputs": [
        {
          "output_type": "stream",
          "text": [
            "total 645\n",
            "-rw------- 1 root root  53438 Mar 20  2020 '(200309)diabetes.csv'\n",
            "-rw------- 1 root root  21257 Mar 24  2020 '(200309)ThoracicSurgery.csv'\n",
            "-rw------- 1 root root 367776 Mar 24  2020 '(200309)wine.csv'\n",
            "-rw------- 1 root root  13405 Aug 12 11:12 'Logistic Regression.ipynb'\n",
            "-rw------- 1 root root  12413 Aug 14 08:49  XOR.ipynb\n",
            "-rw------- 1 root root  35945 Aug 17 09:08 '딥러닝 #1~#3.ipynb'\n",
            "-rw------- 1 root root  53221 Aug 17 13:01  Diabetes.ipynb\n",
            "-rw------- 1 root root    613 Oct 21 06:26 '(200302)sps.csv'\n",
            "-rw------- 1 root root  24636 Oct 22 07:28  LinearRegression.ipynb\n",
            "-rw------- 1 root root  28919 Oct 22 13:34  Wine.ipynb\n",
            "-rw------- 1 root root  12614 Oct 22 14:54 '딥러닝 #4#5.ipynb'\n",
            "-rw------- 1 root root   7142 Oct 23 06:55  np.unique.ipynb\n",
            "-rw------- 1 root root   7694 Oct 26 14:36  Datageneration_unique.ipynb\n",
            "-rw------- 1 root root   8965 Oct 26 15:02  numerical_derivative.ipynb\n",
            "-rw------- 1 root root   3747 Oct 26 15:06  Untitled0.ipynb\n",
            "drwx------ 3 root root   4096 Oct 26 15:06  \u001b[0m\u001b[01;34mAI_INOVATION_SQUARE\u001b[0m/\n"
          ],
          "name": "stdout"
        }
      ]
    },
    {
      "cell_type": "code",
      "metadata": {
        "id": "UZg6jH5pcsBn"
      },
      "source": [
        ""
      ],
      "execution_count": null,
      "outputs": []
    }
  ]
}