{
 "cells": [
  {
   "cell_type": "code",
   "execution_count": 1,
   "metadata": {},
   "outputs": [],
   "source": [
    "import numpy as np\n",
    "\n",
    "np.random.seed(0)"
   ]
  },
  {
   "cell_type": "code",
   "execution_count": 2,
   "metadata": {},
   "outputs": [],
   "source": [
    "def numerical_derivative(f,x):\n",
    "    delta_x = 1e-4\n",
    "    grad = np.zeros_like(x)\n",
    "    \n",
    "    it = np.nditer(x, flags = ['multi_index'], op_flags = ['readwrite'])\n",
    "    \n",
    "    while not it.finished:\n",
    "        idx = it.multi_index\n",
    "        \n",
    "        tmp_val = x[idx]\n",
    "        x[idx] = float(tmp_val) + delta_x\n",
    "        fx1 = f(x)   #f(x+delta_x)\n",
    "        \n",
    "        x[idx] = tmp_val - delta_x\n",
    "        fx2 = f(x)\n",
    "        grad[idx] = (fx1 - fx2) / (2*delta_x)\n",
    "        \n",
    "        x[idx] = tmp_val\n",
    "        it.iternext()\n",
    "    \n",
    "    return grad "
   ]
  },
  {
   "cell_type": "code",
   "execution_count": 3,
   "metadata": {},
   "outputs": [],
   "source": [
    "def sigmoid(z):\n",
    "    return 1/(1+np.exp(-z))"
   ]
  },
  {
   "cell_type": "code",
   "execution_count": 44,
   "metadata": {},
   "outputs": [],
   "source": [
    "class LogicGate:\n",
    "    \n",
    "    def __init__(self,gatename,xdata,tdata,lr,iteration_count):\n",
    "        \n",
    "        self.gatename = gatename\n",
    "        print(gatename,\"is created\")\n",
    "        \n",
    "        self.xdata = xdata.reshape(4,2)\n",
    "        self.tdata = tdata.reshape(4,1)\n",
    "        \n",
    "        self.learning_rate = lr\n",
    "        self.iteration_count = iteration_count\n",
    "        \n",
    "        self.W = np.random.rand(self.xdata.shape[1],1)\n",
    "        self.b = np.random.rand(1)\n",
    "        \n",
    "    def loss_func(self):\n",
    "        \n",
    "        delta = 1e-7\n",
    "        \n",
    "        z = np.dot(self.xdata, self.W) + self.b\n",
    "        y = sigmoid(z)\n",
    "        \n",
    "        return -np.sum( self.tdata*np.log(y + delta) + (1-self.tdata)*np.log((1 - y)+delta ) )      \n",
    "    \n",
    "    def predict(self,xdata):\n",
    "        \n",
    "        z = np.dot(xdata,self.W) + self.b\n",
    "        y = sigmoid(z)\n",
    "        \n",
    "        if y >= 0.5:\n",
    "            result = 1\n",
    "        else:\n",
    "            result = 0\n",
    "        \n",
    "        return y, result\n",
    "    \n",
    "    def train(self):\n",
    "        print(self.gatename)\n",
    "        \n",
    "        f = lambda x: self.loss_func()\n",
    "        \n",
    "        for i in range(self.iteration_count):\n",
    "            \n",
    "            self.W -= self.learning_rate*numerical_derivative(f,self.W)\n",
    "            self.b -= self.learning_rate*numerical_derivative(f,self.b)\n",
    "            \n",
    "            if (i % (int)(self.iteration_count*0.05) == 0):\n",
    "                print(\"Step = \",i,\"loss value = \",self.loss_func())\n",
    "                \n",
    "    def accuracy(self,test_x_data, test_t_data):\n",
    "        \n",
    "        matched_list = []\n",
    "        unmatched_list = []\n",
    "        \n",
    "        for i in range(len(test_x_data)):\n",
    "            (real_val, logical_val) = self.predict(test_x_data[i])\n",
    "            \n",
    "            if(test_t_data[i] == logical_val):\n",
    "                matched_list.append(i)\n",
    "            else:\n",
    "                unmatched_list.append(i)\n",
    "        \n",
    "        return len(matched_list) / len(test_x_data)"
   ]
  },
  {
   "cell_type": "code",
   "execution_count": 45,
   "metadata": {},
   "outputs": [
    {
     "name": "stdout",
     "output_type": "stream",
     "text": [
      "AND_GATE is created\n",
      "AND_GATE\n",
      "Step =  0 loss value =  3.09193592967137\n",
      "Step =  1000 loss value =  1.001858674175903\n",
      "Step =  2000 loss value =  0.6580554120712876\n",
      "Step =  3000 loss value =  0.4901751683902417\n",
      "Step =  4000 loss value =  0.3894810938290013\n",
      "Step =  5000 loss value =  0.3223575435270803\n",
      "Step =  6000 loss value =  0.2745023638127154\n",
      "Step =  7000 loss value =  0.23872655628174955\n",
      "Step =  8000 loss value =  0.2110119024546494\n",
      "Step =  9000 loss value =  0.18893678873241643\n",
      "Step =  10000 loss value =  0.17095621247744364\n",
      "Step =  11000 loss value =  0.15603909257134185\n",
      "Step =  12000 loss value =  0.14347168399303686\n",
      "Step =  13000 loss value =  0.13274465760457718\n",
      "Step =  14000 loss value =  0.12348508868324705\n",
      "Step =  15000 loss value =  0.11541383840424022\n",
      "Step =  16000 loss value =  0.10831793247040987\n",
      "Step =  17000 loss value =  0.1020321318666895\n",
      "Step =  18000 loss value =  0.0964263211887254\n",
      "Step =  19000 loss value =  0.09139668340676058\n",
      "Step =  20000 loss value =  0.08685940072103396\n"
     ]
    }
   ],
   "source": [
    "#AND\n",
    "x_data = np.array([[0,0],[0,1],[1,0],[1,1]])\n",
    "t_data = np.array([0,0,0,1])\n",
    "\n",
    "AND_Gate = LogicGate(\"AND_GATE\",x_data,t_data,1e-2,20001)\n",
    "AND_Gate.train()"
   ]
  },
  {
   "cell_type": "code",
   "execution_count": 46,
   "metadata": {},
   "outputs": [
    {
     "data": {
      "text/plain": [
       "1.0"
      ]
     },
     "execution_count": 46,
     "metadata": {},
     "output_type": "execute_result"
    }
   ],
   "source": [
    "test_xdata = np.array([[0,0],[0,1],[1,0],[1,1]])\n",
    "test_tdata = np.array([0,0,0,1])\n",
    "\n",
    "AND_GATE.accuracy(test_xdata,test_tdata)"
   ]
  },
  {
   "cell_type": "code",
   "execution_count": 49,
   "metadata": {},
   "outputs": [
    {
     "name": "stdout",
     "output_type": "stream",
     "text": [
      "OR_GATE is created\n",
      "OR_GATE\n",
      "Step =  0 loss value =  2.0912740217253267\n",
      "Step =  1000 loss value =  0.7453793782722083\n",
      "Step =  2000 loss value =  0.4416442395809571\n",
      "Step =  3000 loss value =  0.3088266877614879\n",
      "Step =  4000 loss value =  0.23568155427409063\n",
      "Step =  5000 loss value =  0.18981748597389414\n",
      "Step =  6000 loss value =  0.15854275580946472\n",
      "Step =  7000 loss value =  0.13592701924149575\n",
      "Step =  8000 loss value =  0.11884850945570719\n",
      "Step =  9000 loss value =  0.10551515342508774\n",
      "Step =  10000 loss value =  0.09482799452194716\n",
      "Step =  11000 loss value =  0.08607713768628443\n",
      "Step =  12000 loss value =  0.078784314847039\n",
      "Step =  13000 loss value =  0.07261592875090402\n",
      "Step =  14000 loss value =  0.06733241287140417\n",
      "Step =  15000 loss value =  0.06275740698896669\n",
      "Step =  16000 loss value =  0.058758277276913164\n",
      "Step =  17000 loss value =  0.05523340244621707\n",
      "Step =  18000 loss value =  0.05210364024974902\n",
      "Step =  19000 loss value =  0.049306457471659404\n",
      "Step =  20000 loss value =  0.046791803473117954\n"
     ]
    }
   ],
   "source": [
    "#OR\n",
    "x_data = np.array([[0,0],[0,1],[1,0],[1,1]])\n",
    "t_data = np.array([0,1,1,1])\n",
    "\n",
    "OR_Gate = LogicGate(\"OR_GATE\",x_data,t_data,1e-2,20001)\n",
    "OR_Gate.train()"
   ]
  },
  {
   "cell_type": "code",
   "execution_count": 62,
   "metadata": {},
   "outputs": [
    {
     "name": "stdout",
     "output_type": "stream",
     "text": [
      "[0, 1, 1, 1]\n"
     ]
    },
    {
     "data": {
      "text/plain": [
       "1.0"
      ]
     },
     "execution_count": 62,
     "metadata": {},
     "output_type": "execute_result"
    }
   ],
   "source": [
    "test_xdata = np.array([[0,0],[0,1],[1,0],[1,1]])\n",
    "test_tdata = np.array([0,1,1,1])\n",
    "OR_arr = []\n",
    "\n",
    "for i in range(len(test_xdata)):\n",
    "    (real_val, logical_val) = OR_Gate.predict(test_xdata[i])\n",
    "    OR_arr.append(logical_val)\n",
    "    \n",
    "print(OR_arr)\n",
    "\n",
    "OR_Gate.accuracy(test_xdata,test_tdata)"
   ]
  },
  {
   "cell_type": "code",
   "execution_count": 52,
   "metadata": {},
   "outputs": [
    {
     "name": "stdout",
     "output_type": "stream",
     "text": [
      "NAND_GATE is created\n",
      "NAND_GATE\n",
      "Step =  0 loss value =  2.735500852516487\n",
      "Step =  1000 loss value =  1.0568107284660304\n",
      "Step =  2000 loss value =  0.6806949614945488\n",
      "Step =  3000 loss value =  0.5027587446481343\n",
      "Step =  4000 loss value =  0.39749996267966026\n",
      "Step =  5000 loss value =  0.3279024535455923\n",
      "Step =  6000 loss value =  0.2785559505091343\n",
      "Step =  7000 loss value =  0.24181328766854893\n",
      "Step =  8000 loss value =  0.21343721938126684\n",
      "Step =  9000 loss value =  0.19089043695200186\n",
      "Step =  10000 loss value =  0.17256213050095254\n",
      "Step =  11000 loss value =  0.15738156606569417\n",
      "Step =  12000 loss value =  0.14460996849224297\n",
      "Step =  13000 loss value =  0.1337215899754824\n",
      "Step =  14000 loss value =  0.12433238158242083\n",
      "Step =  15000 loss value =  0.11615545590397128\n",
      "Step =  16000 loss value =  0.10897231042506643\n",
      "Step =  17000 loss value =  0.10261367844773364\n",
      "Step =  18000 loss value =  0.096946455306063\n",
      "Step =  19000 loss value =  0.09186456857774442\n",
      "Step =  20000 loss value =  0.08728247350411122\n"
     ]
    }
   ],
   "source": [
    "#NAND\n",
    "x_data = np.array([[0,0],[0,1],[1,0],[1,1]])\n",
    "t_data = np.array([1,1,1,0])\n",
    "\n",
    "NAND_Gate = LogicGate(\"NAND_GATE\",x_data,t_data,1e-2,20001)\n",
    "NAND_Gate.train()"
   ]
  },
  {
   "cell_type": "code",
   "execution_count": 63,
   "metadata": {},
   "outputs": [
    {
     "name": "stdout",
     "output_type": "stream",
     "text": [
      "[0, 1, 1, 1]\n"
     ]
    },
    {
     "data": {
      "text/plain": [
       "1.0"
      ]
     },
     "execution_count": 63,
     "metadata": {},
     "output_type": "execute_result"
    }
   ],
   "source": [
    "test_xdata = np.array([[0,0],[0,1],[1,0],[1,1]])\n",
    "test_tdata = np.array([1,1,1,0])\n",
    "NAND_arr = []\n",
    "\n",
    "for i in range(len(test_xdata)):\n",
    "    (real_val, logical_val) = OR_Gate.predict(test_xdata[i])\n",
    "    NAND_arr.append(logical_val)\n",
    "    \n",
    "print(NAND_arr)\n",
    "\n",
    "NAND_Gate.accuracy(test_xdata,test_tdata)"
   ]
  },
  {
   "cell_type": "code",
   "execution_count": 74,
   "metadata": {},
   "outputs": [
    {
     "name": "stdout",
     "output_type": "stream",
     "text": [
      "[0 0]  = 0\n",
      "\n",
      "[0 1]  = 1\n",
      "\n",
      "[1 0]  = 1\n",
      "\n",
      "[1 1]  = 0\n",
      "\n"
     ]
    }
   ],
   "source": [
    "input_data = np.array([[0,0],[0,1],[1,0],[1,1]])\n",
    "\n",
    "s1 = []\n",
    "s2 = []\n",
    "\n",
    "new_input_data = []\n",
    "final_output = []\n",
    "\n",
    "for i in range(len(input_data)):\n",
    "    \n",
    "    s1 = NAND_Gate.predict(input_data[i])\n",
    "    s2 = OR_Gate.predict(input_data[i])\n",
    "    \n",
    "    new_input_data.append(s1[-1])\n",
    "    new_input_data.append(s2[-1])\n",
    "    \n",
    "    (real_val, logical_val) = AND_Gate.predict(np.array(new_input_data))\n",
    "    final_output.append(logical_val)\n",
    "    \n",
    "    new_input_data = []\n",
    "\n",
    "for i in range(len(input_data)):\n",
    "    print(input_data[i], \" =\",final_output[i],end='')\n",
    "    print(\"\\n\")\n"
   ]
  },
  {
   "cell_type": "code",
   "execution_count": null,
   "metadata": {},
   "outputs": [],
   "source": []
  }
 ],
 "metadata": {
  "kernelspec": {
   "display_name": "Python 3",
   "language": "python",
   "name": "python3"
  },
  "language_info": {
   "codemirror_mode": {
    "name": "ipython",
    "version": 3
   },
   "file_extension": ".py",
   "mimetype": "text/x-python",
   "name": "python",
   "nbconvert_exporter": "python",
   "pygments_lexer": "ipython3",
   "version": "3.6.9"
  }
 },
 "nbformat": 4,
 "nbformat_minor": 2
}
