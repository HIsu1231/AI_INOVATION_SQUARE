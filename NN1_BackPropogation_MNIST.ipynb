{
  "nbformat": 4,
  "nbformat_minor": 0,
  "metadata": {
    "colab": {
      "name": "NN1_BackPropogation_MNIST.ipynb",
      "provenance": [],
      "authorship_tag": "ABX9TyPYexp7cDsYsIukjSQzK3Yu",
      "include_colab_link": true
    },
    "kernelspec": {
      "name": "python3",
      "display_name": "Python 3"
    }
  },
  "cells": [
    {
      "cell_type": "markdown",
      "metadata": {
        "id": "view-in-github",
        "colab_type": "text"
      },
      "source": [
        "<a href=\"https://colab.research.google.com/github/HIsu1231/AI_INOVATION_SQUARE/blob/master/NN1_BackPropogation_MNIST.ipynb\" target=\"_parent\"><img src=\"https://colab.research.google.com/assets/colab-badge.svg\" alt=\"Open In Colab\"/></a>"
      ]
    },
    {
      "cell_type": "code",
      "metadata": {
        "id": "AKeJBEkD8LuW"
      },
      "source": [
        "import numpy as np\n",
        "\n",
        "def sigmoid(z):\n",
        "\n",
        "  return 1 / 1 + np.exp(-z)"
      ],
      "execution_count": 2,
      "outputs": []
    },
    {
      "cell_type": "code",
      "metadata": {
        "id": "QlmQtJ7kCdSh"
      },
      "source": [
        "class NeuralNetwork():\n",
        "\n",
        "  def __init__(self, i_nodes, h_nodes, o_nodes, learning_rate):\n",
        "\n",
        "    self.W2 = np.random.randn(i_nodes, h_nodes) / np.sqrt(i_nodes/2)\n",
        "    self.b2 = np.random.rand(h_nodes)\n",
        "\n",
        "    self.W3 = np.random.rand(h_nodes,o_nodes) / np.sqrt(h_nodes/2)\n",
        "    self.b3 = np.random.rand(o_nodes)\n",
        "\n",
        "    self.learning_rate = learning_rate\n",
        "\n",
        "    self.z1 = np.zeros([1,input_nodes])\n",
        "    self.a1 = np.zeros([1,i_nodes])\n",
        "\n",
        "    self.z2 = np.zeros([1,h_nodes])\n",
        "    self.a2 = np.zeros([1,h_nodes])\n",
        "    \n",
        "    self.z3 = np.zeros([1,o_nodes])\n",
        "    self.a3 = np.zeros([1,o_nodes])\n",
        "\n",
        "  \n",
        "  def feed_forward(self):\n",
        "\n",
        "    delta = 1e-7\n",
        "\n",
        "    self.z1 = self.input_data\n",
        "    self.a1 = self.input_data\n",
        "\n",
        "    self.z2 = np.dot(self.a1,self.W2) + self.b2\n",
        "    self.a2 = sigmoid(self.z2)\n",
        "    \n",
        "    self.z3 = np.dot(self.a2,self.W3) + self.b3\n",
        "    self.a3 = sigmoid(self.z3)\n",
        "\n",
        "    return -np.sum( self.target_data * np.log(self.a3+delta) + (1-self.target_data * np.log((1-self.a3) + delta)))\n",
        "    \n",
        "\n",
        "  def loss_val(self):\n",
        "\n",
        "    delta = 1e-7\n",
        "\n",
        "    self.z1 = self.input_data\n",
        "    self.a1 = self.input_data\n",
        "    \n",
        "    self.z2 = np.dot(self.a1,self.W2) + self.b2\n",
        "    self.a2 = sigmoid(self.z2)\n",
        "\n",
        "    self.z3 = np.dot(self.a2,self.W3) + self.b3\n",
        "    self.a3 = sigmoid(self.z3)\n",
        "\n",
        "    return -np.sum(self.target_data*np.log(self.a3+delta) + (1-slef.target_data)* np.log((1-self.a3)+delta))\n",
        "\n",
        "\n",
        "  def train(self, input_data, target_data):\n",
        "\n",
        "    self.input_data = input_data\n",
        "    self.target_data = target_data\n",
        "\n",
        "    loss_val = self.feed_forward()\n",
        "\n",
        "    loss_3 = (self.a3 - self.target_data) * self.a3 * (1 - self.a3)\n",
        "\n",
        "    self.W3 = self.W3 - self.learning_rate * np.dot(self.a2.T,loss_3)\n",
        "    self.b3 = self.b3 - self.learning_rate * loss_3\n",
        "\n",
        "    loss_2 = np.dot(loss_3, self.W3.T) * self.a2 * (1 - self.a2)\n",
        "\n",
        "    self.W2 = self.W2 - self.learning_rate * np.dot(self.a1.T,loss_2)\n",
        "    self.b2 = self.b2 - self.learning_rate * loss_2\n",
        "\n",
        "\n",
        "  def predict(self, input_data):\n",
        "\n",
        "    z2 = np.dot(input_data, self.W2) + self.b2\n",
        "    a2 = sigmoid(z2)\n",
        "\n",
        "    z3 = np.dot(a2,self.W3) + self.b3\n",
        "    y = a3 = sigmoid(z3)\n",
        "\n",
        "    predicted_num = argmax(a3)\n",
        "\n",
        "    return predicted_num\n",
        "\n",
        "\n",
        "  def accuracy(self,test_input_data, test_target_data):\n",
        "\n",
        "    matched_list = []\n",
        "    unmatched_list = []\n",
        "\n",
        "    for i in range(len(test_input_data)):\n",
        "\n",
        "      lable = int(test_target_data[i])\n",
        "\n",
        "      data = (test_input_data[i]/255.0 * 0.99) + 0.01\n",
        "\n",
        "      predicted_num = self.predict(np.array(data, ndmin=2))\n",
        "\n",
        "      if label == predicted_num:\n",
        "\n",
        "        matched_list.append()\n",
        "\n",
        "      else:\n",
        "\n",
        "       unmatched_list.append()\n",
        "\n",
        "      accuracy_val = (len(matched_list)/len(test_input_data)) \n",
        "\n",
        "      return accuracy_val, unmatched_list\n",
        "\n"
      ],
      "execution_count": 3,
      "outputs": []
    },
    {
      "cell_type": "code",
      "metadata": {
        "id": "F70ny4MmIlve"
      },
      "source": [
        ""
      ],
      "execution_count": null,
      "outputs": []
    }
  ]
}