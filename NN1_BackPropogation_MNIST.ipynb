{
  "nbformat": 4,
  "nbformat_minor": 0,
  "metadata": {
    "colab": {
      "name": "NN1_BackPropogation_MNIST.ipynb",
      "provenance": [],
      "mount_file_id": "1bMiH7EEOqc-UEP3F-Si3SPgPr08q9DyA",
      "authorship_tag": "ABX9TyP877wy6EE3zpki0i5JzT1R",
      "include_colab_link": true
    },
    "kernelspec": {
      "name": "python3",
      "display_name": "Python 3"
    }
  },
  "cells": [
    {
      "cell_type": "markdown",
      "metadata": {
        "id": "view-in-github",
        "colab_type": "text"
      },
      "source": [
        "<a href=\"https://colab.research.google.com/github/HIsu1231/AI_INOVATION_SQUARE/blob/master/NN1_BackPropogation_MNIST.ipynb\" target=\"_parent\"><img src=\"https://colab.research.google.com/assets/colab-badge.svg\" alt=\"Open In Colab\"/></a>"
      ]
    },
    {
      "cell_type": "code",
      "metadata": {
        "id": "XxfM3YnRLgt7"
      },
      "source": [
        "import numpy as np\n",
        "import matplotlib.pyplot as plt\n",
        "from datetime import datetime"
      ],
      "execution_count": null,
      "outputs": []
    },
    {
      "cell_type": "code",
      "metadata": {
        "id": "vA99t4wmLtJU"
      },
      "source": [
        "def sigmoid(z):\n",
        "  return 1 / (1 + np.exp(-z))"
      ],
      "execution_count": null,
      "outputs": []
    },
    {
      "cell_type": "code",
      "metadata": {
        "id": "8fvTaBIeLzEA"
      },
      "source": [
        "class NeuralNetwork():\n",
        "\n",
        "  def __init__(self, i_nodes, h1_nodes, o_nodes, lr):\n",
        "\n",
        "    self.W2 = np.random.randn(i_nodes, h1_nodes) / np.sqrt(i_nodes/2)\n",
        "    self.b2 = np.random.rand(h1_nodes)\n",
        "\n",
        "    self.W3 = np.random.randn(h1_nodes, o_nodes) / np.sqrt(h1_nodes/2)\n",
        "    self.b3 = np.random.rand(o_nodes)\n",
        "\n",
        "    '''self.z1 = np.zeros([1,i_nodes])\n",
        "    self.a1 = np.zeros([1,i_nodes])\n",
        "\n",
        "    self.z2 = np.zeros([1,h1_nodes])\n",
        "    self.a2 = np.zeros([1,h1_nodes])\n",
        "\n",
        "    self.z3 = np.zeros([1,o_nodes])\n",
        "    self.a3 = np.zeros([1,o_nodes])'''\n",
        "\n",
        "    self.lr = lr\n",
        "\n",
        "  def feed_forward(self):\n",
        "\n",
        "    delta = 1e-7\n",
        "\n",
        "    self.z1 = self.input_data\n",
        "    self.a1 = self.input_data\n",
        "\n",
        "    self.z2 = np.dot(self.a1, self.W2) + self.b2\n",
        "    self.a2 = sigmoid(self.z2)\n",
        "\n",
        "    self.z3 = np.dot(self.a2, self.W3) + self.b3\n",
        "    self.a3 = sigmoid(self.z3)\n",
        "\n",
        "    return -np.sum(self.target_data * np.log(self.a3 + delta) + (1 - self.target_data) + np.log((1 - self.a3) + delta))\n",
        "\n",
        "  def loss_val(self):\n",
        "\n",
        "    delta = 1e-7\n",
        "\n",
        "    self.z1 = self.input_data\n",
        "    self.a1 = self.input_data\n",
        "    \n",
        "    self.z2 = np.dot(self.a1, self.W2) + self.b2\n",
        "    self.a2 = sigmoid(self.z2)\n",
        "\n",
        "    self.z3 = np.dot(self.a2, self.W3) +self.b3\n",
        "    self.a3 = sigmoid(self.z3)\n",
        "\n",
        "    return -np.sum(self.target_data * np.log(self.a3 + delta) + (1 - self.target_data) * np.log((1 - self.a3) + delta))\n",
        "\n",
        "  def accuracy(self, test_input_data, test_target_data):\n",
        "\n",
        "    matched_list = []\n",
        "    unmatched_list = []\n",
        "\n",
        "    for i in range(len(test_input_data)):\n",
        "\n",
        "      label = int(test_target_data[i])\n",
        "      data = (test_input_data[i] / 255.0 * 0.99) + 0.01\n",
        "\n",
        "      #predict을 위해서 vector를 matrix로 변환=> (1,test_input_data[1])\n",
        "      predicted_num = self.predict(np.array(data, ndmin=2))\n",
        "\n",
        "      if label == predicted_num:\n",
        "        matched_list.append(i)\n",
        "\n",
        "      else:\n",
        "        unmatched_list.append(i)\n",
        "\n",
        "    accuracy_val = len(matched_list) / len(test_input_data)\n",
        "\n",
        "    return accuracy_val, unmatched_list\n",
        "\n",
        "  def train(self, input_data, target_data):\n",
        "\n",
        "    self.input_data = input_data\n",
        "    self.target_data = target_data\n",
        "\n",
        "    loss_val = self.feed_forward()\n",
        "\n",
        "    loss_3 = (self.a3 - self.target_data) * self.a3 * (1 - self.a3)\n",
        "\n",
        "    self.W3 = self.W3 - self.lr * np.dot(self.a2.T, loss_3)\n",
        "    self.b3 = self.b3 - self.lr * loss_3\n",
        "\n",
        "    loss_2 = np.dot(loss_3, self.W3.T) * self.a2 * (1 - self.a2)\n",
        "\n",
        "    self.W2 = self.W2 - self.lr * np.dot(self.a1.T, loss_2)\n",
        "    self.b2 = self.b2 - self.lr * loss_2\n",
        "\n",
        "  def predict(self, input_data):\n",
        "\n",
        "    z2 = np.dot(input_data, self.W2) + self.b2\n",
        "    a2 = sigmoid(z2)\n",
        "\n",
        "    z3 = np.dot(a2, self.W3) + self.b3\n",
        "    a3 = sigmoid(z3)\n",
        "\n",
        "    predicted_num= np.argmax(a3)\n",
        "\n",
        "    return predicted_num"
      ],
      "execution_count": null,
      "outputs": []
    },
    {
      "cell_type": "code",
      "metadata": {
        "colab": {
          "base_uri": "https://localhost:8080/"
        },
        "id": "nkSLE6SURF5g",
        "outputId": "20f4b309-da93-4630-fa84-b9909fbf2590"
      },
      "source": [
        "training_data = np.loadtxt(\"./drive/MyDrive/AI_INOVATION_SQUARE/data/./mnist_train.csv\",delimiter=',',dtype=np.float32)\n",
        "\n",
        "print(\"training_data.shape = \",training_data.shape)"
      ],
      "execution_count": null,
      "outputs": [
        {
          "output_type": "stream",
          "text": [
            "training_data.shape =  (60000, 785)\n"
          ],
          "name": "stdout"
        }
      ]
    },
    {
      "cell_type": "code",
      "metadata": {
        "colab": {
          "base_uri": "https://localhost:8080/"
        },
        "id": "rSjq-LnGRuFq",
        "outputId": "8bc968c3-2e6b-4b69-824a-560279e40c4c"
      },
      "source": [
        "#hyper_parameter\n",
        "\n",
        "i_nodes = training_data.shape[1] - 1\n",
        "h1_nodes = 100\n",
        "o_nodes = 10\n",
        "lr = 0.1\n",
        "epochs = 1\n",
        "\n",
        "loss_val_list = []\n",
        "\n",
        "nn = NeuralNetwork(i_nodes, h1_nodes, o_nodes, lr)\n",
        "\n",
        "start_time = datetime.now()\n",
        "\n",
        "for i in range(epochs):\n",
        "\n",
        "  for step in range(len(training_data)):\n",
        "\n",
        "    target_data = np.zeros(o_nodes) + 0.01\n",
        "    target_data[int(training_data[step,0])] = 0.99\n",
        "\n",
        "    input_data = ((training_data[step, 1:] / 255.0) * 0.99) + 0.01\n",
        "\n",
        "    nn.train(np.array(input_data, ndmin=2), np.array(target_data, ndmin=2))\n",
        "\n",
        "    if step % 1000 == 0:\n",
        "      print(\"epochs = \",i, \", step = \", step, \", current loss value = \", nn.loss_val())\n",
        "\n",
        "    loss_val_list.append(nn.loss_val())\n",
        "\n",
        "end_time = datetime.now()\n",
        "\n",
        "print(\"\")\n",
        "print(\"Elapsed time = \", end_time - start_time)"
      ],
      "execution_count": null,
      "outputs": [
        {
          "output_type": "stream",
          "text": [
            "epochs =  0 , step =  0 , current loss value =  4.121601758348593\n",
            "epochs =  0 , step =  1000 , current loss value =  1.624282935909731\n",
            "epochs =  0 , step =  2000 , current loss value =  1.9151034057199066\n",
            "epochs =  0 , step =  3000 , current loss value =  2.544181385651647\n",
            "epochs =  0 , step =  4000 , current loss value =  1.0691479643097106\n",
            "epochs =  0 , step =  5000 , current loss value =  0.8797633097084512\n",
            "epochs =  0 , step =  6000 , current loss value =  0.6371646866346615\n",
            "epochs =  0 , step =  7000 , current loss value =  1.5247215656077944\n",
            "epochs =  0 , step =  8000 , current loss value =  0.6565818985960455\n",
            "epochs =  0 , step =  9000 , current loss value =  0.8833738967618299\n",
            "epochs =  0 , step =  10000 , current loss value =  0.6551129537066614\n",
            "epochs =  0 , step =  11000 , current loss value =  0.6812775774166532\n",
            "epochs =  0 , step =  12000 , current loss value =  0.8223515151091911\n",
            "epochs =  0 , step =  13000 , current loss value =  0.8972711183009194\n",
            "epochs =  0 , step =  14000 , current loss value =  0.7769852317086585\n",
            "epochs =  0 , step =  15000 , current loss value =  0.7371266581853431\n",
            "epochs =  0 , step =  16000 , current loss value =  0.6743107672544674\n",
            "epochs =  0 , step =  17000 , current loss value =  0.9750974230621018\n",
            "epochs =  0 , step =  18000 , current loss value =  0.9375458739271443\n",
            "epochs =  0 , step =  19000 , current loss value =  0.8599036486700729\n",
            "epochs =  0 , step =  20000 , current loss value =  0.6920152849522115\n",
            "epochs =  0 , step =  21000 , current loss value =  1.0199856762215593\n",
            "epochs =  0 , step =  22000 , current loss value =  0.9023471596280986\n",
            "epochs =  0 , step =  23000 , current loss value =  0.722656835222847\n",
            "epochs =  0 , step =  24000 , current loss value =  0.7139782218333827\n",
            "epochs =  0 , step =  25000 , current loss value =  1.225131502552363\n",
            "epochs =  0 , step =  26000 , current loss value =  0.6609261160445882\n",
            "epochs =  0 , step =  27000 , current loss value =  0.8899253260058347\n",
            "epochs =  0 , step =  28000 , current loss value =  0.7148755939916425\n",
            "epochs =  0 , step =  29000 , current loss value =  0.7865763962165466\n",
            "epochs =  0 , step =  30000 , current loss value =  0.7215273413724572\n",
            "epochs =  0 , step =  31000 , current loss value =  2.587521981692984\n",
            "epochs =  0 , step =  32000 , current loss value =  0.6984073500311698\n",
            "epochs =  0 , step =  33000 , current loss value =  1.0644265455347872\n",
            "epochs =  0 , step =  34000 , current loss value =  0.8956563994053319\n",
            "epochs =  0 , step =  35000 , current loss value =  0.7079196812210621\n",
            "epochs =  0 , step =  36000 , current loss value =  0.8444278472704906\n",
            "epochs =  0 , step =  37000 , current loss value =  0.7078390797425739\n",
            "epochs =  0 , step =  38000 , current loss value =  0.8282614754223068\n",
            "epochs =  0 , step =  39000 , current loss value =  1.1385531764542087\n",
            "epochs =  0 , step =  40000 , current loss value =  0.7395190338192793\n",
            "epochs =  0 , step =  41000 , current loss value =  0.7704896221294708\n",
            "epochs =  0 , step =  42000 , current loss value =  0.6961774865930295\n",
            "epochs =  0 , step =  43000 , current loss value =  1.0428294918204815\n",
            "epochs =  0 , step =  44000 , current loss value =  0.7855622125912161\n",
            "epochs =  0 , step =  45000 , current loss value =  0.8226395225266065\n",
            "epochs =  0 , step =  46000 , current loss value =  0.8546255870569\n",
            "epochs =  0 , step =  47000 , current loss value =  0.7742095475506677\n",
            "epochs =  0 , step =  48000 , current loss value =  0.8671384706943948\n",
            "epochs =  0 , step =  49000 , current loss value =  0.7214472394206214\n",
            "epochs =  0 , step =  50000 , current loss value =  0.8450981206783977\n",
            "epochs =  0 , step =  51000 , current loss value =  0.7702858660320359\n",
            "epochs =  0 , step =  52000 , current loss value =  0.7743029770025165\n",
            "epochs =  0 , step =  53000 , current loss value =  0.8796424114606161\n",
            "epochs =  0 , step =  54000 , current loss value =  0.812187248546161\n",
            "epochs =  0 , step =  55000 , current loss value =  0.7290890342719926\n",
            "epochs =  0 , step =  56000 , current loss value =  0.7069071010447259\n",
            "epochs =  0 , step =  57000 , current loss value =  0.8654471286440621\n",
            "epochs =  0 , step =  58000 , current loss value =  0.9209009354647433\n",
            "epochs =  0 , step =  59000 , current loss value =  0.8376582616770173\n",
            "\n",
            "Elapsed time =  0:00:45.149824\n"
          ],
          "name": "stdout"
        }
      ]
    },
    {
      "cell_type": "code",
      "metadata": {
        "colab": {
          "base_uri": "https://localhost:8080/"
        },
        "id": "ZKuAG6dhTAiy",
        "outputId": "3203bc33-61ee-46d2-b177-cf2b714a65b9"
      },
      "source": [
        "test_data = np.loadtxt(\"./drive/MyDrive/AI_INOVATION_SQUARE/data/mnist_test.csv\", delimiter=',', dtype=np.float32)\n",
        "\n",
        "test_input_data = test_data[ : , 1: ]\n",
        "test_target_data = test_data[ :, 0]\n",
        "\n",
        "print(\"test_data.shape = \",test_data.shape)"
      ],
      "execution_count": null,
      "outputs": [
        {
          "output_type": "stream",
          "text": [
            "test_data.shape =  (10000, 785)\n"
          ],
          "name": "stdout"
        }
      ]
    },
    {
      "cell_type": "code",
      "metadata": {
        "colab": {
          "base_uri": "https://localhost:8080/"
        },
        "id": "HHRxGT9AVwNP",
        "outputId": "baa28825-be59-4dea-a615-15b41672898f"
      },
      "source": [
        "\n",
        "(accuracy_ret, false_list) = nn.accuracy(test_input_data, test_target_data)\n",
        "\n",
        "print(\"Accurcay = \", np.round(accuracy_ret * 100,3) ,'%')"
      ],
      "execution_count": null,
      "outputs": [
        {
          "output_type": "stream",
          "text": [
            "Accurcay =  93.46 %\n"
          ],
          "name": "stdout"
        }
      ]
    },
    {
      "cell_type": "markdown",
      "metadata": {
        "id": "fB45Yw_8j89P"
      },
      "source": [
        "###오답확인"
      ]
    },
    {
      "cell_type": "code",
      "metadata": {
        "colab": {
          "base_uri": "https://localhost:8080/"
        },
        "id": "aSZdxq6mcHSf",
        "outputId": "75391315-26b8-4c90-8ba9-a7b22972aa00"
      },
      "source": [
        "print (false_list)"
      ],
      "execution_count": null,
      "outputs": [
        {
          "output_type": "stream",
          "text": [
            "[8, 33, 111, 119, 124, 139, 144, 149, 241, 247, 259, 290, 300, 313, 318, 320, 321, 325, 340, 352, 358, 362, 381, 403, 444, 445, 448, 449, 468, 479, 495, 511, 532, 543, 550, 551, 565, 571, 578, 582, 591, 605, 610, 613, 624, 628, 629, 658, 659, 684, 689, 691, 707, 717, 720, 740, 741, 760, 791, 810, 839, 844, 846, 881, 900, 924, 938, 939, 947, 950, 951, 956, 959, 960, 965, 975, 990, 1003, 1012, 1014, 1032, 1039, 1050, 1062, 1068, 1073, 1082, 1096, 1107, 1112, 1114, 1119, 1173, 1181, 1191, 1192, 1194, 1198, 1200, 1204, 1206, 1224, 1226, 1228, 1232, 1234, 1242, 1247, 1248, 1252, 1256, 1260, 1264, 1270, 1283, 1289, 1299, 1319, 1326, 1328, 1337, 1357, 1391, 1393, 1409, 1410, 1413, 1422, 1433, 1440, 1444, 1453, 1466, 1467, 1476, 1494, 1500, 1522, 1525, 1527, 1530, 1549, 1553, 1559, 1581, 1609, 1621, 1634, 1641, 1678, 1681, 1696, 1709, 1716, 1717, 1718, 1721, 1722, 1751, 1754, 1759, 1772, 1790, 1813, 1816, 1823, 1828, 1839, 1850, 1855, 1865, 1878, 1883, 1899, 1901, 1911, 1917, 1930, 1938, 1940, 1952, 1956, 1963, 1970, 1973, 1982, 1984, 2016, 2024, 2035, 2040, 2043, 2044, 2053, 2063, 2070, 2093, 2098, 2099, 2109, 2115, 2118, 2125, 2129, 2130, 2135, 2148, 2182, 2185, 2186, 2189, 2224, 2266, 2272, 2293, 2299, 2325, 2369, 2371, 2387, 2393, 2394, 2395, 2406, 2422, 2425, 2433, 2447, 2462, 2488, 2514, 2515, 2526, 2539, 2556, 2559, 2573, 2574, 2578, 2598, 2604, 2607, 2610, 2631, 2648, 2654, 2670, 2683, 2695, 2713, 2730, 2771, 2780, 2810, 2818, 2832, 2850, 2877, 2896, 2905, 2907, 2919, 2921, 2925, 2927, 2945, 2953, 2995, 3005, 3060, 3062, 3066, 3073, 3098, 3106, 3114, 3117, 3130, 3133, 3136, 3145, 3151, 3166, 3167, 3183, 3189, 3206, 3225, 3240, 3262, 3269, 3280, 3288, 3316, 3329, 3330, 3333, 3369, 3376, 3405, 3410, 3437, 3468, 3490, 3503, 3520, 3525, 3549, 3558, 3565, 3567, 3573, 3575, 3580, 3597, 3604, 3626, 3629, 3667, 3702, 3716, 3718, 3726, 3730, 3751, 3757, 3758, 3767, 3769, 3776, 3780, 3794, 3796, 3801, 3806, 3808, 3811, 3817, 3818, 3836, 3838, 3846, 3848, 3853, 3855, 3862, 3876, 3893, 3902, 3906, 3926, 3941, 3943, 3946, 3951, 3962, 3968, 3976, 4000, 4007, 4013, 4017, 4027, 4063, 4065, 4068, 4071, 4075, 4076, 4078, 4093, 4131, 4140, 4152, 4159, 4163, 4176, 4177, 4180, 4199, 4205, 4211, 4212, 4224, 4238, 4248, 4265, 4266, 4271, 4289, 4297, 4300, 4306, 4313, 4341, 4355, 4356, 4369, 4374, 4382, 4400, 4423, 4433, 4435, 4449, 4451, 4477, 4497, 4498, 4500, 4540, 4567, 4575, 4578, 4601, 4615, 4639, 4671, 4690, 4695, 4721, 4731, 4751, 4761, 4785, 4807, 4814, 4823, 4827, 4829, 4837, 4860, 4863, 4876, 4879, 4880, 4886, 4890, 4896, 4915, 4939, 4943, 4950, 4956, 4966, 4990, 4995, 5038, 5046, 5054, 5065, 5067, 5068, 5078, 5086, 5140, 5159, 5165, 5177, 5201, 5246, 5331, 5440, 5457, 5569, 5600, 5611, 5617, 5620, 5634, 5642, 5649, 5688, 5709, 5714, 5734, 5735, 5749, 5835, 5842, 5845, 5854, 5858, 5866, 5887, 5888, 5891, 5906, 5913, 5914, 5922, 5926, 5936, 5937, 5955, 5972, 5973, 5975, 5982, 5985, 6035, 6037, 6042, 6059, 6065, 6071, 6081, 6091, 6109, 6157, 6166, 6172, 6347, 6390, 6391, 6392, 6400, 6425, 6426, 6505, 6555, 6568, 6569, 6577, 6578, 6597, 6598, 6625, 6645, 6651, 6706, 6721, 6744, 6746, 6765, 6769, 6775, 6785, 6796, 6872, 6906, 6926, 6981, 7121, 7130, 7153, 7216, 7241, 7338, 7432, 7434, 7451, 7498, 7539, 7545, 7691, 7797, 7812, 7821, 7842, 7849, 7850, 7859, 7870, 7876, 7886, 7888, 7899, 7902, 7915, 7917, 7918, 7921, 7945, 7990, 8020, 8062, 8081, 8091, 8094, 8095, 8165, 8262, 8279, 8339, 8353, 8375, 8406, 8408, 8410, 8520, 8522, 8639, 8816, 8863, 9009, 9010, 9013, 9015, 9019, 9024, 9036, 9045, 9103, 9168, 9209, 9211, 9280, 9316, 9446, 9463, 9482, 9534, 9538, 9560, 9587, 9595, 9624, 9634, 9643, 9679, 9700, 9716, 9719, 9729, 9744, 9745, 9749, 9751, 9752, 9764, 9768, 9770, 9777, 9779, 9780, 9792, 9808, 9811, 9839, 9858, 9867, 9879, 9883, 9888, 9892, 9893, 9905, 9925, 9941, 9944, 9970, 9980, 9982]\n"
          ],
          "name": "stdout"
        }
      ]
    },
    {
      "cell_type": "code",
      "metadata": {
        "colab": {
          "base_uri": "https://localhost:8080/",
          "height": 265
        },
        "id": "YMn-z395kUNC",
        "outputId": "970908e7-14d4-40e7-c0cf-8eb11db3e625"
      },
      "source": [
        "img = test_data[8, 1:].reshape(28,28)\n",
        "\n",
        "plt.imshow(img, cmap = 'gray')\n",
        "plt.show()"
      ],
      "execution_count": null,
      "outputs": [
        {
          "output_type": "display_data",
          "data": {
            "image/png": "[encoded data removed]",
            "text/plain": [
              "<Figure size 432x288 with 1 Axes>"
            ]
          },
          "metadata": {
            "tags": [],
            "needs_background": "light"
          }
        }
      ]
    },
    {
      "cell_type": "code",
      "metadata": {
        "colab": {
          "base_uri": "https://localhost:8080/",
          "height": 295
        },
        "id": "7OYOi8pbkh-K",
        "outputId": "c8249264-9cbf-4bc0-b208-cf48efc6dc27"
      },
      "source": [
        "#손실함수 추세 확인\n",
        "\n",
        "Y_DATA_LIST = []\n",
        "\n",
        "for i in range(0, len(loss_val_list), 500):\n",
        "  Y_DATA_LIST.append(loss_val_list[i])\n",
        "\n",
        "plt.title('MNIST Loss Value Trend')\n",
        "plt.xlabel('data index ( X 500)')\n",
        "plt.ylabel('loss value')\n",
        "plt.grid()\n",
        "plt.plot(Y_DATA_LIST, color='b')\n",
        "plt.show()"
      ],
      "execution_count": null,
      "outputs": [
        {
          "output_type": "display_data",
          "data": {
            "image/png": "[encoded data removed]",
            "text/plain": [
              "<Figure size 432x288 with 1 Axes>"
            ]
          },
          "metadata": {
            "tags": [],
            "needs_background": "light"
          }
        }
      ]
    },
    {
      "cell_type": "markdown",
      "metadata": {
        "id": "S0OIb9e9oI1u"
      },
      "source": [
        "###최대손실값/최소손실값 확인"
      ]
    },
    {
      "cell_type": "code",
      "metadata": {
        "colab": {
          "base_uri": "https://localhost:8080/"
        },
        "id": "cr3aXlA_mP1B",
        "outputId": "8531fa6c-00bd-4468-e3cc-090042f8047d"
      },
      "source": [
        "max_loss = np.max(loss_val_list)\n",
        "min_loss = np.min(loss_val_list)\n",
        "\n",
        "max_loss_index = np.argmax(loss_val_list)\n",
        "min_loss_index = np.argmin(loss_val_list)\n",
        "\n",
        "print(\"max_loss = \", max_loss,\", max_loss_index = \", max_loss_index, \",min_loss = \", min_loss, \", min_loss_index = \", min_loss_index)"
      ],
      "execution_count": null,
      "outputs": [
        {
          "output_type": "stream",
          "text": [
            "max_loss =  16.253603817825233 , max_loss_index =  59915 ,min_loss =  0.5933760267429926 , min_loss_index =  6528\n"
          ],
          "name": "stdout"
        }
      ]
    },
    {
      "cell_type": "code",
      "metadata": {
        "colab": {
          "base_uri": "https://localhost:8080/",
          "height": 282
        },
        "id": "TTiz3P_golNR",
        "outputId": "36d0adfb-316c-438a-ec10-7a1c67604270"
      },
      "source": [
        "img = training_data[max_loss_index,1: ].reshape(28,28)\n",
        "\n",
        "plt.imshow(img, cmap='gray')\n",
        "plt.show()\n",
        "\n",
        "print(\"label = \",  training_data[max_loss_index, 0])\n"
      ],
      "execution_count": null,
      "outputs": [
        {
          "output_type": "display_data",
          "data": {
            "image/png": "[encoded data removed]",
            "text/plain": [
              "<Figure size 432x288 with 1 Axes>"
            ]
          },
          "metadata": {
            "tags": [],
            "needs_background": "light"
          }
        },
        {
          "output_type": "stream",
          "text": [
            "label =  4.0\n"
          ],
          "name": "stdout"
        }
      ]
    },
    {
      "cell_type": "code",
      "metadata": {
        "colab": {
          "base_uri": "https://localhost:8080/",
          "height": 282
        },
        "id": "pHFDuOl4qLvb",
        "outputId": "72cb2be3-abc3-4473-f1f3-871488617df0"
      },
      "source": [
        "img = training_data[min_loss_index, 1:].reshape(28,28)\n",
        "\n",
        "plt.imshow(img, cmap='gray')\n",
        "plt.show()\n",
        "\n",
        "print(\"label = \", training_data[min_loss_index,0])"
      ],
      "execution_count": null,
      "outputs": [
        {
          "output_type": "display_data",
          "data": {
            "image/png": "[encoded data removed]",
            "text/plain": [
              "<Figure size 432x288 with 1 Axes>"
            ]
          },
          "metadata": {
            "tags": [],
            "needs_background": "light"
          }
        },
        {
          "output_type": "stream",
          "text": [
            "label =  7.0\n"
          ],
          "name": "stdout"
        }
      ]
    },
    {
      "cell_type": "code",
      "metadata": {
        "id": "H1iUExY1qjg-"
      },
      "source": [
        ""
      ],
      "execution_count": null,
      "outputs": []
    }
  ]
}