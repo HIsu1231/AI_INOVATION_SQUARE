{
  "nbformat": 4,
  "nbformat_minor": 0,
  "metadata": {
    "colab": {
      "name": "CNN_3conv/1flatten_3.ipynb",
      "provenance": [],
      "authorship_tag": "ABX9TyMbjA04y2yymWe+Bm4FnvUy",
      "include_colab_link": true
    },
    "kernelspec": {
      "name": "python3",
      "display_name": "Python 3"
    },
    "accelerator": "GPU"
  },
  "cells": [
    {
      "cell_type": "markdown",
      "metadata": {
        "id": "view-in-github",
        "colab_type": "text"
      },
      "source": [
        "<a href=\"https://colab.research.google.com/github/HIsu1231/AI_INOVATION_SQUARE/blob/master/CNN_3conv_1flatten_3.ipynb\" target=\"_parent\"><img src=\"https://colab.research.google.com/assets/colab-badge.svg\" alt=\"Open In Colab\"/></a>"
      ]
    },
    {
      "cell_type": "code",
      "metadata": {
        "colab": {
          "base_uri": "https://localhost:8080/"
        },
        "id": "F3EW2SH1lJ3E",
        "outputId": "210d18c5-c531-426a-c537-df424c826b14"
      },
      "source": [
        "%tensorflow_version 1.X"
      ],
      "execution_count": 2,
      "outputs": [
        {
          "output_type": "stream",
          "text": [
            "`%tensorflow_version` only switches the major version: 1.x or 2.x.\n",
            "You set: `1.X`. This will be interpreted as: `1.x`.\n",
            "\n",
            "\n",
            "TensorFlow 1.x selected.\n"
          ],
          "name": "stdout"
        }
      ]
    },
    {
      "cell_type": "code",
      "metadata": {
        "colab": {
          "base_uri": "https://localhost:8080/"
        },
        "id": "0vdl-5vMlPAa",
        "outputId": "7ad8f395-5463-4a40-a350-543e22e24577"
      },
      "source": [
        "import tensorflow as tf\r\n",
        "from tensorflow.examples.tutorials.mnist import input_data\r\n",
        "import numpy as np\r\n",
        "from datetime import datetime\r\n",
        "\r\n",
        "mnist = input_data.read_data_sets('MNIST/data', one_hot=True)"
      ],
      "execution_count": 3,
      "outputs": [
        {
          "output_type": "stream",
          "text": [
            "WARNING:tensorflow:From <ipython-input-3-1a48d9c9b3ee>:6: read_data_sets (from tensorflow.contrib.learn.python.learn.datasets.mnist) is deprecated and will be removed in a future version.\n",
            "Instructions for updating:\n",
            "Please use alternatives such as official/mnist/dataset.py from tensorflow/models.\n",
            "WARNING:tensorflow:From /tensorflow-1.15.2/python3.6/tensorflow_core/contrib/learn/python/learn/datasets/mnist.py:260: maybe_download (from tensorflow.contrib.learn.python.learn.datasets.base) is deprecated and will be removed in a future version.\n",
            "Instructions for updating:\n",
            "Please write your own downloading logic.\n",
            "WARNING:tensorflow:From /tensorflow-1.15.2/python3.6/tensorflow_core/contrib/learn/python/learn/datasets/base.py:252: _internal_retry.<locals>.wrap.<locals>.wrapped_fn (from tensorflow.contrib.learn.python.learn.datasets.base) is deprecated and will be removed in a future version.\n",
            "Instructions for updating:\n",
            "Please use urllib or similar directly.\n",
            "Successfully downloaded train-images-idx3-ubyte.gz 9912422 bytes.\n",
            "WARNING:tensorflow:From /tensorflow-1.15.2/python3.6/tensorflow_core/contrib/learn/python/learn/datasets/mnist.py:262: extract_images (from tensorflow.contrib.learn.python.learn.datasets.mnist) is deprecated and will be removed in a future version.\n",
            "Instructions for updating:\n",
            "Please use tf.data to implement this functionality.\n",
            "Extracting MNIST/data/train-images-idx3-ubyte.gz\n",
            "Successfully downloaded train-labels-idx1-ubyte.gz 28881 bytes.\n",
            "WARNING:tensorflow:From /tensorflow-1.15.2/python3.6/tensorflow_core/contrib/learn/python/learn/datasets/mnist.py:267: extract_labels (from tensorflow.contrib.learn.python.learn.datasets.mnist) is deprecated and will be removed in a future version.\n",
            "Instructions for updating:\n",
            "Please use tf.data to implement this functionality.\n",
            "Extracting MNIST/data/train-labels-idx1-ubyte.gz\n",
            "WARNING:tensorflow:From /tensorflow-1.15.2/python3.6/tensorflow_core/contrib/learn/python/learn/datasets/mnist.py:110: dense_to_one_hot (from tensorflow.contrib.learn.python.learn.datasets.mnist) is deprecated and will be removed in a future version.\n",
            "Instructions for updating:\n",
            "Please use tf.one_hot on tensors.\n",
            "Successfully downloaded t10k-images-idx3-ubyte.gz 1648877 bytes.\n",
            "Extracting MNIST/data/t10k-images-idx3-ubyte.gz\n",
            "Successfully downloaded t10k-labels-idx1-ubyte.gz 4542 bytes.\n",
            "Extracting MNIST/data/t10k-labels-idx1-ubyte.gz\n",
            "WARNING:tensorflow:From /tensorflow-1.15.2/python3.6/tensorflow_core/contrib/learn/python/learn/datasets/mnist.py:290: DataSet.__init__ (from tensorflow.contrib.learn.python.learn.datasets.mnist) is deprecated and will be removed in a future version.\n",
            "Instructions for updating:\n",
            "Please use alternatives such as official/mnist/dataset.py from tensorflow/models.\n"
          ],
          "name": "stdout"
        }
      ]
    },
    {
      "cell_type": "code",
      "metadata": {
        "id": "a8oSpB4ulgBh"
      },
      "source": [
        "i_nodes = mnist.train.images.shape[1]\r\n",
        "o_nodes = mnist.train.labels.shape[1]\r\n",
        "\r\n",
        "#hyper_parmeter\r\n",
        "learning_rate = 0.001\r\n",
        "epochs = 30\r\n",
        "batch_size = 100"
      ],
      "execution_count": 4,
      "outputs": []
    },
    {
      "cell_type": "code",
      "metadata": {
        "id": "nhDagA6nlsy9"
      },
      "source": [
        "X = tf.placeholder(tf.float32, [None,i_nodes])\r\n",
        "T = tf.placeholder(tf.float32, [None,o_nodes])\r\n",
        "\r\n",
        "#28X28X1\r\n",
        "A = tf.reshape(X, [-1,28,28,1])"
      ],
      "execution_count": 5,
      "outputs": []
    },
    {
      "cell_type": "code",
      "metadata": {
        "id": "PKJG7gVOl3qu"
      },
      "source": [
        "#3X3X32 Filter\r\n",
        "W2 = tf.Variable(tf.random_normal([3,3,1,32], stddev=0.01))\r\n",
        "b2 = tf.Variable(tf.random_normal([32]))\r\n",
        "\r\n",
        "#26X26X32\r\n",
        "C2 = tf.nn.conv2d(A, W2, strides=[1,1,1,1], padding='VALID')\r\n",
        "\r\n",
        "Z2 = tf.nn.relu(C2+b2)\r\n",
        "\r\n",
        "#13X13X32\r\n",
        "A2 = tf.nn.max_pool(Z2, ksize=[1,2,2,1], strides=[1,2,2,1], padding='SAME')"
      ],
      "execution_count": 6,
      "outputs": []
    },
    {
      "cell_type": "code",
      "metadata": {
        "id": "hrIwcU33mQB3"
      },
      "source": [
        "#3X3X64 Filter\r\n",
        "W3 = tf.Variable(tf.random_normal([3,3,32,64], stddev=0.01))\r\n",
        "b3 = tf.Variable(tf.random_normal([64]))\r\n",
        "\r\n",
        "#13X13X64\r\n",
        "C3 = tf.nn.conv2d(A2, W3, strides=[1,1,1,1], padding='SAME')\r\n",
        "\r\n",
        "Z3 = tf.nn.relu(C3+b3)\r\n",
        "\r\n",
        "#6X6X64\r\n",
        "A3 = tf.nn.max_pool(Z3, ksize=[1,2,2,1], strides=[1,2,2,1], padding='VALID')"
      ],
      "execution_count": 7,
      "outputs": []
    },
    {
      "cell_type": "code",
      "metadata": {
        "id": "-VJXUeSsnzZ5"
      },
      "source": [
        "#3X3X128 Filter\r\n",
        "W4 = tf.Variable(tf.random_normal([3,3,64,128], stddev=0.01))\r\n",
        "b4 = tf.Variable(tf.random_normal([128]))\r\n",
        "\r\n",
        "#6X6X128\r\n",
        "C4 = tf.nn.conv2d(A3,W4, strides=[1,1,1,1], padding='SAME')\r\n",
        "\r\n",
        "Z4 = tf.nn.relu(C4+b4)\r\n",
        "\r\n",
        "#3X3X128\r\n",
        "A4 = tf.nn.max_pool(Z4, ksize=[1,2,2,1], strides=[1,2,2,1], padding='SAME')"
      ],
      "execution_count": 8,
      "outputs": []
    },
    {
      "cell_type": "code",
      "metadata": {
        "id": "hYvU1vDLob15"
      },
      "source": [
        "A4_flat = tf.reshape(A4, [-1,3*3*128])\r\n",
        "\r\n",
        "W5 = tf.Variable(tf.random_normal([3*3*128, 10], stddev=0.01))\r\n",
        "b5 = tf.Variable(tf.random_normal([10]))\r\n",
        "\r\n",
        "Z5 = tf.matmul(A4_flat, W5) + b5\r\n",
        "\r\n",
        "y = tf.nn.softmax(Z5)"
      ],
      "execution_count": 9,
      "outputs": []
    },
    {
      "cell_type": "code",
      "metadata": {
        "id": "OHYZIQ0Roz2g"
      },
      "source": [
        "loss = tf.reduce_mean(tf.nn.softmax_cross_entropy_with_logits_v2(labels=T, logits=Z5))\r\n",
        "\r\n",
        "optimizer = tf.train.AdamOptimizer(learning_rate)\r\n",
        "\r\n",
        "train = optimizer.minimize(loss)"
      ],
      "execution_count": 10,
      "outputs": []
    },
    {
      "cell_type": "code",
      "metadata": {
        "id": "paAwy_dappYC"
      },
      "source": [
        "predicted_val = tf.argmax(y,1)\r\n",
        "\r\n",
        "accuracy_index = tf.cast(tf.equal(tf.argmax(y,1), tf.argmax(T,1)), dtype=tf.float32)\r\n",
        "\r\n",
        "accuracy_val = tf.reduce_mean(accuracy_index)"
      ],
      "execution_count": 11,
      "outputs": []
    },
    {
      "cell_type": "code",
      "metadata": {
        "colab": {
          "base_uri": "https://localhost:8080/"
        },
        "id": "jnKntLZjqGth",
        "outputId": "70dee93b-5f14-4f86-8fff-25642d6f67de"
      },
      "source": [
        "index_label_prediction_list = []\r\n",
        "\r\n",
        "with tf.Session() as sess:\r\n",
        "\r\n",
        "    sess.run(tf.global_variables_initializer())\r\n",
        "\r\n",
        "    start_time = datetime.now()\r\n",
        "\r\n",
        "    for i in range(epochs):\r\n",
        "\r\n",
        "        total_batch = int(mnist.train.num_examples / batch_size)\r\n",
        "\r\n",
        "        for step in range(total_batch):\r\n",
        "\r\n",
        "            batch_x_data, batch_t_data = mnist.train.next_batch(batch_size)\r\n",
        "\r\n",
        "            loss_val, _ = sess.run([loss, train], feed_dict={X: batch_x_data, T: batch_t_data})\r\n",
        "\r\n",
        "            if step%100 == 0:\r\n",
        "                print(\"epochs = \", i+1, \", step = \", step, \", loss value = \", loss_val)\r\n",
        "\r\n",
        "    end_time = datetime.now()\r\n",
        "    print(\"\\nElapsed time = \", end_time - start_time)\r\n",
        "\r\n",
        "    test_x_data = mnist.test.images\r\n",
        "    test_t_data = mnist.test.labels\r\n",
        "\r\n",
        "    accuracy, index_list, predicted_list = sess.run([accuracy_val, accuracy_index, predicted_val], feed_dict={X: test_x_data, T: test_t_data})\r\n",
        "\r\n",
        "    print(\"\\nAccuracy = \", accuracy)\r\n",
        "\r\n",
        "    temp_list = []\r\n",
        "\r\n",
        "    for i in range(len(index_list)):\r\n",
        "\r\n",
        "        if index_list[i] == 0:\r\n",
        "\r\n",
        "            temp_list.append(i)\r\n",
        "            temp_list.append(np.argmax(test_t_data[i]))\r\n",
        "            temp_list.append(predicted_list[i])\r\n",
        "\r\n",
        "            index_label_prediction_list.append(temp_list)\r\n",
        "\r\n",
        "            temp_list = [] "
      ],
      "execution_count": 12,
      "outputs": [
        {
          "output_type": "stream",
          "text": [
            "epochs =  1 , step =  0 , loss value =  2.93357\n",
            "epochs =  1 , step =  100 , loss value =  2.3199027\n",
            "epochs =  1 , step =  200 , loss value =  2.2836146\n",
            "epochs =  1 , step =  300 , loss value =  0.6848498\n",
            "epochs =  1 , step =  400 , loss value =  0.35129368\n",
            "epochs =  1 , step =  500 , loss value =  0.18000562\n",
            "epochs =  2 , step =  0 , loss value =  0.1563898\n",
            "epochs =  2 , step =  100 , loss value =  0.05965384\n",
            "epochs =  2 , step =  200 , loss value =  0.12385234\n",
            "epochs =  2 , step =  300 , loss value =  0.11747525\n",
            "epochs =  2 , step =  400 , loss value =  0.15360422\n",
            "epochs =  2 , step =  500 , loss value =  0.2317521\n",
            "epochs =  3 , step =  0 , loss value =  0.059710935\n",
            "epochs =  3 , step =  100 , loss value =  0.08948405\n",
            "epochs =  3 , step =  200 , loss value =  0.07856831\n",
            "epochs =  3 , step =  300 , loss value =  0.048186645\n",
            "epochs =  3 , step =  400 , loss value =  0.031612273\n",
            "epochs =  3 , step =  500 , loss value =  0.11851092\n",
            "epochs =  4 , step =  0 , loss value =  0.04409097\n",
            "epochs =  4 , step =  100 , loss value =  0.07490139\n",
            "epochs =  4 , step =  200 , loss value =  0.02721416\n",
            "epochs =  4 , step =  300 , loss value =  0.044186316\n",
            "epochs =  4 , step =  400 , loss value =  0.082106896\n",
            "epochs =  4 , step =  500 , loss value =  0.04217797\n",
            "epochs =  5 , step =  0 , loss value =  0.05566285\n",
            "epochs =  5 , step =  100 , loss value =  0.01789512\n",
            "epochs =  5 , step =  200 , loss value =  0.034518354\n",
            "epochs =  5 , step =  300 , loss value =  0.04507305\n",
            "epochs =  5 , step =  400 , loss value =  0.056627676\n",
            "epochs =  5 , step =  500 , loss value =  0.1619123\n",
            "epochs =  6 , step =  0 , loss value =  0.066608354\n",
            "epochs =  6 , step =  100 , loss value =  0.040776435\n",
            "epochs =  6 , step =  200 , loss value =  0.0389575\n",
            "epochs =  6 , step =  300 , loss value =  0.012763665\n",
            "epochs =  6 , step =  400 , loss value =  0.040358033\n",
            "epochs =  6 , step =  500 , loss value =  0.016688986\n",
            "epochs =  7 , step =  0 , loss value =  0.02742106\n",
            "epochs =  7 , step =  100 , loss value =  0.044912938\n",
            "epochs =  7 , step =  200 , loss value =  0.014078799\n",
            "epochs =  7 , step =  300 , loss value =  0.009833814\n",
            "epochs =  7 , step =  400 , loss value =  0.07790847\n",
            "epochs =  7 , step =  500 , loss value =  0.009914263\n",
            "epochs =  8 , step =  0 , loss value =  0.09829619\n",
            "epochs =  8 , step =  100 , loss value =  0.04832047\n",
            "epochs =  8 , step =  200 , loss value =  0.18189016\n",
            "epochs =  8 , step =  300 , loss value =  0.011395073\n",
            "epochs =  8 , step =  400 , loss value =  0.028624067\n",
            "epochs =  8 , step =  500 , loss value =  0.029476048\n",
            "epochs =  9 , step =  0 , loss value =  0.01774499\n",
            "epochs =  9 , step =  100 , loss value =  0.010965161\n",
            "epochs =  9 , step =  200 , loss value =  0.008337125\n",
            "epochs =  9 , step =  300 , loss value =  0.034730587\n",
            "epochs =  9 , step =  400 , loss value =  0.009402712\n",
            "epochs =  9 , step =  500 , loss value =  0.016910087\n",
            "epochs =  10 , step =  0 , loss value =  0.019183962\n",
            "epochs =  10 , step =  100 , loss value =  0.0012383261\n",
            "epochs =  10 , step =  200 , loss value =  0.016973801\n",
            "epochs =  10 , step =  300 , loss value =  0.003370513\n",
            "epochs =  10 , step =  400 , loss value =  0.054065112\n",
            "epochs =  10 , step =  500 , loss value =  0.027660312\n",
            "epochs =  11 , step =  0 , loss value =  0.08405471\n",
            "epochs =  11 , step =  100 , loss value =  0.026488056\n",
            "epochs =  11 , step =  200 , loss value =  0.037247792\n",
            "epochs =  11 , step =  300 , loss value =  0.045243353\n",
            "epochs =  11 , step =  400 , loss value =  0.061837863\n",
            "epochs =  11 , step =  500 , loss value =  0.0055141198\n",
            "epochs =  12 , step =  0 , loss value =  0.056832325\n",
            "epochs =  12 , step =  100 , loss value =  0.012450464\n",
            "epochs =  12 , step =  200 , loss value =  0.05809803\n",
            "epochs =  12 , step =  300 , loss value =  0.007245685\n",
            "epochs =  12 , step =  400 , loss value =  0.026079994\n",
            "epochs =  12 , step =  500 , loss value =  0.0062301904\n",
            "epochs =  13 , step =  0 , loss value =  0.011404643\n",
            "epochs =  13 , step =  100 , loss value =  0.032508414\n",
            "epochs =  13 , step =  200 , loss value =  0.064841755\n",
            "epochs =  13 , step =  300 , loss value =  0.04900731\n",
            "epochs =  13 , step =  400 , loss value =  0.008722803\n",
            "epochs =  13 , step =  500 , loss value =  0.00813345\n",
            "epochs =  14 , step =  0 , loss value =  0.00808261\n",
            "epochs =  14 , step =  100 , loss value =  0.034259476\n",
            "epochs =  14 , step =  200 , loss value =  0.012118375\n",
            "epochs =  14 , step =  300 , loss value =  0.059519388\n",
            "epochs =  14 , step =  400 , loss value =  0.023027105\n",
            "epochs =  14 , step =  500 , loss value =  0.06821778\n",
            "epochs =  15 , step =  0 , loss value =  0.010673303\n",
            "epochs =  15 , step =  100 , loss value =  0.026875114\n",
            "epochs =  15 , step =  200 , loss value =  0.013772149\n",
            "epochs =  15 , step =  300 , loss value =  0.044040367\n",
            "epochs =  15 , step =  400 , loss value =  0.043933257\n",
            "epochs =  15 , step =  500 , loss value =  0.034425333\n",
            "epochs =  16 , step =  0 , loss value =  0.003067266\n",
            "epochs =  16 , step =  100 , loss value =  0.007901778\n",
            "epochs =  16 , step =  200 , loss value =  0.0064771445\n",
            "epochs =  16 , step =  300 , loss value =  0.017799305\n",
            "epochs =  16 , step =  400 , loss value =  0.046591558\n",
            "epochs =  16 , step =  500 , loss value =  0.038969293\n",
            "epochs =  17 , step =  0 , loss value =  0.00754872\n",
            "epochs =  17 , step =  100 , loss value =  0.0040939464\n",
            "epochs =  17 , step =  200 , loss value =  0.057376504\n",
            "epochs =  17 , step =  300 , loss value =  0.008937643\n",
            "epochs =  17 , step =  400 , loss value =  0.004876821\n",
            "epochs =  17 , step =  500 , loss value =  0.0024604967\n",
            "epochs =  18 , step =  0 , loss value =  0.02122159\n",
            "epochs =  18 , step =  100 , loss value =  0.0066609215\n",
            "epochs =  18 , step =  200 , loss value =  0.04408825\n",
            "epochs =  18 , step =  300 , loss value =  0.00096422096\n",
            "epochs =  18 , step =  400 , loss value =  0.009200262\n",
            "epochs =  18 , step =  500 , loss value =  0.0069380724\n",
            "epochs =  19 , step =  0 , loss value =  0.026546495\n",
            "epochs =  19 , step =  100 , loss value =  0.001850615\n",
            "epochs =  19 , step =  200 , loss value =  0.00031156576\n",
            "epochs =  19 , step =  300 , loss value =  0.015616094\n",
            "epochs =  19 , step =  400 , loss value =  0.0007464969\n",
            "epochs =  19 , step =  500 , loss value =  0.01093726\n",
            "epochs =  20 , step =  0 , loss value =  0.0036958037\n",
            "epochs =  20 , step =  100 , loss value =  0.0033750685\n",
            "epochs =  20 , step =  200 , loss value =  0.002290438\n",
            "epochs =  20 , step =  300 , loss value =  0.0057862024\n",
            "epochs =  20 , step =  400 , loss value =  0.004070791\n",
            "epochs =  20 , step =  500 , loss value =  0.0024708163\n",
            "epochs =  21 , step =  0 , loss value =  0.010190155\n",
            "epochs =  21 , step =  100 , loss value =  0.00091720803\n",
            "epochs =  21 , step =  200 , loss value =  0.0011532145\n",
            "epochs =  21 , step =  300 , loss value =  0.0027105985\n",
            "epochs =  21 , step =  400 , loss value =  0.026353728\n",
            "epochs =  21 , step =  500 , loss value =  0.021701748\n",
            "epochs =  22 , step =  0 , loss value =  0.0112492135\n",
            "epochs =  22 , step =  100 , loss value =  0.0070502106\n",
            "epochs =  22 , step =  200 , loss value =  0.012261052\n",
            "epochs =  22 , step =  300 , loss value =  0.0018552169\n",
            "epochs =  22 , step =  400 , loss value =  0.0016398261\n",
            "epochs =  22 , step =  500 , loss value =  0.003488187\n",
            "epochs =  23 , step =  0 , loss value =  0.0012666374\n",
            "epochs =  23 , step =  100 , loss value =  0.015500145\n",
            "epochs =  23 , step =  200 , loss value =  0.0054865857\n",
            "epochs =  23 , step =  300 , loss value =  0.0009981277\n",
            "epochs =  23 , step =  400 , loss value =  0.026837967\n",
            "epochs =  23 , step =  500 , loss value =  0.0018673465\n",
            "epochs =  24 , step =  0 , loss value =  0.0003497245\n",
            "epochs =  24 , step =  100 , loss value =  0.0001297051\n",
            "epochs =  24 , step =  200 , loss value =  0.0027507348\n",
            "epochs =  24 , step =  300 , loss value =  0.020200757\n",
            "epochs =  24 , step =  400 , loss value =  0.0008280051\n",
            "epochs =  24 , step =  500 , loss value =  0.007944398\n",
            "epochs =  25 , step =  0 , loss value =  0.0062048007\n",
            "epochs =  25 , step =  100 , loss value =  0.04554493\n",
            "epochs =  25 , step =  200 , loss value =  0.0016134136\n",
            "epochs =  25 , step =  300 , loss value =  0.0012119887\n",
            "epochs =  25 , step =  400 , loss value =  9.842637e-05\n",
            "epochs =  25 , step =  500 , loss value =  0.0005498717\n",
            "epochs =  26 , step =  0 , loss value =  0.011875552\n",
            "epochs =  26 , step =  100 , loss value =  0.00021869475\n",
            "epochs =  26 , step =  200 , loss value =  0.020563817\n",
            "epochs =  26 , step =  300 , loss value =  8.3439554e-05\n",
            "epochs =  26 , step =  400 , loss value =  0.0031339154\n",
            "epochs =  26 , step =  500 , loss value =  0.00903291\n",
            "epochs =  27 , step =  0 , loss value =  0.0022681672\n",
            "epochs =  27 , step =  100 , loss value =  0.032580577\n",
            "epochs =  27 , step =  200 , loss value =  0.02568392\n",
            "epochs =  27 , step =  300 , loss value =  0.012067572\n",
            "epochs =  27 , step =  400 , loss value =  0.0016578456\n",
            "epochs =  27 , step =  500 , loss value =  8.529498e-05\n",
            "epochs =  28 , step =  0 , loss value =  0.0023995724\n",
            "epochs =  28 , step =  100 , loss value =  0.02987068\n",
            "epochs =  28 , step =  200 , loss value =  0.00801667\n",
            "epochs =  28 , step =  300 , loss value =  0.00026454107\n",
            "epochs =  28 , step =  400 , loss value =  0.008005382\n",
            "epochs =  28 , step =  500 , loss value =  0.0010373832\n",
            "epochs =  29 , step =  0 , loss value =  0.0026085991\n",
            "epochs =  29 , step =  100 , loss value =  9.102784e-05\n",
            "epochs =  29 , step =  200 , loss value =  0.006311599\n",
            "epochs =  29 , step =  300 , loss value =  0.011089726\n",
            "epochs =  29 , step =  400 , loss value =  0.0002382978\n",
            "epochs =  29 , step =  500 , loss value =  0.0023921556\n",
            "epochs =  30 , step =  0 , loss value =  0.0010809519\n",
            "epochs =  30 , step =  100 , loss value =  2.5096755e-05\n",
            "epochs =  30 , step =  200 , loss value =  0.00012542238\n",
            "epochs =  30 , step =  300 , loss value =  0.009797327\n",
            "epochs =  30 , step =  400 , loss value =  0.009066719\n",
            "epochs =  30 , step =  500 , loss value =  0.0010458546\n",
            "\n",
            "Elapsed time =  0:01:04.577057\n",
            "\n",
            "Accuracy =  0.9863\n"
          ],
          "name": "stdout"
        }
      ]
    },
    {
      "cell_type": "code",
      "metadata": {
        "colab": {
          "base_uri": "https://localhost:8080/"
        },
        "id": "mnkUCi8Kr1Va",
        "outputId": "bc54a1e3-9b01-485c-daa3-12f6e9d5fd21"
      },
      "source": [
        "print(index_label_prediction_list)"
      ],
      "execution_count": 13,
      "outputs": [
        {
          "output_type": "stream",
          "text": [
            "[[115, 4, 9], [175, 7, 1], [241, 9, 8], [247, 4, 6], [259, 6, 0], [321, 2, 7], [340, 5, 3], [445, 6, 0], [449, 3, 5], [495, 8, 0], [629, 2, 3], [646, 2, 4], [659, 2, 7], [674, 5, 3], [720, 5, 8], [786, 6, 5], [938, 3, 5], [947, 8, 9], [956, 1, 3], [965, 6, 0], [1014, 6, 5], [1039, 7, 3], [1226, 7, 2], [1232, 9, 4], [1242, 4, 9], [1247, 9, 5], [1260, 7, 1], [1319, 8, 3], [1326, 7, 2], [1440, 4, 9], [1527, 1, 3], [1549, 4, 6], [1553, 9, 5], [1554, 9, 7], [1678, 2, 0], [1709, 9, 5], [1737, 5, 1], [1790, 2, 7], [1878, 8, 3], [1901, 9, 4], [1911, 5, 6], [2018, 1, 7], [2024, 7, 9], [2035, 5, 3], [2070, 7, 9], [2118, 6, 0], [2129, 9, 8], [2130, 4, 9], [2135, 6, 1], [2189, 9, 1], [2266, 1, 3], [2293, 9, 4], [2314, 7, 4], [2369, 5, 3], [2387, 9, 4], [2406, 9, 8], [2414, 9, 4], [2454, 6, 5], [2462, 2, 0], [2488, 2, 4], [2597, 5, 3], [2654, 6, 1], [2720, 9, 4], [2770, 3, 5], [2896, 8, 0], [2939, 9, 5], [2953, 3, 5], [2995, 6, 5], [3060, 9, 4], [3289, 8, 9], [3384, 2, 0], [3422, 6, 0], [3503, 9, 4], [3520, 6, 4], [3558, 5, 0], [3749, 6, 0], [3767, 7, 2], [3780, 4, 6], [3796, 2, 8], [3801, 6, 0], [3808, 7, 8], [3850, 9, 4], [3853, 6, 0], [3859, 9, 4], [3941, 4, 6], [3985, 9, 4], [4007, 7, 4], [4078, 9, 8], [4163, 9, 7], [4176, 2, 7], [4180, 2, 8], [4201, 1, 7], [4205, 2, 0], [4238, 7, 3], [4248, 2, 8], [4256, 3, 0], [4350, 2, 8], [4405, 9, 4], [4439, 6, 4], [4507, 1, 3], [4536, 6, 5], [4571, 6, 8], [4639, 8, 9], [4740, 3, 5], [4814, 6, 0], [4823, 9, 4], [4838, 6, 5], [4860, 4, 9], [4997, 2, 8], [5457, 1, 8], [5745, 7, 1], [5877, 6, 0], [5937, 5, 3], [5955, 3, 8], [6091, 9, 5], [6168, 9, 3], [6555, 8, 9], [6574, 2, 6], [6576, 7, 1], [6651, 0, 8], [6847, 6, 4], [6926, 6, 4], [7149, 7, 4], [7259, 8, 2], [8059, 2, 1], [8094, 2, 1], [8316, 7, 2], [8325, 0, 4], [8408, 8, 5], [9009, 7, 2], [9015, 7, 2], [9613, 2, 1], [9642, 9, 7], [9679, 6, 3], [9692, 9, 7], [9729, 5, 6], [9888, 6, 0]]\n"
          ],
          "name": "stdout"
        }
      ]
    },
    {
      "cell_type": "code",
      "metadata": {
        "id": "f-d6gq4ysYHG"
      },
      "source": [
        ""
      ],
      "execution_count": null,
      "outputs": []
    }
  ]
}