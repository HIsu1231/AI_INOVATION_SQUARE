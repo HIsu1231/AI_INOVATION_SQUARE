{
 "cells": [
  {
   "cell_type": "code",
   "execution_count": 2,
   "metadata": {},
   "outputs": [],
   "source": [
    "import numpy as np\n",
    "np.random.seed(0)"
   ]
  },
  {
   "cell_type": "code",
   "execution_count": 16,
   "metadata": {},
   "outputs": [],
   "source": [
    "def numerical_derivative(f, x):\n",
    "    delta_x = 1e-4 # 0.0001\n",
    "    grad = np.zeros_like(x)\n",
    "    \n",
    "    it = np.nditer(x, flags=['multi_index'], op_flags=['readwrite'])\n",
    "    \n",
    "    while not it.finished:\n",
    "        idx = it.multi_index        \n",
    "        tmp_val = x[idx]\n",
    "        x[idx] = float(tmp_val) + delta_x\n",
    "        fx1 = f(x) # f(x+delta_x)\n",
    "        \n",
    "        x[idx] = tmp_val - delta_x \n",
    "        fx2 = f(x) # f(x-delta_x)\n",
    "        grad[idx] = (fx1 - fx2) / (2*delta_x)\n",
    "        \n",
    "        x[idx] = tmp_val \n",
    "        it.iternext()   \n",
    "        \n",
    "    return grad"
   ]
  },
  {
   "cell_type": "markdown",
   "metadata": {},
   "source": [
    "#1 - CrossEntropy ver"
   ]
  },
  {
   "cell_type": "code",
   "execution_count": 18,
   "metadata": {},
   "outputs": [],
   "source": [
    "def sigmoid(z):\n",
    "    return 1/(1+np.exp(-z))"
   ]
  },
  {
   "cell_type": "code",
   "execution_count": 19,
   "metadata": {},
   "outputs": [],
   "source": [
    "x_data = np.array([2,4,6,8,10,12,14,16,18,20]).reshape(10,1)\n",
    "y_data = np.array([0,0,0,0,0,0,1,1,1,1]).reshape(10,1)"
   ]
  },
  {
   "cell_type": "code",
   "execution_count": 20,
   "metadata": {},
   "outputs": [],
   "source": [
    "W = np.random.rand(len(x_data[1]),1)\n",
    "b = np.random.rand(1)"
   ]
  },
  {
   "cell_type": "code",
   "execution_count": 22,
   "metadata": {},
   "outputs": [],
   "source": [
    "def loss_func(x,t):\n",
    "    \n",
    "    delta = 1e-7\n",
    "    \n",
    "    z = np.dot(x,W) + b\n",
    "    y = sigmoid(z)\n",
    "    \n",
    "    return -np.sum(t*np.log(y+delta) + (1-t)*np.log((1-y)+delta))\n",
    "\n",
    "def predict(test_data):\n",
    "    \n",
    "    z = np.dot(x,W) + b\n",
    "    y = sigmoid(z)\n",
    "    \n",
    "    if y >= 0.5:\n",
    "        resutl = 1\n",
    "    else:\n",
    "        result = 0\n",
    "    return y, result"
   ]
  },
  {
   "cell_type": "code",
   "execution_count": 24,
   "metadata": {},
   "outputs": [
    {
     "name": "stdout",
     "output_type": "stream",
     "text": [
      "Step =  0 loss value =  0.6208351513741833\n",
      "Step =  5000 loss value =  0.5094039491497928\n",
      "Step =  10000 loss value =  0.4377220288489203\n",
      "Step =  15000 loss value =  0.386104063172359\n",
      "Step =  20000 loss value =  0.34649230752455\n",
      "Step =  25000 loss value =  0.314823306260067\n",
      "Step =  30000 loss value =  0.2887676482131417\n",
      "Step =  35000 loss value =  0.26686860991438055\n",
      "Step =  40000 loss value =  0.2481561582471117\n",
      "Step =  45000 loss value =  0.23195301173684912\n",
      "Step =  50000 loss value =  0.2177684993016715\n",
      "Step =  55000 loss value =  0.20523647814787066\n",
      "Step =  60000 loss value =  0.19407704070920037\n",
      "Step =  65000 loss value =  0.1840718474487254\n",
      "Step =  70000 loss value =  0.17504765341692974\n",
      "Step =  75000 loss value =  0.16686496704821127\n",
      "Step =  80000 loss value =  0.1594100368311264\n",
      "Step =  85000 loss value =  0.15258906100349756\n",
      "Step =  90000 loss value =  0.14632392104663824\n",
      "Step =  95000 loss value =  0.14054898354332568\n",
      "Step =  100000 loss value =  0.13520866615173036\n"
     ]
    }
   ],
   "source": [
    "learning_rate = 1e-2\n",
    "\n",
    "f = lambda x: loss_func(x_data, t_data)\n",
    "\n",
    "for step in range(100001):\n",
    "    \n",
    "    W -= learning_rate*numerical_derivative(f,W)\n",
    "    b -= learning_rate*numerical_derivative(f,b)\n",
    "    \n",
    "    if (step%5000 == 0 ):\n",
    "        print(\"Step = \",step, \"loss value = \",loss_func(x_data,t_data))"
   ]
  },
  {
   "cell_type": "markdown",
   "metadata": {},
   "source": [
    "#2 -MSE ver"
   ]
  },
  {
   "cell_type": "code",
   "execution_count": 25,
   "metadata": {},
   "outputs": [],
   "source": [
    "x_data = np.array([2,4,6,8,10,12,14,16,18,20]).reshape(10,1)\n",
    "t_data = np.array([0,0,0,0,0,0,1,1,1,1]).reshape(10,1)"
   ]
  },
  {
   "cell_type": "code",
   "execution_count": 27,
   "metadata": {},
   "outputs": [],
   "source": [
    "W = np.random.rand(len(x_data[1]),1)\n",
    "b = np.random.rand(1)"
   ]
  },
  {
   "cell_type": "code",
   "execution_count": 32,
   "metadata": {},
   "outputs": [],
   "source": [
    "def loss_func(x,t):\n",
    "    \n",
    "    delta = 1e-7\n",
    "    \n",
    "    z = np.dot(x,W) + b\n",
    "    y = sigmoid(z)\n",
    "    return np.sum((t-y)**2)/len(x)\n",
    "\n",
    "def predict(test_data):\n",
    "    z = np.dot(test_data,W) + b\n",
    "    y = sigmoid(z)\n",
    "    \n",
    "    if y >= 0.5:\n",
    "        result = 1\n",
    "    else:\n",
    "        result = 0\n",
    "    \n",
    "    return y, result"
   ]
  },
  {
   "cell_type": "code",
   "execution_count": 33,
   "metadata": {},
   "outputs": [
    {
     "name": "stdout",
     "output_type": "stream",
     "text": [
      "Step =  0 loss value =  0.011896815890221379\n",
      "Step =  500 loss value =  0.011842872929712232\n",
      "Step =  1000 loss value =  0.011832486025442474\n",
      "Step =  1500 loss value =  0.01182211686933382\n",
      "Step =  2000 loss value =  0.011811765412073686\n",
      "Step =  2500 loss value =  0.011801431604552477\n",
      "Step =  3000 loss value =  0.011791115397862512\n",
      "Step =  3500 loss value =  0.011780816743296845\n",
      "Step =  4000 loss value =  0.011770535592348188\n",
      "Step =  4500 loss value =  0.011760271896707777\n",
      "Step =  5000 loss value =  0.011750025608264271\n",
      "Step =  5500 loss value =  0.01173979667910284\n",
      "Step =  6000 loss value =  0.011729585061503612\n",
      "Step =  6500 loss value =  0.011719390707941235\n",
      "Step =  7000 loss value =  0.011709213571083227\n",
      "Step =  7500 loss value =  0.011699053603789273\n",
      "Step =  8000 loss value =  0.011688910759110018\n",
      "Step =  8500 loss value =  0.011678784990286071\n",
      "Step =  9000 loss value =  0.011668676250746985\n",
      "Step =  9500 loss value =  0.011658584494110195\n",
      "Step =  10000 loss value =  0.011648509674179887\n"
     ]
    }
   ],
   "source": [
    "learning_rate = 1e-2\n",
    "\n",
    "f = lambda x: loss_func(x_data, t_data)\n",
    "\n",
    "for i in range(10001):\n",
    "    \n",
    "    W -= learning_rate*numerical_derivative(f,W)\n",
    "    b -= learning_rate*numerical_derivative(f,b)\n",
    "    \n",
    "    if(i%500 == 0):\n",
    "        print(\"Step = \",i, \"loss value = \",loss_func(x_data,t_data))"
   ]
  },
  {
   "cell_type": "code",
   "execution_count": 34,
   "metadata": {},
   "outputs": [
    {
     "name": "stdout",
     "output_type": "stream",
     "text": [
      "[[0.51538365]] 1\n"
     ]
    }
   ],
   "source": [
    "y,result = predict(13.0) \n",
    "print(y,result)"
   ]
  },
  {
   "cell_type": "code",
   "execution_count": 36,
   "metadata": {},
   "outputs": [
    {
     "name": "stdout",
     "output_type": "stream",
     "text": [
      "[[0.09492203]] 0\n"
     ]
    }
   ],
   "source": [
    "y, result = predict(11.0)\n",
    "print(y,result)"
   ]
  },
  {
   "cell_type": "code",
   "execution_count": 37,
   "metadata": {},
   "outputs": [
    {
     "name": "stdout",
     "output_type": "stream",
     "text": [
      "[[1.]] 1\n"
     ]
    }
   ],
   "source": [
    "y,result = predict(31.0)\n",
    "print(y,result)"
   ]
  },
  {
   "cell_type": "markdown",
   "metadata": {},
   "source": [
    "#2"
   ]
  },
  {
   "cell_type": "code",
   "execution_count": 56,
   "metadata": {},
   "outputs": [],
   "source": [
    "x_data = np.array([[2,4],[4,11],[6,6],[8,5],[10,7],[12,16],[14,8],[16,3],[18,7]])\n",
    "y_data = np.array([0,0,0,0,1,1,1,1,1]).reshape(9,1)"
   ]
  },
  {
   "cell_type": "code",
   "execution_count": 57,
   "metadata": {},
   "outputs": [
    {
     "data": {
      "text/plain": [
       "(9, 2)"
      ]
     },
     "execution_count": 57,
     "metadata": {},
     "output_type": "execute_result"
    }
   ],
   "source": [
    "x_data.shape"
   ]
  },
  {
   "cell_type": "code",
   "execution_count": null,
   "metadata": {},
   "outputs": [],
   "source": []
  },
  {
   "cell_type": "code",
   "execution_count": null,
   "metadata": {},
   "outputs": [],
   "source": []
  },
  {
   "cell_type": "code",
   "execution_count": null,
   "metadata": {},
   "outputs": [],
   "source": []
  },
  {
   "cell_type": "code",
   "execution_count": null,
   "metadata": {},
   "outputs": [],
   "source": []
  },
  {
   "cell_type": "code",
   "execution_count": null,
   "metadata": {},
   "outputs": [],
   "source": []
  },
  {
   "cell_type": "markdown",
   "metadata": {},
   "source": [
    "#3"
   ]
  },
  {
   "cell_type": "code",
   "execution_count": 52,
   "metadata": {},
   "outputs": [],
   "source": [
    "class SimpleTest:\n",
    "    \n",
    "    def __init__(self,xdata,tdata,learning_rate,iteration_count,loss_func_type):\n",
    "        self.xdata = xdata\n",
    "        self.tdata = tdata\n",
    "        \n",
    "        self.W = np.random.rand(xdata.shape[-1],1)\n",
    "        self.b = np.random.rand(1)\n",
    "        \n",
    "        self.learning_rate = learning_rate\n",
    "        self.iteration_count = iteration_count\n",
    "        \n",
    "        self.loss_val_list = []\n",
    "        \n",
    "    def getW_b(self): \n",
    "        return self.W, self.b\n",
    "    \n",
    "    def sigmoid(self,z):\n",
    "        y = 1 / (1+np.exp(-z))\n",
    "        return y\n",
    "    \n",
    "    def loss_func(self):\n",
    "        delta = 1e-7\n",
    "        z = np.dot(self.xdata,self.W) + self.b\n",
    "        y = self.sigmoid(z)\n",
    "        return -np.sum(self.tdata*np.log(y+delta) + (1-self.tdata)*np.log((1-y)+delta))\n",
    "        \n",
    "    def predict(self,test_data):\n",
    "        z = np.dot(test_data,self.W) + self.b\n",
    "        y = self.sigmoid(z)\n",
    "        \n",
    "        if y >= 0.5:\n",
    "            result = 1\n",
    "        else:\n",
    "            result = 0\n",
    "        \n",
    "        return y, result\n",
    "    \n",
    "    def train(self):\n",
    "        f = lambda x: self.loss_func()\n",
    "        \n",
    "        for i in range(self.iteration_count):\n",
    "            \n",
    "            self.W -= self.learning_rate*numerical_derivative(f,self.W)\n",
    "            self.b -= self.learning_rate*numerical_derivative(f,self.b)\n",
    "            \n",
    "            if (i%(int)(self.iteration_count*0.05) == 0):\n",
    "                print(\"stpe = \",i, \"loss_value = \",self.loss_func())\n",
    "                self.loss_val_list.append(self.loss_func)\n",
    "    \n",
    "    def display_loss_val():\n",
    "        plt.plot(loss_val_list)\n",
    "        plt.show()    "
   ]
  },
  {
   "cell_type": "code",
   "execution_count": 53,
   "metadata": {},
   "outputs": [
    {
     "name": "stdout",
     "output_type": "stream",
     "text": [
      "stpe =  0 loss_value =  10.397857211122338\n",
      "stpe =  500 loss_value =  8.151030408635332\n",
      "stpe =  1000 loss_value =  7.984487323547295\n",
      "stpe =  1500 loss_value =  7.955366532861617\n",
      "stpe =  2000 loss_value =  7.9303700571673845\n",
      "stpe =  2500 loss_value =  7.905599809406093\n",
      "stpe =  3000 loss_value =  7.8809549421849905\n",
      "stpe =  3500 loss_value =  7.85643252851181\n",
      "stpe =  4000 loss_value =  7.832032097911068\n",
      "stpe =  4500 loss_value =  7.807753234742629\n",
      "stpe =  5000 loss_value =  7.783595520996059\n",
      "stpe =  5500 loss_value =  7.759558535483813\n",
      "stpe =  6000 loss_value =  7.735641853983871\n",
      "stpe =  6500 loss_value =  7.711845049329915\n",
      "stpe =  7000 loss_value =  7.688167691487946\n",
      "stpe =  7500 loss_value =  7.6646093476305515\n",
      "stpe =  8000 loss_value =  7.641169582210622\n",
      "stpe =  8500 loss_value =  7.617847957034893\n",
      "stpe =  9000 loss_value =  7.594644031337254\n",
      "stpe =  9500 loss_value =  7.571557361851881\n",
      "stpe =  10000 loss_value =  7.54858750288612\n"
     ]
    }
   ],
   "source": [
    "obj = SimpleTest(x_data,t_data,1e-5,10001,True)\n",
    "obj.train()"
   ]
  },
  {
   "cell_type": "code",
   "execution_count": null,
   "metadata": {},
   "outputs": [],
   "source": []
  }
 ],
 "metadata": {
  "kernelspec": {
   "display_name": "Python 3",
   "language": "python",
   "name": "python3"
  },
  "language_info": {
   "codemirror_mode": {
    "name": "ipython",
    "version": 3
   },
   "file_extension": ".py",
   "mimetype": "text/x-python",
   "name": "python",
   "nbconvert_exporter": "python",
   "pygments_lexer": "ipython3",
   "version": "3.6.9"
  }
 },
 "nbformat": 4,
 "nbformat_minor": 2
}
