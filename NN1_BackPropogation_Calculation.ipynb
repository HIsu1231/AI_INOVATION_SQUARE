{
  "nbformat": 4,
  "nbformat_minor": 0,
  "metadata": {
    "colab": {
      "name": "NN1_BackPropogation_Calculati.ipynb",
      "provenance": [],
      "toc_visible": true,
      "mount_file_id": "1kzfzOnhB1UaF8NmXE2CYnU5mNuQSDZpT",
      "authorship_tag": "ABX9TyMcEPllOC4vNwtywIVGx2u6",
      "include_colab_link": true
    },
    "kernelspec": {
      "name": "python3",
      "display_name": "Python 3"
    }
  },
  "cells": [
    {
      "cell_type": "markdown",
      "metadata": {
        "id": "view-in-github",
        "colab_type": "text"
      },
      "source": [
        "<a href=\"https://colab.research.google.com/github/HIsu1231/AI_INOVATION_SQUARE/blob/master/NN1_BackPropogation_Calculation.ipynb\" target=\"_parent\"><img src=\"https://colab.research.google.com/assets/colab-badge.svg\" alt=\"Open In Colab\"/></a>"
      ]
    },
    {
      "cell_type": "code",
      "metadata": {
        "id": "Du2jIs9IruvU"
      },
      "source": [
        "import numpy as np"
      ],
      "execution_count": 1,
      "outputs": []
    },
    {
      "cell_type": "code",
      "metadata": {
        "id": "wthmnehgtCss"
      },
      "source": [
        "#가상의 sigmoid 함수 정의\n",
        "\n",
        "sigmoid_dic = { 0:-3, 1:-2, 2:-1, 3:0, 4:1, 5:2, 6:3, 7:4}\n",
        "\n",
        "def sigmoid(z):\n",
        "\n",
        "    a1 = sigmoid_dic[int(z[0,0])]\n",
        "    a2 = sigmoid_dic[int(z[0,1])]\n",
        "\n",
        "    return np.array([a1,a2],ndmin=2)"
      ],
      "execution_count": 2,
      "outputs": []
    },
    {
      "cell_type": "code",
      "metadata": {
        "colab": {
          "base_uri": "https://localhost:8080/"
        },
        "id": "Eei8KAbStStP",
        "outputId": "6b8d7a94-8259-4788-a892-c03fd2d1cf8f"
      },
      "source": [
        "X = np.array([1,2],ndmin=2)  #ndmin: 최소차원 명시 \n",
        "T = np.array([2,1],ndmin=2)\n",
        "\n",
        "W2 = np.array([[1,1],[2,1]])\n",
        "W3 = np.array([[2,1],[1,1]])\n",
        "\n",
        "b2 = np.array([1,1], ndmin=2)\n",
        "b3 = np.array([0,2], ndmin=2)\n",
        "\n",
        "lr = 0.1\n",
        "\n",
        "print(\"X.shape = \",X.shape, \", T.shape = \",T.shape)\n",
        "print(\"W2.shape = \",W2.shape, \", W3.shape = \",W3.shape)\n",
        "print(\"b2.shape = \",b2.shape,\", b3.shape = \",b3.shape)"
      ],
      "execution_count": 3,
      "outputs": [
        {
          "output_type": "stream",
          "text": [
            "X.shape =  (1, 2) , T.shape =  (1, 2)\n",
            "W2.shape =  (2, 2) , W3.shape =  (2, 2)\n",
            "b2.shape =  (1, 2) , b3.shape =  (1, 2)\n"
          ],
          "name": "stdout"
        }
      ]
    },
    {
      "cell_type": "markdown",
      "metadata": {
        "id": "AzMMvHCnvmI6"
      },
      "source": [
        "### feed forward"
      ]
    },
    {
      "cell_type": "code",
      "metadata": {
        "colab": {
          "base_uri": "https://localhost:8080/"
        },
        "id": "5a9lfjS_tmLT",
        "outputId": "918cd206-49f8-4cd1-da63-a78fe11c35ff"
      },
      "source": [
        "a1 = X\n",
        "\n",
        "print(\"a1 = \",a1, \", a1.shape = \",a1.shape)\n",
        "z2 = np.dot(a1,W2) + b2\n",
        "\n",
        "print(\"z2 = \",z2, \", z2.shape = \",z2.shape)\n",
        "\n",
        "a2 = sigmoid(z2)\n",
        "\n",
        "print(\"a2 = \",a2,\", a2.shape = \",a2.shape)"
      ],
      "execution_count": 4,
      "outputs": [
        {
          "output_type": "stream",
          "text": [
            "a1 =  [[1 2]] , a1.shape =  (1, 2)\n",
            "z2 =  [[6 4]] , z2.shape =  (1, 2)\n",
            "a2 =  [[3 1]] , a2.shape =  (1, 2)\n"
          ],
          "name": "stdout"
        }
      ]
    },
    {
      "cell_type": "code",
      "metadata": {
        "colab": {
          "base_uri": "https://localhost:8080/"
        },
        "id": "vCAE-_Z3tvjZ",
        "outputId": "40875353-77bf-46e4-d987-1445dd886a50"
      },
      "source": [
        "z3 = np.dot(a2,W3) + b3\n",
        "\n",
        "print(\"z3 = \",z3, \", z3.shape = \",z3.shape)\n",
        "\n",
        "a3 = sigmoid(z3)\n",
        "\n",
        "print(\"a3 = \",a3, \", a3.shape = \", a3.shape)"
      ],
      "execution_count": 5,
      "outputs": [
        {
          "output_type": "stream",
          "text": [
            "z3 =  [[7 6]] , z3.shape =  (1, 2)\n",
            "a3 =  [[4 3]] , a3.shape =  (1, 2)\n"
          ],
          "name": "stdout"
        }
      ]
    },
    {
      "cell_type": "markdown",
      "metadata": {
        "id": "mXBiW78swZnH"
      },
      "source": [
        "###Back Propogation"
      ]
    },
    {
      "cell_type": "code",
      "metadata": {
        "colab": {
          "base_uri": "https://localhost:8080/"
        },
        "id": "J3z2Tin_wTSq",
        "outputId": "1cd963ec-dd43-471d-9010-06a930436d8d"
      },
      "source": [
        "loss_3 = (a3-T) * a3 * (1 - a3)\n",
        "\n",
        "print(\"loss_3 = \",loss_3, \", loss_3.shape = \",loss_3.shape)"
      ],
      "execution_count": 6,
      "outputs": [
        {
          "output_type": "stream",
          "text": [
            "loss_3 =  [[-24 -12]] , loss_3.shape =  (1, 2)\n"
          ],
          "name": "stdout"
        }
      ]
    },
    {
      "cell_type": "code",
      "metadata": {
        "colab": {
          "base_uri": "https://localhost:8080/"
        },
        "id": "niA6t7_jxMPM",
        "outputId": "e38dbfab-923d-4967-8ee4-a7022688edf6"
      },
      "source": [
        "W3 = W3 - lr * np.dot(a2.T,loss_3)\n",
        "b3 = b3 - lr * (a3-T) * a3 * (1 - a3)\n",
        "\n",
        "print(\"W3 = \",W3, \", W3.shape = \",W3.shape)\n",
        "print(\"b3 = \",b3, \", b3.shape = \",b3.shape)"
      ],
      "execution_count": 7,
      "outputs": [
        {
          "output_type": "stream",
          "text": [
            "W3 =  [[9.2 4.6]\n",
            " [3.4 2.2]] , W3.shape =  (2, 2)\n",
            "b3 =  [[2.4 3.2]] , b3.shape =  (1, 2)\n"
          ],
          "name": "stdout"
        }
      ]
    },
    {
      "cell_type": "code",
      "metadata": {
        "colab": {
          "base_uri": "https://localhost:8080/"
        },
        "id": "4-jG4vVlyTFW",
        "outputId": "8c2278cc-0b59-4f5e-d170-ee94e3c3ec8f"
      },
      "source": [
        "loss_2 = np.dot(loss_3, W3.T) * a2 * (1-a2)\n",
        "\n",
        "print(\"loss_2 = \",loss_2,\", loss_2.shape = \",loss_2.shape)"
      ],
      "execution_count": 8,
      "outputs": [
        {
          "output_type": "stream",
          "text": [
            "loss_2 =  [[1656.   -0.]] , loss_2.shape =  (1, 2)\n"
          ],
          "name": "stdout"
        }
      ]
    },
    {
      "cell_type": "code",
      "metadata": {
        "colab": {
          "base_uri": "https://localhost:8080/"
        },
        "id": "DuyKeNEd5vIU",
        "outputId": "5eb760e4-fd67-42fe-8e8a-0a6f090fbd1f"
      },
      "source": [
        "W2 = W2 - lr * (np.dot(a1.T, loss_2))\n",
        "b2 = b2 - lr * loss_2\n",
        "\n",
        "print(\"W2 = \",W2, \", W2.shape = \",W2.shape)\n",
        "print(\"b2 = \",b2, \", b2.shape = \",b2.shape)"
      ],
      "execution_count": 9,
      "outputs": [
        {
          "output_type": "stream",
          "text": [
            "W2 =  [[-164.6    1. ]\n",
            " [-329.2    1. ]] , W2.shape =  (2, 2)\n",
            "b2 =  [[-164.6    1. ]] , b2.shape =  (1, 2)\n"
          ],
          "name": "stdout"
        }
      ]
    },
    {
      "cell_type": "code",
      "metadata": {
        "id": "wtGnuerc6Fzr"
      },
      "source": [
        ""
      ],
      "execution_count": 9,
      "outputs": []
    }
  ]
}