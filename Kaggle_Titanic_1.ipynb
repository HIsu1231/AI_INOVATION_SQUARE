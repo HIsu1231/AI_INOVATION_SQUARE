{
  "nbformat": 4,
  "nbformat_minor": 0,
  "metadata": {
    "colab": {
      "name": "Kaggle_Titanic_1.ipynb",
      "provenance": [],
      "collapsed_sections": [],
      "mount_file_id": "1Dlhl_D2Ne-xpmPN_irRP2XsHRYTVhU2y",
      "authorship_tag": "ABX9TyNXRBsok3X+o99ka1LFH/yX",
      "include_colab_link": true
    },
    "kernelspec": {
      "name": "python3",
      "display_name": "Python 3"
    }
  },
  "cells": [
    {
      "cell_type": "markdown",
      "metadata": {
        "id": "view-in-github",
        "colab_type": "text"
      },
      "source": [
        "<a href=\"https://colab.research.google.com/github/HIsu1231/AI_INOVATION_SQUARE/blob/master/Kaggle_Titanic_1.ipynb\" target=\"_parent\"><img src=\"https://colab.research.google.com/assets/colab-badge.svg\" alt=\"Open In Colab\"/></a>"
      ]
    },
    {
      "cell_type": "code",
      "metadata": {
        "id": "-eoPGfm-R0HT"
      },
      "source": [
        "import pandas as pd\r\n",
        "import numpy as np\r\n",
        "import matplotlib.pyplot as plt\r\n",
        "from datetime import datetime"
      ],
      "execution_count": 1,
      "outputs": []
    },
    {
      "cell_type": "code",
      "metadata": {
        "id": "lNBtPEelR5KL"
      },
      "source": [
        "train_df = pd.read_csv('./drive/MyDrive/AI_INOVATION_SQUARE/data/titanic_data/train.csv')\r\n",
        "test_df = pd.read_csv('./drive/MyDrive/AI_INOVATION_SQUARE/data/titanic_data/test.csv')\r\n",
        "test_sub_df = pd.read_csv('./drive/MyDrive/AI_INOVATION_SQUARE/data/titanic_data/gender_submission.csv')"
      ],
      "execution_count": 2,
      "outputs": []
    },
    {
      "cell_type": "markdown",
      "metadata": {
        "id": "1VwxbyihTN_R"
      },
      "source": [
        "###Data Frame 확인"
      ]
    },
    {
      "cell_type": "code",
      "metadata": {
        "colab": {
          "base_uri": "https://localhost:8080/",
          "height": 484
        },
        "id": "pTZtgpySSUCP",
        "outputId": "ee8b18a4-c458-4c79-d253-08551252cea3"
      },
      "source": [
        "train_df.head()"
      ],
      "execution_count": 3,
      "outputs": [
        {
          "output_type": "execute_result",
          "data": {
            "text/html": [
              "<div>\n",
              "<style scoped>\n",
              "    .dataframe tbody tr th:only-of-type {\n",
              "        vertical-align: middle;\n",
              "    }\n",
              "\n",
              "    .dataframe tbody tr th {\n",
              "        vertical-align: top;\n",
              "    }\n",
              "\n",
              "    .dataframe thead th {\n",
              "        text-align: right;\n",
              "    }\n",
              "</style>\n",
              "<table border=\"1\" class=\"dataframe\">\n",
              "  <thead>\n",
              "    <tr style=\"text-align: right;\">\n",
              "      <th></th>\n",
              "      <th>PassengerId</th>\n",
              "      <th>Survived</th>\n",
              "      <th>Pclass</th>\n",
              "      <th>Name</th>\n",
              "      <th>Sex</th>\n",
              "      <th>Age</th>\n",
              "      <th>SibSp</th>\n",
              "      <th>Parch</th>\n",
              "      <th>Ticket</th>\n",
              "      <th>Fare</th>\n",
              "      <th>Cabin</th>\n",
              "      <th>Embarked</th>\n",
              "    </tr>\n",
              "  </thead>\n",
              "  <tbody>\n",
              "    <tr>\n",
              "      <th>0</th>\n",
              "      <td>1</td>\n",
              "      <td>0</td>\n",
              "      <td>3</td>\n",
              "      <td>Braund, Mr. Owen Harris</td>\n",
              "      <td>male</td>\n",
              "      <td>22.0</td>\n",
              "      <td>1</td>\n",
              "      <td>0</td>\n",
              "      <td>A/5 21171</td>\n",
              "      <td>7.2500</td>\n",
              "      <td>NaN</td>\n",
              "      <td>S</td>\n",
              "    </tr>\n",
              "    <tr>\n",
              "      <th>1</th>\n",
              "      <td>2</td>\n",
              "      <td>1</td>\n",
              "      <td>1</td>\n",
              "      <td>Cumings, Mrs. John Bradley (Florence Briggs Th...</td>\n",
              "      <td>female</td>\n",
              "      <td>38.0</td>\n",
              "      <td>1</td>\n",
              "      <td>0</td>\n",
              "      <td>PC 17599</td>\n",
              "      <td>71.2833</td>\n",
              "      <td>C85</td>\n",
              "      <td>C</td>\n",
              "    </tr>\n",
              "    <tr>\n",
              "      <th>2</th>\n",
              "      <td>3</td>\n",
              "      <td>1</td>\n",
              "      <td>3</td>\n",
              "      <td>Heikkinen, Miss. Laina</td>\n",
              "      <td>female</td>\n",
              "      <td>26.0</td>\n",
              "      <td>0</td>\n",
              "      <td>0</td>\n",
              "      <td>STON/O2. 3101282</td>\n",
              "      <td>7.9250</td>\n",
              "      <td>NaN</td>\n",
              "      <td>S</td>\n",
              "    </tr>\n",
              "    <tr>\n",
              "      <th>3</th>\n",
              "      <td>4</td>\n",
              "      <td>1</td>\n",
              "      <td>1</td>\n",
              "      <td>Futrelle, Mrs. Jacques Heath (Lily May Peel)</td>\n",
              "      <td>female</td>\n",
              "      <td>35.0</td>\n",
              "      <td>1</td>\n",
              "      <td>0</td>\n",
              "      <td>113803</td>\n",
              "      <td>53.1000</td>\n",
              "      <td>C123</td>\n",
              "      <td>S</td>\n",
              "    </tr>\n",
              "    <tr>\n",
              "      <th>4</th>\n",
              "      <td>5</td>\n",
              "      <td>0</td>\n",
              "      <td>3</td>\n",
              "      <td>Allen, Mr. William Henry</td>\n",
              "      <td>male</td>\n",
              "      <td>35.0</td>\n",
              "      <td>0</td>\n",
              "      <td>0</td>\n",
              "      <td>373450</td>\n",
              "      <td>8.0500</td>\n",
              "      <td>NaN</td>\n",
              "      <td>S</td>\n",
              "    </tr>\n",
              "  </tbody>\n",
              "</table>\n",
              "</div>"
            ],
            "text/plain": [
              "   PassengerId  Survived  Pclass  ...     Fare Cabin  Embarked\n",
              "0            1         0       3  ...   7.2500   NaN         S\n",
              "1            2         1       1  ...  71.2833   C85         C\n",
              "2            3         1       3  ...   7.9250   NaN         S\n",
              "3            4         1       1  ...  53.1000  C123         S\n",
              "4            5         0       3  ...   8.0500   NaN         S\n",
              "\n",
              "[5 rows x 12 columns]"
            ]
          },
          "metadata": {
            "tags": []
          },
          "execution_count": 3
        }
      ]
    },
    {
      "cell_type": "code",
      "metadata": {
        "colab": {
          "base_uri": "https://localhost:8080/",
          "height": 434
        },
        "id": "chAzO1bRSj91",
        "outputId": "51b1ee5a-913b-4557-f64a-9bae26cb1b57"
      },
      "source": [
        "test_df.head()"
      ],
      "execution_count": 4,
      "outputs": [
        {
          "output_type": "execute_result",
          "data": {
            "text/html": [
              "<div>\n",
              "<style scoped>\n",
              "    .dataframe tbody tr th:only-of-type {\n",
              "        vertical-align: middle;\n",
              "    }\n",
              "\n",
              "    .dataframe tbody tr th {\n",
              "        vertical-align: top;\n",
              "    }\n",
              "\n",
              "    .dataframe thead th {\n",
              "        text-align: right;\n",
              "    }\n",
              "</style>\n",
              "<table border=\"1\" class=\"dataframe\">\n",
              "  <thead>\n",
              "    <tr style=\"text-align: right;\">\n",
              "      <th></th>\n",
              "      <th>PassengerId</th>\n",
              "      <th>Pclass</th>\n",
              "      <th>Name</th>\n",
              "      <th>Sex</th>\n",
              "      <th>Age</th>\n",
              "      <th>SibSp</th>\n",
              "      <th>Parch</th>\n",
              "      <th>Ticket</th>\n",
              "      <th>Fare</th>\n",
              "      <th>Cabin</th>\n",
              "      <th>Embarked</th>\n",
              "    </tr>\n",
              "  </thead>\n",
              "  <tbody>\n",
              "    <tr>\n",
              "      <th>0</th>\n",
              "      <td>892</td>\n",
              "      <td>3</td>\n",
              "      <td>Kelly, Mr. James</td>\n",
              "      <td>male</td>\n",
              "      <td>34.5</td>\n",
              "      <td>0</td>\n",
              "      <td>0</td>\n",
              "      <td>330911</td>\n",
              "      <td>7.8292</td>\n",
              "      <td>NaN</td>\n",
              "      <td>Q</td>\n",
              "    </tr>\n",
              "    <tr>\n",
              "      <th>1</th>\n",
              "      <td>893</td>\n",
              "      <td>3</td>\n",
              "      <td>Wilkes, Mrs. James (Ellen Needs)</td>\n",
              "      <td>female</td>\n",
              "      <td>47.0</td>\n",
              "      <td>1</td>\n",
              "      <td>0</td>\n",
              "      <td>363272</td>\n",
              "      <td>7.0000</td>\n",
              "      <td>NaN</td>\n",
              "      <td>S</td>\n",
              "    </tr>\n",
              "    <tr>\n",
              "      <th>2</th>\n",
              "      <td>894</td>\n",
              "      <td>2</td>\n",
              "      <td>Myles, Mr. Thomas Francis</td>\n",
              "      <td>male</td>\n",
              "      <td>62.0</td>\n",
              "      <td>0</td>\n",
              "      <td>0</td>\n",
              "      <td>240276</td>\n",
              "      <td>9.6875</td>\n",
              "      <td>NaN</td>\n",
              "      <td>Q</td>\n",
              "    </tr>\n",
              "    <tr>\n",
              "      <th>3</th>\n",
              "      <td>895</td>\n",
              "      <td>3</td>\n",
              "      <td>Wirz, Mr. Albert</td>\n",
              "      <td>male</td>\n",
              "      <td>27.0</td>\n",
              "      <td>0</td>\n",
              "      <td>0</td>\n",
              "      <td>315154</td>\n",
              "      <td>8.6625</td>\n",
              "      <td>NaN</td>\n",
              "      <td>S</td>\n",
              "    </tr>\n",
              "    <tr>\n",
              "      <th>4</th>\n",
              "      <td>896</td>\n",
              "      <td>3</td>\n",
              "      <td>Hirvonen, Mrs. Alexander (Helga E Lindqvist)</td>\n",
              "      <td>female</td>\n",
              "      <td>22.0</td>\n",
              "      <td>1</td>\n",
              "      <td>1</td>\n",
              "      <td>3101298</td>\n",
              "      <td>12.2875</td>\n",
              "      <td>NaN</td>\n",
              "      <td>S</td>\n",
              "    </tr>\n",
              "  </tbody>\n",
              "</table>\n",
              "</div>"
            ],
            "text/plain": [
              "   PassengerId  Pclass  ... Cabin Embarked\n",
              "0          892       3  ...   NaN        Q\n",
              "1          893       3  ...   NaN        S\n",
              "2          894       2  ...   NaN        Q\n",
              "3          895       3  ...   NaN        S\n",
              "4          896       3  ...   NaN        S\n",
              "\n",
              "[5 rows x 11 columns]"
            ]
          },
          "metadata": {
            "tags": []
          },
          "execution_count": 4
        }
      ]
    },
    {
      "cell_type": "code",
      "metadata": {
        "colab": {
          "base_uri": "https://localhost:8080/",
          "height": 196
        },
        "id": "WpCatY4TSlnh",
        "outputId": "afcec460-7283-4413-d1d7-d2e9eb53a6c1"
      },
      "source": [
        "test_sub_df.head()"
      ],
      "execution_count": 5,
      "outputs": [
        {
          "output_type": "execute_result",
          "data": {
            "text/html": [
              "<div>\n",
              "<style scoped>\n",
              "    .dataframe tbody tr th:only-of-type {\n",
              "        vertical-align: middle;\n",
              "    }\n",
              "\n",
              "    .dataframe tbody tr th {\n",
              "        vertical-align: top;\n",
              "    }\n",
              "\n",
              "    .dataframe thead th {\n",
              "        text-align: right;\n",
              "    }\n",
              "</style>\n",
              "<table border=\"1\" class=\"dataframe\">\n",
              "  <thead>\n",
              "    <tr style=\"text-align: right;\">\n",
              "      <th></th>\n",
              "      <th>PassengerId</th>\n",
              "      <th>Survived</th>\n",
              "    </tr>\n",
              "  </thead>\n",
              "  <tbody>\n",
              "    <tr>\n",
              "      <th>0</th>\n",
              "      <td>892</td>\n",
              "      <td>0</td>\n",
              "    </tr>\n",
              "    <tr>\n",
              "      <th>1</th>\n",
              "      <td>893</td>\n",
              "      <td>1</td>\n",
              "    </tr>\n",
              "    <tr>\n",
              "      <th>2</th>\n",
              "      <td>894</td>\n",
              "      <td>0</td>\n",
              "    </tr>\n",
              "    <tr>\n",
              "      <th>3</th>\n",
              "      <td>895</td>\n",
              "      <td>0</td>\n",
              "    </tr>\n",
              "    <tr>\n",
              "      <th>4</th>\n",
              "      <td>896</td>\n",
              "      <td>1</td>\n",
              "    </tr>\n",
              "  </tbody>\n",
              "</table>\n",
              "</div>"
            ],
            "text/plain": [
              "   PassengerId  Survived\n",
              "0          892         0\n",
              "1          893         1\n",
              "2          894         0\n",
              "3          895         0\n",
              "4          896         1"
            ]
          },
          "metadata": {
            "tags": []
          },
          "execution_count": 5
        }
      ]
    },
    {
      "cell_type": "markdown",
      "metadata": {
        "id": "NxeM9xQLTLkp"
      },
      "source": [
        "###test_df에 정답 데이터 추가"
      ]
    },
    {
      "cell_type": "code",
      "metadata": {
        "colab": {
          "base_uri": "https://localhost:8080/",
          "height": 434
        },
        "id": "JoEx_EdHSnIY",
        "outputId": "b0303982-423a-45b9-ca3d-ffb43ad21ade"
      },
      "source": [
        "test_df['Survived'] = test_sub_df['Survived']\r\n",
        "\r\n",
        "test_df = test_df[['PassengerId', 'Survived', 'Pclass', 'Name','Sex', 'Age','SibSp','Parch','Ticket','Fare','Embarked']]\r\n",
        "\r\n",
        "test_df.head()"
      ],
      "execution_count": 6,
      "outputs": [
        {
          "output_type": "execute_result",
          "data": {
            "text/html": [
              "<div>\n",
              "<style scoped>\n",
              "    .dataframe tbody tr th:only-of-type {\n",
              "        vertical-align: middle;\n",
              "    }\n",
              "\n",
              "    .dataframe tbody tr th {\n",
              "        vertical-align: top;\n",
              "    }\n",
              "\n",
              "    .dataframe thead th {\n",
              "        text-align: right;\n",
              "    }\n",
              "</style>\n",
              "<table border=\"1\" class=\"dataframe\">\n",
              "  <thead>\n",
              "    <tr style=\"text-align: right;\">\n",
              "      <th></th>\n",
              "      <th>PassengerId</th>\n",
              "      <th>Survived</th>\n",
              "      <th>Pclass</th>\n",
              "      <th>Name</th>\n",
              "      <th>Sex</th>\n",
              "      <th>Age</th>\n",
              "      <th>SibSp</th>\n",
              "      <th>Parch</th>\n",
              "      <th>Ticket</th>\n",
              "      <th>Fare</th>\n",
              "      <th>Embarked</th>\n",
              "    </tr>\n",
              "  </thead>\n",
              "  <tbody>\n",
              "    <tr>\n",
              "      <th>0</th>\n",
              "      <td>892</td>\n",
              "      <td>0</td>\n",
              "      <td>3</td>\n",
              "      <td>Kelly, Mr. James</td>\n",
              "      <td>male</td>\n",
              "      <td>34.5</td>\n",
              "      <td>0</td>\n",
              "      <td>0</td>\n",
              "      <td>330911</td>\n",
              "      <td>7.8292</td>\n",
              "      <td>Q</td>\n",
              "    </tr>\n",
              "    <tr>\n",
              "      <th>1</th>\n",
              "      <td>893</td>\n",
              "      <td>1</td>\n",
              "      <td>3</td>\n",
              "      <td>Wilkes, Mrs. James (Ellen Needs)</td>\n",
              "      <td>female</td>\n",
              "      <td>47.0</td>\n",
              "      <td>1</td>\n",
              "      <td>0</td>\n",
              "      <td>363272</td>\n",
              "      <td>7.0000</td>\n",
              "      <td>S</td>\n",
              "    </tr>\n",
              "    <tr>\n",
              "      <th>2</th>\n",
              "      <td>894</td>\n",
              "      <td>0</td>\n",
              "      <td>2</td>\n",
              "      <td>Myles, Mr. Thomas Francis</td>\n",
              "      <td>male</td>\n",
              "      <td>62.0</td>\n",
              "      <td>0</td>\n",
              "      <td>0</td>\n",
              "      <td>240276</td>\n",
              "      <td>9.6875</td>\n",
              "      <td>Q</td>\n",
              "    </tr>\n",
              "    <tr>\n",
              "      <th>3</th>\n",
              "      <td>895</td>\n",
              "      <td>0</td>\n",
              "      <td>3</td>\n",
              "      <td>Wirz, Mr. Albert</td>\n",
              "      <td>male</td>\n",
              "      <td>27.0</td>\n",
              "      <td>0</td>\n",
              "      <td>0</td>\n",
              "      <td>315154</td>\n",
              "      <td>8.6625</td>\n",
              "      <td>S</td>\n",
              "    </tr>\n",
              "    <tr>\n",
              "      <th>4</th>\n",
              "      <td>896</td>\n",
              "      <td>1</td>\n",
              "      <td>3</td>\n",
              "      <td>Hirvonen, Mrs. Alexander (Helga E Lindqvist)</td>\n",
              "      <td>female</td>\n",
              "      <td>22.0</td>\n",
              "      <td>1</td>\n",
              "      <td>1</td>\n",
              "      <td>3101298</td>\n",
              "      <td>12.2875</td>\n",
              "      <td>S</td>\n",
              "    </tr>\n",
              "  </tbody>\n",
              "</table>\n",
              "</div>"
            ],
            "text/plain": [
              "   PassengerId  Survived  Pclass  ...   Ticket     Fare  Embarked\n",
              "0          892         0       3  ...   330911   7.8292         Q\n",
              "1          893         1       3  ...   363272   7.0000         S\n",
              "2          894         0       2  ...   240276   9.6875         Q\n",
              "3          895         0       3  ...   315154   8.6625         S\n",
              "4          896         1       3  ...  3101298  12.2875         S\n",
              "\n",
              "[5 rows x 11 columns]"
            ]
          },
          "metadata": {
            "tags": []
          },
          "execution_count": 6
        }
      ]
    },
    {
      "cell_type": "markdown",
      "metadata": {
        "id": "HkrmJvJ2TWNi"
      },
      "source": [
        "###train 데이터의 missing data 처리"
      ]
    },
    {
      "cell_type": "code",
      "metadata": {
        "colab": {
          "base_uri": "https://localhost:8080/"
        },
        "id": "MIlPMJFfS-T5",
        "outputId": "aa4c8158-0d5c-4f04-c9c0-6af8dd185daa"
      },
      "source": [
        "train_df.isnull().sum()"
      ],
      "execution_count": 7,
      "outputs": [
        {
          "output_type": "execute_result",
          "data": {
            "text/plain": [
              "PassengerId      0\n",
              "Survived         0\n",
              "Pclass           0\n",
              "Name             0\n",
              "Sex              0\n",
              "Age            177\n",
              "SibSp            0\n",
              "Parch            0\n",
              "Ticket           0\n",
              "Fare             0\n",
              "Cabin          687\n",
              "Embarked         2\n",
              "dtype: int64"
            ]
          },
          "metadata": {
            "tags": []
          },
          "execution_count": 7
        }
      ]
    },
    {
      "cell_type": "code",
      "metadata": {
        "colab": {
          "base_uri": "https://localhost:8080/"
        },
        "id": "JUC8VFsxTlea",
        "outputId": "37fef77e-861a-46e7-c7b1-15831185eb40"
      },
      "source": [
        "train_df['Embarked'].value_counts()"
      ],
      "execution_count": 8,
      "outputs": [
        {
          "output_type": "execute_result",
          "data": {
            "text/plain": [
              "S    644\n",
              "C    168\n",
              "Q     77\n",
              "Name: Embarked, dtype: int64"
            ]
          },
          "metadata": {
            "tags": []
          },
          "execution_count": 8
        }
      ]
    },
    {
      "cell_type": "code",
      "metadata": {
        "colab": {
          "base_uri": "https://localhost:8080/"
        },
        "id": "n_hIkVOHTavz",
        "outputId": "eeb3fa9a-db48-4eac-a80f-0703b343a1e3"
      },
      "source": [
        "train_df['Age'].fillna(train_df['Age'].median(), inplace=True)\r\n",
        "train_df['Embarked'].fillna('S', inplace=True)\r\n",
        "\r\n",
        "train_df.isnull().sum()"
      ],
      "execution_count": 9,
      "outputs": [
        {
          "output_type": "execute_result",
          "data": {
            "text/plain": [
              "PassengerId      0\n",
              "Survived         0\n",
              "Pclass           0\n",
              "Name             0\n",
              "Sex              0\n",
              "Age              0\n",
              "SibSp            0\n",
              "Parch            0\n",
              "Ticket           0\n",
              "Fare             0\n",
              "Cabin          687\n",
              "Embarked         0\n",
              "dtype: int64"
            ]
          },
          "metadata": {
            "tags": []
          },
          "execution_count": 9
        }
      ]
    },
    {
      "cell_type": "markdown",
      "metadata": {
        "id": "oPO_CJDVTyNz"
      },
      "source": [
        "###test 데이터의 missing data 처리"
      ]
    },
    {
      "cell_type": "code",
      "metadata": {
        "colab": {
          "base_uri": "https://localhost:8080/"
        },
        "id": "r-7NpGapTvhn",
        "outputId": "ceb60dc5-87a2-472c-9940-9abb1dee1132"
      },
      "source": [
        "test_df.isnull().sum()"
      ],
      "execution_count": 10,
      "outputs": [
        {
          "output_type": "execute_result",
          "data": {
            "text/plain": [
              "PassengerId     0\n",
              "Survived        0\n",
              "Pclass          0\n",
              "Name            0\n",
              "Sex             0\n",
              "Age            86\n",
              "SibSp           0\n",
              "Parch           0\n",
              "Ticket          0\n",
              "Fare            1\n",
              "Embarked        0\n",
              "dtype: int64"
            ]
          },
          "metadata": {
            "tags": []
          },
          "execution_count": 10
        }
      ]
    },
    {
      "cell_type": "code",
      "metadata": {
        "colab": {
          "base_uri": "https://localhost:8080/"
        },
        "id": "S-AoUPp1T2kK",
        "outputId": "afe9e950-c955-41bb-8266-32b9442ba69c"
      },
      "source": [
        "test_df['Age'].fillna(test_df['Age'].median(), inplace=True)\r\n",
        "test_df['Fare'].fillna(test_df['Fare'].mean(), inplace=True)\r\n",
        "\r\n",
        "test_df.isnull().sum()"
      ],
      "execution_count": 11,
      "outputs": [
        {
          "output_type": "execute_result",
          "data": {
            "text/plain": [
              "PassengerId    0\n",
              "Survived       0\n",
              "Pclass         0\n",
              "Name           0\n",
              "Sex            0\n",
              "Age            0\n",
              "SibSp          0\n",
              "Parch          0\n",
              "Ticket         0\n",
              "Fare           0\n",
              "Embarked       0\n",
              "dtype: int64"
            ]
          },
          "metadata": {
            "tags": []
          },
          "execution_count": 11
        }
      ]
    },
    {
      "cell_type": "markdown",
      "metadata": {
        "id": "ZMxIa7GmUcmH"
      },
      "source": [
        "###딥러닝 학습을 위한 matrix 생성"
      ]
    },
    {
      "cell_type": "code",
      "metadata": {
        "colab": {
          "base_uri": "https://localhost:8080/"
        },
        "id": "_mKo7q5fUC7F",
        "outputId": "0f3abb5a-3555-454b-ecc4-1fa2ae7efc6f"
      },
      "source": [
        "train_csv_data = train_df.values\r\n",
        "test_csv_data = test_df.values\r\n",
        "\r\n",
        "print(type(train_csv_data), train_csv_data.shape)\r\n",
        "print(type(test_csv_data), test_csv_data.shape)"
      ],
      "execution_count": 12,
      "outputs": [
        {
          "output_type": "stream",
          "text": [
            "<class 'numpy.ndarray'> (891, 12)\n",
            "<class 'numpy.ndarray'> (418, 11)\n"
          ],
          "name": "stdout"
        }
      ]
    },
    {
      "cell_type": "markdown",
      "metadata": {
        "id": "hdsCcIeLUpaB"
      },
      "source": [
        "###Data Conversion (문자 -> 숫자)"
      ]
    },
    {
      "cell_type": "code",
      "metadata": {
        "id": "_-tdcFHBUoTU"
      },
      "source": [
        "#male -> 1, female -> \r\n",
        "\r\n",
        "for i in range(len(train_csv_data)):\r\n",
        "  \r\n",
        "  if train_csv_data[i,4] == 'male':\r\n",
        "      train_csv_data[i,4] = 1.0\r\n",
        "  \r\n",
        "  else:\r\n",
        "      train_csv_data[i,4] = 0.0\r\n",
        "\r\n",
        "for i in range(len(test_csv_data)):\r\n",
        "\r\n",
        "  if test_csv_data[i,4] == 'male':\r\n",
        "      test_csv_data[i,4] = 1.0\r\n",
        "  \r\n",
        "  else:\r\n",
        "      test_csv_data[i,4] = 0.0"
      ],
      "execution_count": 13,
      "outputs": []
    },
    {
      "cell_type": "code",
      "metadata": {
        "id": "6rdMTDM8VCXC"
      },
      "source": [
        "#Embarked Empty -> 0, S -> 1, C -> 2, Q -> 3\r\n",
        "\r\n",
        "for i in range(len(train_csv_data)):\r\n",
        "\r\n",
        "    if train_csv_data[i,11] == 'S':\r\n",
        "        train_csv_data[i,11] = 1.0\r\n",
        "    \r\n",
        "    elif train_csv_data[i,11] == 'C':\r\n",
        "        train_csv_data[i,11] = 2.0\r\n",
        "      \r\n",
        "    elif train_csv_data[i,11] == 'Q':\r\n",
        "        train_csv_data[i,11] = 3.0\r\n",
        "\r\n",
        "for i in range(len(test_csv_data)):\r\n",
        "\r\n",
        "    if test_csv_data[i,10] == 'S':\r\n",
        "        test_csv_data[i,10] = 1.0\r\n",
        "    \r\n",
        "    elif test_csv_data[i,10] == 'C':\r\n",
        "        test_csv_data[i,10] = 2.0\r\n",
        "    \r\n",
        "    elif test_csv_data[i,10] == 'Q':\r\n",
        "        test_csv_data[i,10] = 3.0"
      ],
      "execution_count": 14,
      "outputs": []
    },
    {
      "cell_type": "markdown",
      "metadata": {
        "id": "o7PdmmE2VsQj"
      },
      "source": [
        "###training data 생성"
      ]
    },
    {
      "cell_type": "code",
      "metadata": {
        "colab": {
          "base_uri": "https://localhost:8080/",
          "height": 484
        },
        "id": "IGvsv9R_Vqp7",
        "outputId": "20ee317b-7461-4235-ac38-00bb0db2af8d"
      },
      "source": [
        "train_df.head()"
      ],
      "execution_count": 15,
      "outputs": [
        {
          "output_type": "execute_result",
          "data": {
            "text/html": [
              "<div>\n",
              "<style scoped>\n",
              "    .dataframe tbody tr th:only-of-type {\n",
              "        vertical-align: middle;\n",
              "    }\n",
              "\n",
              "    .dataframe tbody tr th {\n",
              "        vertical-align: top;\n",
              "    }\n",
              "\n",
              "    .dataframe thead th {\n",
              "        text-align: right;\n",
              "    }\n",
              "</style>\n",
              "<table border=\"1\" class=\"dataframe\">\n",
              "  <thead>\n",
              "    <tr style=\"text-align: right;\">\n",
              "      <th></th>\n",
              "      <th>PassengerId</th>\n",
              "      <th>Survived</th>\n",
              "      <th>Pclass</th>\n",
              "      <th>Name</th>\n",
              "      <th>Sex</th>\n",
              "      <th>Age</th>\n",
              "      <th>SibSp</th>\n",
              "      <th>Parch</th>\n",
              "      <th>Ticket</th>\n",
              "      <th>Fare</th>\n",
              "      <th>Cabin</th>\n",
              "      <th>Embarked</th>\n",
              "    </tr>\n",
              "  </thead>\n",
              "  <tbody>\n",
              "    <tr>\n",
              "      <th>0</th>\n",
              "      <td>1</td>\n",
              "      <td>0</td>\n",
              "      <td>3</td>\n",
              "      <td>Braund, Mr. Owen Harris</td>\n",
              "      <td>male</td>\n",
              "      <td>22.0</td>\n",
              "      <td>1</td>\n",
              "      <td>0</td>\n",
              "      <td>A/5 21171</td>\n",
              "      <td>7.2500</td>\n",
              "      <td>NaN</td>\n",
              "      <td>S</td>\n",
              "    </tr>\n",
              "    <tr>\n",
              "      <th>1</th>\n",
              "      <td>2</td>\n",
              "      <td>1</td>\n",
              "      <td>1</td>\n",
              "      <td>Cumings, Mrs. John Bradley (Florence Briggs Th...</td>\n",
              "      <td>female</td>\n",
              "      <td>38.0</td>\n",
              "      <td>1</td>\n",
              "      <td>0</td>\n",
              "      <td>PC 17599</td>\n",
              "      <td>71.2833</td>\n",
              "      <td>C85</td>\n",
              "      <td>C</td>\n",
              "    </tr>\n",
              "    <tr>\n",
              "      <th>2</th>\n",
              "      <td>3</td>\n",
              "      <td>1</td>\n",
              "      <td>3</td>\n",
              "      <td>Heikkinen, Miss. Laina</td>\n",
              "      <td>female</td>\n",
              "      <td>26.0</td>\n",
              "      <td>0</td>\n",
              "      <td>0</td>\n",
              "      <td>STON/O2. 3101282</td>\n",
              "      <td>7.9250</td>\n",
              "      <td>NaN</td>\n",
              "      <td>S</td>\n",
              "    </tr>\n",
              "    <tr>\n",
              "      <th>3</th>\n",
              "      <td>4</td>\n",
              "      <td>1</td>\n",
              "      <td>1</td>\n",
              "      <td>Futrelle, Mrs. Jacques Heath (Lily May Peel)</td>\n",
              "      <td>female</td>\n",
              "      <td>35.0</td>\n",
              "      <td>1</td>\n",
              "      <td>0</td>\n",
              "      <td>113803</td>\n",
              "      <td>53.1000</td>\n",
              "      <td>C123</td>\n",
              "      <td>S</td>\n",
              "    </tr>\n",
              "    <tr>\n",
              "      <th>4</th>\n",
              "      <td>5</td>\n",
              "      <td>0</td>\n",
              "      <td>3</td>\n",
              "      <td>Allen, Mr. William Henry</td>\n",
              "      <td>male</td>\n",
              "      <td>35.0</td>\n",
              "      <td>0</td>\n",
              "      <td>0</td>\n",
              "      <td>373450</td>\n",
              "      <td>8.0500</td>\n",
              "      <td>NaN</td>\n",
              "      <td>S</td>\n",
              "    </tr>\n",
              "  </tbody>\n",
              "</table>\n",
              "</div>"
            ],
            "text/plain": [
              "   PassengerId  Survived  Pclass  ...     Fare Cabin  Embarked\n",
              "0            1         0       3  ...   7.2500   NaN         S\n",
              "1            2         1       1  ...  71.2833   C85         C\n",
              "2            3         1       3  ...   7.9250   NaN         S\n",
              "3            4         1       1  ...  53.1000  C123         S\n",
              "4            5         0       3  ...   8.0500   NaN         S\n",
              "\n",
              "[5 rows x 12 columns]"
            ]
          },
          "metadata": {
            "tags": []
          },
          "execution_count": 15
        }
      ]
    },
    {
      "cell_type": "code",
      "metadata": {
        "colab": {
          "base_uri": "https://localhost:8080/"
        },
        "id": "uVMLEz-sVxIW",
        "outputId": "68cbf659-7513-48d9-be60-a8785664cc78"
      },
      "source": [
        "training_input_data = train_csv_data[:, [2, 4, 5, 6, 7, 9]].astype('float32') #Pclass, Sex, Age, SibSp, Parch, Fare\r\n",
        "training_target_data = train_csv_data[:, 1].astype('float32') #Survived\r\n",
        "\r\n",
        "print(\"training_input_data.shape = \", training_input_data.shape, \", training_target_data.shape = \", training_target_data.shape)\r\n",
        "print(training_input_data[1])\r\n",
        "print(training_target_data[1])"
      ],
      "execution_count": 16,
      "outputs": [
        {
          "output_type": "stream",
          "text": [
            "training_input_data.shape =  (891, 6) , training_target_data.shape =  (891,)\n",
            "[ 1.      0.     38.      1.      0.     71.2833]\n",
            "1.0\n"
          ],
          "name": "stdout"
        }
      ]
    },
    {
      "cell_type": "markdown",
      "metadata": {
        "id": "70DmPO4kWbcm"
      },
      "source": [
        "###test data 생성"
      ]
    },
    {
      "cell_type": "code",
      "metadata": {
        "colab": {
          "base_uri": "https://localhost:8080/",
          "height": 434
        },
        "id": "bASWmMhAWY_p",
        "outputId": "96b6a92f-3ea5-4923-8def-6d0c46eb859f"
      },
      "source": [
        "test_df.head()"
      ],
      "execution_count": 17,
      "outputs": [
        {
          "output_type": "execute_result",
          "data": {
            "text/html": [
              "<div>\n",
              "<style scoped>\n",
              "    .dataframe tbody tr th:only-of-type {\n",
              "        vertical-align: middle;\n",
              "    }\n",
              "\n",
              "    .dataframe tbody tr th {\n",
              "        vertical-align: top;\n",
              "    }\n",
              "\n",
              "    .dataframe thead th {\n",
              "        text-align: right;\n",
              "    }\n",
              "</style>\n",
              "<table border=\"1\" class=\"dataframe\">\n",
              "  <thead>\n",
              "    <tr style=\"text-align: right;\">\n",
              "      <th></th>\n",
              "      <th>PassengerId</th>\n",
              "      <th>Survived</th>\n",
              "      <th>Pclass</th>\n",
              "      <th>Name</th>\n",
              "      <th>Sex</th>\n",
              "      <th>Age</th>\n",
              "      <th>SibSp</th>\n",
              "      <th>Parch</th>\n",
              "      <th>Ticket</th>\n",
              "      <th>Fare</th>\n",
              "      <th>Embarked</th>\n",
              "    </tr>\n",
              "  </thead>\n",
              "  <tbody>\n",
              "    <tr>\n",
              "      <th>0</th>\n",
              "      <td>892</td>\n",
              "      <td>0</td>\n",
              "      <td>3</td>\n",
              "      <td>Kelly, Mr. James</td>\n",
              "      <td>male</td>\n",
              "      <td>34.5</td>\n",
              "      <td>0</td>\n",
              "      <td>0</td>\n",
              "      <td>330911</td>\n",
              "      <td>7.8292</td>\n",
              "      <td>Q</td>\n",
              "    </tr>\n",
              "    <tr>\n",
              "      <th>1</th>\n",
              "      <td>893</td>\n",
              "      <td>1</td>\n",
              "      <td>3</td>\n",
              "      <td>Wilkes, Mrs. James (Ellen Needs)</td>\n",
              "      <td>female</td>\n",
              "      <td>47.0</td>\n",
              "      <td>1</td>\n",
              "      <td>0</td>\n",
              "      <td>363272</td>\n",
              "      <td>7.0000</td>\n",
              "      <td>S</td>\n",
              "    </tr>\n",
              "    <tr>\n",
              "      <th>2</th>\n",
              "      <td>894</td>\n",
              "      <td>0</td>\n",
              "      <td>2</td>\n",
              "      <td>Myles, Mr. Thomas Francis</td>\n",
              "      <td>male</td>\n",
              "      <td>62.0</td>\n",
              "      <td>0</td>\n",
              "      <td>0</td>\n",
              "      <td>240276</td>\n",
              "      <td>9.6875</td>\n",
              "      <td>Q</td>\n",
              "    </tr>\n",
              "    <tr>\n",
              "      <th>3</th>\n",
              "      <td>895</td>\n",
              "      <td>0</td>\n",
              "      <td>3</td>\n",
              "      <td>Wirz, Mr. Albert</td>\n",
              "      <td>male</td>\n",
              "      <td>27.0</td>\n",
              "      <td>0</td>\n",
              "      <td>0</td>\n",
              "      <td>315154</td>\n",
              "      <td>8.6625</td>\n",
              "      <td>S</td>\n",
              "    </tr>\n",
              "    <tr>\n",
              "      <th>4</th>\n",
              "      <td>896</td>\n",
              "      <td>1</td>\n",
              "      <td>3</td>\n",
              "      <td>Hirvonen, Mrs. Alexander (Helga E Lindqvist)</td>\n",
              "      <td>female</td>\n",
              "      <td>22.0</td>\n",
              "      <td>1</td>\n",
              "      <td>1</td>\n",
              "      <td>3101298</td>\n",
              "      <td>12.2875</td>\n",
              "      <td>S</td>\n",
              "    </tr>\n",
              "  </tbody>\n",
              "</table>\n",
              "</div>"
            ],
            "text/plain": [
              "   PassengerId  Survived  Pclass  ...   Ticket     Fare  Embarked\n",
              "0          892         0       3  ...   330911   7.8292         Q\n",
              "1          893         1       3  ...   363272   7.0000         S\n",
              "2          894         0       2  ...   240276   9.6875         Q\n",
              "3          895         0       3  ...   315154   8.6625         S\n",
              "4          896         1       3  ...  3101298  12.2875         S\n",
              "\n",
              "[5 rows x 11 columns]"
            ]
          },
          "metadata": {
            "tags": []
          },
          "execution_count": 17
        }
      ]
    },
    {
      "cell_type": "code",
      "metadata": {
        "colab": {
          "base_uri": "https://localhost:8080/"
        },
        "id": "R7yvPJ3bWgX4",
        "outputId": "9ddc930b-7709-408c-d3bc-36701cff4945"
      },
      "source": [
        "test_input_data = test_csv_data[:, [2, 4, 5, 6, 7, 9]].astype('float32') #Pclass, Sex, Age, SibSp, Parch, Fare\r\n",
        "test_target_data = test_csv_data[:, 1].astype('float32') #Survived\r\n",
        "\r\n",
        "print(\"test_input_data.shape = \", test_input_data.shape ,\", test_target_data.shape = \", test_target_data.shape)\r\n",
        "print(test_input_data[1])\r\n",
        "print(test_target_data[1])"
      ],
      "execution_count": 18,
      "outputs": [
        {
          "output_type": "stream",
          "text": [
            "test_input_data.shape =  (418, 6) , test_target_data.shape =  (418,)\n",
            "[ 3.  0. 47.  1.  0.  7.]\n",
            "1.0\n"
          ],
          "name": "stdout"
        }
      ]
    },
    {
      "cell_type": "markdown",
      "metadata": {
        "id": "3_KLVEv5W_iO"
      },
      "source": [
        "###오차 역전파를 위한 코드 구현"
      ]
    },
    {
      "cell_type": "code",
      "metadata": {
        "id": "A9sZ0OwoW5zz"
      },
      "source": [
        "def sigmoid(x):\r\n",
        "    return 1 / (1 + np.exp(-x))"
      ],
      "execution_count": 19,
      "outputs": []
    },
    {
      "cell_type": "code",
      "metadata": {
        "id": "SBxjpqtsXIUJ"
      },
      "source": [
        "class Kaggle_Titanic():\r\n",
        "\r\n",
        "  def __init__(self, input_nodes, hidden_nodes, output_nodes, learning_rate):\r\n",
        "\r\n",
        "    self.W2 = np.random.randn(input_nodes, hidden_nodes) / np.sqrt(input_nodes / 2)\r\n",
        "    self.b2 = np.random.rand(hidden_nodes)\r\n",
        "\r\n",
        "    self.W3 = np.random.randn(hidden_nodes, output_nodes) / np.sqrt(hidden_nodes / 2)\r\n",
        "    self.b3 = np.random.rand(output_nodes)\r\n",
        "\r\n",
        "    self.learning_rate = learning_rate\r\n",
        "\r\n",
        "  def feed_forward(self):\r\n",
        "\r\n",
        "    delta = 1e-7\r\n",
        "\r\n",
        "    self.z1 = self.input_data\r\n",
        "    self.a1 = self.input_data\r\n",
        "\r\n",
        "    self.z2 = np.dot(self.a1, self.W2) + self.b2\r\n",
        "    self.a2 = sigmoid(self.z2)\r\n",
        "\r\n",
        "    self.z3 = np.dot(self.a2, self.W3) + self.b3\r\n",
        "    y = self.a3 = sigmoid(self.z3)\r\n",
        "\r\n",
        "    return -np.sum(self.target_data * np.log(y + delta) + (1 - self.target_data) * np.log((1 - y) + delta))\r\n",
        "\r\n",
        "  def loss_val(self):\r\n",
        "\r\n",
        "    delta = 1e-7\r\n",
        "\r\n",
        "    self.z1 = self.input_data\r\n",
        "    self.a1 = self.input_data\r\n",
        "    \r\n",
        "    self.z2 = np.dot(self.a1, self.W2) + self.b2\r\n",
        "    self.a2 = sigmoid(self.z2)\r\n",
        "\r\n",
        "    self.z3 = np.dot(self.a2, self.W3) + self.b3\r\n",
        "    y = self.a3 = sigmoid(self.z3)\r\n",
        "\r\n",
        "    return -np.sum(self.target_data * np.log(y + delta) + (1 - self.target_data) * np.log((1 - y) + delta))\r\n",
        "\r\n",
        "  def accuracy(self, test_input_data, test_target_data):\r\n",
        "\r\n",
        "    matched_list = []\r\n",
        "\r\n",
        "    temp_list = []\r\n",
        "    index_label_prediction_list = []\r\n",
        "\r\n",
        "    for i in range(len(test_input_data)):\r\n",
        "\r\n",
        "      (real_val,predicted_num) = self.predict(np.array(test_input_data[i], dtype=np.float32, ndmin=2))\r\n",
        "\r\n",
        "      if predicted_num == test_target_data[i]:\r\n",
        "          matched_list.append(i)\r\n",
        "\r\n",
        "      else:\r\n",
        "          temp_list.append(i)\r\n",
        "          temp_list.append(test_target_data[i])\r\n",
        "          temp_list.append(predicted_num)\r\n",
        "\r\n",
        "          index_label_prediction_list.append(temp_list)\r\n",
        "\r\n",
        "          temp_list = []\r\n",
        "\r\n",
        "    accuracy_val = len(matched_list) / len(test_input_data)\r\n",
        "\r\n",
        "    return accuracy_val, index_label_prediction_list\r\n",
        "\r\n",
        "  def train(self, input_data, target_data):\r\n",
        "\r\n",
        "    self.input_data = input_data\r\n",
        "    self.target_data = target_data\r\n",
        "\r\n",
        "    loss_val = self.feed_forward()\r\n",
        "\r\n",
        "    loss_3 = (self.a3 - self.target_data) * self.a3 * (1 - self.a3)\r\n",
        "    loss_2 = np.dot(loss_3,self.W3.T) * self.a2 * (1 - self.a2)\r\n",
        "\r\n",
        "    self.W3 = self.W3 - self.learning_rate * np.dot(self.a2.T, loss_3)\r\n",
        "    self.b3 = self.b3 - self.learning_rate * loss_3\r\n",
        "\r\n",
        "    self.W2 = self.W2 - self.learning_rate * np.dot(self.a1.T, loss_2)\r\n",
        "    self.b2 = self.b2 - self.learning_rate * loss_2\r\n",
        "\r\n",
        "  def predict(self, input_data):\r\n",
        "\r\n",
        "    z2 = np.dot(input_data, self.W2) + self.b2\r\n",
        "    a2 = sigmoid(z2)\r\n",
        "\r\n",
        "    z3 = np.dot(a2, self.W3) + self.b3\r\n",
        "    y = a3 = sigmoid(z3)\r\n",
        "\r\n",
        "    if y >= 0.5:\r\n",
        "        predicted_num = 1\r\n",
        "\r\n",
        "    else:\r\n",
        "        predicted_num = 0\r\n",
        "\r\n",
        "    return y, predicted_num"
      ],
      "execution_count": 20,
      "outputs": []
    },
    {
      "cell_type": "code",
      "metadata": {
        "colab": {
          "base_uri": "https://localhost:8080/"
        },
        "id": "-9dKdc8AX1AP",
        "outputId": "53875ed7-2993-4139-c99c-8c33600b7043"
      },
      "source": [
        "#hyper_parameter \r\n",
        "i_nodes = training_input_data.shape[1]\r\n",
        "h_nodes = 50\r\n",
        "o_nodes = 1\r\n",
        "lr = 1e-4\r\n",
        "epochs = 200\r\n",
        "\r\n",
        "loss_val_list = []\r\n",
        "\r\n",
        "train_acc_list = []\r\n",
        "validation_acc_list = []\r\n",
        "\r\n",
        "titanic_obj = Kaggle_Titanic(i_nodes, h_nodes, o_nodes, lr)\r\n",
        "\r\n",
        "start_time = datetime.now()\r\n",
        "\r\n",
        "for i in range(epochs):\r\n",
        "    for step in range(len(training_input_data)):\r\n",
        "\r\n",
        "        input_data = training_input_data[step]\r\n",
        "        target_data = training_target_data[step]\r\n",
        "\r\n",
        "        titanic_obj.train(np.array(input_data, dtype=np.float32, ndmin=2) , np.array(target_data, dtype=np.float32, ndmin=2))\r\n",
        "\r\n",
        "    cur_loss_val = titanic_obj.loss_val()\r\n",
        "    print(\"epochs = \",i+1,\", loss value = \", cur_loss_val)\r\n",
        "\r\n",
        "    loss_val_list.append(cur_loss_val)\r\n",
        "\r\n",
        "    (train_accuracy,index_label_prediction_list) = titanic_obj.accuracy(training_input_data, training_target_data)\r\n",
        "    (validation_accuracy, index_label_prediction_list) = titanic_obj.accuracy(test_input_data, test_target_data)\r\n",
        "\r\n",
        "    train_acc_list.append(train_accuracy)\r\n",
        "    validation_acc_list.append(validation_accuracy)\r\n",
        "\r\n",
        "end_time =datetime.now()\r\n",
        "print(\"\\nElapsed time = \", end_time - start_time)"
      ],
      "execution_count": 21,
      "outputs": [
        {
          "output_type": "stream",
          "text": [
            "epochs =  1 , loss value =  0.38335839665206534\n",
            "epochs =  2 , loss value =  0.3780279929059792\n",
            "epochs =  3 , loss value =  0.3733159386778026\n",
            "epochs =  4 , loss value =  0.3691774297281063\n",
            "epochs =  5 , loss value =  0.3655609303564213\n",
            "epochs =  6 , loss value =  0.3624122736264404\n",
            "epochs =  7 , loss value =  0.3596774489352469\n",
            "epochs =  8 , loss value =  0.3573044464673418\n",
            "epochs =  9 , loss value =  0.3552444493552083\n",
            "epochs =  10 , loss value =  0.353452560569051\n",
            "epochs =  11 , loss value =  0.35188818642582775\n",
            "epochs =  12 , loss value =  0.35051517807820715\n",
            "epochs =  13 , loss value =  0.3493018341562861\n",
            "epochs =  14 , loss value =  0.3482208280196237\n",
            "epochs =  15 , loss value =  0.347248991276813\n",
            "epochs =  16 , loss value =  0.3463668581108349\n",
            "epochs =  17 , loss value =  0.34555809357066114\n",
            "epochs =  18 , loss value =  0.3448089957183564\n",
            "epochs =  19 , loss value =  0.34410810434115413\n",
            "epochs =  20 , loss value =  0.343445875960151\n",
            "epochs =  21 , loss value =  0.34281440371847377\n",
            "epochs =  22 , loss value =  0.3422071784751002\n",
            "epochs =  23 , loss value =  0.34161888823560904\n",
            "epochs =  24 , loss value =  0.34104524803005043\n",
            "epochs =  25 , loss value =  0.34048284973994386\n",
            "epochs =  26 , loss value =  0.3399290241052355\n",
            "epochs =  27 , loss value =  0.33938171317223964\n",
            "epochs =  28 , loss value =  0.3388393559125922\n",
            "epochs =  29 , loss value =  0.33830078977579825\n",
            "epochs =  30 , loss value =  0.3377651681197706\n",
            "epochs =  31 , loss value =  0.33723189116907837\n",
            "epochs =  32 , loss value =  0.3367005479296573\n",
            "epochs =  33 , loss value =  0.3361708675620637\n",
            "epochs =  34 , loss value =  0.33564267968693906\n",
            "epochs =  35 , loss value =  0.3351158833143294\n",
            "epochs =  36 , loss value =  0.3345904237401213\n",
            "epochs =  37 , loss value =  0.33406627630350927\n",
            "epochs =  38 , loss value =  0.3335434356515645\n",
            "epochs =  39 , loss value =  0.3330219091637983\n",
            "epochs =  40 , loss value =  0.33250171336531853\n",
            "epochs =  41 , loss value =  0.3319828723943854\n",
            "epochs =  42 , loss value =  0.33146541781567923\n",
            "epochs =  43 , loss value =  0.3309493892515546\n",
            "epochs =  44 , loss value =  0.3304348354352488\n",
            "epochs =  45 , loss value =  0.32992181538154913\n",
            "epochs =  46 , loss value =  0.3294103994356859\n",
            "epochs =  47 , loss value =  0.3289006700131721\n",
            "epochs =  48 , loss value =  0.3283927218917384\n",
            "epochs =  49 , loss value =  0.32788666196694577\n",
            "epochs =  50 , loss value =  0.32738260843638767\n",
            "epochs =  51 , loss value =  0.32688068943131837\n",
            "epochs =  52 , loss value =  0.32638104116397776\n",
            "epochs =  53 , loss value =  0.3258838056987757\n",
            "epochs =  54 , loss value =  0.32538912848142715\n",
            "epochs =  55 , loss value =  0.32489715577016737\n",
            "epochs =  56 , loss value =  0.3244080321078389\n",
            "epochs =  57 , loss value =  0.3239218979557293\n",
            "epochs =  58 , loss value =  0.3234388875837114\n",
            "epochs =  59 , loss value =  0.32295912728104725\n",
            "epochs =  60 , loss value =  0.3224827339222863\n",
            "epochs =  61 , loss value =  0.3220098138960721\n",
            "epochs =  62 , loss value =  0.32154046238322775\n",
            "epochs =  63 , loss value =  0.321074762955011\n",
            "epochs =  64 , loss value =  0.3206127874526084\n",
            "epochs =  65 , loss value =  0.3201545961042017\n",
            "epochs =  66 , loss value =  0.3197002378351514\n",
            "epochs =  67 , loss value =  0.31924975072889084\n",
            "epochs =  68 , loss value =  0.31880316260010977\n",
            "epochs =  69 , loss value =  0.31836049164676594\n",
            "epochs =  70 , loss value =  0.3179217471528342\n",
            "epochs =  71 , loss value =  0.31748693021897\n",
            "epochs =  72 , loss value =  0.31705603450317144\n",
            "epochs =  73 , loss value =  0.31662904695785493\n",
            "epochs =  74 , loss value =  0.31620594855344986\n",
            "epochs =  75 , loss value =  0.3157867149816853\n",
            "epochs =  76 , loss value =  0.3153713173341405\n",
            "epochs =  77 , loss value =  0.31495972275346634\n",
            "epochs =  78 , loss value =  0.31455189505602843\n",
            "epochs =  79 , loss value =  0.31414779532556664\n",
            "epochs =  80 , loss value =  0.3137473824779839\n",
            "epochs =  81 , loss value =  0.313350613797523\n",
            "epochs =  82 , loss value =  0.31295744544450343\n",
            "epochs =  83 , loss value =  0.31256783293451734\n",
            "epochs =  84 , loss value =  0.3121817315885308\n",
            "epochs =  85 , loss value =  0.31179909695282726\n",
            "epochs =  86 , loss value =  0.3114198851871719\n",
            "epochs =  87 , loss value =  0.31104405341908065\n",
            "epochs =  88 , loss value =  0.31067156006160435\n",
            "epochs =  89 , loss value =  0.3103023650917549\n",
            "epochs =  90 , loss value =  0.3099364302865631\n",
            "epochs =  91 , loss value =  0.30957371941386463\n",
            "epochs =  92 , loss value =  0.3092141983752088\n",
            "epochs =  93 , loss value =  0.30885783529890476\n",
            "epochs =  94 , loss value =  0.30850460058201784\n",
            "epochs =  95 , loss value =  0.3081544668811782\n",
            "epochs =  96 , loss value =  0.3078074090532614\n",
            "epochs =  97 , loss value =  0.3074634040483426\n",
            "epochs =  98 , loss value =  0.30712243075863666\n",
            "epochs =  99 , loss value =  0.3067844698284671\n",
            "epochs =  100 , loss value =  0.306449503431441\n",
            "epochs =  101 , loss value =  0.3061175150219868\n",
            "epochs =  102 , loss value =  0.30578848906908956\n",
            "epochs =  103 , loss value =  0.30546241078040887\n",
            "epochs =  104 , loss value =  0.30513926582503403\n",
            "epochs =  105 , loss value =  0.304819040062802\n",
            "epochs =  106 , loss value =  0.3045017192875214\n",
            "epochs =  107 , loss value =  0.3041872889905656\n",
            "epochs =  108 , loss value =  0.3038757341502597\n",
            "epochs =  109 , loss value =  0.30356703905124516\n",
            "epochs =  110 , loss value =  0.3032611871368059\n",
            "epochs =  111 , loss value =  0.30295816089582994\n",
            "epochs =  112 , loss value =  0.3026579417849336\n",
            "epochs =  113 , loss value =  0.30236051018516263\n",
            "epochs =  114 , loss value =  0.3020658453917644\n",
            "epochs =  115 , loss value =  0.30177392563472083\n",
            "epochs =  116 , loss value =  0.30148472812715466\n",
            "epochs =  117 , loss value =  0.3011982291382287\n",
            "epochs =  118 , loss value =  0.3009144040869126\n",
            "epochs =  119 , loss value =  0.30063322765279454\n",
            "epochs =  120 , loss value =  0.3003546739000934\n",
            "epochs =  121 , loss value =  0.3000787164110997\n",
            "epochs =  122 , loss value =  0.2998053284253826\n",
            "epochs =  123 , loss value =  0.299534482981328\n",
            "epochs =  124 , loss value =  0.2992661530567994\n",
            "epochs =  125 , loss value =  0.2990003117059958\n",
            "epochs =  126 , loss value =  0.298736932189895\n",
            "epochs =  127 , loss value =  0.29847598809797643\n",
            "epochs =  128 , loss value =  0.29821745345924744\n",
            "epochs =  129 , loss value =  0.2979613028409588\n",
            "epochs =  130 , loss value =  0.2977075114336975\n",
            "epochs =  131 , loss value =  0.29745605512193113\n",
            "epochs =  132 , loss value =  0.29720691053938475\n",
            "epochs =  133 , loss value =  0.2969600551089802\n",
            "epochs =  134 , loss value =  0.2967154670674026\n",
            "epochs =  135 , loss value =  0.2964731254746399\n",
            "epochs =  136 , loss value =  0.29623301020916015\n",
            "epochs =  137 , loss value =  0.29599510194964995\n",
            "epochs =  138 , loss value =  0.29575938214445235\n",
            "epochs =  139 , loss value =  0.2955258329700636\n",
            "epochs =  140 , loss value =  0.29529443728019833\n",
            "epochs =  141 , loss value =  0.2950651785470421\n",
            "epochs =  142 , loss value =  0.294838040796385\n",
            "epochs =  143 , loss value =  0.29461300853835143\n",
            "epochs =  144 , loss value =  0.2943900666954158\n",
            "epochs =  145 , loss value =  0.29416920052933443\n",
            "epochs =  146 , loss value =  0.2939503955685117\n",
            "epochs =  147 , loss value =  0.2937336375371982\n",
            "epochs =  148 , loss value =  0.29351891228773336\n",
            "epochs =  149 , loss value =  0.293306205736883\n",
            "epochs =  150 , loss value =  0.29309550380710986\n",
            "epochs =  151 , loss value =  0.29288679237342224\n",
            "epochs =  152 , loss value =  0.29268005721625445\n",
            "epochs =  153 , loss value =  0.2924752839806145\n",
            "epochs =  154 , loss value =  0.29227245814159103\n",
            "epochs =  155 , loss value =  0.2920715649761234\n",
            "epochs =  156 , loss value =  0.2918725895408124\n",
            "epochs =  157 , loss value =  0.2916755166554516\n",
            "epochs =  158 , loss value =  0.2914803308918186\n",
            "epochs =  159 , loss value =  0.29128701656727035\n",
            "epochs =  160 , loss value =  0.291095557742596\n",
            "epochs =  161 , loss value =  0.2909059382235738\n",
            "epochs =  162 , loss value =  0.29071814156570724\n",
            "epochs =  163 , loss value =  0.29053215108159886\n",
            "epochs =  164 , loss value =  0.2903479498504839\n",
            "epochs =  165 , loss value =  0.2901655207294768\n",
            "epochs =  166 , loss value =  0.28998484636613087\n",
            "epochs =  167 , loss value =  0.28980590921199034\n",
            "epochs =  168 , loss value =  0.2896286915368412\n",
            "epochs =  169 , loss value =  0.28945317544342447\n",
            "epochs =  170 , loss value =  0.2892793428824653\n",
            "epochs =  171 , loss value =  0.2891071756678547\n",
            "epochs =  172 , loss value =  0.2889366554919019\n",
            "epochs =  173 , loss value =  0.28876776394058823\n",
            "epochs =  174 , loss value =  0.2886004825087949\n",
            "epochs =  175 , loss value =  0.2884347926154483\n",
            "epochs =  176 , loss value =  0.2882706756186046\n",
            "epochs =  177 , loss value =  0.2881081128304395\n",
            "epochs =  178 , loss value =  0.28794708553212817\n",
            "epochs =  179 , loss value =  0.28778757498863106\n",
            "epochs =  180 , loss value =  0.28762956246333105\n",
            "epochs =  181 , loss value =  0.2874730292325275\n",
            "epochs =  182 , loss value =  0.28731795659973525\n",
            "epochs =  183 , loss value =  0.28716432590976343\n",
            "epochs =  184 , loss value =  0.2870121185625199\n",
            "epochs =  185 , loss value =  0.2868613160265018\n",
            "epochs =  186 , loss value =  0.28671189985191614\n",
            "epochs =  187 , loss value =  0.2865638516833754\n",
            "epochs =  188 , loss value =  0.2864171532721185\n",
            "epochs =  189 , loss value =  0.2862717864877063\n",
            "epochs =  190 , loss value =  0.2861277333291335\n",
            "epochs =  191 , loss value =  0.28598497593531524\n",
            "epochs =  192 , loss value =  0.2858434965949085\n",
            "epochs =  193 , loss value =  0.28570327775543314\n",
            "epochs =  194 , loss value =  0.2855643020316409\n",
            "epochs =  195 , loss value =  0.2854265522131292\n",
            "epochs =  196 , loss value =  0.2852900112711593\n",
            "epochs =  197 , loss value =  0.285154662364666\n",
            "epochs =  198 , loss value =  0.285020488845437\n",
            "epochs =  199 , loss value =  0.2848874742624645\n",
            "epochs =  200 , loss value =  0.28475560236543696\n",
            "\n",
            "Elapsed time =  0:00:26.799260\n"
          ],
          "name": "stdout"
        }
      ]
    },
    {
      "cell_type": "code",
      "metadata": {
        "colab": {
          "base_uri": "https://localhost:8080/",
          "height": 295
        },
        "id": "3ZOcwctkbsX0",
        "outputId": "aa956389-2b61-4798-e671-965ad224b2b8"
      },
      "source": [
        "plt.title('Loss Value Trend')\r\n",
        "plt.xlabel('epochs')\r\n",
        "plt.ylabel('Loss Value')\r\n",
        "plt.grid()\r\n",
        "plt.plot(loss_val_list)\r\n",
        "plt.show()"
      ],
      "execution_count": 22,
      "outputs": [
        {
          "output_type": "display_data",
          "data": {
            "image/png": "[encoded data removed]",
            "text/plain": [
              "<Figure size 432x288 with 1 Axes>"
            ]
          },
          "metadata": {
            "tags": [],
            "needs_background": "light"
          }
        }
      ]
    },
    {
      "cell_type": "code",
      "metadata": {
        "colab": {
          "base_uri": "https://localhost:8080/",
          "height": 295
        },
        "id": "d4h2F-AXc3gI",
        "outputId": "d9a41965-71bf-4b9c-f325-de0318cb0712"
      },
      "source": [
        "plt.title('Training / Validation Accuracy')\r\n",
        "plt.xlabel('epochs')\r\n",
        "plt.ylabel('Accuracy')\r\n",
        "plt.grid()\r\n",
        "plt.plot(train_acc_list)\r\n",
        "plt.plot(validation_acc_list)\r\n",
        "plt.legend(['training accuracy', 'validation accuracy'])\r\n",
        "plt.show()"
      ],
      "execution_count": 23,
      "outputs": [
        {
          "output_type": "display_data",
          "data": {
            "image/png": "[encoded data removed]",
            "text/plain": [
              "<Figure size 432x288 with 1 Axes>"
            ]
          },
          "metadata": {
            "tags": [],
            "needs_background": "light"
          }
        }
      ]
    },
    {
      "cell_type": "code",
      "metadata": {
        "colab": {
          "base_uri": "https://localhost:8080/"
        },
        "id": "sa1KVWHodI4p",
        "outputId": "9bce63cb-4f80-497c-c4ea-d7240b5884cb"
      },
      "source": [
        "(accuracy_result, index_label_prediction_list) = titanic_obj.accuracy(test_input_data, test_target_data)\r\n",
        "print(\"Accuracy = \", 100 * np.round(accuracy_result,2),'%')"
      ],
      "execution_count": 24,
      "outputs": [
        {
          "output_type": "stream",
          "text": [
            "Accuracy =  65.0 %\n"
          ],
          "name": "stdout"
        }
      ]
    },
    {
      "cell_type": "code",
      "metadata": {
        "colab": {
          "base_uri": "https://localhost:8080/"
        },
        "id": "kufYVtl1dXAp",
        "outputId": "d1ee4594-8cc7-4ad8-9a90-e9771b030947"
      },
      "source": [
        "dicaprio = np.array([3., 1., 19., 0., 0., 5.]).reshape(1,6)\r\n",
        "winslet = np.array([1., 0., 17., 1., 2., 100.]).reshape(1,6)\r\n",
        "\r\n",
        "(d_probability, alive_or_dead) = titanic_obj.predict(dicaprio)\r\n",
        "\r\n",
        "print(d_probability, alive_or_dead)\r\n",
        "\r\n",
        "(w_probability, alive_or_dead) = titanic_obj.predict(winslet)\r\n",
        "\r\n",
        "print(w_probability, alive_or_dead)"
      ],
      "execution_count": 28,
      "outputs": [
        {
          "output_type": "stream",
          "text": [
            "[[0.25337264]] 0\n",
            "[[0.63094388]] 1\n"
          ],
          "name": "stdout"
        }
      ]
    },
    {
      "cell_type": "code",
      "metadata": {
        "id": "7pclPTbve2Du"
      },
      "source": [
        ""
      ],
      "execution_count": null,
      "outputs": []
    }
  ]
}