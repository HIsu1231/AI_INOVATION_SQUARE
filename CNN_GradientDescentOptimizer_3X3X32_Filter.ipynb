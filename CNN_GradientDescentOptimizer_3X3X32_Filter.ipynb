{
  "nbformat": 4,
  "nbformat_minor": 0,
  "metadata": {
    "colab": {
      "name": "CNN_GradientDescentOptimizer_3X3X32_Filter.ipynb",
      "provenance": [],
      "mount_file_id": "1SuQ5OpYCU-3KJ_7wUt99ST3c2S9EaveQ",
      "authorship_tag": "ABX9TyM+BCYSUjaGM5o6LPZmZbsC",
      "include_colab_link": true
    },
    "kernelspec": {
      "name": "python3",
      "display_name": "Python 3"
    }
  },
  "cells": [
    {
      "cell_type": "markdown",
      "metadata": {
        "id": "view-in-github",
        "colab_type": "text"
      },
      "source": [
        "<a href=\"https://colab.research.google.com/github/HIsu1231/AI_INOVATION_SQUARE/blob/master/CNN_GradientDescentOptimizer_3X3X32_Filter.ipynb\" target=\"_parent\"><img src=\"https://colab.research.google.com/assets/colab-badge.svg\" alt=\"Open In Colab\"/></a>"
      ]
    },
    {
      "cell_type": "code",
      "metadata": {
        "colab": {
          "base_uri": "https://localhost:8080/"
        },
        "id": "wLfLT9a8HEEx",
        "outputId": "a4a35d43-24ed-4af1-e629-c77415c8d654"
      },
      "source": [
        "!pip uninstall tensorflow"
      ],
      "execution_count": 1,
      "outputs": [
        {
          "output_type": "stream",
          "text": [
            "Uninstalling tensorflow-2.4.0:\n",
            "  Would remove:\n",
            "    /usr/local/bin/estimator_ckpt_converter\n",
            "    /usr/local/bin/import_pb_to_tensorboard\n",
            "    /usr/local/bin/saved_model_cli\n",
            "    /usr/local/bin/tensorboard\n",
            "    /usr/local/bin/tf_upgrade_v2\n",
            "    /usr/local/bin/tflite_convert\n",
            "    /usr/local/bin/toco\n",
            "    /usr/local/bin/toco_from_protos\n",
            "    /usr/local/lib/python3.6/dist-packages/tensorflow-2.4.0.dist-info/*\n",
            "    /usr/local/lib/python3.6/dist-packages/tensorflow/*\n",
            "Proceed (y/n)? y\n",
            "  Successfully uninstalled tensorflow-2.4.0\n"
          ],
          "name": "stdout"
        }
      ]
    },
    {
      "cell_type": "code",
      "metadata": {
        "colab": {
          "base_uri": "https://localhost:8080/"
        },
        "id": "sV_QTYaSHMiY",
        "outputId": "e497f717-5367-4b81-e3a3-b6b662a5d98c"
      },
      "source": [
        "!pip install tensorflow==1.15"
      ],
      "execution_count": 3,
      "outputs": [
        {
          "output_type": "stream",
          "text": [
            "Collecting tensorflow==1.15\n",
            "\u001b[?25l  Downloading https://files.pythonhosted.org/packages/3f/98/5a99af92fb911d7a88a0005ad55005f35b4c1ba8d75fba02df726cd936e6/tensorflow-1.15.0-cp36-cp36m-manylinux2010_x86_64.whl (412.3MB)\n",
            "\u001b[K     |████████████████████████████████| 412.3MB 32kB/s \n",
            "\u001b[?25hCollecting tensorflow-estimator==1.15.1\n",
            "\u001b[?25l  Downloading https://files.pythonhosted.org/packages/de/62/2ee9cd74c9fa2fa450877847ba560b260f5d0fb70ee0595203082dafcc9d/tensorflow_estimator-1.15.1-py2.py3-none-any.whl (503kB)\n",
            "\u001b[K     |████████████████████████████████| 512kB 49.8MB/s \n",
            "\u001b[?25hCollecting gast==0.2.2\n",
            "  Downloading https://files.pythonhosted.org/packages/4e/35/11749bf99b2d4e3cceb4d55ca22590b0d7c2c62b9de38ac4a4a7f4687421/gast-0.2.2.tar.gz\n",
            "Requirement already satisfied: astor>=0.6.0 in /usr/local/lib/python3.6/dist-packages (from tensorflow==1.15) (0.8.1)\n",
            "Requirement already satisfied: numpy<2.0,>=1.16.0 in /usr/local/lib/python3.6/dist-packages (from tensorflow==1.15) (1.19.4)\n",
            "Requirement already satisfied: grpcio>=1.8.6 in /usr/local/lib/python3.6/dist-packages (from tensorflow==1.15) (1.32.0)\n",
            "Requirement already satisfied: wheel>=0.26 in /usr/local/lib/python3.6/dist-packages (from tensorflow==1.15) (0.36.2)\n",
            "Collecting keras-applications>=1.0.8\n",
            "\u001b[?25l  Downloading https://files.pythonhosted.org/packages/71/e3/19762fdfc62877ae9102edf6342d71b28fbfd9dea3d2f96a882ce099b03f/Keras_Applications-1.0.8-py3-none-any.whl (50kB)\n",
            "\u001b[K     |████████████████████████████████| 51kB 6.9MB/s \n",
            "\u001b[?25hRequirement already satisfied: protobuf>=3.6.1 in /usr/local/lib/python3.6/dist-packages (from tensorflow==1.15) (3.12.4)\n",
            "Requirement already satisfied: wrapt>=1.11.1 in /usr/local/lib/python3.6/dist-packages (from tensorflow==1.15) (1.12.1)\n",
            "Requirement already satisfied: termcolor>=1.1.0 in /usr/local/lib/python3.6/dist-packages (from tensorflow==1.15) (1.1.0)\n",
            "Requirement already satisfied: absl-py>=0.7.0 in /usr/local/lib/python3.6/dist-packages (from tensorflow==1.15) (0.10.0)\n",
            "Requirement already satisfied: opt-einsum>=2.3.2 in /usr/local/lib/python3.6/dist-packages (from tensorflow==1.15) (3.3.0)\n",
            "Requirement already satisfied: six>=1.10.0 in /usr/local/lib/python3.6/dist-packages (from tensorflow==1.15) (1.15.0)\n",
            "Collecting tensorboard<1.16.0,>=1.15.0\n",
            "\u001b[?25l  Downloading https://files.pythonhosted.org/packages/1e/e9/d3d747a97f7188f48aa5eda486907f3b345cd409f0a0850468ba867db246/tensorboard-1.15.0-py3-none-any.whl (3.8MB)\n",
            "\u001b[K     |████████████████████████████████| 3.8MB 28.0MB/s \n",
            "\u001b[?25hRequirement already satisfied: keras-preprocessing>=1.0.5 in /usr/local/lib/python3.6/dist-packages (from tensorflow==1.15) (1.1.2)\n",
            "Requirement already satisfied: google-pasta>=0.1.6 in /usr/local/lib/python3.6/dist-packages (from tensorflow==1.15) (0.2.0)\n",
            "Requirement already satisfied: h5py in /usr/local/lib/python3.6/dist-packages (from keras-applications>=1.0.8->tensorflow==1.15) (2.10.0)\n",
            "Requirement already satisfied: setuptools in /usr/local/lib/python3.6/dist-packages (from protobuf>=3.6.1->tensorflow==1.15) (50.3.2)\n",
            "Requirement already satisfied: markdown>=2.6.8 in /usr/local/lib/python3.6/dist-packages (from tensorboard<1.16.0,>=1.15.0->tensorflow==1.15) (3.3.3)\n",
            "Requirement already satisfied: werkzeug>=0.11.15 in /usr/local/lib/python3.6/dist-packages (from tensorboard<1.16.0,>=1.15.0->tensorflow==1.15) (1.0.1)\n",
            "Requirement already satisfied: importlib-metadata; python_version < \"3.8\" in /usr/local/lib/python3.6/dist-packages (from markdown>=2.6.8->tensorboard<1.16.0,>=1.15.0->tensorflow==1.15) (3.3.0)\n",
            "Requirement already satisfied: zipp>=0.5 in /usr/local/lib/python3.6/dist-packages (from importlib-metadata; python_version < \"3.8\"->markdown>=2.6.8->tensorboard<1.16.0,>=1.15.0->tensorflow==1.15) (3.4.0)\n",
            "Requirement already satisfied: typing-extensions>=3.6.4; python_version < \"3.8\" in /usr/local/lib/python3.6/dist-packages (from importlib-metadata; python_version < \"3.8\"->markdown>=2.6.8->tensorboard<1.16.0,>=1.15.0->tensorflow==1.15) (3.7.4.3)\n",
            "Building wheels for collected packages: gast\n",
            "  Building wheel for gast (setup.py) ... \u001b[?25l\u001b[?25hdone\n",
            "  Created wheel for gast: filename=gast-0.2.2-cp36-none-any.whl size=7540 sha256=0a68d43a4e66d85a9ef8ab44adf6d3821eecf8e20d9f134270c1c9be350a99ce\n",
            "  Stored in directory: /root/.cache/pip/wheels/5c/2e/7e/a1d4d4fcebe6c381f378ce7743a3ced3699feb89bcfbdadadd\n",
            "Successfully built gast\n",
            "\u001b[31mERROR: tensorflow-probability 0.11.0 has requirement gast>=0.3.2, but you'll have gast 0.2.2 which is incompatible.\u001b[0m\n",
            "Installing collected packages: tensorflow-estimator, gast, keras-applications, tensorboard, tensorflow\n",
            "  Found existing installation: tensorflow-estimator 2.4.0\n",
            "    Uninstalling tensorflow-estimator-2.4.0:\n",
            "      Successfully uninstalled tensorflow-estimator-2.4.0\n",
            "  Found existing installation: gast 0.3.3\n",
            "    Uninstalling gast-0.3.3:\n",
            "      Successfully uninstalled gast-0.3.3\n",
            "  Found existing installation: tensorboard 2.4.0\n",
            "    Uninstalling tensorboard-2.4.0:\n",
            "      Successfully uninstalled tensorboard-2.4.0\n",
            "Successfully installed gast-0.2.2 keras-applications-1.0.8 tensorboard-1.15.0 tensorflow-1.15.0 tensorflow-estimator-1.15.1\n"
          ],
          "name": "stdout"
        }
      ]
    },
    {
      "cell_type": "code",
      "metadata": {
        "colab": {
          "base_uri": "https://localhost:8080/"
        },
        "id": "MCZ_rnvMHPlX",
        "outputId": "491d6414-26d2-4225-dedc-0fdfef82dc59"
      },
      "source": [
        "import tensorflow as tf\r\n",
        "from tensorflow.examples.tutorials.mnist import input_data\r\n",
        "import numpy as np\r\n",
        "from datetime import datetime\r\n",
        "\r\n",
        "mnist = input_data.read_data_sets(\"MNIST_data/\", one_hot=True)"
      ],
      "execution_count": 4,
      "outputs": [
        {
          "output_type": "stream",
          "text": [
            "WARNING:tensorflow:From <ipython-input-4-d52d511b2fc7>:6: read_data_sets (from tensorflow.contrib.learn.python.learn.datasets.mnist) is deprecated and will be removed in a future version.\n",
            "Instructions for updating:\n",
            "Please use alternatives such as official/mnist/dataset.py from tensorflow/models.\n",
            "WARNING:tensorflow:From /usr/local/lib/python3.6/dist-packages/tensorflow_core/contrib/learn/python/learn/datasets/mnist.py:260: maybe_download (from tensorflow.contrib.learn.python.learn.datasets.base) is deprecated and will be removed in a future version.\n",
            "Instructions for updating:\n",
            "Please write your own downloading logic.\n",
            "WARNING:tensorflow:From /usr/local/lib/python3.6/dist-packages/tensorflow_core/contrib/learn/python/learn/datasets/base.py:252: _internal_retry.<locals>.wrap.<locals>.wrapped_fn (from tensorflow.contrib.learn.python.learn.datasets.base) is deprecated and will be removed in a future version.\n",
            "Instructions for updating:\n",
            "Please use urllib or similar directly.\n",
            "Successfully downloaded train-images-idx3-ubyte.gz 9912422 bytes.\n",
            "WARNING:tensorflow:From /usr/local/lib/python3.6/dist-packages/tensorflow_core/contrib/learn/python/learn/datasets/mnist.py:262: extract_images (from tensorflow.contrib.learn.python.learn.datasets.mnist) is deprecated and will be removed in a future version.\n",
            "Instructions for updating:\n",
            "Please use tf.data to implement this functionality.\n",
            "Extracting MNIST_data/train-images-idx3-ubyte.gz\n",
            "Successfully downloaded train-labels-idx1-ubyte.gz 28881 bytes.\n",
            "WARNING:tensorflow:From /usr/local/lib/python3.6/dist-packages/tensorflow_core/contrib/learn/python/learn/datasets/mnist.py:267: extract_labels (from tensorflow.contrib.learn.python.learn.datasets.mnist) is deprecated and will be removed in a future version.\n",
            "Instructions for updating:\n",
            "Please use tf.data to implement this functionality.\n",
            "Extracting MNIST_data/train-labels-idx1-ubyte.gz\n",
            "WARNING:tensorflow:From /usr/local/lib/python3.6/dist-packages/tensorflow_core/contrib/learn/python/learn/datasets/mnist.py:110: dense_to_one_hot (from tensorflow.contrib.learn.python.learn.datasets.mnist) is deprecated and will be removed in a future version.\n",
            "Instructions for updating:\n",
            "Please use tf.one_hot on tensors.\n",
            "Successfully downloaded t10k-images-idx3-ubyte.gz 1648877 bytes.\n",
            "Extracting MNIST_data/t10k-images-idx3-ubyte.gz\n",
            "Successfully downloaded t10k-labels-idx1-ubyte.gz 4542 bytes.\n",
            "Extracting MNIST_data/t10k-labels-idx1-ubyte.gz\n",
            "WARNING:tensorflow:From /usr/local/lib/python3.6/dist-packages/tensorflow_core/contrib/learn/python/learn/datasets/mnist.py:290: DataSet.__init__ (from tensorflow.contrib.learn.python.learn.datasets.mnist) is deprecated and will be removed in a future version.\n",
            "Instructions for updating:\n",
            "Please use alternatives such as official/mnist/dataset.py from tensorflow/models.\n"
          ],
          "name": "stdout"
        }
      ]
    },
    {
      "cell_type": "code",
      "metadata": {
        "id": "5ROXF_x4Hqoo"
      },
      "source": [
        "i_nodes = mnist.train.images.shape[1]\r\n",
        "o_nodes = mnist.train.labels.shape[1]\r\n",
        "\r\n",
        "#hyper_parameter\r\n",
        "\r\n",
        "learning_rate = 0.001\r\n",
        "epochs = 30\r\n",
        "batch_size = 100\r\n",
        "\r\n",
        "X = tf.placeholder(tf.float32, [None, i_nodes])\r\n",
        "T = tf.placeholder(tf.float32, [None,o_nodes])\r\n",
        "\r\n",
        "A1 = tf.reshape(X,[-1,28,28,1])\r\n",
        "\r\n",
        "#3X3X32 Filter\r\n",
        "W2 = tf.Variable(tf.random_normal([3,3,1,32], stddev=0.01))\r\n",
        "b2 = tf.Variable(tf.random_normal([32]))\r\n",
        "\r\n",
        "#28X28X32\r\n",
        "C2 = tf.nn.conv2d(A1, W2, strides=[1,1,1,1], padding='SAME')\r\n",
        "\r\n",
        "Z2 = tf.nn.relu(C2+b2)\r\n",
        "#14X14X32\r\n",
        "A2 = tf.nn.max_pool(Z2, ksize=[1,2,2,1], strides=[1,2,2,1], padding='SAME')\r\n",
        "\r\n",
        "A2_flat = tf.reshape(A2,[-1,14*14*32])"
      ],
      "execution_count": 7,
      "outputs": []
    },
    {
      "cell_type": "code",
      "metadata": {
        "id": "nHk0hgdxI2tD"
      },
      "source": [
        "W3 = tf.Variable(tf.random_normal([14*14*32, 10], stddev=0.01))\r\n",
        "b3 = tf.Variable(tf.random_normal([10]))\r\n",
        "\r\n",
        "Z3 = tf.matmul(A2_flat,W3) + b3\r\n",
        "\r\n",
        "y = tf.nn.softmax(Z3)"
      ],
      "execution_count": 8,
      "outputs": []
    },
    {
      "cell_type": "code",
      "metadata": {
        "id": "4DMYRYY_KJ4V"
      },
      "source": [
        "loss = tf.reduce_mean(tf.nn.softmax_cross_entropy_with_logits_v2(logits=Z3, labels=T))\r\n",
        "\r\n",
        "optimizer = tf.train.GradientDescentOptimizer(learning_rate)\r\n",
        "\r\n",
        "train = optimizer.minimize(loss)"
      ],
      "execution_count": 9,
      "outputs": []
    },
    {
      "cell_type": "code",
      "metadata": {
        "id": "A-iNp_foKbBK"
      },
      "source": [
        "predicted_val = tf.cast(tf.equal(tf.argmax(y,1), tf.argmax(T,1)), dtype=tf.float32)\r\n",
        "\r\n",
        "accuracy = tf.reduce_mean(predicted_val)"
      ],
      "execution_count": 11,
      "outputs": []
    },
    {
      "cell_type": "code",
      "metadata": {
        "colab": {
          "base_uri": "https://localhost:8080/"
        },
        "id": "rBPh803MJPfa",
        "outputId": "3c6c8390-ba27-4035-cd6b-387031636c7d"
      },
      "source": [
        "with tf.Session() as sess:\r\n",
        "\r\n",
        "    sess.run(tf.global_variables_initializer())\r\n",
        "\r\n",
        "    start_time = datetime.now()\r\n",
        "\r\n",
        "    for i in range(epochs):\r\n",
        "\r\n",
        "        total_batch = int(mnist.train.num_examples / batch_size)\r\n",
        "\r\n",
        "        for step in range(total_batch):\r\n",
        "\r\n",
        "            batch_x_data, batch_t_data = mnist.train.next_batch(batch_size)\r\n",
        "\r\n",
        "            loss_val, _ = sess.run([loss, train], feed_dict={X: batch_x_data, T: batch_t_data})\r\n",
        "\r\n",
        "            if step % 100 == 0:\r\n",
        "                print(\"epochs = \", i, \", step = \", step, \", loss value = \", loss_val)\r\n",
        "\r\n",
        "    end_time = datetime.now()\r\n",
        "\r\n",
        "    print(\"\\nElapsed time = \", end_time - start_time)\r\n",
        "\r\n",
        "    test_x_data = mnist.test.images\r\n",
        "    test_t_data = mnist.test.labels\r\n",
        "\r\n",
        "    accuracy = sess.run([accuracy], feed_dict={X: test_x_data, T: test_t_data})\r\n",
        "\r\n",
        "    print(\"\\nAccuracy = \", accuracy)"
      ],
      "execution_count": 13,
      "outputs": [
        {
          "output_type": "stream",
          "text": [
            "epochs =  0 , step =  0 , loss value =  2.5925736\n",
            "epochs =  0 , step =  100 , loss value =  2.327152\n",
            "epochs =  0 , step =  200 , loss value =  2.292482\n",
            "epochs =  0 , step =  300 , loss value =  2.31831\n",
            "epochs =  0 , step =  400 , loss value =  2.3109553\n",
            "epochs =  0 , step =  500 , loss value =  2.3239012\n",
            "epochs =  1 , step =  0 , loss value =  2.3017833\n",
            "epochs =  1 , step =  100 , loss value =  2.3124652\n",
            "epochs =  1 , step =  200 , loss value =  2.3007586\n",
            "epochs =  1 , step =  300 , loss value =  2.2951748\n",
            "epochs =  1 , step =  400 , loss value =  2.2995543\n",
            "epochs =  1 , step =  500 , loss value =  2.2763183\n",
            "epochs =  2 , step =  0 , loss value =  2.2615669\n",
            "epochs =  2 , step =  100 , loss value =  2.257433\n",
            "epochs =  2 , step =  200 , loss value =  2.2436428\n",
            "epochs =  2 , step =  300 , loss value =  2.195619\n",
            "epochs =  2 , step =  400 , loss value =  2.187637\n",
            "epochs =  2 , step =  500 , loss value =  2.163835\n",
            "epochs =  3 , step =  0 , loss value =  2.1646285\n",
            "epochs =  3 , step =  100 , loss value =  2.0463657\n",
            "epochs =  3 , step =  200 , loss value =  2.0298738\n",
            "epochs =  3 , step =  300 , loss value =  1.9195017\n",
            "epochs =  3 , step =  400 , loss value =  1.8154044\n",
            "epochs =  3 , step =  500 , loss value =  1.6545792\n",
            "epochs =  4 , step =  0 , loss value =  1.6651046\n",
            "epochs =  4 , step =  100 , loss value =  1.4492248\n",
            "epochs =  4 , step =  200 , loss value =  1.4833915\n",
            "epochs =  4 , step =  300 , loss value =  1.197017\n",
            "epochs =  4 , step =  400 , loss value =  1.1737021\n",
            "epochs =  4 , step =  500 , loss value =  0.96742594\n",
            "epochs =  5 , step =  0 , loss value =  1.0040678\n",
            "epochs =  5 , step =  100 , loss value =  0.87262404\n",
            "epochs =  5 , step =  200 , loss value =  0.77460563\n",
            "epochs =  5 , step =  300 , loss value =  0.8057756\n",
            "epochs =  5 , step =  400 , loss value =  0.8241258\n",
            "epochs =  5 , step =  500 , loss value =  0.714442\n",
            "epochs =  6 , step =  0 , loss value =  0.7308157\n",
            "epochs =  6 , step =  100 , loss value =  0.62640905\n",
            "epochs =  6 , step =  200 , loss value =  0.742602\n",
            "epochs =  6 , step =  300 , loss value =  0.60048234\n",
            "epochs =  6 , step =  400 , loss value =  0.5612904\n",
            "epochs =  6 , step =  500 , loss value =  0.5717027\n",
            "epochs =  7 , step =  0 , loss value =  0.5984837\n",
            "epochs =  7 , step =  100 , loss value =  0.5047672\n",
            "epochs =  7 , step =  200 , loss value =  0.6154676\n",
            "epochs =  7 , step =  300 , loss value =  0.6824289\n",
            "epochs =  7 , step =  400 , loss value =  0.54040873\n",
            "epochs =  7 , step =  500 , loss value =  0.6194655\n",
            "epochs =  8 , step =  0 , loss value =  0.5793871\n",
            "epochs =  8 , step =  100 , loss value =  0.49225163\n",
            "epochs =  8 , step =  200 , loss value =  0.52059835\n",
            "epochs =  8 , step =  300 , loss value =  0.69010043\n",
            "epochs =  8 , step =  400 , loss value =  0.43062347\n",
            "epochs =  8 , step =  500 , loss value =  0.47687247\n",
            "epochs =  9 , step =  0 , loss value =  0.4980549\n",
            "epochs =  9 , step =  100 , loss value =  0.6313063\n",
            "epochs =  9 , step =  200 , loss value =  0.53387415\n",
            "epochs =  9 , step =  300 , loss value =  0.40735123\n",
            "epochs =  9 , step =  400 , loss value =  0.4282152\n",
            "epochs =  9 , step =  500 , loss value =  0.45903623\n",
            "epochs =  10 , step =  0 , loss value =  0.39380524\n",
            "epochs =  10 , step =  100 , loss value =  0.44339257\n",
            "epochs =  10 , step =  200 , loss value =  0.29019326\n",
            "epochs =  10 , step =  300 , loss value =  0.43867382\n",
            "epochs =  10 , step =  400 , loss value =  0.5268086\n",
            "epochs =  10 , step =  500 , loss value =  0.41332614\n",
            "epochs =  11 , step =  0 , loss value =  0.32183993\n",
            "epochs =  11 , step =  100 , loss value =  0.43741605\n",
            "epochs =  11 , step =  200 , loss value =  0.47365928\n",
            "epochs =  11 , step =  300 , loss value =  0.3535906\n",
            "epochs =  11 , step =  400 , loss value =  0.29454032\n",
            "epochs =  11 , step =  500 , loss value =  0.35288495\n",
            "epochs =  12 , step =  0 , loss value =  0.4488764\n",
            "epochs =  12 , step =  100 , loss value =  0.38160056\n",
            "epochs =  12 , step =  200 , loss value =  0.36342612\n",
            "epochs =  12 , step =  300 , loss value =  0.38116246\n",
            "epochs =  12 , step =  400 , loss value =  0.40768996\n",
            "epochs =  12 , step =  500 , loss value =  0.35123277\n",
            "epochs =  13 , step =  0 , loss value =  0.39900962\n",
            "epochs =  13 , step =  100 , loss value =  0.38289392\n",
            "epochs =  13 , step =  200 , loss value =  0.38562262\n",
            "epochs =  13 , step =  300 , loss value =  0.5742044\n",
            "epochs =  13 , step =  400 , loss value =  0.45970494\n",
            "epochs =  13 , step =  500 , loss value =  0.3240505\n",
            "epochs =  14 , step =  0 , loss value =  0.28181204\n",
            "epochs =  14 , step =  100 , loss value =  0.38473377\n",
            "epochs =  14 , step =  200 , loss value =  0.2452881\n",
            "epochs =  14 , step =  300 , loss value =  0.47187313\n",
            "epochs =  14 , step =  400 , loss value =  0.3858298\n",
            "epochs =  14 , step =  500 , loss value =  0.36009145\n",
            "epochs =  15 , step =  0 , loss value =  0.25048074\n",
            "epochs =  15 , step =  100 , loss value =  0.41587785\n",
            "epochs =  15 , step =  200 , loss value =  0.3867223\n",
            "epochs =  15 , step =  300 , loss value =  0.41486457\n",
            "epochs =  15 , step =  400 , loss value =  0.44139466\n",
            "epochs =  15 , step =  500 , loss value =  0.47991917\n",
            "epochs =  16 , step =  0 , loss value =  0.4236987\n",
            "epochs =  16 , step =  100 , loss value =  0.27901894\n",
            "epochs =  16 , step =  200 , loss value =  0.2865654\n",
            "epochs =  16 , step =  300 , loss value =  0.47280276\n",
            "epochs =  16 , step =  400 , loss value =  0.32682258\n",
            "epochs =  16 , step =  500 , loss value =  0.27513137\n",
            "epochs =  17 , step =  0 , loss value =  0.2976846\n",
            "epochs =  17 , step =  100 , loss value =  0.40706262\n",
            "epochs =  17 , step =  200 , loss value =  0.27325848\n",
            "epochs =  17 , step =  300 , loss value =  0.26819506\n",
            "epochs =  17 , step =  400 , loss value =  0.4767884\n",
            "epochs =  17 , step =  500 , loss value =  0.5269778\n",
            "epochs =  18 , step =  0 , loss value =  0.45407203\n",
            "epochs =  18 , step =  100 , loss value =  0.4180204\n",
            "epochs =  18 , step =  200 , loss value =  0.33721933\n",
            "epochs =  18 , step =  300 , loss value =  0.3642488\n",
            "epochs =  18 , step =  400 , loss value =  0.46909845\n",
            "epochs =  18 , step =  500 , loss value =  0.33785722\n",
            "epochs =  19 , step =  0 , loss value =  0.28491688\n",
            "epochs =  19 , step =  100 , loss value =  0.30322444\n",
            "epochs =  19 , step =  200 , loss value =  0.47423282\n",
            "epochs =  19 , step =  300 , loss value =  0.5985736\n",
            "epochs =  19 , step =  400 , loss value =  0.34250098\n",
            "epochs =  19 , step =  500 , loss value =  0.37793386\n",
            "epochs =  20 , step =  0 , loss value =  0.43672082\n",
            "epochs =  20 , step =  100 , loss value =  0.42061245\n",
            "epochs =  20 , step =  200 , loss value =  0.45111248\n",
            "epochs =  20 , step =  300 , loss value =  0.33932656\n",
            "epochs =  20 , step =  400 , loss value =  0.37683132\n",
            "epochs =  20 , step =  500 , loss value =  0.40648526\n",
            "epochs =  21 , step =  0 , loss value =  0.271203\n",
            "epochs =  21 , step =  100 , loss value =  0.36940938\n",
            "epochs =  21 , step =  200 , loss value =  0.23567116\n",
            "epochs =  21 , step =  300 , loss value =  0.3642202\n",
            "epochs =  21 , step =  400 , loss value =  0.24009812\n",
            "epochs =  21 , step =  500 , loss value =  0.34812114\n",
            "epochs =  22 , step =  0 , loss value =  0.37749967\n",
            "epochs =  22 , step =  100 , loss value =  0.3761398\n",
            "epochs =  22 , step =  200 , loss value =  0.31177527\n",
            "epochs =  22 , step =  300 , loss value =  0.36215237\n",
            "epochs =  22 , step =  400 , loss value =  0.35660526\n",
            "epochs =  22 , step =  500 , loss value =  0.53710216\n",
            "epochs =  23 , step =  0 , loss value =  0.22112074\n",
            "epochs =  23 , step =  100 , loss value =  0.2649326\n",
            "epochs =  23 , step =  200 , loss value =  0.43756565\n",
            "epochs =  23 , step =  300 , loss value =  0.28724647\n",
            "epochs =  23 , step =  400 , loss value =  0.46458665\n",
            "epochs =  23 , step =  500 , loss value =  0.38324645\n",
            "epochs =  24 , step =  0 , loss value =  0.4082505\n",
            "epochs =  24 , step =  100 , loss value =  0.43500912\n",
            "epochs =  24 , step =  200 , loss value =  0.31364137\n",
            "epochs =  24 , step =  300 , loss value =  0.5670575\n",
            "epochs =  24 , step =  400 , loss value =  0.29731408\n",
            "epochs =  24 , step =  500 , loss value =  0.45797974\n",
            "epochs =  25 , step =  0 , loss value =  0.37154377\n",
            "epochs =  25 , step =  100 , loss value =  0.29104602\n",
            "epochs =  25 , step =  200 , loss value =  0.34228528\n",
            "epochs =  25 , step =  300 , loss value =  0.52338934\n",
            "epochs =  25 , step =  400 , loss value =  0.38251755\n",
            "epochs =  25 , step =  500 , loss value =  0.42347023\n",
            "epochs =  26 , step =  0 , loss value =  0.41615954\n",
            "epochs =  26 , step =  100 , loss value =  0.29757088\n",
            "epochs =  26 , step =  200 , loss value =  0.27805394\n",
            "epochs =  26 , step =  300 , loss value =  0.40935585\n",
            "epochs =  26 , step =  400 , loss value =  0.3416493\n",
            "epochs =  26 , step =  500 , loss value =  0.17185646\n",
            "epochs =  27 , step =  0 , loss value =  0.46026856\n",
            "epochs =  27 , step =  100 , loss value =  0.2622384\n",
            "epochs =  27 , step =  200 , loss value =  0.27293468\n",
            "epochs =  27 , step =  300 , loss value =  0.29164392\n",
            "epochs =  27 , step =  400 , loss value =  0.42899406\n",
            "epochs =  27 , step =  500 , loss value =  0.37550548\n",
            "epochs =  28 , step =  0 , loss value =  0.43674684\n",
            "epochs =  28 , step =  100 , loss value =  0.34022716\n",
            "epochs =  28 , step =  200 , loss value =  0.3968371\n",
            "epochs =  28 , step =  300 , loss value =  0.30625007\n",
            "epochs =  28 , step =  400 , loss value =  0.29923797\n",
            "epochs =  28 , step =  500 , loss value =  0.38306087\n",
            "epochs =  29 , step =  0 , loss value =  0.3916433\n",
            "epochs =  29 , step =  100 , loss value =  0.42715114\n",
            "epochs =  29 , step =  200 , loss value =  0.47258145\n",
            "epochs =  29 , step =  300 , loss value =  0.28837302\n",
            "epochs =  29 , step =  400 , loss value =  0.5609092\n",
            "epochs =  29 , step =  500 , loss value =  0.44063914\n",
            "\n",
            "Elapsed time =  0:10:37.962031\n",
            "\n",
            "Accuracy =  [0.9082]\n"
          ],
          "name": "stdout"
        }
      ]
    },
    {
      "cell_type": "code",
      "metadata": {
        "id": "dnjsypTXK-2V"
      },
      "source": [
        ""
      ],
      "execution_count": null,
      "outputs": []
    }
  ]
}