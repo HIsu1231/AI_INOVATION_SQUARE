{
  "nbformat": 4,
  "nbformat_minor": 0,
  "metadata": {
    "colab": {
      "name": "2conv/1flattern_2.ipynb",
      "provenance": [],
      "authorship_tag": "ABX9TyNb4VFcfsCAdV2wUAnu4DoC",
      "include_colab_link": true
    },
    "kernelspec": {
      "name": "python3",
      "display_name": "Python 3"
    },
    "accelerator": "GPU"
  },
  "cells": [
    {
      "cell_type": "markdown",
      "metadata": {
        "id": "view-in-github",
        "colab_type": "text"
      },
      "source": [
        "<a href=\"https://colab.research.google.com/github/HIsu1231/AI_INOVATION_SQUARE/blob/master/2conv_1flattern_2.ipynb\" target=\"_parent\"><img src=\"https://colab.research.google.com/assets/colab-badge.svg\" alt=\"Open In Colab\"/></a>"
      ]
    },
    {
      "cell_type": "code",
      "metadata": {
        "colab": {
          "base_uri": "https://localhost:8080/"
        },
        "id": "v14H3wmxpT_c",
        "outputId": "8a1a06d8-fce7-49a8-8fe2-47aebb4b664c"
      },
      "source": [
        "%tensorflow_version 1.x"
      ],
      "execution_count": 1,
      "outputs": [
        {
          "output_type": "stream",
          "text": [
            "TensorFlow 1.x selected.\n"
          ],
          "name": "stdout"
        }
      ]
    },
    {
      "cell_type": "code",
      "metadata": {
        "colab": {
          "base_uri": "https://localhost:8080/"
        },
        "id": "ShlyomwpMyZi",
        "outputId": "8a4de41b-c09a-448b-f031-5c344cf35ea7"
      },
      "source": [
        "import tensorflow as tf\r\n",
        "from tensorflow.examples.tutorials.mnist import input_data\r\n",
        "import numpy as np\r\n",
        "from datetime import datetime\r\n",
        "\r\n",
        "mnist = input_data.read_data_sets(\"MNIST_data/\", one_hot=True)"
      ],
      "execution_count": 2,
      "outputs": [
        {
          "output_type": "stream",
          "text": [
            "WARNING:tensorflow:From <ipython-input-2-d52d511b2fc7>:6: read_data_sets (from tensorflow.contrib.learn.python.learn.datasets.mnist) is deprecated and will be removed in a future version.\n",
            "Instructions for updating:\n",
            "Please use alternatives such as official/mnist/dataset.py from tensorflow/models.\n",
            "WARNING:tensorflow:From /tensorflow-1.15.2/python3.6/tensorflow_core/contrib/learn/python/learn/datasets/mnist.py:260: maybe_download (from tensorflow.contrib.learn.python.learn.datasets.base) is deprecated and will be removed in a future version.\n",
            "Instructions for updating:\n",
            "Please write your own downloading logic.\n",
            "WARNING:tensorflow:From /tensorflow-1.15.2/python3.6/tensorflow_core/contrib/learn/python/learn/datasets/base.py:252: _internal_retry.<locals>.wrap.<locals>.wrapped_fn (from tensorflow.contrib.learn.python.learn.datasets.base) is deprecated and will be removed in a future version.\n",
            "Instructions for updating:\n",
            "Please use urllib or similar directly.\n",
            "Successfully downloaded train-images-idx3-ubyte.gz 9912422 bytes.\n",
            "WARNING:tensorflow:From /tensorflow-1.15.2/python3.6/tensorflow_core/contrib/learn/python/learn/datasets/mnist.py:262: extract_images (from tensorflow.contrib.learn.python.learn.datasets.mnist) is deprecated and will be removed in a future version.\n",
            "Instructions for updating:\n",
            "Please use tf.data to implement this functionality.\n",
            "Extracting MNIST_data/train-images-idx3-ubyte.gz\n",
            "Successfully downloaded train-labels-idx1-ubyte.gz 28881 bytes.\n",
            "WARNING:tensorflow:From /tensorflow-1.15.2/python3.6/tensorflow_core/contrib/learn/python/learn/datasets/mnist.py:267: extract_labels (from tensorflow.contrib.learn.python.learn.datasets.mnist) is deprecated and will be removed in a future version.\n",
            "Instructions for updating:\n",
            "Please use tf.data to implement this functionality.\n",
            "Extracting MNIST_data/train-labels-idx1-ubyte.gz\n",
            "WARNING:tensorflow:From /tensorflow-1.15.2/python3.6/tensorflow_core/contrib/learn/python/learn/datasets/mnist.py:110: dense_to_one_hot (from tensorflow.contrib.learn.python.learn.datasets.mnist) is deprecated and will be removed in a future version.\n",
            "Instructions for updating:\n",
            "Please use tf.one_hot on tensors.\n",
            "Successfully downloaded t10k-images-idx3-ubyte.gz 1648877 bytes.\n",
            "Extracting MNIST_data/t10k-images-idx3-ubyte.gz\n",
            "Successfully downloaded t10k-labels-idx1-ubyte.gz 4542 bytes.\n",
            "Extracting MNIST_data/t10k-labels-idx1-ubyte.gz\n",
            "WARNING:tensorflow:From /tensorflow-1.15.2/python3.6/tensorflow_core/contrib/learn/python/learn/datasets/mnist.py:290: DataSet.__init__ (from tensorflow.contrib.learn.python.learn.datasets.mnist) is deprecated and will be removed in a future version.\n",
            "Instructions for updating:\n",
            "Please use alternatives such as official/mnist/dataset.py from tensorflow/models.\n"
          ],
          "name": "stdout"
        }
      ]
    },
    {
      "cell_type": "code",
      "metadata": {
        "id": "A2v5kmK2NGJb"
      },
      "source": [
        "i_nodes = mnist.train.images.shape[1]\r\n",
        "o_nodes = mnist.train.labels.shape[1]\r\n",
        "\r\n",
        "#hyper_parameter\r\n",
        "learning_rate = 0.001\r\n",
        "epochs = 30\r\n",
        "batch_size = 100"
      ],
      "execution_count": 3,
      "outputs": []
    },
    {
      "cell_type": "code",
      "metadata": {
        "id": "jj68_JcpNbZv"
      },
      "source": [
        "X = tf.placeholder(tf.float32, [None,i_nodes])\r\n",
        "T = tf.placeholder(tf.float32, [None,o_nodes])\r\n",
        "\r\n",
        "#28X28X1\r\n",
        "A1 = tf.reshape(X, [-1,28,28,1])"
      ],
      "execution_count": 4,
      "outputs": []
    },
    {
      "cell_type": "code",
      "metadata": {
        "id": "EBECmasPNkIW"
      },
      "source": [
        "#3X3X32 Filter\r\n",
        "W2 = tf.Variable(tf.random_normal([3,3,1,32], stddev=0.01))\r\n",
        "b2 = tf.Variable(tf.random_normal([32]))\r\n",
        "\r\n",
        "#28X28X32\r\n",
        "C2 = tf.nn.conv2d(A1, W2, strides=[1,1,1,1], padding='SAME')\r\n",
        "\r\n",
        "Z2 = tf.nn.relu(C2+b2)\r\n",
        "\r\n",
        "#14X14X32\r\n",
        "A2 = tf.nn.max_pool(Z2, ksize=[1,2,2,1], strides=[1,2,2,1], padding='SAME')"
      ],
      "execution_count": 5,
      "outputs": []
    },
    {
      "cell_type": "code",
      "metadata": {
        "id": "KqLYZD4pOZib"
      },
      "source": [
        "#4X4X64 Filter\r\n",
        "W3 = tf.Variable(tf.random_normal([4,4,32,64], stddev=0.01))\r\n",
        "b3 = tf.Variable(tf.random_normal([64]))\r\n",
        "\r\n",
        "#14X14X64\r\n",
        "C3 = tf.nn.conv2d(A2, W3, strides=[1,1,1,1], padding='SAME')\r\n",
        "\r\n",
        "Z3 = tf.nn.relu(C3+b3)\r\n",
        "\r\n",
        "#7X7X64\r\n",
        "A3 = tf.nn.max_pool(Z3, ksize=[1,2,2,1], strides=[1,2,2,1], padding='SAME')"
      ],
      "execution_count": 6,
      "outputs": []
    },
    {
      "cell_type": "code",
      "metadata": {
        "id": "R7rs-pPuO6TQ"
      },
      "source": [
        "A3_flat = tf.reshape(A3, [-1, 7*7*64])\r\n",
        "\r\n",
        "W4 = tf.Variable(tf.random_normal([7*7*64,10], stddev=0.01))\r\n",
        "b4 = tf.Variable(tf.random_normal([10]))\r\n",
        "\r\n",
        "Z4 = tf.matmul(A3_flat,W4) + b4\r\n",
        "\r\n",
        "y = tf.nn.softmax(Z4)"
      ],
      "execution_count": 7,
      "outputs": []
    },
    {
      "cell_type": "code",
      "metadata": {
        "id": "IaJQjhFQPVeF"
      },
      "source": [
        "loss = tf.reduce_mean(tf.nn.softmax_cross_entropy_with_logits_v2(labels=T, logits=Z4))\r\n",
        "\r\n",
        "optimizer = tf.train.AdamOptimizer(learning_rate)\r\n",
        "\r\n",
        "train = optimizer.minimize(loss)"
      ],
      "execution_count": 8,
      "outputs": []
    },
    {
      "cell_type": "code",
      "metadata": {
        "id": "mYg7pWpSQIXo"
      },
      "source": [
        "predicted_val = tf.argmax(y,1) #예상 값 저장\r\n",
        "\r\n",
        "accuracy_list = tf.cast(tf.equal(tf.argmax(y,1), tf.argmax(T,1)), dtype=tf.float32)  #비교 값 0 or 1로 표현\r\n",
        "\r\n",
        "accuracy = tf.reduce_mean(accuracy_list) #정확도 저장"
      ],
      "execution_count": 9,
      "outputs": []
    },
    {
      "cell_type": "code",
      "metadata": {
        "colab": {
          "base_uri": "https://localhost:8080/"
        },
        "id": "79aZBJpKQ4DB",
        "outputId": "916c3421-31b7-4c78-da93-519d6b56541d"
      },
      "source": [
        "index_label_prediction_list = []\r\n",
        "\r\n",
        "with tf.Session() as sess:\r\n",
        "\r\n",
        "    sess.run(tf.global_variables_initializer())\r\n",
        "\r\n",
        "    start_time = datetime.now()\r\n",
        "\r\n",
        "    for i in range(epochs):\r\n",
        "\r\n",
        "        total_batch = int(mnist.train.num_examples / batch_size)\r\n",
        "\r\n",
        "        for step in range(total_batch):\r\n",
        "\r\n",
        "            batch_x_data, batch_t_data = mnist.train.next_batch(batch_size)\r\n",
        "\r\n",
        "            loss_val, _ = sess.run([loss, train], feed_dict={X: batch_x_data, T: batch_t_data})\r\n",
        "\r\n",
        "            if step % 100 == 0:\r\n",
        "\r\n",
        "                print(\"epochs = \", i+1, \", step = \", step, \", loss value = \", loss_val)\r\n",
        "\r\n",
        "    end_time = datetime.now()\r\n",
        "    print(\"\\nElapsed time = \", end_time - start_time)\r\n",
        "\r\n",
        "    temp_list = []\r\n",
        "\r\n",
        "    test_x_data = mnist.test.images\r\n",
        "    test_t_data = mnist.test.labels\r\n",
        "\r\n",
        "    accuracy_val, index_label, predicted_val_list = sess.run([accuracy, accuracy_list, predicted_val], feed_dict={X: test_x_data, T: test_t_data})\r\n",
        "\r\n",
        "    print(\"\\nAccuracy = \", accuracy_val)\r\n",
        "\r\n",
        "    for i in range(len(index_label)):\r\n",
        "\r\n",
        "        if index_label[i] == 0:\r\n",
        "            \r\n",
        "            temp_list.append(i)\r\n",
        "            temp_list.append(np.argmax(test_t_data[i]))\r\n",
        "            temp_list.append(predicted_val_list[i])\r\n",
        "\r\n",
        "            index_label_prediction_list.append(temp_list)\r\n",
        "\r\n",
        "            temp_list = []"
      ],
      "execution_count": 14,
      "outputs": [
        {
          "output_type": "stream",
          "text": [
            "epochs =  1 , step =  0 , loss value =  2.4748213\n",
            "epochs =  1 , step =  100 , loss value =  2.128204\n",
            "epochs =  1 , step =  200 , loss value =  0.45483327\n",
            "epochs =  1 , step =  300 , loss value =  0.39113724\n",
            "epochs =  1 , step =  400 , loss value =  0.34968498\n",
            "epochs =  1 , step =  500 , loss value =  0.34221882\n",
            "epochs =  2 , step =  0 , loss value =  0.20606312\n",
            "epochs =  2 , step =  100 , loss value =  0.22519515\n",
            "epochs =  2 , step =  200 , loss value =  0.09740227\n",
            "epochs =  2 , step =  300 , loss value =  0.063484594\n",
            "epochs =  2 , step =  400 , loss value =  0.26132417\n",
            "epochs =  2 , step =  500 , loss value =  0.24530259\n",
            "epochs =  3 , step =  0 , loss value =  0.066670254\n",
            "epochs =  3 , step =  100 , loss value =  0.06798753\n",
            "epochs =  3 , step =  200 , loss value =  0.12706469\n",
            "epochs =  3 , step =  300 , loss value =  0.13254963\n",
            "epochs =  3 , step =  400 , loss value =  0.070437804\n",
            "epochs =  3 , step =  500 , loss value =  0.12524416\n",
            "epochs =  4 , step =  0 , loss value =  0.06919532\n",
            "epochs =  4 , step =  100 , loss value =  0.13350031\n",
            "epochs =  4 , step =  200 , loss value =  0.12084811\n",
            "epochs =  4 , step =  300 , loss value =  0.079863235\n",
            "epochs =  4 , step =  400 , loss value =  0.20747887\n",
            "epochs =  4 , step =  500 , loss value =  0.3181258\n",
            "epochs =  5 , step =  0 , loss value =  0.12682314\n",
            "epochs =  5 , step =  100 , loss value =  0.10620804\n",
            "epochs =  5 , step =  200 , loss value =  0.058932886\n",
            "epochs =  5 , step =  300 , loss value =  0.112787545\n",
            "epochs =  5 , step =  400 , loss value =  0.059303805\n",
            "epochs =  5 , step =  500 , loss value =  0.14110239\n",
            "epochs =  6 , step =  0 , loss value =  0.09699378\n",
            "epochs =  6 , step =  100 , loss value =  0.096769065\n",
            "epochs =  6 , step =  200 , loss value =  0.079796344\n",
            "epochs =  6 , step =  300 , loss value =  0.06254149\n",
            "epochs =  6 , step =  400 , loss value =  0.038086247\n",
            "epochs =  6 , step =  500 , loss value =  0.07381319\n",
            "epochs =  7 , step =  0 , loss value =  0.020975037\n",
            "epochs =  7 , step =  100 , loss value =  0.055607297\n",
            "epochs =  7 , step =  200 , loss value =  0.06623102\n",
            "epochs =  7 , step =  300 , loss value =  0.04815165\n",
            "epochs =  7 , step =  400 , loss value =  0.047341704\n",
            "epochs =  7 , step =  500 , loss value =  0.11033129\n",
            "epochs =  8 , step =  0 , loss value =  0.15375406\n",
            "epochs =  8 , step =  100 , loss value =  0.027517183\n",
            "epochs =  8 , step =  200 , loss value =  0.057536058\n",
            "epochs =  8 , step =  300 , loss value =  0.017371576\n",
            "epochs =  8 , step =  400 , loss value =  0.04642425\n",
            "epochs =  8 , step =  500 , loss value =  0.13818432\n",
            "epochs =  9 , step =  0 , loss value =  0.048275456\n",
            "epochs =  9 , step =  100 , loss value =  0.042110104\n",
            "epochs =  9 , step =  200 , loss value =  0.027206676\n",
            "epochs =  9 , step =  300 , loss value =  0.13300326\n",
            "epochs =  9 , step =  400 , loss value =  0.054565325\n",
            "epochs =  9 , step =  500 , loss value =  0.04560608\n",
            "epochs =  10 , step =  0 , loss value =  0.02815405\n",
            "epochs =  10 , step =  100 , loss value =  0.00861028\n",
            "epochs =  10 , step =  200 , loss value =  0.11327744\n",
            "epochs =  10 , step =  300 , loss value =  0.035831414\n",
            "epochs =  10 , step =  400 , loss value =  0.06749014\n",
            "epochs =  10 , step =  500 , loss value =  0.014247376\n",
            "epochs =  11 , step =  0 , loss value =  0.053120952\n",
            "epochs =  11 , step =  100 , loss value =  0.05569259\n",
            "epochs =  11 , step =  200 , loss value =  0.071935974\n",
            "epochs =  11 , step =  300 , loss value =  0.071661636\n",
            "epochs =  11 , step =  400 , loss value =  0.03969351\n",
            "epochs =  11 , step =  500 , loss value =  0.068059385\n",
            "epochs =  12 , step =  0 , loss value =  0.08566697\n",
            "epochs =  12 , step =  100 , loss value =  0.011566911\n",
            "epochs =  12 , step =  200 , loss value =  0.020620033\n",
            "epochs =  12 , step =  300 , loss value =  0.09110416\n",
            "epochs =  12 , step =  400 , loss value =  0.063535176\n",
            "epochs =  12 , step =  500 , loss value =  0.022410749\n",
            "epochs =  13 , step =  0 , loss value =  0.054962453\n",
            "epochs =  13 , step =  100 , loss value =  0.028473865\n",
            "epochs =  13 , step =  200 , loss value =  0.046903506\n",
            "epochs =  13 , step =  300 , loss value =  0.0062808613\n",
            "epochs =  13 , step =  400 , loss value =  0.08577862\n",
            "epochs =  13 , step =  500 , loss value =  0.00521832\n",
            "epochs =  14 , step =  0 , loss value =  0.069511466\n",
            "epochs =  14 , step =  100 , loss value =  0.020409383\n",
            "epochs =  14 , step =  200 , loss value =  0.034218185\n",
            "epochs =  14 , step =  300 , loss value =  0.05156582\n",
            "epochs =  14 , step =  400 , loss value =  0.07639346\n",
            "epochs =  14 , step =  500 , loss value =  0.30964398\n",
            "epochs =  15 , step =  0 , loss value =  0.041119248\n",
            "epochs =  15 , step =  100 , loss value =  0.030235572\n",
            "epochs =  15 , step =  200 , loss value =  0.036386814\n",
            "epochs =  15 , step =  300 , loss value =  0.049581148\n",
            "epochs =  15 , step =  400 , loss value =  0.017619954\n",
            "epochs =  15 , step =  500 , loss value =  0.047489624\n",
            "epochs =  16 , step =  0 , loss value =  0.059938535\n",
            "epochs =  16 , step =  100 , loss value =  0.038483556\n",
            "epochs =  16 , step =  200 , loss value =  0.044633552\n",
            "epochs =  16 , step =  300 , loss value =  0.013012147\n",
            "epochs =  16 , step =  400 , loss value =  0.014976455\n",
            "epochs =  16 , step =  500 , loss value =  0.019638086\n",
            "epochs =  17 , step =  0 , loss value =  0.09203922\n",
            "epochs =  17 , step =  100 , loss value =  0.054152574\n",
            "epochs =  17 , step =  200 , loss value =  0.02855849\n",
            "epochs =  17 , step =  300 , loss value =  0.037932023\n",
            "epochs =  17 , step =  400 , loss value =  0.02356187\n",
            "epochs =  17 , step =  500 , loss value =  0.02980345\n",
            "epochs =  18 , step =  0 , loss value =  0.045427375\n",
            "epochs =  18 , step =  100 , loss value =  0.025391819\n",
            "epochs =  18 , step =  200 , loss value =  0.08172094\n",
            "epochs =  18 , step =  300 , loss value =  0.07465164\n",
            "epochs =  18 , step =  400 , loss value =  0.005766141\n",
            "epochs =  18 , step =  500 , loss value =  0.010651537\n",
            "epochs =  19 , step =  0 , loss value =  0.015493815\n",
            "epochs =  19 , step =  100 , loss value =  0.022829289\n",
            "epochs =  19 , step =  200 , loss value =  0.029090678\n",
            "epochs =  19 , step =  300 , loss value =  0.029659078\n",
            "epochs =  19 , step =  400 , loss value =  0.07520128\n",
            "epochs =  19 , step =  500 , loss value =  0.071983576\n",
            "epochs =  20 , step =  0 , loss value =  0.027367985\n",
            "epochs =  20 , step =  100 , loss value =  0.032655638\n",
            "epochs =  20 , step =  200 , loss value =  0.05335546\n",
            "epochs =  20 , step =  300 , loss value =  0.030698271\n",
            "epochs =  20 , step =  400 , loss value =  0.044590008\n",
            "epochs =  20 , step =  500 , loss value =  0.061368316\n",
            "epochs =  21 , step =  0 , loss value =  0.010339899\n",
            "epochs =  21 , step =  100 , loss value =  0.022041224\n",
            "epochs =  21 , step =  200 , loss value =  0.0017773607\n",
            "epochs =  21 , step =  300 , loss value =  0.02208276\n",
            "epochs =  21 , step =  400 , loss value =  0.07324591\n",
            "epochs =  21 , step =  500 , loss value =  0.020436227\n",
            "epochs =  22 , step =  0 , loss value =  0.009229979\n",
            "epochs =  22 , step =  100 , loss value =  0.036903445\n",
            "epochs =  22 , step =  200 , loss value =  0.014370891\n",
            "epochs =  22 , step =  300 , loss value =  0.04726212\n",
            "epochs =  22 , step =  400 , loss value =  0.01029537\n",
            "epochs =  22 , step =  500 , loss value =  0.054865565\n",
            "epochs =  23 , step =  0 , loss value =  0.005201708\n",
            "epochs =  23 , step =  100 , loss value =  0.0052894778\n",
            "epochs =  23 , step =  200 , loss value =  0.013142979\n",
            "epochs =  23 , step =  300 , loss value =  0.08809989\n",
            "epochs =  23 , step =  400 , loss value =  0.0061100572\n",
            "epochs =  23 , step =  500 , loss value =  0.038140014\n",
            "epochs =  24 , step =  0 , loss value =  0.020195294\n",
            "epochs =  24 , step =  100 , loss value =  0.0404762\n",
            "epochs =  24 , step =  200 , loss value =  0.01568766\n",
            "epochs =  24 , step =  300 , loss value =  0.01921757\n",
            "epochs =  24 , step =  400 , loss value =  0.032329105\n",
            "epochs =  24 , step =  500 , loss value =  0.0051344\n",
            "epochs =  25 , step =  0 , loss value =  0.035554025\n",
            "epochs =  25 , step =  100 , loss value =  0.0057438784\n",
            "epochs =  25 , step =  200 , loss value =  0.09333317\n",
            "epochs =  25 , step =  300 , loss value =  0.012050057\n",
            "epochs =  25 , step =  400 , loss value =  0.0062249405\n",
            "epochs =  25 , step =  500 , loss value =  0.066642135\n",
            "epochs =  26 , step =  0 , loss value =  0.06471522\n",
            "epochs =  26 , step =  100 , loss value =  0.171803\n",
            "epochs =  26 , step =  200 , loss value =  0.019780595\n",
            "epochs =  26 , step =  300 , loss value =  0.02009796\n",
            "epochs =  26 , step =  400 , loss value =  0.03421696\n",
            "epochs =  26 , step =  500 , loss value =  0.0068646073\n",
            "epochs =  27 , step =  0 , loss value =  0.002751618\n",
            "epochs =  27 , step =  100 , loss value =  0.013264669\n",
            "epochs =  27 , step =  200 , loss value =  0.0014186354\n",
            "epochs =  27 , step =  300 , loss value =  0.022408247\n",
            "epochs =  27 , step =  400 , loss value =  0.10937656\n",
            "epochs =  27 , step =  500 , loss value =  0.018272698\n",
            "epochs =  28 , step =  0 , loss value =  0.027128983\n",
            "epochs =  28 , step =  100 , loss value =  0.012083319\n",
            "epochs =  28 , step =  200 , loss value =  0.00076431944\n",
            "epochs =  28 , step =  300 , loss value =  0.031533\n",
            "epochs =  28 , step =  400 , loss value =  0.004525253\n",
            "epochs =  28 , step =  500 , loss value =  0.035078038\n",
            "epochs =  29 , step =  0 , loss value =  0.030474605\n",
            "epochs =  29 , step =  100 , loss value =  0.030776614\n",
            "epochs =  29 , step =  200 , loss value =  0.009573573\n",
            "epochs =  29 , step =  300 , loss value =  0.040466815\n",
            "epochs =  29 , step =  400 , loss value =  0.03977348\n",
            "epochs =  29 , step =  500 , loss value =  0.0074437414\n",
            "epochs =  30 , step =  0 , loss value =  0.01874544\n",
            "epochs =  30 , step =  100 , loss value =  0.017254176\n",
            "epochs =  30 , step =  200 , loss value =  0.037769187\n",
            "epochs =  30 , step =  300 , loss value =  0.03621456\n",
            "epochs =  30 , step =  400 , loss value =  0.042472314\n",
            "epochs =  30 , step =  500 , loss value =  0.022327151\n",
            "\n",
            "Elapsed time =  0:00:55.961447\n",
            "\n",
            "Accuracy =  0.9822\n"
          ],
          "name": "stdout"
        }
      ]
    },
    {
      "cell_type": "code",
      "metadata": {
        "colab": {
          "base_uri": "https://localhost:8080/"
        },
        "id": "RPlWyR2HVBCs",
        "outputId": "8d145f3c-f7c3-4152-ea16-9c660fa760ad"
      },
      "source": [
        "print(index_label_prediction_list)"
      ],
      "execution_count": 15,
      "outputs": [
        {
          "output_type": "stream",
          "text": [
            "[[18, 3, 8], [115, 4, 9], [158, 3, 2], [259, 6, 0], [321, 2, 7], [326, 2, 1], [340, 5, 3], [358, 7, 4], [445, 6, 0], [571, 4, 9], [582, 8, 2], [583, 2, 7], [613, 2, 8], [619, 1, 8], [659, 2, 1], [720, 5, 8], [740, 4, 9], [813, 9, 8], [846, 7, 9], [882, 9, 7], [939, 2, 0], [947, 8, 9], [1014, 6, 0], [1039, 7, 2], [1181, 6, 1], [1182, 6, 5], [1226, 7, 2], [1232, 9, 4], [1242, 4, 9], [1247, 9, 5], [1263, 4, 9], [1272, 5, 4], [1289, 5, 9], [1319, 8, 0], [1349, 2, 3], [1522, 7, 9], [1621, 0, 6], [1709, 9, 5], [1721, 7, 9], [1751, 4, 1], [1790, 2, 7], [1800, 6, 4], [1878, 8, 3], [1901, 9, 4], [1982, 6, 8], [2024, 7, 9], [2053, 4, 9], [2098, 2, 0], [2118, 6, 0], [2130, 4, 9], [2135, 6, 1], [2266, 1, 4], [2291, 5, 3], [2329, 0, 2], [2369, 5, 3], [2387, 9, 1], [2462, 2, 0], [2476, 5, 8], [2488, 2, 4], [2514, 4, 9], [2597, 5, 3], [2630, 4, 9], [2654, 6, 1], [2770, 3, 5], [2771, 4, 9], [2780, 2, 3], [2836, 4, 7], [2877, 4, 7], [2896, 8, 0], [2921, 3, 8], [2927, 3, 2], [2939, 9, 5], [2952, 3, 5], [2995, 6, 5], [3060, 9, 0], [3069, 4, 9], [3109, 7, 1], [3288, 4, 9], [3289, 8, 9], [3422, 6, 0], [3503, 9, 1], [3520, 6, 4], [3597, 9, 3], [3726, 4, 9], [3727, 8, 9], [3762, 6, 8], [3806, 5, 8], [3808, 7, 8], [3838, 7, 8], [3853, 6, 8], [3893, 5, 8], [3946, 2, 1], [3976, 7, 1], [4017, 4, 8], [4075, 8, 5], [4100, 2, 3], [4102, 7, 9], [4176, 2, 7], [4199, 7, 9], [4201, 1, 7], [4224, 9, 7], [4248, 2, 1], [4256, 3, 0], [4265, 4, 9], [4350, 2, 8], [4368, 5, 9], [4400, 7, 1], [4443, 3, 1], [4497, 8, 7], [4500, 9, 1], [4567, 4, 9], [4639, 8, 9], [4690, 7, 9], [4740, 3, 5], [4761, 9, 8], [4783, 4, 9], [4807, 8, 0], [4838, 6, 5], [4860, 4, 9], [5159, 4, 9], [5199, 6, 4], [5265, 6, 4], [5288, 8, 9], [5457, 1, 8], [5562, 2, 8], [5634, 2, 3], [5636, 2, 3], [5676, 4, 7], [5736, 6, 9], [5877, 6, 0], [5887, 7, 8], [5937, 5, 3], [5955, 3, 8], [5973, 3, 8], [5981, 5, 9], [5985, 5, 8], [5997, 5, 3], [6011, 3, 9], [6391, 2, 9], [6571, 9, 7], [6576, 7, 1], [6590, 0, 5], [6597, 0, 7], [6599, 7, 9], [6625, 8, 7], [6632, 9, 5], [6651, 0, 8], [7249, 2, 5], [7574, 4, 1], [7736, 9, 8], [7849, 3, 9], [7902, 7, 9], [8059, 2, 1], [8069, 2, 1], [8079, 2, 1], [8091, 2, 8], [8311, 6, 4], [8316, 7, 2], [8382, 0, 2], [8408, 8, 5], [8520, 4, 9], [9009, 7, 2], [9158, 0, 9], [9530, 9, 8], [9540, 1, 8], [9620, 9, 8], [9634, 0, 2], [9664, 2, 7], [9679, 6, 3], [9729, 5, 6], [9768, 2, 0], [9770, 5, 0], [9782, 6, 5], [9811, 2, 8], [9839, 2, 7], [9850, 0, 8], [9888, 6, 0], [9904, 2, 8]]\n"
          ],
          "name": "stdout"
        }
      ]
    }
  ]
}