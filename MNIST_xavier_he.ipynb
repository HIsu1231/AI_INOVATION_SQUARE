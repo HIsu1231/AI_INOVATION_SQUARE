{
  "nbformat": 4,
  "nbformat_minor": 0,
  "metadata": {
    "colab": {
      "name": "MNIST_xavier/he.ipynb",
      "provenance": [],
      "mount_file_id": "1gYLrAH3rbBh9Vl1Rm-McGPaNME5zZO6w",
      "authorship_tag": "ABX9TyNQ8ZPjULWaNaUuGysLadD5",
      "include_colab_link": true
    },
    "kernelspec": {
      "name": "python3",
      "display_name": "Python 3"
    }
  },
  "cells": [
    {
      "cell_type": "markdown",
      "metadata": {
        "id": "view-in-github",
        "colab_type": "text"
      },
      "source": [
        "<a href=\"https://colab.research.google.com/github/HIsu1231/AI_INOVATION_SQUARE/blob/master/MNIST_xavier_he.ipynb\" target=\"_parent\"><img src=\"https://colab.research.google.com/assets/colab-badge.svg\" alt=\"Open In Colab\"/></a>"
      ]
    },
    {
      "cell_type": "code",
      "metadata": {
        "id": "ZI5DRMfX-849"
      },
      "source": [
        "import numpy as np\n",
        "import matplotlib.pyplot as plt\n",
        "from datetime import datetime\n",
        "\n",
        "%matplotlib inline\n",
        "\n",
        "# 수치미분 함수\n",
        "\n",
        "def numerical_derivative(f, x):\n",
        "    delta_x = 1e-4 # 0.0001\n",
        "    grad = np.zeros_like(x)\n",
        "    \n",
        "    it = np.nditer(x, flags=['multi_index'], op_flags=['readwrite'])\n",
        "    \n",
        "    while not it.finished:\n",
        "        idx = it.multi_index        \n",
        "        tmp_val = x[idx]\n",
        "        x[idx] = float(tmp_val) + delta_x\n",
        "        fx1 = f(x) # f(x+delta_x)\n",
        "        \n",
        "        x[idx] = tmp_val - delta_x \n",
        "        fx2 = f(x) # f(x-delta_x)\n",
        "        grad[idx] = (fx1 - fx2) / (2*delta_x)\n",
        "        \n",
        "        x[idx] = tmp_val \n",
        "        it.iternext()   \n",
        "        \n",
        "    return grad\n",
        "\n",
        "# sigmoid 함수\n",
        "\n",
        "def sigmoid(x):\n",
        "    return 1 / (1+np.exp(-x))"
      ],
      "execution_count": 2,
      "outputs": []
    },
    {
      "cell_type": "code",
      "metadata": {
        "id": "wHw21g5O_DSu"
      },
      "source": [
        "class MNIST_Test:\n",
        "\n",
        "  def __init__(self, i_nodes, h_nodes, o_nodes, learning_rate):\n",
        "\n",
        "    self.i_nodes = i_nodes\n",
        "    self.h_nodes = h_nodes\n",
        "    self.o_nodes = o_nodes\n",
        "\n",
        "    self.W2 = np.random.randn(self.i_nodes, self.h_nodes) / np.sqrt(self.i_nodes/2)\n",
        "    self.b2 = np.random.rand(self.h_nodes)\n",
        "\n",
        "    self.W3 = np.random.randn(self.h_nodes, self.o_nodes) / np.sqrt(self.h_nodes/2)\n",
        "    self.b3 = np.random.rand(self.o_nodes)\n",
        "\n",
        "    self.learning_rate = learning_rate\n",
        "\n",
        "  def feed_forward(self):\n",
        "\n",
        "    delta = 1e-7\n",
        "\n",
        "    z2 = np.dot(self.input_data,self.W2) + self.b2\n",
        "    a2 = sigmoid(z2)\n",
        "\n",
        "    z3= np.dot(a2,self.W3) + self.b3\n",
        "    y = a3 = sigmoid(z3)\n",
        "\n",
        "    return -np.sum(self.target_data*np.log(y+delta) + (1-self.target_data)*np.log((1-y)+delta))\n",
        "\n",
        "  def loss_val(self):\n",
        "\n",
        "    delta = 1e-7\n",
        "\n",
        "    z2 = np.dot(self.input_data,self.W2) + self.b2\n",
        "    a2 = sigmoid(z2)\n",
        "\n",
        "    z3 = np.dot(a2, self.W3) + self.b3\n",
        "    y = a3 = sigmoid(z3)\n",
        "\n",
        "    return -np.sum(self.target_data*np.log(y+delta) + (1-self.target_data)*np.log((1-y)+delta))\n",
        "\n",
        "  def predict(self,input_data):\n",
        "\n",
        "    z2 = np.dot(input_data,self.W2) + self.b2\n",
        "    a2 = sigmoid(z2)\n",
        "\n",
        "    z3 = np.dot(a2, self.W3) + self.b3\n",
        "    y = a3 = sigmoid(z3)\n",
        "\n",
        "    predicted_num = np.argmax(y)\n",
        "\n",
        "    return predicted_num\n",
        "\n",
        "  def accuracy(self, input_data, target_data):\n",
        "\n",
        "    matched_list = []\n",
        "    unmatched_list = []\n",
        "\n",
        "    for i in range(len(input_data)):\n",
        "      \n",
        "      label = target_data[i]\n",
        "      data = input_data[i]/255.0 * 0.99 + 0.01\n",
        "\n",
        "      predicted_num = self.predict(data)\n",
        "\n",
        "      if label == predicted_num:\n",
        "        matched_list.append(i)\n",
        "      else:\n",
        "        unmatched_list.append(i)\n",
        "\n",
        "    accuracy_result = len(matched_list)/len(input_data)\n",
        "\n",
        "    print(\"Accuracy result = \",accuracy_result)\n",
        "\n",
        "    return matched_list, unmatched_list\n",
        "\n",
        "  def train(self,input_data, target_data):\n",
        "\n",
        "    self.input_data = input_data\n",
        "    self.target_data = target_data\n",
        "\n",
        "    f = lambda x : self.feed_forward()\n",
        "\n",
        "    self.W2 -= self.learning_rate * numerical_derivative(f,self.W2)\n",
        "    self.b2 -= self.learning_rate * numerical_derivative(f,self.b2)\n",
        "\n",
        "    self.W3 -= self.learning_rate * numerical_derivative(f,self.W3)\n",
        "    self.b3 -= self.learning_rate * numerical_derivative(f,self.b3)"
      ],
      "execution_count": 11,
      "outputs": []
    },
    {
      "cell_type": "code",
      "metadata": {
        "id": "9NYlr0WBCGOD",
        "outputId": "843ca94d-af52-458f-fa08-613c1e5b1660",
        "colab": {
          "base_uri": "https://localhost:8080/"
        }
      },
      "source": [
        "training_data = np.loadtxt('drive/My Drive/AI_INOVATION_SQUARE/prac/mnist_train.csv',delimiter=',',dtype=np.float32)\n",
        "print(\"training_data.shape = \",training_data.shape)"
      ],
      "execution_count": 12,
      "outputs": [
        {
          "output_type": "stream",
          "text": [
            "training_data.shape =  (60000, 785)\n"
          ],
          "name": "stdout"
        }
      ]
    },
    {
      "cell_type": "code",
      "metadata": {
        "id": "0sXjaW4mCc7U",
        "outputId": "d8ddd1b2-ceb2-42e2-a5ac-b4ec0daf207b",
        "colab": {
          "base_uri": "https://localhost:8080/"
        }
      },
      "source": [
        "#hyper_parameter\n",
        "\n",
        "i_nodes = training_data.shape[1] - 1\n",
        "h_nodes = 1\n",
        "o_nodes = 10\n",
        "lr = 1e-2\n",
        "epochs = 1\n",
        "\n",
        "loss_val_list = []\n",
        "\n",
        "obj1 = MNIST_Test(i_nodes,h_nodes,o_nodes,lr)\n",
        "\n",
        "print(\"Neural Network Learning using Numerical Derivative...\")\n",
        "\n",
        "start_time = datetime.now()\n",
        "\n",
        "for step in range(epochs):\n",
        "\n",
        "  for i in range(len(training_data)):\n",
        "\n",
        "    input_data = ((training_data[i,1:]/255.0) * 0.99 + 0.01)\n",
        "\n",
        "    target_data = np.zeros(o_nodes) + 0.01\n",
        "    target_data[int(training_data[i,0])] = 0.99\n",
        "\n",
        "    obj1.train(input_data, target_data)\n",
        "\n",
        "    if i % 2000 == 0:\n",
        "      print(\"epochs = \", step, \", index = \", i, \", loss value = \",obj1.loss_val())\n",
        "\n",
        "    loss_val_list.append(obj1.loss_val())\n",
        "\n",
        "end_time = datetime.now()\n",
        "\n",
        "print(\"\")\n",
        "print(\"Elapsed time -> \",end_time - start_time)"
      ],
      "execution_count": 13,
      "outputs": [
        {
          "output_type": "stream",
          "text": [
            "Neural Network Learning using Numerical Derivative...\n",
            "epochs =  0 , index =  0 , loss value =  7.648271516767036\n",
            "epochs =  0 , index =  2000 , loss value =  3.453435215812275\n",
            "epochs =  0 , index =  4000 , loss value =  3.16921672502193\n",
            "epochs =  0 , index =  6000 , loss value =  3.24450558346775\n",
            "epochs =  0 , index =  8000 , loss value =  3.1810173308566143\n",
            "epochs =  0 , index =  10000 , loss value =  2.821715810746871\n",
            "epochs =  0 , index =  12000 , loss value =  3.102982854981023\n",
            "epochs =  0 , index =  14000 , loss value =  3.1592910298713845\n",
            "epochs =  0 , index =  16000 , loss value =  3.288211187048609\n",
            "epochs =  0 , index =  18000 , loss value =  3.166854405512074\n",
            "epochs =  0 , index =  20000 , loss value =  3.246223092614481\n",
            "epochs =  0 , index =  22000 , loss value =  2.6160233942037077\n",
            "epochs =  0 , index =  24000 , loss value =  3.3079073682445976\n",
            "epochs =  0 , index =  26000 , loss value =  3.055181370507998\n",
            "epochs =  0 , index =  28000 , loss value =  2.9303862412951434\n",
            "epochs =  0 , index =  30000 , loss value =  2.433359480966099\n",
            "epochs =  0 , index =  32000 , loss value =  3.388217277223009\n",
            "epochs =  0 , index =  34000 , loss value =  3.245667497824589\n",
            "epochs =  0 , index =  36000 , loss value =  3.100754870688042\n",
            "epochs =  0 , index =  38000 , loss value =  3.1601142512546803\n",
            "epochs =  0 , index =  40000 , loss value =  3.024006294826368\n",
            "epochs =  0 , index =  42000 , loss value =  2.7451711862428883\n",
            "epochs =  0 , index =  44000 , loss value =  2.4829324849257137\n",
            "epochs =  0 , index =  46000 , loss value =  2.973126848667607\n",
            "epochs =  0 , index =  48000 , loss value =  3.0498866408698015\n",
            "epochs =  0 , index =  50000 , loss value =  2.4633540637028806\n",
            "epochs =  0 , index =  52000 , loss value =  3.1026288370480297\n",
            "epochs =  0 , index =  54000 , loss value =  2.8074730660318896\n",
            "epochs =  0 , index =  56000 , loss value =  2.9469313317933445\n",
            "epochs =  0 , index =  58000 , loss value =  3.1704780132203148\n",
            "\n",
            "Elapsed time ->  0:51:22.620273\n"
          ],
          "name": "stdout"
        }
      ]
    },
    {
      "cell_type": "code",
      "metadata": {
        "id": "MQl8pbLLE2Ck",
        "outputId": "4c9fcf13-de49-402c-f1a0-d7c47e294390",
        "colab": {
          "base_uri": "https://localhost:8080/"
        }
      },
      "source": [
        "test_data = np.loadtxt('./drive/My Drive/AI_INOVATION_SQUARE/prac/mnist_test.csv', delimiter=',', dtype = np.float32)\n",
        "print(\"test data.shape = \",test_data.shape)\n",
        "\n",
        "test_input_data = test_data[:, 1: ]\n",
        "test_target_data = test_data[:,0]\n",
        "\n",
        "(true_list_1, false_list_1) = obj1.accuracy(test_input_data, test_target_data)"
      ],
      "execution_count": 14,
      "outputs": [
        {
          "output_type": "stream",
          "text": [
            "test data.shape =  (10000, 785)\n",
            "Accuracy result =  0.2174\n"
          ],
          "name": "stdout"
        }
      ]
    },
    {
      "cell_type": "code",
      "metadata": {
        "id": "HnS8jp4DFQZ3",
        "outputId": "9143e90c-13ed-49d8-9258-5ccf4d5d3914",
        "colab": {
          "base_uri": "https://localhost:8080/",
          "height": 295
        }
      },
      "source": [
        "# 손실함수 추세 확인\n",
        "Y_DATA_LIST = []\n",
        "\n",
        "for index in range(0, len(loss_val_list), 500):\n",
        "    Y_DATA_LIST.append(loss_val_list[index])\n",
        "    \n",
        "plt.title('MNIST Loss Value Trend')\n",
        "plt.xlabel('data index ( X 500 )')\n",
        "plt.ylabel('loss value')\n",
        "plt.grid()\n",
        "plt.ylim(2.1, 7.1)\n",
        "plt.plot(Y_DATA_LIST, color='b')\n",
        "plt.show()"
      ],
      "execution_count": 15,
      "outputs": [
        {
          "output_type": "display_data",
          "data": {
            "image/png": "[encoded data removed]",
            "text/plain": [
              "<Figure size 432x288 with 1 Axes>"
            ]
          },
          "metadata": {
            "tags": [],
            "needs_background": "light"
          }
        }
      ]
    },
    {
      "cell_type": "code",
      "metadata": {
        "id": "IBgNDj2Of0rI",
        "outputId": "33e8713d-5847-414a-9a8f-88df21ca90ed",
        "colab": {
          "base_uri": "https://localhost:8080/",
          "height": 295
        }
      },
      "source": [
        "# 손실함수 추세 확인\n",
        "Y_DATA_LIST = []\n",
        "\n",
        "for index in range(0, len(loss_val_list), 200):\n",
        "    Y_DATA_LIST.append(loss_val_list[index])\n",
        "    \n",
        "plt.title('MNIST Loss Value Trend')\n",
        "plt.xlabel('data index ( X 500 )')\n",
        "plt.ylabel('loss value')\n",
        "plt.grid()\n",
        "plt.ylim(2.1, 7.1)\n",
        "plt.plot(Y_DATA_LIST, color='b')\n",
        "plt.show()"
      ],
      "execution_count": 16,
      "outputs": [
        {
          "output_type": "display_data",
          "data": {
            "image/png": "[encoded data removed]",
            "text/plain": [
              "<Figure size 432x288 with 1 Axes>"
            ]
          },
          "metadata": {
            "tags": [],
            "needs_background": "light"
          }
        }
      ]
    },
    {
      "cell_type": "code",
      "metadata": {
        "id": "7NRNls-Yf2G4",
        "outputId": "13f8d471-1777-429b-8c4e-630db43650fb",
        "colab": {
          "base_uri": "https://localhost:8080/",
          "height": 295
        }
      },
      "source": [
        "# 손실함수 추세 확인\n",
        "Y_DATA_LIST = []\n",
        "\n",
        "for index in range(0, len(loss_val_list), 100):\n",
        "    Y_DATA_LIST.append(loss_val_list[index])\n",
        "    \n",
        "plt.title('MNIST Loss Value Trend')\n",
        "plt.xlabel('data index ( X 500 )')\n",
        "plt.ylabel('loss value')\n",
        "plt.grid()\n",
        "plt.ylim(2.1, 7.1)\n",
        "plt.plot(Y_DATA_LIST, color='b')\n",
        "plt.show()"
      ],
      "execution_count": 17,
      "outputs": [
        {
          "output_type": "display_data",
          "data": {
            "image/png": "[encoded data removed]",
            "text/plain": [
              "<Figure size 432x288 with 1 Axes>"
            ]
          },
          "metadata": {
            "tags": [],
            "needs_background": "light"
          }
        }
      ]
    },
    {
      "cell_type": "code",
      "metadata": {
        "id": "Q2QS-z1Nf3BW"
      },
      "source": [
        ""
      ],
      "execution_count": null,
      "outputs": []
    }
  ]
}