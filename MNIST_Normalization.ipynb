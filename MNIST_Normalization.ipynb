{
  "nbformat": 4,
  "nbformat_minor": 0,
  "metadata": {
    "colab": {
      "name": "MNIST_Normalization.ipynb",
      "provenance": [],
      "mount_file_id": "117Yx-tYnyNcjPhiJizEEL9oZEKTZamZa",
      "authorship_tag": "ABX9TyPEHOP0UwtsYkHQpsSQZoYQ",
      "include_colab_link": true
    },
    "kernelspec": {
      "name": "python3",
      "display_name": "Python 3"
    }
  },
  "cells": [
    {
      "cell_type": "markdown",
      "metadata": {
        "id": "view-in-github",
        "colab_type": "text"
      },
      "source": [
        "<a href=\"https://colab.research.google.com/github/HIsu1231/AI_INOVATION_SQUARE/blob/master/MNIST_Normalization.ipynb\" target=\"_parent\"><img src=\"https://colab.research.google.com/assets/colab-badge.svg\" alt=\"Open In Colab\"/></a>"
      ]
    },
    {
      "cell_type": "code",
      "metadata": {
        "id": "oX25u7qTT62R"
      },
      "source": [
        "import numpy as np\n",
        "from datetime import datetime"
      ],
      "execution_count": 1,
      "outputs": []
    },
    {
      "cell_type": "code",
      "metadata": {
        "id": "IWhzm1PacEIF",
        "outputId": "98ac14e8-aaa7-4692-b7e8-00bb34be5b85",
        "colab": {
          "base_uri": "https://localhost:8080/"
        }
      },
      "source": [
        "training_data = np.loadtxt(\"./drive/My Drive/AI_INOVATION_SQUARE/prac/mnist_train.csv\",delimiter=',',dtype=np.float32)\n",
        "\n",
        "print(\"training data.shape = \",training_data.shape)\n",
        "\n",
        "training_input_data = training_data[:,1: ]\n",
        "training_target_data = training_data[:,0]\n",
        "\n",
        "print(\"training input data.shape = \", training_input_data.shape,\", training target data.shape = \",training_target_data.shape)"
      ],
      "execution_count": 2,
      "outputs": [
        {
          "output_type": "stream",
          "text": [
            "training data.shape =  (60000, 785)\n",
            "training input data.shape =  (60000, 784) , training target data.shape =  (60000,)\n"
          ],
          "name": "stdout"
        }
      ]
    },
    {
      "cell_type": "code",
      "metadata": {
        "id": "yj-ZVdLRcspX",
        "outputId": "1c6a55cb-1118-4c26-d38d-296180306f03",
        "colab": {
          "base_uri": "https://localhost:8080/"
        }
      },
      "source": [
        "# max / min\n",
        "\n",
        "max_input_val = np.max(training_input_data)\n",
        "max_target_val = np.max(training_target_data)\n",
        "\n",
        "min_input_val = np.min(training_input_data)\n",
        "min_target_val = np.min(training_target_data)\n",
        "\n",
        "print(\"max input val = \",max_input_val, \", max target val = \",max_target_val)\n",
        "print(\"min input val = \",min_input_val,\", min target_val = \",min_target_val)"
      ],
      "execution_count": 3,
      "outputs": [
        {
          "output_type": "stream",
          "text": [
            "max input val =  255.0 , max target val =  9.0\n",
            "min input val =  0.0 , min target_val =  0.0\n"
          ],
          "name": "stdout"
        }
      ]
    },
    {
      "cell_type": "code",
      "metadata": {
        "id": "0nE42bS_V26j",
        "outputId": "30bae186-440e-41ec-c620-c56131daa51e",
        "colab": {
          "base_uri": "https://localhost:8080/"
        }
      },
      "source": [
        "# max / min (axis = 1)\n",
        "\n",
        "each_max_val = np.max(training_input_data, axis = 1)\n",
        "each_min_val = np.min(training_input_data, axis=1)\n",
        "\n",
        "print(\"each max val = \",each_max_val,\", len(each_max_val) = \",len(each_max_val))\n",
        "print(\"each min val = \",each_min_val,\", len(each_min_val) = \",len(each_min_val))\n",
        "\n",
        "#axis = 1 -> row\n",
        "#axis = 0 -> column"
      ],
      "execution_count": 4,
      "outputs": [
        {
          "output_type": "stream",
          "text": [
            "each max val =  [255. 255. 255. ... 255. 255. 255.] , len(each_max_val) =  60000\n",
            "each min val =  [0. 0. 0. ... 0. 0. 0.] , len(each_min_val) =  60000\n"
          ],
          "name": "stdout"
        }
      ]
    },
    {
      "cell_type": "code",
      "metadata": {
        "id": "CZPwyprdXKeW",
        "outputId": "32f08104-8246-4833-e767-27173827eaa1",
        "colab": {
          "base_uri": "https://localhost:8080/"
        }
      },
      "source": [
        "for i in range(len(training_data)):\n",
        "\n",
        "  input_data = ((training_data[i,1:]/255.0)*0.99)+0.01\n",
        "\n",
        "  max_val = max(input_data)\n",
        "  min_val = min(input_data)\n",
        "\n",
        "  target_data = np.zeros(10) + 0.01\n",
        "  target_data[int(training_data[i,0])] = 0.99\n",
        "\n",
        "  if i%2000 == 0:\n",
        "\n",
        "    print(\"=================================================================\")\n",
        "    print(\"index = \",i,\", max_val = \",max_val,\", min_val = \",min_val)\n",
        "    print(\"training_data =\",training_data[i,0])\n",
        "    print(\"index = \",i,\", target_data = \", target_data)"
      ],
      "execution_count": 9,
      "outputs": [
        {
          "output_type": "stream",
          "text": [
            "=================================================================\n",
            "index =  0 , max_val =  1.0 , min_val =  0.01\n",
            "training_data = 5.0\n",
            "index =  0 , target_data =  [0.01 0.01 0.01 0.01 0.01 0.99 0.01 0.01 0.01 0.01]\n",
            "=================================================================\n",
            "index =  2000 , max_val =  1.0 , min_val =  0.01\n",
            "training_data = 5.0\n",
            "index =  2000 , target_data =  [0.01 0.01 0.01 0.01 0.01 0.99 0.01 0.01 0.01 0.01]\n",
            "=================================================================\n",
            "index =  4000 , max_val =  1.0 , min_val =  0.01\n",
            "training_data = 7.0\n",
            "index =  4000 , target_data =  [0.01 0.01 0.01 0.01 0.01 0.01 0.01 0.99 0.01 0.01]\n",
            "=================================================================\n",
            "index =  6000 , max_val =  1.0 , min_val =  0.01\n",
            "training_data = 6.0\n",
            "index =  6000 , target_data =  [0.01 0.01 0.01 0.01 0.01 0.01 0.99 0.01 0.01 0.01]\n",
            "=================================================================\n",
            "index =  8000 , max_val =  1.0 , min_val =  0.01\n",
            "training_data = 0.0\n",
            "index =  8000 , target_data =  [0.99 0.01 0.01 0.01 0.01 0.01 0.01 0.01 0.01 0.01]\n",
            "=================================================================\n",
            "index =  10000 , max_val =  1.0 , min_val =  0.01\n",
            "training_data = 3.0\n",
            "index =  10000 , target_data =  [0.01 0.01 0.01 0.99 0.01 0.01 0.01 0.01 0.01 0.01]\n",
            "=================================================================\n",
            "index =  12000 , max_val =  1.0 , min_val =  0.01\n",
            "training_data = 7.0\n",
            "index =  12000 , target_data =  [0.01 0.01 0.01 0.01 0.01 0.01 0.01 0.99 0.01 0.01]\n",
            "=================================================================\n",
            "index =  14000 , max_val =  1.0 , min_val =  0.01\n",
            "training_data = 1.0\n",
            "index =  14000 , target_data =  [0.01 0.99 0.01 0.01 0.01 0.01 0.01 0.01 0.01 0.01]\n",
            "=================================================================\n",
            "index =  16000 , max_val =  1.0 , min_val =  0.01\n",
            "training_data = 8.0\n",
            "index =  16000 , target_data =  [0.01 0.01 0.01 0.01 0.01 0.01 0.01 0.01 0.99 0.01]\n",
            "=================================================================\n",
            "index =  18000 , max_val =  1.0 , min_val =  0.01\n",
            "training_data = 4.0\n",
            "index =  18000 , target_data =  [0.01 0.01 0.01 0.01 0.99 0.01 0.01 0.01 0.01 0.01]\n",
            "=================================================================\n",
            "index =  20000 , max_val =  1.0 , min_val =  0.01\n",
            "training_data = 5.0\n",
            "index =  20000 , target_data =  [0.01 0.01 0.01 0.01 0.01 0.99 0.01 0.01 0.01 0.01]\n",
            "=================================================================\n",
            "index =  22000 , max_val =  1.0 , min_val =  0.01\n",
            "training_data = 3.0\n",
            "index =  22000 , target_data =  [0.01 0.01 0.01 0.99 0.01 0.01 0.01 0.01 0.01 0.01]\n",
            "=================================================================\n",
            "index =  24000 , max_val =  1.0 , min_val =  0.01\n",
            "training_data = 8.0\n",
            "index =  24000 , target_data =  [0.01 0.01 0.01 0.01 0.01 0.01 0.01 0.01 0.99 0.01]\n",
            "=================================================================\n",
            "index =  26000 , max_val =  1.0 , min_val =  0.01\n",
            "training_data = 4.0\n",
            "index =  26000 , target_data =  [0.01 0.01 0.01 0.01 0.99 0.01 0.01 0.01 0.01 0.01]\n",
            "=================================================================\n",
            "index =  28000 , max_val =  0.99611765 , min_val =  0.01\n",
            "training_data = 1.0\n",
            "index =  28000 , target_data =  [0.01 0.99 0.01 0.01 0.01 0.01 0.01 0.01 0.01 0.01]\n",
            "=================================================================\n",
            "index =  30000 , max_val =  1.0 , min_val =  0.01\n",
            "training_data = 3.0\n",
            "index =  30000 , target_data =  [0.01 0.01 0.01 0.99 0.01 0.01 0.01 0.01 0.01 0.01]\n",
            "=================================================================\n",
            "index =  32000 , max_val =  1.0 , min_val =  0.01\n",
            "training_data = 8.0\n",
            "index =  32000 , target_data =  [0.01 0.01 0.01 0.01 0.01 0.01 0.01 0.01 0.99 0.01]\n",
            "=================================================================\n",
            "index =  34000 , max_val =  1.0 , min_val =  0.01\n",
            "training_data = 4.0\n",
            "index =  34000 , target_data =  [0.01 0.01 0.01 0.01 0.99 0.01 0.01 0.01 0.01 0.01]\n",
            "=================================================================\n",
            "index =  36000 , max_val =  1.0 , min_val =  0.01\n",
            "training_data = 9.0\n",
            "index =  36000 , target_data =  [0.01 0.01 0.01 0.01 0.01 0.01 0.01 0.01 0.01 0.99]\n",
            "=================================================================\n",
            "index =  38000 , max_val =  1.0 , min_val =  0.01\n",
            "training_data = 8.0\n",
            "index =  38000 , target_data =  [0.01 0.01 0.01 0.01 0.01 0.01 0.01 0.01 0.99 0.01]\n",
            "=================================================================\n",
            "index =  40000 , max_val =  1.0 , min_val =  0.01\n",
            "training_data = 7.0\n",
            "index =  40000 , target_data =  [0.01 0.01 0.01 0.01 0.01 0.01 0.01 0.99 0.01 0.01]\n",
            "=================================================================\n",
            "index =  42000 , max_val =  1.0 , min_val =  0.01\n",
            "training_data = 1.0\n",
            "index =  42000 , target_data =  [0.01 0.99 0.01 0.01 0.01 0.01 0.01 0.01 0.01 0.01]\n",
            "=================================================================\n",
            "index =  44000 , max_val =  1.0 , min_val =  0.01\n",
            "training_data = 0.0\n",
            "index =  44000 , target_data =  [0.99 0.01 0.01 0.01 0.01 0.01 0.01 0.01 0.01 0.01]\n",
            "=================================================================\n",
            "index =  46000 , max_val =  1.0 , min_val =  0.01\n",
            "training_data = 9.0\n",
            "index =  46000 , target_data =  [0.01 0.01 0.01 0.01 0.01 0.01 0.01 0.01 0.01 0.99]\n",
            "=================================================================\n",
            "index =  48000 , max_val =  1.0 , min_val =  0.01\n",
            "training_data = 4.0\n",
            "index =  48000 , target_data =  [0.01 0.01 0.01 0.01 0.99 0.01 0.01 0.01 0.01 0.01]\n",
            "=================================================================\n",
            "index =  50000 , max_val =  1.0 , min_val =  0.01\n",
            "training_data = 3.0\n",
            "index =  50000 , target_data =  [0.01 0.01 0.01 0.99 0.01 0.01 0.01 0.01 0.01 0.01]\n",
            "=================================================================\n",
            "index =  52000 , max_val =  1.0 , min_val =  0.01\n",
            "training_data = 6.0\n",
            "index =  52000 , target_data =  [0.01 0.01 0.01 0.01 0.01 0.01 0.99 0.01 0.01 0.01]\n",
            "=================================================================\n",
            "index =  54000 , max_val =  1.0 , min_val =  0.01\n",
            "training_data = 5.0\n",
            "index =  54000 , target_data =  [0.01 0.01 0.01 0.01 0.01 0.99 0.01 0.01 0.01 0.01]\n",
            "=================================================================\n",
            "index =  56000 , max_val =  1.0 , min_val =  0.01\n",
            "training_data = 1.0\n",
            "index =  56000 , target_data =  [0.01 0.99 0.01 0.01 0.01 0.01 0.01 0.01 0.01 0.01]\n",
            "=================================================================\n",
            "index =  58000 , max_val =  1.0 , min_val =  0.01\n",
            "training_data = 2.0\n",
            "index =  58000 , target_data =  [0.01 0.01 0.99 0.01 0.01 0.01 0.01 0.01 0.01 0.01]\n"
          ],
          "name": "stdout"
        }
      ]
    }
  ]
}