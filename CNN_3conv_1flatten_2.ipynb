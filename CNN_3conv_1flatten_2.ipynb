{
  "nbformat": 4,
  "nbformat_minor": 0,
  "metadata": {
    "colab": {
      "name": "CNN_3conv/1flatten_2.ipynb",
      "provenance": [],
      "authorship_tag": "ABX9TyNfqDbsUb+6aOq0ofGzfDrj",
      "include_colab_link": true
    },
    "kernelspec": {
      "name": "python3",
      "display_name": "Python 3"
    },
    "accelerator": "GPU"
  },
  "cells": [
    {
      "cell_type": "markdown",
      "metadata": {
        "id": "view-in-github",
        "colab_type": "text"
      },
      "source": [
        "<a href=\"https://colab.research.google.com/github/HIsu1231/AI_INOVATION_SQUARE/blob/master/CNN_3conv_1flatten_2.ipynb\" target=\"_parent\"><img src=\"https://colab.research.google.com/assets/colab-badge.svg\" alt=\"Open In Colab\"/></a>"
      ]
    },
    {
      "cell_type": "code",
      "metadata": {
        "colab": {
          "base_uri": "https://localhost:8080/"
        },
        "id": "P8RA8m72ei4K",
        "outputId": "c39e8b16-1823-4b01-8083-1f821bb44743"
      },
      "source": [
        "%tensorflow_version 1.x"
      ],
      "execution_count": 1,
      "outputs": [
        {
          "output_type": "stream",
          "text": [
            "TensorFlow 1.x selected.\n"
          ],
          "name": "stdout"
        }
      ]
    },
    {
      "cell_type": "code",
      "metadata": {
        "colab": {
          "base_uri": "https://localhost:8080/"
        },
        "id": "nXEDs1s9e4e0",
        "outputId": "8f2d09a1-ce2a-44d4-bc77-ac3aa8b20435"
      },
      "source": [
        "import tensorflow as tf\r\n",
        "from tensorflow.examples.tutorials.mnist import input_data\r\n",
        "import numpy as np\r\n",
        "from datetime import datetime\r\n",
        "\r\n",
        "mnist = input_data.read_data_sets('MNIST/data', one_hot=True)"
      ],
      "execution_count": 3,
      "outputs": [
        {
          "output_type": "stream",
          "text": [
            "WARNING:tensorflow:From <ipython-input-3-1a48d9c9b3ee>:6: read_data_sets (from tensorflow.contrib.learn.python.learn.datasets.mnist) is deprecated and will be removed in a future version.\n",
            "Instructions for updating:\n",
            "Please use alternatives such as official/mnist/dataset.py from tensorflow/models.\n",
            "WARNING:tensorflow:From /tensorflow-1.15.2/python3.6/tensorflow_core/contrib/learn/python/learn/datasets/mnist.py:260: maybe_download (from tensorflow.contrib.learn.python.learn.datasets.base) is deprecated and will be removed in a future version.\n",
            "Instructions for updating:\n",
            "Please write your own downloading logic.\n",
            "WARNING:tensorflow:From /tensorflow-1.15.2/python3.6/tensorflow_core/contrib/learn/python/learn/datasets/base.py:252: _internal_retry.<locals>.wrap.<locals>.wrapped_fn (from tensorflow.contrib.learn.python.learn.datasets.base) is deprecated and will be removed in a future version.\n",
            "Instructions for updating:\n",
            "Please use urllib or similar directly.\n",
            "Successfully downloaded train-images-idx3-ubyte.gz 9912422 bytes.\n",
            "WARNING:tensorflow:From /tensorflow-1.15.2/python3.6/tensorflow_core/contrib/learn/python/learn/datasets/mnist.py:262: extract_images (from tensorflow.contrib.learn.python.learn.datasets.mnist) is deprecated and will be removed in a future version.\n",
            "Instructions for updating:\n",
            "Please use tf.data to implement this functionality.\n",
            "Extracting MNIST/data/train-images-idx3-ubyte.gz\n",
            "Successfully downloaded train-labels-idx1-ubyte.gz 28881 bytes.\n",
            "WARNING:tensorflow:From /tensorflow-1.15.2/python3.6/tensorflow_core/contrib/learn/python/learn/datasets/mnist.py:267: extract_labels (from tensorflow.contrib.learn.python.learn.datasets.mnist) is deprecated and will be removed in a future version.\n",
            "Instructions for updating:\n",
            "Please use tf.data to implement this functionality.\n",
            "Extracting MNIST/data/train-labels-idx1-ubyte.gz\n",
            "WARNING:tensorflow:From /tensorflow-1.15.2/python3.6/tensorflow_core/contrib/learn/python/learn/datasets/mnist.py:110: dense_to_one_hot (from tensorflow.contrib.learn.python.learn.datasets.mnist) is deprecated and will be removed in a future version.\n",
            "Instructions for updating:\n",
            "Please use tf.one_hot on tensors.\n",
            "Successfully downloaded t10k-images-idx3-ubyte.gz 1648877 bytes.\n",
            "Extracting MNIST/data/t10k-images-idx3-ubyte.gz\n",
            "Successfully downloaded t10k-labels-idx1-ubyte.gz 4542 bytes.\n",
            "Extracting MNIST/data/t10k-labels-idx1-ubyte.gz\n",
            "WARNING:tensorflow:From /tensorflow-1.15.2/python3.6/tensorflow_core/contrib/learn/python/learn/datasets/mnist.py:290: DataSet.__init__ (from tensorflow.contrib.learn.python.learn.datasets.mnist) is deprecated and will be removed in a future version.\n",
            "Instructions for updating:\n",
            "Please use alternatives such as official/mnist/dataset.py from tensorflow/models.\n"
          ],
          "name": "stdout"
        }
      ]
    },
    {
      "cell_type": "code",
      "metadata": {
        "id": "QkXP1EPDfZaS"
      },
      "source": [
        "i_nodes = mnist.train.images.shape[1]\r\n",
        "o_nodes = mnist.train.labels.shape[1]\r\n",
        "\r\n",
        "#hyper_parameter\r\n",
        "learning_rate = 0.001\r\n",
        "epochs = 30\r\n",
        "batch_size = 100"
      ],
      "execution_count": 4,
      "outputs": []
    },
    {
      "cell_type": "code",
      "metadata": {
        "id": "e1ltcE08fpGn"
      },
      "source": [
        "X = tf.placeholder(tf.float32, [None,i_nodes])\r\n",
        "T = tf.placeholder(tf.float32, [None,o_nodes])\r\n",
        "\r\n",
        "A1 = tf.reshape(X, [-1,28,28,1])"
      ],
      "execution_count": 5,
      "outputs": []
    },
    {
      "cell_type": "code",
      "metadata": {
        "id": "hWDCArcZfydp"
      },
      "source": [
        "#3X3X32 Filter\r\n",
        "W2 = tf.Variable(tf.random_normal([3,3,1,32], stddev=0.01))\r\n",
        "b2 = tf.Variable(tf.random_normal([32]))\r\n",
        "\r\n",
        "#28X28X32\r\n",
        "C2 = tf.nn.conv2d(A1, W2, strides=[1,1,1,1], padding='SAME')\r\n",
        "\r\n",
        "Z2 = tf.nn.relu(C2+b2)\r\n",
        "\r\n",
        "#14X14X32\r\n",
        "A2 = tf.nn.max_pool(Z2, ksize=[1,2,2,1], strides=[1,2,2,1],padding='SAME')"
      ],
      "execution_count": 6,
      "outputs": []
    },
    {
      "cell_type": "code",
      "metadata": {
        "id": "pRifjtQQgUoV"
      },
      "source": [
        "#5X5X64 Filter\r\n",
        "W3 = tf.Variable(tf.random_normal([5,5,32,64], stddev=0.01))\r\n",
        "b3 = tf.Variable(tf.random_normal([64]))\r\n",
        "\r\n",
        "#14X14X64\r\n",
        "C3 = tf.nn.conv2d(A2, W3, strides=[1,1,1,1], padding='SAME')\r\n",
        "\r\n",
        "Z3 = tf.nn.relu(C3+b3)\r\n",
        "\r\n",
        "#7X7X64\r\n",
        "A3 = tf.nn.max_pool(Z3, ksize=[1,2,2,1], strides=[1,2,2,1], padding='SAME')"
      ],
      "execution_count": 7,
      "outputs": []
    },
    {
      "cell_type": "code",
      "metadata": {
        "id": "6RN3xZhRg7tf"
      },
      "source": [
        "#3X3x128 Filter\r\n",
        "W4 = tf.Variable(tf.random_normal([3,3,64,128], stddev=0.01))\r\n",
        "b4 = tf.Variable(tf.random_normal([128]))\r\n",
        "\r\n",
        "#7X7X128\r\n",
        "C4 = tf.nn.conv2d(A3, W4, strides=[1,1,1,1], padding='SAME')\r\n",
        "\r\n",
        "Z4 = tf.nn.relu(C4+b4)\r\n",
        "\r\n",
        "#4X4X128\r\n",
        "A4 = tf.nn.max_pool(Z4, ksize=[1,2,2,1], strides=[1,2,2,1], padding='SAME')"
      ],
      "execution_count": 8,
      "outputs": []
    },
    {
      "cell_type": "code",
      "metadata": {
        "id": "HFEJgbGDhi-C"
      },
      "source": [
        "A4_flat = tf.reshape(A4, [-1, 4*4*128])\r\n",
        "\r\n",
        "W5 = tf.Variable(tf.random_normal([4*4*128, 10], stddev=0.01))\r\n",
        "b5 = tf.Variable(tf.random_normal([10]))\r\n",
        "\r\n",
        "Z5 = tf.matmul(A4_flat, W5) + b5\r\n",
        "\r\n",
        "y = tf.nn.softmax(Z5)"
      ],
      "execution_count": 10,
      "outputs": []
    },
    {
      "cell_type": "code",
      "metadata": {
        "id": "FvjE9SjCh8kr"
      },
      "source": [
        "loss = tf.reduce_mean(tf.nn.softmax_cross_entropy_with_logits_v2(labels=T, logits=Z5))\r\n",
        "\r\n",
        "optimizer = tf.train.AdamOptimizer(learning_rate)\r\n",
        "\r\n",
        "train = optimizer.minimize(loss)"
      ],
      "execution_count": 11,
      "outputs": []
    },
    {
      "cell_type": "code",
      "metadata": {
        "id": "lyKYicupiMXz"
      },
      "source": [
        "predicted_val = tf.argmax(y,1)\r\n",
        "\r\n",
        "accuracy_index = tf.cast(tf.equal(tf.argmax(y,1), tf.argmax(T,1)), dtype=tf.float32)\r\n",
        "\r\n",
        "accuracy = tf.reduce_mean(accuracy_index)"
      ],
      "execution_count": 12,
      "outputs": []
    },
    {
      "cell_type": "code",
      "metadata": {
        "colab": {
          "base_uri": "https://localhost:8080/"
        },
        "id": "ki4xrGdPimu5",
        "outputId": "733d6f73-7521-4b64-a84d-8d0cd575282b"
      },
      "source": [
        "index_label_prediction_list = []\r\n",
        "\r\n",
        "\r\n",
        "with tf.Session() as sess:\r\n",
        "\r\n",
        "    sess.run(tf.global_variables_initializer())\r\n",
        "\r\n",
        "    start_time = datetime.now()\r\n",
        "\r\n",
        "    for i in range(epochs):\r\n",
        "\r\n",
        "        total_batch = int( mnist.train.num_examples / batch_size)\r\n",
        "\r\n",
        "        for step in range(total_batch):\r\n",
        "\r\n",
        "            batch_x_data, batch_t_data = mnist.train.next_batch(batch_size)\r\n",
        "\r\n",
        "            loss_val, _ = sess.run([loss, train], feed_dict={X: batch_x_data, T: batch_t_data})\r\n",
        "\r\n",
        "            if step % 100 == 0:\r\n",
        "\r\n",
        "                print(\"epochs = \", i+1, \", step = \", step, \", loss value  = \", loss_val)\r\n",
        "\r\n",
        "    end_time = datetime.now()\r\n",
        "    print(\"\\nElapsed time = \", end_time - start_time)\r\n",
        "\r\n",
        "    test_x_data = mnist.test.images\r\n",
        "    test_t_data = mnist.test.labels\r\n",
        "\r\n",
        "    temp_list = []\r\n",
        "\r\n",
        "    accuracy_val, index_list, predicted_list = sess.run([accuracy, accuracy_index, predicted_val], feed_dict={X: test_x_data, T: test_t_data})\r\n",
        "\r\n",
        "    print(\"\\nAccuracy = \", accuracy_val)\r\n",
        "    \r\n",
        "    for i in range(len(index_list)):\r\n",
        "\r\n",
        "        if index_list[i] == 0:\r\n",
        "\r\n",
        "            temp_list.append(i)\r\n",
        "            temp_list.append(np.argmax(test_t_data[i]))\r\n",
        "            temp_list.append(predicted_list[i])\r\n",
        "\r\n",
        "            index_label_prediction_list.append(temp_list)\r\n",
        "\r\n",
        "            temp_list = []\r\n",
        "\r\n"
      ],
      "execution_count": 15,
      "outputs": [
        {
          "output_type": "stream",
          "text": [
            "epochs =  1 , step =  0 , loss value  =  2.661367\n",
            "epochs =  1 , step =  100 , loss value  =  2.28957\n",
            "epochs =  1 , step =  200 , loss value  =  1.2005677\n",
            "epochs =  1 , step =  300 , loss value  =  0.44588202\n",
            "epochs =  1 , step =  400 , loss value  =  0.19688143\n",
            "epochs =  1 , step =  500 , loss value  =  0.20694442\n",
            "epochs =  2 , step =  0 , loss value  =  0.17363834\n",
            "epochs =  2 , step =  100 , loss value  =  0.2767684\n",
            "epochs =  2 , step =  200 , loss value  =  0.17147349\n",
            "epochs =  2 , step =  300 , loss value  =  0.3443935\n",
            "epochs =  2 , step =  400 , loss value  =  0.06904854\n",
            "epochs =  2 , step =  500 , loss value  =  0.06069095\n",
            "epochs =  3 , step =  0 , loss value  =  0.06885949\n",
            "epochs =  3 , step =  100 , loss value  =  0.17047301\n",
            "epochs =  3 , step =  200 , loss value  =  0.17535876\n",
            "epochs =  3 , step =  300 , loss value  =  0.06982932\n",
            "epochs =  3 , step =  400 , loss value  =  0.06121515\n",
            "epochs =  3 , step =  500 , loss value  =  0.11802764\n",
            "epochs =  4 , step =  0 , loss value  =  0.02937856\n",
            "epochs =  4 , step =  100 , loss value  =  0.041920472\n",
            "epochs =  4 , step =  200 , loss value  =  0.105209954\n",
            "epochs =  4 , step =  300 , loss value  =  0.10997602\n",
            "epochs =  4 , step =  400 , loss value  =  0.07892604\n",
            "epochs =  4 , step =  500 , loss value  =  0.05654139\n",
            "epochs =  5 , step =  0 , loss value  =  0.026129903\n",
            "epochs =  5 , step =  100 , loss value  =  0.025193803\n",
            "epochs =  5 , step =  200 , loss value  =  0.13950574\n",
            "epochs =  5 , step =  300 , loss value  =  0.024617612\n",
            "epochs =  5 , step =  400 , loss value  =  0.030987632\n",
            "epochs =  5 , step =  500 , loss value  =  0.051822223\n",
            "epochs =  6 , step =  0 , loss value  =  0.0076839603\n",
            "epochs =  6 , step =  100 , loss value  =  0.10734265\n",
            "epochs =  6 , step =  200 , loss value  =  0.045384236\n",
            "epochs =  6 , step =  300 , loss value  =  0.11018013\n",
            "epochs =  6 , step =  400 , loss value  =  0.051382188\n",
            "epochs =  6 , step =  500 , loss value  =  0.0070133996\n",
            "epochs =  7 , step =  0 , loss value  =  0.053970665\n",
            "epochs =  7 , step =  100 , loss value  =  0.05290919\n",
            "epochs =  7 , step =  200 , loss value  =  0.014395919\n",
            "epochs =  7 , step =  300 , loss value  =  0.03318827\n",
            "epochs =  7 , step =  400 , loss value  =  0.018761521\n",
            "epochs =  7 , step =  500 , loss value  =  0.021721242\n",
            "epochs =  8 , step =  0 , loss value  =  0.031765193\n",
            "epochs =  8 , step =  100 , loss value  =  0.016790835\n",
            "epochs =  8 , step =  200 , loss value  =  0.0054253507\n",
            "epochs =  8 , step =  300 , loss value  =  0.09244371\n",
            "epochs =  8 , step =  400 , loss value  =  0.018561576\n",
            "epochs =  8 , step =  500 , loss value  =  0.045890894\n",
            "epochs =  9 , step =  0 , loss value  =  0.008877261\n",
            "epochs =  9 , step =  100 , loss value  =  0.03460885\n",
            "epochs =  9 , step =  200 , loss value  =  0.01017403\n",
            "epochs =  9 , step =  300 , loss value  =  0.053342484\n",
            "epochs =  9 , step =  400 , loss value  =  0.015672844\n",
            "epochs =  9 , step =  500 , loss value  =  0.008302458\n",
            "epochs =  10 , step =  0 , loss value  =  0.01567085\n",
            "epochs =  10 , step =  100 , loss value  =  0.04233028\n",
            "epochs =  10 , step =  200 , loss value  =  0.07388199\n",
            "epochs =  10 , step =  300 , loss value  =  0.0105383685\n",
            "epochs =  10 , step =  400 , loss value  =  0.014912431\n",
            "epochs =  10 , step =  500 , loss value  =  0.007824787\n",
            "epochs =  11 , step =  0 , loss value  =  0.018143952\n",
            "epochs =  11 , step =  100 , loss value  =  0.006523315\n",
            "epochs =  11 , step =  200 , loss value  =  0.051936433\n",
            "epochs =  11 , step =  300 , loss value  =  0.042182587\n",
            "epochs =  11 , step =  400 , loss value  =  0.043584056\n",
            "epochs =  11 , step =  500 , loss value  =  0.0032923892\n",
            "epochs =  12 , step =  0 , loss value  =  0.015205725\n",
            "epochs =  12 , step =  100 , loss value  =  0.0035237914\n",
            "epochs =  12 , step =  200 , loss value  =  0.005909434\n",
            "epochs =  12 , step =  300 , loss value  =  0.0029478532\n",
            "epochs =  12 , step =  400 , loss value  =  0.023273867\n",
            "epochs =  12 , step =  500 , loss value  =  0.019590724\n",
            "epochs =  13 , step =  0 , loss value  =  0.039554637\n",
            "epochs =  13 , step =  100 , loss value  =  0.020083178\n",
            "epochs =  13 , step =  200 , loss value  =  0.02894701\n",
            "epochs =  13 , step =  300 , loss value  =  0.011345483\n",
            "epochs =  13 , step =  400 , loss value  =  0.002030088\n",
            "epochs =  13 , step =  500 , loss value  =  0.045268994\n",
            "epochs =  14 , step =  0 , loss value  =  0.015292461\n",
            "epochs =  14 , step =  100 , loss value  =  0.044572692\n",
            "epochs =  14 , step =  200 , loss value  =  0.002892324\n",
            "epochs =  14 , step =  300 , loss value  =  0.0056806332\n",
            "epochs =  14 , step =  400 , loss value  =  0.034650467\n",
            "epochs =  14 , step =  500 , loss value  =  0.0014911351\n",
            "epochs =  15 , step =  0 , loss value  =  0.0020506035\n",
            "epochs =  15 , step =  100 , loss value  =  0.044134546\n",
            "epochs =  15 , step =  200 , loss value  =  0.015732657\n",
            "epochs =  15 , step =  300 , loss value  =  0.017921811\n",
            "epochs =  15 , step =  400 , loss value  =  0.0033443908\n",
            "epochs =  15 , step =  500 , loss value  =  0.0068585942\n",
            "epochs =  16 , step =  0 , loss value  =  0.016257867\n",
            "epochs =  16 , step =  100 , loss value  =  0.027715795\n",
            "epochs =  16 , step =  200 , loss value  =  0.083148845\n",
            "epochs =  16 , step =  300 , loss value  =  0.0005949088\n",
            "epochs =  16 , step =  400 , loss value  =  0.017622866\n",
            "epochs =  16 , step =  500 , loss value  =  0.0034169839\n",
            "epochs =  17 , step =  0 , loss value  =  0.008532583\n",
            "epochs =  17 , step =  100 , loss value  =  0.0062071625\n",
            "epochs =  17 , step =  200 , loss value  =  0.0016706254\n",
            "epochs =  17 , step =  300 , loss value  =  0.009353622\n",
            "epochs =  17 , step =  400 , loss value  =  0.029877307\n",
            "epochs =  17 , step =  500 , loss value  =  0.038364533\n",
            "epochs =  18 , step =  0 , loss value  =  0.003876538\n",
            "epochs =  18 , step =  100 , loss value  =  0.021524437\n",
            "epochs =  18 , step =  200 , loss value  =  0.012717402\n",
            "epochs =  18 , step =  300 , loss value  =  0.012068523\n",
            "epochs =  18 , step =  400 , loss value  =  0.0077180183\n",
            "epochs =  18 , step =  500 , loss value  =  0.0049108337\n",
            "epochs =  19 , step =  0 , loss value  =  0.01097718\n",
            "epochs =  19 , step =  100 , loss value  =  0.001347836\n",
            "epochs =  19 , step =  200 , loss value  =  0.0077885403\n",
            "epochs =  19 , step =  300 , loss value  =  0.0061948057\n",
            "epochs =  19 , step =  400 , loss value  =  0.050151434\n",
            "epochs =  19 , step =  500 , loss value  =  0.006398427\n",
            "epochs =  20 , step =  0 , loss value  =  0.001759485\n",
            "epochs =  20 , step =  100 , loss value  =  0.02315247\n",
            "epochs =  20 , step =  200 , loss value  =  0.0023806035\n",
            "epochs =  20 , step =  300 , loss value  =  0.0064023365\n",
            "epochs =  20 , step =  400 , loss value  =  0.0011834092\n",
            "epochs =  20 , step =  500 , loss value  =  0.02267406\n",
            "epochs =  21 , step =  0 , loss value  =  0.019715298\n",
            "epochs =  21 , step =  100 , loss value  =  0.00063264946\n",
            "epochs =  21 , step =  200 , loss value  =  0.006591522\n",
            "epochs =  21 , step =  300 , loss value  =  0.005367303\n",
            "epochs =  21 , step =  400 , loss value  =  0.018304667\n",
            "epochs =  21 , step =  500 , loss value  =  0.006922705\n",
            "epochs =  22 , step =  0 , loss value  =  0.020018838\n",
            "epochs =  22 , step =  100 , loss value  =  0.0029728499\n",
            "epochs =  22 , step =  200 , loss value  =  0.018815875\n",
            "epochs =  22 , step =  300 , loss value  =  0.028322443\n",
            "epochs =  22 , step =  400 , loss value  =  0.001904368\n",
            "epochs =  22 , step =  500 , loss value  =  0.00086386636\n",
            "epochs =  23 , step =  0 , loss value  =  0.026253965\n",
            "epochs =  23 , step =  100 , loss value  =  0.00015119645\n",
            "epochs =  23 , step =  200 , loss value  =  0.00019187349\n",
            "epochs =  23 , step =  300 , loss value  =  0.0003555591\n",
            "epochs =  23 , step =  400 , loss value  =  0.030174933\n",
            "epochs =  23 , step =  500 , loss value  =  0.010116306\n",
            "epochs =  24 , step =  0 , loss value  =  0.0016817458\n",
            "epochs =  24 , step =  100 , loss value  =  0.014138881\n",
            "epochs =  24 , step =  200 , loss value  =  0.00017372999\n",
            "epochs =  24 , step =  300 , loss value  =  0.037830144\n",
            "epochs =  24 , step =  400 , loss value  =  0.030699646\n",
            "epochs =  24 , step =  500 , loss value  =  0.021906758\n",
            "epochs =  25 , step =  0 , loss value  =  0.0050698924\n",
            "epochs =  25 , step =  100 , loss value  =  0.019494865\n",
            "epochs =  25 , step =  200 , loss value  =  0.00059137953\n",
            "epochs =  25 , step =  300 , loss value  =  0.0027120032\n",
            "epochs =  25 , step =  400 , loss value  =  0.04715436\n",
            "epochs =  25 , step =  500 , loss value  =  0.003638145\n",
            "epochs =  26 , step =  0 , loss value  =  0.010984787\n",
            "epochs =  26 , step =  100 , loss value  =  0.036047384\n",
            "epochs =  26 , step =  200 , loss value  =  0.010397963\n",
            "epochs =  26 , step =  300 , loss value  =  0.008813264\n",
            "epochs =  26 , step =  400 , loss value  =  0.017093176\n",
            "epochs =  26 , step =  500 , loss value  =  0.008920724\n",
            "epochs =  27 , step =  0 , loss value  =  1.7474866e-05\n",
            "epochs =  27 , step =  100 , loss value  =  0.00013822346\n",
            "epochs =  27 , step =  200 , loss value  =  0.0002573241\n",
            "epochs =  27 , step =  300 , loss value  =  0.010323968\n",
            "epochs =  27 , step =  400 , loss value  =  0.0312969\n",
            "epochs =  27 , step =  500 , loss value  =  0.017411763\n",
            "epochs =  28 , step =  0 , loss value  =  0.006301467\n",
            "epochs =  28 , step =  100 , loss value  =  0.00015994615\n",
            "epochs =  28 , step =  200 , loss value  =  0.0010584466\n",
            "epochs =  28 , step =  300 , loss value  =  0.0003799114\n",
            "epochs =  28 , step =  400 , loss value  =  0.007976253\n",
            "epochs =  28 , step =  500 , loss value  =  0.0012842342\n",
            "epochs =  29 , step =  0 , loss value  =  0.008469821\n",
            "epochs =  29 , step =  100 , loss value  =  0.017658897\n",
            "epochs =  29 , step =  200 , loss value  =  9.610031e-05\n",
            "epochs =  29 , step =  300 , loss value  =  4.3495747e-05\n",
            "epochs =  29 , step =  400 , loss value  =  0.01009933\n",
            "epochs =  29 , step =  500 , loss value  =  0.031374738\n",
            "epochs =  30 , step =  0 , loss value  =  0.037300494\n",
            "epochs =  30 , step =  100 , loss value  =  0.008490136\n",
            "epochs =  30 , step =  200 , loss value  =  0.004813153\n",
            "epochs =  30 , step =  300 , loss value  =  0.007298814\n",
            "epochs =  30 , step =  400 , loss value  =  0.0010088562\n",
            "epochs =  30 , step =  500 , loss value  =  0.0009895993\n",
            "\n",
            "Elapsed time =  0:01:25.092560\n",
            "\n",
            "Accuracy =  0.9911\n"
          ],
          "name": "stdout"
        }
      ]
    },
    {
      "cell_type": "code",
      "metadata": {
        "colab": {
          "base_uri": "https://localhost:8080/"
        },
        "id": "eiRLLSiBj0bE",
        "outputId": "14547f00-f7d9-4a77-8c24-ab6724ad478b"
      },
      "source": [
        "print(index_label_prediction_list)"
      ],
      "execution_count": 16,
      "outputs": [
        {
          "output_type": "stream",
          "text": [
            "[[18, 3, 5], [92, 9, 4], [115, 4, 9], [158, 3, 2], [247, 4, 2], [326, 2, 4], [404, 2, 7], [445, 6, 0], [449, 3, 5], [582, 8, 2], [583, 2, 7], [646, 2, 4], [674, 5, 3], [740, 4, 9], [839, 8, 3], [947, 8, 9], [1014, 6, 5], [1039, 7, 1], [1128, 3, 7], [1182, 6, 5], [1226, 7, 2], [1232, 9, 4], [1260, 7, 1], [1393, 5, 3], [1522, 7, 9], [1559, 9, 5], [1709, 9, 5], [1901, 9, 4], [2052, 8, 4], [2130, 4, 9], [2387, 9, 1], [2582, 9, 5], [2654, 6, 1], [2678, 4, 9], [2836, 4, 2], [2939, 9, 5], [2953, 3, 5], [2995, 6, 8], [3005, 9, 8], [3062, 8, 6], [3225, 7, 9], [3384, 2, 6], [3422, 6, 0], [3451, 7, 9], [3520, 6, 4], [3558, 5, 0], [3869, 9, 4], [3943, 3, 5], [4176, 2, 7], [4265, 4, 7], [4284, 9, 5], [4497, 8, 2], [4507, 1, 7], [4551, 7, 5], [4639, 8, 9], [4740, 3, 5], [4823, 9, 6], [4890, 8, 3], [5268, 9, 8], [5269, 9, 8], [5623, 3, 5], [5654, 7, 2], [5749, 8, 5], [5937, 5, 3], [5955, 3, 8], [5997, 5, 9], [6023, 3, 9], [6560, 9, 5], [6571, 9, 7], [6576, 7, 1], [6597, 0, 9], [6608, 9, 5], [6651, 0, 8], [6755, 8, 9], [7216, 0, 6], [8059, 2, 1], [8246, 3, 5], [8277, 3, 5], [8316, 7, 2], [8408, 8, 5], [9015, 7, 2], [9505, 7, 2], [9530, 9, 8], [9587, 9, 4], [9620, 9, 7], [9622, 1, 7], [9664, 2, 7], [9700, 2, 8], [9729, 5, 6]]\n"
          ],
          "name": "stdout"
        }
      ]
    },
    {
      "cell_type": "code",
      "metadata": {
        "id": "IFGk9rxUk6w1"
      },
      "source": [
        ""
      ],
      "execution_count": null,
      "outputs": []
    }
  ]
}