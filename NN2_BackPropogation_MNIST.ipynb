{
  "nbformat": 4,
  "nbformat_minor": 0,
  "metadata": {
    "colab": {
      "name": "NN2_BackPropogation_MNIST",
      "provenance": [],
      "mount_file_id": "1oEvVJ0WT-ph7qJTO78LMSijYUBGDBYfV",
      "authorship_tag": "ABX9TyPguGFg6EN9AEVkpXhnFvZ8",
      "include_colab_link": true
    },
    "kernelspec": {
      "name": "python3",
      "display_name": "Python 3"
    }
  },
  "cells": [
    {
      "cell_type": "markdown",
      "metadata": {
        "id": "view-in-github",
        "colab_type": "text"
      },
      "source": [
        "<a href=\"https://colab.research.google.com/github/HIsu1231/AI_INOVATION_SQUARE/blob/master/NN2_BackPropogation_MNIST.ipynb\" target=\"_parent\"><img src=\"https://colab.research.google.com/assets/colab-badge.svg\" alt=\"Open In Colab\"/></a>"
      ]
    },
    {
      "cell_type": "code",
      "metadata": {
        "id": "E8xtTJrewC2u"
      },
      "source": [
        "import numpy as np\n",
        "import matplotlib.pyplot as plt\n",
        "from datetime import datetime"
      ],
      "execution_count": 1,
      "outputs": []
    },
    {
      "cell_type": "code",
      "metadata": {
        "id": "T-sZSkiU07Qq"
      },
      "source": [
        "def sigmoid(z):\n",
        "  return 1 / (1 + np.exp(-z))"
      ],
      "execution_count": 2,
      "outputs": []
    },
    {
      "cell_type": "code",
      "metadata": {
        "id": "L4BENKCC0-tz"
      },
      "source": [
        "class NeuralNetwork():\n",
        "\n",
        "  def __init__(self, input_nodes, hidden1_nodes, hidden2_nodes, output_nodes, learning_rate):\n",
        "\n",
        "    self.W2 = np.random.randn(input_nodes, hidden1_nodes) / np.sqrt(input_nodes/2)\n",
        "    self.b2 = np.random.rand(hidden1_nodes)\n",
        "\n",
        "    self.W3 = np.random.randn(hidden1_nodes, hidden2_nodes) / np.sqrt(hidden1_nodes/2)\n",
        "    self.b3 = np.random.rand(hidden2_nodes)\n",
        "\n",
        "    self.W4 = np.random.randn(hidden2_nodes, output_nodes) / np.sqrt(hidden2_nodes/2)\n",
        "    self.b4 = np.random.rand(output_nodes)\n",
        "\n",
        "    self.learning_rate = learning_rate\n",
        "\n",
        "  def feed_forward(self):\n",
        "\n",
        "    delta = 1e-7\n",
        "\n",
        "    self.z1 = self.input_data\n",
        "    self.a1 = self.input_data\n",
        "    \n",
        "    self.z2 = np.dot(self.a1, self.W2) + self.b2\n",
        "    self.a2 = sigmoid(self.z2)\n",
        "\n",
        "    self.z3 = np.dot(self.a2, self.W3) + self.b3\n",
        "    self.a3 = sigmoid(self.z3) \n",
        "\n",
        "    self.z4 = np.dot(self.a3, self.W4) + self.b4\n",
        "    self.a4 = sigmoid(self.z4)\n",
        "\n",
        "    return -np.sum(self.target_data * np.log(self.a4 + delta) + (1 - self.target_data) * np.log((1 - self.a4) + delta))\n",
        "\n",
        "  def loss_val(self):\n",
        "\n",
        "    delta = 1e-7\n",
        "\n",
        "    self.z1 = self.input_data\n",
        "    self.a1 = self.input_data\n",
        "\n",
        "    self.z2 = np.dot(self.a1, self.W2) + self.b2\n",
        "    self.a2 = sigmoid(self.z2)\n",
        "\n",
        "    self.z3 = np.dot(self.a2, self.W3) + self.b3\n",
        "    self.a3 = sigmoid(self.z3)\n",
        "\n",
        "    self.z4 = np.dot(self.a3, self.W4) + self.b4\n",
        "    self.a4 = sigmoid(self.z4)\n",
        "\n",
        "    return -np.sum(self.target_data * np.log(self.a4 + delta) + (1 - self.target_data) * np.log((1 - self.a4) + delta))\n",
        "\n",
        "  def accuracy(self, test_input_data, test_target_data):\n",
        "\n",
        "    matched_list = []\n",
        "    unmatched_list = []\n",
        "\n",
        "    for i in range(len(test_input_data)):\n",
        "\n",
        "      label = int(test_target_data[i])\n",
        "\n",
        "      data = (test_input_data[i] / 255.0 * 0.99) + 0.01\n",
        "\n",
        "      predicted_num = self.predict(np.array(data, ndmin=2))\n",
        "\n",
        "      if predicted_num == label:\n",
        "        matched_list.append(i)\n",
        "\n",
        "      else:\n",
        "        unmatched_list.append(i)\n",
        "\n",
        "    accuracy_val = len(matched_list)/len(test_input_data)\n",
        "\n",
        "    return accuracy_val, unmatched_list\n",
        "\n",
        "  def train(self, input_data, target_data):\n",
        "\n",
        "    self.input_data = input_data\n",
        "    self.target_data = target_data\n",
        "\n",
        "    loss_val = self.feed_forward()\n",
        "\n",
        "    loss_4 = (self.a4 - self.target_data) * self.a4 * (1 - self.a4)\n",
        "    loss_3 = np.dot(loss_4,self.W4.T) * self.a3 * (1 - self.a3)\n",
        "    loss_2 = np.dot(loss_3,self.W3.T) * self.a2 * (1 - self.a2)\n",
        "\n",
        "    self.W2 = self.W2 - self.learning_rate * np.dot(self.a1.T,loss_2)\n",
        "    self.b2 = self.b2 - self.learning_rate * loss_2\n",
        "\n",
        "    self.W3 = self.W3 - self.learning_rate * np.dot(self.a2.T,loss_3)\n",
        "    self.b3 = self.b3 - self.learning_rate * loss_3\n",
        "\n",
        "    self.W4 = self.W4 - self.learning_rate * np.dot(self.a3.T,loss_4)\n",
        "    self.b4 = self.b4 - self.learning_rate * loss_4\n",
        "\n",
        "  def predict(self, input_data):\n",
        "\n",
        "    z2 = np.dot(input_data, self.W2) + self.b2\n",
        "    a2 = sigmoid(z2)\n",
        "\n",
        "    z3 = np.dot(a2,self.W3) + self.b3\n",
        "    a3 = sigmoid(z3)\n",
        "\n",
        "    z4 = np.dot(a3,self.W4) + self.b4\n",
        "    a4 = sigmoid(z4)\n",
        "\n",
        "    predicted_num = np.argmax(a4)\n",
        "    \n",
        "    return predicted_num"
      ],
      "execution_count": 14,
      "outputs": []
    },
    {
      "cell_type": "code",
      "metadata": {
        "colab": {
          "base_uri": "https://localhost:8080/",
          "height": 35
        },
        "id": "90WWyQXn8FtO",
        "outputId": "a7629a39-0d91-42f6-c8cd-5107f456d292"
      },
      "source": [
        "pwd"
      ],
      "execution_count": 7,
      "outputs": [
        {
          "output_type": "execute_result",
          "data": {
            "application/vnd.google.colaboratory.intrinsic+json": {
              "type": "string"
            },
            "text/plain": [
              "'/content'"
            ]
          },
          "metadata": {
            "tags": []
          },
          "execution_count": 7
        }
      ]
    },
    {
      "cell_type": "code",
      "metadata": {
        "colab": {
          "base_uri": "https://localhost:8080/"
        },
        "id": "GfnYVK0H7x6k",
        "outputId": "ac081f3e-4f94-48ad-e34f-943e89fd0877"
      },
      "source": [
        "training_data = np.loadtxt(\"./drive/MyDrive/AI_INOVATION_SQUARE/data/mnist_train.csv\",delimiter=',',dtype=np.float32)\n",
        "\n",
        "print(\"training_data.shape = \",training_data.shape)"
      ],
      "execution_count": 9,
      "outputs": [
        {
          "output_type": "stream",
          "text": [
            "training_data.shape =  (60000, 785)\n"
          ],
          "name": "stdout"
        }
      ]
    },
    {
      "cell_type": "markdown",
      "metadata": {
        "id": "BbftiSn_AWpI"
      },
      "source": [
        "### 784 X 30 X 20 X 1"
      ]
    },
    {
      "cell_type": "code",
      "metadata": {
        "colab": {
          "base_uri": "https://localhost:8080/"
        },
        "id": "wHnM6Ne978sj",
        "outputId": "118df379-ff1d-4b15-8ea9-bbf28d528918"
      },
      "source": [
        "#hyper_parameter\n",
        "\n",
        "i_nodes = training_data.shape[1] - 1\n",
        "h1_nodes = 30\n",
        "h2_nodes = 20\n",
        "o_nodes = 10\n",
        "epochs = 1\n",
        "lr = 0.1\n",
        "\n",
        "loss_val_list = []\n",
        "\n",
        "nn = NeuralNetwork(i_nodes, h1_nodes, h2_nodes, o_nodes, lr)\n",
        "\n",
        "start_time = datetime.now()\n",
        "\n",
        "for i in range(epochs):\n",
        "  for step in range(len(training_data)):\n",
        "    \n",
        "    target_data = np.zeros(o_nodes) + 0.01\n",
        "    target_data[int(training_data[step,0])] = 0.99\n",
        "\n",
        "    input_data = (training_data[step, 1: ] / 255.0 * 0.99) + 0.01\n",
        "\n",
        "    nn.train(np.array(input_data,ndmin=2), np.array(target_data, ndmin=2))\n",
        "\n",
        "    if step % 1000 == 0:\n",
        "      print(\"step = \",step, \", current loss value = \",nn.loss_val())\n",
        "\n",
        "    loss_val_list.append(nn.loss_val())   \n",
        "\n",
        "end_time = datetime.now()\n",
        "print(\"\\nElapsed time => \",end_time - start_time)"
      ],
      "execution_count": 15,
      "outputs": [
        {
          "output_type": "stream",
          "text": [
            "step =  0 , current loss value =  8.159334613843551\n",
            "step =  1000 , current loss value =  3.2630909893148963\n",
            "step =  2000 , current loss value =  3.010374485419561\n",
            "step =  3000 , current loss value =  3.931427341854813\n",
            "step =  4000 , current loss value =  1.8576414747734975\n",
            "step =  5000 , current loss value =  1.351927801608633\n",
            "step =  6000 , current loss value =  1.253147996442288\n",
            "step =  7000 , current loss value =  2.140847520120467\n",
            "step =  8000 , current loss value =  0.8404061148306456\n",
            "step =  9000 , current loss value =  1.1782008311543932\n",
            "step =  10000 , current loss value =  0.9362638202255964\n",
            "step =  11000 , current loss value =  0.8636883531106104\n",
            "step =  12000 , current loss value =  1.1638263782346558\n",
            "step =  13000 , current loss value =  1.0274027748268464\n",
            "step =  14000 , current loss value =  0.6612808438377471\n",
            "step =  15000 , current loss value =  1.014205170877493\n",
            "step =  16000 , current loss value =  0.8010794718537702\n",
            "step =  17000 , current loss value =  1.0280788354149357\n",
            "step =  18000 , current loss value =  0.9617846359321633\n",
            "step =  19000 , current loss value =  0.9494663236779669\n",
            "step =  20000 , current loss value =  0.7580957841184003\n",
            "step =  21000 , current loss value =  1.1327170414916412\n",
            "step =  22000 , current loss value =  0.9516602848689901\n",
            "step =  23000 , current loss value =  0.7103456697388258\n",
            "step =  24000 , current loss value =  0.7048575654354595\n",
            "step =  25000 , current loss value =  1.2447929213889897\n",
            "step =  26000 , current loss value =  0.7485909320405906\n",
            "step =  27000 , current loss value =  1.0284211523734517\n",
            "step =  28000 , current loss value =  0.6902856827174642\n",
            "step =  29000 , current loss value =  0.6420550686418908\n",
            "step =  30000 , current loss value =  0.695617049274926\n",
            "step =  31000 , current loss value =  1.874085461041058\n",
            "step =  32000 , current loss value =  0.6964494210898972\n",
            "step =  33000 , current loss value =  1.1181119588636708\n",
            "step =  34000 , current loss value =  0.8974659851652644\n",
            "step =  35000 , current loss value =  0.6758014054933911\n",
            "step =  36000 , current loss value =  0.9112766583940322\n",
            "step =  37000 , current loss value =  0.6590162728172544\n",
            "step =  38000 , current loss value =  0.6413153315188409\n",
            "step =  39000 , current loss value =  1.2824930592548855\n",
            "step =  40000 , current loss value =  0.7256818821009406\n",
            "step =  41000 , current loss value =  0.7332440689442534\n",
            "step =  42000 , current loss value =  0.6669021405062607\n",
            "step =  43000 , current loss value =  0.8975300428230308\n",
            "step =  44000 , current loss value =  0.6912058649780118\n",
            "step =  45000 , current loss value =  0.7467678033333407\n",
            "step =  46000 , current loss value =  0.7921647050677574\n",
            "step =  47000 , current loss value =  0.6980341532625629\n",
            "step =  48000 , current loss value =  0.7166249085355438\n",
            "step =  49000 , current loss value =  0.6682225507392505\n",
            "step =  50000 , current loss value =  0.770573199061273\n",
            "step =  51000 , current loss value =  0.7578649904815798\n",
            "step =  52000 , current loss value =  0.7348682810594215\n",
            "step =  53000 , current loss value =  0.7605811257498556\n",
            "step =  54000 , current loss value =  0.9217840173533282\n",
            "step =  55000 , current loss value =  0.6799058745994202\n",
            "step =  56000 , current loss value =  0.6671709366573786\n",
            "step =  57000 , current loss value =  0.7485968560434897\n",
            "step =  58000 , current loss value =  0.9069540515409207\n",
            "step =  59000 , current loss value =  0.7779238880798671\n",
            "\n",
            "Elapsed time =>  0:00:22.516287\n"
          ],
          "name": "stdout"
        }
      ]
    },
    {
      "cell_type": "code",
      "metadata": {
        "colab": {
          "base_uri": "https://localhost:8080/",
          "height": 295
        },
        "id": "_RfJ8BrqBdwA",
        "outputId": "aa78a313-6be3-43d4-a5e6-ea887aa9fe9d"
      },
      "source": [
        "#손실함수 추세 확인\n",
        "\n",
        "Y_DATA_LIST = []\n",
        "\n",
        "for i in range(0, len(loss_val_list), 500):\n",
        "  Y_DATA_LIST.append(loss_val_list[i])\n",
        "\n",
        "plt.title('MNIST Loss Value Trend')\n",
        "plt.xlabel('data index ( X 500)')\n",
        "plt.ylabel('loss value')\n",
        "plt.grid()\n",
        "plt.plot(Y_DATA_LIST, color='b')\n",
        "plt.show()"
      ],
      "execution_count": 18,
      "outputs": [
        {
          "output_type": "display_data",
          "data": {
            "image/png": "[encoded data removed]",
            "text/plain": [
              "<Figure size 432x288 with 1 Axes>"
            ]
          },
          "metadata": {
            "tags": [],
            "needs_background": "light"
          }
        }
      ]
    },
    {
      "cell_type": "code",
      "metadata": {
        "colab": {
          "base_uri": "https://localhost:8080/"
        },
        "id": "C9e73u8c-Edi",
        "outputId": "57b7d8b7-e460-4f28-a03d-fdf7c83caf6d"
      },
      "source": [
        "test_data = np.loadtxt(\"./drive/MyDrive/AI_INOVATION_SQUARE/data/mnist_test.csv\",delimiter=',',dtype=np.float32)\n",
        "\n",
        "test_input_data = test_data[:,1: ]\n",
        "test_target_data = test_data[:,0]\n",
        "\n",
        "print(\"test_data.shape = \",test_data.shape)\n",
        "\n",
        "(acc_ret, false_list) = nn.accuracy(test_input_data, test_target_data)\n",
        "\n",
        "print(\"Accuracy = \", np.round(100*acc_ret,3),\"%\")"
      ],
      "execution_count": 17,
      "outputs": [
        {
          "output_type": "stream",
          "text": [
            "test_data.shape =  (10000, 785)\n",
            "Accuracy =  92.04 %\n"
          ],
          "name": "stdout"
        }
      ]
    },
    {
      "cell_type": "markdown",
      "metadata": {
        "id": "Ra7Ihzd2Age2"
      },
      "source": [
        "### 784 X 40 X 40 X 10"
      ]
    },
    {
      "cell_type": "code",
      "metadata": {
        "colab": {
          "base_uri": "https://localhost:8080/"
        },
        "id": "88B5Rz2g_Bl8",
        "outputId": "3ee4f812-fd58-47e0-802d-f95239545c06"
      },
      "source": [
        "i_nodes = training_data.shape[1] - 1\n",
        "h1_nodes = 40\n",
        "h2_nodes = 40\n",
        "o_nodes = 10\n",
        "lr = 0.1\n",
        "epochs = 1\n",
        "\n",
        "nn = NeuralNetwork(i_nodes, h1_nodes, h2_nodes, o_nodes, lr)\n",
        "\n",
        "loss_val_list = []\n",
        "\n",
        "start_time = datetime.now()\n",
        "\n",
        "for i in range(epochs):\n",
        "  for step in range(len(training_data)):\n",
        "\n",
        "    target_data = np.zeros(o_nodes) + 0.01\n",
        "    target_data[int(training_data[step,0])] = 0.99\n",
        "\n",
        "    input_data = (training_data[step, 1: ] / 255.0 * 0.99) + 0.01\n",
        "\n",
        "    nn.train(np.array(input_data,ndmin = 2),np.array(target_data, ndmin=2))\n",
        "\n",
        "    if step % 1000 == 0:\n",
        "      print(\"step = \",step,\", current loss value = \",nn.loss_val())\n",
        "\n",
        "    loss_val_list.append(nn.loss_val())\n",
        "\n",
        "end_time = datetime.now()\n",
        "print(\"\\nElapsed time = \",end_time - start_time)"
      ],
      "execution_count": 20,
      "outputs": [
        {
          "output_type": "stream",
          "text": [
            "step =  0 , current loss value =  9.456169969764241\n",
            "step =  1000 , current loss value =  3.1753315407163933\n",
            "step =  2000 , current loss value =  3.1292890418663375\n",
            "step =  3000 , current loss value =  3.6287681096208795\n",
            "step =  4000 , current loss value =  1.477742997719899\n",
            "step =  5000 , current loss value =  1.1475729207422056\n",
            "step =  6000 , current loss value =  0.8765701777074475\n",
            "step =  7000 , current loss value =  1.504598181601438\n",
            "step =  8000 , current loss value =  0.7861331115122389\n",
            "step =  9000 , current loss value =  0.9918213204567854\n",
            "step =  10000 , current loss value =  0.7616188302712054\n",
            "step =  11000 , current loss value =  0.7420560503679636\n",
            "step =  12000 , current loss value =  0.8754705255357429\n",
            "step =  13000 , current loss value =  0.9613803536105211\n",
            "step =  14000 , current loss value =  0.6608428463664193\n",
            "step =  15000 , current loss value =  1.0593695783223724\n",
            "step =  16000 , current loss value =  0.6793350259524988\n",
            "step =  17000 , current loss value =  0.9284146896101991\n",
            "step =  18000 , current loss value =  0.9213797328213403\n",
            "step =  19000 , current loss value =  0.9196814017038732\n",
            "step =  20000 , current loss value =  0.7334445038655336\n",
            "step =  21000 , current loss value =  1.0745415991613565\n",
            "step =  22000 , current loss value =  0.9480726446599521\n",
            "step =  23000 , current loss value =  0.6992098014343355\n",
            "step =  24000 , current loss value =  0.7084467447341238\n",
            "step =  25000 , current loss value =  1.3580929824669643\n",
            "step =  26000 , current loss value =  0.6592773885455303\n",
            "step =  27000 , current loss value =  0.9732494794690136\n",
            "step =  28000 , current loss value =  0.7006178843837505\n",
            "step =  29000 , current loss value =  0.7124067050268721\n",
            "step =  30000 , current loss value =  0.6829637601220516\n",
            "step =  31000 , current loss value =  1.7864822829688332\n",
            "step =  32000 , current loss value =  0.6528312054831634\n",
            "step =  33000 , current loss value =  0.9734305784863828\n",
            "step =  34000 , current loss value =  0.8067009532715569\n",
            "step =  35000 , current loss value =  0.6972043579091413\n",
            "step =  36000 , current loss value =  0.867605059832405\n",
            "step =  37000 , current loss value =  0.6832705179736334\n",
            "step =  38000 , current loss value =  0.6745063948357961\n",
            "step =  39000 , current loss value =  1.1422223812454741\n",
            "step =  40000 , current loss value =  0.7058009863332781\n",
            "step =  41000 , current loss value =  0.7015416041030067\n",
            "step =  42000 , current loss value =  0.7025172564331006\n",
            "step =  43000 , current loss value =  1.1831059305481755\n",
            "step =  44000 , current loss value =  0.7145793701623918\n",
            "step =  45000 , current loss value =  0.7738019926156227\n",
            "step =  46000 , current loss value =  0.7907654907278028\n",
            "step =  47000 , current loss value =  0.696767027972357\n",
            "step =  48000 , current loss value =  0.7737721995746549\n",
            "step =  49000 , current loss value =  0.6642860963425414\n",
            "step =  50000 , current loss value =  0.7949243344871473\n",
            "step =  51000 , current loss value =  0.8039222584269613\n",
            "step =  52000 , current loss value =  0.9005254601599924\n",
            "step =  53000 , current loss value =  0.6522244828254629\n",
            "step =  54000 , current loss value =  0.7129221566326212\n",
            "step =  55000 , current loss value =  0.7264094295424306\n",
            "step =  56000 , current loss value =  0.781977255133098\n",
            "step =  57000 , current loss value =  0.7316553808860025\n",
            "step =  58000 , current loss value =  0.7885857615487938\n",
            "step =  59000 , current loss value =  0.7651379538181938\n",
            "\n",
            "Elapsed time =  0:00:24.769549\n"
          ],
          "name": "stdout"
        }
      ]
    },
    {
      "cell_type": "code",
      "metadata": {
        "colab": {
          "base_uri": "https://localhost:8080/",
          "height": 295
        },
        "id": "rSl6QaN8Bskt",
        "outputId": "e03abbb7-ab89-4309-a609-279ae95f42e7"
      },
      "source": [
        "#손실함수 추세 확인\n",
        "\n",
        "Y_DATA_LIST = []\n",
        "\n",
        "for i in range(0, len(loss_val_list), 500):\n",
        "  Y_DATA_LIST.append(loss_val_list[i])\n",
        "\n",
        "plt.title('MNIST Loss Value Trend')\n",
        "plt.xlabel('data index ( X 500)')\n",
        "plt.ylabel('loss value')\n",
        "plt.grid()\n",
        "plt.plot(Y_DATA_LIST, color='b')\n",
        "plt.show()"
      ],
      "execution_count": 21,
      "outputs": [
        {
          "output_type": "display_data",
          "data": {
            "image/png": "[encoded data removed]",
            "text/plain": [
              "<Figure size 432x288 with 1 Axes>"
            ]
          },
          "metadata": {
            "tags": [],
            "needs_background": "light"
          }
        }
      ]
    },
    {
      "cell_type": "code",
      "metadata": {
        "colab": {
          "base_uri": "https://localhost:8080/"
        },
        "id": "KCBBcR62B4oT",
        "outputId": "00b01b9b-4a3c-4356-bccc-91431787c08a"
      },
      "source": [
        "(acc_ret, false_list) = nn.accuracy(test_input_data, test_target_data)\n",
        "\n",
        "print(\"Accuracy = \", np.round(acc_ret*100,3),'%')"
      ],
      "execution_count": 22,
      "outputs": [
        {
          "output_type": "stream",
          "text": [
            "Accuracy =  92.97 %\n"
          ],
          "name": "stdout"
        }
      ]
    },
    {
      "cell_type": "code",
      "metadata": {
        "id": "uhgL256OCDON"
      },
      "source": [
        ""
      ],
      "execution_count": null,
      "outputs": []
    }
  ]
}