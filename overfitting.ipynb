{
  "nbformat": 4,
  "nbformat_minor": 0,
  "metadata": {
    "colab": {
      "name": "overfitting.ipynb",
      "provenance": [],
      "mount_file_id": "1iPRoNhoRl5IPpV6uIUj6FUOg8l1DsqXh",
      "authorship_tag": "ABX9TyNmCyHTJcQEnoaZ8CpFdTlX",
      "include_colab_link": true
    },
    "kernelspec": {
      "name": "python3",
      "display_name": "Python 3"
    }
  },
  "cells": [
    {
      "cell_type": "markdown",
      "metadata": {
        "id": "view-in-github",
        "colab_type": "text"
      },
      "source": [
        "<a href=\"https://colab.research.google.com/github/HIsu1231/AI_INOVATION_SQUARE/blob/master/overfitting.ipynb\" target=\"_parent\"><img src=\"https://colab.research.google.com/assets/colab-badge.svg\" alt=\"Open In Colab\"/></a>"
      ]
    },
    {
      "cell_type": "code",
      "metadata": {
        "id": "LDqKquit8j2E"
      },
      "source": [
        "import numpy as np\n",
        "import matplotlib.pyplot as plt\n",
        "from datetime import datetime\n",
        "\n",
        "np.random.seed(0)"
      ],
      "execution_count": 1,
      "outputs": []
    },
    {
      "cell_type": "code",
      "metadata": {
        "id": "jXfx-pnE_Hzf"
      },
      "source": [
        "# 수치미분 함수\n",
        "\n",
        "def numerical_derivative(f, x):\n",
        "    delta_x = 1e-4 # 0.0001\n",
        "    grad = np.zeros_like(x)\n",
        "    \n",
        "    it = np.nditer(x, flags=['multi_index'], op_flags=['readwrite'])\n",
        "    \n",
        "    while not it.finished:\n",
        "        idx = it.multi_index        \n",
        "        tmp_val = x[idx]\n",
        "        x[idx] = float(tmp_val) + delta_x\n",
        "        fx1 = f(x) # f(x+delta_x)\n",
        "        \n",
        "        x[idx] = tmp_val - delta_x \n",
        "        fx2 = f(x) # f(x-delta_x)\n",
        "        grad[idx] = (fx1 - fx2) / (2*delta_x)\n",
        "        \n",
        "        x[idx] = tmp_val \n",
        "        it.iternext()   \n",
        "        \n",
        "    return grad\n",
        "\n",
        "# sigmoid 함수\n",
        "\n",
        "def sigmoid(x):\n",
        "    return 1 / (1+np.exp(-x))"
      ],
      "execution_count": 2,
      "outputs": []
    },
    {
      "cell_type": "code",
      "metadata": {
        "id": "Cqbizd048n6q"
      },
      "source": [
        "class DataGeneration:\n",
        "\n",
        "  def __init__(self, name, file_path, seperation_rate, target_position=-1):\n",
        "\n",
        "    self.name = name\n",
        "\n",
        "    self.file_path = file_path\n",
        "\n",
        "    self.seperation_rate = seperation_rate\n",
        "\n",
        "    if (target_position == -1 or target_position == 0):\n",
        "      self.target_position = target_position\n",
        "    else:\n",
        "      err_str = \"target position must be -1 or 0\"\n",
        "      raise Exception(err_str)\n",
        "\n",
        "    print(self.name, \"data generation start!\")\n",
        "\n",
        "\n",
        "  def __display_target_distribution(self, data, str_of_kind='original data'):\n",
        "\n",
        "    print(\"===================================================================\")\n",
        "\n",
        "    target_data = data[:,self.target_position] \n",
        "\n",
        "    unique, counts = np.unique(target_data, return_counts=True) \n",
        "\n",
        "    for i in range(len(unique)):\n",
        "      print(\"[DataGeneration] unique number of \" + str_of_kind + ' = ', unique[i], 'count = ',counts[i])\n",
        "\n",
        "    for i in range(len(unique)):\n",
        "      print(\"[DataGeneration] unique number of \" + str_of_kind + ' = ', unique[i], 'ratio = ',np.round(100*counts[i]/len(target_data),2),'%')\n",
        "    \n",
        "    print(\"===================================================================\")\n",
        "\n",
        "\n",
        "  def generate(self):\n",
        "\n",
        "    try:\n",
        "      loaded_data = np.loadtxt(self.file_path, delimiter=',',dtype=np.float32)\n",
        "    \n",
        "    except Exception as err:\n",
        "      print('[DataGeneration::generate()]',str(err))\n",
        "      raise Exception(str(err))\n",
        "\n",
        "    print(\"[DataGeneration] loaded_data.shape = \",loaded_data.shape)\n",
        "\n",
        "    self.__display_target_distribution(loaded_data,'original data')\n",
        "\n",
        "    total_data_num = loaded_data.shape[0]\n",
        "    test_data_num = int(total_data_num * self.seperation_rate)\n",
        "\n",
        "    np.random.shuffle(loaded_data)\n",
        "\n",
        "    test_data = loaded_data[0:test_data_num]\n",
        "    training_data = loaded_data[test_data_num: ]\n",
        "\n",
        "    self.__display_target_distribution(training_data,'training data')\n",
        "    self.__display_target_distribution(test_data,'test data')\n",
        "\n",
        "    return training_data, test_data"
      ],
      "execution_count": 3,
      "outputs": []
    },
    {
      "cell_type": "code",
      "metadata": {
        "id": "R7Et3HuF_GHx"
      },
      "source": [
        "class Diabetes:\n",
        "\n",
        "  def __init__(self, name, input_nodes, hidden_nodes, output_nodes, learning_rate):\n",
        "\n",
        "    self.name = name\n",
        "\n",
        "    self.W2 = np.random.rand(input_nodes,hidden_nodes)\n",
        "    self.b2 = np.random.rand(hidden_nodes)\n",
        "\n",
        "    self.W3 = np.random.rand(hidden_nodes,output_nodes)\n",
        "    self.b3 = np.random.rand(output_nodes)\n",
        "\n",
        "    self.learning_rate = learning_rate\n",
        "\n",
        "    print(self.name,\"is created!!!\")\n",
        "\n",
        "\n",
        "  def feed_forward(self):\n",
        "\n",
        "    delta = 1e-7\n",
        "\n",
        "    z2 = np.dot(self.input_data, self.W2) + self.b2\n",
        "    a2 = sigmoid(z2)\n",
        "\n",
        "    z3 = np.dot(a2, self.W3) + self.b3\n",
        "    y = a3 = sigmoid(z3)\n",
        "\n",
        "    return -np.sum(self.target_data*np.log(y+delta) + (1-self.target_data)*np.log((1-y)+delta))\n",
        "\n",
        "\n",
        "  def predict(self, input_data):\n",
        "\n",
        "    z2 = np.dot(input_data, self.W2) + self.b2\n",
        "    a2 = sigmoid(z2)\n",
        "\n",
        "    z3 = np.dot(a2, self.W3) + self.b3\n",
        "    y = a3 = sigmoid(z3)\n",
        "\n",
        "    if y >= 0.5:\n",
        "      result = 1\n",
        "    else:\n",
        "      result = 0\n",
        "\n",
        "    return y, result\n",
        "\n",
        "\n",
        "  def accuracy(self, input_data, target_data):\n",
        "\n",
        "    matched_list = []\n",
        "    unmatched_list = []\n",
        "\n",
        "    for i in range(len(input_data)):\n",
        "\n",
        "       (real_val, logical_val) = self.predict(input_data[i])\n",
        "\n",
        "       if logical_val == target_data[i]:\n",
        "         matched_list.append(i)\n",
        "       else:\n",
        "         unmatched_list.append(i)\n",
        "\n",
        "    accuracy_result = len(matched_list)/len(input_data)\n",
        "\n",
        "    return unmatched_list, accuracy_result\n",
        "\n",
        "  \n",
        "  def train(self, input_data, target_data):\n",
        "\n",
        "    self.input_data = input_data\n",
        "    self.target_data = target_data\n",
        "\n",
        "    f = lambda x : self.feed_forward()\n",
        "\n",
        "    self.W2 -= self.learning_rate * numerical_derivative(f,self.W2)\n",
        "    self.b2 -= self.learning_rate * numerical_derivative(f,self.b2)\n",
        "\n",
        "    self.W3 -= self.learning_rate * numerical_derivative(f,self.W3)\n",
        "    self.b3 -= self.learning_rate * numerical_derivative(f,self.b3)"
      ],
      "execution_count": 4,
      "outputs": []
    },
    {
      "cell_type": "markdown",
      "metadata": {
        "id": "p3tBJtnob5ID"
      },
      "source": [
        "### seperation rate = 0.3 "
      ]
    },
    {
      "cell_type": "code",
      "metadata": {
        "id": "6y2WAKa7KBxE",
        "outputId": "02f76734-551e-4087-b51d-6e86cf279532",
        "colab": {
          "base_uri": "https://localhost:8080/"
        }
      },
      "source": [
        "test_seperation_rate = 0.3\n",
        "target_position = -1\n",
        "\n",
        "data_obj = DataGeneration('Diabetes','drive/My Drive/AI_INOVATION_SQUARE/prac/(200309)diabetes.csv',test_seperation_rate,target_position)\n",
        "\n",
        "(training_data, test_data) = data_obj.generate()\n",
        "\n",
        "print(\"======================================================\")\n",
        "print(\"training data.shape = \",training_data.shape)\n",
        "print(\"test data.shape = \",test_data.shape)\n",
        "print(\"======================================================\")\n"
      ],
      "execution_count": 5,
      "outputs": [
        {
          "output_type": "stream",
          "text": [
            "Diabetes data generation start!\n",
            "[DataGeneration] loaded_data.shape =  (759, 9)\n",
            "===================================================================\n",
            "[DataGeneration] unique number of original data =  0.0 count =  263\n",
            "[DataGeneration] unique number of original data =  1.0 count =  496\n",
            "[DataGeneration] unique number of original data =  0.0 ratio =  34.65 %\n",
            "[DataGeneration] unique number of original data =  1.0 ratio =  65.35 %\n",
            "===================================================================\n",
            "===================================================================\n",
            "[DataGeneration] unique number of training data =  0.0 count =  180\n",
            "[DataGeneration] unique number of training data =  1.0 count =  352\n",
            "[DataGeneration] unique number of training data =  0.0 ratio =  33.83 %\n",
            "[DataGeneration] unique number of training data =  1.0 ratio =  66.17 %\n",
            "===================================================================\n",
            "===================================================================\n",
            "[DataGeneration] unique number of test data =  0.0 count =  83\n",
            "[DataGeneration] unique number of test data =  1.0 count =  144\n",
            "[DataGeneration] unique number of test data =  0.0 ratio =  36.56 %\n",
            "[DataGeneration] unique number of test data =  1.0 ratio =  63.44 %\n",
            "===================================================================\n",
            "======================================================\n",
            "training data.shape =  (532, 9)\n",
            "test data.shape =  (227, 9)\n",
            "======================================================\n"
          ],
          "name": "stdout"
        }
      ]
    },
    {
      "cell_type": "code",
      "metadata": {
        "id": "1VhX3_bxMT7c",
        "outputId": "86156a62-1da7-4736-9513-38b23aee569d",
        "colab": {
          "base_uri": "https://localhost:8080/"
        }
      },
      "source": [
        "#hyper_parameter\n",
        "i_nodes = training_data.shape[1] - 1\n",
        "h_nodes = 20\n",
        "o_nodes = 1\n",
        "lr = 1e-2\n",
        "epochs = 20\n",
        "\n",
        "loss_val_list = []\n",
        "accuracy_val_list = []\n",
        "validation_accuracy_val_list = []\n",
        "\n",
        "obj1 = Diabetes('Diabetes', i_nodes, h_nodes, o_nodes, lr)\n",
        "\n",
        "print(\"Neural Network Learning using Numerical Derivative...\")\n",
        "\n",
        "start_time = datetime.now()\n",
        "\n",
        "for step in range(epochs):\n",
        "  \n",
        "  for i in range(len(training_data)):\n",
        "\n",
        "    input_data = training_data[i,0:-1]\n",
        "    target_data = training_data[i,[-1]]\n",
        "\n",
        "    obj1.train(input_data, target_data)\n",
        "\n",
        "  cur_loss_val = obj1.feed_forward()\n",
        "\n",
        "  loss_val_list.append(cur_loss_val)\n",
        "\n",
        "  (unmatched_list, training_accuracy) = obj1.accuracy(training_data[:,0:-1], training_data[:,-1])\n",
        "\n",
        "  (unmatched_list, validation_accuracy) = obj1.accuracy(test_data[:,0:-1], test_data[:,-1])\n",
        "\n",
        "  print(\"=============================================================================\")\n",
        "  print(\"step = \", step, \"current loss value = \", cur_loss_val,\"\\n\")\n",
        "  print(\"step = \", step, \"[training data] accuracy value = \",np.round(100*training_accuracy,4),'%')\n",
        "\n",
        "  accuracy_val_list.append(training_accuracy)\n",
        "\n",
        "  print(\"step = \", step, \"[validation data] accuracy value = \",np.round(100*validation_accuracy,4),'%')\n",
        "\n",
        "  validation_accuracy_val_list.append(validation_accuracy)\n",
        "\n",
        "print(\"=============================================================================\")\n",
        "\n",
        "end_time = datetime.now()\n",
        "\n",
        "print(\"\")\n",
        "print(\"Elapsed Time => \",end_time-start_time)"
      ],
      "execution_count": 6,
      "outputs": [
        {
          "output_type": "stream",
          "text": [
            "Diabetes is created!!!\n",
            "Neural Network Learning using Numerical Derivative...\n",
            "=============================================================================\n",
            "step =  0 current loss value =  0.941415889997816 \n",
            "\n",
            "step =  0 [training data] accuracy value =  65.7895 %\n",
            "step =  0 [validation data] accuracy value =  63.4361 %\n",
            "=============================================================================\n",
            "step =  1 current loss value =  0.9098947365871792 \n",
            "\n",
            "step =  1 [training data] accuracy value =  66.1654 %\n",
            "step =  1 [validation data] accuracy value =  63.4361 %\n",
            "=============================================================================\n",
            "step =  2 current loss value =  0.8966728583434534 \n",
            "\n",
            "step =  2 [training data] accuracy value =  66.1654 %\n",
            "step =  2 [validation data] accuracy value =  63.4361 %\n",
            "=============================================================================\n",
            "step =  3 current loss value =  0.8860055177334192 \n",
            "\n",
            "step =  3 [training data] accuracy value =  65.9774 %\n",
            "step =  3 [validation data] accuracy value =  64.3172 %\n",
            "=============================================================================\n",
            "step =  4 current loss value =  0.8770481633721524 \n",
            "\n",
            "step =  4 [training data] accuracy value =  67.6692 %\n",
            "step =  4 [validation data] accuracy value =  68.2819 %\n",
            "=============================================================================\n",
            "step =  5 current loss value =  0.8692596550669492 \n",
            "\n",
            "step =  5 [training data] accuracy value =  69.1729 %\n",
            "step =  5 [validation data] accuracy value =  71.8062 %\n",
            "=============================================================================\n",
            "step =  6 current loss value =  0.8622743191178924 \n",
            "\n",
            "step =  6 [training data] accuracy value =  69.9248 %\n",
            "step =  6 [validation data] accuracy value =  73.5683 %\n",
            "=============================================================================\n",
            "step =  7 current loss value =  0.8558437066934308 \n",
            "\n",
            "step =  7 [training data] accuracy value =  70.8647 %\n",
            "step =  7 [validation data] accuracy value =  75.3304 %\n",
            "=============================================================================\n",
            "step =  8 current loss value =  0.8498004310349236 \n",
            "\n",
            "step =  8 [training data] accuracy value =  71.4286 %\n",
            "step =  8 [validation data] accuracy value =  74.4493 %\n",
            "=============================================================================\n",
            "step =  9 current loss value =  0.8440339165594016 \n",
            "\n",
            "step =  9 [training data] accuracy value =  72.5564 %\n",
            "step =  9 [validation data] accuracy value =  74.4493 %\n",
            "=============================================================================\n",
            "step =  10 current loss value =  0.8384732903893319 \n",
            "\n",
            "step =  10 [training data] accuracy value =  72.9323 %\n",
            "step =  10 [validation data] accuracy value =  75.7709 %\n",
            "=============================================================================\n",
            "step =  11 current loss value =  0.8330749255166018 \n",
            "\n",
            "step =  11 [training data] accuracy value =  73.6842 %\n",
            "step =  11 [validation data] accuracy value =  77.0925 %\n",
            "=============================================================================\n",
            "step =  12 current loss value =  0.8278132219305926 \n",
            "\n",
            "step =  12 [training data] accuracy value =  74.4361 %\n",
            "step =  12 [validation data] accuracy value =  76.652 %\n",
            "=============================================================================\n",
            "step =  13 current loss value =  0.8226737810783851 \n",
            "\n",
            "step =  13 [training data] accuracy value =  74.812 %\n",
            "step =  13 [validation data] accuracy value =  76.2115 %\n",
            "=============================================================================\n",
            "step =  14 current loss value =  0.8176484472647783 \n",
            "\n",
            "step =  14 [training data] accuracy value =  75.188 %\n",
            "step =  14 [validation data] accuracy value =  77.0925 %\n",
            "=============================================================================\n",
            "step =  15 current loss value =  0.8127318615069771 \n",
            "\n",
            "step =  15 [training data] accuracy value =  75.5639 %\n",
            "step =  15 [validation data] accuracy value =  77.9736 %\n",
            "=============================================================================\n",
            "step =  16 current loss value =  0.8079192539283939 \n",
            "\n",
            "step =  16 [training data] accuracy value =  75.9398 %\n",
            "step =  16 [validation data] accuracy value =  77.533 %\n",
            "=============================================================================\n",
            "step =  17 current loss value =  0.8032052294503638 \n",
            "\n",
            "step =  17 [training data] accuracy value =  76.1278 %\n",
            "step =  17 [validation data] accuracy value =  77.533 %\n",
            "=============================================================================\n",
            "step =  18 current loss value =  0.7985833092521859 \n",
            "\n",
            "step =  18 [training data] accuracy value =  76.3158 %\n",
            "step =  18 [validation data] accuracy value =  77.533 %\n",
            "=============================================================================\n",
            "step =  19 current loss value =  0.794045998873237 \n",
            "\n",
            "step =  19 [training data] accuracy value =  75.9398 %\n",
            "step =  19 [validation data] accuracy value =  77.0925 %\n",
            "=============================================================================\n",
            "\n",
            "Elapsed Time =>  0:02:11.372770\n"
          ],
          "name": "stdout"
        }
      ]
    },
    {
      "cell_type": "code",
      "metadata": {
        "id": "QwHyDZABhuWm",
        "outputId": "3f3daa7a-9f1f-4268-e4f4-71b8544f453a",
        "colab": {
          "base_uri": "https://localhost:8080/",
          "height": 295
        }
      },
      "source": [
        "plt.title('Training / Validation Accuracy Trend')\n",
        "plt.xlabel('epochs')\n",
        "plt.ylabel('Accuracy')\n",
        "plt.grid()\n",
        "plt.plot(accuracy_val_list)\n",
        "plt.plot(validation_accuracy_val_list)\n",
        "plt.legend(['training acc', 'validation acc'])\n",
        "\n",
        "plt.show()"
      ],
      "execution_count": 7,
      "outputs": [
        {
          "output_type": "display_data",
          "data": {
            "image/png": "[encoded data removed]",
            "text/plain": [
              "<Figure size 432x288 with 1 Axes>"
            ]
          },
          "metadata": {
            "tags": [],
            "needs_background": "light"
          }
        }
      ]
    },
    {
      "cell_type": "code",
      "metadata": {
        "id": "tywnr5P2kYgj",
        "outputId": "dcedf2d0-9d99-4fff-bb1b-22dbdbefa843",
        "colab": {
          "base_uri": "https://localhost:8080/",
          "height": 295
        }
      },
      "source": [
        "plt.title('Loss Value Trend')\n",
        "plt.xlabel('epochs')\n",
        "plt.ylabel('Loss')\n",
        "plt.grid()\n",
        "plt.plot(loss_val_list)\n",
        "\n",
        "plt.show()"
      ],
      "execution_count": 8,
      "outputs": [
        {
          "output_type": "display_data",
          "data": {
            "image/png": "[encoded data removed]",
            "text/plain": [
              "<Figure size 432x288 with 1 Axes>"
            ]
          },
          "metadata": {
            "tags": [],
            "needs_background": "light"
          }
        }
      ]
    },
    {
      "cell_type": "markdown",
      "metadata": {
        "id": "JmU_Rl0As17L"
      },
      "source": [
        "###seperation rate 0.5"
      ]
    },
    {
      "cell_type": "code",
      "metadata": {
        "id": "AD5tOxzKsyGM",
        "outputId": "11dd5a04-f7ef-468c-99f9-e3c9ed7b4bf2",
        "colab": {
          "base_uri": "https://localhost:8080/"
        }
      },
      "source": [
        "test_seperation_rate = 0.5\n",
        "\n",
        "data_obj2 = DataGeneration('Diabetes','drive/My Drive/AI_INOVATION_SQUARE/prac/(200309)diabetes.csv', test_seperation_rate)\n",
        "\n",
        "(training_data, test_data) = data_obj2.generate()\n",
        "\n",
        "print(\"training data.shape = \",training_data.shape)\n",
        "print(\"test data.shape = \",test_data.shape)"
      ],
      "execution_count": null,
      "outputs": [
        {
          "output_type": "stream",
          "text": [
            "Diabetes data generation start!\n",
            "[DataGeneration] loaded_data.shape =  (759, 9)\n",
            "===================================================================\n",
            "[DataGeneration] unique number of original data =  0.0 count =  263\n",
            "[DataGeneration] unique number of original data =  1.0 count =  496\n",
            "[DataGeneration] unique number of original data =  0.0 ratio =  34.65 %\n",
            "[DataGeneration] unique number of original data =  1.0 ratio =  65.35 %\n",
            "===================================================================\n",
            "===================================================================\n",
            "[DataGeneration] unique number of training data =  0.0 count =  134\n",
            "[DataGeneration] unique number of training data =  1.0 count =  246\n",
            "[DataGeneration] unique number of training data =  0.0 ratio =  35.26 %\n",
            "[DataGeneration] unique number of training data =  1.0 ratio =  64.74 %\n",
            "===================================================================\n",
            "===================================================================\n",
            "[DataGeneration] unique number of test data =  0.0 count =  129\n",
            "[DataGeneration] unique number of test data =  1.0 count =  250\n",
            "[DataGeneration] unique number of test data =  0.0 ratio =  34.04 %\n",
            "[DataGeneration] unique number of test data =  1.0 ratio =  65.96 %\n",
            "===================================================================\n",
            "training data.shape =  (380, 9)\n",
            "test data.shape =  (379, 9)\n"
          ],
          "name": "stdout"
        }
      ]
    },
    {
      "cell_type": "code",
      "metadata": {
        "id": "BBkkdI0YSCJw",
        "outputId": "a59cba28-09a5-4718-cf29-52a5f2933720",
        "colab": {
          "base_uri": "https://localhost:8080/"
        }
      },
      "source": [
        "#hyper_parameter\n",
        "i_nodes = training_data.shape[1]-1\n",
        "h_nodes = 20\n",
        "o_nodes = 1\n",
        "learning_rate = 1e-2\n",
        "epochs = 20\n",
        "\n",
        "loss_val_list = []\n",
        "accuracy_val_list = []\n",
        "validation_accuracy_val_list = []\n",
        "\n",
        "obj2 = Diabetes('Diabetes',i_nodes,h_nodes,o_nodes,learning_rate)\n",
        "\n",
        "print(\"Neural Network Learning using Numerical Derivative...\")\n",
        "\n",
        "start_time = datetime.now()\n",
        "\n",
        "for step in range(epochs):\n",
        "  \n",
        "  for i in range(len(training_data)):\n",
        "\n",
        "    input_data = training_data[i,0:-1]\n",
        "    target_data = training_data[i,[-1]]\n",
        "\n",
        "    obj2.train(input_data,target_data)\n",
        "\n",
        "  cur_loss_val = obj2.feed_forward()\n",
        "\n",
        "  loss_val_list.append(cur_loss_val)\n",
        "\n",
        "  (unmatched_list,training_accuracy) = obj2.accuracy(training_data[:,0:-1],training_data[:,-1]) \n",
        "  (unmatched_list,validation_accuracy) = obj2.accuracy(test_data[:,0:-1],test_data[:,-1])\n",
        "\n",
        "  print(\"========================================================================\")\n",
        "  print(\"step = \",step,\", current loss value = \",cur_loss_val)\n",
        "  print(\"step = \",step,\",[training data] accuracy value = \", np.round(100*training_accuracy,4))\n",
        "  accuracy_val_list.append(training_accuracy)\n",
        "  print(\"step = \",step,\",[validation data] accuracy value = \",np.round(100*validation_accuracy,4))\n",
        "  validation_accuracy_val_list.append(validation_accuracy)\n",
        "print(\"==========================================================================\")\n",
        "\n",
        "end_time = datetime.now()\n",
        "\n",
        "print(\"\")\n",
        "print(\"Elapsed time =>\",end_time-start_time)"
      ],
      "execution_count": 22,
      "outputs": [
        {
          "output_type": "stream",
          "text": [
            "Diabetes is created!!!\n",
            "Neural Network Learning using Numerical Derivative...\n",
            "========================================================================\n",
            "step =  0 , current loss value =  0.9341016730886941\n",
            "step =  0 ,[training data] accuracy value =  66.1654\n",
            "step =  0 ,[validation data] accuracy value =  63.4361\n",
            "========================================================================\n",
            "step =  1 , current loss value =  0.8670954422549084\n",
            "step =  1 ,[training data] accuracy value =  66.1654\n",
            "step =  1 ,[validation data] accuracy value =  63.4361\n",
            "========================================================================\n",
            "step =  2 , current loss value =  0.8544860271247773\n",
            "step =  2 ,[training data] accuracy value =  66.3534\n",
            "step =  2 ,[validation data] accuracy value =  63.4361\n",
            "========================================================================\n",
            "step =  3 , current loss value =  0.8438641995732433\n",
            "step =  3 ,[training data] accuracy value =  66.5414\n",
            "step =  3 ,[validation data] accuracy value =  63.8767\n",
            "========================================================================\n",
            "step =  4 , current loss value =  0.8343207667620907\n",
            "step =  4 ,[training data] accuracy value =  66.9173\n",
            "step =  4 ,[validation data] accuracy value =  68.7225\n",
            "========================================================================\n",
            "step =  5 , current loss value =  0.8254162208499423\n",
            "step =  5 ,[training data] accuracy value =  67.6692\n",
            "step =  5 ,[validation data] accuracy value =  72.2467\n",
            "========================================================================\n",
            "step =  6 , current loss value =  0.8168772730199649\n",
            "step =  6 ,[training data] accuracy value =  69.1729\n",
            "step =  6 ,[validation data] accuracy value =  72.2467\n",
            "========================================================================\n",
            "step =  7 , current loss value =  0.8085390551759128\n",
            "step =  7 ,[training data] accuracy value =  70.6767\n",
            "step =  7 ,[validation data] accuracy value =  73.1278\n",
            "========================================================================\n",
            "step =  8 , current loss value =  0.8003098524418998\n",
            "step =  8 ,[training data] accuracy value =  71.6165\n",
            "step =  8 ,[validation data] accuracy value =  74.8899\n",
            "========================================================================\n",
            "step =  9 , current loss value =  0.7921476943590053\n",
            "step =  9 ,[training data] accuracy value =  73.3083\n",
            "step =  9 ,[validation data] accuracy value =  75.3304\n",
            "========================================================================\n",
            "step =  10 , current loss value =  0.7840441381746653\n",
            "step =  10 ,[training data] accuracy value =  73.8722\n",
            "step =  10 ,[validation data] accuracy value =  75.3304\n",
            "========================================================================\n",
            "step =  11 , current loss value =  0.7760126888863893\n",
            "step =  11 ,[training data] accuracy value =  74.4361\n",
            "step =  11 ,[validation data] accuracy value =  77.533\n",
            "========================================================================\n",
            "step =  12 , current loss value =  0.7680803047421547\n",
            "step =  12 ,[training data] accuracy value =  74.812\n",
            "step =  12 ,[validation data] accuracy value =  77.0925\n",
            "========================================================================\n",
            "step =  13 , current loss value =  0.7602810256988518\n",
            "step =  13 ,[training data] accuracy value =  75.0\n",
            "step =  13 ,[validation data] accuracy value =  76.652\n",
            "========================================================================\n",
            "step =  14 , current loss value =  0.7526511497357533\n",
            "step =  14 ,[training data] accuracy value =  74.812\n",
            "step =  14 ,[validation data] accuracy value =  76.652\n",
            "========================================================================\n",
            "step =  15 , current loss value =  0.7452256328480871\n",
            "step =  15 ,[training data] accuracy value =  75.3759\n",
            "step =  15 ,[validation data] accuracy value =  77.0925\n",
            "========================================================================\n",
            "step =  16 , current loss value =  0.7380355311353324\n",
            "step =  16 ,[training data] accuracy value =  75.0\n",
            "step =  16 ,[validation data] accuracy value =  77.0925\n",
            "========================================================================\n",
            "step =  17 , current loss value =  0.7311063630946142\n",
            "step =  17 ,[training data] accuracy value =  75.188\n",
            "step =  17 ,[validation data] accuracy value =  78.4141\n",
            "========================================================================\n",
            "step =  18 , current loss value =  0.7244572759535237\n",
            "step =  18 ,[training data] accuracy value =  75.5639\n",
            "step =  18 ,[validation data] accuracy value =  78.4141\n",
            "========================================================================\n",
            "step =  19 , current loss value =  0.7181008807608327\n",
            "step =  19 ,[training data] accuracy value =  76.1278\n",
            "step =  19 ,[validation data] accuracy value =  78.8546\n",
            "==========================================================================\n",
            "\n",
            "Elapsed time => 0:02:15.737568\n"
          ],
          "name": "stdout"
        }
      ]
    },
    {
      "cell_type": "code",
      "metadata": {
        "id": "NcwtAZrhVKKk",
        "outputId": "4d11d1ed-f727-44e9-e9ac-efff9f25ff2d",
        "colab": {
          "base_uri": "https://localhost:8080/",
          "height": 295
        }
      },
      "source": [
        "plt.title('Training / Validation Accuracy Trend')\n",
        "plt.xlabel('epochs')\n",
        "plt.ylabel('Accuracy')\n",
        "plt.grid()\n",
        "plt.plot(accuracy_val_list)\n",
        "plt.plot(validation_accuracy_val_list)\n",
        "plt.legend(['training acc', 'validation acc'])\n",
        " \n",
        "plt.show()  "
      ],
      "execution_count": 23,
      "outputs": [
        {
          "output_type": "display_data",
          "data": {
            "image/png": "[encoded data removed]",
            "text/plain": [
              "<Figure size 432x288 with 1 Axes>"
            ]
          },
          "metadata": {
            "tags": [],
            "needs_background": "light"
          }
        }
      ]
    },
    {
      "cell_type": "code",
      "metadata": {
        "id": "Y3TECpoGYrjk",
        "outputId": "3a0b60c9-a339-468f-f5ee-c1b0d87e73b4",
        "colab": {
          "base_uri": "https://localhost:8080/",
          "height": 295
        }
      },
      "source": [
        "plt.title('Loss Value Trend')\n",
        "plt.xlabel('epochs')\n",
        "plt.ylabel('Loss')\n",
        "plt.grid()\n",
        "plt.plot(loss_val_list)\n",
        "\n",
        "plt.show()"
      ],
      "execution_count": 24,
      "outputs": [
        {
          "output_type": "display_data",
          "data": {
            "image/png": "[encoded data removed]",
            "text/plain": [
              "<Figure size 432x288 with 1 Axes>"
            ]
          },
          "metadata": {
            "tags": [],
            "needs_background": "light"
          }
        }
      ]
    },
    {
      "cell_type": "markdown",
      "metadata": {
        "id": "hxu-vVVFaQDO"
      },
      "source": [
        "###speration rate = 0.2"
      ]
    },
    {
      "cell_type": "code",
      "metadata": {
        "id": "VZsxSauOaNPn",
        "outputId": "b44902fb-8a36-4155-9144-ce8276d79ca5",
        "colab": {
          "base_uri": "https://localhost:8080/"
        }
      },
      "source": [
        "test_seperation_rate = 0.2\n",
        "\n",
        "data_obj2 = DataGeneration('Diabetes','drive/My Drive/AI_INOVATION_SQUARE/prac/(200309)diabetes.csv', test_seperation_rate)\n",
        "\n",
        "(training_data, test_data) = data_obj2.generate()\n",
        "\n",
        "print(\"training data.shape = \",training_data.shape)\n",
        "print(\"test data.shape = \",test_data.shape)"
      ],
      "execution_count": 25,
      "outputs": [
        {
          "output_type": "stream",
          "text": [
            "Diabetes data generation start!\n",
            "[DataGeneration] loaded_data.shape =  (759, 9)\n",
            "===================================================================\n",
            "[DataGeneration] unique number of original data =  0.0 count =  263\n",
            "[DataGeneration] unique number of original data =  1.0 count =  496\n",
            "[DataGeneration] unique number of original data =  0.0 ratio =  34.65 %\n",
            "[DataGeneration] unique number of original data =  1.0 ratio =  65.35 %\n",
            "===================================================================\n",
            "===================================================================\n",
            "[DataGeneration] unique number of training data =  0.0 count =  218\n",
            "[DataGeneration] unique number of training data =  1.0 count =  390\n",
            "[DataGeneration] unique number of training data =  0.0 ratio =  35.86 %\n",
            "[DataGeneration] unique number of training data =  1.0 ratio =  64.14 %\n",
            "===================================================================\n",
            "===================================================================\n",
            "[DataGeneration] unique number of test data =  0.0 count =  45\n",
            "[DataGeneration] unique number of test data =  1.0 count =  106\n",
            "[DataGeneration] unique number of test data =  0.0 ratio =  29.8 %\n",
            "[DataGeneration] unique number of test data =  1.0 ratio =  70.2 %\n",
            "===================================================================\n",
            "training data.shape =  (608, 9)\n",
            "test data.shape =  (151, 9)\n"
          ],
          "name": "stdout"
        }
      ]
    },
    {
      "cell_type": "code",
      "metadata": {
        "id": "yiT-7SslbCuG",
        "outputId": "aaf4c8b9-2b2b-473d-894c-3ea906b3bfd8",
        "colab": {
          "base_uri": "https://localhost:8080/"
        }
      },
      "source": [
        "#hyper_parameter\n",
        "i_nodes = training_data.shape[1]-1\n",
        "h_nodes = 20\n",
        "o_nodes = 1\n",
        "learning_rate = 1e-2\n",
        "epochs = 20\n",
        "\n",
        "loss_val_list = []\n",
        "accuracy_val_list = []\n",
        "validation_accuracy_val_list = []\n",
        "\n",
        "obj2 = Diabetes('Diabetes',i_nodes,h_nodes,o_nodes,learning_rate)\n",
        "\n",
        "print(\"Neural Network Learning using Numerical Derivative...\")\n",
        "\n",
        "start_time = datetime.now()\n",
        "\n",
        "for step in range(epochs):\n",
        "  \n",
        "  for i in range(len(training_data)):\n",
        "\n",
        "    input_data = training_data[i,0:-1]\n",
        "    target_data = training_data[i,[-1]]\n",
        "\n",
        "    obj2.train(input_data,target_data)\n",
        "\n",
        "  cur_loss_val = obj2.feed_forward()\n",
        "\n",
        "  loss_val_list.append(cur_loss_val)\n",
        "\n",
        "  (unmatched_list,training_accuracy) = obj2.accuracy(training_data[:,0:-1],training_data[:,[-1]]) \n",
        "  (unmatched_list,validation_accuracy) = obj2.accuracy(test_data[:,0:-1],test_data[:,[-1]])\n",
        "\n",
        "  print(\"========================================================================\")\n",
        "  print(\"step = \",step,\", current loss value = \",cur_loss_val)\n",
        "  print(\"step = \",step,\",[training data] accuracy value = \", np.round(100*training_accuracy,4))\n",
        "  accuracy_val_list.append(training_accuracy)\n",
        "  print(\"step = \",step,\",[validation data] accuracy value = \",np.round(100*validation_accuracy,4))\n",
        "  validation_accuracy_val_list.append(validation_accuracy)\n",
        "print(\"==========================================================================\")\n",
        "\n",
        "end_time = datetime.now()\n",
        "\n",
        "print(\"\")\n",
        "print(\"Elapsed time =>\",end_time-start_time)"
      ],
      "execution_count": 26,
      "outputs": [
        {
          "output_type": "stream",
          "text": [
            "Diabetes is created!!!\n",
            "Neural Network Learning using Numerical Derivative...\n",
            "========================================================================\n",
            "step =  0 , current loss value =  0.5854726384050118\n",
            "step =  0 ,[training data] accuracy value =  64.1447\n",
            "step =  0 ,[validation data] accuracy value =  70.1987\n",
            "========================================================================\n",
            "step =  1 , current loss value =  0.5480877445144823\n",
            "step =  1 ,[training data] accuracy value =  64.4737\n",
            "step =  1 ,[validation data] accuracy value =  70.8609\n",
            "========================================================================\n",
            "step =  2 , current loss value =  0.5048551609899444\n",
            "step =  2 ,[training data] accuracy value =  69.5724\n",
            "step =  2 ,[validation data] accuracy value =  74.8344\n",
            "========================================================================\n",
            "step =  3 , current loss value =  0.4689303502894174\n",
            "step =  3 ,[training data] accuracy value =  72.6974\n",
            "step =  3 ,[validation data] accuracy value =  74.1722\n",
            "========================================================================\n",
            "step =  4 , current loss value =  0.43879163140758287\n",
            "step =  4 ,[training data] accuracy value =  74.0132\n",
            "step =  4 ,[validation data] accuracy value =  73.5099\n",
            "========================================================================\n",
            "step =  5 , current loss value =  0.4133813768315736\n",
            "step =  5 ,[training data] accuracy value =  74.8355\n",
            "step =  5 ,[validation data] accuracy value =  72.8477\n",
            "========================================================================\n",
            "step =  6 , current loss value =  0.39191998692380065\n",
            "step =  6 ,[training data] accuracy value =  74.5066\n",
            "step =  6 ,[validation data] accuracy value =  72.8477\n",
            "========================================================================\n",
            "step =  7 , current loss value =  0.37379909498186176\n",
            "step =  7 ,[training data] accuracy value =  74.1776\n",
            "step =  7 ,[validation data] accuracy value =  73.5099\n",
            "========================================================================\n",
            "step =  8 , current loss value =  0.35852418800833774\n",
            "step =  8 ,[training data] accuracy value =  74.3421\n",
            "step =  8 ,[validation data] accuracy value =  72.8477\n",
            "========================================================================\n",
            "step =  9 , current loss value =  0.3456811757253324\n",
            "step =  9 ,[training data] accuracy value =  74.6711\n",
            "step =  9 ,[validation data] accuracy value =  73.5099\n",
            "========================================================================\n",
            "step =  10 , current loss value =  0.33491542736529195\n",
            "step =  10 ,[training data] accuracy value =  74.6711\n",
            "step =  10 ,[validation data] accuracy value =  74.1722\n",
            "========================================================================\n",
            "step =  11 , current loss value =  0.32591809696232615\n",
            "step =  11 ,[training data] accuracy value =  75.0\n",
            "step =  11 ,[validation data] accuracy value =  74.1722\n",
            "========================================================================\n",
            "step =  12 , current loss value =  0.31841723917728115\n",
            "step =  12 ,[training data] accuracy value =  75.1645\n",
            "step =  12 ,[validation data] accuracy value =  74.1722\n",
            "========================================================================\n",
            "step =  13 , current loss value =  0.3121722684558654\n",
            "step =  13 ,[training data] accuracy value =  75.3289\n",
            "step =  13 ,[validation data] accuracy value =  74.1722\n",
            "========================================================================\n",
            "step =  14 , current loss value =  0.30697069584030223\n",
            "step =  14 ,[training data] accuracy value =  75.4934\n",
            "step =  14 ,[validation data] accuracy value =  73.5099\n",
            "========================================================================\n",
            "step =  15 , current loss value =  0.302626248022001\n",
            "step =  15 ,[training data] accuracy value =  75.4934\n",
            "step =  15 ,[validation data] accuracy value =  74.1722\n",
            "========================================================================\n",
            "step =  16 , current loss value =  0.2989776275745096\n",
            "step =  16 ,[training data] accuracy value =  75.6579\n",
            "step =  16 ,[validation data] accuracy value =  74.1722\n",
            "========================================================================\n",
            "step =  17 , current loss value =  0.2958873650357783\n",
            "step =  17 ,[training data] accuracy value =  76.1513\n",
            "step =  17 ,[validation data] accuracy value =  74.8344\n",
            "========================================================================\n",
            "step =  18 , current loss value =  0.2932404270411466\n",
            "step =  18 ,[training data] accuracy value =  76.3158\n",
            "step =  18 ,[validation data] accuracy value =  74.1722\n",
            "========================================================================\n",
            "step =  19 , current loss value =  0.2909424435584197\n",
            "step =  19 ,[training data] accuracy value =  76.6447\n",
            "step =  19 ,[validation data] accuracy value =  74.8344\n",
            "==========================================================================\n",
            "\n",
            "Elapsed time => 0:02:32.240869\n"
          ],
          "name": "stdout"
        }
      ]
    },
    {
      "cell_type": "code",
      "metadata": {
        "id": "hvEXjE3qbGGt",
        "outputId": "9f3d8fe9-3d67-414b-d42b-ff5f52ece8d1",
        "colab": {
          "base_uri": "https://localhost:8080/",
          "height": 295
        }
      },
      "source": [
        "plt.title('Training / Validation Accuracy Trend')\n",
        "plt.xlabel('epochs')\n",
        "plt.ylabel('Accuracy')\n",
        "plt.grid()\n",
        "plt.plot(accuracy_val_list)\n",
        "plt.plot(validation_accuracy_val_list)\n",
        "plt.legend(['training acc', 'validation acc'])\n",
        "\n",
        "plt.show()  "
      ],
      "execution_count": 27,
      "outputs": [
        {
          "output_type": "display_data",
          "data": {
            "image/png": "[encoded data removed]",
            "text/plain": [
              "<Figure size 432x288 with 1 Axes>"
            ]
          },
          "metadata": {
            "tags": [],
            "needs_background": "light"
          }
        }
      ]
    },
    {
      "cell_type": "code",
      "metadata": {
        "id": "xTWZiLWzbIZj",
        "outputId": "cfc981d0-3a02-4c11-f639-2418f71a8e46",
        "colab": {
          "base_uri": "https://localhost:8080/",
          "height": 295
        }
      },
      "source": [
        "plt.title('Loss Value Trend')\n",
        "plt.xlabel('epochs')\n",
        "plt.ylabel('Loss')\n",
        "plt.grid()\n",
        "plt.plot(loss_val_list)\n",
        "\n",
        "plt.show()"
      ],
      "execution_count": 28,
      "outputs": [
        {
          "output_type": "display_data",
          "data": {
            "image/png": "[encoded data removed]",
            "text/plain": [
              "<Figure size 432x288 with 1 Axes>"
            ]
          },
          "metadata": {
            "tags": [],
            "needs_background": "light"
          }
        }
      ]
    },
    {
      "cell_type": "markdown",
      "metadata": {
        "id": "-hhM2Mye2V8c"
      },
      "source": [
        "###seperation rate = 0.9"
      ]
    },
    {
      "cell_type": "code",
      "metadata": {
        "id": "IkUSNAHVbKS4",
        "outputId": "a2278f5e-11ee-437e-990d-2c0baaaaaf9c",
        "colab": {
          "base_uri": "https://localhost:8080/"
        }
      },
      "source": [
        "test_seperation_rate = 0.9\n",
        "\n",
        "data_obj3 = DataGeneration('Diabetes','drive/My Drive/AI_INOVATION_SQUARE/prac/(200309)diabetes.csv',test_seperation_rate)\n",
        "\n",
        "(training_data,test_data) = data_obj3.generate()\n",
        "\n",
        "print(\"================================================================\")\n",
        "print(\"training data.shape = \", training_data.shape)\n",
        "print(\"test data.shape = \",test_data.shape)\n",
        "print(\"================================================================\")"
      ],
      "execution_count": 30,
      "outputs": [
        {
          "output_type": "stream",
          "text": [
            "Diabetes data generation start!\n",
            "[DataGeneration] loaded_data.shape =  (759, 9)\n",
            "===================================================================\n",
            "[DataGeneration] unique number of original data =  0.0 count =  263\n",
            "[DataGeneration] unique number of original data =  1.0 count =  496\n",
            "[DataGeneration] unique number of original data =  0.0 ratio =  34.65 %\n",
            "[DataGeneration] unique number of original data =  1.0 ratio =  65.35 %\n",
            "===================================================================\n",
            "===================================================================\n",
            "[DataGeneration] unique number of training data =  0.0 count =  29\n",
            "[DataGeneration] unique number of training data =  1.0 count =  47\n",
            "[DataGeneration] unique number of training data =  0.0 ratio =  38.16 %\n",
            "[DataGeneration] unique number of training data =  1.0 ratio =  61.84 %\n",
            "===================================================================\n",
            "===================================================================\n",
            "[DataGeneration] unique number of test data =  0.0 count =  234\n",
            "[DataGeneration] unique number of test data =  1.0 count =  449\n",
            "[DataGeneration] unique number of test data =  0.0 ratio =  34.26 %\n",
            "[DataGeneration] unique number of test data =  1.0 ratio =  65.74 %\n",
            "===================================================================\n",
            "================================================================\n",
            "training data.shape =  (76, 9)\n",
            "test data.shape =  (683, 9)\n",
            "================================================================\n"
          ],
          "name": "stdout"
        }
      ]
    },
    {
      "cell_type": "code",
      "metadata": {
        "id": "qP3QnZ9w2xN5",
        "outputId": "f0b3398e-4847-4dea-ccde-d72a6b05b982",
        "colab": {
          "base_uri": "https://localhost:8080/"
        }
      },
      "source": [
        "#hyper_parameter\n",
        "i_nodes = training_data.shape[1]-1\n",
        "h_nodes = 20\n",
        "o_nodes = 1\n",
        "learning_rate = 1e-2\n",
        "epochs = 20\n",
        "\n",
        "loss_val_list = []\n",
        "accuracy_val_list = []\n",
        "validation_accuracy_val_list = []\n",
        "\n",
        "obj3 = Diabetes('Diabetes',i_nodes,h_nodes,o_nodes,learning_rate)\n",
        "\n",
        "print(\"Neural Network Learning using Numerical Derivative...\")\n",
        "\n",
        "start_time = datetime.now()\n",
        "\n",
        "for step in range(epochs):\n",
        "  for i in range(len(training_data)):\n",
        "\n",
        "    input_data = training_data[i,0:-1]\n",
        "    target_data = training_data[i,-1]\n",
        "\n",
        "    obj3.train(input_data, target_data)\n",
        "\n",
        "  cur_loss_val = obj3.feed_forward()\n",
        "  loss_val_list.append(cur_loss_val)\n",
        "\n",
        "  (unmatched_list, training_accuracy) = obj3.accuracy(training_data[:,0:-1],training_data[:,-1])\n",
        "  (unmatched_list, test_accuracy) = obj3.accuracy(test_data[:,0:-1],test_data[:,-1])\n",
        "\n",
        "  print(\"================================================================\")\n",
        "  print(\"step = \",step, \"current loss value = \",cur_loss_val,\"\\n\")\n",
        "  print(\"step = \",step,\"[training data] accuracy value = \",np.round(100*training_accuracy,4),'%')\n",
        "  accuracy_val_list.append(training_accuracy)\n",
        "  print(\"step = \",step,\"[validation data] accuracy value = \",np.round(100*test_accuracy,4),'%')\n",
        "  validation_accuracy_val_list.append(test_accuracy)\n",
        "print(\"================================================================\")\n",
        "  \n",
        "end_time = datetime.now()\n",
        "\n",
        "print(\"\")\n",
        "print(\"Elapsed Time =>\",end_time - start_time)"
      ],
      "execution_count": 36,
      "outputs": [
        {
          "output_type": "stream",
          "text": [
            "Diabetes is created!!!\n",
            "Neural Network Learning using Numerical Derivative...\n",
            "================================================================\n",
            "step =  0 current loss value =  0.14628426544835677 \n",
            "\n",
            "step =  0 [training data] accuracy value =  61.8421 %\n",
            "step =  0 [validation data] accuracy value =  65.7394 %\n",
            "================================================================\n",
            "step =  1 current loss value =  0.31793641185847044 \n",
            "\n",
            "step =  1 [training data] accuracy value =  61.8421 %\n",
            "step =  1 [validation data] accuracy value =  65.7394 %\n",
            "================================================================\n",
            "step =  2 current loss value =  0.5072463474314123 \n",
            "\n",
            "step =  2 [training data] accuracy value =  61.8421 %\n",
            "step =  2 [validation data] accuracy value =  65.7394 %\n",
            "================================================================\n",
            "step =  3 current loss value =  0.6307284667792387 \n",
            "\n",
            "step =  3 [training data] accuracy value =  61.8421 %\n",
            "step =  3 [validation data] accuracy value =  64.5681 %\n",
            "================================================================\n",
            "step =  4 current loss value =  0.6831168609134869 \n",
            "\n",
            "step =  4 [training data] accuracy value =  56.5789 %\n",
            "step =  4 [validation data] accuracy value =  57.9795 %\n",
            "================================================================\n",
            "step =  5 current loss value =  0.694896020793183 \n",
            "\n",
            "step =  5 [training data] accuracy value =  51.3158 %\n",
            "step =  5 [validation data] accuracy value =  55.3441 %\n",
            "================================================================\n",
            "step =  6 current loss value =  0.6882376894317762 \n",
            "\n",
            "step =  6 [training data] accuracy value =  56.5789 %\n",
            "step =  6 [validation data] accuracy value =  57.5403 %\n",
            "================================================================\n",
            "step =  7 current loss value =  0.6740984591377805 \n",
            "\n",
            "step =  7 [training data] accuracy value =  59.2105 %\n",
            "step =  7 [validation data] accuracy value =  61.7862 %\n",
            "================================================================\n",
            "step =  8 current loss value =  0.6572760564050478 \n",
            "\n",
            "step =  8 [training data] accuracy value =  60.5263 %\n",
            "step =  8 [validation data] accuracy value =  65.4466 %\n",
            "================================================================\n",
            "step =  9 current loss value =  0.6397686588882385 \n",
            "\n",
            "step =  9 [training data] accuracy value =  61.8421 %\n",
            "step =  9 [validation data] accuracy value =  66.0322 %\n",
            "================================================================\n",
            "step =  10 current loss value =  0.6223815265686191 \n",
            "\n",
            "step =  10 [training data] accuracy value =  63.1579 %\n",
            "step =  10 [validation data] accuracy value =  66.0322 %\n",
            "================================================================\n",
            "step =  11 current loss value =  0.6054252667909139 \n",
            "\n",
            "step =  11 [training data] accuracy value =  63.1579 %\n",
            "step =  11 [validation data] accuracy value =  66.0322 %\n",
            "================================================================\n",
            "step =  12 current loss value =  0.5890084775534602 \n",
            "\n",
            "step =  12 [training data] accuracy value =  61.8421 %\n",
            "step =  12 [validation data] accuracy value =  67.2035 %\n",
            "================================================================\n",
            "step =  13 current loss value =  0.5731584347939963 \n",
            "\n",
            "step =  13 [training data] accuracy value =  63.1579 %\n",
            "step =  13 [validation data] accuracy value =  68.3748 %\n",
            "================================================================\n",
            "step =  14 current loss value =  0.557870429564324 \n",
            "\n",
            "step =  14 [training data] accuracy value =  64.4737 %\n",
            "step =  14 [validation data] accuracy value =  69.5461 %\n",
            "================================================================\n",
            "step =  15 current loss value =  0.5431277961461745 \n",
            "\n",
            "step =  15 [training data] accuracy value =  67.1053 %\n",
            "step =  15 [validation data] accuracy value =  71.7423 %\n",
            "================================================================\n",
            "step =  16 current loss value =  0.5289099679866952 \n",
            "\n",
            "step =  16 [training data] accuracy value =  68.4211 %\n",
            "step =  16 [validation data] accuracy value =  72.6208 %\n",
            "================================================================\n",
            "step =  17 current loss value =  0.5151956635277545 \n",
            "\n",
            "step =  17 [training data] accuracy value =  65.7895 %\n",
            "step =  17 [validation data] accuracy value =  73.4993 %\n",
            "================================================================\n",
            "step =  18 current loss value =  0.5019640999976042 \n",
            "\n",
            "step =  18 [training data] accuracy value =  67.1053 %\n",
            "step =  18 [validation data] accuracy value =  73.2064 %\n",
            "================================================================\n",
            "step =  19 current loss value =  0.48919541442456665 \n",
            "\n",
            "step =  19 [training data] accuracy value =  67.1053 %\n",
            "step =  19 [validation data] accuracy value =  73.06 %\n",
            "================================================================\n",
            "\n",
            "Elapsed Time => 0:00:22.612799\n"
          ],
          "name": "stdout"
        }
      ]
    },
    {
      "cell_type": "code",
      "metadata": {
        "id": "GtqQdd2k5a0N",
        "outputId": "241a6452-43dc-41bb-84c7-f0300792e30a",
        "colab": {
          "base_uri": "https://localhost:8080/",
          "height": 295
        }
      },
      "source": [
        "plt.title('Training / Validation Accuracy Trend')\n",
        "plt.xlabel('epochs')\n",
        "plt.ylabel('Accuracy')\n",
        "plt.grid()\n",
        "plt.plot(accuracy_val_list)\n",
        "plt.plot(validation_accuracy_val_list)\n",
        "plt.legend(['training acc','validation acc'])\n",
        "\n",
        "plt.show()"
      ],
      "execution_count": 37,
      "outputs": [
        {
          "output_type": "display_data",
          "data": {
            "image/png": "[encoded data removed]",
            "text/plain": [
              "<Figure size 432x288 with 1 Axes>"
            ]
          },
          "metadata": {
            "tags": [],
            "needs_background": "light"
          }
        }
      ]
    },
    {
      "cell_type": "code",
      "metadata": {
        "id": "tdWbxCIA6S7J",
        "outputId": "74eb193f-4ab3-4b78-f014-1290a9edfcc0",
        "colab": {
          "base_uri": "https://localhost:8080/",
          "height": 295
        }
      },
      "source": [
        "plt.title('Loss Value Trend')\n",
        "plt.xlabel('epochs')\n",
        "plt.grid()\n",
        "plt.plot(loss_val_list)\n",
        "plt.show()"
      ],
      "execution_count": 38,
      "outputs": [
        {
          "output_type": "display_data",
          "data": {
            "image/png": "[encoded data removed]",
            "text/plain": [
              "<Figure size 432x288 with 1 Axes>"
            ]
          },
          "metadata": {
            "tags": [],
            "needs_background": "light"
          }
        }
      ]
    },
    {
      "cell_type": "code",
      "metadata": {
        "id": "4ZvUY1cH7EhD"
      },
      "source": [
        ""
      ],
      "execution_count": null,
      "outputs": []
    }
  ]
}