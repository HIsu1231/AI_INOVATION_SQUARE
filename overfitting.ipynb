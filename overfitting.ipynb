{
  "nbformat": 4,
  "nbformat_minor": 0,
  "metadata": {
    "colab": {
      "name": "overfitting.ipynb",
      "provenance": [],
      "mount_file_id": "1iPRoNhoRl5IPpV6uIUj6FUOg8l1DsqXh",
      "authorship_tag": "ABX9TyPt+Xtd3z7cP31W8I5X2PEk",
      "include_colab_link": true
    },
    "kernelspec": {
      "name": "python3",
      "display_name": "Python 3"
    }
  },
  "cells": [
    {
      "cell_type": "markdown",
      "metadata": {
        "id": "view-in-github",
        "colab_type": "text"
      },
      "source": [
        "<a href=\"https://colab.research.google.com/github/HIsu1231/AI_INOVATION_SQUARE/blob/master/overfitting.ipynb\" target=\"_parent\"><img src=\"https://colab.research.google.com/assets/colab-badge.svg\" alt=\"Open In Colab\"/></a>"
      ]
    },
    {
      "cell_type": "code",
      "metadata": {
        "id": "LDqKquit8j2E"
      },
      "source": [
        "import numpy as np\n",
        "import matplotlib.pyplot as plt\n",
        "from datetime import datetime\n",
        "\n",
        "np.random.seed(0)"
      ],
      "execution_count": 2,
      "outputs": []
    },
    {
      "cell_type": "code",
      "metadata": {
        "id": "jXfx-pnE_Hzf"
      },
      "source": [
        "# 수치미분 함수\n",
        "\n",
        "def numerical_derivative(f, x):\n",
        "    delta_x = 1e-4 # 0.0001\n",
        "    grad = np.zeros_like(x)\n",
        "    \n",
        "    it = np.nditer(x, flags=['multi_index'], op_flags=['readwrite'])\n",
        "    \n",
        "    while not it.finished:\n",
        "        idx = it.multi_index        \n",
        "        tmp_val = x[idx]\n",
        "        x[idx] = float(tmp_val) + delta_x\n",
        "        fx1 = f(x) # f(x+delta_x)\n",
        "        \n",
        "        x[idx] = tmp_val - delta_x \n",
        "        fx2 = f(x) # f(x-delta_x)\n",
        "        grad[idx] = (fx1 - fx2) / (2*delta_x)\n",
        "        \n",
        "        x[idx] = tmp_val \n",
        "        it.iternext()   \n",
        "        \n",
        "    return grad\n",
        "\n",
        "# sigmoid 함수\n",
        "\n",
        "def sigmoid(x):\n",
        "    return 1 / (1+np.exp(-x))"
      ],
      "execution_count": 3,
      "outputs": []
    },
    {
      "cell_type": "code",
      "metadata": {
        "id": "Cqbizd048n6q"
      },
      "source": [
        "class DataGeneration:\n",
        "\n",
        "  def __init__(self, name, file_path, seperation_rate, target_position=-1):\n",
        "\n",
        "    self.name = name\n",
        "\n",
        "    self.file_path = file_path\n",
        "\n",
        "    self.seperation_rate = seperation_rate\n",
        "\n",
        "    if (target_position == -1 or target_position == 0):\n",
        "      self.target_position = target_position\n",
        "    else:\n",
        "      err_str = \"target position must be -1 or 0\"\n",
        "      raise Exception(err_str)\n",
        "\n",
        "    print(self.name, \"data generation start!\")\n",
        "\n",
        "\n",
        "  def __display_target_distribution(self, data, str_of_kind='original data'):\n",
        "\n",
        "    print(\"===================================================================\")\n",
        "\n",
        "    target_data = data[:,self.target_position] \n",
        "\n",
        "    unique, counts = np.unique(target_data, return_counts=True) \n",
        "\n",
        "    for i in range(len(unique)):\n",
        "      print(\"[DataGeneration] unique number of \" + str_of_kind + ' = ', unique[i], 'count = ',counts[i])\n",
        "\n",
        "    for i in range(len(unique)):\n",
        "      print(\"[DataGeneration] unique number of \" + str_of_kind + ' = ', unique[i], 'ratio = ',np.round(100*counts[i]/len(target_data),2),'%')\n",
        "    \n",
        "    print(\"===================================================================\")\n",
        "\n",
        "\n",
        "  def generate(self):\n",
        "\n",
        "    try:\n",
        "      loaded_data = np.loadtxt(self.file_path, delimiter=',',dtype=np.float32)\n",
        "    \n",
        "    except Exception as err:\n",
        "      print('[DataGeneration::generate()]',str(err))\n",
        "      raise Exception(str(err))\n",
        "\n",
        "    print(\"[DataGeneration] loaded_data.shape = \",loaded_data.shape)\n",
        "\n",
        "    self.__display_target_distribution(loaded_data,'original data')\n",
        "\n",
        "    total_data_num = loaded_data.shape[0]\n",
        "    test_data_num = int(total_data_num * self.seperation_rate)\n",
        "\n",
        "    np.random.shuffle(loaded_data)\n",
        "\n",
        "    test_data = loaded_data[0:test_data_num]\n",
        "    training_data = loaded_data[test_data_num: ]\n",
        "\n",
        "    self.__display_target_distribution(training_data,'training data')\n",
        "    self.__display_target_distribution(test_data,'test data')\n",
        "\n",
        "    return training_data, test_data"
      ],
      "execution_count": 4,
      "outputs": []
    },
    {
      "cell_type": "code",
      "metadata": {
        "id": "R7Et3HuF_GHx"
      },
      "source": [
        "class Diabetes:\n",
        "\n",
        "  def __init__(self, name, input_nodes, hidden_nodes, output_nodes, learning_rate):\n",
        "\n",
        "    self.name = name\n",
        "\n",
        "    self.W2 = np.random.rand(input_nodes,hidden_nodes)\n",
        "    self.b2 = np.random.rand(hidden_nodes)\n",
        "\n",
        "    self.W3 = np.random.rand(hidden_nodes,output_nodes)\n",
        "    self.b3 = np.random.rand(output_nodes)\n",
        "\n",
        "    self.learning_rate = learning_rate\n",
        "\n",
        "    print(self.name,\"is created!!!\")\n",
        "\n",
        "\n",
        "  def feed_forward(self):\n",
        "\n",
        "    delta = 1e-7\n",
        "\n",
        "    z2 = np.dot(self.input_data, self.W2) + self.b2\n",
        "    a2 = sigmoid(z2)\n",
        "\n",
        "    z3 = np.dot(a2, self.W3) + self.b3\n",
        "    y = a3 = sigmoid(z3)\n",
        "\n",
        "    return -np.sum(self.target_data*np.log(y+delta) + (1-self.target_data)*np.log((1-y)+delta))\n",
        "\n",
        "\n",
        "  def predict(self, input_data):\n",
        "\n",
        "    z2 = np.dot(input_data, self.W2) + self.b2\n",
        "    a2 = sigmoid(z2)\n",
        "\n",
        "    z3 = np.dot(a2, self.W3) + self.b3\n",
        "    y = a3 = sigmoid(z3)\n",
        "\n",
        "    if y >= 0.5:\n",
        "      result = 1\n",
        "    else:\n",
        "      result = 0\n",
        "\n",
        "    return y, result\n",
        "\n",
        "\n",
        "  def accuracy(self, input_data, target_data):\n",
        "\n",
        "    matched_list = []\n",
        "    unmatched_list = []\n",
        "\n",
        "    for i in range(len(input_data)):\n",
        "\n",
        "       (real_val, logical_val) = self.predict(input_data[i])\n",
        "\n",
        "       if logical_val == target_data[i]:\n",
        "         matched_list.append(i)\n",
        "       else:\n",
        "         unmatched_list.append(i)\n",
        "\n",
        "    accuracy_result = len(matched_list)/len(input_data)\n",
        "\n",
        "    return unmatched_list, accuracy_result\n",
        "\n",
        "  \n",
        "  def train(self, input_data, target_data):\n",
        "\n",
        "    self.input_data = input_data\n",
        "    self.target_data = target_data\n",
        "\n",
        "    f = lambda x : self.feed_forward()\n",
        "\n",
        "    self.W2 -= self.learning_rate * numerical_derivative(f,self.W2)\n",
        "    self.b2 -= self.learning_rate * numerical_derivative(f,self.b2)\n",
        "\n",
        "    self.W3 -= self.learning_rate * numerical_derivative(f,self.W3)\n",
        "    self.b3 -= self.learning_rate * numerical_derivative(f,self.b3)"
      ],
      "execution_count": 5,
      "outputs": []
    },
    {
      "cell_type": "markdown",
      "metadata": {
        "id": "p3tBJtnob5ID"
      },
      "source": [
        "### seperation rate = 0.3 "
      ]
    },
    {
      "cell_type": "code",
      "metadata": {
        "id": "6y2WAKa7KBxE",
        "outputId": "e15fc406-b8ba-4b5f-d92e-20e52fe2fc7f",
        "colab": {
          "base_uri": "https://localhost:8080/"
        }
      },
      "source": [
        "test_seperation_rate = 0.3\n",
        "target_position = -1\n",
        "\n",
        "data_obj = DataGeneration('Diabetes','drive/My Drive/AI_INOVATION_SQUARE/prac/(200309)diabetes.csv',test_seperation_rate,target_position)\n",
        "\n",
        "(training_data, test_data) = data_obj.generate()\n",
        "\n",
        "print(\"======================================================\")\n",
        "print(\"training data.shape = \",training_data.shape)\n",
        "print(\"test data.shape = \",test_data.shape)\n",
        "print(\"======================================================\")\n"
      ],
      "execution_count": 6,
      "outputs": [
        {
          "output_type": "stream",
          "text": [
            "Diabetes data generation start!\n",
            "[DataGeneration] loaded_data.shape =  (759, 9)\n",
            "===================================================================\n",
            "[DataGeneration] unique number of original data =  0.0 count =  263\n",
            "[DataGeneration] unique number of original data =  1.0 count =  496\n",
            "[DataGeneration] unique number of original data =  0.0 ratio =  34.65 %\n",
            "[DataGeneration] unique number of original data =  1.0 ratio =  65.35 %\n",
            "===================================================================\n",
            "===================================================================\n",
            "[DataGeneration] unique number of training data =  0.0 count =  180\n",
            "[DataGeneration] unique number of training data =  1.0 count =  352\n",
            "[DataGeneration] unique number of training data =  0.0 ratio =  33.83 %\n",
            "[DataGeneration] unique number of training data =  1.0 ratio =  66.17 %\n",
            "===================================================================\n",
            "===================================================================\n",
            "[DataGeneration] unique number of test data =  0.0 count =  83\n",
            "[DataGeneration] unique number of test data =  1.0 count =  144\n",
            "[DataGeneration] unique number of test data =  0.0 ratio =  36.56 %\n",
            "[DataGeneration] unique number of test data =  1.0 ratio =  63.44 %\n",
            "===================================================================\n",
            "======================================================\n",
            "training data.shape =  (532, 9)\n",
            "test data.shape =  (227, 9)\n",
            "======================================================\n"
          ],
          "name": "stdout"
        }
      ]
    },
    {
      "cell_type": "code",
      "metadata": {
        "id": "1VhX3_bxMT7c",
        "outputId": "a56393e7-acd8-4dad-d913-638cc00b48e8",
        "colab": {
          "base_uri": "https://localhost:8080/"
        }
      },
      "source": [
        "#hyper_parameter\n",
        "i_nodes = training_data.shape[1] - 1\n",
        "h_nodes = 20\n",
        "o_nodes = 1\n",
        "lr = 1e-2\n",
        "epochs = 20\n",
        "\n",
        "loss_val_list = []\n",
        "accuracy_val_list = []\n",
        "validation_accuracy_val_list = []\n",
        "\n",
        "obj1 = Diabetes('Diabetes', i_nodes, h_nodes, o_nodes, lr)\n",
        "\n",
        "print(\"Neural Network Learning using Numerical Derivative...\")\n",
        "\n",
        "start_time = datetime.now()\n",
        "\n",
        "for step in range(epochs):\n",
        "  \n",
        "  for i in range(len(training_data)):\n",
        "\n",
        "    input_data = training_data[i,0:-1]\n",
        "    target_data = training_data[i,[-1]]\n",
        "\n",
        "    obj1.train(input_data, target_data)\n",
        "\n",
        "  cur_loss_val = obj1.feed_forward()\n",
        "\n",
        "  loss_val_list.append(cur_loss_val)\n",
        "\n",
        "  (unmatched_list, training_accuracy) = obj1.accuracy(training_data[:,0:-1], training_data[:,-1])\n",
        "\n",
        "  (unmatched_list, validation_accuracy) = obj1.accuracy(test_data[:,0:-1], test_data[:,-1])\n",
        "\n",
        "  print(\"=============================================================================\")\n",
        "  print(\"step = \", step, \"current loss value = \", cur_loss_val,\"\\n\")\n",
        "  print(\"step = \", step, \"[training data] accuracy value = \",np.round(100*training_accuracy,4),'%')\n",
        "\n",
        "  accuracy_val_list.append(training_accuracy)\n",
        "\n",
        "  print(\"step = \", step, \"[validation data] accuracy value = \",np.round(100*validation_accuracy,4),'%')\n",
        "\n",
        "  validation_accuracy_val_list.append(validation_accuracy)\n",
        "\n",
        "print(\"=============================================================================\")\n",
        "\n",
        "end_time = datetime.now()\n",
        "\n",
        "print(\"\")\n",
        "print(\"Elapsed Time => \",end_time-start_time)"
      ],
      "execution_count": 7,
      "outputs": [
        {
          "output_type": "stream",
          "text": [
            "Diabetes is created!!!\n",
            "Neural Network Learning using Numerical Derivative...\n",
            "=============================================================================\n",
            "step =  0 current loss value =  0.941415889997816 \n",
            "\n",
            "step =  0 [training data] accuracy value =  65.7895 %\n",
            "step =  0 [validation data] accuracy value =  63.4361 %\n",
            "=============================================================================\n",
            "step =  1 current loss value =  0.9098947365871792 \n",
            "\n",
            "step =  1 [training data] accuracy value =  66.1654 %\n",
            "step =  1 [validation data] accuracy value =  63.4361 %\n",
            "=============================================================================\n",
            "step =  2 current loss value =  0.8966728583434534 \n",
            "\n",
            "step =  2 [training data] accuracy value =  66.1654 %\n",
            "step =  2 [validation data] accuracy value =  63.4361 %\n",
            "=============================================================================\n",
            "step =  3 current loss value =  0.8860055177334192 \n",
            "\n",
            "step =  3 [training data] accuracy value =  65.9774 %\n",
            "step =  3 [validation data] accuracy value =  64.3172 %\n",
            "=============================================================================\n",
            "step =  4 current loss value =  0.8770481633721524 \n",
            "\n",
            "step =  4 [training data] accuracy value =  67.6692 %\n",
            "step =  4 [validation data] accuracy value =  68.2819 %\n",
            "=============================================================================\n",
            "step =  5 current loss value =  0.8692596550669492 \n",
            "\n",
            "step =  5 [training data] accuracy value =  69.1729 %\n",
            "step =  5 [validation data] accuracy value =  71.8062 %\n",
            "=============================================================================\n",
            "step =  6 current loss value =  0.8622743191178924 \n",
            "\n",
            "step =  6 [training data] accuracy value =  69.9248 %\n",
            "step =  6 [validation data] accuracy value =  73.5683 %\n",
            "=============================================================================\n",
            "step =  7 current loss value =  0.8558437066934308 \n",
            "\n",
            "step =  7 [training data] accuracy value =  70.8647 %\n",
            "step =  7 [validation data] accuracy value =  75.3304 %\n",
            "=============================================================================\n",
            "step =  8 current loss value =  0.8498004310349236 \n",
            "\n",
            "step =  8 [training data] accuracy value =  71.4286 %\n",
            "step =  8 [validation data] accuracy value =  74.4493 %\n",
            "=============================================================================\n",
            "step =  9 current loss value =  0.8440339165594016 \n",
            "\n",
            "step =  9 [training data] accuracy value =  72.5564 %\n",
            "step =  9 [validation data] accuracy value =  74.4493 %\n",
            "=============================================================================\n",
            "step =  10 current loss value =  0.8384732903893319 \n",
            "\n",
            "step =  10 [training data] accuracy value =  72.9323 %\n",
            "step =  10 [validation data] accuracy value =  75.7709 %\n",
            "=============================================================================\n",
            "step =  11 current loss value =  0.8330749255166018 \n",
            "\n",
            "step =  11 [training data] accuracy value =  73.6842 %\n",
            "step =  11 [validation data] accuracy value =  77.0925 %\n",
            "=============================================================================\n",
            "step =  12 current loss value =  0.8278132219305926 \n",
            "\n",
            "step =  12 [training data] accuracy value =  74.4361 %\n",
            "step =  12 [validation data] accuracy value =  76.652 %\n",
            "=============================================================================\n",
            "step =  13 current loss value =  0.8226737810783851 \n",
            "\n",
            "step =  13 [training data] accuracy value =  74.812 %\n",
            "step =  13 [validation data] accuracy value =  76.2115 %\n",
            "=============================================================================\n",
            "step =  14 current loss value =  0.8176484472647783 \n",
            "\n",
            "step =  14 [training data] accuracy value =  75.188 %\n",
            "step =  14 [validation data] accuracy value =  77.0925 %\n",
            "=============================================================================\n",
            "step =  15 current loss value =  0.8127318615069771 \n",
            "\n",
            "step =  15 [training data] accuracy value =  75.5639 %\n",
            "step =  15 [validation data] accuracy value =  77.9736 %\n",
            "=============================================================================\n",
            "step =  16 current loss value =  0.8079192539283939 \n",
            "\n",
            "step =  16 [training data] accuracy value =  75.9398 %\n",
            "step =  16 [validation data] accuracy value =  77.533 %\n",
            "=============================================================================\n",
            "step =  17 current loss value =  0.8032052294503638 \n",
            "\n",
            "step =  17 [training data] accuracy value =  76.1278 %\n",
            "step =  17 [validation data] accuracy value =  77.533 %\n",
            "=============================================================================\n",
            "step =  18 current loss value =  0.7985833092521859 \n",
            "\n",
            "step =  18 [training data] accuracy value =  76.3158 %\n",
            "step =  18 [validation data] accuracy value =  77.533 %\n",
            "=============================================================================\n",
            "step =  19 current loss value =  0.794045998873237 \n",
            "\n",
            "step =  19 [training data] accuracy value =  75.9398 %\n",
            "step =  19 [validation data] accuracy value =  77.0925 %\n",
            "=============================================================================\n",
            "\n",
            "Elapsed Time =>  0:02:24.308475\n"
          ],
          "name": "stdout"
        }
      ]
    },
    {
      "cell_type": "code",
      "metadata": {
        "id": "QwHyDZABhuWm",
        "outputId": "b8d1b50f-96a3-406a-c993-bce4b20e2f23",
        "colab": {
          "base_uri": "https://localhost:8080/",
          "height": 295
        }
      },
      "source": [
        "plt.title('Training / Validation Accuracy Trend')\n",
        "plt.xlabel('epochs')\n",
        "plt.ylabel('Accuracy')\n",
        "plt.grid()\n",
        "plt.plot(accuracy_val_list)\n",
        "plt.plot(validation_accuracy_val_list)\n",
        "plt.legend(['training acc', 'validation acc'])\n",
        "\n",
        "plt.show()"
      ],
      "execution_count": 8,
      "outputs": [
        {
          "output_type": "display_data",
          "data": {
            "image/png": "[encoded data removed]",
            "text/plain": [
              "<Figure size 432x288 with 1 Axes>"
            ]
          },
          "metadata": {
            "tags": [],
            "needs_background": "light"
          }
        }
      ]
    },
    {
      "cell_type": "code",
      "metadata": {
        "id": "tywnr5P2kYgj",
        "outputId": "dfbc0d1d-1110-4169-b29f-9e4ff0c3bed1",
        "colab": {
          "base_uri": "https://localhost:8080/",
          "height": 295
        }
      },
      "source": [
        "plt.title('Loss Value Trend')\n",
        "plt.xlabel('epochs')\n",
        "plt.ylabel('Loss')\n",
        "plt.grid()\n",
        "plt.plot(loss_val_list)\n",
        "\n",
        "plt.show()"
      ],
      "execution_count": 9,
      "outputs": [
        {
          "output_type": "display_data",
          "data": {
            "image/png": "[encoded data removed]",
            "text/plain": [
              "<Figure size 432x288 with 1 Axes>"
            ]
          },
          "metadata": {
            "tags": [],
            "needs_background": "light"
          }
        }
      ]
    },
    {
      "cell_type": "markdown",
      "metadata": {
        "id": "JmU_Rl0As17L"
      },
      "source": [
        "###seperation rate 0.5"
      ]
    },
    {
      "cell_type": "code",
      "metadata": {
        "id": "AD5tOxzKsyGM",
        "outputId": "11dd5a04-f7ef-468c-99f9-e3c9ed7b4bf2",
        "colab": {
          "base_uri": "https://localhost:8080/"
        }
      },
      "source": [
        "test_seperation_rate = 0.5\n",
        "\n",
        "data_obj2 = DataGeneration('Diabetes','drive/My Drive/AI_INOVATION_SQUARE/prac/(200309)diabetes.csv', test_seperation_rate)\n",
        "\n",
        "(training_data, test_data) = data_obj2.generate()\n",
        "\n",
        "print(\"training data.shape = \",training_data.shape)\n",
        "print(\"test data.shape = \",test_data.shape)"
      ],
      "execution_count": 12,
      "outputs": [
        {
          "output_type": "stream",
          "text": [
            "Diabetes data generation start!\n",
            "[DataGeneration] loaded_data.shape =  (759, 9)\n",
            "===================================================================\n",
            "[DataGeneration] unique number of original data =  0.0 count =  263\n",
            "[DataGeneration] unique number of original data =  1.0 count =  496\n",
            "[DataGeneration] unique number of original data =  0.0 ratio =  34.65 %\n",
            "[DataGeneration] unique number of original data =  1.0 ratio =  65.35 %\n",
            "===================================================================\n",
            "===================================================================\n",
            "[DataGeneration] unique number of training data =  0.0 count =  134\n",
            "[DataGeneration] unique number of training data =  1.0 count =  246\n",
            "[DataGeneration] unique number of training data =  0.0 ratio =  35.26 %\n",
            "[DataGeneration] unique number of training data =  1.0 ratio =  64.74 %\n",
            "===================================================================\n",
            "===================================================================\n",
            "[DataGeneration] unique number of test data =  0.0 count =  129\n",
            "[DataGeneration] unique number of test data =  1.0 count =  250\n",
            "[DataGeneration] unique number of test data =  0.0 ratio =  34.04 %\n",
            "[DataGeneration] unique number of test data =  1.0 ratio =  65.96 %\n",
            "===================================================================\n",
            "training data.shape =  (380, 9)\n",
            "test data.shape =  (379, 9)\n"
          ],
          "name": "stdout"
        }
      ]
    },
    {
      "cell_type": "code",
      "metadata": {
        "id": "BBkkdI0YSCJw",
        "outputId": "3b244074-908d-4ff9-ec61-7a557959fe6c",
        "colab": {
          "base_uri": "https://localhost:8080/"
        }
      },
      "source": [
        "#hyper_parameter\n",
        "i_nodes = training_data.shape[1]-1\n",
        "h_nodes = 20\n",
        "o_nodes = 1\n",
        "learning_rate = 1e-2\n",
        "epochs = 20\n",
        "\n",
        "loss_val_list = []\n",
        "accuracy_val_list = []\n",
        "validation_accuracy_val_list = []\n",
        "\n",
        "obj2 = Diabetes('Diabetes',i_nodes,h_nodes,o_nodes,learning_rate)\n",
        "\n",
        "print(\"Neural Network Learning using Numerical Derivative...\")\n",
        "\n",
        "start_time = datetime.now()\n",
        "\n",
        "for step in range(epochs):\n",
        "  \n",
        "  for i in range(len(training_data)):\n",
        "\n",
        "    input_data = training_data[i:,0:-1]\n",
        "    target_data = training_data[i:,[-1]]\n",
        "\n",
        "    obj2.train(input_data,target_data)\n",
        "\n",
        "  cur_loss_val = obj2.feed_forward()\n",
        "\n",
        "  loss_val_list.append(cur_loss_val)\n",
        "\n",
        "  (unmatched_list,training_accuracy) = obj2.accuracy(training_data[:,0:-1],training_data[:,[-1]]) \n",
        "  (unmatched_list,validation_accuracy) = obj2.accuracy(training_data[:,0:-1],training_data[:,[-1]])\n",
        "\n",
        "  print(\"========================================================================\")\n",
        "  print(\"step = \",step,\", current loss value = \",cur_loss_val)\n",
        "  print(\"step = \",step,\",[training data] accuracy value = \", np.round(100*training_accuracy,4))\n",
        "  accuracy_val_list.append(training_accuracy)\n",
        "  print(\"step = \",step,\",[validation data] accuracy value = \",np.round(100*validation_accuracy,4))\n",
        "  validation_accuracy_val_list.append(validation_accuracy)\n",
        "print(\"==========================================================================\")\n",
        "\n",
        "end_time = datetime.now()\n",
        "\n",
        "print(\"\")\n",
        "print(\"Elapsed time =>\",end_time-start_time)"
      ],
      "execution_count": 27,
      "outputs": [
        {
          "output_type": "stream",
          "text": [
            "Diabetes is created!!!\n",
            "Neural Network Learning using Numerical Derivative...\n",
            "========================================================================\n",
            "step =  0 , current loss value =  0.06517647855775117\n",
            "step =  0 ,[training data] accuracy value =  75.3289\n",
            "step =  0 ,[validation data] accuracy value =  75.3289\n",
            "========================================================================\n",
            "step =  1 , current loss value =  0.043040217010321395\n",
            "step =  1 ,[training data] accuracy value =  75.1645\n",
            "step =  1 ,[validation data] accuracy value =  75.1645\n",
            "========================================================================\n",
            "step =  2 , current loss value =  0.03888505939797593\n",
            "step =  2 ,[training data] accuracy value =  73.6842\n",
            "step =  2 ,[validation data] accuracy value =  73.6842\n",
            "========================================================================\n",
            "step =  3 , current loss value =  0.03493197057389777\n",
            "step =  3 ,[training data] accuracy value =  74.6711\n",
            "step =  3 ,[validation data] accuracy value =  74.6711\n",
            "========================================================================\n",
            "step =  4 , current loss value =  0.023665707219228425\n",
            "step =  4 ,[training data] accuracy value =  73.8487\n",
            "step =  4 ,[validation data] accuracy value =  73.8487\n",
            "========================================================================\n",
            "step =  5 , current loss value =  0.013099093007962042\n",
            "step =  5 ,[training data] accuracy value =  75.4934\n",
            "step =  5 ,[validation data] accuracy value =  75.4934\n",
            "========================================================================\n",
            "step =  6 , current loss value =  0.012016270718687116\n",
            "step =  6 ,[training data] accuracy value =  74.3421\n",
            "step =  6 ,[validation data] accuracy value =  74.3421\n",
            "========================================================================\n",
            "step =  7 , current loss value =  0.004194231463940667\n",
            "step =  7 ,[training data] accuracy value =  74.3421\n",
            "step =  7 ,[validation data] accuracy value =  74.3421\n",
            "========================================================================\n",
            "step =  8 , current loss value =  0.001806528442632903\n",
            "step =  8 ,[training data] accuracy value =  75.0\n",
            "step =  8 ,[validation data] accuracy value =  75.0\n",
            "========================================================================\n",
            "step =  9 , current loss value =  0.0020910340070489503\n",
            "step =  9 ,[training data] accuracy value =  75.4934\n",
            "step =  9 ,[validation data] accuracy value =  75.4934\n",
            "========================================================================\n",
            "step =  10 , current loss value =  0.002171362859913268\n",
            "step =  10 ,[training data] accuracy value =  76.8092\n",
            "step =  10 ,[validation data] accuracy value =  76.8092\n",
            "========================================================================\n",
            "step =  11 , current loss value =  0.0019036724370926693\n",
            "step =  11 ,[training data] accuracy value =  77.4671\n",
            "step =  11 ,[validation data] accuracy value =  77.4671\n",
            "========================================================================\n",
            "step =  12 , current loss value =  0.0018783986910900945\n",
            "step =  12 ,[training data] accuracy value =  78.6184\n",
            "step =  12 ,[validation data] accuracy value =  78.6184\n",
            "========================================================================\n",
            "step =  13 , current loss value =  0.0025586988232712067\n",
            "step =  13 ,[training data] accuracy value =  80.2632\n",
            "step =  13 ,[validation data] accuracy value =  80.2632\n",
            "========================================================================\n",
            "step =  14 , current loss value =  0.004803551325584401\n",
            "step =  14 ,[training data] accuracy value =  80.5921\n",
            "step =  14 ,[validation data] accuracy value =  80.5921\n",
            "========================================================================\n",
            "step =  15 , current loss value =  0.009203022641867868\n",
            "step =  15 ,[training data] accuracy value =  82.5658\n",
            "step =  15 ,[validation data] accuracy value =  82.5658\n",
            "========================================================================\n",
            "step =  16 , current loss value =  0.010944929968499528\n",
            "step =  16 ,[training data] accuracy value =  83.7171\n",
            "step =  16 ,[validation data] accuracy value =  83.7171\n",
            "========================================================================\n",
            "step =  17 , current loss value =  0.00961915118770391\n",
            "step =  17 ,[training data] accuracy value =  85.5263\n",
            "step =  17 ,[validation data] accuracy value =  85.5263\n",
            "========================================================================\n",
            "step =  18 , current loss value =  0.009711927058628632\n",
            "step =  18 ,[training data] accuracy value =  87.1711\n",
            "step =  18 ,[validation data] accuracy value =  87.1711\n",
            "========================================================================\n",
            "step =  19 , current loss value =  0.008843766625365068\n",
            "step =  19 ,[training data] accuracy value =  88.1579\n",
            "step =  19 ,[validation data] accuracy value =  88.1579\n",
            "==========================================================================\n",
            "\n",
            "Elapsed time => 0:22:19.632553\n"
          ],
          "name": "stdout"
        }
      ]
    },
    {
      "cell_type": "code",
      "metadata": {
        "id": "CQNvDYrwasbv",
        "outputId": "6601278a-25ae-4ae3-badf-c1a2676e9ed2",
        "colab": {
          "base_uri": "https://localhost:8080/"
        }
      },
      "source": [
        "accuracy_val_list"
      ],
      "execution_count": 28,
      "outputs": [
        {
          "output_type": "execute_result",
          "data": {
            "text/plain": [
              "[0.7532894736842105,\n",
              " 0.7516447368421053,\n",
              " 0.7368421052631579,\n",
              " 0.7467105263157895,\n",
              " 0.7384868421052632,\n",
              " 0.7549342105263158,\n",
              " 0.743421052631579,\n",
              " 0.743421052631579,\n",
              " 0.75,\n",
              " 0.7549342105263158,\n",
              " 0.7680921052631579,\n",
              " 0.774671052631579,\n",
              " 0.7861842105263158,\n",
              " 0.8026315789473685,\n",
              " 0.805921052631579,\n",
              " 0.8256578947368421,\n",
              " 0.837171052631579,\n",
              " 0.8552631578947368,\n",
              " 0.8717105263157895,\n",
              " 0.881578947368421]"
            ]
          },
          "metadata": {
            "tags": []
          },
          "execution_count": 28
        }
      ]
    },
    {
      "cell_type": "code",
      "metadata": {
        "id": "NcwtAZrhVKKk",
        "outputId": "d353b234-e90d-43e5-af59-5f56db3b7791",
        "colab": {
          "base_uri": "https://localhost:8080/",
          "height": 295
        }
      },
      "source": [
        "plt.title('Training / Validation Accuracy Trend')\n",
        "plt.xlabel('epochs')\n",
        "plt.ylabel('Accuracy')\n",
        "plt.grid()\n",
        "plt.plot(accuracy_val_list)\n",
        "plt.plot(validation_accuracy_val_list)\n",
        "plt.legend(['training acc', 'validation acc'])\n",
        " \n",
        "plt.show()  "
      ],
      "execution_count": 31,
      "outputs": [
        {
          "output_type": "display_data",
          "data": {
            "image/png": "[encoded data removed]",
            "text/plain": [
              "<Figure size 432x288 with 1 Axes>"
            ]
          },
          "metadata": {
            "tags": [],
            "needs_background": "light"
          }
        }
      ]
    },
    {
      "cell_type": "code",
      "metadata": {
        "id": "Y3TECpoGYrjk",
        "outputId": "a534035c-814f-4145-cc64-0b97513f2d88",
        "colab": {
          "base_uri": "https://localhost:8080/",
          "height": 295
        }
      },
      "source": [
        "plt.title('Loss Value Trend')\n",
        "plt.xlabel('epochs')\n",
        "plt.ylabel('Loss')\n",
        "plt.grid()\n",
        "plt.plot(loss_val_list)\n",
        "\n",
        "plt.show()"
      ],
      "execution_count": 32,
      "outputs": [
        {
          "output_type": "display_data",
          "data": {
            "image/png": "[encoded data removed]",
            "text/plain": [
              "<Figure size 432x288 with 1 Axes>"
            ]
          },
          "metadata": {
            "tags": [],
            "needs_background": "light"
          }
        }
      ]
    },
    {
      "cell_type": "markdown",
      "metadata": {
        "id": "hxu-vVVFaQDO"
      },
      "source": [
        "###speration rate = 0.2"
      ]
    },
    {
      "cell_type": "code",
      "metadata": {
        "id": "VZsxSauOaNPn",
        "outputId": "6c58eb4e-b9d0-4e01-ef8d-e7e95bf62e6b",
        "colab": {
          "base_uri": "https://localhost:8080/"
        }
      },
      "source": [
        "test_seperation_rate = 0.2\n",
        "\n",
        "data_obj2 = DataGeneration('Diabetes','drive/My Drive/AI_INOVATION_SQUARE/prac/(200309)diabetes.csv', test_seperation_rate)\n",
        "\n",
        "(training_data, test_data) = data_obj2.generate()\n",
        "\n",
        "print(\"training data.shape = \",training_data.shape)\n",
        "print(\"test data.shape = \",test_data.shape)"
      ],
      "execution_count": 33,
      "outputs": [
        {
          "output_type": "stream",
          "text": [
            "Diabetes data generation start!\n",
            "[DataGeneration] loaded_data.shape =  (759, 9)\n",
            "===================================================================\n",
            "[DataGeneration] unique number of original data =  0.0 count =  263\n",
            "[DataGeneration] unique number of original data =  1.0 count =  496\n",
            "[DataGeneration] unique number of original data =  0.0 ratio =  34.65 %\n",
            "[DataGeneration] unique number of original data =  1.0 ratio =  65.35 %\n",
            "===================================================================\n",
            "===================================================================\n",
            "[DataGeneration] unique number of training data =  0.0 count =  212\n",
            "[DataGeneration] unique number of training data =  1.0 count =  396\n",
            "[DataGeneration] unique number of training data =  0.0 ratio =  34.87 %\n",
            "[DataGeneration] unique number of training data =  1.0 ratio =  65.13 %\n",
            "===================================================================\n",
            "===================================================================\n",
            "[DataGeneration] unique number of test data =  0.0 count =  51\n",
            "[DataGeneration] unique number of test data =  1.0 count =  100\n",
            "[DataGeneration] unique number of test data =  0.0 ratio =  33.77 %\n",
            "[DataGeneration] unique number of test data =  1.0 ratio =  66.23 %\n",
            "===================================================================\n",
            "training data.shape =  (608, 9)\n",
            "test data.shape =  (151, 9)\n"
          ],
          "name": "stdout"
        }
      ]
    },
    {
      "cell_type": "code",
      "metadata": {
        "id": "yiT-7SslbCuG",
        "outputId": "76f17075-c5a6-4e1e-ac95-da34bc088c35",
        "colab": {
          "base_uri": "https://localhost:8080/"
        }
      },
      "source": [
        "#hyper_parameter\n",
        "i_nodes = training_data.shape[1]-1\n",
        "h_nodes = 20\n",
        "o_nodes = 1\n",
        "learning_rate = 1e-2\n",
        "epochs = 20\n",
        "\n",
        "loss_val_list = []\n",
        "accuracy_val_list = []\n",
        "validation_accuracy_val_list = []\n",
        "\n",
        "obj2 = Diabetes('Diabetes',i_nodes,h_nodes,o_nodes,learning_rate)\n",
        "\n",
        "print(\"Neural Network Learning using Numerical Derivative...\")\n",
        "\n",
        "start_time = datetime.now()\n",
        "\n",
        "for step in range(epochs):\n",
        "  \n",
        "  for i in range(len(training_data)):\n",
        "\n",
        "    input_data = training_data[i:,0:-1]\n",
        "    target_data = training_data[i:,[-1]]\n",
        "\n",
        "    obj2.train(input_data,target_data)\n",
        "\n",
        "  cur_loss_val = obj2.feed_forward()\n",
        "\n",
        "  loss_val_list.append(cur_loss_val)\n",
        "\n",
        "  (unmatched_list,training_accuracy) = obj2.accuracy(training_data[:,0:-1],training_data[:,[-1]]) \n",
        "  (unmatched_list,validation_accuracy) = obj2.accuracy(training_data[:,0:-1],training_data[:,[-1]])\n",
        "\n",
        "  print(\"========================================================================\")\n",
        "  print(\"step = \",step,\", current loss value = \",cur_loss_val)\n",
        "  print(\"step = \",step,\",[training data] accuracy value = \", np.round(100*training_accuracy,4))\n",
        "  accuracy_val_list.append(training_accuracy)\n",
        "  print(\"step = \",step,\",[validation data] accuracy value = \",np.round(100*validation_accuracy,4))\n",
        "  validation_accuracy_val_list.append(validation_accuracy)\n",
        "print(\"==========================================================================\")\n",
        "\n",
        "end_time = datetime.now()\n",
        "\n",
        "print(\"\")\n",
        "print(\"Elapsed time =>\",end_time-start_time)"
      ],
      "execution_count": 34,
      "outputs": [
        {
          "output_type": "stream",
          "text": [
            "Diabetes is created!!!\n",
            "Neural Network Learning using Numerical Derivative...\n",
            "========================================================================\n",
            "step =  0 , current loss value =  0.14977760201436227\n",
            "step =  0 ,[training data] accuracy value =  76.8092\n",
            "step =  0 ,[validation data] accuracy value =  76.8092\n",
            "========================================================================\n",
            "step =  1 , current loss value =  0.08828669117359733\n",
            "step =  1 ,[training data] accuracy value =  77.6316\n",
            "step =  1 ,[validation data] accuracy value =  77.6316\n",
            "========================================================================\n",
            "step =  2 , current loss value =  0.04237692782801652\n",
            "step =  2 ,[training data] accuracy value =  80.9211\n",
            "step =  2 ,[validation data] accuracy value =  80.9211\n",
            "========================================================================\n",
            "step =  3 , current loss value =  0.022921325995632586\n",
            "step =  3 ,[training data] accuracy value =  82.0724\n",
            "step =  3 ,[validation data] accuracy value =  82.0724\n",
            "========================================================================\n",
            "step =  4 , current loss value =  0.01186338989434252\n",
            "step =  4 ,[training data] accuracy value =  81.7434\n",
            "step =  4 ,[validation data] accuracy value =  81.7434\n",
            "========================================================================\n",
            "step =  5 , current loss value =  0.006208967764426226\n",
            "step =  5 ,[training data] accuracy value =  82.2368\n",
            "step =  5 ,[validation data] accuracy value =  82.2368\n",
            "========================================================================\n",
            "step =  6 , current loss value =  0.0030488488554345048\n",
            "step =  6 ,[training data] accuracy value =  82.2368\n",
            "step =  6 ,[validation data] accuracy value =  82.2368\n",
            "========================================================================\n",
            "step =  7 , current loss value =  0.0011027928959615608\n",
            "step =  7 ,[training data] accuracy value =  83.0592\n",
            "step =  7 ,[validation data] accuracy value =  83.0592\n",
            "========================================================================\n",
            "step =  8 , current loss value =  0.0004959682503830463\n",
            "step =  8 ,[training data] accuracy value =  84.2105\n",
            "step =  8 ,[validation data] accuracy value =  84.2105\n",
            "========================================================================\n",
            "step =  9 , current loss value =  0.00023016746689434738\n",
            "step =  9 ,[training data] accuracy value =  85.3618\n",
            "step =  9 ,[validation data] accuracy value =  85.3618\n",
            "========================================================================\n",
            "step =  10 , current loss value =  0.00013915157567301393\n",
            "step =  10 ,[training data] accuracy value =  85.8553\n",
            "step =  10 ,[validation data] accuracy value =  85.8553\n",
            "========================================================================\n",
            "step =  11 , current loss value =  0.0001722735153958228\n",
            "step =  11 ,[training data] accuracy value =  86.1842\n",
            "step =  11 ,[validation data] accuracy value =  86.1842\n",
            "========================================================================\n",
            "step =  12 , current loss value =  0.000273768562354444\n",
            "step =  12 ,[training data] accuracy value =  86.5132\n",
            "step =  12 ,[validation data] accuracy value =  86.5132\n",
            "========================================================================\n",
            "step =  13 , current loss value =  0.0004886832852500193\n",
            "step =  13 ,[training data] accuracy value =  86.6776\n",
            "step =  13 ,[validation data] accuracy value =  86.6776\n",
            "========================================================================\n",
            "step =  14 , current loss value =  0.0014922669886356012\n",
            "step =  14 ,[training data] accuracy value =  87.6645\n",
            "step =  14 ,[validation data] accuracy value =  87.6645\n",
            "========================================================================\n",
            "step =  15 , current loss value =  0.004854060614526099\n",
            "step =  15 ,[training data] accuracy value =  88.1579\n",
            "step =  15 ,[validation data] accuracy value =  88.1579\n",
            "========================================================================\n",
            "step =  16 , current loss value =  0.004009149410838893\n",
            "step =  16 ,[training data] accuracy value =  88.6513\n",
            "step =  16 ,[validation data] accuracy value =  88.6513\n",
            "========================================================================\n",
            "step =  17 , current loss value =  0.004761998380287372\n",
            "step =  17 ,[training data] accuracy value =  88.8158\n",
            "step =  17 ,[validation data] accuracy value =  88.8158\n",
            "========================================================================\n",
            "step =  18 , current loss value =  0.0034558584118106026\n",
            "step =  18 ,[training data] accuracy value =  88.8158\n",
            "step =  18 ,[validation data] accuracy value =  88.8158\n",
            "========================================================================\n",
            "step =  19 , current loss value =  0.002068520440026495\n",
            "step =  19 ,[training data] accuracy value =  88.4868\n",
            "step =  19 ,[validation data] accuracy value =  88.4868\n",
            "==========================================================================\n",
            "\n",
            "Elapsed time => 0:22:26.585732\n"
          ],
          "name": "stdout"
        }
      ]
    },
    {
      "cell_type": "code",
      "metadata": {
        "id": "hvEXjE3qbGGt",
        "outputId": "95a8a3ba-be4e-44a5-b1fb-95b09d395be7",
        "colab": {
          "base_uri": "https://localhost:8080/",
          "height": 295
        }
      },
      "source": [
        "plt.title('Training / Validation Accuracy Trend')\n",
        "plt.xlabel('epochs')\n",
        "plt.ylabel('Accuracy')\n",
        "plt.grid()\n",
        "plt.plot(accuracy_val_list)\n",
        "plt.plot(validation_accuracy_val_list)\n",
        "plt.legend(['training acc', 'validation acc'])\n",
        "\n",
        "plt.show()  "
      ],
      "execution_count": 35,
      "outputs": [
        {
          "output_type": "display_data",
          "data": {
            "image/png": "[encoded data removed]",
            "text/plain": [
              "<Figure size 432x288 with 1 Axes>"
            ]
          },
          "metadata": {
            "tags": [],
            "needs_background": "light"
          }
        }
      ]
    },
    {
      "cell_type": "code",
      "metadata": {
        "id": "xTWZiLWzbIZj",
        "outputId": "a063e240-29b7-4128-aef8-2e1d60da02f1",
        "colab": {
          "base_uri": "https://localhost:8080/",
          "height": 295
        }
      },
      "source": [
        "plt.title('Loss Value Trend')\n",
        "plt.xlabel('epochs')\n",
        "plt.ylabel('Loss')\n",
        "plt.grid()\n",
        "plt.plot(loss_val_list)\n",
        "\n",
        "plt.show()"
      ],
      "execution_count": 36,
      "outputs": [
        {
          "output_type": "display_data",
          "data": {
            "image/png": "[encoded data removed]",
            "text/plain": [
              "<Figure size 432x288 with 1 Axes>"
            ]
          },
          "metadata": {
            "tags": [],
            "needs_background": "light"
          }
        }
      ]
    },
    {
      "cell_type": "code",
      "metadata": {
        "id": "IkUSNAHVbKS4"
      },
      "source": [
        ""
      ],
      "execution_count": null,
      "outputs": []
    }
  ]
}